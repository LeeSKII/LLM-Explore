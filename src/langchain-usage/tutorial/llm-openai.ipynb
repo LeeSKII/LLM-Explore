{
 "cells": [
  {
   "cell_type": "markdown",
   "id": "8ad41e7a",
   "metadata": {},
   "source": [
    "# ChatOpenAI Class Usage Example"
   ]
  },
  {
   "cell_type": "code",
   "execution_count": 3,
   "id": "7aa70ccf",
   "metadata": {},
   "outputs": [],
   "source": [
    "import os\n",
    "from dotenv import load_dotenv\n",
    "from langchain_openai import ChatOpenAI\n",
    "\n",
    "load_dotenv()\n",
    "\n",
    "api_key = os.getenv(\"QWEN_API_KEY\")\n",
    "base_url = os.getenv(\"QWEN_API_BASE_URL\")"
   ]
  },
  {
   "cell_type": "markdown",
   "id": "ec456203",
   "metadata": {},
   "source": [
    "## Instantiate"
   ]
  },
  {
   "cell_type": "code",
   "execution_count": 5,
   "id": "892ac6a7",
   "metadata": {},
   "outputs": [],
   "source": [
    "llm = ChatOpenAI(model='qwen-plus-latest',api_key=api_key,base_url=base_url,temperature=0)"
   ]
  },
  {
   "cell_type": "markdown",
   "id": "9f315118",
   "metadata": {},
   "source": [
    "## Invoke"
   ]
  },
  {
   "cell_type": "code",
   "execution_count": 9,
   "id": "bd603d12",
   "metadata": {},
   "outputs": [
    {
     "data": {
      "text/plain": [
       "AIMessage(content=\"*轻轻抬起手，一片落叶飘落在掌心*\\n\\n天地之大，却总能在细微处见真章。你看这片落叶，春生秋落，看似短暂，却也完整地经历了它的时节。\\n\\n*将落叶轻轻放下，抬头望向远方*\\n\\n我曾游历四方，见过高山仰止，也遇过溪流潺潺。世人总想给万物定下高低贵贱，殊不知山不辞石，海不拒流。前些日子在一座书院讲学，有个年轻学子问我：'先生，如何才能超凡入圣？'我只告诉他，先学会看花开花落吧。\\n\\n*转身面对说话之人*\\n\\n你可曾有过这样的体会？在某个不经意的瞬间，突然明白了些什么。就像此刻的风，它既吹动了你的衣袂，也拂过了千里之外的竹林。你说，这风可有分别之心？\", additional_kwargs={'refusal': None}, response_metadata={'token_usage': {'completion_tokens': 190, 'prompt_tokens': 34, 'total_tokens': 224, 'completion_tokens_details': None, 'prompt_tokens_details': None}, 'model_name': 'qwen-plus-latest', 'system_fingerprint': None, 'id': 'chatcmpl-b0206b06-0367-9fea-a472-36f10654b373', 'service_tier': None, 'finish_reason': 'stop', 'logprobs': None}, id='run--6e0e74d4-c664-4a9f-8022-00f072e4ee43-0', usage_metadata={'input_tokens': 34, 'output_tokens': 190, 'total_tokens': 224, 'input_token_details': {}, 'output_token_details': {}})"
      ]
     },
     "execution_count": 9,
     "metadata": {},
     "output_type": "execute_result"
    }
   ],
   "source": [
    "messages = [\n",
    "    (\n",
    "        \"system\",\n",
    "        \"道可道非常道\",\n",
    "    ),\n",
    "    (\"human\", \"浮生与天地之间，一切法则归于平等。\"),\n",
    "]\n",
    "llm.invoke(messages)"
   ]
  },
  {
   "cell_type": "markdown",
   "id": "3c5cd61b",
   "metadata": {},
   "source": [
    "## Stream"
   ]
  },
  {
   "cell_type": "code",
   "execution_count": 12,
   "id": "901fd86d",
   "metadata": {},
   "outputs": [
    {
     "name": "stdout",
     "output_type": "stream",
     "text": [
      "content='' additional_kwargs={} response_metadata={} id='run--bddaf998-2a46-4add-9e61-0c2c914e799a'\n",
      "content='*' additional_kwargs={} response_metadata={} id='run--bddaf998-2a46-4add-9e61-0c2c914e799a'\n",
      "content='轻轻' additional_kwargs={} response_metadata={} id='run--bddaf998-2a46-4add-9e61-0c2c914e799a'\n",
      "content='抬起' additional_kwargs={} response_metadata={} id='run--bddaf998-2a46-4add-9e61-0c2c914e799a'\n",
      "content='手' additional_kwargs={} response_metadata={} id='run--bddaf998-2a46-4add-9e61-0c2c914e799a'\n",
      "content='，一片落叶飘' additional_kwargs={} response_metadata={} id='run--bddaf998-2a46-4add-9e61-0c2c914e799a'\n",
      "content='落在掌心*\\n\\n' additional_kwargs={} response_metadata={} id='run--bddaf998-2a46-4add-9e61-0c2c914e799a'\n",
      "content='天地有情，' additional_kwargs={} response_metadata={} id='run--bddaf998-2a46-4add-9e61-0c2c914e799a'\n",
      "content='却无言。' additional_kwargs={} response_metadata={} id='run--bddaf998-2a46-4add-9e61-0c2c914e799a'\n",
      "content='你看这片叶子，' additional_kwargs={} response_metadata={} id='run--bddaf998-2a46-4add-9e61-0c2c914e799a'\n",
      "content='生于春日的' additional_kwargs={} response_metadata={} id='run--bddaf998-2a46-4add-9e61-0c2c914e799a'\n",
      "content='暖阳，盛' additional_kwargs={} response_metadata={} id='run--bddaf998-2a46-4add-9e61-0c2c914e799a'\n",
      "content='于夏日的风雨' additional_kwargs={} response_metadata={} id='run--bddaf998-2a46-4add-9e61-0c2c914e799a'\n",
      "content='，最终归于' additional_kwargs={} response_metadata={} id='run--bddaf998-2a46-4add-9e61-0c2c914e799a'\n",
      "content='秋风的怀抱' additional_kwargs={} response_metadata={} id='run--bddaf998-2a46-4add-9e61-0c2c914e799a'\n",
      "content='。这便是道' additional_kwargs={} response_metadata={} id='run--bddaf998-2a46-4add-9e61-0c2c914e799a'\n",
      "content='的痕迹啊。\\n\\n' additional_kwargs={} response_metadata={} id='run--bddaf998-2a46-4add-9e61-0c2c914e799a'\n",
      "content='老朽在山' additional_kwargs={} response_metadata={} id='run--bddaf998-2a46-4add-9e61-0c2c914e799a'\n",
      "content='中修行多年，' additional_kwargs={} response_metadata={} id='run--bddaf998-2a46-4add-9e61-0c2c914e799a'\n",
      "content='见过花开有时，' additional_kwargs={} response_metadata={} id='run--bddaf998-2a46-4add-9e61-0c2c914e799a'\n",
      "content='听过溪水潺' additional_kwargs={} response_metadata={} id='run--bddaf998-2a46-4add-9e61-0c2c914e799a'\n",
      "content='潺。你可知' additional_kwargs={} response_metadata={} id='run--bddaf998-2a46-4add-9e61-0c2c914e799a'\n",
      "content='为何山间野' additional_kwargs={} response_metadata={} id='run--bddaf998-2a46-4add-9e61-0c2c914e799a'\n",
      "content='花不因无人' additional_kwargs={} response_metadata={} id='run--bddaf998-2a46-4add-9e61-0c2c914e799a'\n",
      "content='欣赏而不开？' additional_kwargs={} response_metadata={} id='run--bddaf998-2a46-4add-9e61-0c2c914e799a'\n",
      "content='为何夜空星辰' additional_kwargs={} response_metadata={} id='run--bddaf998-2a46-4add-9e61-0c2c914e799a'\n",
      "content='不因无人仰' additional_kwargs={} response_metadata={} id='run--bddaf998-2a46-4add-9e61-0c2c914e799a'\n",
      "content='望而不亮？\\n\\n' additional_kwargs={} response_metadata={} id='run--bddaf998-2a46-4add-9e61-0c2c914e799a'\n",
      "content='*轻轻合上' additional_kwargs={} response_metadata={} id='run--bddaf998-2a46-4add-9e61-0c2c914e799a'\n",
      "content='手掌，闭目' additional_kwargs={} response_metadata={} id='run--bddaf998-2a46-4add-9e61-0c2c914e799a'\n",
      "content='感受着落叶的' additional_kwargs={} response_metadata={} id='run--bddaf998-2a46-4add-9e61-0c2c914e799a'\n",
      "content='纹路*\\n\\n或许' additional_kwargs={} response_metadata={} id='run--bddaf998-2a46-4add-9e61-0c2c914e799a'\n",
      "content='你心中也有疑惑' additional_kwargs={} response_metadata={} id='run--bddaf998-2a46-4add-9e61-0c2c914e799a'\n",
      "content='吧？说说' additional_kwargs={} response_metadata={} id='run--bddaf998-2a46-4add-9e61-0c2c914e799a'\n",
      "content='看，是什么让你' additional_kwargs={} response_metadata={} id='run--bddaf998-2a46-4add-9e61-0c2c914e799a'\n",
      "content='来到这里寻求答案' additional_kwargs={} response_metadata={} id='run--bddaf998-2a46-4add-9e61-0c2c914e799a'\n",
      "content='呢？' additional_kwargs={} response_metadata={} id='run--bddaf998-2a46-4add-9e61-0c2c914e799a'\n",
      "content='' additional_kwargs={} response_metadata={'finish_reason': 'stop', 'model_name': 'qwen-plus-latest'} id='run--bddaf998-2a46-4add-9e61-0c2c914e799a'\n"
     ]
    }
   ],
   "source": [
    "for chunk in llm.stream(messages):\n",
    "    print(chunk,end='\\n')"
   ]
  },
  {
   "cell_type": "code",
   "execution_count": 13,
   "id": "4a5a79f3",
   "metadata": {},
   "outputs": [
    {
     "data": {
      "text/plain": [
       "AIMessageChunk(content='*轻轻抬起手，指尖在空中划过一道淡淡的轨迹*\\n\\n你说的这句话，让我想起当年在终南山上看云卷云舒的日子。那时我常想，天地间的一切真的平等吗？山间的野花与天边的明月，溪中的游鱼与林间的猛虎，它们之间何曾有过高下之分？\\n\\n*停顿片刻，目光温和地望着你*\\n\\n不过啊，若说这世间有什么是恒常不变的，那便是变化本身。你看那四季轮回，昼夜交替，看似循环往复，实则每片雪花都不同，每缕清风都独特。\\n\\n我记得有一次遇到一位老樵夫，他指着山顶的松树对我说：\"道长，您看这棵树，生时向阳，死时归土，不正是最好的安排吗？\"这话让我思索良久。\\n\\n你似乎对大道有所感悟，不知可愿与我在这青石上坐下，一同品茶论道？', additional_kwargs={}, response_metadata={'finish_reason': 'stop', 'model_name': 'qwen-plus-latest'}, id='run--43201c54-0b1c-4b79-89d1-6f27f6cfad79')"
      ]
     },
     "execution_count": 13,
     "metadata": {},
     "output_type": "execute_result"
    }
   ],
   "source": [
    "stream = llm.stream(messages)\n",
    "full = next(stream)\n",
    "for chunk in stream:\n",
    "    full += chunk\n",
    "full"
   ]
  },
  {
   "cell_type": "markdown",
   "id": "285fd42d",
   "metadata": {},
   "source": [
    "## Async"
   ]
  },
  {
   "cell_type": "code",
   "execution_count": 14,
   "id": "508112a3",
   "metadata": {},
   "outputs": [
    {
     "data": {
      "text/plain": [
       "AIMessage(content='*轻抚长须，眼中闪过一丝赞许*\\n\\n善哉，汝能悟此理。天地不仁，以万物为刍狗；圣人不仁，以百姓为刍狗。这世间万象，皆有其道。\\n\\n老朽观你眉宇间隐有风尘之色，却心怀大道，实属难得。不知你可愿与老朽在这青石台上对弈一局？棋子落处，自有天意。\\n\\n*摆开棋盘，手指棋盘*\\n\\n你看这黑白二子，正如天地阴阳，看似对立，实则相生。若你能在此局中窥见一二真意，或许便是你我有缘。', additional_kwargs={'refusal': None}, response_metadata={'token_usage': {'completion_tokens': 145, 'prompt_tokens': 34, 'total_tokens': 179, 'completion_tokens_details': None, 'prompt_tokens_details': None}, 'model_name': 'qwen-plus-latest', 'system_fingerprint': None, 'id': 'chatcmpl-ba0da37f-66df-960e-a611-601bb9e31ad0', 'service_tier': None, 'finish_reason': 'stop', 'logprobs': None}, id='run--56f3cc88-3600-46ea-b32b-a58a445b1dd8-0', usage_metadata={'input_tokens': 34, 'output_tokens': 145, 'total_tokens': 179, 'input_token_details': {}, 'output_token_details': {}})"
      ]
     },
     "execution_count": 14,
     "metadata": {},
     "output_type": "execute_result"
    }
   ],
   "source": [
    "await llm.ainvoke(messages)"
   ]
  },
  {
   "cell_type": "code",
   "execution_count": 19,
   "id": "febfe9d0",
   "metadata": {},
   "outputs": [
    {
     "data": {
      "text/plain": [
       "[AIMessage(content='*轻轻抬起手，一片落叶飘落在掌心*\\n\\n天地间万物看似平等，却各有其独特的轨迹。就像这片叶子，在风中翻转的姿态各不相同。你说的法则，是指生与死的轮回，还是强者与弱者的命运？\\n\\n*合上手掌，轻叹一声*\\n\\n我曾见过山崩地裂，也见过微尘起舞。在这浩渺天地间，或许真正的平等在于每片雪花都有它降落的方向。不知你对这世间的因果，又有什么见解？', additional_kwargs={'refusal': None}, response_metadata={'token_usage': {'completion_tokens': 109, 'prompt_tokens': 34, 'total_tokens': 143, 'completion_tokens_details': None, 'prompt_tokens_details': None}, 'model_name': 'qwen-plus-latest', 'system_fingerprint': None, 'id': 'chatcmpl-2d5f6495-2799-9d77-9ac1-b331c8fbd0fc', 'service_tier': None, 'finish_reason': 'stop', 'logprobs': None}, id='run--8414e095-29d8-43cf-8382-1f103b9aba26-0', usage_metadata={'input_tokens': 34, 'output_tokens': 109, 'total_tokens': 143, 'input_token_details': {}, 'output_token_details': {}})]"
      ]
     },
     "execution_count": 19,
     "metadata": {},
     "output_type": "execute_result"
    }
   ],
   "source": [
    "await llm.abatch([messages])"
   ]
  },
  {
   "cell_type": "markdown",
   "id": "bb8ce428",
   "metadata": {},
   "source": [
    "## Tool calling"
   ]
  },
  {
   "cell_type": "code",
   "execution_count": 20,
   "id": "9e60d1ee",
   "metadata": {},
   "outputs": [
    {
     "data": {
      "text/plain": [
       "[{'name': 'GetWeather',\n",
       "  'args': {'location': 'Los Angeles, CA'},\n",
       "  'id': 'call_cff42842068e47aa9e56e2',\n",
       "  'type': 'tool_call'}]"
      ]
     },
     "execution_count": 20,
     "metadata": {},
     "output_type": "execute_result"
    }
   ],
   "source": [
    "from pydantic import BaseModel, Field\n",
    "\n",
    "\n",
    "class GetWeather(BaseModel):\n",
    "    '''Get the current weather in a given location'''\n",
    "\n",
    "    location: str = Field(\n",
    "        ..., description=\"The city and state, e.g. San Francisco, CA\"\n",
    "    )\n",
    "\n",
    "\n",
    "class GetPopulation(BaseModel):\n",
    "    '''Get the current population in a given location'''\n",
    "\n",
    "    location: str = Field(\n",
    "        ..., description=\"The city and state, e.g. San Francisco, CA\"\n",
    "    )\n",
    "\n",
    "\n",
    "llm_with_tools = llm.bind_tools(\n",
    "    [GetWeather, GetPopulation]\n",
    "    # strict = True  # enforce tool args schema is respected\n",
    ")\n",
    "ai_msg = llm_with_tools.invoke(\n",
    "    \"Which city is hotter today and which is bigger: LA or NY?\"\n",
    ")\n",
    "ai_msg.tool_calls"
   ]
  },
  {
   "cell_type": "code",
   "execution_count": 21,
   "id": "5015062c",
   "metadata": {},
   "outputs": [
    {
     "data": {
      "text/plain": [
       "AIMessage(content='', additional_kwargs={'tool_calls': [{'id': 'call_cff42842068e47aa9e56e2', 'function': {'arguments': '{\"location\": \"Los Angeles, CA\"}', 'name': 'GetWeather'}, 'type': 'function', 'index': 0}], 'refusal': None}, response_metadata={'token_usage': {'completion_tokens': 91, 'prompt_tokens': 258, 'total_tokens': 349, 'completion_tokens_details': None, 'prompt_tokens_details': None}, 'model_name': 'qwen-plus-latest', 'system_fingerprint': None, 'id': 'chatcmpl-66fd1de3-8ebf-9d7d-b4ed-186559db22b5', 'service_tier': None, 'finish_reason': 'tool_calls', 'logprobs': None}, id='run--5aa54186-3dd6-4603-aaca-5a2ccde9aabd-0', tool_calls=[{'name': 'GetWeather', 'args': {'location': 'Los Angeles, CA'}, 'id': 'call_cff42842068e47aa9e56e2', 'type': 'tool_call'}], usage_metadata={'input_tokens': 258, 'output_tokens': 91, 'total_tokens': 349, 'input_token_details': {}, 'output_token_details': {}})"
      ]
     },
     "execution_count": 21,
     "metadata": {},
     "output_type": "execute_result"
    }
   ],
   "source": [
    "ai_msg"
   ]
  },
  {
   "cell_type": "code",
   "execution_count": 22,
   "id": "e86dc182",
   "metadata": {},
   "outputs": [
    {
     "data": {
      "text/plain": [
       "'{\\n  \"random_ints\": [42, 5, 18, 93, 27, 61, 10, 84, 3, 55]\\n}'"
      ]
     },
     "execution_count": 22,
     "metadata": {},
     "output_type": "execute_result"
    }
   ],
   "source": [
    "json_llm = llm.bind(response_format={\"type\": \"json_object\"})\n",
    "ai_msg = json_llm.invoke(\n",
    "    \"Return a JSON object with key 'random_ints' and a value of 10 random ints in [0-99]\"\n",
    ")\n",
    "ai_msg.content"
   ]
  },
  {
   "cell_type": "code",
   "execution_count": null,
   "id": "fcc070d3",
   "metadata": {},
   "outputs": [],
   "source": []
  }
 ],
 "metadata": {
  "kernelspec": {
   "display_name": ".venv",
   "language": "python",
   "name": "python3"
  },
  "language_info": {
   "codemirror_mode": {
    "name": "ipython",
    "version": 3
   },
   "file_extension": ".py",
   "mimetype": "text/x-python",
   "name": "python",
   "nbconvert_exporter": "python",
   "pygments_lexer": "ipython3",
   "version": "3.12.8"
  }
 },
 "nbformat": 4,
 "nbformat_minor": 5
}
