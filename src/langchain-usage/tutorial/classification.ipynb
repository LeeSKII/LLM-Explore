{
 "cells": [
  {
   "cell_type": "markdown",
   "id": "8333da0e",
   "metadata": {},
   "source": [
    "## Structured output\n",
    "\n",
    "只有GPT系列的模型验证通过了测试，deepseek和qwen都失败了，但是这两个模型通过agno的提示词约束，以json_mode模式可以成功运行。（但是这是有几率失败的）\n",
    "\n",
    "国内的模型在工程化应用的方面，还有距离，一开始是function call，现在是structured output。应用基础还待完善"
   ]
  },
  {
   "cell_type": "code",
   "execution_count": null,
   "id": "6a5c703f",
   "metadata": {},
   "outputs": [],
   "source": [
    "import os\n",
    "from dotenv import load_dotenv\n",
    "from langchain.chat_models import init_chat_model\n",
    "\n",
    "load_dotenv()\n",
    "\n",
    "api_key = os.getenv(\"QWEN_API_KEY\")\n",
    "base_url = os.getenv(\"QWEN_API_BASE_URL\")"
   ]
  },
  {
   "cell_type": "code",
   "execution_count": 26,
   "id": "35773735",
   "metadata": {},
   "outputs": [],
   "source": [
    "deepseek_settings = {\n",
    "  'api_key' : os.getenv(\"DEEPSEEK_API_KEY\"),\n",
    "  'base_url' : os.getenv(\"DEEPSEEK_API_BASE_URL\"),\n",
    "  'id' : 'deepseek-chat'\n",
    "}"
   ]
  },
  {
   "cell_type": "code",
   "execution_count": 43,
   "id": "a759a0cb",
   "metadata": {},
   "outputs": [],
   "source": [
    "gpt_settings = {\n",
    "  'api_key' : os.getenv(\"OPENROUTER_API_KEY\"),\n",
    "  'base_url' : os.getenv(\"OPENROUTER_BASE_URL\"),\n",
    "  'id' : 'openai/gpt-4.1-nano'\n",
    "}"
   ]
  },
  {
   "cell_type": "code",
   "execution_count": 27,
   "id": "6765d26b",
   "metadata": {},
   "outputs": [],
   "source": [
    "llm = init_chat_model(model='qwen-plus-latest',api_key=api_key,base_url=base_url,model_provider='openai')"
   ]
  },
  {
   "cell_type": "code",
   "execution_count": 28,
   "id": "db86f08a",
   "metadata": {},
   "outputs": [],
   "source": [
    "llm = init_chat_model(model=deepseek_settings['id'],api_key=deepseek_settings['api_key'],base_url=deepseek_settings['base_url'],model_provider='openai')"
   ]
  },
  {
   "cell_type": "code",
   "execution_count": 2,
   "id": "71c9d6ca",
   "metadata": {},
   "outputs": [],
   "source": [
    "llm = init_chat_model(\"gemini-2.0-flash\", model_provider=\"google_genai\")"
   ]
  },
  {
   "cell_type": "code",
   "execution_count": 45,
   "id": "90ab95b1",
   "metadata": {},
   "outputs": [],
   "source": [
    "llm = init_chat_model(model=gpt_settings['id'],api_key=gpt_settings['api_key'],base_url=gpt_settings['base_url'],model_provider='openai')"
   ]
  },
  {
   "cell_type": "code",
   "execution_count": 44,
   "id": "1263b576",
   "metadata": {},
   "outputs": [],
   "source": [
    "from langchain_core.prompts import ChatPromptTemplate\n",
    "from textwrap import dedent\n",
    "\n",
    "human_message = dedent(\"\"\"\\\n",
    "Extract the desired information from the following passage.\n",
    "\n",
    "Only extract the properties mentioned in the 'Classification' json.\n",
    "\n",
    "Passage:\n",
    "{input}\"\"\")\n",
    "\n",
    "tagging_prompt = ChatPromptTemplate.from_messages([('user',human_message)])"
   ]
  },
  {
   "cell_type": "code",
   "execution_count": 46,
   "id": "c350c6a5",
   "metadata": {},
   "outputs": [],
   "source": [
    "from pydantic import BaseModel,Field\n",
    "\n",
    "class Classification(BaseModel):\n",
    "    sentiment:str = Field(description=\"The sentiment of the text.\")\n",
    "    aggressiveness: int = Field(\n",
    "        description=\"How aggressive the text is on a scale from 1 to 10\"\n",
    "    )\n",
    "    language: str = Field(description=\"The language the text is written in\")\n",
    "\n",
    "structured_llm = llm.with_structured_output(Classification)"
   ]
  },
  {
   "cell_type": "code",
   "execution_count": 47,
   "id": "f80fe588",
   "metadata": {},
   "outputs": [
    {
     "data": {
      "text/plain": [
       "ChatPromptValue(messages=[HumanMessage(content=\"Extract the desired information from the following passage.\\n\\nOnly extract the properties mentioned in the 'Classification' json.\\n\\nPassage:\\n碟中谍8真的感觉一般!\", additional_kwargs={}, response_metadata={})])"
      ]
     },
     "execution_count": 47,
     "metadata": {},
     "output_type": "execute_result"
    }
   ],
   "source": [
    "inp = \"碟中谍8真的感觉一般!\"\n",
    "\n",
    "prompt = tagging_prompt.invoke({'input': inp})\n",
    "prompt"
   ]
  },
  {
   "cell_type": "code",
   "execution_count": 48,
   "id": "1e635508",
   "metadata": {},
   "outputs": [],
   "source": [
    "response = structured_llm.invoke(prompt)"
   ]
  },
  {
   "cell_type": "code",
   "execution_count": 49,
   "id": "2a96ff56",
   "metadata": {},
   "outputs": [
    {
     "data": {
      "text/plain": [
       "Classification(sentiment='Negative', aggressiveness=6, language='Chinese')"
      ]
     },
     "execution_count": 49,
     "metadata": {},
     "output_type": "execute_result"
    }
   ],
   "source": [
    "response"
   ]
  },
  {
   "cell_type": "code",
   "execution_count": null,
   "id": "10514c54",
   "metadata": {},
   "outputs": [],
   "source": []
  }
 ],
 "metadata": {
  "kernelspec": {
   "display_name": ".venv",
   "language": "python",
   "name": "python3"
  },
  "language_info": {
   "codemirror_mode": {
    "name": "ipython",
    "version": 3
   },
   "file_extension": ".py",
   "mimetype": "text/x-python",
   "name": "python",
   "nbconvert_exporter": "python",
   "pygments_lexer": "ipython3",
   "version": "3.12.8"
  }
 },
 "nbformat": 4,
 "nbformat_minor": 5
}
