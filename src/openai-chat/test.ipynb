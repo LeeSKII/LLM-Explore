{
 "cells": [
  {
   "cell_type": "code",
   "execution_count": 2,
   "id": "5c9f51bf",
   "metadata": {},
   "outputs": [],
   "source": [
    "import sys\n",
    "sys.path.append('../')  # 添加上级目录从而可以导入本地包\n",
    "from utils.llms import chat_with_llm"
   ]
  },
  {
   "cell_type": "code",
   "execution_count": 66,
   "id": "c10951c3",
   "metadata": {},
   "outputs": [],
   "source": [
    "import os\n",
    "from dotenv import load_dotenv\n",
    "load_dotenv()\n",
    "api_key = \"123\"\n",
    "base_url = os.getenv(\"SELF_HOST_URL\")"
   ]
  },
  {
   "cell_type": "code",
   "execution_count": 3,
   "id": "bdb3ae22",
   "metadata": {},
   "outputs": [],
   "source": [
    "import base64\n",
    "# Function to encode the image\n",
    "def encode_image(image_path):\n",
    "    with open(image_path, \"rb\") as image_file:\n",
    "        return base64.b64encode(image_file.read()).decode(\"utf-8\")"
   ]
  },
  {
   "cell_type": "code",
   "execution_count": 115,
   "id": "7a235eec",
   "metadata": {},
   "outputs": [],
   "source": [
    "# Path to your image\n",
    "image_path = r\"d:\\CIE-CNuser\\11798\\桌面\\微信截图_20250412151618.bmp\"\n",
    "image_path = r'd:\\CIE-CNuser\\11798\\桌面\\IMG_20231115_200155.jpg'\n",
    "image_path = r\"D:\\【个人工作】\\【2023】\\图纸审核\\图纸审核\\2.jpg\"\n",
    "image_path = r\"d:\\CIE-CNuser\\11798\\桌面\\invoice.png\"\n",
    "# Getting the Base64 string\n",
    "base64_image = encode_image(image_path)"
   ]
  },
  {
   "cell_type": "code",
   "execution_count": 112,
   "id": "214db0e9",
   "metadata": {},
   "outputs": [],
   "source": [
    "system_prompt = [{\n",
    "    'role':'system',\n",
    "    'content':''\n",
    "}]"
   ]
  },
  {
   "cell_type": "code",
   "execution_count": 116,
   "id": "17c0984c",
   "metadata": {},
   "outputs": [],
   "source": [
    "message = [\n",
    "    {     \n",
    "       'role':'user','content':[\n",
    "        {\n",
    "          \"type\": \"text\",\n",
    "          \"text\": \"这是一张发票，请识别发票信息，thinging it step by step，写出思考过程，输出成json格式，包含键：发票代码，发票号码，开票日期，校验码，购买方名称，货物，数量，单价，金额，价税合计（数值类型），备注。\"\n",
    "        },\n",
    "        {\n",
    "          \"type\": \"image_url\",\n",
    "          \"image_url\": {\n",
    "              \"url\": f\"data:image/jpeg;base64,{base64_image}\",\n",
    "           },\n",
    "        }\n",
    "      ]\n",
    "    }\n",
    "]"
   ]
  },
  {
   "cell_type": "code",
   "execution_count": 113,
   "id": "8a0263b2",
   "metadata": {},
   "outputs": [],
   "source": [
    "message = [\n",
    "    {     \n",
    "       'role':'user','content':[\n",
    "        {\n",
    "          \"type\": \"text\",\n",
    "          \"text\": \"这是一张设别表格图纸，请识别图纸上的设备信息，thinging it step by step，写出思考过程，输出成json格式，包含键：序号，名称，规格，材料，单位，数量，单件，合计，备注。\"\n",
    "        },\n",
    "        {\n",
    "          \"type\": \"image_url\",\n",
    "          \"image_url\": {\n",
    "              \"url\": f\"data:image/jpeg;base64,{base64_image}\",\n",
    "           },\n",
    "        }\n",
    "      ]\n",
    "    }\n",
    "]"
   ]
  },
  {
   "cell_type": "code",
   "execution_count": 114,
   "id": "2e4f18a6",
   "metadata": {},
   "outputs": [],
   "source": [
    "message = [\n",
    "    {     \n",
    "       'role':'user','content':[\n",
    "        {\n",
    "          \"type\": \"text\",\n",
    "          \"text\": \"这是一张中冶长天国际工程有限责任公司的设计图纸，请识别角落中图签栏的信息，这是一个表格信息，对应的键值在同一行。图签栏只有一个，工程名称和图纸名称所在的角落为图签栏，请先think this task step by step,写出推理过程。然后给出json格式的回答，json格式的回答应该包含以下键：工程名称，图纸名称，图幅，比例，图号，完成日期\"\n",
    "        },\n",
    "        {\n",
    "          \"type\": \"image_url\",\n",
    "          \"image_url\": {\n",
    "              \"url\": f\"data:image/jpeg;base64,{base64_image}\",\n",
    "           },\n",
    "        }\n",
    "      ]\n",
    "    }\n",
    "]"
   ]
  },
  {
   "cell_type": "code",
   "execution_count": 117,
   "id": "730305fe",
   "metadata": {},
   "outputs": [
    {
     "name": "stdout",
     "output_type": "stream",
     "text": [
      "### 思考过程：\n",
      "1. **识别发票代码**：\n",
      "   - 发票代码通常位于发票的右上角，格式为12位数字。\n",
      "   - 从图片中可以看到发票代码为：**043002300111**。\n",
      "\n",
      "2. **识别发票号码**：\n",
      "   - 发票号码通常位于发票代码下方，格式为8位数字。\n",
      "   - 从图片中可以看到发票号码为：**40653865**。\n",
      "\n",
      "3. **识别开票日期**：\n",
      "   - 开票日期通常位于发票的右上角，格式为年-月-日。\n",
      "   - 从图片中可以看到开票日期为：**2024年02月03日**。\n",
      "\n",
      "4. **识别校验码**：\n",
      "   - 校验码通常位于发票的右上角，格式为一串数字。\n",
      "   - 从图片中可以看到校验码为：**69741969603666285841**。\n",
      "\n",
      "5. **识别购买方信息**：\n",
      "   - 购买方信息包括名称、纳税人识别号、地址、电话、开户行及账号。\n",
      "   - 从图片中可以看到购买方名称为：**李思齐**。\n",
      "   - 纳税人识别号、地址、电话和开户行及账号未填写，因此这些字段为空。\n",
      "\n",
      "6. **识别货物信息**：\n",
      "   - 货物信息包括货物或应税劳务、服务名称，规格型号，单位，数量，单价，金额，税率，税额。\n",
      "   - 从图片中可以看到货物或应税劳务、服务名称为：**电信服务*通信服务费**。\n",
      "   - 规格型号为空。\n",
      "   - 单位为空。\n",
      "   - 数量为：**1**。\n",
      "   - 单价为：**58.20**。\n",
      "   - 金额为：**58.20**。\n",
      "   - 税率为空。\n",
      "   - 税额为空。\n",
      "\n",
      "7. **识别价税合计**：\n",
      "   - 价税合计包括大写和小写金额。\n",
      "   - 从图片中可以看到价税合计为：**伍拾捌圆整**（大写），**¥58.00**（小写）。\n",
      "\n",
      "8. **识别销售方信息**：\n",
      "   - 销售方信息包括名称、纳税人识别号、地址、电话、开户行及账号。\n",
      "   - 从图片中可以看到销售方名称为：**中国移动通信集团湖南有限公司长沙分公司**。\n",
      "   - 纳税人识别号为：**914301007121984812**。\n",
      "   - 地址为：**湖南省长沙市天心区芙蓉中路三段446号0731-83592079**。\n",
      "   - 开户行及账号为：**建行长沙铁银支行营业部43001710661050003739**。\n",
      "\n",
      "9. **识别备注信息**：\n",
      "   - 备注信息通常位于发票的底部。\n",
      "   - 从图片中可以看到备注为：**月结发票；账期：202401；折扣费：0.20手机号码：18890394223**。\n",
      "\n",
      "### 输出结果（JSON格式）：\n",
      "```json\n",
      "{\n",
      "  \"发票代码\": \"043002300111\",\n",
      "  \"发票号码\": \"40653865\",\n",
      "  \"开票日期\": \"2024-02-03\",\n",
      "  \"校验码\": \"69741969603666285841\",\n",
      "  \"购买方名称\": \"李思齐\",\n",
      "  \"购买方纳税人识别号\": \"\",\n",
      "  \"购买方地址、电话\": \"\",\n",
      "  \"购买方开户行及账号\": \"\",\n",
      "  \"货物\": [\n",
      "    {\n",
      "      \"货物或应税劳务、服务名称\": \"电信服务*通信服务费\",\n",
      "      \"规格型号\": \"\",\n",
      "      \"单位\": \"\",\n",
      "      \"数量\": 1,\n",
      "      \"单价\": 58.20,\n",
      "      \"金额\": 58.20,\n",
      "      \"税率\": \"*\",\n",
      "      \"税额\": \"*\"\n",
      "    }\n",
      "  ],\n",
      "  \"价税合计\": 58.00,\n",
      "  \"备注\": \"月结发票；账期：202401；折扣费：0.20手机号码：18890394223\",\n",
      "  \"销售方名称\": \"中国移动通信集团湖南有限公司长沙分公司\",\n",
      "  \"销售方纳税人识别号\": \"914301007121984812\",\n",
      "  \"销售方地址、电话\": \"湖南省长沙市天心区芙蓉中路三段446号0731-83592079\",\n",
      "  \"销售方开户行及账号\": \"建行长沙铁银支行营业部43001710661050003739\"\n",
      "}\n",
      "```\n",
      "\n",
      "### 总结：\n",
      "通过逐步识别发票上的关键信息，我们成功提取了所有必要的字段，并将其组织成JSON格式，方便后续使用。\n"
     ]
    }
   ],
   "source": [
    "result = chat_with_llm(message=message,api_key=api_key,base_url=base_url,model_name='/root/Qwen2.5-VL-32B-Instruct-AWQ',temperature=0)\n",
    "print(result)"
   ]
  },
  {
   "cell_type": "code",
   "execution_count": null,
   "id": "cbd2ae63",
   "metadata": {},
   "outputs": [],
   "source": []
  }
 ],
 "metadata": {
  "kernelspec": {
   "display_name": "Python 3",
   "language": "python",
   "name": "python3"
  },
  "language_info": {
   "codemirror_mode": {
    "name": "ipython",
    "version": 3
   },
   "file_extension": ".py",
   "mimetype": "text/x-python",
   "name": "python",
   "nbconvert_exporter": "python",
   "pygments_lexer": "ipython3",
   "version": "3.13.2"
  }
 },
 "nbformat": 4,
 "nbformat_minor": 5
}
