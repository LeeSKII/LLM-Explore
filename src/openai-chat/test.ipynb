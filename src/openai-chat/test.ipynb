{
 "cells": [
  {
   "cell_type": "code",
   "execution_count": 2,
   "id": "5c9f51bf",
   "metadata": {},
   "outputs": [],
   "source": [
    "import sys\n",
    "sys.path.append('../')  # 添加上级目录从而可以导入本地包\n",
    "from utils.llms import chat_with_llm"
   ]
  },
  {
   "cell_type": "code",
   "execution_count": 66,
   "id": "c10951c3",
   "metadata": {},
   "outputs": [],
   "source": [
    "import os\n",
    "from dotenv import load_dotenv\n",
    "load_dotenv()\n",
    "api_key = \"123\"\n",
    "base_url = os.getenv(\"SELF_HOST_URL\")"
   ]
  },
  {
   "cell_type": "code",
   "execution_count": 3,
   "id": "bdb3ae22",
   "metadata": {},
   "outputs": [],
   "source": [
    "import base64\n",
    "# Function to encode the image\n",
    "def encode_image(image_path):\n",
    "    with open(image_path, \"rb\") as image_file:\n",
    "        return base64.b64encode(image_file.read()).decode(\"utf-8\")"
   ]
  },
  {
   "cell_type": "code",
   "execution_count": 82,
   "id": "7a235eec",
   "metadata": {},
   "outputs": [],
   "source": [
    "# Path to your image\n",
    "image_path = r\"d:\\CIE-CNuser\\11798\\桌面\\微信截图_20250412151618.bmp\"\n",
    "image_path = r'd:\\CIE-CNuser\\11798\\桌面\\IMG_20231115_200155.jpg'\n",
    "image_path = r\"D:\\【个人工作】\\【2023】\\图纸审核\\图纸审核\\10.jpg\"\n",
    "# Getting the Base64 string\n",
    "base64_image = encode_image(image_path)"
   ]
  },
  {
   "cell_type": "code",
   "execution_count": 83,
   "id": "214db0e9",
   "metadata": {},
   "outputs": [],
   "source": [
    "system_prompt = [{\n",
    "    'role':'system',\n",
    "    'content':''\n",
    "}]"
   ]
  },
  {
   "cell_type": "code",
   "execution_count": 84,
   "id": "8a0263b2",
   "metadata": {},
   "outputs": [],
   "source": [
    "message = [\n",
    "    {     \n",
    "       'role':'user','content':[\n",
    "        {\n",
    "          \"type\": \"text\",\n",
    "          \"text\": \"这是一张设别表格图纸，请识别图纸上的设备信息，thinging it step by step，写出思考过程，输出成json格式，包含键：序号，名称，规格，材料，单位，数量，单件，合计，备注。\"\n",
    "        },\n",
    "        {\n",
    "          \"type\": \"image_url\",\n",
    "          \"image_url\": {\n",
    "              \"url\": f\"data:image/jpeg;base64,{base64_image}\",\n",
    "           },\n",
    "        }\n",
    "      ]\n",
    "    }\n",
    "]"
   ]
  },
  {
   "cell_type": "code",
   "execution_count": 85,
   "id": "2e4f18a6",
   "metadata": {},
   "outputs": [],
   "source": [
    "message = [\n",
    "    {     \n",
    "       'role':'user','content':[\n",
    "        {\n",
    "          \"type\": \"text\",\n",
    "          \"text\": \"这是一张设计图纸，请识别角落中图签栏的信息。图签栏只有一个，工程名称和图纸名称所在的角落为图签栏，请先think this task step by step,写出推理过程。然后给出json格式的回答，json格式的回答应该包含以下键：工程名称，图纸名称，图幅，图号，完成日期\"\n",
    "        },\n",
    "        {\n",
    "          \"type\": \"image_url\",\n",
    "          \"image_url\": {\n",
    "              \"url\": f\"data:image/jpeg;base64,{base64_image}\",\n",
    "           },\n",
    "        }\n",
    "      ]\n",
    "    }\n",
    "]"
   ]
  },
  {
   "cell_type": "code",
   "execution_count": 86,
   "id": "730305fe",
   "metadata": {},
   "outputs": [
    {
     "name": "stdout",
     "output_type": "stream",
     "text": [
      "### 思考过程：\n",
      "\n",
      "1. **识别图签栏位置**：\n",
      "   - 图签栏通常位于设计图纸的某个角落，通常包含工程名称、图纸名称、图幅、图号、完成日期等信息。\n",
      "   - 在这张图纸中，图签栏位于右下角。\n",
      "\n",
      "2. **提取图签栏信息**：\n",
      "   - **工程名称**：图签栏中通常会明确标注工程的名称。\n",
      "   - **图纸名称**：图纸的具体名称，可能包括编号和描述。\n",
      "   - **图幅**：图纸的尺寸规格，如A3、A4等。\n",
      "   - **图号**：图纸的编号，用于唯一标识该张图纸。\n",
      "   - **完成日期**：图纸的完成日期。\n",
      "\n",
      "3. **详细分析图签栏**：\n",
      "   - 在右下角的图签栏中，可以找到上述信息。\n",
      "\n",
      "### 识别结果：\n",
      "\n",
      "根据图签栏的内容，提取出以下信息：\n",
      "\n",
      "- **工程名称**：中冶长天国际工程有限责任公司\n",
      "- **图纸名称**：联合钢铁（大马）集团公司14m竖炉球团二期工程\n",
      "- **图幅**：A3\n",
      "- **图号**：18R409\n",
      "- **完成日期**：2023.05\n",
      "\n",
      "### JSON格式的回答：\n",
      "\n",
      "```json\n",
      "{\n",
      "  \"工程名称\": \"中冶长天国际工程有限责任公司\",\n",
      "  \"图纸名称\": \"联合钢铁（大马）集团公司14m竖炉球团二期工程\",\n",
      "  \"图幅\": \"A3\",\n",
      "  \"图号\": \"18R409\",\n",
      "  \"完成日期\": \"2023.05\"\n",
      "}\n",
      "```\n",
      "\n",
      "### 结论：\n",
      "通过仔细分析图签栏，提取出了所有必要的信息，并以JSON格式进行了组织和呈现。\n"
     ]
    }
   ],
   "source": [
    "result = chat_with_llm(message=message,api_key=api_key,base_url=base_url,model_name='/root/Qwen2.5-VL-32B-Instruct-AWQ',temperature=0)\n",
    "print(result)"
   ]
  },
  {
   "cell_type": "code",
   "execution_count": null,
   "id": "cbd2ae63",
   "metadata": {},
   "outputs": [],
   "source": []
  }
 ],
 "metadata": {
  "kernelspec": {
   "display_name": "Python 3",
   "language": "python",
   "name": "python3"
  },
  "language_info": {
   "codemirror_mode": {
    "name": "ipython",
    "version": 3
   },
   "file_extension": ".py",
   "mimetype": "text/x-python",
   "name": "python",
   "nbconvert_exporter": "python",
   "pygments_lexer": "ipython3",
   "version": "3.13.2"
  }
 },
 "nbformat": 4,
 "nbformat_minor": 5
}
