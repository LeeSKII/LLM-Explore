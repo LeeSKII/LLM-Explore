{
 "cells": [
  {
   "cell_type": "code",
   "execution_count": 1,
   "id": "7573bf80",
   "metadata": {},
   "outputs": [
    {
     "data": {
      "text/plain": [
       "True"
      ]
     },
     "execution_count": 1,
     "metadata": {},
     "output_type": "execute_result"
    }
   ],
   "source": [
    "from openai import OpenAI\n",
    "import os\n",
    "from dotenv import load_dotenv\n",
    "load_dotenv()"
   ]
  },
  {
   "cell_type": "code",
   "execution_count": 2,
   "id": "87285767",
   "metadata": {},
   "outputs": [],
   "source": [
    "api_key=os.getenv(\"QWEN_API_KEY\")\n",
    "base_url=os.getenv(\"QWEN_API_BASE_URL\")"
   ]
  },
  {
   "cell_type": "code",
   "execution_count": 3,
   "id": "37ca3b7e",
   "metadata": {},
   "outputs": [],
   "source": [
    "model_name = 'qwen3-235b-a22b'"
   ]
  },
  {
   "cell_type": "code",
   "execution_count": 4,
   "id": "60d71833",
   "metadata": {},
   "outputs": [],
   "source": [
    "messages = [{'role':'user','content':'你是谁'}]"
   ]
  },
  {
   "cell_type": "code",
   "execution_count": null,
   "id": "86ba57f5",
   "metadata": {},
   "outputs": [
    {
     "name": "stdout",
     "output_type": "stream",
     "text": [
      "\n",
      "====================思考过程====================\n",
      "\n",
      "嗯，用户问“你是谁”，我需要先确定他们想知道什么。可能他们第一次接触我，或者想确认我的身份。首先，我应该介绍自己的名字，通义千问，然后说明我是通义实验室研发的超大规模语言模型。接下来，可能需要解释我的功能，比如回答问题、创作文字、编程等，这样用户能了解我的用途。还要提到我支持多种语言，这样国际化一点。不过要注意别太冗长，保持简洁。另外，用户可能有深层需求，比如想测试我的能力，或者寻找帮助，所以邀请他们提出具体问题会更好。最后，保持友好和专业的语气，让用户觉得亲切。需要检查有没有遗漏的重要信息，比如我的训练数据截止时间，或者是否有特别的功能需要强调。总之，回答要全面但不过于复杂，引导用户进一步互动。\n",
      "====================回复部分====================\n",
      "\n",
      "你好！我是通义千问，阿里巴巴集团旗下的超大规模语言模型。我能够帮助你回答问题、创作文字（比如写故事、写公文、写邮件、写剧本等）、进行逻辑推理、编程，甚至表达观点和玩游戏。我的设计目标是成为一款能够理解和生成人类语言的AI助手，支持多种语言，包括但不限于中文、英文、德语、法语、西班牙语等。\n",
      "\n",
      "如果你有任何问题或需要帮助，随时告诉我！"
     ]
    }
   ],
   "source": [
    "client = OpenAI(base_url=base_url,api_key=api_key)\n",
    "\n",
    "stream = client.chat.completions.create(\n",
    "    model=model_name,\n",
    "    messages=messages,\n",
    "    stream=True,\n",
    "    temperature=0\n",
    ")\n",
    "reasoning_content = ''\n",
    "answer_content = ''\n",
    "is_answering = False  # 是否进入回复阶段\n",
    "\n",
    "print(\"\\n\" + \"=\" * 20 + \"思考过程\" + \"=\" * 20 + \"\\n\")\n",
    "\n",
    "for chunk in stream:\n",
    "    delta = chunk.choices[0].delta\n",
    "    # 收集思考内容\n",
    "    if hasattr(delta, \"reasoning_content\") and delta.reasoning_content is not None:\n",
    "        if not is_answering:\n",
    "            print(delta.reasoning_content, end=\"\", flush=True)\n",
    "        reasoning_content += delta.reasoning_content\n",
    "    # 收到content，开始进行回复\n",
    "    if hasattr(delta, \"content\") and delta.content:\n",
    "        if not is_answering:\n",
    "            print(\"\\n\" + \"=\" * 20 + \"回复部分\" + \"=\" * 20 + \"\\n\")\n",
    "            is_answering = True\n",
    "        print(delta.content, end=\"\", flush=True)\n",
    "        answer_content += delta.content      "
   ]
  },
  {
   "cell_type": "code",
   "execution_count": null,
   "id": "08718e07",
   "metadata": {},
   "outputs": [],
   "source": []
  }
 ],
 "metadata": {
  "kernelspec": {
   "display_name": "Python 3",
   "language": "python",
   "name": "python3"
  },
  "language_info": {
   "codemirror_mode": {
    "name": "ipython",
    "version": 3
   },
   "file_extension": ".py",
   "mimetype": "text/x-python",
   "name": "python",
   "nbconvert_exporter": "python",
   "pygments_lexer": "ipython3",
   "version": "3.12.4"
  }
 },
 "nbformat": 4,
 "nbformat_minor": 5
}
