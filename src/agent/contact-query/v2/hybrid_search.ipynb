{
 "cells": [
  {
   "cell_type": "code",
   "execution_count": 6,
   "id": "1efe8053",
   "metadata": {},
   "outputs": [],
   "source": [
    "from openai import OpenAI\n",
    "import os\n",
    "from dotenv import load_dotenv\n",
    "\n",
    "load_dotenv()\n",
    "api_key=os.getenv(\"QWEN_API_KEY\")\n",
    "base_url=os.getenv(\"QWEN_API_BASE_URL\")\n",
    "embedding_model_id = 'text-embedding-v4'"
   ]
  },
  {
   "cell_type": "code",
   "execution_count": null,
   "id": "8ce08a23",
   "metadata": {},
   "outputs": [],
   "source": [
    "os.environ[\"OPENAI_API_KEY\"] = api_key\n",
    "os.environ[\"OPENAI_BASE_URL\"] = base_url"
   ]
  },
  {
   "cell_type": "code",
   "execution_count": 9,
   "id": "4b82a499",
   "metadata": {},
   "outputs": [],
   "source": [
    "import lancedb\n",
    "from lancedb.embeddings import get_registry\n",
    "from lancedb.pydantic import LanceModel, Vector\n",
    "from lancedb.rerankers import RRFReranker\n",
    "\n",
    "db = lancedb.connect(\"C:/Lee/work/db/contract_lancedb\") \n",
    "table = db.open_table(\"contract_table\")\n",
    "\n",
    "# 获取向量嵌入模型\n",
    "\n",
    "# 获取 OpenAI embedding function\n",
    "openai_embed = get_registry().get(\"openai\").create()\n",
    "\n",
    "\n",
    "# 创建全文检索索引\n",
    "# table.create_fts_index(\"doc\")\n",
    "\n",
    "# 等待索引就绪（可选，具体实现视API而定）\n",
    "# wait_for_index(table, \"text_idx\")\n",
    "\n",
    "# 创建重排序器（可选，使用默认也可）\n",
    "reranker = RRFReranker()\n",
    "\n"
   ]
  },
  {
   "cell_type": "code",
   "execution_count": 5,
   "id": "cc5a9eea",
   "metadata": {},
   "outputs": [
    {
     "ename": "ValueError",
     "evalue": "No embedding function for vector",
     "output_type": "error",
     "traceback": [
      "\u001b[31m---------------------------------------------------------------------------\u001b[39m",
      "\u001b[31mValueError\u001b[39m                                Traceback (most recent call last)",
      "\u001b[36mCell\u001b[39m\u001b[36m \u001b[39m\u001b[32mIn[5]\u001b[39m\u001b[32m, line 14\u001b[39m\n\u001b[32m      2\u001b[39m query_text = \u001b[33m\"\u001b[39m\u001b[33mBGZJYR-E-2019-01\u001b[39m\u001b[33m\"\u001b[39m\n\u001b[32m      4\u001b[39m \u001b[38;5;66;03m# 混合检索，结合向量字段和全文检索字段\u001b[39;00m\n\u001b[32m      5\u001b[39m results = (\n\u001b[32m      6\u001b[39m     \u001b[43mtable\u001b[49m\u001b[43m.\u001b[49m\u001b[43msearch\u001b[49m\u001b[43m(\u001b[49m\n\u001b[32m      7\u001b[39m \u001b[43m        \u001b[49m\u001b[43mquery_text\u001b[49m\u001b[43m,\u001b[49m\n\u001b[32m      8\u001b[39m \u001b[43m        \u001b[49m\u001b[43mquery_type\u001b[49m\u001b[43m=\u001b[49m\u001b[33;43m\"\u001b[39;49m\u001b[33;43mhybrid\u001b[39;49m\u001b[33;43m\"\u001b[39;49m\u001b[43m,\u001b[49m\u001b[43m                \u001b[49m\u001b[38;5;66;43;03m# 启用混合检索\u001b[39;49;00m\n\u001b[32m      9\u001b[39m \u001b[43m        \u001b[49m\u001b[43mvector_column_name\u001b[49m\u001b[43m=\u001b[49m\u001b[33;43m\"\u001b[39;49m\u001b[33;43mvector\u001b[39;49m\u001b[33;43m\"\u001b[39;49m\u001b[43m,\u001b[49m\u001b[43m        \u001b[49m\u001b[38;5;66;43;03m# 向量字段\u001b[39;49;00m\n\u001b[32m     10\u001b[39m \u001b[43m        \u001b[49m\u001b[43mfts_columns\u001b[49m\u001b[43m=\u001b[49m\u001b[43m[\u001b[49m\u001b[33;43m\"\u001b[39;49m\u001b[33;43mproject_name\u001b[39;49m\u001b[33;43m\"\u001b[39;49m\u001b[43m,\u001b[49m\u001b[43m \u001b[49m\u001b[33;43m\"\u001b[39;49m\u001b[33;43mdoc\u001b[39;49m\u001b[33;43m\"\u001b[39;49m\u001b[43m]\u001b[49m\u001b[43m \u001b[49m\u001b[38;5;66;43;03m# 需要全文检索的字段\u001b[39;49;00m\n\u001b[32m     11\u001b[39m \u001b[43m    \u001b[49m\u001b[43m)\u001b[49m\n\u001b[32m     12\u001b[39m \u001b[43m    \u001b[49m\u001b[43m.\u001b[49m\u001b[43mrerank\u001b[49m\u001b[43m(\u001b[49m\u001b[43mRRFReranker\u001b[49m\u001b[43m(\u001b[49m\u001b[43m)\u001b[49m\u001b[43m)\u001b[49m\u001b[43m                  \u001b[49m\u001b[38;5;66;43;03m# 可选：使用重排序器提升相关性\u001b[39;49;00m\n\u001b[32m     13\u001b[39m \u001b[43m    \u001b[49m\u001b[43m.\u001b[49m\u001b[43mlimit\u001b[49m\u001b[43m(\u001b[49m\u001b[32;43m10\u001b[39;49m\u001b[43m)\u001b[49m\n\u001b[32m---> \u001b[39m\u001b[32m14\u001b[39m \u001b[43m    \u001b[49m\u001b[43m.\u001b[49m\u001b[43mto_pandas\u001b[49m\u001b[43m(\u001b[49m\u001b[43m)\u001b[49m\n\u001b[32m     15\u001b[39m )\n\u001b[32m     17\u001b[39m \u001b[38;5;28mprint\u001b[39m(results)\n",
      "\u001b[36mFile \u001b[39m\u001b[32mc:\\Lee\\Projects\\LLM-Explore\\.venv\\Lib\\site-packages\\lancedb\\query.py:683\u001b[39m, in \u001b[36mLanceQueryBuilder.to_pandas\u001b[39m\u001b[34m(self, flatten, timeout)\u001b[39m\n\u001b[32m    660\u001b[39m \u001b[38;5;28;01mdef\u001b[39;00m\u001b[38;5;250m \u001b[39m\u001b[34mto_pandas\u001b[39m(\n\u001b[32m    661\u001b[39m     \u001b[38;5;28mself\u001b[39m,\n\u001b[32m    662\u001b[39m     flatten: Optional[Union[\u001b[38;5;28mint\u001b[39m, \u001b[38;5;28mbool\u001b[39m]] = \u001b[38;5;28;01mNone\u001b[39;00m,\n\u001b[32m    663\u001b[39m     *,\n\u001b[32m    664\u001b[39m     timeout: Optional[timedelta] = \u001b[38;5;28;01mNone\u001b[39;00m,\n\u001b[32m    665\u001b[39m ) -> \u001b[33m\"\u001b[39m\u001b[33mpd.DataFrame\u001b[39m\u001b[33m\"\u001b[39m:\n\u001b[32m    666\u001b[39m \u001b[38;5;250m    \u001b[39m\u001b[33;03m\"\"\"\u001b[39;00m\n\u001b[32m    667\u001b[39m \u001b[33;03m    Execute the query and return the results as a pandas DataFrame.\u001b[39;00m\n\u001b[32m    668\u001b[39m \u001b[33;03m    In addition to the selected columns, LanceDB also returns a vector\u001b[39;00m\n\u001b[32m   (...)\u001b[39m\u001b[32m    681\u001b[39m \u001b[33;03m        If None, wait indefinitely.\u001b[39;00m\n\u001b[32m    682\u001b[39m \u001b[33;03m    \"\"\"\u001b[39;00m\n\u001b[32m--> \u001b[39m\u001b[32m683\u001b[39m     tbl = flatten_columns(\u001b[38;5;28;43mself\u001b[39;49m\u001b[43m.\u001b[49m\u001b[43mto_arrow\u001b[49m\u001b[43m(\u001b[49m\u001b[43mtimeout\u001b[49m\u001b[43m=\u001b[49m\u001b[43mtimeout\u001b[49m\u001b[43m)\u001b[49m, flatten)\n\u001b[32m    684\u001b[39m     \u001b[38;5;28;01mreturn\u001b[39;00m tbl.to_pandas()\n",
      "\u001b[36mFile \u001b[39m\u001b[32mc:\\Lee\\Projects\\LLM-Explore\\.venv\\Lib\\site-packages\\lancedb\\query.py:1639\u001b[39m, in \u001b[36mLanceHybridQueryBuilder.to_arrow\u001b[39m\u001b[34m(self, timeout)\u001b[39m\n\u001b[32m   1638\u001b[39m \u001b[38;5;28;01mdef\u001b[39;00m\u001b[38;5;250m \u001b[39m\u001b[34mto_arrow\u001b[39m(\u001b[38;5;28mself\u001b[39m, *, timeout: Optional[timedelta] = \u001b[38;5;28;01mNone\u001b[39;00m) -> pa.Table:\n\u001b[32m-> \u001b[39m\u001b[32m1639\u001b[39m     \u001b[38;5;28;43mself\u001b[39;49m\u001b[43m.\u001b[49m\u001b[43m_create_query_builders\u001b[49m\u001b[43m(\u001b[49m\u001b[43m)\u001b[49m\n\u001b[32m   1640\u001b[39m     \u001b[38;5;28;01mwith\u001b[39;00m ThreadPoolExecutor() \u001b[38;5;28;01mas\u001b[39;00m executor:\n\u001b[32m   1641\u001b[39m         fts_future = executor.submit(\n\u001b[32m   1642\u001b[39m             \u001b[38;5;28mself\u001b[39m._fts_query.with_row_id(\u001b[38;5;28;01mTrue\u001b[39;00m).to_arrow, timeout=timeout\n\u001b[32m   1643\u001b[39m         )\n",
      "\u001b[36mFile \u001b[39m\u001b[32mc:\\Lee\\Projects\\LLM-Explore\\.venv\\Lib\\site-packages\\lancedb\\query.py:2028\u001b[39m, in \u001b[36mLanceHybridQueryBuilder._create_query_builders\u001b[39m\u001b[34m(self)\u001b[39m\n\u001b[32m   2022\u001b[39m vector_query, fts_query = \u001b[38;5;28mself\u001b[39m._validate_query(\n\u001b[32m   2023\u001b[39m     \u001b[38;5;28mself\u001b[39m._query, \u001b[38;5;28mself\u001b[39m._vector, \u001b[38;5;28mself\u001b[39m._text\n\u001b[32m   2024\u001b[39m )\n\u001b[32m   2025\u001b[39m \u001b[38;5;28mself\u001b[39m._fts_query = LanceFtsQueryBuilder(\n\u001b[32m   2026\u001b[39m     \u001b[38;5;28mself\u001b[39m._table, fts_query, fts_columns=\u001b[38;5;28mself\u001b[39m._fts_columns\n\u001b[32m   2027\u001b[39m )\n\u001b[32m-> \u001b[39m\u001b[32m2028\u001b[39m vector_query = \u001b[38;5;28;43mself\u001b[39;49m\u001b[43m.\u001b[49m\u001b[43m_query_to_vector\u001b[49m\u001b[43m(\u001b[49m\n\u001b[32m   2029\u001b[39m \u001b[43m    \u001b[49m\u001b[38;5;28;43mself\u001b[39;49m\u001b[43m.\u001b[49m\u001b[43m_table\u001b[49m\u001b[43m,\u001b[49m\u001b[43m \u001b[49m\u001b[43mvector_query\u001b[49m\u001b[43m,\u001b[49m\u001b[43m \u001b[49m\u001b[38;5;28;43mself\u001b[39;49m\u001b[43m.\u001b[49m\u001b[43m_vector_column\u001b[49m\n\u001b[32m   2030\u001b[39m \u001b[43m\u001b[49m\u001b[43m)\u001b[49m\n\u001b[32m   2031\u001b[39m \u001b[38;5;28mself\u001b[39m._vector_query = LanceVectorQueryBuilder(\n\u001b[32m   2032\u001b[39m     \u001b[38;5;28mself\u001b[39m._table, vector_query, \u001b[38;5;28mself\u001b[39m._vector_column\n\u001b[32m   2033\u001b[39m )\n\u001b[32m   2035\u001b[39m \u001b[38;5;66;03m# Apply common configurations\u001b[39;00m\n",
      "\u001b[36mFile \u001b[39m\u001b[32mc:\\Lee\\Projects\\LLM-Explore\\.venv\\Lib\\site-packages\\lancedb\\query.py:628\u001b[39m, in \u001b[36mLanceQueryBuilder._query_to_vector\u001b[39m\u001b[34m(cls, table, query, vector_column_name)\u001b[39m\n\u001b[32m    626\u001b[39m \u001b[38;5;28;01melse\u001b[39;00m:\n\u001b[32m    627\u001b[39m     msg = \u001b[33mf\u001b[39m\u001b[33m\"\u001b[39m\u001b[33mNo embedding function for \u001b[39m\u001b[38;5;132;01m{\u001b[39;00mvector_column_name\u001b[38;5;132;01m}\u001b[39;00m\u001b[33m\"\u001b[39m\n\u001b[32m--> \u001b[39m\u001b[32m628\u001b[39m     \u001b[38;5;28;01mraise\u001b[39;00m \u001b[38;5;167;01mValueError\u001b[39;00m(msg)\n",
      "\u001b[31mValueError\u001b[39m: No embedding function for vector"
     ]
    }
   ],
   "source": [
    "# 查询关键词\n",
    "query_text = \"BGZJYR-E-2019-01\"\n",
    "\n",
    "# 混合检索，结合向量字段和全文检索字段\n",
    "results = (\n",
    "    table.search(\n",
    "        query_text,\n",
    "        query_type=\"hybrid\",                # 启用混合检索\n",
    "        vector_column_name=\"vector\",        # 向量字段\n",
    "        fts_columns=[\"project_name\", \"doc\"] # 需要全文检索的字段\n",
    "    )\n",
    "    .rerank(RRFReranker())                  # 可选：使用重排序器提升相关性\n",
    "    .limit(10)\n",
    "    .to_pandas()\n",
    ")\n",
    "\n",
    "print(results)"
   ]
  },
  {
   "cell_type": "code",
   "execution_count": null,
   "id": "3f15b54b",
   "metadata": {},
   "outputs": [],
   "source": []
  }
 ],
 "metadata": {
  "kernelspec": {
   "display_name": ".venv",
   "language": "python",
   "name": "python3"
  },
  "language_info": {
   "codemirror_mode": {
    "name": "ipython",
    "version": 3
   },
   "file_extension": ".py",
   "mimetype": "text/x-python",
   "name": "python",
   "nbconvert_exporter": "python",
   "pygments_lexer": "ipython3",
   "version": "3.12.7"
  }
 },
 "nbformat": 4,
 "nbformat_minor": 5
}
