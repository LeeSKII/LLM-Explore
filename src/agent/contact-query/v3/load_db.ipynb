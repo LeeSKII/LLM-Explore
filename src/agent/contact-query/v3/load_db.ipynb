{
 "cells": [
  {
   "cell_type": "code",
   "execution_count": 31,
   "id": "5b362ff8",
   "metadata": {},
   "outputs": [],
   "source": [
    "import lancedb\n",
    "import pandas as pd\n",
    "import pyarrow as pa"
   ]
  },
  {
   "cell_type": "code",
   "execution_count": 32,
   "id": "10e0848c",
   "metadata": {},
   "outputs": [],
   "source": [
    "file_path = r\"C:\\Lee\\work\\contract\\csv\\v3\\contract_data.csv\"\n",
    "df = pd.read_csv(file_path)"
   ]
  },
  {
   "cell_type": "code",
   "execution_count": 33,
   "id": "e85a9747",
   "metadata": {},
   "outputs": [],
   "source": [
    "db = lancedb.connect(r\"C:\\Lee\\work\\contract\\csv\\v3\\contract_full_lancedb\")  # 指定数据库目录，不存在会自动创建"
   ]
  },
  {
   "cell_type": "code",
   "execution_count": 34,
   "id": "8a4ce469",
   "metadata": {},
   "outputs": [],
   "source": [
    "schema = pa.schema([\n",
    "    pa.field(\"meta_vector\", pa.list_(pa.float32(),4096)),\n",
    "    pa.field(\"doc\", pa.utf8()),\n",
    "    pa.field(\"contract_meta\", pa.utf8()),\n",
    "    pa.field(\"contact_no\", pa.utf8()),\n",
    "    pa.field(\"project_name\", pa.utf8()),\n",
    "    pa.field(\"subitem_name\", pa.utf8()),\n",
    "    pa.field(\"total_price\", pa.float32()),\n",
    "    pa.field(\"total_price_str\", pa.utf8()),\n",
    "    pa.field(\"date\", pa.utf8()),\n",
    "    pa.field(\"supplier\", pa.utf8()),\n",
    "    pa.field(\"equipment_table\", pa.utf8()),\n",
    "    pa.field(\"equipments_vector\", pa.list_(pa.float32(),4096)),\n",
    "])"
   ]
  },
  {
   "cell_type": "code",
   "execution_count": 35,
   "id": "9fef31cc",
   "metadata": {},
   "outputs": [],
   "source": [
    "table = db.create_table(\"contract_table\", schema=schema,mode=\"overwrite\")"
   ]
  },
  {
   "cell_type": "code",
   "execution_count": 36,
   "id": "2b10b226",
   "metadata": {},
   "outputs": [],
   "source": [
    "df['total_price'] = pd.to_numeric(df['total_price'], errors='coerce').astype('float32')\n",
    "# 其它字段转为字符串\n",
    "str_columns = [\n",
    "    'contract_meta','doc', 'contact_no', 'project_name', 'subitem_name',\n",
    "    'total_price_str', 'supplier', 'equipment_table', 'date'\n",
    "]\n",
    "for col in str_columns:\n",
    "    df[col] = df[col].astype(str)"
   ]
  },
  {
   "cell_type": "code",
   "execution_count": 37,
   "id": "39171f20",
   "metadata": {},
   "outputs": [],
   "source": [
    "dict_list = df.to_dict(orient='records')"
   ]
  },
  {
   "cell_type": "code",
   "execution_count": 38,
   "id": "1f10bc2b",
   "metadata": {},
   "outputs": [
    {
     "data": {
      "text/plain": [
       "AddResult(version=8)"
      ]
     },
     "execution_count": 38,
     "metadata": {},
     "output_type": "execute_result"
    }
   ],
   "source": [
    "table.add(dict_list)"
   ]
  },
  {
   "cell_type": "code",
   "execution_count": 45,
   "id": "e9c5f5a7",
   "metadata": {},
   "outputs": [],
   "source": [
    "db = lancedb.connect(r\"C:\\Lee\\work\\contract\\csv\\v3\\contract_full_lancedb\") \n",
    "table = db.open_table(\"contract_table\")"
   ]
  },
  {
   "cell_type": "code",
   "execution_count": 46,
   "id": "443d3793",
   "metadata": {},
   "outputs": [],
   "source": [
    "query='揭阳'\n",
    "num_documents=5\n",
    "search_like_results = table.search().where(f\"doc LIKE '%{query}%'\").limit(num_documents).to_pandas()"
   ]
  },
  {
   "cell_type": "code",
   "execution_count": 47,
   "id": "da3be85e",
   "metadata": {},
   "outputs": [
    {
     "data": {
      "text/html": [
       "<div>\n",
       "<style scoped>\n",
       "    .dataframe tbody tr th:only-of-type {\n",
       "        vertical-align: middle;\n",
       "    }\n",
       "\n",
       "    .dataframe tbody tr th {\n",
       "        vertical-align: top;\n",
       "    }\n",
       "\n",
       "    .dataframe thead th {\n",
       "        text-align: right;\n",
       "    }\n",
       "</style>\n",
       "<table border=\"1\" class=\"dataframe\">\n",
       "  <thead>\n",
       "    <tr style=\"text-align: right;\">\n",
       "      <th></th>\n",
       "      <th>meta_vector</th>\n",
       "      <th>doc</th>\n",
       "      <th>contract_meta</th>\n",
       "      <th>contact_no</th>\n",
       "      <th>project_name</th>\n",
       "      <th>subitem_name</th>\n",
       "      <th>total_price</th>\n",
       "      <th>total_price_str</th>\n",
       "      <th>date</th>\n",
       "      <th>supplier</th>\n",
       "      <th>equipment_table</th>\n",
       "      <th>equipments_vector</th>\n",
       "    </tr>\n",
       "  </thead>\n",
       "  <tbody>\n",
       "  </tbody>\n",
       "</table>\n",
       "</div>"
      ],
      "text/plain": [
       "Empty DataFrame\n",
       "Columns: [meta_vector, doc, contract_meta, contact_no, project_name, subitem_name, total_price, total_price_str, date, supplier, equipment_table, equipments_vector]\n",
       "Index: []"
      ]
     },
     "execution_count": 47,
     "metadata": {},
     "output_type": "execute_result"
    }
   ],
   "source": [
    "search_like_results"
   ]
  }
 ],
 "metadata": {
  "kernelspec": {
   "display_name": "LLM-Explore",
   "language": "python",
   "name": "python3"
  },
  "language_info": {
   "codemirror_mode": {
    "name": "ipython",
    "version": 3
   },
   "file_extension": ".py",
   "mimetype": "text/x-python",
   "name": "python",
   "nbconvert_exporter": "python",
   "pygments_lexer": "ipython3",
   "version": "3.12.7"
  }
 },
 "nbformat": 4,
 "nbformat_minor": 5
}
