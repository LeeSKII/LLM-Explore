{
 "cells": [
  {
   "cell_type": "code",
   "execution_count": 6,
   "id": "bbf4626a",
   "metadata": {},
   "outputs": [
    {
     "name": "stdout",
     "output_type": "stream",
     "text": [
      "LanceDB connected at: C:\\Lee\\work\\db\\contact_lancedb\n"
     ]
    }
   ],
   "source": [
    "import lancedb\n",
    "db_path = \"C:\\\\Lee\\\\work\\\\contract\\\\db\\\\tmp\\\\contact_vectors.lancedb\"\n",
    "db_path=r\"C:/Lee/work/db/contact_lancedb\"\n",
    "# --- 1. 连接/创建 LanceDB 数据库 ---\n",
    "db = lancedb.connect(db_path)\n",
    "print(f\"LanceDB connected at: {db.uri}\")"
   ]
  },
  {
   "cell_type": "code",
   "execution_count": 7,
   "id": "36da2f14",
   "metadata": {},
   "outputs": [
    {
     "name": "stdout",
     "output_type": "stream",
     "text": [
      "Successfully opened table: 'contract_table'\n",
      "Table schema: vector: list<item: float>\n",
      "  child 0, item: float\n",
      "meta_str: string\n",
      "doc: string\n",
      "contact_no: string\n",
      "project_name: string\n",
      "subitem_name: string\n",
      "date: string\n",
      "total_price_str: string\n",
      "main_equipments: string\n",
      "sub_equipments: string\n",
      "supplier: string\n",
      "year: int16\n",
      "total_price: float\n",
      "Number of rows in table: 32\n"
     ]
    }
   ],
   "source": [
    "# --- 2. 打开表 ---\n",
    "table_name = \"contact_table\" # 你之前创建的表名\n",
    "table_name = 'contract_table'\n",
    "try:\n",
    "    table = db.open_table(table_name)\n",
    "    print(f\"Successfully opened table: '{table.name}'\")\n",
    "    print(f\"Table schema: {table.schema}\")\n",
    "    print(f\"Number of rows in table: {len(table)}\")\n",
    "except Exception as e:\n",
    "    print(f\"Error opening table '{table_name}': {e}\")\n",
    "    print(f\"Available tables: {db.table_names()}\")\n",
    "    exit()"
   ]
  },
  {
   "cell_type": "code",
   "execution_count": 4,
   "id": "b26088f8",
   "metadata": {},
   "outputs": [],
   "source": [
    "import json\n",
    "\n",
    "def read_and_decode_table(db, table_name):\n",
    "    table = db.open_table(table_name)\n",
    "    df = table.to_pandas()\n",
    "    \n",
    "    if 'payload' not in df.columns:\n",
    "        raise ValueError(\"DataFrame中缺少'payload'列\")\n",
    "    \n",
    "    # 解析payload字符串为字典\n",
    "    df['parsed_payload'] = df['payload'].apply(\n",
    "        lambda x: json.loads(x) if isinstance(x, str) else x\n",
    "    )\n",
    "    \n",
    "    # 直接提取已解码的字段值\n",
    "    df['name_cn'] = df['parsed_payload'].apply(\n",
    "        lambda x: x.get('name') if isinstance(x, dict) else None\n",
    "    )\n",
    "    \n",
    "    df['content_cn'] = df['parsed_payload'].apply(\n",
    "        lambda x: x.get('content') if isinstance(x, dict) else None\n",
    "    )\n",
    "    \n",
    "    # 可选：删除临时解析列\n",
    "    df = df.drop(columns=['parsed_payload'])\n",
    "    \n",
    "    return df"
   ]
  },
  {
   "cell_type": "code",
   "execution_count": 5,
   "id": "0951e9ff",
   "metadata": {},
   "outputs": [
    {
     "ename": "ValueError",
     "evalue": "DataFrame中缺少'payload'列",
     "output_type": "error",
     "traceback": [
      "\u001b[31m---------------------------------------------------------------------------\u001b[39m",
      "\u001b[31mValueError\u001b[39m                                Traceback (most recent call last)",
      "\u001b[36mCell\u001b[39m\u001b[36m \u001b[39m\u001b[32mIn[5]\u001b[39m\u001b[32m, line 1\u001b[39m\n\u001b[32m----> \u001b[39m\u001b[32m1\u001b[39m data = \u001b[43mread_and_decode_table\u001b[49m\u001b[43m(\u001b[49m\u001b[43mdb\u001b[49m\u001b[43m,\u001b[49m\u001b[43m \u001b[49m\u001b[43mtable_name\u001b[49m\u001b[43m)\u001b[49m\n",
      "\u001b[36mCell\u001b[39m\u001b[36m \u001b[39m\u001b[32mIn[4]\u001b[39m\u001b[32m, line 8\u001b[39m, in \u001b[36mread_and_decode_table\u001b[39m\u001b[34m(db, table_name)\u001b[39m\n\u001b[32m      5\u001b[39m df = table.to_pandas()\n\u001b[32m      7\u001b[39m \u001b[38;5;28;01mif\u001b[39;00m \u001b[33m'\u001b[39m\u001b[33mpayload\u001b[39m\u001b[33m'\u001b[39m \u001b[38;5;129;01mnot\u001b[39;00m \u001b[38;5;129;01min\u001b[39;00m df.columns:\n\u001b[32m----> \u001b[39m\u001b[32m8\u001b[39m     \u001b[38;5;28;01mraise\u001b[39;00m \u001b[38;5;167;01mValueError\u001b[39;00m(\u001b[33m\"\u001b[39m\u001b[33mDataFrame中缺少\u001b[39m\u001b[33m'\u001b[39m\u001b[33mpayload\u001b[39m\u001b[33m'\u001b[39m\u001b[33m列\u001b[39m\u001b[33m\"\u001b[39m)\n\u001b[32m     10\u001b[39m \u001b[38;5;66;03m# 解析payload字符串为字典\u001b[39;00m\n\u001b[32m     11\u001b[39m df[\u001b[33m'\u001b[39m\u001b[33mparsed_payload\u001b[39m\u001b[33m'\u001b[39m] = df[\u001b[33m'\u001b[39m\u001b[33mpayload\u001b[39m\u001b[33m'\u001b[39m].apply(\n\u001b[32m     12\u001b[39m     \u001b[38;5;28;01mlambda\u001b[39;00m x: json.loads(x) \u001b[38;5;28;01mif\u001b[39;00m \u001b[38;5;28misinstance\u001b[39m(x, \u001b[38;5;28mstr\u001b[39m) \u001b[38;5;28;01melse\u001b[39;00m x\n\u001b[32m     13\u001b[39m )\n",
      "\u001b[31mValueError\u001b[39m: DataFrame中缺少'payload'列"
     ]
    }
   ],
   "source": [
    "data = read_and_decode_table(db, table_name)"
   ]
  },
  {
   "cell_type": "code",
   "execution_count": 5,
   "id": "4aa23a1a",
   "metadata": {},
   "outputs": [
    {
     "data": {
      "text/plain": [
       "'买方合同编号：TGYR\\\\-2023\\\\-01\\n\\n卖方合同编号：\\n\\n订 货 合 同\\n\\n项目名称：山东泰山钢铁集团有限公司\\n\\n265㎡烧环冷机余热系统改造工程EPC总承包余热回收项目\\n\\n子项名称：环冷机余热锅炉\\n\\n买方：湖南中冶长天节能环保技术有限公司\\n\\n卖方：江苏东九重工股份有限公司\\n\\n合同签订时期：2023年 8 月\\n\\n合同签订地点：湖南·长沙\\n\\n合 同 双 方\\n\\n__买\\u3000\\u3000方（印章）__\\n\\n__卖\\u3000\\u3000方（印章）__\\n\\n__名   称：湖南中冶长天节能环保技术有限公司__\\n\\n__名  称：江苏东九重工股份有限公司__\\n\\n__地    址：长沙市岳麓区节庆路7号__\\n\\n__地址：盐城高新区华锐南路9号__\\n\\n__联 系 人：戴亮__\\n\\n__联 系 人：刘忠__\\n\\n__电    话：18773083301__\\n\\n__电    话：0515\\\\-88597534__\\n\\n__传    真：__\\n\\n__传    真：0515\\\\-88597987__\\n\\n__电子邮件：1203852335@qq\\\\.com__\\n\\n__电子邮件：Liuz118@163\\\\.com__\\n\\n__开户银行：浦发银行长沙东塘支行__\\n\\n__开户银行： 盐城市中行亭湖支行__\\n\\n__帐    号：6605 0155 2000 0246 8__\\n\\n__帐    号：5456 5820 7770__\\n\\n__纳税人登记号：9143 0100 5849 3952 00__\\n\\n__纳税人登记号：91320900140334109F__\\n\\n__单位名称：湖南中冶长天节能环保技术有限公司__\\n\\n__单位名称： 江苏东九重工股份有限公司__\\n\\n__委托代理人：__\\n\\n__委托代理人： __\\n\\n__签字日期：__\\n\\n__签字日期：__\\n\\n3\\\\.1  最终供货一览表\\n\\n__序号__\\n\\n__货物名称__\\n\\n__规格型号__\\n\\n__单位__\\n\\n__数量__\\n\\n__重量__\\n\\n__单   价__\\n\\n__（万元RMB）__\\n\\n__总   价__\\n\\n__（万元RMB）__\\n\\n__交 货 期__\\n\\n__交货__\\n\\n__地点__\\n\\n__交货方式__\\n\\n1\\n\\n环冷机余热锅炉\\n\\nQ230\\\\(230\\\\)/410\\\\(310\\\\)\\\\-35\\\\.03\\\\(7\\\\)\\n\\n\\\\-1\\\\.96\\\\(0\\\\.49\\\\)/360\\\\(224\\\\)\\n\\n台\\n\\n1\\n\\n403\\n\\n457\\n\\n457\\n\\n2023年\\n\\n11月5日\\n\\n项目现场\\n\\n汽车\\n\\n__总  计：__大写人民币  肆佰伍拾柒万圆整（￥4570000\\\\.00）。\\n\\n分项价格表\\n\\n序号\\n\\n项      目\\n\\n材质\\n\\n单重（吨）\\n\\n价格（万元）\\n\\n一\\n\\n锅炉本体\\n\\n403\\n\\n427\\\\.7\\n\\n1\\n\\n高参数过热器\\n\\n15CrMo\\\\-GB5310\\n\\n2\\n\\n高压蒸发器\\n\\n20\\\\-GB3087\\n\\n3\\n\\n高参数省煤器\\n\\n20\\\\-GB3087\\n\\n4\\n\\n低参数过热器\\n\\n20\\\\-GB3087\\n\\n5\\n\\n低压蒸发器\\n\\n20\\\\-GB3087\\n\\n6\\n\\n低参数省煤器\\n\\n20\\\\-GB3087\\n\\n7\\u3000\\n\\n高压锅筒\\n\\nQ245R\\\\-GB713\\n\\n8\\u3000\\n\\n低压锅筒\\n\\nQ245R\\\\-GB713\\n\\n9\\u3000\\n\\n本体管路\\n\\n20\\\\-GB3087\\n\\n二\\n\\n仪表、阀门\\n\\n15\\n\\n1\\n\\n双金属温度计、压力表\\n\\n1套\\n\\n2\\n\\n双色水位计\\n\\n2个\\n\\n3\\n\\n石英液位计\\n\\n2个\\n\\n4\\n\\n电接点液位计\\n\\n2个\\n\\n5\\n\\n双室平衡容器\\n\\n2个\\n\\n6\\n\\n安全阀\\n\\n1套\\n\\n三\\n\\n附机\\n\\n9\\\\.8\\n\\n1\\n\\n除氧头\\n\\n1台\\n\\n5\\n\\n2\\n\\n电动星型卸灰阀\\n\\n2只\\n\\n2\\\\.4\\n\\n3\\n\\n电动葫芦\\n\\n2台\\n\\n2\\\\.4\\n\\n四\\n\\n备品备件、专用工具\\n\\n1\\\\.3\\n\\n五\\n\\n运费\\n\\n13\\\\.2\\n\\n__合计__\\n\\n467（优惠至457万元）\\n\\n'"
      ]
     },
     "execution_count": 5,
     "metadata": {},
     "output_type": "execute_result"
    }
   ],
   "source": [
    "data.iloc[0]['content_cn']"
   ]
  },
  {
   "cell_type": "code",
   "execution_count": 14,
   "id": "e7309c58",
   "metadata": {},
   "outputs": [
    {
     "data": {
      "text/plain": [
       "1499"
      ]
     },
     "execution_count": 14,
     "metadata": {},
     "output_type": "execute_result"
    }
   ],
   "source": [
    "len(data.iloc[0]['content_cn'])"
   ]
  },
  {
   "cell_type": "code",
   "execution_count": 6,
   "id": "f26fd079",
   "metadata": {},
   "outputs": [
    {
     "data": {
      "text/html": [
       "<div>\n",
       "<style scoped>\n",
       "    .dataframe tbody tr th:only-of-type {\n",
       "        vertical-align: middle;\n",
       "    }\n",
       "\n",
       "    .dataframe tbody tr th {\n",
       "        vertical-align: top;\n",
       "    }\n",
       "\n",
       "    .dataframe thead th {\n",
       "        text-align: right;\n",
       "    }\n",
       "</style>\n",
       "<table border=\"1\" class=\"dataframe\">\n",
       "  <thead>\n",
       "    <tr style=\"text-align: right;\">\n",
       "      <th></th>\n",
       "      <th>vector</th>\n",
       "      <th>id</th>\n",
       "      <th>payload</th>\n",
       "      <th>name_cn</th>\n",
       "      <th>content_cn</th>\n",
       "    </tr>\n",
       "  </thead>\n",
       "  <tbody>\n",
       "    <tr>\n",
       "      <th>0</th>\n",
       "      <td>[0.021162663, -0.057701577, 0.04414577, -0.022...</td>\n",
       "      <td>c2f491f7f95725d3bb0fdf48f5599ccd</td>\n",
       "      <td>{\"name\": null, \"meta_data\": {}, \"content\": \"\\u...</td>\n",
       "      <td>None</td>\n",
       "      <td>买方合同编号：TGYR\\-2023\\-01\\n\\n卖方合同编号：\\n\\n订 货 合 同\\n\\...</td>\n",
       "    </tr>\n",
       "    <tr>\n",
       "      <th>1</th>\n",
       "      <td>[0.03296253, -0.040740207, 0.050524026, 0.0732...</td>\n",
       "      <td>36154422eadf8a461041543de6bae879</td>\n",
       "      <td>{\"name\": null, \"meta_data\": {}, \"content\": \"__...</td>\n",
       "      <td>None</td>\n",
       "      <td>__买方合同编号：SZWF\\-CG\\-2011\\-001__\\n\\n__卖方合同编号：__\\...</td>\n",
       "    </tr>\n",
       "    <tr>\n",
       "      <th>2</th>\n",
       "      <td>[0.024683388, -0.06892115, 0.06433709, 0.02245...</td>\n",
       "      <td>883aa66877272f477802cd8a536b7d82</td>\n",
       "      <td>{\"name\": null, \"meta_data\": {}, \"content\": \"__...</td>\n",
       "      <td>None</td>\n",
       "      <td>__买方合同编号：BGYR3\\-E\\-2014\\-01__\\n\\n__卖方合同编号：__\\n...</td>\n",
       "    </tr>\n",
       "    <tr>\n",
       "      <th>3</th>\n",
       "      <td>[0.029732762, -0.055134043, 0.059734143, -0.00...</td>\n",
       "      <td>f1387a7ec67c647a7aa144d84f40413e</td>\n",
       "      <td>{\"name\": null, \"meta_data\": {}, \"content\": \"\\u...</td>\n",
       "      <td>None</td>\n",
       "      <td>买方合同编号：WGZJGLD\\-2019\\-01\\n\\n卖方合同编号：\\n\\n订 货 合 同...</td>\n",
       "    </tr>\n",
       "    <tr>\n",
       "      <th>4</th>\n",
       "      <td>[0.02021305, -0.08162838, 0.04443637, -0.00688...</td>\n",
       "      <td>e4a48ccace620675bc60cbf939c8e206</td>\n",
       "      <td>{\"name\": null, \"meta_data\": {}, \"content\": \"__...</td>\n",
       "      <td>None</td>\n",
       "      <td>__买方合同编号：__BGYR3\\-E\\-2024\\-01\\n\\n__卖方合同编号：__\\n...</td>\n",
       "    </tr>\n",
       "    <tr>\n",
       "      <th>...</th>\n",
       "      <td>...</td>\n",
       "      <td>...</td>\n",
       "      <td>...</td>\n",
       "      <td>...</td>\n",
       "      <td>...</td>\n",
       "    </tr>\n",
       "    <tr>\n",
       "      <th>76</th>\n",
       "      <td>[0.010763203, -0.066128105, 0.030851355, -0.00...</td>\n",
       "      <td>796c79715ce897de0924aa8cb0901d9e</td>\n",
       "      <td>{\"name\": null, \"meta_data\": {}, \"content\": \"\\u...</td>\n",
       "      <td>None</td>\n",
       "      <td>买方合同编号：AYGTYQJH\\-2017\\-08\\n\\n卖方合同编号：\\n\\n订 货 合 ...</td>\n",
       "    </tr>\n",
       "    <tr>\n",
       "      <th>77</th>\n",
       "      <td>[0.00504349, -0.06691239, 0.017229313, -0.0079...</td>\n",
       "      <td>b39258d8375294d53e9bf87217896735</td>\n",
       "      <td>{\"name\": null, \"meta_data\": {}, \"content\": \"\\u...</td>\n",
       "      <td>None</td>\n",
       "      <td>买方合同编号：AYGTYQJH\\-2017\\-08补\\n\\n卖方合同编号：\\n\\n订 货 合...</td>\n",
       "    </tr>\n",
       "    <tr>\n",
       "      <th>78</th>\n",
       "      <td>[-0.007343541, -0.09411233, 0.0275852, -0.0148...</td>\n",
       "      <td>253358c8987157d8098c8519dac37f06</td>\n",
       "      <td>{\"name\": null, \"meta_data\": {}, \"content\": \"\\u...</td>\n",
       "      <td>None</td>\n",
       "      <td>买方合同编号：AYGTYQJH\\-2017\\-10\\n\\n卖方合同编号：\\n\\n订 货 合 ...</td>\n",
       "    </tr>\n",
       "    <tr>\n",
       "      <th>79</th>\n",
       "      <td>[0.025154898, -0.066300765, 0.029478136, 0.007...</td>\n",
       "      <td>a629a69e27f44c85369021438bcbf12e</td>\n",
       "      <td>{\"name\": null, \"meta_data\": {}, \"content\": \"\\u...</td>\n",
       "      <td>None</td>\n",
       "      <td>买方合同编号：AYGTYQJH\\-2017\\-11\\n\\n卖方合同编号：\\n\\n订 货 合 ...</td>\n",
       "    </tr>\n",
       "    <tr>\n",
       "      <th>80</th>\n",
       "      <td>[0.013452517, -0.054954264, 0.035568256, -0.01...</td>\n",
       "      <td>565283865a1c8f43049fe274ba1e87ae</td>\n",
       "      <td>{\"name\": null, \"meta_data\": {}, \"content\": \"\\u...</td>\n",
       "      <td>None</td>\n",
       "      <td>买方合同编号：AYGTYQJH\\-2017\\-13\\n\\n卖方合同编号：\\n\\n订 货 合 ...</td>\n",
       "    </tr>\n",
       "  </tbody>\n",
       "</table>\n",
       "<p>81 rows × 5 columns</p>\n",
       "</div>"
      ],
      "text/plain": [
       "                                               vector  \\\n",
       "0   [0.021162663, -0.057701577, 0.04414577, -0.022...   \n",
       "1   [0.03296253, -0.040740207, 0.050524026, 0.0732...   \n",
       "2   [0.024683388, -0.06892115, 0.06433709, 0.02245...   \n",
       "3   [0.029732762, -0.055134043, 0.059734143, -0.00...   \n",
       "4   [0.02021305, -0.08162838, 0.04443637, -0.00688...   \n",
       "..                                                ...   \n",
       "76  [0.010763203, -0.066128105, 0.030851355, -0.00...   \n",
       "77  [0.00504349, -0.06691239, 0.017229313, -0.0079...   \n",
       "78  [-0.007343541, -0.09411233, 0.0275852, -0.0148...   \n",
       "79  [0.025154898, -0.066300765, 0.029478136, 0.007...   \n",
       "80  [0.013452517, -0.054954264, 0.035568256, -0.01...   \n",
       "\n",
       "                                  id  \\\n",
       "0   c2f491f7f95725d3bb0fdf48f5599ccd   \n",
       "1   36154422eadf8a461041543de6bae879   \n",
       "2   883aa66877272f477802cd8a536b7d82   \n",
       "3   f1387a7ec67c647a7aa144d84f40413e   \n",
       "4   e4a48ccace620675bc60cbf939c8e206   \n",
       "..                               ...   \n",
       "76  796c79715ce897de0924aa8cb0901d9e   \n",
       "77  b39258d8375294d53e9bf87217896735   \n",
       "78  253358c8987157d8098c8519dac37f06   \n",
       "79  a629a69e27f44c85369021438bcbf12e   \n",
       "80  565283865a1c8f43049fe274ba1e87ae   \n",
       "\n",
       "                                              payload name_cn  \\\n",
       "0   {\"name\": null, \"meta_data\": {}, \"content\": \"\\u...    None   \n",
       "1   {\"name\": null, \"meta_data\": {}, \"content\": \"__...    None   \n",
       "2   {\"name\": null, \"meta_data\": {}, \"content\": \"__...    None   \n",
       "3   {\"name\": null, \"meta_data\": {}, \"content\": \"\\u...    None   \n",
       "4   {\"name\": null, \"meta_data\": {}, \"content\": \"__...    None   \n",
       "..                                                ...     ...   \n",
       "76  {\"name\": null, \"meta_data\": {}, \"content\": \"\\u...    None   \n",
       "77  {\"name\": null, \"meta_data\": {}, \"content\": \"\\u...    None   \n",
       "78  {\"name\": null, \"meta_data\": {}, \"content\": \"\\u...    None   \n",
       "79  {\"name\": null, \"meta_data\": {}, \"content\": \"\\u...    None   \n",
       "80  {\"name\": null, \"meta_data\": {}, \"content\": \"\\u...    None   \n",
       "\n",
       "                                           content_cn  \n",
       "0   买方合同编号：TGYR\\-2023\\-01\\n\\n卖方合同编号：\\n\\n订 货 合 同\\n\\...  \n",
       "1   __买方合同编号：SZWF\\-CG\\-2011\\-001__\\n\\n__卖方合同编号：__\\...  \n",
       "2   __买方合同编号：BGYR3\\-E\\-2014\\-01__\\n\\n__卖方合同编号：__\\n...  \n",
       "3   买方合同编号：WGZJGLD\\-2019\\-01\\n\\n卖方合同编号：\\n\\n订 货 合 同...  \n",
       "4   __买方合同编号：__BGYR3\\-E\\-2024\\-01\\n\\n__卖方合同编号：__\\n...  \n",
       "..                                                ...  \n",
       "76  买方合同编号：AYGTYQJH\\-2017\\-08\\n\\n卖方合同编号：\\n\\n订 货 合 ...  \n",
       "77  买方合同编号：AYGTYQJH\\-2017\\-08补\\n\\n卖方合同编号：\\n\\n订 货 合...  \n",
       "78  买方合同编号：AYGTYQJH\\-2017\\-10\\n\\n卖方合同编号：\\n\\n订 货 合 ...  \n",
       "79  买方合同编号：AYGTYQJH\\-2017\\-11\\n\\n卖方合同编号：\\n\\n订 货 合 ...  \n",
       "80  买方合同编号：AYGTYQJH\\-2017\\-13\\n\\n卖方合同编号：\\n\\n订 货 合 ...  \n",
       "\n",
       "[81 rows x 5 columns]"
      ]
     },
     "execution_count": 6,
     "metadata": {},
     "output_type": "execute_result"
    }
   ],
   "source": [
    "data"
   ]
  },
  {
   "cell_type": "code",
   "execution_count": null,
   "id": "fbd7a339",
   "metadata": {},
   "outputs": [],
   "source": []
  }
 ],
 "metadata": {
  "kernelspec": {
   "display_name": ".venv",
   "language": "python",
   "name": "python3"
  },
  "language_info": {
   "codemirror_mode": {
    "name": "ipython",
    "version": 3
   },
   "file_extension": ".py",
   "mimetype": "text/x-python",
   "name": "python",
   "nbconvert_exporter": "python",
   "pygments_lexer": "ipython3",
   "version": "3.12.7"
  }
 },
 "nbformat": 4,
 "nbformat_minor": 5
}
