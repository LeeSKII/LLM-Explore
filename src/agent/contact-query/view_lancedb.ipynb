{
 "cells": [
  {
   "cell_type": "code",
   "execution_count": 1,
   "id": "bbf4626a",
   "metadata": {},
   "outputs": [
    {
     "name": "stdout",
     "output_type": "stream",
     "text": [
      "LanceDB connected at: C:\\Lee\\work\\contract\\db\\tmp\\contact_vectors.lancedb\n"
     ]
    }
   ],
   "source": [
    "import lancedb\n",
    "db_path = \"C:\\\\Lee\\\\work\\\\contract\\\\db\\\\tmp\\\\contact_vectors.lancedb\"\n",
    "# --- 1. 连接/创建 LanceDB 数据库 ---\n",
    "db = lancedb.connect(db_path)\n",
    "print(f\"LanceDB connected at: {db.uri}\")"
   ]
  },
  {
   "cell_type": "code",
   "execution_count": 2,
   "id": "36da2f14",
   "metadata": {},
   "outputs": [
    {
     "name": "stdout",
     "output_type": "stream",
     "text": [
      "Successfully opened table: 'contact_table'\n",
      "Table schema: vector: fixed_size_list<item: float>[1024]\n",
      "  child 0, item: float\n",
      "id: string\n",
      "payload: string\n",
      "Number of rows in table: 50\n"
     ]
    }
   ],
   "source": [
    "# --- 2. 打开表 ---\n",
    "table_name = \"contact_table\" # 你之前创建的表名\n",
    "try:\n",
    "    table = db.open_table(table_name)\n",
    "    print(f\"Successfully opened table: '{table.name}'\")\n",
    "    print(f\"Table schema: {table.schema}\")\n",
    "    print(f\"Number of rows in table: {len(table)}\")\n",
    "except Exception as e:\n",
    "    print(f\"Error opening table '{table_name}': {e}\")\n",
    "    print(f\"Available tables: {db.table_names()}\")\n",
    "    exit()"
   ]
  },
  {
   "cell_type": "code",
   "execution_count": 3,
   "id": "b26088f8",
   "metadata": {},
   "outputs": [],
   "source": [
    "import json\n",
    "\n",
    "def read_and_decode_table(db, table_name):\n",
    "    table = db.open_table(table_name)\n",
    "    df = table.to_pandas()\n",
    "    \n",
    "    if 'payload' not in df.columns:\n",
    "        raise ValueError(\"DataFrame中缺少'payload'列\")\n",
    "    \n",
    "    # 解析payload字符串为字典\n",
    "    df['parsed_payload'] = df['payload'].apply(\n",
    "        lambda x: json.loads(x) if isinstance(x, str) else x\n",
    "    )\n",
    "    \n",
    "    # 直接提取已解码的字段值\n",
    "    df['name_cn'] = df['parsed_payload'].apply(\n",
    "        lambda x: x.get('name') if isinstance(x, dict) else None\n",
    "    )\n",
    "    \n",
    "    df['content_cn'] = df['parsed_payload'].apply(\n",
    "        lambda x: x.get('content') if isinstance(x, dict) else None\n",
    "    )\n",
    "    \n",
    "    # 可选：删除临时解析列\n",
    "    df = df.drop(columns=['parsed_payload'])\n",
    "    \n",
    "    return df"
   ]
  },
  {
   "cell_type": "code",
   "execution_count": 4,
   "id": "0951e9ff",
   "metadata": {},
   "outputs": [],
   "source": [
    "data = read_and_decode_table(db, table_name)"
   ]
  },
  {
   "cell_type": "code",
   "execution_count": 8,
   "id": "4aa23a1a",
   "metadata": {},
   "outputs": [
    {
     "data": {
      "text/plain": [
       "'买方合同编号：TGYR-2023-01卖方合同编号：订 货 合 同项目名称：山东泰山钢铁集团有限公司265㎡烧环冷机余热系统改造工程EPC总承包余热回收项目子项名称：环冷机余热锅炉买方：湖南中冶长天节能环保技术有限公司卖方：江苏东九重工股份有限公司合同签订时期：2023年 8 月合同签订地点：湖南·长沙合 同 双 方<table><tr><td>买\\u3000\\u3000方（印章）</td><td>卖\\u3000\\u3000方（印章）</td></tr><tr><td>名   称：湖南中冶长天节能环保技术有限公司</td><td>名  称：江苏东九重工股份有限公司</td></tr><tr><td>地    址：长沙市岳麓区节庆路7号</td><td>地址：盐城高新区华锐南路9号</td></tr><tr><td>联 系 人：戴亮</td><td>联 系 人：刘忠</td></tr><tr><td>电    话：18773083301</td><td>电    话：0515-88597534</td></tr><tr><td>传    真：</td><td>传    真：0515-88597987</td></tr><tr><td>电子邮件：1203852335@qq.com</td><td>电子邮件：Liuz118@163.com</td></tr><tr><td>开户银行：浦发银行长沙东塘支行</td><td>开户银行： 盐城市中行亭湖支行</td></tr><tr><td>帐    号：6605 0155 2000 0246 8</td><td>帐    号：5456 5820 7770</td></tr><tr><td>纳税人登记号：9143 0100 5849 3952 00</td><td>纳税人登记号：91320900140334109F</td></tr><tr><td>单位名称：湖南中冶长天节能环保技术有限公司</td><td>单位名称： 江苏东九重工股份有限公司</td></tr><tr><td>委托代理人：</td><td>委托代理人： </td></tr><tr><td>签字日期：</td><td>签字日期：</td></tr></table>3.1  最终供货一览表<table><thead><tr><th>序号</th><th colspan=\"2\">货物名称</th><th>规格型号</th><th>单位</th><th>数量</th><th>重量</th><th>单   价（万元RMB）</th><th>总   价（万元RMB）</th><th>交 货 期</th><th>交货地点</th><th>交货方式</th></tr></thead><tbody><tr><td>1</td><td colspan=\"2\">环冷机余热锅炉</td><td>Q230(230)/410(310)-35.03(7)-1.96(0.49)/360(224)</td><td>台</td><td>1</td><td>403</td><td>457</td><td>457</td><td>2023年11月5日</td><td>项目现场</td><td>汽车</td></tr><tr><td colspan=\"2\"></td><td colspan=\"6\">总  计：大写人民币  肆佰伍拾柒万圆整（￥4570000.00）。</td><td></td><td colspan=\"3\"></td></tr></tbody></table>分项价格表<table><tr><td>序号</td><td>项      目</td><td>材质</td><td>单重（吨）</td><td>价格（万元）</td></tr><tr><td>一</td><td>锅炉本体</td><td></td><td rowspan=\"10\">403</td><td rowspan=\"10\">427.7</td></tr><tr><td>1</td><td>高参数过热器</td><td>15CrMo-GB5310</td></tr><tr><td>2</td><td>高压蒸发器</td><td>20-GB3087</td></tr><tr><td>3</td><td>高参数省煤器</td><td>20-GB3087</td></tr><tr><td>4</td><td>低参数过热器</td><td>20-GB3087</td></tr><tr><td>5</td><td>低压蒸发器</td><td>20-GB3087</td></tr><tr><td>6</td><td>低参数省煤器</td><td>20-GB3087</td></tr><tr><td>7\\u3000</td><td>高压锅筒</td><td>Q245R-GB713</td></tr><tr><td>8\\u3000</td><td>低压锅筒</td><td>Q245R-GB713</td></tr><tr><td>9\\u3000</td><td>本体管路</td><td>20-GB3087</td></tr><tr><td>二</td><td>仪表、阀门</td><td></td><td></td><td rowspan=\"7\">15</td></tr><tr><td>1</td><td>双金属温度计、压力表</td><td>1套</td><td></td></tr><tr><td>2</td><td>双色水位计</td><td>2个</td><td></td></tr><tr><td>3</td><td>石英液位计</td><td>2个</td><td></td></tr><tr><td>4</td><td>电接点液位计</td><td>2个</td><td></td></tr><tr><td>5</td><td>双室平衡容器</td><td>2个</td><td></td></tr><tr><td>6</td><td>安全阀</td><td>1套</td><td></td></tr><tr><td>三</td><td>附机</td><td></td><td></td><td>9.8</td></tr><tr><td>1</td><td>除氧头</td><td>1台</td><td></td><td>5</td></tr><tr><td>2</td><td>电动星型卸灰阀</td><td>2只</td><td></td><td>2.4</td></tr><tr><td>3</td><td>电动葫芦</td><td>2台</td><td></td><td>2.4</td></tr><tr><td>四</td><td>备品备件、专用工具</td><td></td><td></td><td>1.3</td></tr><tr><td>五</td><td>运费</td><td></td><td></td><td>13.2</td></tr><tr><td colspan=\"2\">合计</td><td></td><td></td><td>467（优惠至457万元）</td></tr></table>'"
      ]
     },
     "execution_count": 8,
     "metadata": {},
     "output_type": "execute_result"
    }
   ],
   "source": [
    "data.iloc[0]['content_cn']"
   ]
  },
  {
   "cell_type": "code",
   "execution_count": null,
   "id": "f26fd079",
   "metadata": {},
   "outputs": [],
   "source": []
  }
 ],
 "metadata": {
  "kernelspec": {
   "display_name": ".venv",
   "language": "python",
   "name": "python3"
  },
  "language_info": {
   "codemirror_mode": {
    "name": "ipython",
    "version": 3
   },
   "file_extension": ".py",
   "mimetype": "text/x-python",
   "name": "python",
   "nbconvert_exporter": "python",
   "pygments_lexer": "ipython3",
   "version": "3.12.7"
  }
 },
 "nbformat": 4,
 "nbformat_minor": 5
}
