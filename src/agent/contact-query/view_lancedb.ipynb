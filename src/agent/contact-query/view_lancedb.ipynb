{
 "cells": [
  {
   "cell_type": "code",
   "execution_count": 7,
   "id": "bbf4626a",
   "metadata": {},
   "outputs": [
    {
     "name": "stdout",
     "output_type": "stream",
     "text": [
      "LanceDB connected at: C:\\Lee\\work\\contract\\db\\tmp\\contact_vectors.lancedb\n"
     ]
    }
   ],
   "source": [
    "import lancedb\n",
    "db_path = \"C:\\\\Lee\\\\work\\\\contract\\\\db\\\\tmp\\\\contact_vectors.lancedb\"\n",
    "# --- 1. 连接/创建 LanceDB 数据库 ---\n",
    "db = lancedb.connect(db_path)\n",
    "print(f\"LanceDB connected at: {db.uri}\")"
   ]
  },
  {
   "cell_type": "code",
   "execution_count": 8,
   "id": "36da2f14",
   "metadata": {},
   "outputs": [
    {
     "name": "stdout",
     "output_type": "stream",
     "text": [
      "Successfully opened table: 'contact_table'\n",
      "Table schema: vector: fixed_size_list<item: float>[1024]\n",
      "  child 0, item: float\n",
      "id: string\n",
      "payload: string\n",
      "Number of rows in table: 81\n"
     ]
    }
   ],
   "source": [
    "# --- 2. 打开表 ---\n",
    "table_name = \"contact_table\" # 你之前创建的表名\n",
    "try:\n",
    "    table = db.open_table(table_name)\n",
    "    print(f\"Successfully opened table: '{table.name}'\")\n",
    "    print(f\"Table schema: {table.schema}\")\n",
    "    print(f\"Number of rows in table: {len(table)}\")\n",
    "except Exception as e:\n",
    "    print(f\"Error opening table '{table_name}': {e}\")\n",
    "    print(f\"Available tables: {db.table_names()}\")\n",
    "    exit()"
   ]
  },
  {
   "cell_type": "code",
   "execution_count": 10,
   "id": "b26088f8",
   "metadata": {},
   "outputs": [],
   "source": [
    "import json\n",
    "\n",
    "def read_and_decode_table(db, table_name):\n",
    "    table = db.open_table(table_name)\n",
    "    df = table.to_pandas()\n",
    "    \n",
    "    if 'payload' not in df.columns:\n",
    "        raise ValueError(\"DataFrame中缺少'payload'列\")\n",
    "    \n",
    "    # 解析payload字符串为字典\n",
    "    df['parsed_payload'] = df['payload'].apply(\n",
    "        lambda x: json.loads(x) if isinstance(x, str) else x\n",
    "    )\n",
    "    \n",
    "    # 直接提取已解码的字段值\n",
    "    df['name_cn'] = df['parsed_payload'].apply(\n",
    "        lambda x: x.get('name') if isinstance(x, dict) else None\n",
    "    )\n",
    "    \n",
    "    df['content_cn'] = df['parsed_payload'].apply(\n",
    "        lambda x: x.get('content') if isinstance(x, dict) else None\n",
    "    )\n",
    "    \n",
    "    # 可选：删除临时解析列\n",
    "    df = df.drop(columns=['parsed_payload'])\n",
    "    \n",
    "    return df"
   ]
  },
  {
   "cell_type": "code",
   "execution_count": 11,
   "id": "0951e9ff",
   "metadata": {},
   "outputs": [],
   "source": [
    "data = read_and_decode_table(db, table_name)"
   ]
  },
  {
   "cell_type": "code",
   "execution_count": 12,
   "id": "4aa23a1a",
   "metadata": {},
   "outputs": [
    {
     "data": {
      "text/plain": [
       "'买方合同编号：YFYR2023\\\\-04\\n\\n卖方合同编号：\\n\\n订 货 合 同\\n\\n项目名称：山东钢铁集团永锋临港有限公司\\n\\n临港基地二期2\\\\#烧结机余热发电项目\\n\\n子项名称：烧结机余热锅炉\\n\\n买方：湖南中冶长天节能环保技术有限公司\\n\\n卖方：江苏中天能源设备有限公司\\n\\n合同签订时期：2023年4月\\n\\n合同签订地点：湖南·长沙\\n\\n合 同 双 方\\n\\n__买\\u3000\\u3000方（印章）__\\n\\n__卖\\u3000\\u3000方（印章）__\\n\\n__名   称：湖南中冶长天节能环保技术有限公司__\\n\\n__名  称：江苏中天能源设备有限公司__\\n\\n__地    址：长沙市岳麓区节庆路7号__\\n\\n__地址：江苏省扬州市江都区宜陵镇新康路1号__\\n\\n__联 系 人：刘璇__\\n\\n__联 系 人：周文韬__\\n\\n__电    话：18674469888__\\n\\n__电    话：13852746888__\\n\\n__传    真：__\\n\\n__传    真：__\\n\\n__电子邮件：23932814@qq\\\\.com__\\n\\n__电子邮件：13852797676@163\\\\.com__\\n\\n__开户银行：浦发银行长沙东塘支行__\\n\\n__开户银行：江都农村商业银行七里支行__\\n\\n__帐    号：6605 0155 2000 0246 8__\\n\\n__帐    号：3210882301201000008200__\\n\\n__单位名称：湖南中冶长天节能环保技术有限公司__\\n\\n__单位名称：江苏中天能源设备有限公司__\\n\\n__委托代理人：__\\n\\n__委托代理人： __\\n\\n__签字日期：__\\n\\n__签字日期：__\\n\\n3\\\\.1  最终供货一览表\\n\\n__序号__\\n\\n__货物名称__\\n\\n__规格型号__\\n\\n__单位__\\n\\n__数量__\\n\\n__重量（t）__\\n\\n__单   价__\\n\\n__（万元RMB）__\\n\\n__总   价__\\n\\n__（万元RMB）__\\n\\n__交 货 期__\\n\\n__交货__\\n\\n__地点__\\n\\n__交货方式__\\n\\n1\\n\\n烧结机余热锅炉\\n\\n套\\n\\n1\\n\\n166\\\\.34\\n\\n213\\\\.8\\n\\n213\\\\.8\\n\\n2023\\\\.8\\\\.10\\n\\n永锋钢铁临港基地二期项目现场\\n\\n汽车\\n\\n__4  合同金额__\\n\\n根据上述合同文件要求，合同的总价为人民币2138000元（大写：贰佰壹拾叁万捌仟元）。不含税总价为人民币1892035\\\\.4（大写：壹佰捌拾玖万贰仟零叁拾伍元肆角），税额为人民币 245964\\\\.6（大写：贰拾肆万伍仟玖佰陆拾肆元陆角）。\\n\\n附表：设备分项报价表\\n\\n序号\\n\\n项目\\n\\n材料\\n\\n重量（吨）\\n\\n价格（万元）\\n\\n1\\n\\n锅炉本体\\n\\n1\\\\.1\\n\\n蒸发器Ⅰ\\n\\n基管GB5310\\n\\n44\\\\.2\\n\\n48\\\\.62\\n\\n1\\\\.2\\n\\n蒸发器Ⅱ\\n\\n基管GB5310\\n\\n42\\n\\n46\\\\.2\\n\\n1\\\\.3\\n\\n省煤器\\n\\n基管GB5310\\n\\n10\\\\.2\\n\\n11\\\\.22\\n\\n1\\\\.4\\n\\n过热器\\n\\n基管15CrMoG\\n\\n24\\\\.6\\n\\n31\\\\.49\\n\\n1\\\\.5\\n\\n汽包\\n\\nQ245R\\n\\n11\\\\.5\\n\\n15\\\\.53\\n\\n1\\\\.6\\n\\n集汽集箱\\n\\n基管GB5310\\n\\n0\\\\.3\\n\\n0\\\\.42\\n\\n2\\n\\n汽水管道及弯头\\n\\n基管GB3087、\\n\\n304不锈钢\\n\\n17\\\\.74\\n\\n20\\\\.24\\n\\n3\\n\\n钢制组件\\n\\nQ235\\n\\n15\\\\.8\\n\\n14\\\\.9\\n\\n4\\n\\n安全阀\\n\\n3只\\n\\n4\\\\.15\\n\\n5\\n\\n就地仪表\\n\\n13\\\\.61\\n\\n6\\n\\n备品备件\\n\\n0\\\\.16\\n\\n7\\n\\n防腐油漆\\n\\n2\\\\.00\\n\\n8\\n\\n现场服务费\\n\\n1\\\\.00\\n\\n9\\n\\n包装运输及其他\\n\\n4\\\\.26\\n\\n11\\n\\n合计\\n\\n166\\\\.34\\n\\n213\\\\.8\\n\\n'"
      ]
     },
     "execution_count": 12,
     "metadata": {},
     "output_type": "execute_result"
    }
   ],
   "source": [
    "data.iloc[0]['content_cn']"
   ]
  },
  {
   "cell_type": "code",
   "execution_count": 14,
   "id": "e7309c58",
   "metadata": {},
   "outputs": [
    {
     "data": {
      "text/plain": [
       "1499"
      ]
     },
     "execution_count": 14,
     "metadata": {},
     "output_type": "execute_result"
    }
   ],
   "source": [
    "len(data.iloc[0]['content_cn'])"
   ]
  },
  {
   "cell_type": "code",
   "execution_count": 15,
   "id": "f26fd079",
   "metadata": {},
   "outputs": [
    {
     "data": {
      "text/html": [
       "<div>\n",
       "<style scoped>\n",
       "    .dataframe tbody tr th:only-of-type {\n",
       "        vertical-align: middle;\n",
       "    }\n",
       "\n",
       "    .dataframe tbody tr th {\n",
       "        vertical-align: top;\n",
       "    }\n",
       "\n",
       "    .dataframe thead th {\n",
       "        text-align: right;\n",
       "    }\n",
       "</style>\n",
       "<table border=\"1\" class=\"dataframe\">\n",
       "  <thead>\n",
       "    <tr style=\"text-align: right;\">\n",
       "      <th></th>\n",
       "      <th>vector</th>\n",
       "      <th>id</th>\n",
       "      <th>payload</th>\n",
       "      <th>name_cn</th>\n",
       "      <th>content_cn</th>\n",
       "    </tr>\n",
       "  </thead>\n",
       "  <tbody>\n",
       "    <tr>\n",
       "      <th>0</th>\n",
       "      <td>[0.010003624, -0.052496962, 0.059267655, 0.025...</td>\n",
       "      <td>231c8a5e15e551e1d5870ad2bbea990d</td>\n",
       "      <td>{\"name\": null, \"meta_data\": {}, \"content\": \"\\u...</td>\n",
       "      <td>None</td>\n",
       "      <td>买方合同编号：YFYR2023\\-04\\n\\n卖方合同编号：\\n\\n订 货 合 同\\n\\n项...</td>\n",
       "    </tr>\n",
       "    <tr>\n",
       "      <th>1</th>\n",
       "      <td>[0.01984362, -0.0725239, 0.05276262, 0.0152738...</td>\n",
       "      <td>65ba24dea3f708e78a78eab2f5dbf18e</td>\n",
       "      <td>{\"name\": null, \"meta_data\": {}, \"content\": \"__...</td>\n",
       "      <td>None</td>\n",
       "      <td>__买方合同编号：BGGFNXTS\\-2022\\-05__\\n\\n__卖方合同编号：__\\n...</td>\n",
       "    </tr>\n",
       "    <tr>\n",
       "      <th>2</th>\n",
       "      <td>[0.055528764, -0.040872104, 0.03574227, 0.0064...</td>\n",
       "      <td>1bc3b6461cd689f23965c24fa1eb1b85</td>\n",
       "      <td>{\"name\": null, \"meta_data\": {}, \"content\": \"\\u...</td>\n",
       "      <td>None</td>\n",
       "      <td>买方合同编号：JYWFFS\\-2020\\-05\\n\\n卖方合同编号：DJ\\-2034Y\\n\\...</td>\n",
       "    </tr>\n",
       "    <tr>\n",
       "      <th>3</th>\n",
       "      <td>[0.03304358, -0.090981424, -0.0049218237, 0.03...</td>\n",
       "      <td>8b656cb675ce33ea62d8bfd406b4dfc5</td>\n",
       "      <td>{\"name\": null, \"meta_data\": {}, \"content\": \"\\u...</td>\n",
       "      <td>None</td>\n",
       "      <td>买方合同编号：LGYR2024\\-05\\n\\n卖方合同编号：\\n\\n订 货 合 同\\n\\n项...</td>\n",
       "    </tr>\n",
       "    <tr>\n",
       "      <th>4</th>\n",
       "      <td>[0.02714693, -0.04305296, 0.053879887, -0.0057...</td>\n",
       "      <td>08a68a39353aa71595b1cf9528a85f8d</td>\n",
       "      <td>{\"name\": null, \"meta_data\": {}, \"content\": \"__...</td>\n",
       "      <td>None</td>\n",
       "      <td>__买方合同编号：JSXGYR2024\\-07__\\n\\n__卖方合同编号：__\\n\\n订 ...</td>\n",
       "    </tr>\n",
       "    <tr>\n",
       "      <th>5</th>\n",
       "      <td>[0.008293288, -0.047394957, 0.063790694, 0.012...</td>\n",
       "      <td>8be2a2fe4888f815b8238616d743cb36</td>\n",
       "      <td>{\"name\": null, \"meta_data\": {}, \"content\": \"\\u...</td>\n",
       "      <td>None</td>\n",
       "      <td>买方合同编号：MGFD\\-2020\\-11\\n\\n卖方合同编号：\\n\\n订 货 合 同\\n\\...</td>\n",
       "    </tr>\n",
       "    <tr>\n",
       "      <th>6</th>\n",
       "      <td>[0.029042367, -0.0670312, 0.04527044, -0.00822...</td>\n",
       "      <td>7a16af68b447896f349687bf638d8e27</td>\n",
       "      <td>{\"name\": null, \"meta_data\": {}, \"content\": \"__...</td>\n",
       "      <td>None</td>\n",
       "      <td>__买方合同编号：NGYR2022\\-01__\\n\\n__卖方合同编号：__\\n\\n订 货 ...</td>\n",
       "    </tr>\n",
       "    <tr>\n",
       "      <th>7</th>\n",
       "      <td>[0.028757885, -0.05789458, 0.06436589, -0.0078...</td>\n",
       "      <td>f8bf4d1677f8e3098ef8dd75d19298b3</td>\n",
       "      <td>{\"name\": null, \"meta_data\": {}, \"content\": \"__...</td>\n",
       "      <td>None</td>\n",
       "      <td>__买方合同编号：BGSS\\-NH\\-001__\\n\\n__卖方合同编号：__\\n\\n订货合...</td>\n",
       "    </tr>\n",
       "    <tr>\n",
       "      <th>8</th>\n",
       "      <td>[0.00824705, -0.046710312, 0.05740008, 0.03134...</td>\n",
       "      <td>3dc473eb2f37f6ad3d1c4fd1faac53d8</td>\n",
       "      <td>{\"name\": null, \"meta_data\": {}, \"content\": \"\\u...</td>\n",
       "      <td>None</td>\n",
       "      <td>山东钢铁集团永锋临港有限公司\\n\\n临港先进优特钢产业基地一期项目\\n\\n提铁减锌项目\\n\\...</td>\n",
       "    </tr>\n",
       "    <tr>\n",
       "      <th>9</th>\n",
       "      <td>[0.027195001, -0.055842165, 0.066568345, 0.005...</td>\n",
       "      <td>de588ef3e2f54690df9697010cfdc65f</td>\n",
       "      <td>{\"name\": null, \"meta_data\": {}, \"content\": \"\\u...</td>\n",
       "      <td>None</td>\n",
       "      <td>买方合同编号：MGFD5\\-2021\\-01\\n\\n卖方合同编号：\\n\\n订 货 合 同\\n...</td>\n",
       "    </tr>\n",
       "  </tbody>\n",
       "</table>\n",
       "</div>"
      ],
      "text/plain": [
       "                                              vector  \\\n",
       "0  [0.010003624, -0.052496962, 0.059267655, 0.025...   \n",
       "1  [0.01984362, -0.0725239, 0.05276262, 0.0152738...   \n",
       "2  [0.055528764, -0.040872104, 0.03574227, 0.0064...   \n",
       "3  [0.03304358, -0.090981424, -0.0049218237, 0.03...   \n",
       "4  [0.02714693, -0.04305296, 0.053879887, -0.0057...   \n",
       "5  [0.008293288, -0.047394957, 0.063790694, 0.012...   \n",
       "6  [0.029042367, -0.0670312, 0.04527044, -0.00822...   \n",
       "7  [0.028757885, -0.05789458, 0.06436589, -0.0078...   \n",
       "8  [0.00824705, -0.046710312, 0.05740008, 0.03134...   \n",
       "9  [0.027195001, -0.055842165, 0.066568345, 0.005...   \n",
       "\n",
       "                                 id  \\\n",
       "0  231c8a5e15e551e1d5870ad2bbea990d   \n",
       "1  65ba24dea3f708e78a78eab2f5dbf18e   \n",
       "2  1bc3b6461cd689f23965c24fa1eb1b85   \n",
       "3  8b656cb675ce33ea62d8bfd406b4dfc5   \n",
       "4  08a68a39353aa71595b1cf9528a85f8d   \n",
       "5  8be2a2fe4888f815b8238616d743cb36   \n",
       "6  7a16af68b447896f349687bf638d8e27   \n",
       "7  f8bf4d1677f8e3098ef8dd75d19298b3   \n",
       "8  3dc473eb2f37f6ad3d1c4fd1faac53d8   \n",
       "9  de588ef3e2f54690df9697010cfdc65f   \n",
       "\n",
       "                                             payload name_cn  \\\n",
       "0  {\"name\": null, \"meta_data\": {}, \"content\": \"\\u...    None   \n",
       "1  {\"name\": null, \"meta_data\": {}, \"content\": \"__...    None   \n",
       "2  {\"name\": null, \"meta_data\": {}, \"content\": \"\\u...    None   \n",
       "3  {\"name\": null, \"meta_data\": {}, \"content\": \"\\u...    None   \n",
       "4  {\"name\": null, \"meta_data\": {}, \"content\": \"__...    None   \n",
       "5  {\"name\": null, \"meta_data\": {}, \"content\": \"\\u...    None   \n",
       "6  {\"name\": null, \"meta_data\": {}, \"content\": \"__...    None   \n",
       "7  {\"name\": null, \"meta_data\": {}, \"content\": \"__...    None   \n",
       "8  {\"name\": null, \"meta_data\": {}, \"content\": \"\\u...    None   \n",
       "9  {\"name\": null, \"meta_data\": {}, \"content\": \"\\u...    None   \n",
       "\n",
       "                                          content_cn  \n",
       "0  买方合同编号：YFYR2023\\-04\\n\\n卖方合同编号：\\n\\n订 货 合 同\\n\\n项...  \n",
       "1  __买方合同编号：BGGFNXTS\\-2022\\-05__\\n\\n__卖方合同编号：__\\n...  \n",
       "2  买方合同编号：JYWFFS\\-2020\\-05\\n\\n卖方合同编号：DJ\\-2034Y\\n\\...  \n",
       "3  买方合同编号：LGYR2024\\-05\\n\\n卖方合同编号：\\n\\n订 货 合 同\\n\\n项...  \n",
       "4  __买方合同编号：JSXGYR2024\\-07__\\n\\n__卖方合同编号：__\\n\\n订 ...  \n",
       "5  买方合同编号：MGFD\\-2020\\-11\\n\\n卖方合同编号：\\n\\n订 货 合 同\\n\\...  \n",
       "6  __买方合同编号：NGYR2022\\-01__\\n\\n__卖方合同编号：__\\n\\n订 货 ...  \n",
       "7  __买方合同编号：BGSS\\-NH\\-001__\\n\\n__卖方合同编号：__\\n\\n订货合...  \n",
       "8  山东钢铁集团永锋临港有限公司\\n\\n临港先进优特钢产业基地一期项目\\n\\n提铁减锌项目\\n\\...  \n",
       "9  买方合同编号：MGFD5\\-2021\\-01\\n\\n卖方合同编号：\\n\\n订 货 合 同\\n...  "
      ]
     },
     "execution_count": 15,
     "metadata": {},
     "output_type": "execute_result"
    }
   ],
   "source": [
    "data"
   ]
  },
  {
   "cell_type": "code",
   "execution_count": null,
   "id": "fbd7a339",
   "metadata": {},
   "outputs": [],
   "source": []
  }
 ],
 "metadata": {
  "kernelspec": {
   "display_name": ".venv",
   "language": "python",
   "name": "python3"
  },
  "language_info": {
   "codemirror_mode": {
    "name": "ipython",
    "version": 3
   },
   "file_extension": ".py",
   "mimetype": "text/x-python",
   "name": "python",
   "nbconvert_exporter": "python",
   "pygments_lexer": "ipython3",
   "version": "3.12.7"
  }
 },
 "nbformat": 4,
 "nbformat_minor": 5
}
