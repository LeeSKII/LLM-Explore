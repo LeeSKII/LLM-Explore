{
 "cells": [
  {
   "cell_type": "code",
   "execution_count": 1,
   "id": "55f35e89",
   "metadata": {},
   "outputs": [],
   "source": [
    "import mammoth\n",
    "\n",
    "def docx_to_html_mammoth(docx_path, html_path):\n",
    "    with open(docx_path, \"rb\") as docx_file:\n",
    "        result = mammoth.convert_to_html(docx_file)\n",
    "        html = result.value  # 获取转换后的HTML内容\n",
    "        \n",
    "        with open(html_path, \"w\", encoding=\"utf-8\") as html_file:\n",
    "            html_file.write(html)"
   ]
  },
  {
   "cell_type": "code",
   "execution_count": 3,
   "id": "abd44fc9",
   "metadata": {},
   "outputs": [
    {
     "name": "stdout",
     "output_type": "stream",
     "text": [
      "<p>项目名称：包头钢铁（集团）有限责任公司新体系2×500m2烧结余热利用项目</p><p>汽轮机转子修理、修缮合同</p><p>合同编号（供方）：2014-HYXJ-51</p><p>合同编号（需方）：BTYR-E-2012-001A</p><p>供方：包头市海洋冶金机械有限公司                    签订时间：2014年9月28日</p><p>需方：中冶长天国际工程有限责任公司                  签订地点：包头 </p><ol><li>产品名称、型号或图号、数量、金额、供货期限。</li></ol><table><tr><td><p><strong>序号</strong></p></td><td><p><strong>图号、型号</strong></p></td><td><p><strong>修 理 项 目</strong></p></td><td><p><strong>金额（元）</strong></p></td><td><p><strong>交货期限</strong></p></td></tr><tr><td><p><strong>1</strong></p></td><td rowspan=\"3\"><p><strong>NZ30-1.6/0.4</strong></p></td><td><p><strong>上车床加工轴颈（2#瓦位置），转子弯曲度检测</strong></p></td><td><p><strong>70000</strong></p></td><td rowspan=\"3\"><p><strong>按转子到南汽现场算起7-10天</strong></p></td></tr><tr><td><p><strong>2</strong></p></td><td><p><strong>实配轴瓦二付</strong></p></td><td><p><strong>52000</strong></p></td></tr><tr><td><p><strong>3</strong></p></td><td><p><strong>高速动平衡（含实配工装）</strong></p></td><td><p><strong>88000</strong></p></td></tr><tr><td><p><strong>合计</strong></p></td><td colspan=\"4\"><p><strong>含17%税金：贰拾壹万元整（￥210000.00）</strong></p></td></tr></table>\n"
     ]
    }
   ],
   "source": [
    "result = mammoth.convert_to_html(r\"D:\\work\\others\\docx_files\\01A 汽轮机修复合同.docx\")\n",
    "print(result.value)"
   ]
  },
  {
   "cell_type": "code",
   "execution_count": null,
   "id": "d00efe6c",
   "metadata": {},
   "outputs": [],
   "source": []
  }
 ],
 "metadata": {
  "kernelspec": {
   "display_name": ".venv",
   "language": "python",
   "name": "python3"
  },
  "language_info": {
   "codemirror_mode": {
    "name": "ipython",
    "version": 3
   },
   "file_extension": ".py",
   "mimetype": "text/x-python",
   "name": "python",
   "nbconvert_exporter": "python",
   "pygments_lexer": "ipython3",
   "version": "3.12.8"
  }
 },
 "nbformat": 4,
 "nbformat_minor": 5
}
