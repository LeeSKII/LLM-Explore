{
 "cells": [
  {
   "cell_type": "code",
   "execution_count": null,
   "id": "2c43d5a9",
   "metadata": {},
   "outputs": [],
   "source": [
    "import os\n",
    "from dotenv import load_dotenv\n",
    "load_dotenv()\n",
    "from agno.agent import Agent\n",
    "import datetime\n",
    "from agno.models.openai import OpenAILike\n",
    "import json\n",
    "import httpx\n",
    "\n",
    "#------------------ settings ------------------\n",
    "api_key=os.getenv(\"QWEN_API_KEY\")\n",
    "base_url=os.getenv(\"QWEN_API_BASE_URL\")\n",
    "local_base_url = 'http://192.168.0.166:8000/v1'\n",
    "local_model_name = 'Qwen3-235B'\n",
    "model_name = 'qwen-plus-latest'\n",
    "\n",
    "local_settings = {\n",
    "  'api_key' : '123',\n",
    "  'base_url' : local_base_url,\n",
    "  'id' : local_model_name\n",
    "}\n",
    "\n",
    "qwen_settings = {\n",
    "  'api_key' : api_key,\n",
    "  'base_url' : base_url,\n",
    "  'id' : model_name\n",
    "}\n",
    "\n",
    "settings = qwen_settings\n",
    "#------------------ settings ------------------\n",
    "\n",
    "ding_app_key = os.getenv('DING_APP_KEY')\n",
    "ding_app_secret = os.getenv('DING_APP_SECRET')"
   ]
  },
  {
   "cell_type": "code",
   "execution_count": 48,
   "id": "5a936fe6",
   "metadata": {},
   "outputs": [],
   "source": [
    "def get_last_week_timestamps():\n",
    "    # 获取当前时间\n",
    "    now = datetime.datetime.now()\n",
    "    \n",
    "    # 计算今天是本周的第几天（周一为0，周日为6）\n",
    "    today_weekday = now.weekday()\n",
    "    \n",
    "    # 计算上周日的日期（今天的日期 - 今天星期几 - 1天）\n",
    "    last_sunday = now - datetime.timedelta(days=today_weekday + 1)\n",
    "    \n",
    "    # 计算上周一的日期（上周日 - 6天）\n",
    "    last_monday = last_sunday - datetime.timedelta(days=6)\n",
    "    \n",
    "    # 设置上周一的时间为00:00:00\n",
    "    last_monday_start = last_monday.replace(hour=0, minute=0, second=0, microsecond=0)\n",
    "    \n",
    "    # 设置上周日的时间为23:59:59.999999\n",
    "    last_sunday_end = last_sunday.replace(hour=23, minute=59, second=59, microsecond=999999)\n",
    "    \n",
    "    # 转换为时间戳（秒级），然后乘以1000得到13位毫秒级时间戳\n",
    "    monday_timestamp = int(last_monday_start.timestamp() * 1000)\n",
    "    sunday_timestamp = int(last_sunday_end.timestamp() * 1000)\n",
    "    \n",
    "    # 格式化日期为YYYY-MM-DD\n",
    "    monday_date_str = last_monday.strftime(\"%Y-%m-%d\")\n",
    "    sunday_date_str = last_sunday.strftime(\"%Y-%m-%d\")\n",
    "    \n",
    "    return monday_timestamp, sunday_timestamp,monday_date_str,sunday_date_str\n",
    "\n",
    "def get_access_token(appKey, appSecret):\n",
    "    url = \"https://api.dingtalk.com/v1.0/oauth2/accessToken\"\n",
    "    # JSON 请求体\n",
    "    json_data = {\n",
    "        \"appKey\":appKey,\n",
    "        \"appSecret\":appSecret\n",
    "    }\n",
    "    # 发送 POST 请求\n",
    "    response = httpx.post(\n",
    "        url,\n",
    "        json=json_data,  # 自动设置 Content-Type: application/json\n",
    "        timeout=10.0  # 可选：设置超时\n",
    "    )\n",
    "    # 处理响应\n",
    "    if response.status_code == 200:\n",
    "        result = response.json()\n",
    "        # print(\"请求成功:\", result)  # 解析 JSON 响应\n",
    "        return result['accessToken']\n",
    "    else:\n",
    "        print(f\"请求失败，状态码: {response.status_code}, 错误: {response.text}\")\n",
    "        return None\n",
    "\n",
    "def get_report(access_token, start_time, end_time):\n",
    "    # 请求 URL\n",
    "    url = \"https://oapi.dingtalk.com/topapi/report/list?access_token=db37eafb549a3158a52711ed2dc80dd8\"\n",
    "    # JSON 请求体\n",
    "    json_data = {\n",
    "        \"cursor\": \"0\",\n",
    "        \"start_time\": start_time,\n",
    "        \"template_name\": \"管理数字化工作周报\",\n",
    "        \"size\": 20,\n",
    "        \"end_time\": end_time\n",
    "    }\n",
    "\n",
    "    # 发送 POST 请求\n",
    "    response = httpx.post(\n",
    "        url,\n",
    "        json=json_data,  # 自动设置 Content-Type: application/json\n",
    "        timeout=10.0  # 可选：设置超时\n",
    "    )\n",
    "\n",
    "    # 处理响应\n",
    "    if response.status_code == 200:\n",
    "        result = response.json()\n",
    "        # print(\"请求成功:\", result)  # 解析 JSON 响应\n",
    "        return json.dumps(result, ensure_ascii=False)\n",
    "    else:\n",
    "        print(f\"请求失败，状态码: {response.status_code}, 错误: {response.text}\")\n",
    "        return None"
   ]
  },
  {
   "cell_type": "code",
   "execution_count": 49,
   "id": "756611f2",
   "metadata": {},
   "outputs": [],
   "source": [
    "# 使用示例\n",
    "monday_ts, sunday_ts,monday_date_str,sunday_date_str = get_last_week_timestamps()\n",
    "access_token = get_access_token(appKey=ding_app_key, appSecret=ding_app_secret)\n",
    "weekly_report = get_report(access_token, monday_ts, sunday_ts)"
   ]
  },
  {
   "cell_type": "code",
   "execution_count": null,
   "id": "f6397abf",
   "metadata": {},
   "outputs": [],
   "source": [
    "weekly_report"
   ]
  },
  {
   "cell_type": "code",
   "execution_count": 50,
   "id": "86ef4708",
   "metadata": {},
   "outputs": [],
   "source": [
    "agent = Agent(model=OpenAILike(**settings),description='你是一位周报总结专家.',instructions=['首先按照用户进行分组','根据用户的项目进行分组汇总项目事项','根据项目信息最后进行简短\\客观\\事实的分析总结','不要遗漏任何项目和项目事项信息',\"严谨虚构和假设任何数据,没有请回答无记录\",f'报告标题为:{monday_date_str}-{sunday_date_str}周报'],add_datetime_to_instructions=True,markdown=True,telemetry=False)"
   ]
  },
  {
   "cell_type": "code",
   "execution_count": 51,
   "id": "c0a2d6ee",
   "metadata": {},
   "outputs": [],
   "source": [
    "response = agent.run(message=weekly_report)"
   ]
  },
  {
   "cell_type": "code",
   "execution_count": 52,
   "id": "b9c336f5",
   "metadata": {},
   "outputs": [
    {
     "name": "stdout",
     "output_type": "stream",
     "text": [
      "# 2025-06-16 至 2025-06-22 周报\n",
      "\n",
      "## 用户数据汇总\n",
      "\n",
      "当前周报周期内，根据提供的记录：\n",
      "- 没有用户提交相关的项目信息。\n",
      "- 没有具体的任务或进展记录。\n",
      "\n",
      "## 分析总结\n",
      "\n",
      "本周报周期内无任何项目事项记录，无法进行进一步的分类汇总与分析。建议确认相关系统或数据源是否正常运行，或者是否有遗漏的信息需要补充。\n",
      "\n",
      "如需进一步协助，请提供具体数据内容。\n"
     ]
    }
   ],
   "source": [
    "print(response.content)"
   ]
  },
  {
   "cell_type": "code",
   "execution_count": null,
   "id": "3dd8b194",
   "metadata": {},
   "outputs": [],
   "source": []
  }
 ],
 "metadata": {
  "kernelspec": {
   "display_name": "Python 3",
   "language": "python",
   "name": "python3"
  },
  "language_info": {
   "codemirror_mode": {
    "name": "ipython",
    "version": 3
   },
   "file_extension": ".py",
   "mimetype": "text/x-python",
   "name": "python",
   "nbconvert_exporter": "python",
   "pygments_lexer": "ipython3",
   "version": "3.13.2"
  }
 },
 "nbformat": 4,
 "nbformat_minor": 5
}
