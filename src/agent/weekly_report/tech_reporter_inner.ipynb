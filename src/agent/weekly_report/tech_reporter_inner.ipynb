{
 "cells": [
  {
   "cell_type": "code",
   "execution_count": 77,
   "id": "bda278e9",
   "metadata": {},
   "outputs": [],
   "source": [
    "import os\n",
    "from dotenv import load_dotenv\n",
    "load_dotenv()\n",
    "from agno.agent import Agent\n",
    "import datetime\n",
    "from agno.models.openai import OpenAILike\n",
    "import json\n",
    "import httpx\n",
    "\n",
    "#------------------ settings ------------------\n",
    "api_key=os.getenv(\"DEEPSEEK_API_KEY\")\n",
    "base_url=os.getenv(\"DEEPSEEK_API_BASE_URL\")\n",
    "local_base_url = 'http://192.168.0.166:8000/v1'\n",
    "local_model_name = 'Qwen3-235B'\n",
    "model_name = 'deepseek-reasoner'\n",
    "\n",
    "local_settings = {\n",
    "  'api_key' : '123',\n",
    "  'base_url' : local_base_url,\n",
    "  'id' : local_model_name\n",
    "}\n",
    "\n",
    "online_settings = {\n",
    "  'api_key' : api_key,\n",
    "  'base_url' : base_url,\n",
    "  'id' : model_name\n",
    "}\n",
    "\n",
    "settings = local_settings\n",
    "#------------------ settings ------------------"
   ]
  },
  {
   "cell_type": "code",
   "execution_count": 4,
   "id": "3faacffa",
   "metadata": {},
   "outputs": [],
   "source": [
    "data = {\n",
    "  \"data_list\": [\n",
    "    {\"no\":9,\"first_paragraph\":\"AI+BIM平台\",\"content\":\"\"\"BIM协同设计平台Ai审图功能正式上线，提高了模型碰撞检查效率。\"\"\"},\n",
    "    {\"no\":6,\"first_paragraph\":\"AI+项目管理\",\"content\":\"\"\"<span style=\"color:#404040;font-family:quote-cjk-patch, Inter, system-ui, -apple-system, BlinkMacSystemFont, &quot;font-size:16.002px;background-color:#FFFFFF;\">进行</span><span style=\"color:#404040;font-family:quote-cjk-patch, Inter, system-ui, -apple-system, BlinkMacSystemFont, &quot;font-size:16.002px;background-color:#FFFFFF;\">物流模块流程梳理</span><span style=\"color:#404040;font-family:quote-cjk-patch, Inter, system-ui, -apple-system, BlinkMacSystemFont, &quot;font-size:16.002px;background-color:#FFFFFF;\">并紧密</span><span style=\"color:#404040;font-family:quote-cjk-patch, Inter, system-ui, -apple-system, BlinkMacSystemFont, &quot;font-size:16.002px;background-color:#FFFFFF;\">配合数字建造平台的建设进程</span><span style=\"color:#404040;font-family:quote-cjk-patch, Inter, system-ui, -apple-system, BlinkMacSystemFont, &quot;font-size:16.002px;background-color:#FFFFFF;\">。同时系统性地</span><span style=\"color:#404040;font-family:quote-cjk-patch, Inter, system-ui, -apple-system, BlinkMacSystemFont, &quot;font-size:16.002px;background-color:#FFFFFF;\">梳理与整合项目管理经济线及对应生产线</span><span style=\"color:#404040;font-family:quote-cjk-patch, Inter, system-ui, -apple-system, BlinkMacSystemFont, &quot;font-size:16.002px;background-color:#FFFFFF;\">，确保端到端的业务协同。</span><span style=\"color:#404040;font-family:quote-cjk-patch, Inter, system-ui, -apple-system, BlinkMacSystemFont, &quot;font-size:16.002px;background-color:#FFFFFF;\">以流程驱动为核心方法论</span><span style=\"color:#404040;font-family:quote-cjk-patch, Inter, system-ui, -apple-system, BlinkMacSystemFont, &quot;font-size:16.002px;background-color:#FFFFFF;\">，深度梳理各环节逻辑与数据流，在重要场景如项目全景内容生成、项目风险智能识别中加入AI能力进行系统设计。</span>\"\"\"},\n",
    "{\"no\":1,\"first_paragraph\":\"AI 国内外进展\",\"content\":\"\"\"<p>\n",
    "\t<br />\n",
    "</p>\n",
    "<p>\n",
    "\t5月14日，OpenAI 发布 语言模型 GPT-4.1系列，专用于编码任务，更擅长指令遵循和Web开发。\n",
    "</p>\n",
    "<p>\n",
    "\t<br />\n",
    "</p>\n",
    "<p>\n",
    "\t5月20日，谷歌 发布 视频生成模型 Veo3，首次实现视频与音频的原生同步生成。发布 图像生成模型 Imagen 4，生成的图像细节更逼真。发布 AI电影制作工具Flow。\n",
    "</p>\n",
    "<p>\n",
    "\t<br />\n",
    "</p>\n",
    "<p>\n",
    "\t5月21日，谷歌 发布 开源端侧多模态模型 Gemma 3n，参数5B和8B，支持音频、文本、图片和视频等多种数据类型。设备端本地运行。\n",
    "</p>\n",
    "<p>\n",
    "\t<br />\n",
    "</p>\n",
    "<p>\n",
    "\t5月22日，Anthropic 发布 多模态推理思考模型 Claude 4 Opus 和 Claude 4 Sonnet，具备7小时自主任务执行连续工作能力，可在扩展思考过程中使用外部工具，代码与推理能力提升。\n",
    "</p>\n",
    "<p>\n",
    "\t<br />\n",
    "</p>\n",
    "<p>\n",
    "\t5月28日，深度求索DeepSeek 发布更新 开源推理思考模型 DeepSeek-R1-0528，优化复杂推理与幻觉问题。\n",
    "</p>\n",
    "<p>\n",
    "\t<br />\n",
    "</p>\n",
    "<p>\n",
    "\t6月5日，谷歌Google的DeepMind 更新发布 多模态推理思考模型 Gemini 2.5 Pro preview(0605)，100万token的上下文处理能力。\n",
    "</p>\n",
    "<p>\n",
    "\t<br />\n",
    "</p>\n",
    "<p>\n",
    "\t6月6日，阿里巴巴 发布 开源向量模型 Qwen3-Embedding 和 Qwen3-Reranker，专为文本表征、检索与排序任务设计，支持119种语言及编程语言，提升搜索相关性。\n",
    "</p>\n",
    "<p>\n",
    "\t<br />\n",
    "</p>\n",
    "<p>\n",
    "\t6月10日，OpenAI 发布 多模态推理思考模型 o3-pro。\n",
    "</p>\n",
    "<p>\n",
    "\t<br />\n",
    "</p>\n",
    "<p>\n",
    "\t6月11日，字节跳动 更新发布 多模态推理思考模型 doubao-seed-1.6系列。\n",
    "</p>\n",
    "<p>\n",
    "\t<br />\n",
    "</p>\n",
    "<p>\n",
    "\t6月27日，腾讯混元 发布开源的混合推理MoE模型 Hunyuan-A13B。\n",
    "</p>\n",
    "<p>\n",
    "\t<br />\n",
    "</p>\"\"\"},\n",
    "{\"no\":8,\"first_paragraph\":\"AI+智能设计\",\"content\":\"\"\"利用AI的代码分析与智能编程能力，将低版本的Revit、CAD二次开发软件，自动改编为高版本的软件，开发时间缩短80%以上。涵盖：能环公司管道系统明细表智能设计软件、结构件明细表智能设计软件；矿业公司矿浆管道明细表智能设计软件等。\"\"\"},\n",
    "{\"no\":3,\"first_paragraph\":'AI+流程管理',\"content\":\"\"\"<p>\n",
    "\t为提升公文流转效能，信息与数字化中心运用AI+技术对收文流程进行了智能化改造。新系统以“数字化企业大脑”为核心，能够智能识别公文的“特急、紧急、正常”等级，并自动执行分级分类的催办提醒策略。更关键的是，AI+引擎能主动监控全流程时限，一旦发现超时风险，将触发智能预警，自动生成报警信息并精准推送至公司办或党群部领导。领导仅需一键处置即可完成催办，彻底改变了过去人工督办的模式。此举实现了公文管理从“被动追查”到“主动预警、智能干预”的跨越，显著提升了公文办理的流转效率。\n",
    "</p>\"\"\"},\n",
    "{\"no\":2,\"first_paragraph\":'AI+数字大脑',\"content\":\"\"\"\"<p style=\"\"font-family:Ubuntu, -apple-system, BlinkMacSystemFont, &quot;font-size:14px;background-color:#FFFFFF;\"\">\n",
    "\t1、数字化企业大脑平台已完成与AI大模型的深度集成，成功实现六大核心场景的智能化应用落地：\n",
    "</p>\n",
    "<ol style=\"\"font-family:Ubuntu, -apple-system, BlinkMacSystemFont, &quot;font-size:14px;background-color:#FFFFFF;\"\">\n",
    "\t<li>\n",
    "\t\t全域人员信息智能检索\n",
    "\t</li>\n",
    "\t<li>\n",
    "\t\t跨区域差旅人员动态追踪\n",
    "\t</li>\n",
    "\t<li>\n",
    "\t\t企业经营指标实时分析\n",
    "\t</li>\n",
    "\t<li>\n",
    "\t\t科技情报精准获取\n",
    "\t</li>\n",
    "\t<li>\n",
    "\t\t商旅异常订单智能预警\n",
    "\t</li>\n",
    "\t<li>\n",
    "\t\t经营差旅大数据分析&nbsp; &nbsp; &nbsp; &nbsp; &nbsp; &nbsp; &nbsp; &nbsp; &nbsp; &nbsp; &nbsp; &nbsp; &nbsp; &nbsp; &nbsp;&nbsp;\n",
    "\t</li>\n",
    "</ol>\n",
    "<p>\n",
    "\t<span style=\"\"background-color:#FFFFFF;\"\"><span style=\"\"color:rgba(0, 0, 0, 0.85);font-family:Inter, -apple-system, BlinkMacSystemFont, &quot;font-size:16px;background-color:#FFFFFF;\"\">2、数字化企业大脑平台已完成 AI 应用角色权限管理系统的开发，实现了多维度、细粒度的权限控制，有效保障了数字大脑 AI 应用的合规性、安全性与灵活性。</span><br />\n",
    "</span>\n",
    "</p>\n",
    "<p>\n",
    "\t<span style=\"\"background-color:#FFFFFF;\"\"><br />\n",
    "</span>\n",
    "</p>\"\n",
    "\"\"\"},\n",
    "{\"no\":7,\"first_paragraph\":'AI+审计财会',\"content\":\"\"\"<p style=\"text-align:center;\">\n",
    "\t<strong>AI+审计财会”应用进展简报</strong>\n",
    "</p>\n",
    "<p>\n",
    "\t一、总包/业主/支出类合同分类及发票凭证信息提取\n",
    "</p>\n",
    "<ul>\n",
    "\t<li>\n",
    "\t\t<p>\n",
    "\t\t\t<strong>合同分类自动化</strong>：根据合同辅助核算名称，实现对各类合同的自动归档和标签化，极大减少人工分类的繁琐工作及潜在错误。\n",
    "\t\t</p>\n",
    "\t</li>\n",
    "\t<li>\n",
    "\t\t<p>\n",
    "\t\t\t<strong>精准提取收票凭证、付款凭证</strong>：系统自动去重、分类，针对【科目名称】、【对方科目】进行筛选，精准定位凭证信息。\n",
    "\t\t</p>\n",
    "\t</li>\n",
    "\t<li>\n",
    "\t\t<p>\n",
    "\t\t\t<strong>自动化审计与账款比对</strong>：自动计算未收票金额和未付金额，并与应付余额进行比对，快速识别可能存在的抵账等需人工判断的特殊情况，生成审计分析报告。\n",
    "\t\t</p>\n",
    "\t</li>\n",
    "\t<li>\n",
    "\t\t<p>\n",
    "\t\t\t<strong>数据结构化</strong>：处理完成后，AI将按合同归集的凭证数据生成独立新工作表（工作表2），与原始明细账并存，便于审计人员查阅和复核。\n",
    "\t\t</p>\n",
    "\t</li>\n",
    "</ul>\n",
    "<p>\n",
    "\t&nbsp;&nbsp;&nbsp;&nbsp;&nbsp;&nbsp;&nbsp;&nbsp;该应用已在大规模审计中使用，正在持续优化，覆盖支出等多类合同审计场景。\n",
    "</p>\n",
    "<p>\n",
    "\t二、发票入库领料单自动生成系统\n",
    "</p>\n",
    "<ul>\n",
    "\t<li>\n",
    "\t\t<p>\n",
    "\t\t\t优化视觉分析大模型，提升复杂物料清单发票提取准确度。\n",
    "\t\t</p>\n",
    "\t</li>\n",
    "\t<li>\n",
    "\t\t<p>\n",
    "\t\t\t实现发票信息自动匹配订单，自动生成入库及领料单，并推动审批流程。\n",
    "\t\t</p>\n",
    "\t</li>\n",
    "\t<li>\n",
    "\t\t<p>\n",
    "\t\t\t系统已完成接口对接，核心模块进入稳定测试，招财中心已开始试用。\n",
    "\t\t</p>\n",
    "\t</li>\n",
    "</ul>\n",
    "<p>\n",
    "\t总结\n",
    "</p>\n",
    "<p>\n",
    "\t&nbsp;&nbsp;&nbsp;&nbsp;&nbsp;&nbsp;&nbsp;&nbsp;AI技术推动审计财会智能化，显著提升数据准确性和业务效率。下一步将持续覆盖更多场景，拓展至预算管理、规则判断及风险预警，助力构建高效、安全的财务管理体系。\n",
    "</p>\n",
    "<p>\n",
    "\t<br />\n",
    "</p>\n",
    "<p>\n",
    "\t<strong><br />\n",
    "</strong> \n",
    "</p>\"\"\"},\n",
    "  {\"no\":4,\"first_paragraph\":'AI+文档系统',\"content\":\"\"\"\"<p>\n",
    "\t1.正在开展AI文档系统中文档协同平台上线试运行；\n",
    "</p>\n",
    "<p>\n",
    "\t2.正在进行AI部分的供应商技术方案沟通和内部技术方案研究\n",
    "</p>\"\n",
    "\"\"\"},\n",
    "  {\"no\":5,\"first_paragraph\":'AI+数据治理',\"content\":\"\"\"\"<p>\n",
    "\t1.完成能环公司的合同信息抽取和向量化检索合同语义检索系统，现在正在进行线上调优和需求对齐；\n",
    "</p>\n",
    "<p>\n",
    "\t2.正在开始进行费控相关的多文件中设备信息提取；\n",
    "</p>\"\n",
    "\"\"\"}\n",
    "  ]\n",
    "}"
   ]
  },
  {
   "cell_type": "code",
   "execution_count": 5,
   "id": "a2466b85",
   "metadata": {},
   "outputs": [
    {
     "data": {
      "text/plain": [
       "[{'no': 1,\n",
       "  'first_paragraph': 'AI 国内外进展',\n",
       "  'content': '<p>\\n\\t<br />\\n</p>\\n<p>\\n\\t5月14日，OpenAI 发布 语言模型 GPT-4.1系列，专用于编码任务，更擅长指令遵循和Web开发。\\n</p>\\n<p>\\n\\t<br />\\n</p>\\n<p>\\n\\t5月20日，谷歌 发布 视频生成模型 Veo3，首次实现视频与音频的原生同步生成。发布 图像生成模型 Imagen 4，生成的图像细节更逼真。发布 AI电影制作工具Flow。\\n</p>\\n<p>\\n\\t<br />\\n</p>\\n<p>\\n\\t5月21日，谷歌 发布 开源端侧多模态模型 Gemma 3n，参数5B和8B，支持音频、文本、图片和视频等多种数据类型。设备端本地运行。\\n</p>\\n<p>\\n\\t<br />\\n</p>\\n<p>\\n\\t5月22日，Anthropic 发布 多模态推理思考模型 Claude 4 Opus 和 Claude 4 Sonnet，具备7小时自主任务执行连续工作能力，可在扩展思考过程中使用外部工具，代码与推理能力提升。\\n</p>\\n<p>\\n\\t<br />\\n</p>\\n<p>\\n\\t5月28日，深度求索DeepSeek 发布更新 开源推理思考模型 DeepSeek-R1-0528，优化复杂推理与幻觉问题。\\n</p>\\n<p>\\n\\t<br />\\n</p>\\n<p>\\n\\t6月5日，谷歌Google的DeepMind 更新发布 多模态推理思考模型 Gemini 2.5 Pro preview(0605)，100万token的上下文处理能力。\\n</p>\\n<p>\\n\\t<br />\\n</p>\\n<p>\\n\\t6月6日，阿里巴巴 发布 开源向量模型 Qwen3-Embedding 和 Qwen3-Reranker，专为文本表征、检索与排序任务设计，支持119种语言及编程语言，提升搜索相关性。\\n</p>\\n<p>\\n\\t<br />\\n</p>\\n<p>\\n\\t6月10日，OpenAI 发布 多模态推理思考模型 o3-pro。\\n</p>\\n<p>\\n\\t<br />\\n</p>\\n<p>\\n\\t6月11日，字节跳动 更新发布 多模态推理思考模型 doubao-seed-1.6系列。\\n</p>\\n<p>\\n\\t<br />\\n</p>\\n<p>\\n\\t6月27日，腾讯混元 发布开源的混合推理MoE模型 Hunyuan-A13B。\\n</p>\\n<p>\\n\\t<br />\\n</p>'},\n",
       " {'no': 2,\n",
       "  'first_paragraph': 'AI+数字大脑',\n",
       "  'content': '\"<p style=\"\"font-family:Ubuntu, -apple-system, BlinkMacSystemFont, &quot;font-size:14px;background-color:#FFFFFF;\"\">\\n\\t1、数字化企业大脑平台已完成与AI大模型的深度集成，成功实现六大核心场景的智能化应用落地：\\n</p>\\n<ol style=\"\"font-family:Ubuntu, -apple-system, BlinkMacSystemFont, &quot;font-size:14px;background-color:#FFFFFF;\"\">\\n\\t<li>\\n\\t\\t全域人员信息智能检索\\n\\t</li>\\n\\t<li>\\n\\t\\t跨区域差旅人员动态追踪\\n\\t</li>\\n\\t<li>\\n\\t\\t企业经营指标实时分析\\n\\t</li>\\n\\t<li>\\n\\t\\t科技情报精准获取\\n\\t</li>\\n\\t<li>\\n\\t\\t商旅异常订单智能预警\\n\\t</li>\\n\\t<li>\\n\\t\\t经营差旅大数据分析&nbsp; &nbsp; &nbsp; &nbsp; &nbsp; &nbsp; &nbsp; &nbsp; &nbsp; &nbsp; &nbsp; &nbsp; &nbsp; &nbsp; &nbsp;&nbsp;\\n\\t</li>\\n</ol>\\n<p>\\n\\t<span style=\"\"background-color:#FFFFFF;\"\"><span style=\"\"color:rgba(0, 0, 0, 0.85);font-family:Inter, -apple-system, BlinkMacSystemFont, &quot;font-size:16px;background-color:#FFFFFF;\"\">2、数字化企业大脑平台已完成 AI 应用角色权限管理系统的开发，实现了多维度、细粒度的权限控制，有效保障了数字大脑 AI 应用的合规性、安全性与灵活性。</span><br />\\n</span>\\n</p>\\n<p>\\n\\t<span style=\"\"background-color:#FFFFFF;\"\"><br />\\n</span>\\n</p>\"\\n'},\n",
       " {'no': 3,\n",
       "  'first_paragraph': 'AI+流程管理',\n",
       "  'content': '<p>\\n\\t为提升公文流转效能，信息与数字化中心运用AI+技术对收文流程进行了智能化改造。新系统以“数字化企业大脑”为核心，能够智能识别公文的“特急、紧急、正常”等级，并自动执行分级分类的催办提醒策略。更关键的是，AI+引擎能主动监控全流程时限，一旦发现超时风险，将触发智能预警，自动生成报警信息并精准推送至公司办或党群部领导。领导仅需一键处置即可完成催办，彻底改变了过去人工督办的模式。此举实现了公文管理从“被动追查”到“主动预警、智能干预”的跨越，显著提升了公文办理的流转效率。\\n</p>'},\n",
       " {'no': 4,\n",
       "  'first_paragraph': 'AI+文档系统',\n",
       "  'content': '\"<p>\\n\\t1.正在开展AI文档系统中文档协同平台上线试运行；\\n</p>\\n<p>\\n\\t2.正在进行AI部分的供应商技术方案沟通和内部技术方案研究\\n</p>\"\\n'},\n",
       " {'no': 5,\n",
       "  'first_paragraph': 'AI+数据治理',\n",
       "  'content': '\"<p>\\n\\t1.完成能环公司的合同信息抽取和向量化检索合同语义检索系统，现在正在进行线上调优和需求对齐；\\n</p>\\n<p>\\n\\t2.正在开始进行费控相关的多文件中设备信息提取；\\n</p>\"\\n'},\n",
       " {'no': 6,\n",
       "  'first_paragraph': 'AI+项目管理',\n",
       "  'content': '<span style=\"color:#404040;font-family:quote-cjk-patch, Inter, system-ui, -apple-system, BlinkMacSystemFont, &quot;font-size:16.002px;background-color:#FFFFFF;\">进行</span><span style=\"color:#404040;font-family:quote-cjk-patch, Inter, system-ui, -apple-system, BlinkMacSystemFont, &quot;font-size:16.002px;background-color:#FFFFFF;\">物流模块流程梳理</span><span style=\"color:#404040;font-family:quote-cjk-patch, Inter, system-ui, -apple-system, BlinkMacSystemFont, &quot;font-size:16.002px;background-color:#FFFFFF;\">并紧密</span><span style=\"color:#404040;font-family:quote-cjk-patch, Inter, system-ui, -apple-system, BlinkMacSystemFont, &quot;font-size:16.002px;background-color:#FFFFFF;\">配合数字建造平台的建设进程</span><span style=\"color:#404040;font-family:quote-cjk-patch, Inter, system-ui, -apple-system, BlinkMacSystemFont, &quot;font-size:16.002px;background-color:#FFFFFF;\">。同时系统性地</span><span style=\"color:#404040;font-family:quote-cjk-patch, Inter, system-ui, -apple-system, BlinkMacSystemFont, &quot;font-size:16.002px;background-color:#FFFFFF;\">梳理与整合项目管理经济线及对应生产线</span><span style=\"color:#404040;font-family:quote-cjk-patch, Inter, system-ui, -apple-system, BlinkMacSystemFont, &quot;font-size:16.002px;background-color:#FFFFFF;\">，确保端到端的业务协同。</span><span style=\"color:#404040;font-family:quote-cjk-patch, Inter, system-ui, -apple-system, BlinkMacSystemFont, &quot;font-size:16.002px;background-color:#FFFFFF;\">以流程驱动为核心方法论</span><span style=\"color:#404040;font-family:quote-cjk-patch, Inter, system-ui, -apple-system, BlinkMacSystemFont, &quot;font-size:16.002px;background-color:#FFFFFF;\">，深度梳理各环节逻辑与数据流，在重要场景如项目全景内容生成、项目风险智能识别中加入AI能力进行系统设计。</span>'},\n",
       " {'no': 7,\n",
       "  'first_paragraph': 'AI+审计财会',\n",
       "  'content': '<p style=\"text-align:center;\">\\n\\t<strong>AI+审计财会”应用进展简报</strong>\\n</p>\\n<p>\\n\\t一、总包/业主/支出类合同分类及发票凭证信息提取\\n</p>\\n<ul>\\n\\t<li>\\n\\t\\t<p>\\n\\t\\t\\t<strong>合同分类自动化</strong>：根据合同辅助核算名称，实现对各类合同的自动归档和标签化，极大减少人工分类的繁琐工作及潜在错误。\\n\\t\\t</p>\\n\\t</li>\\n\\t<li>\\n\\t\\t<p>\\n\\t\\t\\t<strong>精准提取收票凭证、付款凭证</strong>：系统自动去重、分类，针对【科目名称】、【对方科目】进行筛选，精准定位凭证信息。\\n\\t\\t</p>\\n\\t</li>\\n\\t<li>\\n\\t\\t<p>\\n\\t\\t\\t<strong>自动化审计与账款比对</strong>：自动计算未收票金额和未付金额，并与应付余额进行比对，快速识别可能存在的抵账等需人工判断的特殊情况，生成审计分析报告。\\n\\t\\t</p>\\n\\t</li>\\n\\t<li>\\n\\t\\t<p>\\n\\t\\t\\t<strong>数据结构化</strong>：处理完成后，AI将按合同归集的凭证数据生成独立新工作表（工作表2），与原始明细账并存，便于审计人员查阅和复核。\\n\\t\\t</p>\\n\\t</li>\\n</ul>\\n<p>\\n\\t&nbsp;&nbsp;&nbsp;&nbsp;&nbsp;&nbsp;&nbsp;&nbsp;该应用已在大规模审计中使用，正在持续优化，覆盖支出等多类合同审计场景。\\n</p>\\n<p>\\n\\t二、发票入库领料单自动生成系统\\n</p>\\n<ul>\\n\\t<li>\\n\\t\\t<p>\\n\\t\\t\\t优化视觉分析大模型，提升复杂物料清单发票提取准确度。\\n\\t\\t</p>\\n\\t</li>\\n\\t<li>\\n\\t\\t<p>\\n\\t\\t\\t实现发票信息自动匹配订单，自动生成入库及领料单，并推动审批流程。\\n\\t\\t</p>\\n\\t</li>\\n\\t<li>\\n\\t\\t<p>\\n\\t\\t\\t系统已完成接口对接，核心模块进入稳定测试，招财中心已开始试用。\\n\\t\\t</p>\\n\\t</li>\\n</ul>\\n<p>\\n\\t总结\\n</p>\\n<p>\\n\\t&nbsp;&nbsp;&nbsp;&nbsp;&nbsp;&nbsp;&nbsp;&nbsp;AI技术推动审计财会智能化，显著提升数据准确性和业务效率。下一步将持续覆盖更多场景，拓展至预算管理、规则判断及风险预警，助力构建高效、安全的财务管理体系。\\n</p>\\n<p>\\n\\t<br />\\n</p>\\n<p>\\n\\t<strong><br />\\n</strong> \\n</p>'},\n",
       " {'no': 8,\n",
       "  'first_paragraph': 'AI+智能设计',\n",
       "  'content': '利用AI的代码分析与智能编程能力，将低版本的Revit、CAD二次开发软件，自动改编为高版本的软件，开发时间缩短80%以上。涵盖：能环公司管道系统明细表智能设计软件、结构件明细表智能设计软件；矿业公司矿浆管道明细表智能设计软件等。'},\n",
       " {'no': 9,\n",
       "  'first_paragraph': 'AI+BIM平台',\n",
       "  'content': 'BIM协同设计平台Ai审图功能正式上线，提高了模型碰撞检查效率。'}]"
      ]
     },
     "execution_count": 5,
     "metadata": {},
     "output_type": "execute_result"
    }
   ],
   "source": [
    "data['data_list'].sort(key=lambda x: x['no'])\n",
    "list_data = data['data_list']\n",
    "list_data"
   ]
  },
  {
   "cell_type": "code",
   "execution_count": 43,
   "id": "39a78e6d",
   "metadata": {},
   "outputs": [
    {
     "data": {
      "text/plain": [
       "[{'no': 1,\n",
       "  'first_paragraph': '行业动态',\n",
       "  'second_paragraph': '国内行业动态',\n",
       "  'content': '1、工信部：下一步将加强通用大模型和行业大模型研发布局\\n\\n2、中钢协：一季度，重点统计会员钢铁企业累计营业收入为 14360 亿\\n元，同比下降 6.61%；营业成本为 13505 亿元，同比下降 7.73%；利润总额 215.83 亿元，同比增长 1.08 倍。\\n\\n3、新疆：2025 年计划实施重点项目 500 个，总投资 3.47 万亿元，年度计划完成投资 4069 亿元。\\n\\n4、内蒙古：2025 年重点研究制定支持工业领域资源综合利用相关政策。\\n\\n5、贵州：加大金融对工业绿色低碳发展的支持力度，大力推动工\\n业绿色低碳发展。。'},\n",
       " {'no': 2,\n",
       "  'first_paragraph': '行业动态',\n",
       "  'second_paragraph': '国外行业动态',\n",
       "  'content': '印度：印度钢铁管理局（SAIL）计划扩建鲁尔克拉钢铁厂产能，计划到 2030 年将其位于奥里萨邦的鲁尔克拉钢铁厂（RSP）的产能提升至每年 900 万吨。。\\n日本：2024-2025 财年日本粗钢产量连续第三年下滑\\n\\n塔吉克斯坦：4 月 1 日，塔吉克斯坦在苏格特州博博詹-加富罗夫区正式启动首座铁矿石选矿厂建设工程。\\n\\n澳大利亚：澳大利亚磁铁矿生产商 ASX:GRR 宣布其全资拥有的西澳Southdown 磁铁矿项目已顺利完成最新可行性研究。'}]"
      ]
     },
     "execution_count": 43,
     "metadata": {},
     "output_type": "execute_result"
    }
   ],
   "source": [
    "hydt_result = [item for item in list_data if item['first_paragraph'] == \"行业动态\"]\n",
    "hydt_result"
   ]
  },
  {
   "cell_type": "code",
   "execution_count": 6,
   "id": "2e529572",
   "metadata": {},
   "outputs": [
    {
     "data": {
      "text/plain": [
       "'[{\\'no\\': 1, \\'first_paragraph\\': \\'AI 国内外进展\\', \\'content\\': \\'<p>\\\\n\\\\t<br />\\\\n</p>\\\\n<p>\\\\n\\\\t5月14日，OpenAI 发布 语言模型 GPT-4.1系列，专用于编码任务，更擅长指令遵循和Web开发。\\\\n</p>\\\\n<p>\\\\n\\\\t<br />\\\\n</p>\\\\n<p>\\\\n\\\\t5月20日，谷歌 发布 视频生成模型 Veo3，首次实现视频与音频的原生同步生成。发布 图像生成模型 Imagen 4，生成的图像细节更逼真。发布 AI电影制作工具Flow。\\\\n</p>\\\\n<p>\\\\n\\\\t<br />\\\\n</p>\\\\n<p>\\\\n\\\\t5月21日，谷歌 发布 开源端侧多模态模型 Gemma 3n，参数5B和8B，支持音频、文本、图片和视频等多种数据类型。设备端本地运行。\\\\n</p>\\\\n<p>\\\\n\\\\t<br />\\\\n</p>\\\\n<p>\\\\n\\\\t5月22日，Anthropic 发布 多模态推理思考模型 Claude 4 Opus 和 Claude 4 Sonnet，具备7小时自主任务执行连续工作能力，可在扩展思考过程中使用外部工具，代码与推理能力提升。\\\\n</p>\\\\n<p>\\\\n\\\\t<br />\\\\n</p>\\\\n<p>\\\\n\\\\t5月28日，深度求索DeepSeek 发布更新 开源推理思考模型 DeepSeek-R1-0528，优化复杂推理与幻觉问题。\\\\n</p>\\\\n<p>\\\\n\\\\t<br />\\\\n</p>\\\\n<p>\\\\n\\\\t6月5日，谷歌Google的DeepMind 更新发布 多模态推理思考模型 Gemini 2.5 Pro preview(0605)，100万token的上下文处理能力。\\\\n</p>\\\\n<p>\\\\n\\\\t<br />\\\\n</p>\\\\n<p>\\\\n\\\\t6月6日，阿里巴巴 发布 开源向量模型 Qwen3-Embedding 和 Qwen3-Reranker，专为文本表征、检索与排序任务设计，支持119种语言及编程语言，提升搜索相关性。\\\\n</p>\\\\n<p>\\\\n\\\\t<br />\\\\n</p>\\\\n<p>\\\\n\\\\t6月10日，OpenAI 发布 多模态推理思考模型 o3-pro。\\\\n</p>\\\\n<p>\\\\n\\\\t<br />\\\\n</p>\\\\n<p>\\\\n\\\\t6月11日，字节跳动 更新发布 多模态推理思考模型 doubao-seed-1.6系列。\\\\n</p>\\\\n<p>\\\\n\\\\t<br />\\\\n</p>\\\\n<p>\\\\n\\\\t6月27日，腾讯混元 发布开源的混合推理MoE模型 Hunyuan-A13B。\\\\n</p>\\\\n<p>\\\\n\\\\t<br />\\\\n</p>\\'}, {\\'no\\': 2, \\'first_paragraph\\': \\'AI+数字大脑\\', \\'content\\': \\'\"<p style=\"\"font-family:Ubuntu, -apple-system, BlinkMacSystemFont, &quot;font-size:14px;background-color:#FFFFFF;\"\">\\\\n\\\\t1、数字化企业大脑平台已完成与AI大模型的深度集成，成功实现六大核心场景的智能化应用落地：\\\\n</p>\\\\n<ol style=\"\"font-family:Ubuntu, -apple-system, BlinkMacSystemFont, &quot;font-size:14px;background-color:#FFFFFF;\"\">\\\\n\\\\t<li>\\\\n\\\\t\\\\t全域人员信息智能检索\\\\n\\\\t</li>\\\\n\\\\t<li>\\\\n\\\\t\\\\t跨区域差旅人员动态追踪\\\\n\\\\t</li>\\\\n\\\\t<li>\\\\n\\\\t\\\\t企业经营指标实时分析\\\\n\\\\t</li>\\\\n\\\\t<li>\\\\n\\\\t\\\\t科技情报精准获取\\\\n\\\\t</li>\\\\n\\\\t<li>\\\\n\\\\t\\\\t商旅异常订单智能预警\\\\n\\\\t</li>\\\\n\\\\t<li>\\\\n\\\\t\\\\t经营差旅大数据分析&nbsp; &nbsp; &nbsp; &nbsp; &nbsp; &nbsp; &nbsp; &nbsp; &nbsp; &nbsp; &nbsp; &nbsp; &nbsp; &nbsp; &nbsp;&nbsp;\\\\n\\\\t</li>\\\\n</ol>\\\\n<p>\\\\n\\\\t<span style=\"\"background-color:#FFFFFF;\"\"><span style=\"\"color:rgba(0, 0, 0, 0.85);font-family:Inter, -apple-system, BlinkMacSystemFont, &quot;font-size:16px;background-color:#FFFFFF;\"\">2、数字化企业大脑平台已完成 AI 应用角色权限管理系统的开发，实现了多维度、细粒度的权限控制，有效保障了数字大脑 AI 应用的合规性、安全性与灵活性。</span><br />\\\\n</span>\\\\n</p>\\\\n<p>\\\\n\\\\t<span style=\"\"background-color:#FFFFFF;\"\"><br />\\\\n</span>\\\\n</p>\"\\\\n\\'}, {\\'no\\': 3, \\'first_paragraph\\': \\'AI+流程管理\\', \\'content\\': \\'<p>\\\\n\\\\t为提升公文流转效能，信息与数字化中心运用AI+技术对收文流程进行了智能化改造。新系统以“数字化企业大脑”为核心，能够智能识别公文的“特急、紧急、正常”等级，并自动执行分级分类的催办提醒策略。更关键的是，AI+引擎能主动监控全流程时限，一旦发现超时风险，将触发智能预警，自动生成报警信息并精准推送至公司办或党群部领导。领导仅需一键处置即可完成催办，彻底改变了过去人工督办的模式。此举实现了公文管理从“被动追查”到“主动预警、智能干预”的跨越，显著提升了公文办理的流转效率。\\\\n</p>\\'}, {\\'no\\': 4, \\'first_paragraph\\': \\'AI+文档系统\\', \\'content\\': \\'\"<p>\\\\n\\\\t1.正在开展AI文档系统中文档协同平台上线试运行；\\\\n</p>\\\\n<p>\\\\n\\\\t2.正在进行AI部分的供应商技术方案沟通和内部技术方案研究\\\\n</p>\"\\\\n\\'}, {\\'no\\': 5, \\'first_paragraph\\': \\'AI+数据治理\\', \\'content\\': \\'\"<p>\\\\n\\\\t1.完成能环公司的合同信息抽取和向量化检索合同语义检索系统，现在正在进行线上调优和需求对齐；\\\\n</p>\\\\n<p>\\\\n\\\\t2.正在开始进行费控相关的多文件中设备信息提取；\\\\n</p>\"\\\\n\\'}, {\\'no\\': 6, \\'first_paragraph\\': \\'AI+项目管理\\', \\'content\\': \\'<span style=\"color:#404040;font-family:quote-cjk-patch, Inter, system-ui, -apple-system, BlinkMacSystemFont, &quot;font-size:16.002px;background-color:#FFFFFF;\">进行</span><span style=\"color:#404040;font-family:quote-cjk-patch, Inter, system-ui, -apple-system, BlinkMacSystemFont, &quot;font-size:16.002px;background-color:#FFFFFF;\">物流模块流程梳理</span><span style=\"color:#404040;font-family:quote-cjk-patch, Inter, system-ui, -apple-system, BlinkMacSystemFont, &quot;font-size:16.002px;background-color:#FFFFFF;\">并紧密</span><span style=\"color:#404040;font-family:quote-cjk-patch, Inter, system-ui, -apple-system, BlinkMacSystemFont, &quot;font-size:16.002px;background-color:#FFFFFF;\">配合数字建造平台的建设进程</span><span style=\"color:#404040;font-family:quote-cjk-patch, Inter, system-ui, -apple-system, BlinkMacSystemFont, &quot;font-size:16.002px;background-color:#FFFFFF;\">。同时系统性地</span><span style=\"color:#404040;font-family:quote-cjk-patch, Inter, system-ui, -apple-system, BlinkMacSystemFont, &quot;font-size:16.002px;background-color:#FFFFFF;\">梳理与整合项目管理经济线及对应生产线</span><span style=\"color:#404040;font-family:quote-cjk-patch, Inter, system-ui, -apple-system, BlinkMacSystemFont, &quot;font-size:16.002px;background-color:#FFFFFF;\">，确保端到端的业务协同。</span><span style=\"color:#404040;font-family:quote-cjk-patch, Inter, system-ui, -apple-system, BlinkMacSystemFont, &quot;font-size:16.002px;background-color:#FFFFFF;\">以流程驱动为核心方法论</span><span style=\"color:#404040;font-family:quote-cjk-patch, Inter, system-ui, -apple-system, BlinkMacSystemFont, &quot;font-size:16.002px;background-color:#FFFFFF;\">，深度梳理各环节逻辑与数据流，在重要场景如项目全景内容生成、项目风险智能识别中加入AI能力进行系统设计。</span>\\'}, {\\'no\\': 7, \\'first_paragraph\\': \\'AI+审计财会\\', \\'content\\': \\'<p style=\"text-align:center;\">\\\\n\\\\t<strong>AI+审计财会”应用进展简报</strong>\\\\n</p>\\\\n<p>\\\\n\\\\t一、总包/业主/支出类合同分类及发票凭证信息提取\\\\n</p>\\\\n<ul>\\\\n\\\\t<li>\\\\n\\\\t\\\\t<p>\\\\n\\\\t\\\\t\\\\t<strong>合同分类自动化</strong>：根据合同辅助核算名称，实现对各类合同的自动归档和标签化，极大减少人工分类的繁琐工作及潜在错误。\\\\n\\\\t\\\\t</p>\\\\n\\\\t</li>\\\\n\\\\t<li>\\\\n\\\\t\\\\t<p>\\\\n\\\\t\\\\t\\\\t<strong>精准提取收票凭证、付款凭证</strong>：系统自动去重、分类，针对【科目名称】、【对方科目】进行筛选，精准定位凭证信息。\\\\n\\\\t\\\\t</p>\\\\n\\\\t</li>\\\\n\\\\t<li>\\\\n\\\\t\\\\t<p>\\\\n\\\\t\\\\t\\\\t<strong>自动化审计与账款比对</strong>：自动计算未收票金额和未付金额，并与应付余额进行比对，快速识别可能存在的抵账等需人工判断的特殊情况，生成审计分析报告。\\\\n\\\\t\\\\t</p>\\\\n\\\\t</li>\\\\n\\\\t<li>\\\\n\\\\t\\\\t<p>\\\\n\\\\t\\\\t\\\\t<strong>数据结构化</strong>：处理完成后，AI将按合同归集的凭证数据生成独立新工作表（工作表2），与原始明细账并存，便于审计人员查阅和复核。\\\\n\\\\t\\\\t</p>\\\\n\\\\t</li>\\\\n</ul>\\\\n<p>\\\\n\\\\t&nbsp;&nbsp;&nbsp;&nbsp;&nbsp;&nbsp;&nbsp;&nbsp;该应用已在大规模审计中使用，正在持续优化，覆盖支出等多类合同审计场景。\\\\n</p>\\\\n<p>\\\\n\\\\t二、发票入库领料单自动生成系统\\\\n</p>\\\\n<ul>\\\\n\\\\t<li>\\\\n\\\\t\\\\t<p>\\\\n\\\\t\\\\t\\\\t优化视觉分析大模型，提升复杂物料清单发票提取准确度。\\\\n\\\\t\\\\t</p>\\\\n\\\\t</li>\\\\n\\\\t<li>\\\\n\\\\t\\\\t<p>\\\\n\\\\t\\\\t\\\\t实现发票信息自动匹配订单，自动生成入库及领料单，并推动审批流程。\\\\n\\\\t\\\\t</p>\\\\n\\\\t</li>\\\\n\\\\t<li>\\\\n\\\\t\\\\t<p>\\\\n\\\\t\\\\t\\\\t系统已完成接口对接，核心模块进入稳定测试，招财中心已开始试用。\\\\n\\\\t\\\\t</p>\\\\n\\\\t</li>\\\\n</ul>\\\\n<p>\\\\n\\\\t总结\\\\n</p>\\\\n<p>\\\\n\\\\t&nbsp;&nbsp;&nbsp;&nbsp;&nbsp;&nbsp;&nbsp;&nbsp;AI技术推动审计财会智能化，显著提升数据准确性和业务效率。下一步将持续覆盖更多场景，拓展至预算管理、规则判断及风险预警，助力构建高效、安全的财务管理体系。\\\\n</p>\\\\n<p>\\\\n\\\\t<br />\\\\n</p>\\\\n<p>\\\\n\\\\t<strong><br />\\\\n</strong> \\\\n</p>\\'}, {\\'no\\': 8, \\'first_paragraph\\': \\'AI+智能设计\\', \\'content\\': \\'利用AI的代码分析与智能编程能力，将低版本的Revit、CAD二次开发软件，自动改编为高版本的软件，开发时间缩短80%以上。涵盖：能环公司管道系统明细表智能设计软件、结构件明细表智能设计软件；矿业公司矿浆管道明细表智能设计软件等。\\'}, {\\'no\\': 9, \\'first_paragraph\\': \\'AI+BIM平台\\', \\'content\\': \\'BIM协同设计平台Ai审图功能正式上线，提高了模型碰撞检查效率。\\'}]'"
      ]
     },
     "execution_count": 6,
     "metadata": {},
     "output_type": "execute_result"
    }
   ],
   "source": [
    "str(list_data)"
   ]
  },
  {
   "cell_type": "code",
   "execution_count": 84,
   "id": "c8a1db1d",
   "metadata": {},
   "outputs": [],
   "source": [
    "system_message=\"\"\"no_think,**角色 (Role):**\n",
    "你是一位严谨细致的科技报告编辑。你的核心任务是将结构化的JSON数据转换为一份流畅、专业且完全忠实于原文的报告。\n",
    "\n",
    "**任务 (Task):**\n",
    "根据我提供的包含科技简报信息的JSON字符串，生成一份正式的报告。在执行任务时，你必须严格遵守以下所有规则。\n",
    "\n",
    "**核心规则 (Core Rules):**\n",
    "\n",
    "1.  **绝对忠实原文 (Absolute Fidelity to Source):**\n",
    "    *   **禁止遗漏 (No Omissions):** JSON中提供的每一个知识点、数据、名称或细节都必须完整地出现在最终报告中。不允许跳过任何条目。\n",
    "    *   **禁止篡改 (No Alteration):** 严禁修改、歪曲或推断任何原文中未明确提及的信息。你的工作不是解读或再创作，而是忠实地呈现。\n",
    "\n",
    "2.  **有限的润色 (Limited Polishing):**\n",
    "    *   你的唯一编辑权限是进行基础的语言润色，以增强报告的可读性和专业性。\n",
    "    *   这包括：修正语法错误、调整语序使句子更通顺、使用连接词使上下文更连贯。\n",
    "    *   润色的目标是把零散的要点（bullet points）转化为通顺的段落，但绝不能改变其原始含义。\n",
    "\n",
    "3.  **内容聚合 (Content Aggregation):**\n",
    "    *   所有隶属于同一个 `no` 条目的内容（通常在 `content` 字段中），必须被整合在同一个段落或章节下。在完成当前条目的所有内容之前，不得开始下一个条目。\n",
    "\n",
    "---\n",
    "\n",
    "输出格式 (Output Format):\n",
    "输出符合Markdown格式，并遵循以下格式要求：\n",
    "为每个first_paragraph创建一个独立的Topic,Topic的标题就是first_paragraph字段的内容，例如first_paragraph=“行业动态”，那么在报告的标题首位位置就是[行业动态]。\n",
    "例如second_paragraph=“国内行业动态”，那么就是在该first_paragraph中顺序为## 一、国内行业动态\n",
    "如果存在third_paragraph，使用数字标题1开始，位于同一个second_paragraph段落下\n",
    "标题下方是根据 content 字段润色后的正文内容，每一个content都需要根据序号进行编号1,2,3,4,5以此类推。\n",
    "\n",
    "**示例 (Example):**\n",
    "\n",
    "**如果我提供的JSON是:**\n",
    "{\n",
    "  \"data_list\": [\n",
    "    {\n",
    "      \"no\": 1,\n",
    "      \"first_paragraph\": \"行业动态\",\n",
    "      \"second_paragraph\": \"国内行业动态\",\n",
    "      \"content\": \"1、工信部：下一步将加强通用大模型和行业大模型研发布局；2、中钢协：一季度，重点统计会员钢铁企业\"\n",
    "    },\n",
    "    {\n",
    "      \"no\": 2,\n",
    "      \"first_paragraph\": \"行业动态\",\n",
    "      \"second_paragraph\": \"内部“AI+”动态\",\n",
    "      \"third_paragraph\":\"“AI+”专项培训\",\n",
    "      \"content\": \"4 月 30 日，人力资源部组织在全公司开展了《DeepSeek 赋能 AI高效智慧办公》培训。\n",
    "      4 月，信息与数字化中心组织开展了人工智能、AI+Revit 二次开发等专项培训。\n",
    "      \"\n",
    "    }\n",
    "  ]\n",
    "}\n",
    "\n",
    "**你应当生成的完美报告是一份标准的Markdown格式报告:**\n",
    "\n",
    "# [行业动态]\n",
    "\n",
    "## 一、国内行业动态\n",
    "\n",
    "1、工信部：下一步将加强通用大模型和行业大模型研发布局。\n",
    "\n",
    "2、中钢协：一季度，重点统计会员钢铁企业。\n",
    "\n",
    "## 二、 内部“AI+”动态\n",
    "\n",
    "### 1、 “AI+”专项培训\n",
    "\n",
    "1、 4 月 30 日，人力资源部组织在全公司开展了《DeepSeek 赋能 AI高效智慧办公》培训。\n",
    "\n",
    "2、 4 月，信息与数字化中心组织开展了人工智能、AI+Revit 二次开发等专项培训。\n",
    "\n",
    "...\n",
    "\n",
    "---\n",
    "**指令 (Instruction):**\n",
    "现在，请根据上述所有规则和格式要求，处理我接下来提供的JSON字符串，并生成最终报告，生成的最终报告必须是纯净的Markdown文档，严格禁止外部嵌套```markdown```标签。\n",
    "\"\"\""
   ]
  },
  {
   "cell_type": "code",
   "execution_count": 15,
   "id": "c0e0491b",
   "metadata": {},
   "outputs": [],
   "source": [
    "agent = Agent(model=OpenAILike(**settings,temperature=0.01),system_message = system_message,telemetry=False)"
   ]
  },
  {
   "cell_type": "code",
   "execution_count": 16,
   "id": "8b70b7e4",
   "metadata": {},
   "outputs": [],
   "source": [
    "result = agent.run(str(data['data_list']))"
   ]
  },
  {
   "cell_type": "code",
   "execution_count": 17,
   "id": "6c65c2ed",
   "metadata": {},
   "outputs": [
    {
     "name": "stdout",
     "output_type": "stream",
     "text": [
      "# [AI 国内外进展]\n",
      "\n",
      "1. 5月14日，OpenAI发布语言模型GPT-4.1系列，专用于编码任务，更擅长指令遵循和Web开发。\n",
      "2. 5月20日，谷歌发布视频生成模型Veo3，首次实现视频与音频的原生同步生成；同时发布图像生成模型Imagen 4，生成的图像细节更逼真；并发布AI电影制作工具Flow。\n",
      "3. 5月21日，谷歌发布开源端侧多模态模型Gemma 3n，参数规模为5B和8B，支持音频、文本、图片和视频等多种数据类型，可在设备端本地运行。\n",
      "4. 5月22日，Anthropic发布多模态推理思考模型Claude 4 Opus和Claude 4 Sonnet，具备7小时自主任务执行连续工作能力，可在扩展思考过程中使用外部工具，代码与推理能力提升。\n",
      "5. 5月28日，深度求索DeepSeek发布更新开源推理思考模型DeepSeek-R1-0528，优化复杂推理与幻觉问题。\n",
      "6. 6月5日，谷歌DeepMind更新发布多模态推理思考模型Gemini 2.5 Pro preview(0605)，具备100万token的上下文处理能力。\n",
      "7. 6月6日，阿里巴巴发布开源向量模型Qwen3-Embedding和Qwen3-Reranker，专为文本表征、检索与排序任务设计，支持119种语言及编程语言，提升搜索相关性。\n",
      "8. 6月10日，OpenAI发布多模态推理思考模型o3-pro。\n",
      "9. 6月11日，字节跳动更新发布多模态推理思考模型doubao-seed-1.6系列。\n",
      "10. 6月27日，腾讯混元发布开源的混合推理MoE模型Hunyuan-A13B。\n",
      "\n",
      "# [AI+数字大脑]\n",
      "\n",
      "1. 数字化企业大脑平台已完成与AI大模型的深度集成，成功实现六大核心场景的智能化应用落地：全域人员信息智能检索、跨区域差旅人员动态追踪、企业经营指标实时分析、科技情报精准获取、商旅异常订单智能预警、经营差旅大数据分析。\n",
      "2. 数字化企业大脑平台已完成AI应用角色权限管理系统的开发，实现了多维度、细粒度的权限控制，有效保障了数字大脑AI应用的合规性、安全性与灵活性。\n",
      "\n",
      "# [AI+流程管理]\n",
      "\n",
      "1. 为提升公文流转效能，信息与数字化中心运用AI+技术对收文流程进行了智能化改造；新系统以“数字化企业大脑”为核心，智能识别公文的“特急、紧急、正常”等级，并自动执行分级分类的催办提醒策略；AI+引擎主动监控全流程时限，一旦发现超时风险，将触发智能预警，自动生成报警信息并精准推送至公司办或党群部领导，领导仅需一键处置即可完成催办；此举实现了公文管理从“被动追查”到“主动预警、智能干预”的跨越，显著提升了公文办理的流转效率。\n",
      "\n",
      "# [AI+文档系统]\n",
      "\n",
      "1. 正在开展AI文档系统中文档协同平台上线试运行。\n",
      "2. 正在进行AI部分的供应商技术方案沟通和内部技术方案研究。\n",
      "\n",
      "# [AI+数据治理]\n",
      "\n",
      "1. 完成能环公司的合同信息抽取和向量化检索合同语义检索系统，现在正在进行线上调优和需求对齐。\n",
      "2. 正在开始进行费控相关的多文件中设备信息提取。\n",
      "\n",
      "# [AI+项目管理]\n",
      "\n",
      "1. 进行物流模块流程梳理并紧密配合数字建造平台的建设进程；同时系统性地梳理与整合项目管理经济线及对应生产线，确保端到端的业务协同；以流程驱动为核心方法论，深度梳理各环节逻辑与数据流，在重要场景如项目全景内容生成、项目风险智能识别中加入AI能力进行系统设计。\n",
      "\n",
      "# [AI+审计财会]\n",
      "\n",
      "1. 一、总包/业主/支出类合同分类及发票凭证信息提取：\n",
      "   - 合同分类自动化：根据合同辅助核算名称，实现对各类合同的自动归档和标签化，极大减少人工分类的繁琐工作及潜在错误。\n",
      "   - 精准提取收票凭证、付款凭证：系统自动去重、分类，针对科目名称和对方科目进行筛选，精准定位凭证信息。\n",
      "   - 自动化审计与账款比对：自动计算未收票金额和未付金额，并与应付余额进行比对，快速识别可能存在的抵账等需人工判断的特殊情况，生成审计分析报告。\n",
      "   - 数据结构化：处理完成后，AI将按合同归集的凭证数据生成独立新工作表（工作表2），与原始明细账并存，便于审计人员查阅和复核。\n",
      "   该应用已在大规模审计中使用，正在持续优化，覆盖支出等多类合同审计场景。\n",
      "2. 二、发票入库领料单自动生成系统：\n",
      "   - 优化视觉分析大模型，提升复杂物料清单发票提取准确度。\n",
      "   - 实现发票信息自动匹配订单，自动生成入库及领料单，并推动审批流程。\n",
      "   - 系统已完成接口对接，核心模块进入稳定测试，招财中心已开始试用。\n",
      "3. 总结：AI技术推动审计财会智能化，显著提升数据准确性和业务效率；下一步将持续覆盖更多场景，拓展至预算管理、规则判断及风险预警，助力构建高效、安全的财务管理体系。\n",
      "\n",
      "# [AI+智能设计]\n",
      "\n",
      "1. 利用AI的代码分析与智能编程能力，将低版本的Revit、CAD二次开发软件自动改编为高版本软件，开发时间缩短80%以上；涵盖应用包括能环公司管道系统明细表智能设计软件、结构件明细表智能设计软件，以及矿业公司矿浆管道明细表智能设计软件等。\n",
      "\n",
      "# [AI+BIM平台]\n",
      "\n",
      "1. BIM协同设计平台AI审图功能正式上线，提高了模型碰撞检查效率。\n"
     ]
    }
   ],
   "source": [
    "print(result.content)"
   ]
  },
  {
   "cell_type": "code",
   "execution_count": null,
   "id": "ab364c25",
   "metadata": {},
   "outputs": [
    {
     "name": "stdout",
     "output_type": "stream",
     "text": [
      "\n",
      "\n",
      "## 审查后的文档\n",
      "\n",
      "烟气净化系统采用全烟气净化，不设置烟气旁路系统，以“先进技术、配置合理、造价及运行费用经济、装置实用性强”为原则，选用成熟可靠的技术装备和控制系统。整个系统的设计基本原则如下：\n",
      "\n",
      "1）以最新环保标准为准绳，面向未来，采用最佳解决方案；使烟气中的SO₂、NOx、二噁英、粉尘等排放限值优于环保部发布的《关于发布〈钢铁烧结、球团工业大气污染物排放标准〉等20项国家污染物排放标准修改单的公告（征求意见稿）》中烧结新标准要求，达到超净排放标准。\n",
      "\n",
      "2）烟气净化工艺遵循技术成熟、设备先进、运行稳定、操作维护方便、自动化程度较高的原则，且无二次污染。\n",
      "\n",
      "3）在工艺合理、安全可靠、流程顺畅的前提下，降低运行费用，节省投资，方便施工。\n",
      "\n",
      "4）装置能快速投入运行，适应风量及SO₂、NOx负荷波动的能力强。\n",
      "\n",
      "5）烟气净化装置尽可能根据现有设备状况及场地条件进行布置，力求工艺流程和设施布置合理、操作安全、简便，尽量减小项目实施对现有单元生产的影响。\n",
      "\n",
      "6）严格执行国家、地方及企业的有关环保、安全卫生、节能、工程设计统一技术规定等标准和规范。\n",
      "\n",
      "---\n",
      "\n",
      "## 修改记录\n",
      "\n",
      "| 原文 | 修改后 | 位置 | 修改原因 |\n",
      "|------|--------|------|----------|\n",
      "| 采取全烟气净化 | 采用全烟气净化 | 第一段首句 | “采取”改为“采用”，更符合技术文档中动词的常用表达方式。 |\n",
      "| 不设计烟气旁路系统 | 不设置烟气旁路系统 | 第一段首句 | “设计”改为“设置”，更符合工程语境中设备安装的表达习惯。 |\n",
      "| 以“先进技术、配置合理、造价及运行费用经济、装置实用性强”为原则 | 选用成熟可靠的技术装备和控制系统 | 第一段 | 原句结构不清晰，逻辑不顺，调整为更明确的表达。 |\n",
      "| 使烟气中的SO2，NOx，二噁英、粉尘等排放限值要优于环保部发布的... | 使烟气中的SO₂、NOx、二噁英、粉尘等排放限值优于环保部发布的... | 第一段第1点 | 删除“要”字，使句子更简洁；“SO2”、“NOx”改为化学符号格式，符合规范写法；标点统一为中文格式。 |\n",
      "| “关于发布《钢铁烧结、球团工业大气污染物排放标准》等20项国家污染物排放标准修改单的公告（征求意见稿）” | 《关于发布〈钢铁烧结、球团工业大气污染物排放标准〉等20项国家污染物排放标准修改单的公告（征求意见稿）》 | 第一段第1点 | 引用文件名应使用书名号，并适当调整标点符号，符合中文书面格式。 |\n",
      "| 烟气净化工艺遵循...无二次污染原则 | 烟气净化工艺遵循技术成熟、设备先进、运行稳定、操作维护方便、自动化程度较高的原则，且无二次污染 | 第一段第2点 | 原句结构混乱，标点缺失，调整为更清晰的并列结构，并补充逗号。 |\n",
      "| 节省投资、方便施工 | 节省投资，方便施工 | 第一段第3点 | 添加逗号，使并列结构更清晰，符合中文书面语规范。 |\n",
      "| 适应风量及SO2、NOX负荷波动能力强 | 适应风量及SO₂、NOx负荷波动的能力强 | 第一段第4点 | 补充“的能力”，使句子结构完整，语法正确。 |\n",
      "| 烟气净化装置尽可能按现有设备状况及场地条件进行布置 | 烟气净化装置尽可能根据现有设备状况及场地条件进行布置 | 第一段第5点 | “按”改为“根据”，使介词使用更准确，表达更自然。 |\n",
      "| 操作安全、简便 | 操作安全、简便 | 第一段第5点 | 保留原意，但调整语序更自然流畅。 |\n",
      "| 尽量减小项目实施时对现有单元生产的影响 | 尽量减小项目实施对现有单元生产的影响 | 第一段第5点 | 删除“时”字，使表达更简洁，符合技术文档风格。 |\n",
      "| 有关环保、安全卫生、节能、工程设计统一技术规定等有关标准、规范 | 有关环保、安全卫生、节能、工程设计统一技术规定等标准和规范 | 第一段第6点 | 删除重复的“有关”，并“有关标准、规范”改为“标准和规范”，使表达更自然。 |\n",
      "\n",
      "--- \n",
      "\n",
      "如需进一步调整语气或风格（如更正式或更口语化），请告知我。\n"
     ]
    },
    {
     "ename": "",
     "evalue": "",
     "output_type": "error",
     "traceback": [
      "\u001b[1;31mThe Kernel crashed while executing code in the current cell or a previous cell. \n",
      "\u001b[1;31mPlease review the code in the cell(s) to identify a possible cause of the failure. \n",
      "\u001b[1;31mClick <a href='https://aka.ms/vscodeJupyterKernelCrash'>here</a> for more info. \n",
      "\u001b[1;31mView Jupyter <a href='command:jupyter.viewOutput'>log</a> for further details."
     ]
    }
   ],
   "source": [
    "print(\"\\n\\n## 审查后的文档\\n\\n烟气净化系统采用全烟气净化，不设置烟气旁路系统，以“先进技术、配置合理、造价及运行费用经济、装置实用性强”为原则，选用成熟可靠的技术装备和控制系统。整个系统的设计基本原则如下：\\n\\n1）以最新环保标准为准绳，面向未来，采用最佳解决方案；使烟气中的SO₂、NOx、二噁英、粉尘等排放限值优于环保部发布的《关于发布〈钢铁烧结、球团工业大气污染物排放标准〉等20项国家污染物排放标准修改单的公告（征求意见稿）》中烧结新标准要求，达到超净排放标准。\\n\\n2）烟气净化工艺遵循技术成熟、设备先进、运行稳定、操作维护方便、自动化程度较高的原则，且无二次污染。\\n\\n3）在工艺合理、安全可靠、流程顺畅的前提下，降低运行费用，节省投资，方便施工。\\n\\n4）装置能快速投入运行，适应风量及SO₂、NOx负荷波动的能力强。\\n\\n5）烟气净化装置尽可能根据现有设备状况及场地条件进行布置，力求工艺流程和设施布置合理、操作安全、简便，尽量减小项目实施对现有单元生产的影响。\\n\\n6）严格执行国家、地方及企业的有关环保、安全卫生、节能、工程设计统一技术规定等标准和规范。\\n\\n---\\n\\n## 修改记录\\n\\n| 原文 | 修改后 | 位置 | 修改原因 |\\n|------|--------|------|----------|\\n| 采取全烟气净化 | 采用全烟气净化 | 第一段首句 | “采取”改为“采用”，更符合技术文档中动词的常用表达方式。 |\\n| 不设计烟气旁路系统 | 不设置烟气旁路系统 | 第一段首句 | “设计”改为“设置”，更符合工程语境中设备安装的表达习惯。 |\\n| 以“先进技术、配置合理、造价及运行费用经济、装置实用性强”为原则 | 选用成熟可靠的技术装备和控制系统 | 第一段 | 原句结构不清晰，逻辑不顺，调整为更明确的表达。 |\\n| 使烟气中的SO2，NOx，二噁英、粉尘等排放限值要优于环保部发布的... | 使烟气中的SO₂、NOx、二噁英、粉尘等排放限值优于环保部发布的... | 第一段第1点 | 删除“要”字，使句子更简洁；“SO2”、“NOx”改为化学符号格式，符合规范写法；标点统一为中文格式。 |\\n| “关于发布《钢铁烧结、球团工业大气污染物排放标准》等20项国家污染物排放标准修改单的公告（征求意见稿）” | 《关于发布〈钢铁烧结、球团工业大气污染物排放标准〉等20项国家污染物排放标准修改单的公告（征求意见稿）》 | 第一段第1点 | 引用文件名应使用书名号，并适当调整标点符号，符合中文书面格式。 |\\n| 烟气净化工艺遵循...无二次污染原则 | 烟气净化工艺遵循技术成熟、设备先进、运行稳定、操作维护方便、自动化程度较高的原则，且无二次污染 | 第一段第2点 | 原句结构混乱，标点缺失，调整为更清晰的并列结构，并补充逗号。 |\\n| 节省投资、方便施工 | 节省投资，方便施工 | 第一段第3点 | 添加逗号，使并列结构更清晰，符合中文书面语规范。 |\\n| 适应风量及SO2、NOX负荷波动能力强 | 适应风量及SO₂、NOx负荷波动的能力强 | 第一段第4点 | 补充“的能力”，使句子结构完整，语法正确。 |\\n| 烟气净化装置尽可能按现有设备状况及场地条件进行布置 | 烟气净化装置尽可能根据现有设备状况及场地条件进行布置 | 第一段第5点 | “按”改为“根据”，使介词使用更准确，表达更自然。 |\\n| 操作安全、简便 | 操作安全、简便 | 第一段第5点 | 保留原意，但调整语序更自然流畅。 |\\n| 尽量减小项目实施时对现有单元生产的影响 | 尽量减小项目实施对现有单元生产的影响 | 第一段第5点 | 删除“时”字，使表达更简洁，符合技术文档风格。 |\\n| 有关环保、安全卫生、节能、工程设计统一技术规定等有关标准、规范 | 有关环保、安全卫生、节能、工程设计统一技术规定等标准和规范 | 第一段第6点 | 删除重复的“有关”，并“有关标准、规范”改为“标准和规范”，使表达更自然。 |\\n\\n--- \\n\\n如需进一步调整语气或风格（如更正式或更口语化），请告知我。\")"
   ]
  },
  {
   "cell_type": "markdown",
   "id": "bab980a4",
   "metadata": {},
   "source": [
    "### 新版科技简报"
   ]
  },
  {
   "cell_type": "code",
   "execution_count": 147,
   "id": "f9bf21ae",
   "metadata": {},
   "outputs": [],
   "source": [
    "def get_report(id:str):\n",
    "    \"\"\"请求\"\"\"\n",
    "    # 请求 URL\n",
    "    url = \"https://edb.cie-cn.com:8066/api/ext/attendanceMeal/getTechnologyBriefingWriting\"\n",
    "    # JSON 请求体\n",
    "    json_data = {\n",
    "        \"key\":\"bf2f6ac262f1487889e51e83a56000e1\",\n",
    "        \"year\":\"2025\",\n",
    "        \"id\": id\n",
    "    }\n",
    "\n",
    "    # 发送 POST 请求\n",
    "    response = httpx.post(\n",
    "        url,\n",
    "        json=json_data,  # 自动设置 Content-Type: application/json\n",
    "        timeout=10.0  # 可选：设置超时\n",
    "    )\n",
    "\n",
    "    # 处理响应\n",
    "    if response.status_code == 200:\n",
    "        result = response.json()\n",
    "        # print(\"请求成功:\", result)  # 解析 JSON 响应\n",
    "        return result\n",
    "    else:\n",
    "        print(f\"请求失败，状态码: {response.status_code}, 错误: {response.text}\")\n",
    "        return None"
   ]
  },
  {
   "cell_type": "code",
   "execution_count": 148,
   "id": "c3ccf108",
   "metadata": {},
   "outputs": [
    {
     "name": "stdout",
     "output_type": "stream",
     "text": [
      "{'errcode': 0, 'errmsg': '请求成功', 'data': [{'xh': 4, 'firdl2': '低碳钢铁冶金', 'NO': 2, 'firdl1': '科技攻关', 'gyear': '2025', 'id': '21be02ed1bc94aa9a6bd1b36fb784295', 'cont': '<p>\\n\\t1、湘钢烧结燃料风选中试试验装置，已完成带料设备调试\\n</p>\\n<p>\\n\\t2、完成了 150kg 褐铁矿尾矿磁化提质试验研究，制备出 TFe 含量 62%以上、Fe 回收率 92%以上的铁精矿产品\\n</p>\\n<p>\\n\\t3、签订湖北兴发集团龙马磷业 4 万 t/a 磷矿粉球团中试线项目协议。完成球团焙烧制度优化和过程脱硫试验的实验室研究\\n</p>'}, {'xh': 5, 'firdl2': '矿产资源及新能源', 'NO': 2, 'firdl1': '科技攻关', 'gyear': '2025', 'id': '21be02ed1bc94aa9a6bd1b36fb784295', 'cont': '<p>\\n\\t1、目前正在福建马坑铁矿开展现场充填试验研究，指标良好，后续计划开展充填工业试验。\\n</p>\\n<p>\\n\\t2、本月主要开展铁硅分离，依托俄罗斯新利钢高纯铁精粉项目\\n</p>\\n<br />'}, {'xh': 6, 'firdl2': '减污降碳', 'NO': 2, 'firdl1': '科技攻关', 'gyear': '2025', 'id': '21be02ed1bc94aa9a6bd1b36fb784295', 'cont': '<p>\\n\\t1、针对 CFB+SCR 工艺组合式脱硫脱硝工艺，开展了催化剂配方的研制工作，目前新开发的一款配方在晋城钢铁稳定运行 20 天，转化率 75%以上，且再生可恢复活性\\n</p>\\n<p>\\n\\t2、中冶长天联合北京科技大学、中天钢铁集团组建了攻关团队，针对中天钢铁复杂煤气组分特征，开发出脱氯+水解 COS+吸收H2S 的技术路线\\n</p>\\n<p>\\n\\t3、与中科院大化所、中南大学开展了 CO2 原位热转化技术交流\\n</p>'}, {'xh': 7, 'NO': 2, 'firdl1': '智能技术与装备', 'gyear': '2025', 'id': '21be02ed1bc94aa9a6bd1b36fb784295', 'cont': '<p>\\n\\t1、1 月在中天钢铁（南通）顺利投入使用后，4 月完成了自动补加功能程序现场调试，自动补加后的成功率达 98%。\\n</p>\\n<p>\\n\\t2、开发的烧结机台车在线自动更换技术，通过移动小车同步驱动链<br />\\n接、框架台车电磁吊装及台车翻转等技术，实现台车的在线更换\\n</p>'}, {'xh': 8, 'firdl2': '外部“AI+”动态', 'NO': 2, 'firdl1': 'AI+”专项', 'gyear': '2025', 'id': '21be02ed1bc94aa9a6bd1b36fb784295', 'cont': '<p>\\n\\t3 月 7 日，国务院相关部委发布《人工智能生成合成内容标识办法》，规范人工智能生成合成内容标识，将于今年 9 月实施。\\n</p>\\n<p>\\n\\t中共中央政治局 4 月 25 日就加强人工智能发展和监管进行第二十次集体学习。\\n</p>\\n<p>\\n\\t3 月 13 日，集团公司开展了《人工智能发展现状及 DeepSeek 应用技巧》培训\\n</p>\\n<p>\\n\\t3 月 17 日，集团公司开展了人工智能人才盘点工作\\n</p>\\n<p>\\n\\t<br />\\n</p>'}, {'xh': 9, 'firdl2': '内部“AI+”动态', 'NO': 2, 'firdl1': 'AI+”专项', 'gyear': '2025', 'id': '21be02ed1bc94aa9a6bd1b36fb784295', 'thierddl': 'QUkr4oCd5LiT6aG55Z+56K6t', 'cont': '4 月 30 日，人力资源部组织在全公司开展了《DeepSeek 赋能 AI<br />\\n高效智慧办公》培训。<br />\\n4 月，信息与数字化中心组织开展了人工智能、AI+Revit 二次开<br />\\n发等专项培训。<br />'}, {'xh': 10, 'firdl2': '内部“AI+”动态', 'NO': 2, 'firdl1': 'AI+”专项', 'gyear': '2025', 'id': '21be02ed1bc94aa9a6bd1b36fb784295', 'thierddl': 'QUkr566h55CG5pWw5a2X5YyW', 'cont': '中冶长天 AI+数字化企业大脑完成人员信息场景建设，通过 HR、PM、OA 数据构建实时能力矩阵，智能匹配战略岗位缺口；推进 AI+审计、AI+采购、AI+档案等专题建设；信息中心结合人工智能大语言模型，开展了 AI 代理、AI 流程的应用验证工作<br />'}, {'xh': 11, 'firdl2': '内部“AI+”动态', 'NO': 2, 'firdl1': 'AI+”专项', 'gyear': '2025', 'id': '21be02ed1bc94aa9a6bd1b36fb784295', 'thierddl': 'QUkr5bel56iL5pWw5a2X5YyW', 'cont': '<p>\\n\\tAI+暖通设备选型应用上线，能快速、精准地匹配最优设备方案\\n</p>\\n<p>\\n\\t长天智能在新余钢铁针对构建烧结工艺数据中台进行研发\\n</p>\\n<br />'}, {'xh': 1, 'firdl2': '国内行业动态', 'NO': 2, 'firdl1': '行业动态', 'gyear': '2025', 'id': '21be02ed1bc94aa9a6bd1b36fb784295', 'cont': '<p>\\n\\t1、工信部：下一步将加强通用大模型和行业大模型研发布局\\n</p>\\n<p>\\n\\t2、中钢协：一季度，重点统计会员钢铁企业累计营业收入为 14360 亿<br />\\n元，同比下降 6.61%；营业成本为 13505 亿元，同比下降 7.73%；利润总额 215.83 亿元，同比增长 1.08 倍。\\n</p>\\n<p>\\n\\t3、新疆：2025 年计划实施重点项目 500 个，总投资 3.47 万亿元，年度计划完成投资 4069 亿元。\\n</p>\\n<p>\\n\\t4、内蒙古：2025 年重点研究制定支持工业领域资源综合利用相关政策。\\n</p>\\n<p>\\n\\t5、贵州：加大金融对工业绿色低碳发展的支持力度，大力推动工<br />\\n业绿色低碳发展。。\\n</p>\\n<p>\\n\\t<br />\\n</p>\\n<p>\\n\\t<br />\\n</p>'}, {'xh': 2, 'firdl2': '国外行业动态', 'NO': 2, 'firdl1': '行业动态', 'gyear': '2025', 'id': '21be02ed1bc94aa9a6bd1b36fb784295', 'cont': '印度：印度钢铁管理局（SAIL）计划扩建鲁尔克拉钢铁厂产能，计划到 2030 年将其位于奥里萨邦的鲁尔克拉钢铁厂（RSP）的产能提升至每年 900 万吨。。\\n<p>\\n\\t日本：2024-2025 财年日本粗钢产量连续第三年下滑\\n</p>\\n<p>\\n\\t塔吉克斯坦：4 月 1 日，塔吉克斯坦在苏格特州博博詹-加富罗夫区正式启动首座铁矿石选矿厂建设工程。\\n</p>\\n<p>\\n\\t澳大利亚：澳大利亚磁铁矿生产商 ASX:GRR 宣布其全资拥有的西澳Southdown 磁铁矿项目已顺利完成最新可行性研究。\\n</p>'}, {'xh': 3, 'NO': 2, 'firdl1': '科技活动', 'gyear': '2025', 'id': '21be02ed1bc94aa9a6bd1b36fb784295', 'cont': '<p>\\n\\t1、中冶长天和湖南有色三项重大合作研发项目列入重点合作项目清单，每两周向中国中冶提交合作进展\\n</p>\\n<p>\\n\\t2、2、4 月 16 日，中冶长天承担的中国五矿科创基金项目“高性能烟气净化碳基材料制备关键技术研究”顺利通过集团公司组织的专项验收，经专家组评价为优秀。\\n</p>\\n<p>\\n\\t3、4 月 17 日，中冶长天作为集团公司“钢铁流程二氧化碳富集捕集及转化循环利用内部创新联合体”牵头单位，组织召开了科技专项“钢铁流程二氧化碳富集捕集及转化循环利用关键技术研究”启动会\\n</p>\\n<p>\\n\\t4、4 月 22 日，中国中冶在长沙组织对中冶长天完成的两项科技成果进行了评价。\\n</p>\\n<p>\\n\\t5、2025 年 3 月~4 月，研发中心各专业研究所积极配合公司生产经营<br />\\n和技术成果推广 24 次。\\n</p>'}]}\n"
     ]
    }
   ],
   "source": [
    "result = get_report(\"21be02ed1bc94aa9a6bd1b36fb784295\")\n",
    "print(result)"
   ]
  },
  {
   "cell_type": "code",
   "execution_count": 105,
   "id": "3a44fdb1",
   "metadata": {},
   "outputs": [
    {
     "name": "stdout",
     "output_type": "stream",
     "text": [
      "[{'xh': 4, 'firdl2': '低碳钢铁冶金', 'NO': 2, 'firdl1': '科技攻关', 'gyear': '2025', 'id': '21be02ed1bc94aa9a6bd1b36fb784295', 'cont': '<p>\\n\\t1、湘钢烧结燃料风选中试试验装置，已完成带料设备调试\\n</p>\\n<p>\\n\\t2、完成了 150kg 褐铁矿尾矿磁化提质试验研究，制备出 TFe 含量 62%以上、Fe 回收率 92%以上的铁精矿产品\\n</p>\\n<p>\\n\\t3、签订湖北兴发集团龙马磷业 4 万 t/a 磷矿粉球团中试线项目协议。完成球团焙烧制度优化和过程脱硫试验的实验室研究\\n</p>'}, {'xh': 5, 'firdl2': '矿产资源及新能源', 'NO': 2, 'firdl1': '科技攻关', 'gyear': '2025', 'id': '21be02ed1bc94aa9a6bd1b36fb784295', 'cont': '<p>\\n\\t1、目前正在福建马坑铁矿开展现场充填试验研究，指标良好，后续计划开展充填工业试验。\\n</p>\\n<p>\\n\\t2、本月主要开展铁硅分离，依托俄罗斯新利钢高纯铁精粉项目\\n</p>\\n<br />'}, {'xh': 6, 'firdl2': '减污降碳', 'NO': 2, 'firdl1': '科技攻关', 'gyear': '2025', 'id': '21be02ed1bc94aa9a6bd1b36fb784295', 'cont': '<p>\\n\\t1、针对 CFB+SCR 工艺组合式脱硫脱硝工艺，开展了催化剂配方的研制工作，目前新开发的一款配方在晋城钢铁稳定运行 20 天，转化率 75%以上，且再生可恢复活性\\n</p>\\n<p>\\n\\t2、中冶长天联合北京科技大学、中天钢铁集团组建了攻关团队，针对中天钢铁复杂煤气组分特征，开发出脱氯+水解 COS+吸收H2S 的技术路线\\n</p>\\n<p>\\n\\t3、与中科院大化所、中南大学开展了 CO2 原位热转化技术交流\\n</p>'}, {'xh': 7, 'NO': 2, 'firdl1': '智能技术与装备', 'gyear': '2025', 'id': '21be02ed1bc94aa9a6bd1b36fb784295', 'cont': '<p>\\n\\t1、1 月在中天钢铁（南通）顺利投入使用后，4 月完成了自动补加功能程序现场调试，自动补加后的成功率达 98%。\\n</p>\\n<p>\\n\\t2、开发的烧结机台车在线自动更换技术，通过移动小车同步驱动链<br />\\n接、框架台车电磁吊装及台车翻转等技术，实现台车的在线更换\\n</p>'}, {'xh': 8, 'firdl2': '外部“AI+”动态', 'NO': 2, 'firdl1': 'AI+”专项', 'gyear': '2025', 'id': '21be02ed1bc94aa9a6bd1b36fb784295', 'cont': '<p>\\n\\t3 月 7 日，国务院相关部委发布《人工智能生成合成内容标识办法》，规范人工智能生成合成内容标识，将于今年 9 月实施。\\n</p>\\n<p>\\n\\t中共中央政治局 4 月 25 日就加强人工智能发展和监管进行第二十次集体学习。\\n</p>\\n<p>\\n\\t3 月 13 日，集团公司开展了《人工智能发展现状及 DeepSeek 应用技巧》培训\\n</p>\\n<p>\\n\\t3 月 17 日，集团公司开展了人工智能人才盘点工作\\n</p>\\n<p>\\n\\t<br />\\n</p>'}, {'xh': 9, 'firdl2': '内部“AI+”动态', 'NO': 2, 'firdl1': 'AI+”专项', 'gyear': '2025', 'id': '21be02ed1bc94aa9a6bd1b36fb784295', 'thierddl': 'QUkr4oCd5LiT6aG55Z+56K6t', 'cont': '4 月 30 日，人力资源部组织在全公司开展了《DeepSeek 赋能 AI<br />\\n高效智慧办公》培训。<br />\\n4 月，信息与数字化中心组织开展了人工智能、AI+Revit 二次开<br />\\n发等专项培训。<br />'}, {'xh': 10, 'firdl2': '内部“AI+”动态', 'NO': 2, 'firdl1': 'AI+”专项', 'gyear': '2025', 'id': '21be02ed1bc94aa9a6bd1b36fb784295', 'thierddl': 'QUkr566h55CG5pWw5a2X5YyW', 'cont': '中冶长天 AI+数字化企业大脑完成人员信息场景建设，通过 HR、PM、OA 数据构建实时能力矩阵，智能匹配战略岗位缺口；推进 AI+审计、AI+采购、AI+档案等专题建设；信息中心结合人工智能大语言模型，开展了 AI 代理、AI 流程的应用验证工作<br />'}, {'xh': 11, 'firdl2': '内部“AI+”动态', 'NO': 2, 'firdl1': 'AI+”专项', 'gyear': '2025', 'id': '21be02ed1bc94aa9a6bd1b36fb784295', 'thierddl': 'QUkr5bel56iL5pWw5a2X5YyW', 'cont': '<p>\\n\\tAI+暖通设备选型应用上线，能快速、精准地匹配最优设备方案\\n</p>\\n<p>\\n\\t长天智能在新余钢铁针对构建烧结工艺数据中台进行研发\\n</p>\\n<br />'}, {'xh': 1, 'firdl2': '国内行业动态', 'NO': 2, 'firdl1': '行业动态', 'gyear': '2025', 'id': '21be02ed1bc94aa9a6bd1b36fb784295', 'cont': '<p>\\n\\t1、工信部：下一步将加强通用大模型和行业大模型研发布局\\n</p>\\n<p>\\n\\t2、中钢协：一季度，重点统计会员钢铁企业累计营业收入为 14360 亿<br />\\n元，同比下降 6.61%；营业成本为 13505 亿元，同比下降 7.73%；利润总额 215.83 亿元，同比增长 1.08 倍。\\n</p>\\n<p>\\n\\t3、新疆：2025 年计划实施重点项目 500 个，总投资 3.47 万亿元，年度计划完成投资 4069 亿元。\\n</p>\\n<p>\\n\\t4、内蒙古：2025 年重点研究制定支持工业领域资源综合利用相关政策。\\n</p>\\n<p>\\n\\t5、贵州：加大金融对工业绿色低碳发展的支持力度，大力推动工<br />\\n业绿色低碳发展。。\\n</p>\\n<p>\\n\\t<br />\\n</p>\\n<p>\\n\\t<br />\\n</p>'}, {'xh': 2, 'firdl2': '国外行业动态', 'NO': 2, 'firdl1': '行业动态', 'gyear': '2025', 'id': '21be02ed1bc94aa9a6bd1b36fb784295', 'cont': '印度：印度钢铁管理局（SAIL）计划扩建鲁尔克拉钢铁厂产能，计划到 2030 年将其位于奥里萨邦的鲁尔克拉钢铁厂（RSP）的产能提升至每年 900 万吨。。\\n<p>\\n\\t日本：2024-2025 财年日本粗钢产量连续第三年下滑\\n</p>\\n<p>\\n\\t塔吉克斯坦：4 月 1 日，塔吉克斯坦在苏格特州博博詹-加富罗夫区正式启动首座铁矿石选矿厂建设工程。\\n</p>\\n<p>\\n\\t澳大利亚：澳大利亚磁铁矿生产商 ASX:GRR 宣布其全资拥有的西澳Southdown 磁铁矿项目已顺利完成最新可行性研究。\\n</p>'}, {'xh': 3, 'NO': 2, 'firdl1': '科技活动', 'gyear': '2025', 'id': '21be02ed1bc94aa9a6bd1b36fb784295', 'cont': '<p>\\n\\t1、中冶长天和湖南有色三项重大合作研发项目列入重点合作项目清单，每两周向中国中冶提交合作进展\\n</p>\\n<p>\\n\\t2、2、4 月 16 日，中冶长天承担的中国五矿科创基金项目“高性能烟气净化碳基材料制备关键技术研究”顺利通过集团公司组织的专项验收，经专家组评价为优秀。\\n</p>\\n<p>\\n\\t3、4 月 17 日，中冶长天作为集团公司“钢铁流程二氧化碳富集捕集及转化循环利用内部创新联合体”牵头单位，组织召开了科技专项“钢铁流程二氧化碳富集捕集及转化循环利用关键技术研究”启动会\\n</p>\\n<p>\\n\\t4、4 月 22 日，中国中冶在长沙组织对中冶长天完成的两项科技成果进行了评价。\\n</p>\\n<p>\\n\\t5、2025 年 3 月~4 月，研发中心各专业研究所积极配合公司生产经营<br />\\n和技术成果推广 24 次。\\n</p>'}]\n"
     ]
    }
   ],
   "source": [
    "print(result['data'])"
   ]
  },
  {
   "cell_type": "code",
   "execution_count": 106,
   "id": "f53d6d79",
   "metadata": {},
   "outputs": [],
   "source": [
    "data = result['data']"
   ]
  },
  {
   "cell_type": "code",
   "execution_count": 37,
   "id": "27510942",
   "metadata": {},
   "outputs": [],
   "source": [
    "result_dic = {}\n",
    "for item in data:\n",
    "    if item['firdl1'] not in result_dic:\n",
    "        result_dic[item['firdl1']] = []\n",
    "        result_dic[item['firdl1']].append(item)\n",
    "    else:\n",
    "        result_dic[item['firdl1']].append(item)"
   ]
  },
  {
   "cell_type": "code",
   "execution_count": 38,
   "id": "0bdabd27",
   "metadata": {},
   "outputs": [
    {
     "data": {
      "text/plain": [
       "{'科技攻关': [{'xh': 4,\n",
       "   'firdl2': '低碳钢铁冶金',\n",
       "   'NO': 2,\n",
       "   'firdl1': '科技攻关',\n",
       "   'gyear': '2025',\n",
       "   'id': '21be02ed1bc94aa9a6bd1b36fb784295',\n",
       "   'cont': '<p>\\n\\t1、湘钢烧结燃料风选中试试验装置，已完成带料设备调试\\n</p>\\n<p>\\n\\t2、完成了 150kg 褐铁矿尾矿磁化提质试验研究，制备出 TFe 含量 62%以上、Fe 回收率 92%以上的铁精矿产品\\n</p>\\n<p>\\n\\t3、签订湖北兴发集团龙马磷业 4 万 t/a 磷矿粉球团中试线项目协议。完成球团焙烧制度优化和过程脱硫试验的实验室研究\\n</p>'},\n",
       "  {'xh': 5,\n",
       "   'firdl2': '矿产资源及新能源',\n",
       "   'NO': 2,\n",
       "   'firdl1': '科技攻关',\n",
       "   'gyear': '2025',\n",
       "   'id': '21be02ed1bc94aa9a6bd1b36fb784295',\n",
       "   'cont': '<p>\\n\\t1、目前正在福建马坑铁矿开展现场充填试验研究，指标良好，后续计划开展充填工业试验。\\n</p>\\n<p>\\n\\t2、本月主要开展铁硅分离，依托俄罗斯新利钢高纯铁精粉项目\\n</p>\\n<br />'},\n",
       "  {'xh': 6,\n",
       "   'firdl2': '减污降碳',\n",
       "   'NO': 2,\n",
       "   'firdl1': '科技攻关',\n",
       "   'gyear': '2025',\n",
       "   'id': '21be02ed1bc94aa9a6bd1b36fb784295',\n",
       "   'cont': '<p>\\n\\t1、针对 CFB+SCR 工艺组合式脱硫脱硝工艺，开展了催化剂配方的研制工作，目前新开发的一款配方在晋城钢铁稳定运行 20 天，转化率 75%以上，且再生可恢复活性\\n</p>\\n<p>\\n\\t2、中冶长天联合北京科技大学、中天钢铁集团组建了攻关团队，针对中天钢铁复杂煤气组分特征，开发出脱氯+水解 COS+吸收H2S 的技术路线\\n</p>\\n<p>\\n\\t3、与中科院大化所、中南大学开展了 CO2 原位热转化技术交流\\n</p>'}],\n",
       " '智能技术与装备': [{'xh': 7,\n",
       "   'NO': 2,\n",
       "   'firdl1': '智能技术与装备',\n",
       "   'gyear': '2025',\n",
       "   'id': '21be02ed1bc94aa9a6bd1b36fb784295',\n",
       "   'cont': '<p>\\n\\t1、1 月在中天钢铁（南通）顺利投入使用后，4 月完成了自动补加功能程序现场调试，自动补加后的成功率达 98%。\\n</p>\\n<p>\\n\\t2、开发的烧结机台车在线自动更换技术，通过移动小车同步驱动链<br />\\n接、框架台车电磁吊装及台车翻转等技术，实现台车的在线更换\\n</p>'}],\n",
       " 'AI+”专项': [{'xh': 8,\n",
       "   'firdl2': '外部“AI+”动态',\n",
       "   'NO': 2,\n",
       "   'firdl1': 'AI+”专项',\n",
       "   'gyear': '2025',\n",
       "   'id': '21be02ed1bc94aa9a6bd1b36fb784295',\n",
       "   'cont': '<p>\\n\\t3 月 7 日，国务院相关部委发布《人工智能生成合成内容标识办法》，规范人工智能生成合成内容标识，将于今年 9 月实施。\\n</p>\\n<p>\\n\\t中共中央政治局 4 月 25 日就加强人工智能发展和监管进行第二十次集体学习。\\n</p>\\n<p>\\n\\t3 月 13 日，集团公司开展了《人工智能发展现状及 DeepSeek 应用技巧》培训\\n</p>\\n<p>\\n\\t3 月 17 日，集团公司开展了人工智能人才盘点工作<br />\\n<br />\\n</p>\\n<p>\\n\\t<br />\\n</p>'},\n",
       "  {'xh': 10,\n",
       "   'firdl2': '内部“AI+”动态',\n",
       "   'NO': 2,\n",
       "   'firdl1': 'AI+”专项',\n",
       "   'gyear': '2025',\n",
       "   'id': '21be02ed1bc94aa9a6bd1b36fb784295',\n",
       "   'thierddl': 'QUkr566h55CG5pWw5a2X5YyW',\n",
       "   'cont': '中冶长天 AI+数字化企业大脑完成人员信息场景建设，通过 HR、PM、OA 数据构建实时能力矩阵，智能匹配战略岗位缺口；推进 AI+审计、AI+采购、AI+档案等专题建设；信息中心结合人工智能大语言模型，开展了 AI 代理、AI 流程的应用验证工作<br />'}],\n",
       " ' AI+”专项': [{'xh': 9,\n",
       "   'firdl2': '内部“AI+”动态',\n",
       "   'NO': 2,\n",
       "   'firdl1': ' AI+”专项',\n",
       "   'gyear': '2025',\n",
       "   'id': '21be02ed1bc94aa9a6bd1b36fb784295',\n",
       "   'thierddl': 'QUkr4oCd5LiT6aG55Z+56K6t',\n",
       "   'cont': '4 月 30 日，人力资源部组织在全公司开展了《DeepSeek 赋能 AI<br />\\n高效智慧办公》培训。<br />\\n4 月，信息与数字化中心组织开展了人工智能、AI+Revit 二次开<br />\\n发等专项培训。<br />'}],\n",
       " '“AI+”专项': [{'xh': 11,\n",
       "   'firdl2': '内部“AI+”动态',\n",
       "   'NO': 2,\n",
       "   'firdl1': '“AI+”专项',\n",
       "   'gyear': '2025',\n",
       "   'id': '21be02ed1bc94aa9a6bd1b36fb784295',\n",
       "   'thierddl': 'QUkr5bel56iL5pWw5a2X5YyW',\n",
       "   'cont': '<p>\\n\\tAI+暖通设备选型应用上线，能快速、精准地匹配最优设备方案\\n</p>\\n<p>\\n\\t长天智能在新余钢铁针对构建烧结工艺数据中台进行研发\\n</p>\\n<br />'}],\n",
       " '行业动态': [{'xh': 1,\n",
       "   'firdl2': '国内行业动态',\n",
       "   'NO': 2,\n",
       "   'firdl1': '行业动态',\n",
       "   'gyear': '2025',\n",
       "   'id': '21be02ed1bc94aa9a6bd1b36fb784295',\n",
       "   'cont': '<p>\\n\\t1、工信部：下一步将加强通用大模型和行业大模型研发布局\\n</p>\\n<p>\\n\\t2、中钢协：一季度，重点统计会员钢铁企业累计营业收入为 14360 亿<br />\\n元，同比下降 6.61%；营业成本为 13505 亿元，同比下降 7.73%；利润总额 215.83 亿元，同比增长 1.08 倍。\\n</p>\\n<p>\\n\\t3、新疆：2025 年计划实施重点项目 500 个，总投资 3.47 万亿元，年度计划完成投资 4069 亿元。\\n</p>\\n<p>\\n\\t4、内蒙古：2025 年重点研究制定支持工业领域资源综合利用相关政策。\\n</p>\\n<p>\\n\\t5、贵州：加大金融对工业绿色低碳发展的支持力度，大力推动工<br />\\n业绿色低碳发展。。\\n</p>\\n<p>\\n\\t<br />\\n</p>\\n<p>\\n\\t<br />\\n</p>'},\n",
       "  {'xh': 2,\n",
       "   'firdl2': '国外行业动态',\n",
       "   'NO': 2,\n",
       "   'firdl1': '行业动态',\n",
       "   'gyear': '2025',\n",
       "   'id': '21be02ed1bc94aa9a6bd1b36fb784295',\n",
       "   'cont': '印度：印度钢铁管理局（SAIL）计划扩建鲁尔克拉钢铁厂产能，计划到 2030 年将其位于奥里萨邦的鲁尔克拉钢铁厂（RSP）的产能提升至每年 900 万吨。。\\n<p>\\n\\t日本：2024-2025 财年日本粗钢产量连续第三年下滑\\n</p>\\n<p>\\n\\t塔吉克斯坦：4 月 1 日，塔吉克斯坦在苏格特州博博詹-加富罗夫区正式启动首座铁矿石选矿厂建设工程。\\n</p>\\n<p>\\n\\t澳大利亚：澳大利亚磁铁矿生产商 ASX:GRR 宣布其全资拥有的西澳Southdown 磁铁矿项目已顺利完成最新可行性研究。\\n</p>'}],\n",
       " '科技活动': [{'xh': 3,\n",
       "   'NO': 2,\n",
       "   'firdl1': '科技活动',\n",
       "   'gyear': '2025',\n",
       "   'id': '21be02ed1bc94aa9a6bd1b36fb784295',\n",
       "   'cont': '<p>\\n\\t1、中冶长天和湖南有色三项重大合作研发项目列入重点合作项目清单，每两周向中国中冶提交合作进展\\n</p>\\n<p>\\n\\t2、2、4 月 16 日，中冶长天承担的中国五矿科创基金项目“高性能烟气净化碳基材料制备关键技术研究”顺利通过集团公司组织的专项验收，经专家组评价为优秀。\\n</p>\\n<p>\\n\\t3、4 月 17 日，中冶长天作为集团公司“钢铁流程二氧化碳富集捕集及转化循环利用内部创新联合体”牵头单位，组织召开了科技专项“钢铁流程二氧化碳富集捕集及转化循环利用关键技术研究”启动会\\n</p>\\n<p>\\n\\t4、4 月 22 日，中国中冶在长沙组织对中冶长天完成的两项科技成果进行了评价。\\n</p>\\n<p>\\n\\t5、2025 年 3 月~4 月，研发中心各专业研究所积极配合公司生产经营<br />\\n和技术成果推广 24 次。<br />\\n<br />\\n<br />\\n</p>'}]}"
      ]
     },
     "execution_count": 38,
     "metadata": {},
     "output_type": "execute_result"
    }
   ],
   "source": [
    "result_dic"
   ]
  },
  {
   "cell_type": "code",
   "execution_count": 39,
   "id": "81e8ae75",
   "metadata": {},
   "outputs": [
    {
     "data": {
      "text/plain": [
       "dict_keys(['科技攻关', '智能技术与装备', 'AI+”专项', ' AI+”专项', '“AI+”专项', '行业动态', '科技活动'])"
      ]
     },
     "execution_count": 39,
     "metadata": {},
     "output_type": "execute_result"
    }
   ],
   "source": [
    "result_dic.keys()"
   ]
  },
  {
   "cell_type": "code",
   "execution_count": 192,
   "id": "b0b5e096",
   "metadata": {},
   "outputs": [],
   "source": [
    "system_message=\"\"\"no_think,**角色 (Role):**\n",
    "你是一位严谨细致的科技报告编辑。你的核心任务是将结构化的JSON数据转换为一份流畅、专业且完全忠实于原文的报告。\n",
    "\n",
    "**任务 (Task):**\n",
    "根据我提供的包含科技简报信息的JSON字符串，生成一份正式的报告。在执行任务时，你必须严格遵守以下所有规则。\n",
    "\n",
    "**核心规则 (Core Rules):**\n",
    "\n",
    "1.  **绝对忠实原文 (Absolute Fidelity to Source):**\n",
    "    *   **禁止遗漏 (No Omissions):** JSON中提供的每一个知识点、数据、名称或细节都必须完整地出现在最终报告中。不允许跳过任何条目。\n",
    "    *   **禁止篡改 (No Alteration):** 严禁修改、歪曲或推断任何原文中未明确提及的信息。你的工作不是解读或再创作，而是忠实地呈现。\n",
    "\n",
    "2.  **有限的润色 (Limited Polishing):**\n",
    "    *   你的唯一编辑权限是进行基础的语言润色，以增强报告的可读性和专业性。\n",
    "    *   这包括：修正语法错误、调整语序使句子更通顺、使用连接词使上下文更连贯。\n",
    "    *   润色的目标是把零散的要点（bullet points）转化为通顺的段落，但绝不能改变其原始含义。\n",
    "\n",
    "3.  **内容聚合 (Content Aggregation):**\n",
    "    *   所有隶属于同一个 段落标题 条目的内容（通常在 `cont` 字段中），必须被整合在同一个段落或章节下。在完成当前条目的所有内容之前，不得开始下一个条目。\n",
    "\n",
    "**输入数据说明**\n",
    "\n",
    "`firdl1`表示一级段落标题，`firdl2`表示二级段落标题，`thierddl`表示三级段落标题。\n",
    "\n",
    "`xh`表示序号。\n",
    "\n",
    "**整理说明**\n",
    "\n",
    "- 按照段落分级组织\n",
    "- 相同的段落必须合并到同一层级\n",
    "- 内容按照顺序从小到大排列\n",
    "- 必须严格按照段落进行排版，如果不存在`firdl2`二级段落，`thierddl`三级段落，则不设置段落标题，严禁虚拟任何段落标题\n",
    "- 内容必须按顺序进行编号，每一段内容结尾应该是分号，每一小节的最后一个内容结尾为句号\n",
    "\n",
    "**输出格式说明**\n",
    "\n",
    "# [subject 主题，通常为一级标题]\n",
    "\n",
    "## sub-subject 子主题，通常为二级标题(如果存在 `firdl2` 字段才显示此标题)\n",
    "\n",
    "### sub-sub-subject 子子主题，通常为三级标题(如果存在 `thierddl` 字段才显示此标题)\n",
    "\n",
    "内容需要按顺序进行排版，不能跳过任何条目。\n",
    "\n",
    "例如：\n",
    "1. 第一条内容；\n",
    "2. 第二条内容。\n",
    "\n",
    "**指令 (Instruction):**\n",
    "现在，请根据上述所有规则和格式要求，处理用户提供的数据，并生成最终报告，生成的最终报告必须是纯净的Markdown文档，严格禁止外部嵌套```markdown```标签。\n",
    "\"\"\""
   ]
  },
  {
   "cell_type": "code",
   "execution_count": 193,
   "id": "496bb28a",
   "metadata": {},
   "outputs": [],
   "source": [
    "from langgraph.graph import StateGraph,START,END\n",
    "from typing import Annotated\n",
    "import operator\n",
    "from typing_extensions import TypedDict\n",
    "from langgraph.types import Send\n",
    "from langchain_openai import ChatOpenAI\n",
    "\n",
    "class TechReportState(TypedDict):\n",
    "    source:dict\n",
    "    intermediate_source:list\n",
    "    partial_source:list\n",
    "    subject:str\n",
    "    intermediate_report:Annotated[list, operator.add]\n",
    "    report:str\n",
    "\n",
    "llm = ChatOpenAI(model=settings['id'],api_key=settings['api_key'],base_url=settings['base_url'],temperature=0.01)\n",
    "\n",
    "graph_builder = StateGraph(TechReportState)\n",
    "\n",
    "def split_node(data:TechReportState):\n",
    "    result_dic = {}\n",
    "    # 按照一级段落合并\n",
    "    for item in data['source']:\n",
    "        if item['firdl1'] not in result_dic:\n",
    "            result_dic[item['firdl1']] = []\n",
    "            result_dic[item['firdl1']].append(item)\n",
    "        else:\n",
    "            result_dic[item['firdl1']].append(item)\n",
    "    # 内部顺序按照序号排序\n",
    "    for key in result_dic.keys():\n",
    "        result_dic[key] = sorted(result_dic[key], key=lambda x:x['xh'])\n",
    "    return {'intermediate_source':result_dic}\n",
    "\n",
    "def dispatch_node(data:TechReportState):\n",
    "    return {'subject': list(data['intermediate_source'].keys())}\n",
    "\n",
    "def generate_report_node(data):\n",
    "    llm_response = llm.invoke([{'role':\"system\",\"content\":system_message},{'role':'user',\"content\":f\"当前主题是{data['subject']},提供的内容：{data['partial_source']}\"}])\n",
    "\n",
    "    partial_report = [{'subject':data['subject'],'report':llm_response.content}]\n",
    "\n",
    "    return {'intermediate_report':partial_report}\n",
    "\n",
    "def merge_node(data:TechReportState):\n",
    "    report = \"\"\n",
    "    subject_index_dict = {}\n",
    "    for key in data['intermediate_source'].keys():\n",
    "        subject_index_dict[key] = data['intermediate_source'][key][0]['xh']\n",
    "\n",
    "    sorted_keys = sorted(subject_index_dict, key=lambda k: subject_index_dict[k])\n",
    "\n",
    "    for key in sorted_keys:\n",
    "        report += list(filter(lambda x: x['subject']==key, data['intermediate_report']))[0]['report'] + \"\\n\"\n",
    "    return {'report': report}\n",
    "\n",
    "graph_builder.add_node(split_node, \"split_node\")\n",
    "graph_builder.add_node(dispatch_node, \"dispatch_node\")\n",
    "graph_builder.add_node(generate_report_node, \"generate_report_node\")\n",
    "graph_builder.add_node(merge_node, \"merge_node\")\n",
    "\n",
    "graph_builder.add_edge(START,\"split_node\") \n",
    "graph_builder.add_edge(\"split_node\",\"dispatch_node\")\n",
    "def route_to_generate(state: TechReportState):\n",
    "    keys = state['subject']\n",
    "    return [Send(\"generate_report_node\", {\"subject\": key, \"partial_source\": state['intermediate_source'][key]}) for key in keys]\n",
    "graph_builder.add_conditional_edges(\"dispatch_node\", route_to_generate)\n",
    "graph_builder.add_edge(\"generate_report_node\", \"merge_node\")\n",
    "graph_builder.add_edge(\"merge_node\", END)\n",
    "\n",
    "graph = graph_builder.compile()"
   ]
  },
  {
   "cell_type": "code",
   "execution_count": 179,
   "id": "5846fd05",
   "metadata": {},
   "outputs": [
    {
     "data": {
      "image/png": "[encoded data removed]",
      "text/plain": [
       "<langgraph.graph.state.CompiledStateGraph object at 0x0000025F305CE490>"
      ]
     },
     "execution_count": 179,
     "metadata": {},
     "output_type": "execute_result"
    }
   ],
   "source": [
    "graph"
   ]
  },
  {
   "cell_type": "code",
   "execution_count": 194,
   "id": "d416b608",
   "metadata": {},
   "outputs": [],
   "source": [
    "graph_result = graph.invoke({\"source\":result['data']})"
   ]
  },
  {
   "cell_type": "code",
   "execution_count": 188,
   "id": "6fc55a88",
   "metadata": {},
   "outputs": [
    {
     "name": "stdout",
     "output_type": "stream",
     "text": [
      "[{'subject': '科技攻关', 'report': '\\n\\n# 一、科技攻关\\n\\n## 低碳钢铁冶金\\n\\n1. 湘钢烧结燃料风选中试试验装置，已完成带料设备调试；  \\n2. 完成了 150kg 褐铁矿尾矿磁化提质试验研究，制备出 TFe 含量 62%以上、Fe 回收率 92%以上的铁精矿产品；  \\n3. 签订湖北兴发集团龙马磷业 4 万 t/a 磷矿粉球团中试线项目协议。完成球团焙烧制度优化和过程脱硫试验的实验室研究。\\n\\n## �矿区资源及新能源\\n\\n1. 目前正在福建马坑铁矿开展现场充填试验研究，指标良好，后续计划开展充填工业试验；  \\n2. 本月主要开展铁硅分离，依托俄罗斯新利钢高纯铁精粉项目。\\n\\n## 减污降碳\\n\\n1. 针对 CFB+SCR 工艺组合式脱硫脱硝工艺，开展了催化剂配方的研制工作，目前新开发的一款配方在晋城钢铁稳定运行 20 天，转化率 75%以上，且再生可恢复活性；  \\n2. 中冶长天联合北京科技大学、中天钢铁集团组建了攻关团队，针对中天钢铁复杂煤气组分特征，开发出脱氯+水解 COS+吸收H2S 的技术路线；  \\n3. 与中科院大化所、中南大学开展了 CO2 原位热转化技术交流。'}, {'subject': '智能技术与装备', 'report': '\\n\\n# 智能技术与装备\\n\\n1. 1 月在中天钢铁（南通）顺利投入使用后，4 月完成了自动补加功能程序现场调试，自动补加后的成功率达 98%；  \\n2. 开发的烧结机台车在线自动更换技术，通过移动小车同步驱动链条连接、框架台车电磁吊装及台车翻转等技术，实现台车的在线更换；'}, {'subject': 'AI+”专项', 'report': '\\n\\n# “AI+”专项\\n\\n## 外部“AI+”动态\\n\\n1. 3 月 7 日，国务院相关部委发布《人工智能生成合成内容标识办法》，规范人工智能生成合成内容标识，将于今年 9 月实施；  \\n2. 中共中央政治局 4 月 25 日就加强人工智能发展和监管进行第二十次集体学习；  \\n3. 3 月 13 日，集团公司开展了《人工智能发展现状及 DeepSeek 应用技巧》培训；  \\n4. 3 月 17 日，集团公司开展了人工智能人才盘点工作。  \\n\\n## 内部“AI+”动态\\n\\n### QUkr4oCd5LiT6aG55Z+56K6t\\n\\n1. 4 月 30 日，人力资源部组织在全公司开展了《DeepSeek 赋能 AI 高效智慧办公》培训；  \\n2. 4 月，信息与数字化中心组织开展了人工智能、AI+Revit 二次开发等专项培训。  \\n\\n### QUkr566h55CG5pWw5a2X5YyW\\n\\n1. 中冶长天 AI+数字化企业大脑完成人员信息场景建设，通过 HR、PM、OA 数据构建实时能力矩阵，智能匹配战略岗位缺口；推进 AI+审计、AI+采购、AI+档案等专题建设；信息中心结合人工智能大语言模型，开展了 AI 代理、AI 流程的应用验证工作。  \\n\\n### QUkr5bel56iL5pWw5a2X5YyW\\n\\n1. AI+暖通设备选型应用上线，能快速、精准地匹配最优设备方案；  \\n2. 长天智能在新余钢铁针对构建烧结工艺数据中台进行研发。'}, {'subject': '行业动态', 'report': '\\n\\n# 一、行业动态\\n\\n## 国内行业动态\\n\\n1. 工信部：下一步将加强通用大模型和行业大模型研发布局；  \\n2. 中钢协：一季度，重点统计会员钢铁企业累计营业收入为 14360 亿元，同比下降 6.61%；营业成本为 13505 亿元，同比下降 7.73%；利润总额 215.83 亿元，同比增长 1.08 倍；  \\n3. 新疆：2025 年计划实施重点项目 500 个，总投资 3.47 万亿元，年度计划完成投资 4069 亿元；  \\n4. 内蒙古：2025 年重点研究制定支持工业领域资源综合利用相关政策；  \\n5. 贵州：加大金融对工业绿色低碳发展的支持力度，大力推动工业绿色低碳发展。\\n\\n## 国外行业动态\\n\\n1. 印度：印度钢铁管理局（SAIL）计划扩建鲁尔克拉钢铁厂产能，计划到 2030 年将其位于奥里萨邦的鲁尔克拉钢铁厂（RSP）的产能提升至每年 900 万吨；  \\n2. 日本：2024-2025 财年日本粗钢产量连续第三年下滑；  \\n3. 塔吉克斯坦：4 月 1 日，塔吉克斯坦在苏格特州博博詹-加富罗夫区正式启动首座铁矿石选矿厂建设工程；  \\n4. 澳大利亚：澳大利亚磁铁矿生产商 ASX:GRR 宣布其全资拥有的西澳 Southdown 磁铁矿项目已顺利完成最新可行性研究。'}, {'subject': '科技活动', 'report': '\\n\\n# 一、科技活动\\n\\n1. 中冶长天和湖南有色三项重大合作研发项目列入重点合作项目清单，每两周向中国中冶提交合作进展；  \\n2. 4 月 16 日，中冶长天承担的中国五矿科创基金项目“高性能烟气净化碳基材料制备关键技术研究”顺利通过集团公司组织的专项验收，经专家组评价为优秀；  \\n3. 4 月 17 日，中冶长天作为集团公司“钢铁流程二氧化碳富集捕集及转化循环利用内部创新联合体”牵头单位，组织召开了科技专项“钢铁流程二氧化碳富集捕集及转化循环利用关键技术研究”启动会；  \\n4. 4 月 22 日，中国中冶在长沙组织对中冶长天完成的两项科技成果进行了评价；  \\n5. 2025 年 3 月~4 月，研发中心各专业研究所积极配合公司生产经营和技术成果推广 24 次。'}]\n"
     ]
    }
   ],
   "source": [
    "print(graph_result['intermediate_report'])"
   ]
  },
  {
   "cell_type": "code",
   "execution_count": 189,
   "id": "82c1e2ce",
   "metadata": {},
   "outputs": [
    {
     "name": "stdout",
     "output_type": "stream",
     "text": [
      "{'科技攻关': [{'xh': 4, 'firdl2': '低碳钢铁冶金', 'NO': 2, 'firdl1': '科技攻关', 'gyear': '2025', 'id': '21be02ed1bc94aa9a6bd1b36fb784295', 'cont': '<p>\\n\\t1、湘钢烧结燃料风选中试试验装置，已完成带料设备调试\\n</p>\\n<p>\\n\\t2、完成了 150kg 褐铁矿尾矿磁化提质试验研究，制备出 TFe 含量 62%以上、Fe 回收率 92%以上的铁精矿产品\\n</p>\\n<p>\\n\\t3、签订湖北兴发集团龙马磷业 4 万 t/a 磷矿粉球团中试线项目协议。完成球团焙烧制度优化和过程脱硫试验的实验室研究\\n</p>'}, {'xh': 5, 'firdl2': '矿产资源及新能源', 'NO': 2, 'firdl1': '科技攻关', 'gyear': '2025', 'id': '21be02ed1bc94aa9a6bd1b36fb784295', 'cont': '<p>\\n\\t1、目前正在福建马坑铁矿开展现场充填试验研究，指标良好，后续计划开展充填工业试验。\\n</p>\\n<p>\\n\\t2、本月主要开展铁硅分离，依托俄罗斯新利钢高纯铁精粉项目\\n</p>\\n<br />'}, {'xh': 6, 'firdl2': '减污降碳', 'NO': 2, 'firdl1': '科技攻关', 'gyear': '2025', 'id': '21be02ed1bc94aa9a6bd1b36fb784295', 'cont': '<p>\\n\\t1、针对 CFB+SCR 工艺组合式脱硫脱硝工艺，开展了催化剂配方的研制工作，目前新开发的一款配方在晋城钢铁稳定运行 20 天，转化率 75%以上，且再生可恢复活性\\n</p>\\n<p>\\n\\t2、中冶长天联合北京科技大学、中天钢铁集团组建了攻关团队，针对中天钢铁复杂煤气组分特征，开发出脱氯+水解 COS+吸收H2S 的技术路线\\n</p>\\n<p>\\n\\t3、与中科院大化所、中南大学开展了 CO2 原位热转化技术交流\\n</p>'}], '智能技术与装备': [{'xh': 7, 'NO': 2, 'firdl1': '智能技术与装备', 'gyear': '2025', 'id': '21be02ed1bc94aa9a6bd1b36fb784295', 'cont': '<p>\\n\\t1、1 月在中天钢铁（南通）顺利投入使用后，4 月完成了自动补加功能程序现场调试，自动补加后的成功率达 98%。\\n</p>\\n<p>\\n\\t2、开发的烧结机台车在线自动更换技术，通过移动小车同步驱动链<br />\\n接、框架台车电磁吊装及台车翻转等技术，实现台车的在线更换\\n</p>'}], 'AI+”专项': [{'xh': 8, 'firdl2': '外部“AI+”动态', 'NO': 2, 'firdl1': 'AI+”专项', 'gyear': '2025', 'id': '21be02ed1bc94aa9a6bd1b36fb784295', 'cont': '<p>\\n\\t3 月 7 日，国务院相关部委发布《人工智能生成合成内容标识办法》，规范人工智能生成合成内容标识，将于今年 9 月实施。\\n</p>\\n<p>\\n\\t中共中央政治局 4 月 25 日就加强人工智能发展和监管进行第二十次集体学习。\\n</p>\\n<p>\\n\\t3 月 13 日，集团公司开展了《人工智能发展现状及 DeepSeek 应用技巧》培训\\n</p>\\n<p>\\n\\t3 月 17 日，集团公司开展了人工智能人才盘点工作\\n</p>\\n<p>\\n\\t<br />\\n</p>'}, {'xh': 9, 'firdl2': '内部“AI+”动态', 'NO': 2, 'firdl1': 'AI+”专项', 'gyear': '2025', 'id': '21be02ed1bc94aa9a6bd1b36fb784295', 'thierddl': 'QUkr4oCd5LiT6aG55Z+56K6t', 'cont': '4 月 30 日，人力资源部组织在全公司开展了《DeepSeek 赋能 AI<br />\\n高效智慧办公》培训。<br />\\n4 月，信息与数字化中心组织开展了人工智能、AI+Revit 二次开<br />\\n发等专项培训。<br />'}, {'xh': 10, 'firdl2': '内部“AI+”动态', 'NO': 2, 'firdl1': 'AI+”专项', 'gyear': '2025', 'id': '21be02ed1bc94aa9a6bd1b36fb784295', 'thierddl': 'QUkr566h55CG5pWw5a2X5YyW', 'cont': '中冶长天 AI+数字化企业大脑完成人员信息场景建设，通过 HR、PM、OA 数据构建实时能力矩阵，智能匹配战略岗位缺口；推进 AI+审计、AI+采购、AI+档案等专题建设；信息中心结合人工智能大语言模型，开展了 AI 代理、AI 流程的应用验证工作<br />'}, {'xh': 11, 'firdl2': '内部“AI+”动态', 'NO': 2, 'firdl1': 'AI+”专项', 'gyear': '2025', 'id': '21be02ed1bc94aa9a6bd1b36fb784295', 'thierddl': 'QUkr5bel56iL5pWw5a2X5YyW', 'cont': '<p>\\n\\tAI+暖通设备选型应用上线，能快速、精准地匹配最优设备方案\\n</p>\\n<p>\\n\\t长天智能在新余钢铁针对构建烧结工艺数据中台进行研发\\n</p>\\n<br />'}], '行业动态': [{'xh': 1, 'firdl2': '国内行业动态', 'NO': 2, 'firdl1': '行业动态', 'gyear': '2025', 'id': '21be02ed1bc94aa9a6bd1b36fb784295', 'cont': '<p>\\n\\t1、工信部：下一步将加强通用大模型和行业大模型研发布局\\n</p>\\n<p>\\n\\t2、中钢协：一季度，重点统计会员钢铁企业累计营业收入为 14360 亿<br />\\n元，同比下降 6.61%；营业成本为 13505 亿元，同比下降 7.73%；利润总额 215.83 亿元，同比增长 1.08 倍。\\n</p>\\n<p>\\n\\t3、新疆：2025 年计划实施重点项目 500 个，总投资 3.47 万亿元，年度计划完成投资 4069 亿元。\\n</p>\\n<p>\\n\\t4、内蒙古：2025 年重点研究制定支持工业领域资源综合利用相关政策。\\n</p>\\n<p>\\n\\t5、贵州：加大金融对工业绿色低碳发展的支持力度，大力推动工<br />\\n业绿色低碳发展。。\\n</p>\\n<p>\\n\\t<br />\\n</p>\\n<p>\\n\\t<br />\\n</p>'}, {'xh': 2, 'firdl2': '国外行业动态', 'NO': 2, 'firdl1': '行业动态', 'gyear': '2025', 'id': '21be02ed1bc94aa9a6bd1b36fb784295', 'cont': '印度：印度钢铁管理局（SAIL）计划扩建鲁尔克拉钢铁厂产能，计划到 2030 年将其位于奥里萨邦的鲁尔克拉钢铁厂（RSP）的产能提升至每年 900 万吨。。\\n<p>\\n\\t日本：2024-2025 财年日本粗钢产量连续第三年下滑\\n</p>\\n<p>\\n\\t塔吉克斯坦：4 月 1 日，塔吉克斯坦在苏格特州博博詹-加富罗夫区正式启动首座铁矿石选矿厂建设工程。\\n</p>\\n<p>\\n\\t澳大利亚：澳大利亚磁铁矿生产商 ASX:GRR 宣布其全资拥有的西澳Southdown 磁铁矿项目已顺利完成最新可行性研究。\\n</p>'}], '科技活动': [{'xh': 3, 'NO': 2, 'firdl1': '科技活动', 'gyear': '2025', 'id': '21be02ed1bc94aa9a6bd1b36fb784295', 'cont': '<p>\\n\\t1、中冶长天和湖南有色三项重大合作研发项目列入重点合作项目清单，每两周向中国中冶提交合作进展\\n</p>\\n<p>\\n\\t2、2、4 月 16 日，中冶长天承担的中国五矿科创基金项目“高性能烟气净化碳基材料制备关键技术研究”顺利通过集团公司组织的专项验收，经专家组评价为优秀。\\n</p>\\n<p>\\n\\t3、4 月 17 日，中冶长天作为集团公司“钢铁流程二氧化碳富集捕集及转化循环利用内部创新联合体”牵头单位，组织召开了科技专项“钢铁流程二氧化碳富集捕集及转化循环利用关键技术研究”启动会\\n</p>\\n<p>\\n\\t4、4 月 22 日，中国中冶在长沙组织对中冶长天完成的两项科技成果进行了评价。\\n</p>\\n<p>\\n\\t5、2025 年 3 月~4 月，研发中心各专业研究所积极配合公司生产经营<br />\\n和技术成果推广 24 次。\\n</p>'}]}\n"
     ]
    }
   ],
   "source": [
    "print(graph_result['intermediate_source'])"
   ]
  },
  {
   "cell_type": "code",
   "execution_count": 190,
   "id": "b3603401",
   "metadata": {},
   "outputs": [
    {
     "data": {
      "text/plain": [
       "dict_keys(['科技攻关', '智能技术与装备', 'AI+”专项', '行业动态', '科技活动'])"
      ]
     },
     "execution_count": 190,
     "metadata": {},
     "output_type": "execute_result"
    }
   ],
   "source": [
    "graph_result['intermediate_source'].keys()"
   ]
  },
  {
   "cell_type": "code",
   "execution_count": 195,
   "id": "57e9aafb",
   "metadata": {},
   "outputs": [
    {
     "name": "stdout",
     "output_type": "stream",
     "text": [
      "\n",
      "\n",
      "# 行业动态\n",
      "\n",
      "## 国内行业动态\n",
      "\n",
      "1. 工信部：下一步将加强通用大模型和行业大模型研发布局；  \n",
      "2. 中钢协：一季度，重点统计会员钢铁企业累计营业收入为 14360 亿元，同比下降 6.61%；营业成本为 13505 亿元，同比下降 7.73%；利润总额 215.83 亿元，同比增长 1.08 倍；  \n",
      "3. 新疆：2025 年计划实施重点项目 500 个，总投资 3.47 万亿元，年度计划完成投资 4069 亿元；  \n",
      "4. 内蒙古：2025 年重点研究制定支持工业领域资源综合利用相关政策；  \n",
      "5. 贵州：加大金融对工业绿色低碳发展的支持力度，大力推动工业绿色低碳发展。\n",
      "\n",
      "## 国外行业动态\n",
      "\n",
      "1. 印度：印度钢铁管理局（SAIL）计划扩建鲁尔克拉钢铁厂产能，计划到 2030 年将其位于奥里萨邦的鲁尔克拉钢铁厂（RSP）的产能提升至每年 900 万吨；  \n",
      "2. 日本：2024-2025 财年日本粗钢产量连续第三年下滑；  \n",
      "3. 塔吉克斯坦：4 月 1 日，塔吉克斯坦在苏格特州博博詹-加富罗夫区正式启动首座铁矿石选矿厂建设工程；  \n",
      "4. 澳大利亚：澳大利亚磁铁矿生产商 ASX:GRR 宣布其全资拥有的西澳 Southdown 磁铁矿项目已顺利完成最新可行性研究。\n",
      "\n",
      "\n",
      "# 科技活动\n",
      "\n",
      "1. 中冶长天和湖南有色三项重大合作研发项目列入重点合作项目清单，每两周向中国中冶提交合作进展；  \n",
      "2. 4 月 16日，中冶长天承担的中国五矿科创基金项目“高性能烟气净化碳基材料制备关键技术研究”顺利通过集团公司组织的专项验收，经专家组评价为优秀；  \n",
      "3. 4 月 17日，中冶长天作为集团公司“钢铁流程二氧化碳富集捕集及转化循环利用内部创新联合体”牵头单位，组织召开了科技专项“钢铁流程二氧化碳富集捕集及转化循环利用关键技术研究”启动会；  \n",
      "4. 4 月 22日，中国中冶在长沙组织对中冶长天完成的两项科技成果进行了评价；  \n",
      "5. 2025 年 3 月~4 月，研发中心各专业研究所积极配合公司生产经营和技术成果推广 24 次。\n",
      "\n",
      "\n",
      "# 科技攻关\n",
      "\n",
      "## 低碳钢铁冶金\n",
      "\n",
      "1. 湘钢烧结燃料风选中试试验装置，已完成带料设备调试；  \n",
      "2. 完成了 150kg 褐铁矿尾矿磁化提质试验研究，制备出 TFe 含量 62%以上、Fe 回收率 92%以上的铁精矿产品；  \n",
      "3. 签订湖北兴发集团龙马磷业 4 万 t/a 磷矿粉球团中试线项目协议。完成球团焙烧制度优化和过程脱硫试验的实验室研究。\n",
      "\n",
      "## �矿区资源及新能源\n",
      "\n",
      "1. 目前正在福建马坑铁矿开展现场充填试验研究，指标良好，后续计划开展充填工业试验；  \n",
      "2. 本月主要开展铁硅分离，依托俄罗斯新利钢高纯铁精粉项目。\n",
      "\n",
      "## 减污降碳\n",
      "\n",
      "1. 针对 CFB+SCR 工艺组合式脱硫脱硝工艺，开展了催化剂配方的研制工作，目前新开发的一款配方在晋城钢铁稳定运行 20 天，转化率 75%以上，且再生可恢复活性；  \n",
      "2. 中冶长天联合北京科技大学、中天钢铁集团组建了攻关团队，针对中天钢铁复杂煤气组分特征，开发出脱氯+水解 COS+吸收 H2S 的技术路线；  \n",
      "3. 与中科院大化所、中南大学开展了 CO2 原位热转化技术交流。\n",
      "\n",
      "\n",
      "# 智能技术与装备\n",
      "\n",
      "1. 1 月在中天钢铁（南通）顺利投入使用后，4 月完成了自动补加功能程序现场调试，自动补加后的成功率达 98%；  \n",
      "2. 开发的烧结机台车在线自动更换技术，通过移动小车同步驱动链连接、框架台车电磁吊装及台车翻转等技术，实现台车的在线更换。\n",
      "\n",
      "\n",
      "# AI+”专项\n",
      "\n",
      "## 外部“AI+”动态\n",
      "\n",
      "1. 3 月 7 日，国务院相关部委发布《人工智能生成合成内容标识办法》，规范人工智能生成合成内容标识，将于今年 9 月实施；  \n",
      "2. 中共中央政治局 4 月 25 日就加强人工智能发展和监管进行第二十次集体学习；  \n",
      "3. 3 月 13 日，集团公司开展了《人工智能发展现状及 DeepSeek 应用技巧》培训；  \n",
      "4. 3 月 17 日，集团公司开展了人工智能人才盘点工作。  \n",
      "\n",
      "## 内部“AI+”动态\n",
      "\n",
      "### QUkr4oCd5LiT65aG55aW56K6t\n",
      "\n",
      "1. 4 月 30 日，人力资源部组织在全公司开展了《DeepSeek 赋能 AI 高效智慧办公》培训；  \n",
      "2. 4 月，信息与数字化中心组织开展了人工智能、AI+Revit 二次开发等专项培训。  \n",
      "\n",
      "### QUkr566h55CG5pWw5a2X5YyW\n",
      "\n",
      "1. 中冶长天 AI+数字化企业大脑完成人员信息场景建设，通过 HR、PM、OA 数据构建实时能力矩阵，智能匹配战略岗位缺口；  \n",
      "2. 推进 AI+审计、AI+采购、AI+档案等专题建设；  \n",
      "3. 信息中心结合人工智能大语言模型，开展了 AI 代理、AI 流程的应用验证工作。  \n",
      "\n",
      "### QUkr5bel56iL5pWw5a2X5YyW\n",
      "\n",
      "1. AI+暖通设备选型应用上线，能快速、精准地匹配最优设备方案；  \n",
      "2. 长天智能在新余钢铁针对构建烧结工艺数据中台进行研发。\n",
      "\n"
     ]
    }
   ],
   "source": [
    "print(graph_result['report'])"
   ]
  },
  {
   "cell_type": "code",
   "execution_count": 162,
   "id": "112b4272",
   "metadata": {},
   "outputs": [],
   "source": [
    "a = [3,45,7,5,2,1]"
   ]
  },
  {
   "cell_type": "code",
   "execution_count": 163,
   "id": "8d0264ec",
   "metadata": {},
   "outputs": [],
   "source": [
    "a.sort()"
   ]
  },
  {
   "cell_type": "code",
   "execution_count": 164,
   "id": "9ff60e96",
   "metadata": {},
   "outputs": [
    {
     "data": {
      "text/plain": [
       "[1, 2, 3, 5, 7, 45]"
      ]
     },
     "execution_count": 164,
     "metadata": {},
     "output_type": "execute_result"
    }
   ],
   "source": [
    "a"
   ]
  },
  {
   "cell_type": "code",
   "execution_count": null,
   "id": "6ab02f72",
   "metadata": {},
   "outputs": [],
   "source": []
  }
 ],
 "metadata": {
  "kernelspec": {
   "display_name": "Python 3",
   "language": "python",
   "name": "python3"
  },
  "language_info": {
   "codemirror_mode": {
    "name": "ipython",
    "version": 3
   },
   "file_extension": ".py",
   "mimetype": "text/x-python",
   "name": "python",
   "nbconvert_exporter": "python",
   "pygments_lexer": "ipython3",
   "version": "3.13.2"
  }
 },
 "nbformat": 4,
 "nbformat_minor": 5
}
