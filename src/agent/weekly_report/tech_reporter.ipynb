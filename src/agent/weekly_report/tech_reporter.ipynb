{
 "cells": [
  {
   "cell_type": "code",
   "execution_count": 49,
   "id": "bda278e9",
   "metadata": {},
   "outputs": [],
   "source": [
    "import os\n",
    "from dotenv import load_dotenv\n",
    "load_dotenv()\n",
    "from agno.agent import Agent\n",
    "import datetime\n",
    "from agno.models.openai import OpenAILike\n",
    "import json\n",
    "import httpx\n",
    "\n",
    "#------------------ settings ------------------\n",
    "api_key=os.getenv(\"DEEPSEEK_API_KEY\")\n",
    "base_url=os.getenv(\"DEEPSEEK_API_BASE_URL\")\n",
    "local_base_url = 'http://192.168.0.166:8000/v1'\n",
    "local_model_name = 'Qwen3-235B'\n",
    "model_name = 'deepseek-reasoner'\n",
    "\n",
    "local_settings = {\n",
    "  'api_key' : '123',\n",
    "  'base_url' : local_base_url,\n",
    "  'id' : local_model_name\n",
    "}\n",
    "\n",
    "online_settings = {\n",
    "  'api_key' : api_key,\n",
    "  'base_url' : base_url,\n",
    "  'id' : model_name\n",
    "}\n",
    "\n",
    "settings = local_settings\n",
    "#------------------ settings ------------------"
   ]
  },
  {
   "cell_type": "code",
   "execution_count": 50,
   "id": "3faacffa",
   "metadata": {},
   "outputs": [],
   "source": [
    "data = {\n",
    "  \"data_list\": [\n",
    "    {\"no\":4,\"first_paragraph\":\"科技攻关\",\"second_paragraph\":\"低碳钢铁冶金关\",\"content\":\"\"\"1、湘钢烧结燃料风选中试试验装置，已完成带料设备调试\n",
    "\n",
    "2、完成了 150kg 褐铁矿尾矿磁化提质试验研究，制备出 TFe 含量 62%以上、Fe 回收率 92%以上的铁精矿产品\n",
    "\n",
    "3、签订湖北兴发集团龙马磷业 4 万 t/a 磷矿粉球团中试线项目协议。完成球团焙烧制度优化和过程脱硫试验的实验室研究\"\"\"},\n",
    "    {\"no\":5,\"first_paragraph\":\"科技攻关\",\"second_paragraph\":\"矿产资源及新能源\",\"content\":\"\"\"1、目前正在福建马坑铁矿开展现场充填试验研究，指标良好，后续计划开展充填工业试验。\n",
    "\n",
    "2、本月主要开展铁硅分离，依托俄罗斯新利钢高纯铁精粉项目\"\"\"},\n",
    "{\"no\":6,\"first_paragraph\":\"科技攻关\",\"second_paragraph\":\"减污降碳\",\"content\":\"\"\"1、针对 CFB+SCR 工艺组合式脱硫脱硝工艺，开展了催化剂配方的研制工作，目前新开发的一款配方在晋城钢铁稳定运行 20 天，转化率 75%以上，且再生可恢复活性\n",
    "\n",
    "2、中冶长天联合北京科技大学、中天钢铁集团组建了攻关团队，针对中天钢铁复杂煤气组分特征，开发出脱氯+水解 COS+吸收H2S 的技术路线\n",
    "\n",
    "3、与中科院大化所、中南大学开展了 CO2 原位热转化技术交流\"\"\"},\n",
    "{\"no\":7,\"first_paragraph\":\"智能技术与装备\",\"second_paragraph\":\"\",\"content\":\"\"\"1、1 月在中天钢铁（南通）顺利投入使用后，4 月完成了自动补加功能程序现场调试，自动补加后的成功率达 98%。\n",
    "\n",
    "2、开发的烧结机台车在线自动更换技术，通过移动小车同步驱动链接、框架台车电磁吊装及台车翻转等技术，实现台车的在线更换\"\"\"},\n",
    "{\"no\":8,\"first_paragraph\":'“AI+专项',\"second_paragraph\":'外部“AI+”动态',\"content\":\"\"\"工智能生成合成内容标识，将于今年 9 月实施。\n",
    "\n",
    "中共中央政治局 4 月 25 日就加强人工智能发展和监管进行第二十次集体学习。\n",
    "\n",
    "3 月 13 日，集团公司开展了《人工智能发展现状及 DeepSeek 应用技巧》培训\n",
    "\n",
    "3 月 17 日，集团公司开展了人工智能人才盘点工作\"\"\"},\n",
    "{\"no\":9,\"first_paragraph\":'“AI+专项',\"second_paragraph\":'内部“AI+”动态',\"third_paragraph\":'AI+专项培训',\"content\":\"\"\"4 月 30 日，人力资源部组织在全公司开展了《DeepSeek 赋能 AI\n",
    "高效智慧办公》培训。\n",
    "4 月，信息与数字化中心组织开展了人工智能、AI+Revit 二次开\n",
    "发等专项培训。\"\"\"},\n",
    "{\"no\":10,\"first_paragraph\":'“AI+专项',\"second_paragraph\":'内部“AI+”动态',\"third_paragraph\":'AI+管理数字化',\"content\":\"\"\"中冶长天 AI+数字化企业大脑完成人员信息场景建设，通过 HR、PM、OA 数据构建实时能力矩阵，智能匹配战略岗位缺口；推进 AI+审计、AI+采购、AI+档案等专题建设；信息中心结合人工智能大语言模型，开展了 AI 代理、AI 流程的应用验证工作\"\"\"},\n",
    "  {\"no\":11,\"first_paragraph\":'“AI+专项',\"second_paragraph\":'内部“AI+”动态',\"third_paragraph\":'AI+工程数字化',\"content\":\"\"\"AI+暖通设备选型应用上线，能快速、精准地匹配最优设备方案长天智能在新余钢铁针对构建烧结工艺数据中台进行研发\"\"\"},\n",
    "  {\"no\":1,\"first_paragraph\":'行业动态',\"second_paragraph\":'国内行业动态',\"content\":\"\"\"1、工信部：下一步将加强通用大模型和行业大模型研发布局\n",
    "\n",
    "2、中钢协：一季度，重点统计会员钢铁企业累计营业收入为 14360 亿\n",
    "元，同比下降 6.61%；营业成本为 13505 亿元，同比下降 7.73%；利润总额 215.83 亿元，同比增长 1.08 倍。\n",
    "\n",
    "3、新疆：2025 年计划实施重点项目 500 个，总投资 3.47 万亿元，年度计划完成投资 4069 亿元。\n",
    "\n",
    "4、内蒙古：2025 年重点研究制定支持工业领域资源综合利用相关政策。\n",
    "\n",
    "5、贵州：加大金融对工业绿色低碳发展的支持力度，大力推动工\n",
    "业绿色低碳发展。。\"\"\"},\n",
    " {\"no\":2,\"first_paragraph\":'行业动态',\"second_paragraph\":'国外行业动态',\"content\":\"\"\"印度：印度钢铁管理局（SAIL）计划扩建鲁尔克拉钢铁厂产能，计划到 2030 年将其位于奥里萨邦的鲁尔克拉钢铁厂（RSP）的产能提升至每年 900 万吨。。\n",
    "日本：2024-2025 财年日本粗钢产量连续第三年下滑\n",
    "\n",
    "塔吉克斯坦：4 月 1 日，塔吉克斯坦在苏格特州博博詹-加富罗夫区正式启动首座铁矿石选矿厂建设工程。\n",
    "\n",
    "澳大利亚：澳大利亚磁铁矿生产商 ASX:GRR 宣布其全资拥有的西澳Southdown 磁铁矿项目已顺利完成最新可行性研究。\"\"\"},\n",
    "{\"no\":3,\"first_paragraph\":'科技活动',\"content\":\"\"\"1、中冶长天和湖南有色三项重大合作研发项目列入重点合作项目清单，每两周向中国中冶提交合作进展\n",
    "\n",
    "2、2、4 月 16 日，中冶长天承担的中国五矿科创基金项目“高性能烟气净化碳基材料制备关键技术研究”顺利通过集团公司组织的专项验收，经专家组评价为优秀。\n",
    "\n",
    "3、4 月 17 日，中冶长天作为集团公司“钢铁流程二氧化碳富集捕集及转化循环利用内部创新联合体”牵头单位，组织召开了科技专项“钢铁流程二氧化碳富集捕集及转化循环利用关键技术研究”启动会\n",
    "\n",
    "4、4 月 22 日，中国中冶在长沙组织对中冶长天完成的两项科技成果进行了评价。\n",
    "\n",
    "5、2025 年 3 月~4 月，研发中心各专业研究所积极配合公司生产经营\n",
    "和技术成果推广 24 次。\n",
    "\"\"\"},\n",
    "  ]\n",
    "}"
   ]
  },
  {
   "cell_type": "code",
   "execution_count": null,
   "id": "a2466b85",
   "metadata": {},
   "outputs": [],
   "source": [
    "data['data_list'].sort(key=lambda x: x['no'])\n",
    "list_data = data['data_list']\n",
    "list_data"
   ]
  },
  {
   "cell_type": "code",
   "execution_count": 43,
   "id": "39a78e6d",
   "metadata": {},
   "outputs": [
    {
     "data": {
      "text/plain": [
       "[{'no': 1,\n",
       "  'first_paragraph': '行业动态',\n",
       "  'second_paragraph': '国内行业动态',\n",
       "  'content': '1、工信部：下一步将加强通用大模型和行业大模型研发布局\\n\\n2、中钢协：一季度，重点统计会员钢铁企业累计营业收入为 14360 亿\\n元，同比下降 6.61%；营业成本为 13505 亿元，同比下降 7.73%；利润总额 215.83 亿元，同比增长 1.08 倍。\\n\\n3、新疆：2025 年计划实施重点项目 500 个，总投资 3.47 万亿元，年度计划完成投资 4069 亿元。\\n\\n4、内蒙古：2025 年重点研究制定支持工业领域资源综合利用相关政策。\\n\\n5、贵州：加大金融对工业绿色低碳发展的支持力度，大力推动工\\n业绿色低碳发展。。'},\n",
       " {'no': 2,\n",
       "  'first_paragraph': '行业动态',\n",
       "  'second_paragraph': '国外行业动态',\n",
       "  'content': '印度：印度钢铁管理局（SAIL）计划扩建鲁尔克拉钢铁厂产能，计划到 2030 年将其位于奥里萨邦的鲁尔克拉钢铁厂（RSP）的产能提升至每年 900 万吨。。\\n日本：2024-2025 财年日本粗钢产量连续第三年下滑\\n\\n塔吉克斯坦：4 月 1 日，塔吉克斯坦在苏格特州博博詹-加富罗夫区正式启动首座铁矿石选矿厂建设工程。\\n\\n澳大利亚：澳大利亚磁铁矿生产商 ASX:GRR 宣布其全资拥有的西澳Southdown 磁铁矿项目已顺利完成最新可行性研究。'}]"
      ]
     },
     "execution_count": 43,
     "metadata": {},
     "output_type": "execute_result"
    }
   ],
   "source": [
    "hydt_result = [item for item in list_data if item['first_paragraph'] == \"行业动态\"]\n",
    "hydt_result"
   ]
  },
  {
   "cell_type": "code",
   "execution_count": 44,
   "id": "2e529572",
   "metadata": {},
   "outputs": [
    {
     "data": {
      "text/plain": [
       "\"[{'no': 1, 'first_paragraph': '行业动态', 'second_paragraph': '国内行业动态', 'content': '1、工信部：下一步将加强通用大模型和行业大模型研发布局\\\\n\\\\n2、中钢协：一季度，重点统计会员钢铁企业累计营业收入为 14360 亿\\\\n元，同比下降 6.61%；营业成本为 13505 亿元，同比下降 7.73%；利润总额 215.83 亿元，同比增长 1.08 倍。\\\\n\\\\n3、新疆：2025 年计划实施重点项目 500 个，总投资 3.47 万亿元，年度计划完成投资 4069 亿元。\\\\n\\\\n4、内蒙古：2025 年重点研究制定支持工业领域资源综合利用相关政策。\\\\n\\\\n5、贵州：加大金融对工业绿色低碳发展的支持力度，大力推动工\\\\n业绿色低碳发展。。'}, {'no': 2, 'first_paragraph': '行业动态', 'second_paragraph': '国外行业动态', 'content': '印度：印度钢铁管理局（SAIL）计划扩建鲁尔克拉钢铁厂产能，计划到 2030 年将其位于奥里萨邦的鲁尔克拉钢铁厂（RSP）的产能提升至每年 900 万吨。。\\\\n日本：2024-2025 财年日本粗钢产量连续第三年下滑\\\\n\\\\n塔吉克斯坦：4 月 1 日，塔吉克斯坦在苏格特州博博詹-加富罗夫区正式启动首座铁矿石选矿厂建设工程。\\\\n\\\\n澳大利亚：澳大利亚磁铁矿生产商 ASX:GRR 宣布其全资拥有的西澳Southdown 磁铁矿项目已顺利完成最新可行性研究。'}, {'no': 3, 'first_paragraph': '科技活动', 'content': '1、中冶长天和湖南有色三项重大合作研发项目列入重点合作项目清单，每两周向中国中冶提交合作进展\\\\n\\\\n2、2、4 月 16 日，中冶长天承担的中国五矿科创基金项目“高性能烟气净化碳基材料制备关键技术研究”顺利通过集团公司组织的专项验收，经专家组评价为优秀。\\\\n\\\\n3、4 月 17 日，中冶长天作为集团公司“钢铁流程二氧化碳富集捕集及转化循环利用内部创新联合体”牵头单位，组织召开了科技专项“钢铁流程二氧化碳富集捕集及转化循环利用关键技术研究”启动会\\\\n\\\\n4、4 月 22 日，中国中冶在长沙组织对中冶长天完成的两项科技成果进行了评价。\\\\n\\\\n5、2025 年 3 月~4 月，研发中心各专业研究所积极配合公司生产经营\\\\n和技术成果推广 24 次。\\\\n'}, {'no': 4, 'first_paragraph': '科技攻关', 'second_paragraph': '低碳钢铁冶金关', 'content': '1、湘钢烧结燃料风选中试试验装置，已完成带料设备调试\\\\n\\\\n2、完成了 150kg 褐铁矿尾矿磁化提质试验研究，制备出 TFe 含量 62%以上、Fe 回收率 92%以上的铁精矿产品\\\\n\\\\n3、签订湖北兴发集团龙马磷业 4 万 t/a 磷矿粉球团中试线项目协议。完成球团焙烧制度优化和过程脱硫试验的实验室研究'}, {'no': 5, 'first_paragraph': '科技攻关', 'second_paragraph': '矿产资源及新能源', 'content': '1、目前正在福建马坑铁矿开展现场充填试验研究，指标良好，后续计划开展充填工业试验。\\\\n\\\\n2、本月主要开展铁硅分离，依托俄罗斯新利钢高纯铁精粉项目'}, {'no': 6, 'first_paragraph': '科技攻关', 'second_paragraph': '减污降碳', 'content': '1、针对 CFB+SCR 工艺组合式脱硫脱硝工艺，开展了催化剂配方的研制工作，目前新开发的一款配方在晋城钢铁稳定运行 20 天，转化率 75%以上，且再生可恢复活性\\\\n\\\\n2、中冶长天联合北京科技大学、中天钢铁集团组建了攻关团队，针对中天钢铁复杂煤气组分特征，开发出脱氯+水解 COS+吸收H2S 的技术路线\\\\n\\\\n3、与中科院大化所、中南大学开展了 CO2 原位热转化技术交流'}, {'no': 7, 'first_paragraph': '智能技术与装备', 'second_paragraph': '', 'content': '1、1 月在中天钢铁（南通）顺利投入使用后，4 月完成了自动补加功能程序现场调试，自动补加后的成功率达 98%。\\\\n\\\\n2、开发的烧结机台车在线自动更换技术，通过移动小车同步驱动链接、框架台车电磁吊装及台车翻转等技术，实现台车的在线更换'}, {'no': 8, 'first_paragraph': '“AI+专项', 'second_paragraph': '外部“AI+”动态', 'content': '工智能生成合成内容标识，将于今年 9 月实施。\\\\n\\\\n中共中央政治局 4 月 25 日就加强人工智能发展和监管进行第二十次集体学习。\\\\n\\\\n3 月 13 日，集团公司开展了《人工智能发展现状及 DeepSeek 应用技巧》培训\\\\n\\\\n3 月 17 日，集团公司开展了人工智能人才盘点工作'}, {'no': 9, 'first_paragraph': '“AI+专项', 'second_paragraph': '内部“AI+”动态', 'third_paragraph': 'AI+专项培训', 'content': '4 月 30 日，人力资源部组织在全公司开展了《DeepSeek 赋能 AI\\\\n高效智慧办公》培训。\\\\n4 月，信息与数字化中心组织开展了人工智能、AI+Revit 二次开\\\\n发等专项培训。'}, {'no': 10, 'first_paragraph': '“AI+专项', 'second_paragraph': '内部“AI+”动态', 'third_paragraph': 'AI+管理数字化', 'content': '中冶长天 AI+数字化企业大脑完成人员信息场景建设，通过 HR、PM、OA 数据构建实时能力矩阵，智能匹配战略岗位缺口；推进 AI+审计、AI+采购、AI+档案等专题建设；信息中心结合人工智能大语言模型，开展了 AI 代理、AI 流程的应用验证工作'}, {'no': 11, 'first_paragraph': '“AI+专项', 'second_paragraph': '内部“AI+”动态', 'third_paragraph': 'AI+工程数字化', 'content': 'AI+暖通设备选型应用上线，能快速、精准地匹配最优设备方案长天智能在新余钢铁针对构建烧结工艺数据中台进行研发'}]\""
      ]
     },
     "execution_count": 44,
     "metadata": {},
     "output_type": "execute_result"
    }
   ],
   "source": [
    "str(list_data)"
   ]
  },
  {
   "cell_type": "code",
   "execution_count": 52,
   "id": "c8a1db1d",
   "metadata": {},
   "outputs": [],
   "source": [
    "system_message=\"\"\"**角色 (Role):**\n",
    "你是一位严谨细致的科技报告编辑。你的核心任务是将结构化的JSON数据转换为一份流畅、专业且完全忠实于原文的报告。\n",
    "\n",
    "**任务 (Task):**\n",
    "根据我提供的包含科技简报信息的JSON字符串，生成一份正式的报告。在执行任务时，你必须严格遵守以下所有规则。\n",
    "\n",
    "**核心规则 (Core Rules):**\n",
    "\n",
    "1.  **绝对忠实原文 (Absolute Fidelity to Source):**\n",
    "    *   **禁止遗漏 (No Omissions):** JSON中提供的每一个知识点、数据、名称或细节都必须完整地出现在最终报告中。不允许跳过任何条目。\n",
    "    *   **禁止篡改 (No Alteration):** 严禁修改、歪曲或推断任何原文中未明确提及的信息。你的工作不是解读或再创作，而是忠实地呈现。\n",
    "\n",
    "2.  **有限的润色 (Limited Polishing):**\n",
    "    *   你的唯一编辑权限是进行基础的语言润色，以增强报告的可读性和专业性。\n",
    "    *   这包括：修正语法错误、调整语序使句子更通顺、使用连接词使上下文更连贯。\n",
    "    *   润色的目标是把零散的要点（bullet points）转化为通顺的段落，但绝不能改变其原始含义。\n",
    "\n",
    "3.  **内容聚合 (Content Aggregation):**\n",
    "    *   所有隶属于同一个 `no` 条目的内容（通常在 `content` 字段中），必须被整合在同一个段落或章节下。在完成当前条目的所有内容之前，不得开始下一个条目。\n",
    "\n",
    "---\n",
    "\n",
    "输出格式 (Output Format):\n",
    "输出符合Markdown格式，并遵循以下格式要求：\n",
    "为每个first_paragraph创建一个独立的Topic,Topic的标题就是first_paragraph字段的内容，例如first_paragraph=“行业动态”，那么在报告的标题首位位置就是[行业动态]。\n",
    "例如second_paragraph=“国内行业动态”，那么就是在该first_paragraph中顺序为## 一、国内行业动态\n",
    "如果存在third_paragraph，使用数字标题1开始，位于同一个second_paragraph段落下\n",
    "标题下方是根据 content 字段润色后的正文内容，每一个content都需要根据序号进行编号1,2,3,4,5以此类推。\n",
    "\n",
    "**示例 (Example):**\n",
    "\n",
    "**如果我提供的JSON是:**\n",
    "{\n",
    "  \"data_list\": [\n",
    "    {\n",
    "      \"no\": 1,\n",
    "      \"first_paragraph\": \"行业动态\",\n",
    "      \"second_paragraph\": \"国内行业动态\",\n",
    "      \"content\": \"1、工信部：下一步将加强通用大模型和行业大模型研发布局；2、中钢协：一季度，重点统计会员钢铁企业\"\n",
    "    },\n",
    "    {\n",
    "      \"no\": 2,\n",
    "      \"first_paragraph\": \"行业动态\",\n",
    "      \"second_paragraph\": \"内部“AI+”动态\",\n",
    "      \"third_paragraph\":\"“AI+”专项培训\",\n",
    "      \"content\": \"4 月 30 日，人力资源部组织在全公司开展了《DeepSeek 赋能 AI高效智慧办公》培训。\n",
    "      4 月，信息与数字化中心组织开展了人工智能、AI+Revit 二次开发等专项培训。\n",
    "      \"\n",
    "    }\n",
    "  ]\n",
    "}\n",
    "\n",
    "**你应当生成的完美报告是一份标准的Markdown格式报告:**\n",
    "\n",
    "# [行业动态]\n",
    "\n",
    "## 一、国内行业动态\n",
    "\n",
    "1、工信部：下一步将加强通用大模型和行业大模型研发布局。\n",
    "\n",
    "2、中钢协：一季度，重点统计会员钢铁企业。\n",
    "\n",
    "## 二、 内部“AI+”动态\n",
    "\n",
    "### 1、 “AI+”专项培训\n",
    "\n",
    "1、 4 月 30 日，人力资源部组织在全公司开展了《DeepSeek 赋能 AI高效智慧办公》培训。\n",
    "\n",
    "2、 4 月，信息与数字化中心组织开展了人工智能、AI+Revit 二次开发等专项培训。\n",
    "\n",
    "...\n",
    "\n",
    "---\n",
    "**指令 (Instruction):**\n",
    "现在，请根据上述所有规则和格式要求，处理我接下来提供的JSON字符串，并生成最终报告，生成的最终报告必须是纯净的Markdown文档，严格禁止外部嵌套```markdown```标签。\n",
    "\"\"\""
   ]
  },
  {
   "cell_type": "code",
   "execution_count": 53,
   "id": "c0e0491b",
   "metadata": {},
   "outputs": [],
   "source": [
    "agent = Agent(model=OpenAILike(**settings,temperature=0.01),system_message = system_message,telemetry=False)"
   ]
  },
  {
   "cell_type": "code",
   "execution_count": 54,
   "id": "8b70b7e4",
   "metadata": {},
   "outputs": [],
   "source": [
    "result = agent.run(str(data['data_list']))"
   ]
  },
  {
   "cell_type": "code",
   "execution_count": null,
   "id": "6c65c2ed",
   "metadata": {},
   "outputs": [],
   "source": [
    "print(result.content)"
   ]
  },
  {
   "cell_type": "code",
   "execution_count": null,
   "id": "ab364c25",
   "metadata": {},
   "outputs": [],
   "source": []
  }
 ],
 "metadata": {
  "kernelspec": {
   "display_name": "Python 3",
   "language": "python",
   "name": "python3"
  },
  "language_info": {
   "codemirror_mode": {
    "name": "ipython",
    "version": 3
   },
   "file_extension": ".py",
   "mimetype": "text/x-python",
   "name": "python",
   "nbconvert_exporter": "python",
   "pygments_lexer": "ipython3",
   "version": "3.13.2"
  }
 },
 "nbformat": 4,
 "nbformat_minor": 5
}
