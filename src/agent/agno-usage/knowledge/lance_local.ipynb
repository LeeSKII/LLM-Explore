{
 "cells": [
  {
   "cell_type": "code",
   "execution_count": 15,
   "id": "a9e7e0e3",
   "metadata": {},
   "outputs": [],
   "source": [
    "from typing import Iterator\n",
    "from agno.agent import Agent, RunResponse\n",
    "from agno.models.openai.like import OpenAILike\n",
    "from agno.utils.pprint import pprint_run_response\n",
    "from agno.vectordb.lancedb import LanceDb\n",
    "from agno.vectordb.search import SearchType\n",
    "from agno.embedder.openai import OpenAIEmbedder\n",
    "from agno.knowledge.docx import DocxKnowledgeBase\n",
    "from pathlib import Path\n",
    "\n",
    "import os\n",
    "from dotenv import load_dotenv\n",
    "load_dotenv()\n",
    "api_key=os.getenv(\"QWEN_API_KEY\")\n",
    "base_url=os.getenv(\"QWEN_API_BASE_URL\")\n",
    "local_base_url = 'http://192.168.0.166:8000/v1'\n",
    "local_model_name = 'Qwen3-235B'\n",
    "model_name = 'qwen3-235b-a22b'\n",
    "embedding_model_id = 'text-embedding-v3'\n",
    "\n",
    "local_settings = {\n",
    "  'api_key' : '123',\n",
    "  'base_url' : local_base_url,\n",
    "  'id' : local_model_name\n",
    "}\n",
    "\n",
    "qwen_settings = {\n",
    "  'api_key' : api_key,\n",
    "  'base_url' : base_url,\n",
    "  'id' : model_name\n",
    "}\n",
    "\n",
    "settings = local_settings"
   ]
  },
  {
   "cell_type": "code",
   "execution_count": 127,
   "id": "17beb8c2",
   "metadata": {},
   "outputs": [],
   "source": [
    "# 百炼的接口不需要chat_template_kwargs字段，直接enable_thinking即可\n",
    "\n",
    "#agent = Agent(model=OpenAILike(**settings))\n",
    "\n",
    "\n",
    "# Run agent and return the response as a variable\n",
    "# 同时会返回session_id，用于后续的连续对话，run_id表示每一轮次的对话\n",
    "#agent.run(\"你是谁\")"
   ]
  },
  {
   "cell_type": "code",
   "execution_count": 17,
   "id": "1cb26e03",
   "metadata": {},
   "outputs": [
    {
     "data": {
      "text/html": [
       "<pre style=\"white-space:pre;overflow-x:auto;line-height:normal;font-family:Menlo,'DejaVu Sans Mono',consolas,'Courier New',monospace\"><span style=\"color: #000080; text-decoration-color: #000080\">INFO</span> Creating table: contact_file                                                                                  \n",
       "</pre>\n"
      ],
      "text/plain": [
       "\u001b[34mINFO\u001b[0m Creating table: contact_file                                                                                  \n"
      ]
     },
     "metadata": {},
     "output_type": "display_data"
    }
   ],
   "source": [
    "vector_db = LanceDb(\n",
    "    table_name=\"contact_file\",\n",
    "    uri=\"tmp/lancedb\",\n",
    "    search_type=SearchType.hybrid,\n",
    "    embedder=OpenAIEmbedder(id=embedding_model_id,api_key=api_key,base_url=base_url, dimensions=1024),\n",
    ")"
   ]
  },
  {
   "cell_type": "code",
   "execution_count": null,
   "id": "cb29cac0",
   "metadata": {},
   "outputs": [],
   "source": [
    "# Create a knowledge base with the DOCX files from the data/docs directory\n",
    "# 默认的chunking_strategy是FixedSizeChunking，chunk_size=5000，overlap=0\n",
    "knowledge = DocxKnowledgeBase(\n",
    "    path=Path(r\"D:\\【个人工作】\\【2025】\\AI解析合同\\安阳钢铁集团有限责任公司综利公司烧结机头灰资源化处置项目（运营）\"),\n",
    "    vector_db=vector_db,\n",
    ")"
   ]
  },
  {
   "cell_type": "code",
   "execution_count": null,
   "id": "3cc6cb56",
   "metadata": {},
   "outputs": [
    {
     "data": {
      "text/html": [
       "<pre style=\"white-space:pre;overflow-x:auto;line-height:normal;font-family:Menlo,'DejaVu Sans Mono',consolas,'Courier New',monospace\"><span style=\"color: #000080; text-decoration-color: #000080\">INFO</span> Loading knowledge base                                                                                        \n",
       "</pre>\n"
      ],
      "text/plain": [
       "\u001b[34mINFO\u001b[0m Loading knowledge base                                                                                        \n"
      ]
     },
     "metadata": {},
     "output_type": "display_data"
    },
    {
     "data": {
      "text/html": [
       "<pre style=\"white-space:pre;overflow-x:auto;line-height:normal;font-family:Menlo,'DejaVu Sans Mono',consolas,'Courier New',monospace\"><span style=\"color: #000080; text-decoration-color: #000080\">INFO</span> Reading:                                                                                                      \n",
       "     D:\\【个人工作】\\【<span style=\"color: #008080; text-decoration-color: #008080; font-weight: bold\">2025</span>】\\AI解析合同\\安阳钢铁集团有限责任公司综利公司烧结机头灰资源化处置项目（运营）\\01三级浆 \n",
       "     液泵泵头采购合同.docx                                                                                         \n",
       "</pre>\n"
      ],
      "text/plain": [
       "\u001b[34mINFO\u001b[0m Reading:                                                                                                      \n",
       "     D:\\【个人工作】\\【\u001b[1;36m2025\u001b[0m】\\AI解析合同\\安阳钢铁集团有限责任公司综利公司烧结机头灰资源化处置项目（运营）\\01三级浆 \n",
       "     液泵泵头采购合同.docx                                                                                         \n"
      ]
     },
     "metadata": {},
     "output_type": "display_data"
    },
    {
     "data": {
      "text/html": [
       "<pre style=\"white-space:pre;overflow-x:auto;line-height:normal;font-family:Menlo,'DejaVu Sans Mono',consolas,'Courier New',monospace\"><span style=\"color: #000080; text-decoration-color: #000080\">INFO</span> Skipped <span style=\"color: #008080; text-decoration-color: #008080; font-weight: bold\">3</span> existing/duplicate documents.                                                                       \n",
       "</pre>\n"
      ],
      "text/plain": [
       "\u001b[34mINFO\u001b[0m Skipped \u001b[1;36m3\u001b[0m existing/duplicate documents.                                                                       \n"
      ]
     },
     "metadata": {},
     "output_type": "display_data"
    },
    {
     "data": {
      "text/html": [
       "<pre style=\"white-space:pre;overflow-x:auto;line-height:normal;font-family:Menlo,'DejaVu Sans Mono',consolas,'Courier New',monospace\"><span style=\"color: #000080; text-decoration-color: #000080\">INFO</span> Added <span style=\"color: #008080; text-decoration-color: #008080; font-weight: bold\">0</span> documents to knowledge base                                                                           \n",
       "</pre>\n"
      ],
      "text/plain": [
       "\u001b[34mINFO\u001b[0m Added \u001b[1;36m0\u001b[0m documents to knowledge base                                                                           \n"
      ]
     },
     "metadata": {},
     "output_type": "display_data"
    },
    {
     "data": {
      "text/html": [
       "<pre style=\"white-space:pre;overflow-x:auto;line-height:normal;font-family:Menlo,'DejaVu Sans Mono',consolas,'Courier New',monospace\"><span style=\"color: #000080; text-decoration-color: #000080\">INFO</span> Reading:                                                                                                      \n",
       "     D:\\【个人工作】\\【<span style=\"color: #008080; text-decoration-color: #008080; font-weight: bold\">2025</span>】\\AI解析合同\\安阳钢铁集团有限责任公司综利公司烧结机头灰资源化处置项目（运营）\\<span style=\"color: #008080; text-decoration-color: #008080; font-weight: bold\">02</span>       \n",
       "     阀门补充采购合同.docx                                                                                         \n",
       "</pre>\n"
      ],
      "text/plain": [
       "\u001b[34mINFO\u001b[0m Reading:                                                                                                      \n",
       "     D:\\【个人工作】\\【\u001b[1;36m2025\u001b[0m】\\AI解析合同\\安阳钢铁集团有限责任公司综利公司烧结机头灰资源化处置项目（运营）\\\u001b[1;36m02\u001b[0m       \n",
       "     阀门补充采购合同.docx                                                                                         \n"
      ]
     },
     "metadata": {},
     "output_type": "display_data"
    },
    {
     "data": {
      "text/html": [
       "<pre style=\"white-space:pre;overflow-x:auto;line-height:normal;font-family:Menlo,'DejaVu Sans Mono',consolas,'Courier New',monospace\"><span style=\"color: #000080; text-decoration-color: #000080\">INFO</span> Skipped <span style=\"color: #008080; text-decoration-color: #008080; font-weight: bold\">3</span> existing/duplicate documents.                                                                       \n",
       "</pre>\n"
      ],
      "text/plain": [
       "\u001b[34mINFO\u001b[0m Skipped \u001b[1;36m3\u001b[0m existing/duplicate documents.                                                                       \n"
      ]
     },
     "metadata": {},
     "output_type": "display_data"
    },
    {
     "data": {
      "text/html": [
       "<pre style=\"white-space:pre;overflow-x:auto;line-height:normal;font-family:Menlo,'DejaVu Sans Mono',consolas,'Courier New',monospace\"><span style=\"color: #000080; text-decoration-color: #000080\">INFO</span> Added <span style=\"color: #008080; text-decoration-color: #008080; font-weight: bold\">0</span> documents to knowledge base                                                                           \n",
       "</pre>\n"
      ],
      "text/plain": [
       "\u001b[34mINFO\u001b[0m Added \u001b[1;36m0\u001b[0m documents to knowledge base                                                                           \n"
      ]
     },
     "metadata": {},
     "output_type": "display_data"
    },
    {
     "data": {
      "text/html": [
       "<pre style=\"white-space:pre;overflow-x:auto;line-height:normal;font-family:Menlo,'DejaVu Sans Mono',consolas,'Courier New',monospace\"><span style=\"color: #000080; text-decoration-color: #000080\">INFO</span> Reading:                                                                                                      \n",
       "     D:\\【个人工作】\\【<span style=\"color: #008080; text-decoration-color: #008080; font-weight: bold\">2025</span>】\\AI解析合同\\安阳钢铁集团有限责任公司综利公司烧结机头灰资源化处置项目（运营）\\<span style=\"color: #008080; text-decoration-color: #008080; font-weight: bold\">02</span>       \n",
       "     阀门采购合同.docx                                                                                             \n",
       "</pre>\n"
      ],
      "text/plain": [
       "\u001b[34mINFO\u001b[0m Reading:                                                                                                      \n",
       "     D:\\【个人工作】\\【\u001b[1;36m2025\u001b[0m】\\AI解析合同\\安阳钢铁集团有限责任公司综利公司烧结机头灰资源化处置项目（运营）\\\u001b[1;36m02\u001b[0m       \n",
       "     阀门采购合同.docx                                                                                             \n"
      ]
     },
     "metadata": {},
     "output_type": "display_data"
    },
    {
     "data": {
      "text/html": [
       "<pre style=\"white-space:pre;overflow-x:auto;line-height:normal;font-family:Menlo,'DejaVu Sans Mono',consolas,'Courier New',monospace\"><span style=\"color: #000080; text-decoration-color: #000080\">INFO</span> Skipped <span style=\"color: #008080; text-decoration-color: #008080; font-weight: bold\">3</span> existing/duplicate documents.                                                                       \n",
       "</pre>\n"
      ],
      "text/plain": [
       "\u001b[34mINFO\u001b[0m Skipped \u001b[1;36m3\u001b[0m existing/duplicate documents.                                                                       \n"
      ]
     },
     "metadata": {},
     "output_type": "display_data"
    },
    {
     "data": {
      "text/html": [
       "<pre style=\"white-space:pre;overflow-x:auto;line-height:normal;font-family:Menlo,'DejaVu Sans Mono',consolas,'Courier New',monospace\"><span style=\"color: #000080; text-decoration-color: #000080\">INFO</span> Added <span style=\"color: #008080; text-decoration-color: #008080; font-weight: bold\">0</span> documents to knowledge base                                                                           \n",
       "</pre>\n"
      ],
      "text/plain": [
       "\u001b[34mINFO\u001b[0m Added \u001b[1;36m0\u001b[0m documents to knowledge base                                                                           \n"
      ]
     },
     "metadata": {},
     "output_type": "display_data"
    },
    {
     "data": {
      "text/html": [
       "<pre style=\"white-space:pre;overflow-x:auto;line-height:normal;font-family:Menlo,'DejaVu Sans Mono',consolas,'Courier New',monospace\"><span style=\"color: #000080; text-decoration-color: #000080\">INFO</span> Reading:                                                                                                      \n",
       "     D:\\【个人工作】\\【<span style=\"color: #008080; text-decoration-color: #008080; font-weight: bold\">2025</span>】\\AI解析合同\\安阳钢铁集团有限责任公司综利公司烧结机头灰资源化处置项目（运营）\\<span style=\"color: #008080; text-decoration-color: #008080; font-weight: bold\">03</span>       \n",
       "     循环泵配件采购合同.docx                                                                                       \n",
       "</pre>\n"
      ],
      "text/plain": [
       "\u001b[34mINFO\u001b[0m Reading:                                                                                                      \n",
       "     D:\\【个人工作】\\【\u001b[1;36m2025\u001b[0m】\\AI解析合同\\安阳钢铁集团有限责任公司综利公司烧结机头灰资源化处置项目（运营）\\\u001b[1;36m03\u001b[0m       \n",
       "     循环泵配件采购合同.docx                                                                                       \n"
      ]
     },
     "metadata": {},
     "output_type": "display_data"
    },
    {
     "data": {
      "text/html": [
       "<pre style=\"white-space:pre;overflow-x:auto;line-height:normal;font-family:Menlo,'DejaVu Sans Mono',consolas,'Courier New',monospace\"><span style=\"color: #000080; text-decoration-color: #000080\">INFO</span> Skipped <span style=\"color: #008080; text-decoration-color: #008080; font-weight: bold\">3</span> existing/duplicate documents.                                                                       \n",
       "</pre>\n"
      ],
      "text/plain": [
       "\u001b[34mINFO\u001b[0m Skipped \u001b[1;36m3\u001b[0m existing/duplicate documents.                                                                       \n"
      ]
     },
     "metadata": {},
     "output_type": "display_data"
    },
    {
     "data": {
      "text/html": [
       "<pre style=\"white-space:pre;overflow-x:auto;line-height:normal;font-family:Menlo,'DejaVu Sans Mono',consolas,'Courier New',monospace\"><span style=\"color: #000080; text-decoration-color: #000080\">INFO</span> Added <span style=\"color: #008080; text-decoration-color: #008080; font-weight: bold\">0</span> documents to knowledge base                                                                           \n",
       "</pre>\n"
      ],
      "text/plain": [
       "\u001b[34mINFO\u001b[0m Added \u001b[1;36m0\u001b[0m documents to knowledge base                                                                           \n"
      ]
     },
     "metadata": {},
     "output_type": "display_data"
    },
    {
     "data": {
      "text/html": [
       "<pre style=\"white-space:pre;overflow-x:auto;line-height:normal;font-family:Menlo,'DejaVu Sans Mono',consolas,'Courier New',monospace\"><span style=\"color: #000080; text-decoration-color: #000080\">INFO</span> Reading:                                                                                                      \n",
       "     D:\\【个人工作】\\【<span style=\"color: #008080; text-decoration-color: #008080; font-weight: bold\">2025</span>】\\AI解析合同\\安阳钢铁集团有限责任公司综利公司烧结机头灰资源化处置项目（运营）\\<span style=\"color: #008080; text-decoration-color: #008080; font-weight: bold\">04</span>       \n",
       "     渣浆泵备件采购合同.docx                                                                                       \n",
       "</pre>\n"
      ],
      "text/plain": [
       "\u001b[34mINFO\u001b[0m Reading:                                                                                                      \n",
       "     D:\\【个人工作】\\【\u001b[1;36m2025\u001b[0m】\\AI解析合同\\安阳钢铁集团有限责任公司综利公司烧结机头灰资源化处置项目（运营）\\\u001b[1;36m04\u001b[0m       \n",
       "     渣浆泵备件采购合同.docx                                                                                       \n"
      ]
     },
     "metadata": {},
     "output_type": "display_data"
    },
    {
     "data": {
      "text/html": [
       "<pre style=\"white-space:pre;overflow-x:auto;line-height:normal;font-family:Menlo,'DejaVu Sans Mono',consolas,'Courier New',monospace\"><span style=\"color: #000080; text-decoration-color: #000080\">INFO</span> Skipped <span style=\"color: #008080; text-decoration-color: #008080; font-weight: bold\">3</span> existing/duplicate documents.                                                                       \n",
       "</pre>\n"
      ],
      "text/plain": [
       "\u001b[34mINFO\u001b[0m Skipped \u001b[1;36m3\u001b[0m existing/duplicate documents.                                                                       \n"
      ]
     },
     "metadata": {},
     "output_type": "display_data"
    },
    {
     "data": {
      "text/html": [
       "<pre style=\"white-space:pre;overflow-x:auto;line-height:normal;font-family:Menlo,'DejaVu Sans Mono',consolas,'Courier New',monospace\"><span style=\"color: #000080; text-decoration-color: #000080\">INFO</span> Added <span style=\"color: #008080; text-decoration-color: #008080; font-weight: bold\">0</span> documents to knowledge base                                                                           \n",
       "</pre>\n"
      ],
      "text/plain": [
       "\u001b[34mINFO\u001b[0m Added \u001b[1;36m0\u001b[0m documents to knowledge base                                                                           \n"
      ]
     },
     "metadata": {},
     "output_type": "display_data"
    },
    {
     "data": {
      "text/html": [
       "<pre style=\"white-space:pre;overflow-x:auto;line-height:normal;font-family:Menlo,'DejaVu Sans Mono',consolas,'Courier New',monospace\"><span style=\"color: #000080; text-decoration-color: #000080\">INFO</span> Reading:                                                                                                      \n",
       "     D:\\【个人工作】\\【<span style=\"color: #008080; text-decoration-color: #008080; font-weight: bold\">2025</span>】\\AI解析合同\\安阳钢铁集团有限责任公司综利公司烧结机头灰资源化处置项目（运营）\\<span style=\"color: #008080; text-decoration-color: #008080; font-weight: bold\">05</span>       \n",
       "     压滤机滤布采购合同.docx                                                                                       \n",
       "</pre>\n"
      ],
      "text/plain": [
       "\u001b[34mINFO\u001b[0m Reading:                                                                                                      \n",
       "     D:\\【个人工作】\\【\u001b[1;36m2025\u001b[0m】\\AI解析合同\\安阳钢铁集团有限责任公司综利公司烧结机头灰资源化处置项目（运营）\\\u001b[1;36m05\u001b[0m       \n",
       "     压滤机滤布采购合同.docx                                                                                       \n"
      ]
     },
     "metadata": {},
     "output_type": "display_data"
    },
    {
     "data": {
      "text/html": [
       "<pre style=\"white-space:pre;overflow-x:auto;line-height:normal;font-family:Menlo,'DejaVu Sans Mono',consolas,'Courier New',monospace\"><span style=\"color: #000080; text-decoration-color: #000080\">INFO</span> Skipped <span style=\"color: #008080; text-decoration-color: #008080; font-weight: bold\">3</span> existing/duplicate documents.                                                                       \n",
       "</pre>\n"
      ],
      "text/plain": [
       "\u001b[34mINFO\u001b[0m Skipped \u001b[1;36m3\u001b[0m existing/duplicate documents.                                                                       \n"
      ]
     },
     "metadata": {},
     "output_type": "display_data"
    },
    {
     "data": {
      "text/html": [
       "<pre style=\"white-space:pre;overflow-x:auto;line-height:normal;font-family:Menlo,'DejaVu Sans Mono',consolas,'Courier New',monospace\"><span style=\"color: #000080; text-decoration-color: #000080\">INFO</span> Added <span style=\"color: #008080; text-decoration-color: #008080; font-weight: bold\">0</span> documents to knowledge base                                                                           \n",
       "</pre>\n"
      ],
      "text/plain": [
       "\u001b[34mINFO\u001b[0m Added \u001b[1;36m0\u001b[0m documents to knowledge base                                                                           \n"
      ]
     },
     "metadata": {},
     "output_type": "display_data"
    }
   ],
   "source": [
    "# 通过load加载和拆分知识库\n",
    "knowledge.load(recreate=False) # 设置为True会删除原有知识库并重新创建"
   ]
  },
  {
   "cell_type": "code",
   "execution_count": 125,
   "id": "8c206ac1",
   "metadata": {},
   "outputs": [],
   "source": [
    "agent = Agent(model=OpenAILike(**settings), knowledge=knowledge, \n",
    "    # Enable RAG by adding references from AgentKnowledge to the user prompt.\n",
    "    add_references=True,\n",
    "    # Add a tool to search the knowledge base which enables agentic RAG.\n",
    "    search_knowledge=True,\n",
    "    # Add a tool to read chat history.\n",
    "    read_chat_history=True,\n",
    "    show_tool_calls=True,\n",
    "    markdown=True)"
   ]
  },
  {
   "cell_type": "code",
   "execution_count": 121,
   "id": "b05597f4",
   "metadata": {},
   "outputs": [
    {
     "data": {
      "text/html": [
       "<pre style=\"white-space:pre;overflow-x:auto;line-height:normal;font-family:Menlo,'DejaVu Sans Mono',consolas,'Courier New',monospace\"><span style=\"color: #000080; text-decoration-color: #000080\">INFO</span> Found <span style=\"color: #008080; text-decoration-color: #008080; font-weight: bold\">5</span> documents                                                                                             \n",
       "</pre>\n"
      ],
      "text/plain": [
       "\u001b[34mINFO\u001b[0m Found \u001b[1;36m5\u001b[0m documents                                                                                             \n"
      ]
     },
     "metadata": {},
     "output_type": "display_data"
    },
    {
     "data": {
      "text/plain": [
       "RunResponse(content='\\n\\n根据提供的知识库信息，烧结机头灰资源化处置项目（运营）相关的合同采购了以下设备：\\n\\n### 1. **压滤机备件**\\n   - **供应商**：景津装备股份有限公司\\n   - **合同编号**：AGJTH2024BJ-05\\n   - **合同金额**：人民币21,156.00元（含税）\\n\\n### 2. **阀门**\\n   - **供应商1**：东亚阀门科技集团有限公司  \\n     **合同编号**：AGJTH2024BJ-02  \\n     **合同金额**：人民币16,520.00元（含税）\\n   - **Supplier2**：双恒阀门集团有限公司  \\n     **合同编号**：AGJTH2023BJ-02  \\n     **合同金额**：人民币29,550.00元（含税）\\n\\n### 3. **循环泵备件**\\n   - **Supplier**：四川省自贡工业泵有限责任公司  \\n     **合同编号**：AGJTH2023BJ-04  \\n     **合同金额**：人民币30,500.00元（含税）\\n\\n### 4. **工艺渣浆泵及泵头机封**\\n   - **Supplier**：襄阳五二五泵业有限公司  \\n     **合同编号**：AGJTH2024-04  \\n     **合同金额**：人民币30,430.00元（含税）\\n\\n---\\n\\n### 项目背景\\n所有合同均服务于 **安阳钢铁集团有限责任公司烧结机头灰资源化处置项目（运营）**，涉及设备包括压滤机、阀门、循环泵、渣浆泵及其配套部件。合同条款包含廉洁协议、安全责任划分及付款条件等。\\n\\n如需更详细的设备规格或合同条款，可参考对应合同文件。', content_type='str', thinking=None, reasoning_content=None, event='RunResponse', messages=[Message(role='system', content='<additional_information>\\n- Use markdown to format your answers.\\n</additional_information>', name=None, tool_call_id=None, tool_calls=None, audio=None, images=None, videos=None, files=None, audio_output=None, image_output=None, thinking=None, redacted_thinking=None, provider_data=None, citations=None, reasoning_content=None, tool_name=None, tool_args=None, tool_call_error=None, stop_after_tool_call=False, add_to_agent_memory=True, from_history=False, metrics=MessageMetrics(input_tokens=0, output_tokens=0, total_tokens=0, audio_tokens=0, input_audio_tokens=0, output_audio_tokens=0, cached_tokens=0, cache_write_tokens=0, reasoning_tokens=0, prompt_tokens=0, completion_tokens=0, prompt_tokens_details=None, completion_tokens_details=None, additional_metrics=None, time=None, time_to_first_token=None, timer=None), references=None, created_at=1748576214), Message(role='user', content='烧结机头合同采购了哪些设备\\n\\nUse the following references from the knowledge base if it helps:\\n<references>\\n[\\n  {\\n    \"content\": \"买方合同编号：AGJTH2024BJ-05 卖方合同编号： 订 货 合 同 项目名称：安阳钢铁集团有限责任公司 烧结机头灰资源化处置项目（运营） 子项名称：压滤机备件 买方：湖南中冶长天节能环保技术有限公司 卖方：景津装备股份有限公司 合同签订时期：2024年10月 合同签订地点：湖南·长沙 廉洁协议 买方：湖南中冶长天节能环保技术有限公司 卖方：景津装备股份有限公司 根据党和国家有关法律法规的各项规定，为保持廉洁自律，倡导廉洁从业，有效遏制商业贿赂行为，防止在合同签订、履行中不廉洁行为的发生，经双方协商，订立本协议，相互约束。 第一条 买卖双方应当自觉遵守党和国家有关法律法规和有关廉洁自律的各项规定。 第二条 买方工作人员应当保持与卖方的正常工作和业务往来，不得接受卖方的礼金、有价证券和物品，不得在卖方报销任何应由私人支付的费用。 第三条 买方工作人员不得参加卖方的宴请和娱乐活动，不得违反廉洁从业的有关规定，不得接受任何形式的商业贿赂。 第四条 买方工作人员不得要求或接受卖方为其住房装修、婚丧嫁娶、家属和子女的工作安排及出国提供方便或任何形式的不当利益。 第五条 买方工作人员不得向卖方介绍家属或者亲友从事与本合同业务有关的经济活动。 第六条 卖方应当通过正常途径开展相关业务工作，不得向买方工作人员赠送礼金、有价证券和物品。 第七条 卖方不得为谋取私利擅自与买方工作人员私下商谈或者达成默契。 第八条 卖方不得以汇报工作、洽谈业务、签订经济合同为借口，邀请买方工作人员外出旅游、参加非正常交往的宴会、进入营业性娱乐场所。 第九条 卖方不得为买方单位和个人购置或提供通讯工具、交通工具、家具、办公用品等。 第十条 卖方如发现买方工作人员有违反上述协议者，应向买方领导或买方上级单位口头或书面举报（举报电话：中冶长天监察部 0731-82760729）。买方不得找任何借口对卖方进行报复。 第十一条 买方发现卖方有违反本协议或者采用前述不正当的手段对买方工作人员行贿或变相行贿，买方根据具体情节和造成的后果追究卖方合同标的或合同总金额1%-5%的违约金，由此给买方单位造成的损失均由卖方承担，卖方用不正当手段获取的非法所得由买方单位予以追缴，买方有权取消违反协议的卖方的投标资格或者单方面终止合同。情节严重的，列入黑名单，三年内不得进入长天市场。 第十二条 本协议作为合同附件，与该合同具有同等的法律效力。 买方（印章）： 卖方（印章）： 湖南中冶长天节能环保技术有限公司 景津装备股份有限公司 设备供应商安全管理协议书 为贯彻“安全第一，预防为主，综合治理”的方针，明确双方的安全责任，确保设备监制、检测、检验、备运输、卸车等过程人身和设备安全，实现安全生产目标，本着“双方平等、共同协商”的原则，并严格按照《中华人民共和国安全生产法》、《中华人民共和国建筑法》、《建设工程安全生产管理条例》、《安全生产许可证条例》以及现行有关安全生产法律、法规、标准，经双方协商一致签订本协议。 买方：湖南中冶长天节能环保技术有限公司 卖方：景津装备股份有限公司 第一条 工程项目： 安钢炼铁厂烧结机头烟气脱硫脱硝系统制酸废水处理项目项目 第二条 交货地址： 安阳钢铁股份有限公司 第三条 买方安全生产管理职责、权利和义务 1.买方负责卖方运输车辆、设备、材料、人员进入施工现场后安全生产管理，为卖方人员提供劳动防护用品，并对卖方人员进行安全生产教育培训。 2.卖方运输车辆进入施工现场时，买方负责组织、协助卖方办理入场手续。 3.买方和卖方办理设备、材料交货、验收手续后，由买方负责设备、材料的管理工作。 4.买方有权对卖方的违章指挥、违章作业给予罚款或其他形式的处罚。买方有权对安全意识差、不服从买方现场安全生产管理的卖方人员责令退场。 5.买方不得要求卖方违反安全管理规定在施工现场进行设备倒运、装卸等，因买方原因导致的事故由买方承担责任。 6.买方设备监制、检测、检验人员等进入卖方生产区域应遵守卖方的安全生产规章制度，服从卖方的安全生产管理。 第四条 卖方安全生产的职责、权利和义务 1.卖方负责己方运输车辆、设备、材料、人员等进入施工现场前的安全生产工作，并为此承担全部的安全生产责任和义务； 2.卖方应提供安全性能合格的产品； 3.卖方应对派遣到买方施工现场的司机、技术人员等进行安全生产教育培训； 4.卖方运输车辆进入施工现场时，卖方应按照业主和买方有关安全生产的规定办理入场手续； 5.卖方应认真贯彻国家安全生产方针、政策，严格执行安全生产有关法律法规，遵守业主、买方的安全生产规章制度。 6.卖方的运输车辆、设备、材料、人员进入施工现场后，应服从和配合买方的安全生产管理，并对违反买方安全管理规定承担相应的责任。 7.卖方负责对进入卖方生产区域的买方设备监制、检测、检验人员等进行安全生产管理，并为其提供劳动防护用品。 第五条 事故原因分析和责任追究的约定 1.卖方运输车辆、设备、材料、人员等进入施工现场前和卖方运输车辆、人员等离开施工现场后造成的人身伤害、环境污染、物品损坏等，完全由卖方负责处理； 2.卖方运输车辆、设备、材料、人员等进入施工现场后，因卖方责任造成的人身伤害、环境污染、物品损坏等，所产生的责任和经济损失由卖方承担，卖方应按照国家有关规定处理和报告； 3.卖方运输车辆、设备、材料、人员等进入施工现场后，因买方责任造成的人身伤害、环境污染、物品损坏等，所产生的责任和经济损失由买方承担，买方应按照国家相关规定处理和报告。 4.卖方运输车辆、设备、材料、人员等进入施工现场后，因项目相关方责任导致卖方人员、物品的损害，买方应配合卖方处理相关事项。 5.买方设备监制、检测、检验人员等进入卖方生产区域后，因买方责任导致的卖方人员、物品的损害，所产生的责任和经济损失由买方承担；因卖方责任导致的买方人员、物品的损害，所产生的责任和经济损失由卖方承担。 6.因对方的原因对己方造成的损失，买卖双方可追究对方的责任。 第六条 本协议执行过程中，如发生争议，双方应通过友好协商解决，协商不成时，在买方所在地的长沙仲裁委员会仲裁。 第七条 买卖双方必须严格执行本协议，本协议作为买卖双方采购合同的附件，与合同同时签订并具有同等法律效力。 第八条 本协议有效期限：自合同签订之日起至设备质量保证期到期止。 第九条 本协议经双方法定代表人或委托代理人签字盖章后生效。 第十条 本协议一式贰份，买卖双方各执壹份。 买方（印章）： 卖方（印章）： 湖南中冶长天节能环保技术有限公司 景津装备股份有限公司 法定代表人(签字)： 法定代表人(签字)： 或委托代理人(签字)： 或委托代理人(签字)： 年 月 日 2024 年 月 日 合 同 双 方 湖南中冶长天节能环保技术有限公司增值税专用发票开具格式： 名 称：湖南中冶长天节能环保技术有限公司 纳税人识别号：914301005849395200 地址、 电话：长沙高新开发区麓松路480号 0731-82760997 开户行及帐号：浦发银行长沙东塘支行66050155200002468 合同签订时间： 2024年10月 合同签订地点：长沙 订 货 合 同 根据招标评标优选结果，湖南中冶长天节能环保技术公司（以下简称“买方”）与中标单位 景津装备股份有限公司 （以下简称“卖方”）双方经友好协商，同意按下述条款和条件签订本合同。 1 合同文件 下列合同文件是构成本合同不可分割的部分，与合同正文具有同等效力，其解释效力优先次序如下： 1.1 本合同文件及其附件； 1.2 技术协议、安全管理协议； 1.3 厂商协调会会议纪要； 1.4 投标人提交的经过评议审查修改后的投标文件及附件； 1.5 招标文件。 在合同执行过程中，如发生合同修改和补充所形成的“议定书”可视为合同的延伸，其解释效力优先于合同文件。 相同效力级别的文件存在冲突，以时间在后者为准。 2 合同范围和条件 本合同范围和条件应与上述合同文件规定的内容相一致。 3 供货范围和数量 卖方应当根据合同文件的要求完成本合同中规定产品的设计、制造、监制、交货；向买方交付产品相关资料和文件；提供符合合同文件规定的服务、培训等，该等技术服务包括但不限于：产品在安装期间派遣有丰富经验的技术人员指导安装，进行产品的指导调试，以及试生产期间的技术指导，派遣技术人员在现场处理、解决各类与产品有关的问题，直至产品投入正常运行，确保产品通过各项试验、试车和功能考核，满足买方的使用需求，质保期内质量问题的解决等。 3.1 最终供货一览表 3.2 本合同所提供的货物及数量应与上述合同文件规定的内容相一致。 3.3 本项目执行期内，如买方需向卖方补充订购供货一览表内某个型号的货物时，双方应按供货一览表内规定的单价签订订货合同。 3.5 卖方必须保证供货货物的完整性，必须是符合国家和行业有关现行有效标准及规范的全新合格产品。 3.6 卖方供货货物应是满足招标文件中各项指标的整台（套）货物，包括主机的辅机、附件、配套的产品、易损耗备品、图纸和资料、配件和安装、调试及运行中所需的专用工具、器具及仪器等，并提供其详细供应清单。 4 合同金额 根据上述合同文件要求，合同的总价为人民币 21156.00元（大写：壹万陆仟捌佰伍拾陆元），不含税总价为人民币18722.12元，税额为人民币2433.88元。 4.1 如果因国家规定的增值税税率调整导致卖方开票税率调整时，合同的不含税总价保持不变，合同含税总价根据开票税率相应调整，调整后的合同含税总价=合同不含税总价*（1+增值税开票税率）。 4.2 合同的总价包括设备费（含13%的增值税）、资料费、包装费、保险费、必要的商检费、到买方指定地点的运杂费等。 4.3 合同的总价为最终中标价，并为闭口价，即合同的总价不再因税率变化外的任何因素作调整。 5 货款支付 5.1 支付行实际支付款项之日应视为合同款项的实际支付日。 5.2 合同签订生效后， 5.3 货物全部或部分（如果被买方接受的话）在卖方现场验收合格并开具全额增值税发票后，买方在30天内支付设备合同总价的 100 %作为发货款，即人民币壹万陆仟捌佰伍拾陆元整。 5.4 质量保证期按第十二章“保证与担保”条款来计算。在合同货物质量保证期满后30天内，买方向卖方结清余款，若有扣款赔偿情况依合同处理（滤布为易损件 属于耗材 不在质保范围内）。 5.5 买方每次向卖方办理支付货款手续时，卖方应出具有效收据。 5.6 有下列情况之一时，买方有权全部或部分拒付卖方应收款项： （1）单据不全； （2）卖方未返还本合同，未交付《技术协议》要求的所有资料和设备图纸或者所提交资料、图纸尚未经买方确认。 （3）货物未经买方阶段验收合格； （4）货物包装不合格造成损坏或未按合同基本条件要求包装； （5）未经买方书面同意擅自迟延交货； （6）未经买方书面同意卖方擅自变更交货方式； （7）根据合同文件规定卖方有违约责任。 5.7 买方的付款中，包括银行现汇和承兑汇票。 买方有权对卖方的该合同专款的用途进行检查，保证资金的合理使用。 6 交货时间、地点及交货方式 6.1 交货时间、地点及交货方式按“最终供货一览表”中的规定执行，特殊情况在本合同文件附件中进一步明确。 6.2 本合同采取指定地点交货方式，卖方负责办理运输、保险和必要的商检费等，将货物运抵指定地点。有关运输、保险和必要的商检费等的一切费用由卖方承担，货物运抵指定地点的日期为交货日期。 6.3 卖方应在合同规定的交货期届满前45天以特快专递或传真形式将合同号、货物名称、数量、包装箱件数、总毛重、总体积、设备最大件的重量和设备最大体积（长×宽×高）、准确交货日期以及对货物在运输和仓储的特殊要求和注意事项通知买方。 6.4 货物运抵指定地点时，卖方应向买方提供下列文件资料： 特别注意： 发货前，以电子邮件方式将上述文件资料电子版发至买方，待买方确认后方可安排发货； 货物运抵指定地点时，卖方应向买方提供上述文件资料各贰份；\",\\n    \"meta_data\": {\\n      \"chunk\": 1,\\n      \"chunk_size\": 4957\\n    },\\n    \"name\": \"05 压滤机滤布采购合同\"\\n  },\\n  {\\n    \"content\": \"买方合同编号：AGJTH2024BJ-02 卖方合同编号： 订 货 合 同 项目名称：安阳钢铁集团有限责任公司 烧结机头灰资源化处置项目（运营） 子项名称：阀门 买方：湖南中冶长天节能环保技术有限公司 卖方：东亚阀门科技集团有限公司 合同签订时期：2024年3月 合同签订地点：湖南·长沙 廉洁协议 买方：湖南中冶长天节能环保技术有限公司 卖方：东亚阀门科技集团有限公司 根据党和国家有关法律法规的各项规定，为保持廉洁自律，倡导廉洁从业，有效遏制商业贿赂行为，防止在合同签订、履行中不廉洁行为的发生，经双方协商，订立本协议，相互约束。 第一条 买卖双方应当自觉遵守党和国家有关法律法规和有关廉洁自律的各项规定。 第二条 买方工作人员应当保持与卖方的正常工作和业务往来，不得接受卖方的礼金、有价证券和物品，不得在卖方报销任何应由私人支付的费用。 第三条 买方工作人员不得参加卖方的宴请和娱乐活动，不得违反廉洁从业的有关规定，不得接受任何形式的商业贿赂。 第四条 买方工作人员不得要求或接受卖方为其住房装修、婚丧嫁娶、家属和子女的工作安排及出国提供方便或任何形式的不当利益。 第五条 买方工作人员不得向卖方介绍家属或者亲友从事与本合同业务有关的经济活动。 第六条 卖方应当通过正常途径开展相关业务工作，不得向买方工作人员赠送礼金、有价证券和物品。 第七条 卖方不得为谋取私利擅自与买方工作人员私下商谈或者达成默契。 第八条 卖方不得以汇报工作、洽谈业务、签订经济合同为借口，邀请买方工作人员外出旅游、参加非正常交往的宴会、进入营业性娱乐场所。 第九条 卖方不得为买方单位和个人购置或提供通讯工具、交通工具、家具、办公用品等。 第十条 卖方如发现买方工作人员有违反上述协议者，应向买方领导或买方上级单位口头或书面举报（举报电话：中冶长天监察部 0731-82760729）。买方不得找任何借口对卖方进行报复。 第十一条 买方发现卖方有违反本协议或者采用前述不正当的手段对买方工作人员行贿或变相行贿，买方根据具体情节和造成的后果追究卖方合同标的或合同总金额1%-5%的违约金，由此给买方单位造成的损失均由卖方承担，卖方用不正当手段获取的非法所得由买方单位予以追缴，买方有权取消违反协议的卖方的投标资格或者单方面终止合同。情节严重的，列入黑名单，三年内不得进入长天市场。 第十二条 本协议作为合同附件，与该合同具有同等的法律效力。 买方（印章）： 卖方（印章）： 湖南中冶长天节能环保技术有限公司 东亚阀门科技集团有限公司 设备供应商安全管理协议书 为贯彻“安全第一，预防为主，综合治理”的方针，明确双方的安全责任，确保设备监制、检测、检验、备运输、卸车等过程人身和设备安全，实现安全生产目标，本着“双方平等、共同协商”的原则，并严格按照《中华人民共和国安全生产法》、《中华人民共和国建筑法》、《建设工程安全生产管理条例》、《安全生产许可证条例》以及现行有关安全生产法律、法规、标准，经双方协商一致签订本协议。 买方：湖南中冶长天节能环保技术有限公司 卖方：东亚阀门科技集团有限公司 第一条 工程项目： 安钢炼铁厂烧结机头烟气脱硫脱硝系统制酸废水处理项目项目 第二条 交货地址： 安阳钢铁股份有限公司 第三条 买方安全生产管理职责、权利和义务 1.买方负责卖方运输车辆、设备、材料、人员进入施工现场后安全生产管理，为卖方人员提供劳动防护用品，并对卖方人员进行安全生产教育培训。 2.卖方运输车辆进入施工现场时，买方负责组织、协助卖方办理入场手续。 3.买方和卖方办理设备、材料交货、验收手续后，由买方负责设备、材料的管理工作。 4.买方有权对卖方的违章指挥、违章作业给予罚款或其他形式的处罚。买方有权对安全意识差、不服从买方现场安全生产管理的卖方人员责令退场。 5.买方不得要求卖方违反安全管理规定在施工现场进行设备倒运、装卸等，因买方原因导致的事故由买方承担责任。 6.买方设备监制、检测、检验人员等进入卖方生产区域应遵守卖方的安全生产规章制度，服从卖方的安全生产管理。 第四条 卖方安全生产的职责、权利和义务 1.卖方负责己方运输车辆、设备、材料、人员等进入施工现场前的安全生产工作，并为此承担全部的安全生产责任和义务； 2.卖方应提供安全性能合格的产品； 3.卖方应对派遣到买方施工现场的司机、技术人员等进行安全生产教育培训； 4.卖方运输车辆进入施工现场时，卖方应按照业主和买方有关安全生产的规定办理入场手续； 5.卖方应认真贯彻国家安全生产方针、政策，严格执行安全生产有关法律法规，遵守业主、买方的安全生产规章制度。 6.卖方的运输车辆、设备、材料、人员进入施工现场后，应服从和配合买方的安全生产管理，并对违反买方安全管理规定承担相应的责任。 7.卖方负责对进入卖方生产区域的买方设备监制、检测、检验人员等进行安全生产管理，并为其提供劳动防护用品。 第五条 事故原因分析和责任追究的约定 1.卖方运输车辆、设备、材料、人员等进入施工现场前和卖方运输车辆、人员等离开施工现场后造成的人身伤害、环境污染、物品损坏等，完全由卖方负责处理； 2.卖方运输车辆、设备、材料、人员等进入施工现场后，因卖方责任造成的人身伤害、环境污染、物品损坏等，所产生的责任和经济损失由卖方承担，卖方应按照国家有关规定处理和报告； 3.卖方运输车辆、设备、材料、人员等进入施工现场后，因买方责任造成的人身伤害、环境污染、物品损坏等，所产生的责任和经济损失由买方承担，买方应按照国家相关规定处理和报告。 4.卖方运输车辆、设备、材料、人员等进入施工现场后，因项目相关方责任导致卖方人员、物品的损害，买方应配合卖方处理相关事项。 5.买方设备监制、检测、检验人员等进入卖方生产区域后，因买方责任导致的卖方人员、物品的损害，所产生的责任和经济损失由买方承担；因卖方责任导致的买方人员、物品的损害，所产生的责任和经济损失由卖方承担。 6.因对方的原因对己方造成的损失，买卖双方可追究对方的责任。 第六条 本协议执行过程中，如发生争议，双方应通过友好协商解决，协商不成时，在买方所在地的长沙仲裁委员会仲裁。 第七条 买卖双方必须严格执行本协议，本协议作为买卖双方采购合同的附件，与合同同时签订并具有同等法律效力。 第八条 本协议有效期限：自合同签订之日起至设备质量保证期到期止。 第九条 本协议经双方法定代表人或委托代理人签字盖章后生效。 第十条 本协议一式贰份，买卖双方各执壹份。 买方（印章）： 卖方（印章）： 湖南中冶长天节能环保技术有限公司 东亚阀门科技集团有限公司 法定代表人(签字)： 法定代表人(签字)： 或委托代理人(签字)： 或委托代理人(签字)： 年 月 日 年 月 日 合 同 双 方 湖南中冶长天节能环保技术有限公司增值税专用发票开具格式： 名 称：湖南中冶长天节能环保技术有限公司 纳税人识别号：914301005849395200 地址、 电话：长沙高新开发区麓松路480号 0731-82760997 开户行及帐号：浦发银行长沙东塘支行66050155200002468 合同签订时间： 2024年3月 合同签订地点：长沙 订 货 合 同 根据招标评标优选结果，湖南中冶长天节能环保技术公司（以下简称“买方”）与中标单位 东亚阀门科技集团有限公司 （以下简称“卖方”）双方经友好协商，同意按下述条款和条件签订本合同。 1 合同文件 下列合同文件是构成本合同不可分割的部分，与合同正文具有同等效力，其解释效力优先次序如下： 1.1 本合同文件及其附件； 1.2 技术协议、安全管理协议； 1.3 厂商协调会会议纪要； 1.4 投标人提交的经过评议审查修改后的投标文件及附件； 1.5 招标文件。 在合同执行过程中，如发生合同修改和补充所形成的“议定书”可视为合同的延伸，其解释效力优先于合同文件。 相同效力级别的文件存在冲突，以时间在后者为准。 2 合同范围和条件 本合同范围和条件应与上述合同文件规定的内容相一致。 3 供货范围和数量 卖方应当根据合同文件的要求完成本合同中规定产品的设计、制造、监制、交货；向买方交付产品相关资料和文件；提供符合合同文件规定的服务、培训等，该等技术服务包括但不限于：产品在安装期间派遣有丰富经验的技术人员指导安装，进行产品的指导调试，以及试生产期间的技术指导，派遣技术人员在现场处理、解决各类与产品有关的问题，直至产品投入正常运行，确保产品通过各项试验、试车和功能考核，满足买方的使用需求，质保期内质量问题的解决等。 3.1 最终供货一览表 3.2 本合同所提供的货物及数量应与上述合同文件规定的内容相一致。 3.3 本项目执行期内，如买方需向卖方补充订购供货一览表内某个型号的货物时，双方应按供货一览表内规定的单价签订订货合同。 3.5 卖方必须保证供货货物的完整性，必须是符合国家和行业有关现行有效标准及规范的全新合格产品。 3.6 卖方供货货物应是满足招标文件中各项指标的整台（套）货物，包括主机的辅机、附件、配套的产品、易损耗备品、图纸和资料、配件和安装、调试及运行中所需的专用工具、器具及仪器等，并提供其详细供应清单。 4 合同金额 根据上述合同文件要求，合同的总价为人民币 16520元（大写：壹万陆仟伍佰贰拾元），不含税总价为人民币14619.46元，税额为人民币1900.54元。 4.1 如果因国家规定的增值税税率调整导致卖方开票税率调整时，合同的不含税总价保持不变，合同含税总价根据开票税率相应调整，调整后的合同含税总价=合同不含税总价*（1+增值税开票税率）。 4.2 合同的总价包括设备费（含13%的增值税）、资料费、包装费、保险费、必要的商检费、到买方指定地点的运杂费等。 4.3 合同的总价为最终中标价，并为闭口价，即合同的总价不再因税率变化外的任何因素作调整。 5 货款支付 5.1 支付行实际支付款项之日应视为合同款项的实际支付日。 5.2 合同签订生效后， 5.3 货物全部或部分（如果被买方接受的话）在卖方现场验收合格并开具全额增值税发票后，买方在30天内支付设备合同总价的 90 %作为到货款，即人民币壹万肆仟捌佰陆拾捌元整。 5.4 其余设备合同总价10%作为设备质量保证金，质量保证期按第十二章“保证与担保”条款来计算。在合同货物质量保证期满后30天内，买方向卖方结清余款，若有扣款赔偿情况依合同处理。 5.5 买方每次向卖方办理支付货款手续时，卖方应出具有效收据。 5.6 有下列情况之一时，买方有权全部或部分拒付卖方应收款项： （1）单据不全； （2）卖方未返还本合同，未交付《技术协议》要求的所有资料和设备图纸或者所提交资料、图纸尚未经买方确认。 （3）货物未经买方阶段验收合格； （4）货物包装不合格造成损坏或未按合同基本条件要求包装； （5）未经买方书面同意擅自迟延交货； （6）未经买方书面同意卖方擅自变更交货方式； （7）根据合同文件规定卖方有违约责任。 5.7 买方的付款中，包括银行现汇和承兑汇票。 买方有权对卖方的该合同专款的用途进行检查，保证资金的合理使用。 6 交货时间、地点及交货方式 6.1 交货时间、地点及交货方式按“最终供货一览表”中的规定执行，特殊情况在本合同文件附件中进一步明确。 6.2 本合同采取指定地点交货方式，卖方负责办理运输、保险和必要的商检费等，将货物运抵指定地点。有关运输、保险和必要的商检费等的一切费用由卖方承担，货物运抵指定地点的日期为交货日期。 6.3 卖方应在合同规定的交货期届满前45天以特快专递或传真形式将合同号、货物名称、数量、包装箱件数、总毛重、总体积、设备最大件的重量和设备最大体积（长×宽×高）、准确交货日期以及对货物在运输和仓储的特殊要求和注意事项通知买方。 6.4 货物运抵指定地点时，卖方应向买方提供下列文件资料： 特别注意： 发货前，以电子邮件方式将上述文件资料电子版发至买方，待买方确认后方可安排发货； 货物运抵指定地点时，卖方应向买方提供上述文件资料各贰份；\",\\n    \"meta_data\": {\\n      \"chunk\": 1,\\n      \"chunk_size\": 4954\\n    },\\n    \"name\": \"02 阀门补充采购合同\"\\n  },\\n  {\\n    \"content\": \"买方合同编号：AGJTH2023BJ-02 卖方合同编号： 订 货 合 同 项目名称：安阳钢铁集团有限责任公司 烧结机头灰资源化处置项目（运营） 子项名称：阀门 买方：湖南中冶长天节能环保技术有限公司 卖方：双恒阀门集团有限公司 合同签订时期：2023年 9月 合同签订地点：湖南·长沙 廉洁协议 买方：湖南中冶长天节能环保技术有限公司 卖方：双恒阀门集团有限公司 根据党和国家有关法律法规的各项规定，为保持廉洁自律，倡导廉洁从业，有效遏制商业贿赂行为，防止在合同签订、履行中不廉洁行为的发生，经双方协商，订立本协议，相互约束。 第一条 买卖双方应当自觉遵守党和国家有关法律法规和有关廉洁自律的各项规定。 第二条 买方工作人员应当保持与卖方的正常工作和业务往来，不得接受卖方的礼金、有价证券和物品，不得在卖方报销任何应由私人支付的费用。 第三条 买方工作人员不得参加卖方的宴请和娱乐活动，不得违反廉洁从业的有关规定，不得接受任何形式的商业贿赂。 第四条 买方工作人员不得要求或接受卖方为其住房装修、婚丧嫁娶、家属和子女的工作安排及出国提供方便或任何形式的不当利益。 第五条 买方工作人员不得向卖方介绍家属或者亲友从事与本合同业务有关的经济活动。 第六条 卖方应当通过正常途径开展相关业务工作，不得向买方工作人员赠送礼金、有价证券和物品。 第七条 卖方不得为谋取私利擅自与买方工作人员私下商谈或者达成默契。 第八条 卖方不得以汇报工作、洽谈业务、签订经济合同为借口，邀请买方工作人员外出旅游、参加非正常交往的宴会、进入营业性娱乐场所。 第九条 卖方不得为买方单位和个人购置或提供通讯工具、交通工具、家具、办公用品等。 第十条 卖方如发现买方工作人员有违反上述协议者，应向买方领导或买方上级单位口头或书面举报（举报电话：中冶长天监察部 0731-82760729）。买方不得找任何借口对卖方进行报复。 第十一条 买方发现卖方有违反本协议或者采用前述不正当的手段对买方工作人员行贿或变相行贿，买方根据具体情节和造成的后果追究卖方合同标的或合同总金额1%-5%的违约金，由此给买方单位造成的损失均由卖方承担，卖方用不正当手段获取的非法所得由买方单位予以追缴，买方有权取消违反协议的卖方的投标资格或者单方面终止合同。情节严重的，列入黑名单，三年内不得进入长天市场。 第十二条 本协议作为合同附件，与该合同具有同等的法律效力。 买方（印章）： 卖方（印章）： 湖南中冶长天节能环保技术有限公司 双恒阀门集团有限公司 设备供应商安全管理协议书 为贯彻“安全第一，预防为主，综合治理”的方针，明确双方的安全责任，确保设备监制、检测、检验、备运输、卸车等过程人身和设备安全，实现安全生产目标，本着“双方平等、共同协商”的原则，并严格按照《中华人民共和国安全生产法》、《中华人民共和国建筑法》、《建设工程安全生产管理条例》、《安全生产许可证条例》以及现行有关安全生产法律、法规、标准，经双方协商一致签订本协议。 买方：湖南中冶长天节能环保技术有限公司 卖方： 双恒阀门集团有限公司 第一条 工程项目：安阳钢铁烧结机头灰资源化处置项目工程 第二条 交货地址： 安阳钢铁集团有限责任公司厂区内 第三条 买方安全生产管理职责、权利和义务 1.买方负责卖方运输车辆、设备、材料、人员进入施工现场后安全生产管理，为卖方人员提供劳动防护用品，并对卖方人员进行安全生产教育培训。 2.卖方运输车辆进入施工现场时，买方负责组织、协助卖方办理入场手续。 3.买方和卖方办理设备、材料交货、验收手续后，由买方负责设备、材料的管理工作。 4.买方有权对卖方的违章指挥、违章作业给予罚款或其他形式的处罚。买方有权对安全意识差、不服从买方现场安全生产管理的卖方人员责令退场。 5.买方不得要求卖方违反安全管理规定在施工现场进行设备倒运、装卸等，因买方原因导致的事故由买方承担责任。 6.买方设备监制、检测、检验人员等进入卖方生产区域应遵守卖方的安全生产规章制度，服从卖方的安全生产管理。 第四条 卖方安全生产的职责、权利和义务 1.卖方负责己方运输车辆、设备、材料、人员等进入施工现场前的安全生产工作，并为此承担全部的安全生产责任和义务； 2.卖方应提供安全性能合格的产品； 3.卖方应对派遣到买方施工现场的司机、技术人员等进行安全生产教育培训； 4.卖方运输车辆进入施工现场时，卖方应按照业主和买方有关安全生产的规定办理入场手续； 5.卖方应认真贯彻国家安全生产方针、政策，严格执行安全生产有关法律法规，遵守业主、买方的安全生产规章制度。 6.卖方的运输车辆、设备、材料、人员进入施工现场后，应服从和配合买方的安全生产管理，并对违反买方安全管理规定承担相应的责任。 7.卖方负责对进入卖方生产区域的买方设备监制、检测、检验人员等进行安全生产管理，并为其提供劳动防护用品。 第五条 事故原因分析和责任追究的约定 1.卖方运输车辆、设备、材料、人员等进入施工现场前和卖方运输车辆、人员等离开施工现场后造成的人身伤害、环境污染、物品损坏等，完全由卖方负责处理； 2.卖方运输车辆、设备、材料、人员等进入施工现场后，因卖方责任造成的人身伤害、环境污染、物品损坏等，所产生的责任和经济损失由卖方承担，卖方应按照国家有关规定处理和报告； 3.卖方运输车辆、设备、材料、人员等进入施工现场后，因买方责任造成的人身伤害、环境污染、物品损坏等，所产生的责任和经济损失由买方承担，买方应按照国家相关规定处理和报告。 4.卖方运输车辆、设备、材料、人员等进入施工现场后，因项目相关方责任导致卖方人员、物品的损害，买方应配合卖方处理相关事项。 5.买方设备监制、检测、检验人员等进入卖方生产区域后，因买方责任导致的卖方人员、物品的损害，所产生的责任和经济损失由买方承担；因卖方责任导致的买方人员、物品的损害，所产生的责任和经济损失由卖方承担。 6.因对方的原因对己方造成的损失，买卖双方可追究对方的责任。 第六条 本协议执行过程中，如发生争议，双方应通过友好协商解决，协商不成时，在买方所在地的长沙仲裁委员会仲裁。 第七条 买卖双方必须严格执行本协议，本协议作为买卖双方采购合同的附件，与合同同时签订并具有同等法律效力。 第八条 本协议有效期限：自合同签订之日起至设备质量保证期到期止。 第九条 本协议经双方法定代表人或委托代理人签字盖章后生效。 第十条 本协议一式贰份，买卖双方各执壹份。 买方（印章）： 卖方（印章）： 湖南中冶长天节能环保技术有限公司 双恒阀门集团有限公司 法定代表人(签字)： 法定代表人(签字)： 或委托代理人(签字)： 或委托代理人(签字)： 年 月 日 年 月 日 合 同 双 方 湖南中冶长天节能环保技术有限公司增值税专用发票开具格式： 名 称：湖南中冶长天节能环保技术有限公司 纳税人识别号：914301005849395200 地址、 电话：长沙高新开发区麓松路480号 0731-82760997 开户行及帐号：浦发银行长沙东塘支行66050155200002468 合同签订时间： 2023年 9月 合同签订地点：长沙 订 货 合 同 根据招标评标优选结果，湖南中冶长天节能环保技术公司（以下简称“买方”）与中标单位 双恒阀门集团有限公司 （以下简称“卖方”）双方经友好协商，同意按下述条款和条件签订本合同。 1 合同文件 下列合同文件是构成本合同不可分割的部分，与合同正文具有同等效力，其解释效力优先次序如下： 1.1 本合同文件及其附件； 1.2 技术协议、安全管理协议； 1.3 厂商协调会会议纪要； 1.4 投标人提交的经过评议审查修改后的投标文件及附件； 1.5 招标文件。 在合同执行过程中，如发生合同修改和补充所形成的“议定书”可视为合同的延伸，其解释效力优先于合同文件。 相同效力级别的文件存在冲突，以时间在后者为准。 2 合同范围和条件 本合同范围和条件应与上述合同文件规定的内容相一致。 3 供货范围和数量 卖方应当根据合同文件的要求完成本合同中规定产品的设计、制造、监制、交货；向买方交付产品相关资料和文件；提供符合合同文件规定的服务、培训等，该等技术服务包括但不限于：产品在安装期间派遣有丰富经验的技术人员指导安装，进行产品的指导调试，以及试生产期间的技术指导，派遣技术人员在现场处理、解决各类与产品有关的问题，直至产品投入正常运行，确保产品通过各项试验、试车和功能考核，满足买方的使用需求，质保期内质量问题的解决等。 3.1 最终供货一览表 3.2 本合同所提供的货物及数量应与上述合同文件规定的内容相一致。 3.3 本项目执行期内，如买方需向卖方补充订购供货一览表内某个型号的货物时，双方应按供货一览表内规定的单价签订订货合同。 3.5 卖方必须保证供货货物的完整性，必须是符合国家和行业有关现行有效标准及规范的全新合格产品。 3.6 卖方供货货物应是满足招标文件中各项指标的整台（套）货物，包括主机的辅机、附件、配套的产品、易损耗备品、图纸和资料、配件和安装、调试及运行中所需的专用工具、器具及仪器等，并提供其详细供应清单。 4 合同金额 根据上述合同文件要求，合同的总价为人民币29550元（大写：贰万玖仟伍佰伍拾元）。不含税总价为人民币26150.44元 ，税额为人民币3399.56元 。 4.1 如果因国家规定的增值税税率调整导致卖方开票税率调整时，合同的不含税总价保持不变，合同含税总价根据开票税率相应调整，调整后的合同含税总价=合同不含税总价*（1+增值税开票税率）。 4.2 合同的总价包括设备费（含13%的增值税）、资料费、包装费、保险费、必要的商检费、到买方指定地点的运杂费等。 4.3 合同的总价为最终中标价，并为闭口价，即合同的总价不再因税率变化外的任何因素作调整。 5 货款支付 5.1 支付行实际支付款项之日应视为合同款项的实际支付日。 5.2卖方将全部货物按合同要求发至卖方现场，买方在30天内支付合同总价的 50 %作为到货款,即人民币 壹万肆仟柒佰柒拾伍 元整（大写）。 5.3 设备验收合格后2个月,买方在30天内支付设备合同总价的 40%，即人民币壹万壹仟捌佰贰拾 元整。 5.4 买方每次向卖方办理支付货款手续时，卖方应出具有效收据和等额的增值税发票 5.5 有下列情况之一时，买方有权全部或部分拒付卖方应收款项： （1）单据不全； （2）卖方未返还本合同，未交付《技术协议》要求的所有资料和设备图纸或者所提交资料、图纸尚未经买方确认。 （3）货物未经买方阶段验收合格； （4）货物包装不合格造成损坏或未按合同基本条件要求包装； （5）未经买方书面同意擅自迟延交货； （6）未经买方书面同意卖方擅自变更交货方式； （7）根据合同文件规定卖方有违约责任。 5.6 买方的付款中，包括银行现汇和电子银行承兑汇票。 买方有权对卖方的该合同专款的用途进行检查，保证资金的合理使用。 6 交货时间、地点及交货方式 6.1 交货时间、地点及交货方式按“最终供货一览表”中的规定执行，特殊情况在本合同文件附件中进一步明确。 6.2 本合同采取指定地点交货方式，卖方负责办理运输、保险和必要的商检费等，将货物运抵指定地点。有关运输、保险和必要的商检费等的一切费用由卖方承担，货物运抵指定地点的日期为交货日期。 6.3 卖方应在合同规定的交货期届满前45天以特快专递或传真形式将合同号、货物名称、数量、包装箱件数、总毛重、总体积、设备最大件的重量和设备最大体积（长×宽×高）、准确交货日期以及对货物在运输和仓储的特殊要求和注意事项通知买方。 6.4 货物运抵指定地点时，卖方应向买方提供下列文件资料： 特别注意： 发货前，以电子邮件方式将上述文件资料电子版发至买方，待买方确认后方可安排发货； 货物运抵指定地点时，卖方应向买方提供上述文件资料各贰份； 卖方必须以特快专递形式向买方提供上述文件资料肆份（含原件），以签收为准；如有遗失情况发生，卖方应无条件向买方补充提供 6.5\",\\n    \"meta_data\": {\\n      \"chunk\": 1,\\n      \"chunk_size\": 4949\\n    },\\n    \"name\": \"02 阀门采购合同\"\\n  },\\n  {\\n    \"content\": \"买方合同编号：AGJTH2023BJ-04 卖方合同编号： 订 货 合 同 项目名称：安阳钢铁集团有限责任公司 烧结机头灰资源化处置项目（运营） 子项名称：循环泵备件 买方：湖南中冶长天节能环保技术有限公司 卖方：四川省自贡工业泵有限责任公司 合同签订时期：2023年11月 合同签订地点：湖南·长沙 廉洁协议 买方：湖南中冶长天节能环保技术有限公司 卖方：四川省自贡工业泵有限责任公司 根据党和国家有关法律法规的各项规定，为保持廉洁自律，倡导廉洁从业，有效遏制商业贿赂行为，防止在合同签订、履行中不廉洁行为的发生，经双方协商，订立本协议，相互约束。 第一条 买卖双方应当自觉遵守党和国家有关法律法规和有关廉洁自律的各项规定。 第二条 买方工作人员应当保持与卖方的正常工作和业务往来，不得接受卖方的礼金、有价证券和物品，不得在卖方报销任何应由私人支付的费用。 第三条 买方工作人员不得参加卖方的宴请和娱乐活动，不得违反廉洁从业的有关规定，不得接受任何形式的商业贿赂。 第四条 买方工作人员不得要求或接受卖方为其住房装修、婚丧嫁娶、家属和子女的工作安排及出国提供方便或任何形式的不当利益。 第五条 买方工作人员不得向卖方介绍家属或者亲友从事与本合同业务有关的经济活动。 第六条 卖方应当通过正常途径开展相关业务工作，不得向买方工作人员赠送礼金、有价证券和物品。 第七条 卖方不得为谋取私利擅自与买方工作人员私下商谈或者达成默契。 第八条 卖方不得以汇报工作、洽谈业务、签订经济合同为借口，邀请买方工作人员外出旅游、参加非正常交往的宴会、进入营业性娱乐场所。 第九条 卖方不得为买方单位和个人购置或提供通讯工具、交通工具、家具、办公用品等。 第十条 卖方如发现买方工作人员有违反上述协议者，应向买方领导或买方上级单位口头或书面举报（举报电话：中冶长天监察部 0731-82760729）。买方不得找任何借口对卖方进行报复。 第十一条 买方发现卖方有违反本协议或者采用前述不正当的手段对买方工作人员行贿或变相行贿，买方根据具体情节和造成的后果追究卖方合同标的或合同总金额1%-5%的违约金，由此给买方单位造成的损失均由卖方承担，卖方用不正当手段获取的非法所得由买方单位予以追缴，买方有权取消违反协议的卖方的投标资格或者单方面终止合同。情节严重的，列入黑名单，三年内不得进入长天市场。 第十二条 本协议作为合同附件，与该合同具有同等的法律效力。 买方（印章）： 卖方（印章）： 湖南中冶长天节能环保技术有限公司 四川省自贡工业泵有限责任公司 设备供应商安全管理协议书 为贯彻“安全第一，预防为主，综合治理”的方针，明确双方的安全责任，确保设备监制、检测、检验、备运输、卸车等过程人身和设备安全，实现安全生产目标，本着“双方平等、共同协商”的原则，并严格按照《中华人民共和国安全生产法》、《中华人民共和国建筑法》、《建设工程安全生产管理条例》、《安全生产许可证条例》以及现行有关安全生产法律、法规、标准，经双方协商一致签订本协议。 买方：湖南中冶长天节能环保技术有限公司 卖方：四川省自贡工业泵有限责任公司 第一条 工程项目： 安阳钢铁烧结机头灰资源化处置项目（运营） 第二条 交货地址： 安阳钢铁股份有限公司 第三条 买方安全生产管理职责、权利和义务 1.买方负责卖方运输车辆、设备、材料、人员进入施工现场后安全生产管理，为卖方人员提供劳动防护用品，并对卖方人员进行安全生产教育培训。 2.卖方运输车辆进入施工现场时，买方负责组织、协助卖方办理入场手续。 3.买方和卖方办理设备、材料交货、验收手续后，由买方负责设备、材料的管理工作。 4.买方有权对卖方的违章指挥、违章作业给予罚款或其他形式的处罚。买方有权对安全意识差、不服从买方现场安全生产管理的卖方人员责令退场。 5.买方不得要求卖方违反安全管理规定在施工现场进行设备倒运、装卸等，因买方原因导致的事故由买方承担责任。 6.买方设备监制、检测、检验人员等进入卖方生产区域应遵守卖方的安全生产规章制度，服从卖方的安全生产管理。 第四条 卖方安全生产的职责、权利和义务 1.卖方负责己方运输车辆、设备、材料、人员等进入施工现场前的安全生产工作，并为此承担全部的安全生产责任和义务； 2.卖方应提供安全性能合格的产品； 3.卖方应对派遣到买方施工现场的司机、技术人员等进行安全生产教育培训； 4.卖方运输车辆进入施工现场时，卖方应按照业主和买方有关安全生产的规定办理入场手续； 5.卖方应认真贯彻国家安全生产方针、政策，严格执行安全生产有关法律法规，遵守业主、买方的安全生产规章制度。 6.卖方的运输车辆、设备、材料、人员进入施工现场后，应服从和配合买方的安全生产管理，并对违反买方安全管理规定承担相应的责任。 7.卖方负责对进入卖方生产区域的买方设备监制、检测、检验人员等进行安全生产管理，并为其提供劳动防护用品。 第五条 事故原因分析和责任追究的约定 1.卖方运输车辆、设备、材料、人员等进入施工现场前和卖方运输车辆、人员等离开施工现场后造成的人身伤害、环境污染、物品损坏等，完全由卖方负责处理； 2.卖方运输车辆、设备、材料、人员等进入施工现场后，因卖方责任造成的人身伤害、环境污染、物品损坏等，所产生的责任和经济损失由卖方承担，卖方应按照国家有关规定处理和报告； 3.卖方运输车辆、设备、材料、人员等进入施工现场后，因买方责任造成的人身伤害、环境污染、物品损坏等，所产生的责任和经济损失由买方承担，买方应按照国家相关规定处理和报告。 4.卖方运输车辆、设备、材料、人员等进入施工现场后，因项目相关方责任导致卖方人员、物品的损害，买方应配合卖方处理相关事项。 5.买方设备监制、检测、检验人员等进入卖方生产区域后，因买方责任导致的卖方人员、物品的损害，所产生的责任和经济损失由买方承担；因卖方责任导致的买方人员、物品的损害，所产生的责任和经济损失由卖方承担。 6.因对方的原因对己方造成的损失，买卖双方可追究对方的责任。 第六条 本协议执行过程中，如发生争议，双方应通过友好协商解决，协商不成时，在买方所在地的长沙仲裁委员会仲裁。 第七条 买卖双方必须严格执行本协议，本协议作为买卖双方采购合同的附件，与合同同时签订并具有同等法律效力。 第八条 本协议有效期限：自合同签订之日起至设备质量保证期到期止。 第九条 本协议经双方法定代表人或委托代理人签字盖章后生效。 第十条 本协议一式贰份，买卖双方各执壹份。 买方（印章）： 卖方（印章）： 湖南中冶长天节能环保技术有限公司 四川省自贡工业泵有限责任公司 法定代表人(签字)： 法定代表人(签字)： 或委托代理人(签字)： 或委托代理人(签字)： 年 月 日 年 月 日 合 同 双 方 湖南中冶长天节能环保技术有限公司增值税专用发票开具格式： 名 称：湖南中冶长天节能环保技术有限公司 纳税人识别号：914301005849395200 地址、 电话：长沙高新开发区麓松路480号 0731-82760997 开户行及帐号：浦发银行长沙东塘支行66050155200002468 合同签订时间： 2023年11月 合同签订地点：长沙 订 货 合 同 根据招标评标优选结果，湖南中冶长天节能环保技术公司（以下简称“买方”）与中标单位 四川省自贡工业泵有限责任公司 （以下简称“卖方”）双方经友好协商，同意按下述条款和条件签订本合同。 1 合同文件 下列合同文件是构成本合同不可分割的部分，与合同正文具有同等效力，其解释效力优先次序如下： 1.1 本合同文件及其附件； 1.2 技术协议、安全管理协议； 1.3 厂商协调会会议纪要； 1.4 投标人提交的经过评议审查修改后的投标文件及附件； 1.5 招标文件。 在合同执行过程中，如发生合同修改和补充所形成的“议定书”可视为合同的延伸，其解释效力优先于合同文件。 相同效力级别的文件存在冲突，以时间在后者为准。 2 合同范围和条件 本合同范围和条件应与上述合同文件规定的内容相一致。 3 供货范围和数量 卖方应当根据合同文件的要求完成本合同中规定产品的设计、制造、监制、交货；向买方交付产品相关资料和文件；提供符合合同文件规定的服务、培训等，该等技术服务包括但不限于：产品在安装期间派遣有丰富经验的技术人员指导安装，进行产品的指导调试，以及试生产期间的技术指导，派遣技术人员在现场处理、解决各类与产品有关的问题，直至产品投入正常运行，确保产品通过各项试验、试车和功能考核，满足买方的使用需求，质保期内质量问题的解决等。 3.1 最终供货一览表 3.2 本合同所提供的货物及数量应与上述合同文件规定的内容相一致。 3.3 本项目执行期内，如买方需向卖方补充订购供货一览表内某个型号的货物时，双方应按供货一览表内规定的单价签订订货合同。 3.5 卖方必须保证供货货物的完整性，必须是符合国家和行业有关现行有效标准及规范的全新合格产品。 3.6 卖方供货货物应是满足招标文件中各项指标的整台（套）货物，包括主机的辅机、附件、配套的产品、易损耗备品、图纸和资料、配件和安装、调试及运行中所需的专用工具、器具及仪器等，并提供其详细供应清单。 4 合同金额 根据上述合同文件要求，合同的总价为人民币 30500元（大写：叁万零伍佰元），不含税总价为人民币26991.15元，税额为人民币3508.85元。 4.1 如果因国家规定的增值税税率调整导致卖方开票税率调整时，合同的不含税总价保持不变，合同含税总价根据开票税率相应调整，调整后的合同含税总价=合同不含税总价*（1+增值税开票税率）。 4.2 合同的总价包括设备费（含13%的增值税）、资料费、包装费、保险费、必要的商检费、到买方指定地点的运杂费等。 4.3 合同的总价为最终中标价，并为闭口价，即合同的总价不再因税率变化外的任何因素作调整。 5 货款支付 5.1 支付行实际支付款项之日应视为合同款项的实际支付日。 5.2 合同签订生效后， 5.3 货物全部或部分（如果被买方接受的话）在卖方现场验收合格并开具全额增值税发票后，买方在30天内支付设备合同总价的 100 %作为发货款，即人民币叁万零伍佰元整。 5.4 质量保证期按第十二章“保证与担保”条款来计算。在合同货物质量保证期满后30天内，买方向卖方结清余款，若有扣款赔偿情况依合同处理。 5.5 买方每次向卖方办理支付货款手续时，卖方应出具有效收据。 5.6 有下列情况之一时，买方有权全部或部分拒付卖方应收款项： （1）单据不全； （2）卖方未返还本合同，未交付《技术协议》要求的所有资料和设备图纸或者所提交资料、图纸尚未经买方确认。 （3）货物未经买方阶段验收合格； （4）货物包装不合格造成损坏或未按合同基本条件要求包装； （5）未经买方书面同意擅自迟延交货； （6）未经买方书面同意卖方擅自变更交货方式； （7）根据合同文件规定卖方有违约责任。 5.7 买方的付款中，包括银行现汇和承兑汇票。 买方有权对卖方的该合同专款的用途进行检查，保证资金的合理使用。 6 交货时间、地点及交货方式 6.1 交货时间、地点及交货方式按“最终供货一览表”中的规定执行，特殊情况在本合同文件附件中进一步明确。 6.2 本合同采取指定地点交货方式，卖方负责办理运输、保险和必要的商检费等，将货物运抵指定地点。有关运输、保险和必要的商检费等的一切费用由卖方承担，货物运抵指定地点的日期为交货日期。 6.3 卖方应在合同规定的交货期届满前45天以特快专递或传真形式将合同号、货物名称、数量、包装箱件数、总毛重、总体积、设备最大件的重量和设备最大体积（长×宽×高）、准确交货日期以及对货物在运输和仓储的特殊要求和注意事项通知买方。 6.4 货物运抵指定地点时，卖方应向买方提供下列文件资料： 特别注意： 发货前，以电子邮件方式将上述文件资料电子版发至买方，待买方确认后方可安排发货； 货物运抵指定地点时，卖方应向买方提供上述文件资料各贰份； 卖方必须以特快专递形式向买方提供上述文件资料肆份（含原件），以签收为准；如有遗失情况发生，卖方应无条件向买方补充提供 6.5\",\\n    \"meta_data\": {\\n      \"chunk\": 1,\\n      \"chunk_size\": 5000\\n    },\\n    \"name\": \"03 循环泵配件采购合同\"\\n  },\\n  {\\n    \"content\": \"买方合同编号：AGJTH2024-04 卖方合同编号： 订 货 合 同 项目名称：安阳钢铁集团有限责任公司 烧结机头灰资源化处置项目（运营） 名 称：工艺渣浆泵及泵头机封 买方：湖南中冶长天节能环保技术有限公司 卖方：襄阳五二五泵业有限公司 合同签订时期：2024年10月 合同签订地点：长 沙 廉洁协议 买方：湖南中冶长天节能环保技术有限公司 卖方： 襄阳五二五泵业有限公司 根据党和国家有关法律法规的各项规定，为保持廉洁自律，倡导廉洁从业，有效遏制商业贿赂行为，防止在合同签订、履行中不廉洁行为的发生，经双方协商，订立本协议，相互约束。 第一条 买卖双方应当自觉遵守党和国家有关法律法规和有关廉洁自律的各项规定。 第二条 买方工作人员应当保持与卖方的正常工作和业务往来，不得接受卖方的礼金、有价证券和物品，不得在卖方报销任何应由私人支付的费用。 第三条 买方工作人员不得参加卖方的宴请和娱乐活动，不得违反廉洁从业的有关规定，不得接受任何形式的商业贿赂。 第四条 买方工作人员不得要求或接受卖方为其住房装修、婚丧嫁娶、家属和子女的工作安排及出国提供方便或任何形式的不当利益。 第五条 买方工作人员不得向卖方介绍家属或者亲友从事与本合同业务有关的经济活动。 第六条 卖方应当通过正常途径开展相关业务工作，不得向买方工作人员赠送礼金、有价证券和物品。 第七条 卖方不得为谋取私利擅自与买方工作人员私下商谈或者达成默契。 第八条 卖方不得以汇报工作、洽谈业务、签订经济合同为借口，邀请买方工作人员外出旅游、参加非正常交往的宴会、进入营业性娱乐场所。 第九条 卖方不得为买方单位和个人购置或提供通讯工具、交通工具、家具、办公用品等。 第十条 卖方如发现买方工作人员有违反上述协议者，应向买方领导或买方上级单位口头或书面举报（举报电话：中冶长天监察部 0731-82760729）。买方不得找任何借口对卖方进行报复。 第十一条 买方发现卖方有违反本协议或者采用前述不正当的手段对买方工作人员行贿或变相行贿，买方根据具体情节和造成的后果追究卖方合同标的或合同总金额1%-5%的违约金，由此给买方单位造成的损失均由卖方承担，卖方用不正当手段获取的非法所得由买方单位予以追缴，买方有权取消违反协议的卖方的投标资格或者单方面终止合同。情节严重的，列入黑名单，三年内不得进入长天市场。 第十二条 本协议作为合同附件，与该合同具有同等的法律效力。 甲方（印章）： 乙方（印章）： 湖南中冶长天节能环保技术有限公司 襄阳五二五泵业有限公司 设备供应商安全管理协议书 为贯彻“安全第一，预防为主，综合治理”的方针，明确双方的安全责任，确保设备监制、检测、检验、备运输、卸车等过程人身和设备安全，实现安全生产目标，本着“双方平等、共同协商”的原则，并严格按照《中华人民共和国安全生产法》、《中华人民共和国建筑法》、《建设工程安全生产管理条例》、《安全生产许可证条例》以及现行有关安全生产法律、法规、标准，经双方协商一致签订本协议。 买方：湖南中冶长天节能环保技术有限公司 卖方：襄阳五二五泵业有限公司 第一条 工程项目： 安阳钢铁烧结机头灰资源化处置项目工程 第二条 交货地址： 安阳钢铁集团有限责任公司厂区内 第三条 买方安全生产管理职责、权利和义务 1.买方负责卖方运输车辆、设备、材料、人员进入施工现场后安全生产管理，为卖方人员提供劳动防护用品，并对卖方人员进行安全生产教育培训。 2.卖方运输车辆进入施工现场时，买方负责组织、协助卖方办理入场手续。 3.买方和卖方办理设备、材料交货、验收手续后，由买方负责设备、材料的管理工作。 4.买方有权对卖方的违章指挥、违章作业给予罚款或其他形式的处罚。买方有权对安全意识差、不服从买方现场安全生产管理的卖方人员责令退场。 5.买方不得要求卖方违反安全管理规定在施工现场进行设备倒运、装卸等，因买方原因导致的事故由买方承担责任。 6.买方设备监制、检测、检验人员等进入卖方生产区域应遵守卖方的安全生产规章制度，服从卖方的安全生产管理。 第四条 卖方安全生产的职责、权利和义务 1.卖方负责己方运输车辆、设备、材料、人员等进入施工现场前的安全生产工作，并为此承担全部的安全生产责任和义务； 2.卖方应提供安全性能合格的产品； 3.卖方应对派遣到买方施工现场的司机、技术人员等进行安全生产教育培训； 4.卖方运输车辆进入施工现场时，卖方应按照业主和买方有关安全生产的规定办理入场手续； 5.卖方应认真贯彻国家安全生产方针、政策，严格执行安全生产有关法律法规，遵守业主、买方的安全生产规章制度。 6.卖方的运输车辆、设备、材料、人员进入施工现场后，应服从和配合买方的安全生产管理，并对违反买方安全管理规定承担相应的责任。 7.卖方负责对进入卖方生产区域的买方设备监制、检测、检验人员等进行安全生产管理，并为其提供劳动防护用品。 第五条 事故原因分析和责任追究的约定 1.卖方运输车辆、设备、材料、人员等进入施工现场前和卖方运输车辆、人员等离开施工现场后造成的人身伤害、环境污染、物品损坏等，完全由卖方负责处理； 2.卖方运输车辆、设备、材料、人员等进入施工现场后，因卖方责任造成的人身伤害、环境污染、物品损坏等，所产生的责任和经济损失由卖方承担，卖方应按照国家有关规定处理和报告； 3.卖方运输车辆、设备、材料、人员等进入施工现场后，因买方责任造成的人身伤害、环境污染、物品损坏等，所产生的责任和经济损失由买方承担，买方应按照国家相关规定处理和报告。 4.卖方运输车辆、设备、材料、人员等进入施工现场后，因项目相关方责任导致卖方人员、物品的损害，买方应配合卖方处理相关事项。 5.买方设备监制、检测、检验人员等进入卖方生产区域后，因买方责任导致的卖方人员、物品的损害，所产生的责任和经济损失由买方承担；因卖方责任导致的买方人员、物品的损害，所产生的责任和经济损失由卖方承担。 6.因对方的原因对己方造成的损失，买卖双方可追究对方的责任。 第六条 本协议执行过程中，如发生争议，双方应通过友好协商解决，协商不成时，在买方所在地的长沙仲裁委员会仲裁。 第七条 买卖双方必须严格执行本协议，本协议作为买卖双方采购合同的附件，与合同同时签订并具有同等法律效力。 第八条 本协议有效期限：自合同签订之日起至设备质量保证期到期止。 第九条 本协议经双方法定代表人或委托代理人签字盖章后生效。 第十条 本协议一式贰份，买卖双方各执壹份。 买方（印章）： 卖方（印章）： 湖南中冶长天节能环保技术有限公司 法定代表人(签字)： 法定代表人(签字)： 或委托代理人(签字)： 或委托代理人(签字)： 年 月 日 年 月 日 合 同 双 方 买方：湖南中冶长天节能环保 开户银行：浦发银行长沙东塘支行 技术有限公司 （印章） 帐 号：66050155200002468 法定代表人： 单位地址：长沙市岳麓区节庆路7号 委托代理人： 电 话：0731—82760794 传 真：0731—82760649 联 系 人： 电子邮箱：23932814@qq.com 卖方：襄阳五二五泵业 开户银行： 中国工商银行股份有 有限公司 限公司襄阳万达广场支行 （印章） 帐 号：1804002209026012223 单位地址：湖北省襄阳市高新区新光路2号 委托代理人： 电 话：0710-3566525 传 真：0710-3560788 联 系 人： 邮 箱：songgd@525pump.com 湖南中冶长天节能环保技术有限公司增值税专用发票开具格式： 名 称：湖南中冶长天节能环保技术有限公司 纳税人识别号：914301005849395200 地址、 电话：长沙高新开发区麓松路480号 0731-82760997 开户行及帐号：浦发银行长沙东塘支行66050155200002468 合同签订时间： 2024年10月 合同签订地点：长沙 订 货 合 同 根据招标评标优选结果，湖南中冶长天节能环保技术有限公司（以下简称“买方”）与中标单位襄阳五二五泵业有限公司（以下简称“卖方”）双方经友好协商，同意按下述条款和条件签定本合同。 1 合同文件 下列合同文件是构成本合同不可分割的部分，与合同正文具有同等效力，其解释效力优先次序如下： 1.1 本合同文件及其附件； 1.2 技术协议； 1.3 厂商协调会会议纪要； 1.4 投标人提交的经过评议审查修改后的投标文件及附件； 1.5 招标文件（包括商务文件和技术文件）。 在合同执行过程中，如发生合同修改和补充所形成的“议定书”可视为合同的延伸，其解释效力优先于合同文件。 相同效力级别的文件存在冲突，以时间在后者为准。 2 合同范围和条件 本合同范围和条件应与上述合同文件规定的内容相一致。 3 供货范围和数量 卖方应当根据合同文件的要求完成本合同中规定产品的设计、制造、监制、交货；向买方交付产品相关资料和文件；提供符合合同文件规定的服务、培训等，该等技术服务包括但不限于：产品在安装期间派遣有丰富经验的技术人员指导安装，进行产品的指导调试，以及试生产期间的技术指导，派遣技术人员在现场处理、解决各类与产品有关的问题，直至产品投入正常运行，确保产品通过各项试验、试车和功能考核，满足买方的使用需求，质保期内质量问题的解决等。 3.1 最终供货一览表 3.2 本合同所提供的货物及数量应与上述合同文件规定的内容相一致。 3.3 本项目执行期内，如买方需向卖方补充订购供货一览表内某个型号的货物时，双方应按供货一览表内规定的单价签订订货合同。 3.5 卖方必须保证供货货物的完整性，必须是符合国家和行业有关现行有效标准及规范的全新合格产品。 3.6 卖方供货货物应是满足招标文件中各项指标的整台（套）货物，包括主机的辅机、附件、配套的产品、易损耗备品、图纸和资料、配件和安装、调试及运行中所需的专用工具、器具及仪器等，并提供其详细供应清单。 4 合同金额 根据上述合同文件要求，合同的总价为人民币 30430.00元（大写：叁万零肆佰叁拾元），不含税总价为人民币26929.2元，税额为人民币3500.8元。 4.1 如果因国家规定的增值税税率调整导致卖方开票税率调整时，合同的不含税总价保持不变，合同含税总价根据开票税率相应调整，调整后的合同含税总价=合同不含税总价*（1+增值税开票税率）。 4.2 合同的总价包括设备费（含13%的增值税）、资料费、包装费、保险费、必要的商检费、到买方指定地点的运杂费等。 4.3 合同的总价为最终中标价，并为闭口价，即合同的总价不再因税率变化外的任何因素作调整。 5 货款支付 5.1 支付行实际支付款项之日应视为合同款项的实际支付日。 5.2 合同签订生效后， 5.2卖方将全部货物按合同要求发至卖方现场并开具全额增值税发票后，买方在30天内支付合同总价的 70 %作为到货款,即人民币 贰万壹仟叁佰零壹 元整（大写）。 5.3 设备验收合格后2个月,买方在30天内支付设备合同总价的 30%，即人民币 玖仟壹佰贰拾玖 元整。 5.4 质量保证期按第十二章“保证与担保”条款来计算。在合同货物质量保证期满后30天内，买方向卖方结清余款，若有扣款赔偿情况依合同处理。 5.5 买方每次向卖方办理支付货款手续时，卖方应出具有效收据。 5.6 有下列情况之一时，买方有权全部或部分拒付卖方应收款项： （1）单据不全； （2）卖方未返还本合同，未交付《技术协议》要求的所有资料和设备图纸或者所提交资料、图纸尚未经买方确认。 （3）货物未经买方阶段验收合格； （4）货物包装不合格造成损坏或未按合同基本条件要求包装； （5）未经买方书面同意擅自迟延交货； （6）未经买方书面同意卖方擅自变更交货方式； （7）根据合同文件规定卖方有违约责任。 5.7 买方的付款中，包括银行现汇和承兑汇票。 买方有权对卖方的该合同专款的用途进行检查，保证资金的合理使用。 6 交货时间、地点及交货方式 6.1 交货时间、地点及交货方式按“最终供货一览表”中的规定执行，特殊情况在本合同文件附件中进一步明确。 6.2\",\\n    \"meta_data\": {\\n      \"chunk\": 1,\\n      \"chunk_size\": 4984\\n    },\\n    \"name\": \"04 渣浆泵备件采购合同\"\\n  }\\n]\\n</references>', name=None, tool_call_id=None, tool_calls=None, audio=None, images=None, videos=None, files=None, audio_output=None, image_output=None, thinking=None, redacted_thinking=None, provider_data=None, citations=None, reasoning_content=None, tool_name=None, tool_args=None, tool_call_error=None, stop_after_tool_call=False, add_to_agent_memory=True, from_history=False, metrics=MessageMetrics(input_tokens=0, output_tokens=0, total_tokens=0, audio_tokens=0, input_audio_tokens=0, output_audio_tokens=0, cached_tokens=0, cache_write_tokens=0, reasoning_tokens=0, prompt_tokens=0, completion_tokens=0, prompt_tokens_details=None, completion_tokens_details=None, additional_metrics=None, time=None, time_to_first_token=None, timer=None), references=None, created_at=1748576214, markdown=True), Message(role='assistant', content='\\n\\n根据提供的知识库信息，烧结机头灰资源化处置项目（运营）相关的合同采购了以下设备：\\n\\n### 1. **压滤机备件**\\n   - **供应商**：景津装备股份有限公司\\n   - **合同编号**：AGJTH2024BJ-05\\n   - **合同金额**：人民币21,156.00元（含税）\\n\\n### 2. **阀门**\\n   - **供应商1**：东亚阀门科技集团有限公司  \\n     **合同编号**：AGJTH2024BJ-02  \\n     **合同金额**：人民币16,520.00元（含税）\\n   - **Supplier2**：双恒阀门集团有限公司  \\n     **合同编号**：AGJTH2023BJ-02  \\n     **合同金额**：人民币29,550.00元（含税）\\n\\n### 3. **循环泵备件**\\n   - **Supplier**：四川省自贡工业泵有限责任公司  \\n     **合同编号**：AGJTH2023BJ-04  \\n     **合同金额**：人民币30,500.00元（含税）\\n\\n### 4. **工艺渣浆泵及泵头机封**\\n   - **Supplier**：襄阳五二五泵业有限公司  \\n     **合同编号**：AGJTH2024-04  \\n     **合同金额**：人民币30,430.00元（含税）\\n\\n---\\n\\n### 项目背景\\n所有合同均服务于 **安阳钢铁集团有限责任公司烧结机头灰资源化处置项目（运营）**，涉及设备包括压滤机、阀门、循环泵、渣浆泵及其配套部件。合同条款包含廉洁协议、安全责任划分及付款条件等。\\n\\n如需更详细的设备规格或合同条款，可参考对应合同文件。', name=None, tool_call_id=None, tool_calls=None, audio=None, images=None, videos=None, files=None, audio_output=None, image_output=None, thinking=None, redacted_thinking=None, provider_data=None, citations=None, reasoning_content='\\n好的，用户的问题是询问烧结机头合同采购了哪些设备。我需要先查看提供的知识库中的参考信息，看看有没有相关的合同信息。\\n\\n首先，我看到有五个不同的合同文件，每个都涉及不同的设备和供应商。第一个是压滤机滤布采购合同，由景津装备股份有限公司提供，合同号AGJTH2024BJ-05。第二个是阀门补充采购合同，由东亚阀门科技集团有限公司，合同号AGJTH2024BJ-02。第三个是双恒阀门集团有限公司的阀门采购合同，合同号AGJTH2023BJ-02。第四个是循环泵配件采购合同，由四川省自贡工业泵有限责任公司，合同号AGJTH2023BJ-04。最后一个是渣浆泵备件采购合同，由襄阳五二五泵业有限公司，合同号AGJTH2024-04。\\n\\n用户的问题是关于烧结机头的设备采购，所以需要确认这些合同是否都与烧结机头相关。根据每个合同的项目名称，都明确提到了“安阳钢铁集团有限责任公司烧结机头灰资源化处置项目（运营）”，所以这些合同都是相关的。\\n\\n接下来需要整理每个合同中的设备类型。第一个合同是压滤机备件，第二个和第三个是阀门，第四个是循环泵备件，第五个是渣浆泵及泵头机封。因此，烧结机头合同采购的设备包括压滤机、阀门、循环泵、渣浆泵及其相关配件。\\n\\n需要将这些信息整合成一个清晰的回答，列出每个设备类型和对应的供应商，可能还需要合同编号作为参考。用户可能需要知道具体的设备和供应商信息，以便进行采购或记录。需要确保回答准确，引用正确的合同名称和供应商，避免遗漏或错误。\\n', tool_name=None, tool_args=None, tool_call_error=None, stop_after_tool_call=False, add_to_agent_memory=True, from_history=False, metrics=MessageMetrics(input_tokens=17226, output_tokens=806, total_tokens=18032, audio_tokens=0, input_audio_tokens=0, output_audio_tokens=0, cached_tokens=0, cache_write_tokens=0, reasoning_tokens=0, prompt_tokens=17226, completion_tokens=806, prompt_tokens_details=None, completion_tokens_details=None, additional_metrics=None, time=14.500737199996365, time_to_first_token=None, timer=<agno.utils.timer.Timer object at 0x000001744A4B3050>), references=None, created_at=1748576214)], metrics={'input_tokens': [17226], 'output_tokens': [806], 'total_tokens': [18032], 'audio_tokens': [0], 'input_audio_tokens': [0], 'output_audio_tokens': [0], 'cached_tokens': [0], 'cache_write_tokens': [0], 'reasoning_tokens': [0], 'prompt_tokens': [17226], 'completion_tokens': [806], 'time': [14.500737199996365]}, model='Qwen3-235B', model_provider='OpenAI', run_id='4af14cc0-e803-45d9-8774-d1b746e011e8', agent_id='efc9f641-4de4-4566-83cd-81ef3f566bef', session_id='86b48782-8db5-4102-88df-e9e845c7bb95', workflow_id=None, tools=[], formatted_tool_calls=None, images=None, videos=None, audio=None, response_audio=None, citations=None, extra_data=RunResponseExtraData(references=[MessageReferences(query='烧结机头合同采购了哪些设备', references=[{'content': '买方合同编号：AGJTH2024BJ-05 卖方合同编号： 订 货 合 同 项目名称：安阳钢铁集团有限责任公司 烧结机头灰资源化处置项目（运营） 子项名称：压滤机备件 买方：湖南中冶长天节能环保技术有限公司 卖方：景津装备股份有限公司 合同签订时期：2024年10月 合同签订地点：湖南·长沙 廉洁协议 买方：湖南中冶长天节能环保技术有限公司 卖方：景津装备股份有限公司 根据党和国家有关法律法规的各项规定，为保持廉洁自律，倡导廉洁从业，有效遏制商业贿赂行为，防止在合同签订、履行中不廉洁行为的发生，经双方协商，订立本协议，相互约束。 第一条 买卖双方应当自觉遵守党和国家有关法律法规和有关廉洁自律的各项规定。 第二条 买方工作人员应当保持与卖方的正常工作和业务往来，不得接受卖方的礼金、有价证券和物品，不得在卖方报销任何应由私人支付的费用。 第三条 买方工作人员不得参加卖方的宴请和娱乐活动，不得违反廉洁从业的有关规定，不得接受任何形式的商业贿赂。 第四条 买方工作人员不得要求或接受卖方为其住房装修、婚丧嫁娶、家属和子女的工作安排及出国提供方便或任何形式的不当利益。 第五条 买方工作人员不得向卖方介绍家属或者亲友从事与本合同业务有关的经济活动。 第六条 卖方应当通过正常途径开展相关业务工作，不得向买方工作人员赠送礼金、有价证券和物品。 第七条 卖方不得为谋取私利擅自与买方工作人员私下商谈或者达成默契。 第八条 卖方不得以汇报工作、洽谈业务、签订经济合同为借口，邀请买方工作人员外出旅游、参加非正常交往的宴会、进入营业性娱乐场所。 第九条 卖方不得为买方单位和个人购置或提供通讯工具、交通工具、家具、办公用品等。 第十条 卖方如发现买方工作人员有违反上述协议者，应向买方领导或买方上级单位口头或书面举报（举报电话：中冶长天监察部 0731-82760729）。买方不得找任何借口对卖方进行报复。 第十一条 买方发现卖方有违反本协议或者采用前述不正当的手段对买方工作人员行贿或变相行贿，买方根据具体情节和造成的后果追究卖方合同标的或合同总金额1%-5%的违约金，由此给买方单位造成的损失均由卖方承担，卖方用不正当手段获取的非法所得由买方单位予以追缴，买方有权取消违反协议的卖方的投标资格或者单方面终止合同。情节严重的，列入黑名单，三年内不得进入长天市场。 第十二条 本协议作为合同附件，与该合同具有同等的法律效力。 买方（印章）： 卖方（印章）： 湖南中冶长天节能环保技术有限公司 景津装备股份有限公司 设备供应商安全管理协议书 为贯彻“安全第一，预防为主，综合治理”的方针，明确双方的安全责任，确保设备监制、检测、检验、备运输、卸车等过程人身和设备安全，实现安全生产目标，本着“双方平等、共同协商”的原则，并严格按照《中华人民共和国安全生产法》、《中华人民共和国建筑法》、《建设工程安全生产管理条例》、《安全生产许可证条例》以及现行有关安全生产法律、法规、标准，经双方协商一致签订本协议。 买方：湖南中冶长天节能环保技术有限公司 卖方：景津装备股份有限公司 第一条 工程项目： 安钢炼铁厂烧结机头烟气脱硫脱硝系统制酸废水处理项目项目 第二条 交货地址： 安阳钢铁股份有限公司 第三条 买方安全生产管理职责、权利和义务 1.买方负责卖方运输车辆、设备、材料、人员进入施工现场后安全生产管理，为卖方人员提供劳动防护用品，并对卖方人员进行安全生产教育培训。 2.卖方运输车辆进入施工现场时，买方负责组织、协助卖方办理入场手续。 3.买方和卖方办理设备、材料交货、验收手续后，由买方负责设备、材料的管理工作。 4.买方有权对卖方的违章指挥、违章作业给予罚款或其他形式的处罚。买方有权对安全意识差、不服从买方现场安全生产管理的卖方人员责令退场。 5.买方不得要求卖方违反安全管理规定在施工现场进行设备倒运、装卸等，因买方原因导致的事故由买方承担责任。 6.买方设备监制、检测、检验人员等进入卖方生产区域应遵守卖方的安全生产规章制度，服从卖方的安全生产管理。 第四条 卖方安全生产的职责、权利和义务 1.卖方负责己方运输车辆、设备、材料、人员等进入施工现场前的安全生产工作，并为此承担全部的安全生产责任和义务； 2.卖方应提供安全性能合格的产品； 3.卖方应对派遣到买方施工现场的司机、技术人员等进行安全生产教育培训； 4.卖方运输车辆进入施工现场时，卖方应按照业主和买方有关安全生产的规定办理入场手续； 5.卖方应认真贯彻国家安全生产方针、政策，严格执行安全生产有关法律法规，遵守业主、买方的安全生产规章制度。 6.卖方的运输车辆、设备、材料、人员进入施工现场后，应服从和配合买方的安全生产管理，并对违反买方安全管理规定承担相应的责任。 7.卖方负责对进入卖方生产区域的买方设备监制、检测、检验人员等进行安全生产管理，并为其提供劳动防护用品。 第五条 事故原因分析和责任追究的约定 1.卖方运输车辆、设备、材料、人员等进入施工现场前和卖方运输车辆、人员等离开施工现场后造成的人身伤害、环境污染、物品损坏等，完全由卖方负责处理； 2.卖方运输车辆、设备、材料、人员等进入施工现场后，因卖方责任造成的人身伤害、环境污染、物品损坏等，所产生的责任和经济损失由卖方承担，卖方应按照国家有关规定处理和报告； 3.卖方运输车辆、设备、材料、人员等进入施工现场后，因买方责任造成的人身伤害、环境污染、物品损坏等，所产生的责任和经济损失由买方承担，买方应按照国家相关规定处理和报告。 4.卖方运输车辆、设备、材料、人员等进入施工现场后，因项目相关方责任导致卖方人员、物品的损害，买方应配合卖方处理相关事项。 5.买方设备监制、检测、检验人员等进入卖方生产区域后，因买方责任导致的卖方人员、物品的损害，所产生的责任和经济损失由买方承担；因卖方责任导致的买方人员、物品的损害，所产生的责任和经济损失由卖方承担。 6.因对方的原因对己方造成的损失，买卖双方可追究对方的责任。 第六条 本协议执行过程中，如发生争议，双方应通过友好协商解决，协商不成时，在买方所在地的长沙仲裁委员会仲裁。 第七条 买卖双方必须严格执行本协议，本协议作为买卖双方采购合同的附件，与合同同时签订并具有同等法律效力。 第八条 本协议有效期限：自合同签订之日起至设备质量保证期到期止。 第九条 本协议经双方法定代表人或委托代理人签字盖章后生效。 第十条 本协议一式贰份，买卖双方各执壹份。 买方（印章）： 卖方（印章）： 湖南中冶长天节能环保技术有限公司 景津装备股份有限公司 法定代表人(签字)： 法定代表人(签字)： 或委托代理人(签字)： 或委托代理人(签字)： 年 月 日 2024 年 月 日 合 同 双 方 湖南中冶长天节能环保技术有限公司增值税专用发票开具格式： 名 称：湖南中冶长天节能环保技术有限公司 纳税人识别号：914301005849395200 地址、 电话：长沙高新开发区麓松路480号 0731-82760997 开户行及帐号：浦发银行长沙东塘支行66050155200002468 合同签订时间： 2024年10月 合同签订地点：长沙 订 货 合 同 根据招标评标优选结果，湖南中冶长天节能环保技术公司（以下简称“买方”）与中标单位 景津装备股份有限公司 （以下简称“卖方”）双方经友好协商，同意按下述条款和条件签订本合同。 1 合同文件 下列合同文件是构成本合同不可分割的部分，与合同正文具有同等效力，其解释效力优先次序如下： 1.1 本合同文件及其附件； 1.2 技术协议、安全管理协议； 1.3 厂商协调会会议纪要； 1.4 投标人提交的经过评议审查修改后的投标文件及附件； 1.5 招标文件。 在合同执行过程中，如发生合同修改和补充所形成的“议定书”可视为合同的延伸，其解释效力优先于合同文件。 相同效力级别的文件存在冲突，以时间在后者为准。 2 合同范围和条件 本合同范围和条件应与上述合同文件规定的内容相一致。 3 供货范围和数量 卖方应当根据合同文件的要求完成本合同中规定产品的设计、制造、监制、交货；向买方交付产品相关资料和文件；提供符合合同文件规定的服务、培训等，该等技术服务包括但不限于：产品在安装期间派遣有丰富经验的技术人员指导安装，进行产品的指导调试，以及试生产期间的技术指导，派遣技术人员在现场处理、解决各类与产品有关的问题，直至产品投入正常运行，确保产品通过各项试验、试车和功能考核，满足买方的使用需求，质保期内质量问题的解决等。 3.1 最终供货一览表 3.2 本合同所提供的货物及数量应与上述合同文件规定的内容相一致。 3.3 本项目执行期内，如买方需向卖方补充订购供货一览表内某个型号的货物时，双方应按供货一览表内规定的单价签订订货合同。 3.5 卖方必须保证供货货物的完整性，必须是符合国家和行业有关现行有效标准及规范的全新合格产品。 3.6 卖方供货货物应是满足招标文件中各项指标的整台（套）货物，包括主机的辅机、附件、配套的产品、易损耗备品、图纸和资料、配件和安装、调试及运行中所需的专用工具、器具及仪器等，并提供其详细供应清单。 4 合同金额 根据上述合同文件要求，合同的总价为人民币 21156.00元（大写：壹万陆仟捌佰伍拾陆元），不含税总价为人民币18722.12元，税额为人民币2433.88元。 4.1 如果因国家规定的增值税税率调整导致卖方开票税率调整时，合同的不含税总价保持不变，合同含税总价根据开票税率相应调整，调整后的合同含税总价=合同不含税总价*（1+增值税开票税率）。 4.2 合同的总价包括设备费（含13%的增值税）、资料费、包装费、保险费、必要的商检费、到买方指定地点的运杂费等。 4.3 合同的总价为最终中标价，并为闭口价，即合同的总价不再因税率变化外的任何因素作调整。 5 货款支付 5.1 支付行实际支付款项之日应视为合同款项的实际支付日。 5.2 合同签订生效后， 5.3 货物全部或部分（如果被买方接受的话）在卖方现场验收合格并开具全额增值税发票后，买方在30天内支付设备合同总价的 100 %作为发货款，即人民币壹万陆仟捌佰伍拾陆元整。 5.4 质量保证期按第十二章“保证与担保”条款来计算。在合同货物质量保证期满后30天内，买方向卖方结清余款，若有扣款赔偿情况依合同处理（滤布为易损件 属于耗材 不在质保范围内）。 5.5 买方每次向卖方办理支付货款手续时，卖方应出具有效收据。 5.6 有下列情况之一时，买方有权全部或部分拒付卖方应收款项： （1）单据不全； （2）卖方未返还本合同，未交付《技术协议》要求的所有资料和设备图纸或者所提交资料、图纸尚未经买方确认。 （3）货物未经买方阶段验收合格； （4）货物包装不合格造成损坏或未按合同基本条件要求包装； （5）未经买方书面同意擅自迟延交货； （6）未经买方书面同意卖方擅自变更交货方式； （7）根据合同文件规定卖方有违约责任。 5.7 买方的付款中，包括银行现汇和承兑汇票。 买方有权对卖方的该合同专款的用途进行检查，保证资金的合理使用。 6 交货时间、地点及交货方式 6.1 交货时间、地点及交货方式按“最终供货一览表”中的规定执行，特殊情况在本合同文件附件中进一步明确。 6.2 本合同采取指定地点交货方式，卖方负责办理运输、保险和必要的商检费等，将货物运抵指定地点。有关运输、保险和必要的商检费等的一切费用由卖方承担，货物运抵指定地点的日期为交货日期。 6.3 卖方应在合同规定的交货期届满前45天以特快专递或传真形式将合同号、货物名称、数量、包装箱件数、总毛重、总体积、设备最大件的重量和设备最大体积（长×宽×高）、准确交货日期以及对货物在运输和仓储的特殊要求和注意事项通知买方。 6.4 货物运抵指定地点时，卖方应向买方提供下列文件资料： 特别注意： 发货前，以电子邮件方式将上述文件资料电子版发至买方，待买方确认后方可安排发货； 货物运抵指定地点时，卖方应向买方提供上述文件资料各贰份；', 'meta_data': {'chunk': 1, 'chunk_size': 4957}, 'name': '05 压滤机滤布采购合同'}, {'content': '买方合同编号：AGJTH2024BJ-02 卖方合同编号： 订 货 合 同 项目名称：安阳钢铁集团有限责任公司 烧结机头灰资源化处置项目（运营） 子项名称：阀门 买方：湖南中冶长天节能环保技术有限公司 卖方：东亚阀门科技集团有限公司 合同签订时期：2024年3月 合同签订地点：湖南·长沙 廉洁协议 买方：湖南中冶长天节能环保技术有限公司 卖方：东亚阀门科技集团有限公司 根据党和国家有关法律法规的各项规定，为保持廉洁自律，倡导廉洁从业，有效遏制商业贿赂行为，防止在合同签订、履行中不廉洁行为的发生，经双方协商，订立本协议，相互约束。 第一条 买卖双方应当自觉遵守党和国家有关法律法规和有关廉洁自律的各项规定。 第二条 买方工作人员应当保持与卖方的正常工作和业务往来，不得接受卖方的礼金、有价证券和物品，不得在卖方报销任何应由私人支付的费用。 第三条 买方工作人员不得参加卖方的宴请和娱乐活动，不得违反廉洁从业的有关规定，不得接受任何形式的商业贿赂。 第四条 买方工作人员不得要求或接受卖方为其住房装修、婚丧嫁娶、家属和子女的工作安排及出国提供方便或任何形式的不当利益。 第五条 买方工作人员不得向卖方介绍家属或者亲友从事与本合同业务有关的经济活动。 第六条 卖方应当通过正常途径开展相关业务工作，不得向买方工作人员赠送礼金、有价证券和物品。 第七条 卖方不得为谋取私利擅自与买方工作人员私下商谈或者达成默契。 第八条 卖方不得以汇报工作、洽谈业务、签订经济合同为借口，邀请买方工作人员外出旅游、参加非正常交往的宴会、进入营业性娱乐场所。 第九条 卖方不得为买方单位和个人购置或提供通讯工具、交通工具、家具、办公用品等。 第十条 卖方如发现买方工作人员有违反上述协议者，应向买方领导或买方上级单位口头或书面举报（举报电话：中冶长天监察部 0731-82760729）。买方不得找任何借口对卖方进行报复。 第十一条 买方发现卖方有违反本协议或者采用前述不正当的手段对买方工作人员行贿或变相行贿，买方根据具体情节和造成的后果追究卖方合同标的或合同总金额1%-5%的违约金，由此给买方单位造成的损失均由卖方承担，卖方用不正当手段获取的非法所得由买方单位予以追缴，买方有权取消违反协议的卖方的投标资格或者单方面终止合同。情节严重的，列入黑名单，三年内不得进入长天市场。 第十二条 本协议作为合同附件，与该合同具有同等的法律效力。 买方（印章）： 卖方（印章）： 湖南中冶长天节能环保技术有限公司 东亚阀门科技集团有限公司 设备供应商安全管理协议书 为贯彻“安全第一，预防为主，综合治理”的方针，明确双方的安全责任，确保设备监制、检测、检验、备运输、卸车等过程人身和设备安全，实现安全生产目标，本着“双方平等、共同协商”的原则，并严格按照《中华人民共和国安全生产法》、《中华人民共和国建筑法》、《建设工程安全生产管理条例》、《安全生产许可证条例》以及现行有关安全生产法律、法规、标准，经双方协商一致签订本协议。 买方：湖南中冶长天节能环保技术有限公司 卖方：东亚阀门科技集团有限公司 第一条 工程项目： 安钢炼铁厂烧结机头烟气脱硫脱硝系统制酸废水处理项目项目 第二条 交货地址： 安阳钢铁股份有限公司 第三条 买方安全生产管理职责、权利和义务 1.买方负责卖方运输车辆、设备、材料、人员进入施工现场后安全生产管理，为卖方人员提供劳动防护用品，并对卖方人员进行安全生产教育培训。 2.卖方运输车辆进入施工现场时，买方负责组织、协助卖方办理入场手续。 3.买方和卖方办理设备、材料交货、验收手续后，由买方负责设备、材料的管理工作。 4.买方有权对卖方的违章指挥、违章作业给予罚款或其他形式的处罚。买方有权对安全意识差、不服从买方现场安全生产管理的卖方人员责令退场。 5.买方不得要求卖方违反安全管理规定在施工现场进行设备倒运、装卸等，因买方原因导致的事故由买方承担责任。 6.买方设备监制、检测、检验人员等进入卖方生产区域应遵守卖方的安全生产规章制度，服从卖方的安全生产管理。 第四条 卖方安全生产的职责、权利和义务 1.卖方负责己方运输车辆、设备、材料、人员等进入施工现场前的安全生产工作，并为此承担全部的安全生产责任和义务； 2.卖方应提供安全性能合格的产品； 3.卖方应对派遣到买方施工现场的司机、技术人员等进行安全生产教育培训； 4.卖方运输车辆进入施工现场时，卖方应按照业主和买方有关安全生产的规定办理入场手续； 5.卖方应认真贯彻国家安全生产方针、政策，严格执行安全生产有关法律法规，遵守业主、买方的安全生产规章制度。 6.卖方的运输车辆、设备、材料、人员进入施工现场后，应服从和配合买方的安全生产管理，并对违反买方安全管理规定承担相应的责任。 7.卖方负责对进入卖方生产区域的买方设备监制、检测、检验人员等进行安全生产管理，并为其提供劳动防护用品。 第五条 事故原因分析和责任追究的约定 1.卖方运输车辆、设备、材料、人员等进入施工现场前和卖方运输车辆、人员等离开施工现场后造成的人身伤害、环境污染、物品损坏等，完全由卖方负责处理； 2.卖方运输车辆、设备、材料、人员等进入施工现场后，因卖方责任造成的人身伤害、环境污染、物品损坏等，所产生的责任和经济损失由卖方承担，卖方应按照国家有关规定处理和报告； 3.卖方运输车辆、设备、材料、人员等进入施工现场后，因买方责任造成的人身伤害、环境污染、物品损坏等，所产生的责任和经济损失由买方承担，买方应按照国家相关规定处理和报告。 4.卖方运输车辆、设备、材料、人员等进入施工现场后，因项目相关方责任导致卖方人员、物品的损害，买方应配合卖方处理相关事项。 5.买方设备监制、检测、检验人员等进入卖方生产区域后，因买方责任导致的卖方人员、物品的损害，所产生的责任和经济损失由买方承担；因卖方责任导致的买方人员、物品的损害，所产生的责任和经济损失由卖方承担。 6.因对方的原因对己方造成的损失，买卖双方可追究对方的责任。 第六条 本协议执行过程中，如发生争议，双方应通过友好协商解决，协商不成时，在买方所在地的长沙仲裁委员会仲裁。 第七条 买卖双方必须严格执行本协议，本协议作为买卖双方采购合同的附件，与合同同时签订并具有同等法律效力。 第八条 本协议有效期限：自合同签订之日起至设备质量保证期到期止。 第九条 本协议经双方法定代表人或委托代理人签字盖章后生效。 第十条 本协议一式贰份，买卖双方各执壹份。 买方（印章）： 卖方（印章）： 湖南中冶长天节能环保技术有限公司 东亚阀门科技集团有限公司 法定代表人(签字)： 法定代表人(签字)： 或委托代理人(签字)： 或委托代理人(签字)： 年 月 日 年 月 日 合 同 双 方 湖南中冶长天节能环保技术有限公司增值税专用发票开具格式： 名 称：湖南中冶长天节能环保技术有限公司 纳税人识别号：914301005849395200 地址、 电话：长沙高新开发区麓松路480号 0731-82760997 开户行及帐号：浦发银行长沙东塘支行66050155200002468 合同签订时间： 2024年3月 合同签订地点：长沙 订 货 合 同 根据招标评标优选结果，湖南中冶长天节能环保技术公司（以下简称“买方”）与中标单位 东亚阀门科技集团有限公司 （以下简称“卖方”）双方经友好协商，同意按下述条款和条件签订本合同。 1 合同文件 下列合同文件是构成本合同不可分割的部分，与合同正文具有同等效力，其解释效力优先次序如下： 1.1 本合同文件及其附件； 1.2 技术协议、安全管理协议； 1.3 厂商协调会会议纪要； 1.4 投标人提交的经过评议审查修改后的投标文件及附件； 1.5 招标文件。 在合同执行过程中，如发生合同修改和补充所形成的“议定书”可视为合同的延伸，其解释效力优先于合同文件。 相同效力级别的文件存在冲突，以时间在后者为准。 2 合同范围和条件 本合同范围和条件应与上述合同文件规定的内容相一致。 3 供货范围和数量 卖方应当根据合同文件的要求完成本合同中规定产品的设计、制造、监制、交货；向买方交付产品相关资料和文件；提供符合合同文件规定的服务、培训等，该等技术服务包括但不限于：产品在安装期间派遣有丰富经验的技术人员指导安装，进行产品的指导调试，以及试生产期间的技术指导，派遣技术人员在现场处理、解决各类与产品有关的问题，直至产品投入正常运行，确保产品通过各项试验、试车和功能考核，满足买方的使用需求，质保期内质量问题的解决等。 3.1 最终供货一览表 3.2 本合同所提供的货物及数量应与上述合同文件规定的内容相一致。 3.3 本项目执行期内，如买方需向卖方补充订购供货一览表内某个型号的货物时，双方应按供货一览表内规定的单价签订订货合同。 3.5 卖方必须保证供货货物的完整性，必须是符合国家和行业有关现行有效标准及规范的全新合格产品。 3.6 卖方供货货物应是满足招标文件中各项指标的整台（套）货物，包括主机的辅机、附件、配套的产品、易损耗备品、图纸和资料、配件和安装、调试及运行中所需的专用工具、器具及仪器等，并提供其详细供应清单。 4 合同金额 根据上述合同文件要求，合同的总价为人民币 16520元（大写：壹万陆仟伍佰贰拾元），不含税总价为人民币14619.46元，税额为人民币1900.54元。 4.1 如果因国家规定的增值税税率调整导致卖方开票税率调整时，合同的不含税总价保持不变，合同含税总价根据开票税率相应调整，调整后的合同含税总价=合同不含税总价*（1+增值税开票税率）。 4.2 合同的总价包括设备费（含13%的增值税）、资料费、包装费、保险费、必要的商检费、到买方指定地点的运杂费等。 4.3 合同的总价为最终中标价，并为闭口价，即合同的总价不再因税率变化外的任何因素作调整。 5 货款支付 5.1 支付行实际支付款项之日应视为合同款项的实际支付日。 5.2 合同签订生效后， 5.3 货物全部或部分（如果被买方接受的话）在卖方现场验收合格并开具全额增值税发票后，买方在30天内支付设备合同总价的 90 %作为到货款，即人民币壹万肆仟捌佰陆拾捌元整。 5.4 其余设备合同总价10%作为设备质量保证金，质量保证期按第十二章“保证与担保”条款来计算。在合同货物质量保证期满后30天内，买方向卖方结清余款，若有扣款赔偿情况依合同处理。 5.5 买方每次向卖方办理支付货款手续时，卖方应出具有效收据。 5.6 有下列情况之一时，买方有权全部或部分拒付卖方应收款项： （1）单据不全； （2）卖方未返还本合同，未交付《技术协议》要求的所有资料和设备图纸或者所提交资料、图纸尚未经买方确认。 （3）货物未经买方阶段验收合格； （4）货物包装不合格造成损坏或未按合同基本条件要求包装； （5）未经买方书面同意擅自迟延交货； （6）未经买方书面同意卖方擅自变更交货方式； （7）根据合同文件规定卖方有违约责任。 5.7 买方的付款中，包括银行现汇和承兑汇票。 买方有权对卖方的该合同专款的用途进行检查，保证资金的合理使用。 6 交货时间、地点及交货方式 6.1 交货时间、地点及交货方式按“最终供货一览表”中的规定执行，特殊情况在本合同文件附件中进一步明确。 6.2 本合同采取指定地点交货方式，卖方负责办理运输、保险和必要的商检费等，将货物运抵指定地点。有关运输、保险和必要的商检费等的一切费用由卖方承担，货物运抵指定地点的日期为交货日期。 6.3 卖方应在合同规定的交货期届满前45天以特快专递或传真形式将合同号、货物名称、数量、包装箱件数、总毛重、总体积、设备最大件的重量和设备最大体积（长×宽×高）、准确交货日期以及对货物在运输和仓储的特殊要求和注意事项通知买方。 6.4 货物运抵指定地点时，卖方应向买方提供下列文件资料： 特别注意： 发货前，以电子邮件方式将上述文件资料电子版发至买方，待买方确认后方可安排发货； 货物运抵指定地点时，卖方应向买方提供上述文件资料各贰份；', 'meta_data': {'chunk': 1, 'chunk_size': 4954}, 'name': '02 阀门补充采购合同'}, {'content': '买方合同编号：AGJTH2023BJ-02 卖方合同编号： 订 货 合 同 项目名称：安阳钢铁集团有限责任公司 烧结机头灰资源化处置项目（运营） 子项名称：阀门 买方：湖南中冶长天节能环保技术有限公司 卖方：双恒阀门集团有限公司 合同签订时期：2023年 9月 合同签订地点：湖南·长沙 廉洁协议 买方：湖南中冶长天节能环保技术有限公司 卖方：双恒阀门集团有限公司 根据党和国家有关法律法规的各项规定，为保持廉洁自律，倡导廉洁从业，有效遏制商业贿赂行为，防止在合同签订、履行中不廉洁行为的发生，经双方协商，订立本协议，相互约束。 第一条 买卖双方应当自觉遵守党和国家有关法律法规和有关廉洁自律的各项规定。 第二条 买方工作人员应当保持与卖方的正常工作和业务往来，不得接受卖方的礼金、有价证券和物品，不得在卖方报销任何应由私人支付的费用。 第三条 买方工作人员不得参加卖方的宴请和娱乐活动，不得违反廉洁从业的有关规定，不得接受任何形式的商业贿赂。 第四条 买方工作人员不得要求或接受卖方为其住房装修、婚丧嫁娶、家属和子女的工作安排及出国提供方便或任何形式的不当利益。 第五条 买方工作人员不得向卖方介绍家属或者亲友从事与本合同业务有关的经济活动。 第六条 卖方应当通过正常途径开展相关业务工作，不得向买方工作人员赠送礼金、有价证券和物品。 第七条 卖方不得为谋取私利擅自与买方工作人员私下商谈或者达成默契。 第八条 卖方不得以汇报工作、洽谈业务、签订经济合同为借口，邀请买方工作人员外出旅游、参加非正常交往的宴会、进入营业性娱乐场所。 第九条 卖方不得为买方单位和个人购置或提供通讯工具、交通工具、家具、办公用品等。 第十条 卖方如发现买方工作人员有违反上述协议者，应向买方领导或买方上级单位口头或书面举报（举报电话：中冶长天监察部 0731-82760729）。买方不得找任何借口对卖方进行报复。 第十一条 买方发现卖方有违反本协议或者采用前述不正当的手段对买方工作人员行贿或变相行贿，买方根据具体情节和造成的后果追究卖方合同标的或合同总金额1%-5%的违约金，由此给买方单位造成的损失均由卖方承担，卖方用不正当手段获取的非法所得由买方单位予以追缴，买方有权取消违反协议的卖方的投标资格或者单方面终止合同。情节严重的，列入黑名单，三年内不得进入长天市场。 第十二条 本协议作为合同附件，与该合同具有同等的法律效力。 买方（印章）： 卖方（印章）： 湖南中冶长天节能环保技术有限公司 双恒阀门集团有限公司 设备供应商安全管理协议书 为贯彻“安全第一，预防为主，综合治理”的方针，明确双方的安全责任，确保设备监制、检测、检验、备运输、卸车等过程人身和设备安全，实现安全生产目标，本着“双方平等、共同协商”的原则，并严格按照《中华人民共和国安全生产法》、《中华人民共和国建筑法》、《建设工程安全生产管理条例》、《安全生产许可证条例》以及现行有关安全生产法律、法规、标准，经双方协商一致签订本协议。 买方：湖南中冶长天节能环保技术有限公司 卖方： 双恒阀门集团有限公司 第一条 工程项目：安阳钢铁烧结机头灰资源化处置项目工程 第二条 交货地址： 安阳钢铁集团有限责任公司厂区内 第三条 买方安全生产管理职责、权利和义务 1.买方负责卖方运输车辆、设备、材料、人员进入施工现场后安全生产管理，为卖方人员提供劳动防护用品，并对卖方人员进行安全生产教育培训。 2.卖方运输车辆进入施工现场时，买方负责组织、协助卖方办理入场手续。 3.买方和卖方办理设备、材料交货、验收手续后，由买方负责设备、材料的管理工作。 4.买方有权对卖方的违章指挥、违章作业给予罚款或其他形式的处罚。买方有权对安全意识差、不服从买方现场安全生产管理的卖方人员责令退场。 5.买方不得要求卖方违反安全管理规定在施工现场进行设备倒运、装卸等，因买方原因导致的事故由买方承担责任。 6.买方设备监制、检测、检验人员等进入卖方生产区域应遵守卖方的安全生产规章制度，服从卖方的安全生产管理。 第四条 卖方安全生产的职责、权利和义务 1.卖方负责己方运输车辆、设备、材料、人员等进入施工现场前的安全生产工作，并为此承担全部的安全生产责任和义务； 2.卖方应提供安全性能合格的产品； 3.卖方应对派遣到买方施工现场的司机、技术人员等进行安全生产教育培训； 4.卖方运输车辆进入施工现场时，卖方应按照业主和买方有关安全生产的规定办理入场手续； 5.卖方应认真贯彻国家安全生产方针、政策，严格执行安全生产有关法律法规，遵守业主、买方的安全生产规章制度。 6.卖方的运输车辆、设备、材料、人员进入施工现场后，应服从和配合买方的安全生产管理，并对违反买方安全管理规定承担相应的责任。 7.卖方负责对进入卖方生产区域的买方设备监制、检测、检验人员等进行安全生产管理，并为其提供劳动防护用品。 第五条 事故原因分析和责任追究的约定 1.卖方运输车辆、设备、材料、人员等进入施工现场前和卖方运输车辆、人员等离开施工现场后造成的人身伤害、环境污染、物品损坏等，完全由卖方负责处理； 2.卖方运输车辆、设备、材料、人员等进入施工现场后，因卖方责任造成的人身伤害、环境污染、物品损坏等，所产生的责任和经济损失由卖方承担，卖方应按照国家有关规定处理和报告； 3.卖方运输车辆、设备、材料、人员等进入施工现场后，因买方责任造成的人身伤害、环境污染、物品损坏等，所产生的责任和经济损失由买方承担，买方应按照国家相关规定处理和报告。 4.卖方运输车辆、设备、材料、人员等进入施工现场后，因项目相关方责任导致卖方人员、物品的损害，买方应配合卖方处理相关事项。 5.买方设备监制、检测、检验人员等进入卖方生产区域后，因买方责任导致的卖方人员、物品的损害，所产生的责任和经济损失由买方承担；因卖方责任导致的买方人员、物品的损害，所产生的责任和经济损失由卖方承担。 6.因对方的原因对己方造成的损失，买卖双方可追究对方的责任。 第六条 本协议执行过程中，如发生争议，双方应通过友好协商解决，协商不成时，在买方所在地的长沙仲裁委员会仲裁。 第七条 买卖双方必须严格执行本协议，本协议作为买卖双方采购合同的附件，与合同同时签订并具有同等法律效力。 第八条 本协议有效期限：自合同签订之日起至设备质量保证期到期止。 第九条 本协议经双方法定代表人或委托代理人签字盖章后生效。 第十条 本协议一式贰份，买卖双方各执壹份。 买方（印章）： 卖方（印章）： 湖南中冶长天节能环保技术有限公司 双恒阀门集团有限公司 法定代表人(签字)： 法定代表人(签字)： 或委托代理人(签字)： 或委托代理人(签字)： 年 月 日 年 月 日 合 同 双 方 湖南中冶长天节能环保技术有限公司增值税专用发票开具格式： 名 称：湖南中冶长天节能环保技术有限公司 纳税人识别号：914301005849395200 地址、 电话：长沙高新开发区麓松路480号 0731-82760997 开户行及帐号：浦发银行长沙东塘支行66050155200002468 合同签订时间： 2023年 9月 合同签订地点：长沙 订 货 合 同 根据招标评标优选结果，湖南中冶长天节能环保技术公司（以下简称“买方”）与中标单位 双恒阀门集团有限公司 （以下简称“卖方”）双方经友好协商，同意按下述条款和条件签订本合同。 1 合同文件 下列合同文件是构成本合同不可分割的部分，与合同正文具有同等效力，其解释效力优先次序如下： 1.1 本合同文件及其附件； 1.2 技术协议、安全管理协议； 1.3 厂商协调会会议纪要； 1.4 投标人提交的经过评议审查修改后的投标文件及附件； 1.5 招标文件。 在合同执行过程中，如发生合同修改和补充所形成的“议定书”可视为合同的延伸，其解释效力优先于合同文件。 相同效力级别的文件存在冲突，以时间在后者为准。 2 合同范围和条件 本合同范围和条件应与上述合同文件规定的内容相一致。 3 供货范围和数量 卖方应当根据合同文件的要求完成本合同中规定产品的设计、制造、监制、交货；向买方交付产品相关资料和文件；提供符合合同文件规定的服务、培训等，该等技术服务包括但不限于：产品在安装期间派遣有丰富经验的技术人员指导安装，进行产品的指导调试，以及试生产期间的技术指导，派遣技术人员在现场处理、解决各类与产品有关的问题，直至产品投入正常运行，确保产品通过各项试验、试车和功能考核，满足买方的使用需求，质保期内质量问题的解决等。 3.1 最终供货一览表 3.2 本合同所提供的货物及数量应与上述合同文件规定的内容相一致。 3.3 本项目执行期内，如买方需向卖方补充订购供货一览表内某个型号的货物时，双方应按供货一览表内规定的单价签订订货合同。 3.5 卖方必须保证供货货物的完整性，必须是符合国家和行业有关现行有效标准及规范的全新合格产品。 3.6 卖方供货货物应是满足招标文件中各项指标的整台（套）货物，包括主机的辅机、附件、配套的产品、易损耗备品、图纸和资料、配件和安装、调试及运行中所需的专用工具、器具及仪器等，并提供其详细供应清单。 4 合同金额 根据上述合同文件要求，合同的总价为人民币29550元（大写：贰万玖仟伍佰伍拾元）。不含税总价为人民币26150.44元 ，税额为人民币3399.56元 。 4.1 如果因国家规定的增值税税率调整导致卖方开票税率调整时，合同的不含税总价保持不变，合同含税总价根据开票税率相应调整，调整后的合同含税总价=合同不含税总价*（1+增值税开票税率）。 4.2 合同的总价包括设备费（含13%的增值税）、资料费、包装费、保险费、必要的商检费、到买方指定地点的运杂费等。 4.3 合同的总价为最终中标价，并为闭口价，即合同的总价不再因税率变化外的任何因素作调整。 5 货款支付 5.1 支付行实际支付款项之日应视为合同款项的实际支付日。 5.2卖方将全部货物按合同要求发至卖方现场，买方在30天内支付合同总价的 50 %作为到货款,即人民币 壹万肆仟柒佰柒拾伍 元整（大写）。 5.3 设备验收合格后2个月,买方在30天内支付设备合同总价的 40%，即人民币壹万壹仟捌佰贰拾 元整。 5.4 买方每次向卖方办理支付货款手续时，卖方应出具有效收据和等额的增值税发票 5.5 有下列情况之一时，买方有权全部或部分拒付卖方应收款项： （1）单据不全； （2）卖方未返还本合同，未交付《技术协议》要求的所有资料和设备图纸或者所提交资料、图纸尚未经买方确认。 （3）货物未经买方阶段验收合格； （4）货物包装不合格造成损坏或未按合同基本条件要求包装； （5）未经买方书面同意擅自迟延交货； （6）未经买方书面同意卖方擅自变更交货方式； （7）根据合同文件规定卖方有违约责任。 5.6 买方的付款中，包括银行现汇和电子银行承兑汇票。 买方有权对卖方的该合同专款的用途进行检查，保证资金的合理使用。 6 交货时间、地点及交货方式 6.1 交货时间、地点及交货方式按“最终供货一览表”中的规定执行，特殊情况在本合同文件附件中进一步明确。 6.2 本合同采取指定地点交货方式，卖方负责办理运输、保险和必要的商检费等，将货物运抵指定地点。有关运输、保险和必要的商检费等的一切费用由卖方承担，货物运抵指定地点的日期为交货日期。 6.3 卖方应在合同规定的交货期届满前45天以特快专递或传真形式将合同号、货物名称、数量、包装箱件数、总毛重、总体积、设备最大件的重量和设备最大体积（长×宽×高）、准确交货日期以及对货物在运输和仓储的特殊要求和注意事项通知买方。 6.4 货物运抵指定地点时，卖方应向买方提供下列文件资料： 特别注意： 发货前，以电子邮件方式将上述文件资料电子版发至买方，待买方确认后方可安排发货； 货物运抵指定地点时，卖方应向买方提供上述文件资料各贰份； 卖方必须以特快专递形式向买方提供上述文件资料肆份（含原件），以签收为准；如有遗失情况发生，卖方应无条件向买方补充提供 6.5', 'meta_data': {'chunk': 1, 'chunk_size': 4949}, 'name': '02 阀门采购合同'}, {'content': '买方合同编号：AGJTH2023BJ-04 卖方合同编号： 订 货 合 同 项目名称：安阳钢铁集团有限责任公司 烧结机头灰资源化处置项目（运营） 子项名称：循环泵备件 买方：湖南中冶长天节能环保技术有限公司 卖方：四川省自贡工业泵有限责任公司 合同签订时期：2023年11月 合同签订地点：湖南·长沙 廉洁协议 买方：湖南中冶长天节能环保技术有限公司 卖方：四川省自贡工业泵有限责任公司 根据党和国家有关法律法规的各项规定，为保持廉洁自律，倡导廉洁从业，有效遏制商业贿赂行为，防止在合同签订、履行中不廉洁行为的发生，经双方协商，订立本协议，相互约束。 第一条 买卖双方应当自觉遵守党和国家有关法律法规和有关廉洁自律的各项规定。 第二条 买方工作人员应当保持与卖方的正常工作和业务往来，不得接受卖方的礼金、有价证券和物品，不得在卖方报销任何应由私人支付的费用。 第三条 买方工作人员不得参加卖方的宴请和娱乐活动，不得违反廉洁从业的有关规定，不得接受任何形式的商业贿赂。 第四条 买方工作人员不得要求或接受卖方为其住房装修、婚丧嫁娶、家属和子女的工作安排及出国提供方便或任何形式的不当利益。 第五条 买方工作人员不得向卖方介绍家属或者亲友从事与本合同业务有关的经济活动。 第六条 卖方应当通过正常途径开展相关业务工作，不得向买方工作人员赠送礼金、有价证券和物品。 第七条 卖方不得为谋取私利擅自与买方工作人员私下商谈或者达成默契。 第八条 卖方不得以汇报工作、洽谈业务、签订经济合同为借口，邀请买方工作人员外出旅游、参加非正常交往的宴会、进入营业性娱乐场所。 第九条 卖方不得为买方单位和个人购置或提供通讯工具、交通工具、家具、办公用品等。 第十条 卖方如发现买方工作人员有违反上述协议者，应向买方领导或买方上级单位口头或书面举报（举报电话：中冶长天监察部 0731-82760729）。买方不得找任何借口对卖方进行报复。 第十一条 买方发现卖方有违反本协议或者采用前述不正当的手段对买方工作人员行贿或变相行贿，买方根据具体情节和造成的后果追究卖方合同标的或合同总金额1%-5%的违约金，由此给买方单位造成的损失均由卖方承担，卖方用不正当手段获取的非法所得由买方单位予以追缴，买方有权取消违反协议的卖方的投标资格或者单方面终止合同。情节严重的，列入黑名单，三年内不得进入长天市场。 第十二条 本协议作为合同附件，与该合同具有同等的法律效力。 买方（印章）： 卖方（印章）： 湖南中冶长天节能环保技术有限公司 四川省自贡工业泵有限责任公司 设备供应商安全管理协议书 为贯彻“安全第一，预防为主，综合治理”的方针，明确双方的安全责任，确保设备监制、检测、检验、备运输、卸车等过程人身和设备安全，实现安全生产目标，本着“双方平等、共同协商”的原则，并严格按照《中华人民共和国安全生产法》、《中华人民共和国建筑法》、《建设工程安全生产管理条例》、《安全生产许可证条例》以及现行有关安全生产法律、法规、标准，经双方协商一致签订本协议。 买方：湖南中冶长天节能环保技术有限公司 卖方：四川省自贡工业泵有限责任公司 第一条 工程项目： 安阳钢铁烧结机头灰资源化处置项目（运营） 第二条 交货地址： 安阳钢铁股份有限公司 第三条 买方安全生产管理职责、权利和义务 1.买方负责卖方运输车辆、设备、材料、人员进入施工现场后安全生产管理，为卖方人员提供劳动防护用品，并对卖方人员进行安全生产教育培训。 2.卖方运输车辆进入施工现场时，买方负责组织、协助卖方办理入场手续。 3.买方和卖方办理设备、材料交货、验收手续后，由买方负责设备、材料的管理工作。 4.买方有权对卖方的违章指挥、违章作业给予罚款或其他形式的处罚。买方有权对安全意识差、不服从买方现场安全生产管理的卖方人员责令退场。 5.买方不得要求卖方违反安全管理规定在施工现场进行设备倒运、装卸等，因买方原因导致的事故由买方承担责任。 6.买方设备监制、检测、检验人员等进入卖方生产区域应遵守卖方的安全生产规章制度，服从卖方的安全生产管理。 第四条 卖方安全生产的职责、权利和义务 1.卖方负责己方运输车辆、设备、材料、人员等进入施工现场前的安全生产工作，并为此承担全部的安全生产责任和义务； 2.卖方应提供安全性能合格的产品； 3.卖方应对派遣到买方施工现场的司机、技术人员等进行安全生产教育培训； 4.卖方运输车辆进入施工现场时，卖方应按照业主和买方有关安全生产的规定办理入场手续； 5.卖方应认真贯彻国家安全生产方针、政策，严格执行安全生产有关法律法规，遵守业主、买方的安全生产规章制度。 6.卖方的运输车辆、设备、材料、人员进入施工现场后，应服从和配合买方的安全生产管理，并对违反买方安全管理规定承担相应的责任。 7.卖方负责对进入卖方生产区域的买方设备监制、检测、检验人员等进行安全生产管理，并为其提供劳动防护用品。 第五条 事故原因分析和责任追究的约定 1.卖方运输车辆、设备、材料、人员等进入施工现场前和卖方运输车辆、人员等离开施工现场后造成的人身伤害、环境污染、物品损坏等，完全由卖方负责处理； 2.卖方运输车辆、设备、材料、人员等进入施工现场后，因卖方责任造成的人身伤害、环境污染、物品损坏等，所产生的责任和经济损失由卖方承担，卖方应按照国家有关规定处理和报告； 3.卖方运输车辆、设备、材料、人员等进入施工现场后，因买方责任造成的人身伤害、环境污染、物品损坏等，所产生的责任和经济损失由买方承担，买方应按照国家相关规定处理和报告。 4.卖方运输车辆、设备、材料、人员等进入施工现场后，因项目相关方责任导致卖方人员、物品的损害，买方应配合卖方处理相关事项。 5.买方设备监制、检测、检验人员等进入卖方生产区域后，因买方责任导致的卖方人员、物品的损害，所产生的责任和经济损失由买方承担；因卖方责任导致的买方人员、物品的损害，所产生的责任和经济损失由卖方承担。 6.因对方的原因对己方造成的损失，买卖双方可追究对方的责任。 第六条 本协议执行过程中，如发生争议，双方应通过友好协商解决，协商不成时，在买方所在地的长沙仲裁委员会仲裁。 第七条 买卖双方必须严格执行本协议，本协议作为买卖双方采购合同的附件，与合同同时签订并具有同等法律效力。 第八条 本协议有效期限：自合同签订之日起至设备质量保证期到期止。 第九条 本协议经双方法定代表人或委托代理人签字盖章后生效。 第十条 本协议一式贰份，买卖双方各执壹份。 买方（印章）： 卖方（印章）： 湖南中冶长天节能环保技术有限公司 四川省自贡工业泵有限责任公司 法定代表人(签字)： 法定代表人(签字)： 或委托代理人(签字)： 或委托代理人(签字)： 年 月 日 年 月 日 合 同 双 方 湖南中冶长天节能环保技术有限公司增值税专用发票开具格式： 名 称：湖南中冶长天节能环保技术有限公司 纳税人识别号：914301005849395200 地址、 电话：长沙高新开发区麓松路480号 0731-82760997 开户行及帐号：浦发银行长沙东塘支行66050155200002468 合同签订时间： 2023年11月 合同签订地点：长沙 订 货 合 同 根据招标评标优选结果，湖南中冶长天节能环保技术公司（以下简称“买方”）与中标单位 四川省自贡工业泵有限责任公司 （以下简称“卖方”）双方经友好协商，同意按下述条款和条件签订本合同。 1 合同文件 下列合同文件是构成本合同不可分割的部分，与合同正文具有同等效力，其解释效力优先次序如下： 1.1 本合同文件及其附件； 1.2 技术协议、安全管理协议； 1.3 厂商协调会会议纪要； 1.4 投标人提交的经过评议审查修改后的投标文件及附件； 1.5 招标文件。 在合同执行过程中，如发生合同修改和补充所形成的“议定书”可视为合同的延伸，其解释效力优先于合同文件。 相同效力级别的文件存在冲突，以时间在后者为准。 2 合同范围和条件 本合同范围和条件应与上述合同文件规定的内容相一致。 3 供货范围和数量 卖方应当根据合同文件的要求完成本合同中规定产品的设计、制造、监制、交货；向买方交付产品相关资料和文件；提供符合合同文件规定的服务、培训等，该等技术服务包括但不限于：产品在安装期间派遣有丰富经验的技术人员指导安装，进行产品的指导调试，以及试生产期间的技术指导，派遣技术人员在现场处理、解决各类与产品有关的问题，直至产品投入正常运行，确保产品通过各项试验、试车和功能考核，满足买方的使用需求，质保期内质量问题的解决等。 3.1 最终供货一览表 3.2 本合同所提供的货物及数量应与上述合同文件规定的内容相一致。 3.3 本项目执行期内，如买方需向卖方补充订购供货一览表内某个型号的货物时，双方应按供货一览表内规定的单价签订订货合同。 3.5 卖方必须保证供货货物的完整性，必须是符合国家和行业有关现行有效标准及规范的全新合格产品。 3.6 卖方供货货物应是满足招标文件中各项指标的整台（套）货物，包括主机的辅机、附件、配套的产品、易损耗备品、图纸和资料、配件和安装、调试及运行中所需的专用工具、器具及仪器等，并提供其详细供应清单。 4 合同金额 根据上述合同文件要求，合同的总价为人民币 30500元（大写：叁万零伍佰元），不含税总价为人民币26991.15元，税额为人民币3508.85元。 4.1 如果因国家规定的增值税税率调整导致卖方开票税率调整时，合同的不含税总价保持不变，合同含税总价根据开票税率相应调整，调整后的合同含税总价=合同不含税总价*（1+增值税开票税率）。 4.2 合同的总价包括设备费（含13%的增值税）、资料费、包装费、保险费、必要的商检费、到买方指定地点的运杂费等。 4.3 合同的总价为最终中标价，并为闭口价，即合同的总价不再因税率变化外的任何因素作调整。 5 货款支付 5.1 支付行实际支付款项之日应视为合同款项的实际支付日。 5.2 合同签订生效后， 5.3 货物全部或部分（如果被买方接受的话）在卖方现场验收合格并开具全额增值税发票后，买方在30天内支付设备合同总价的 100 %作为发货款，即人民币叁万零伍佰元整。 5.4 质量保证期按第十二章“保证与担保”条款来计算。在合同货物质量保证期满后30天内，买方向卖方结清余款，若有扣款赔偿情况依合同处理。 5.5 买方每次向卖方办理支付货款手续时，卖方应出具有效收据。 5.6 有下列情况之一时，买方有权全部或部分拒付卖方应收款项： （1）单据不全； （2）卖方未返还本合同，未交付《技术协议》要求的所有资料和设备图纸或者所提交资料、图纸尚未经买方确认。 （3）货物未经买方阶段验收合格； （4）货物包装不合格造成损坏或未按合同基本条件要求包装； （5）未经买方书面同意擅自迟延交货； （6）未经买方书面同意卖方擅自变更交货方式； （7）根据合同文件规定卖方有违约责任。 5.7 买方的付款中，包括银行现汇和承兑汇票。 买方有权对卖方的该合同专款的用途进行检查，保证资金的合理使用。 6 交货时间、地点及交货方式 6.1 交货时间、地点及交货方式按“最终供货一览表”中的规定执行，特殊情况在本合同文件附件中进一步明确。 6.2 本合同采取指定地点交货方式，卖方负责办理运输、保险和必要的商检费等，将货物运抵指定地点。有关运输、保险和必要的商检费等的一切费用由卖方承担，货物运抵指定地点的日期为交货日期。 6.3 卖方应在合同规定的交货期届满前45天以特快专递或传真形式将合同号、货物名称、数量、包装箱件数、总毛重、总体积、设备最大件的重量和设备最大体积（长×宽×高）、准确交货日期以及对货物在运输和仓储的特殊要求和注意事项通知买方。 6.4 货物运抵指定地点时，卖方应向买方提供下列文件资料： 特别注意： 发货前，以电子邮件方式将上述文件资料电子版发至买方，待买方确认后方可安排发货； 货物运抵指定地点时，卖方应向买方提供上述文件资料各贰份； 卖方必须以特快专递形式向买方提供上述文件资料肆份（含原件），以签收为准；如有遗失情况发生，卖方应无条件向买方补充提供 6.5', 'meta_data': {'chunk': 1, 'chunk_size': 5000}, 'name': '03 循环泵配件采购合同'}, {'content': '买方合同编号：AGJTH2024-04 卖方合同编号： 订 货 合 同 项目名称：安阳钢铁集团有限责任公司 烧结机头灰资源化处置项目（运营） 名 称：工艺渣浆泵及泵头机封 买方：湖南中冶长天节能环保技术有限公司 卖方：襄阳五二五泵业有限公司 合同签订时期：2024年10月 合同签订地点：长 沙 廉洁协议 买方：湖南中冶长天节能环保技术有限公司 卖方： 襄阳五二五泵业有限公司 根据党和国家有关法律法规的各项规定，为保持廉洁自律，倡导廉洁从业，有效遏制商业贿赂行为，防止在合同签订、履行中不廉洁行为的发生，经双方协商，订立本协议，相互约束。 第一条 买卖双方应当自觉遵守党和国家有关法律法规和有关廉洁自律的各项规定。 第二条 买方工作人员应当保持与卖方的正常工作和业务往来，不得接受卖方的礼金、有价证券和物品，不得在卖方报销任何应由私人支付的费用。 第三条 买方工作人员不得参加卖方的宴请和娱乐活动，不得违反廉洁从业的有关规定，不得接受任何形式的商业贿赂。 第四条 买方工作人员不得要求或接受卖方为其住房装修、婚丧嫁娶、家属和子女的工作安排及出国提供方便或任何形式的不当利益。 第五条 买方工作人员不得向卖方介绍家属或者亲友从事与本合同业务有关的经济活动。 第六条 卖方应当通过正常途径开展相关业务工作，不得向买方工作人员赠送礼金、有价证券和物品。 第七条 卖方不得为谋取私利擅自与买方工作人员私下商谈或者达成默契。 第八条 卖方不得以汇报工作、洽谈业务、签订经济合同为借口，邀请买方工作人员外出旅游、参加非正常交往的宴会、进入营业性娱乐场所。 第九条 卖方不得为买方单位和个人购置或提供通讯工具、交通工具、家具、办公用品等。 第十条 卖方如发现买方工作人员有违反上述协议者，应向买方领导或买方上级单位口头或书面举报（举报电话：中冶长天监察部 0731-82760729）。买方不得找任何借口对卖方进行报复。 第十一条 买方发现卖方有违反本协议或者采用前述不正当的手段对买方工作人员行贿或变相行贿，买方根据具体情节和造成的后果追究卖方合同标的或合同总金额1%-5%的违约金，由此给买方单位造成的损失均由卖方承担，卖方用不正当手段获取的非法所得由买方单位予以追缴，买方有权取消违反协议的卖方的投标资格或者单方面终止合同。情节严重的，列入黑名单，三年内不得进入长天市场。 第十二条 本协议作为合同附件，与该合同具有同等的法律效力。 甲方（印章）： 乙方（印章）： 湖南中冶长天节能环保技术有限公司 襄阳五二五泵业有限公司 设备供应商安全管理协议书 为贯彻“安全第一，预防为主，综合治理”的方针，明确双方的安全责任，确保设备监制、检测、检验、备运输、卸车等过程人身和设备安全，实现安全生产目标，本着“双方平等、共同协商”的原则，并严格按照《中华人民共和国安全生产法》、《中华人民共和国建筑法》、《建设工程安全生产管理条例》、《安全生产许可证条例》以及现行有关安全生产法律、法规、标准，经双方协商一致签订本协议。 买方：湖南中冶长天节能环保技术有限公司 卖方：襄阳五二五泵业有限公司 第一条 工程项目： 安阳钢铁烧结机头灰资源化处置项目工程 第二条 交货地址： 安阳钢铁集团有限责任公司厂区内 第三条 买方安全生产管理职责、权利和义务 1.买方负责卖方运输车辆、设备、材料、人员进入施工现场后安全生产管理，为卖方人员提供劳动防护用品，并对卖方人员进行安全生产教育培训。 2.卖方运输车辆进入施工现场时，买方负责组织、协助卖方办理入场手续。 3.买方和卖方办理设备、材料交货、验收手续后，由买方负责设备、材料的管理工作。 4.买方有权对卖方的违章指挥、违章作业给予罚款或其他形式的处罚。买方有权对安全意识差、不服从买方现场安全生产管理的卖方人员责令退场。 5.买方不得要求卖方违反安全管理规定在施工现场进行设备倒运、装卸等，因买方原因导致的事故由买方承担责任。 6.买方设备监制、检测、检验人员等进入卖方生产区域应遵守卖方的安全生产规章制度，服从卖方的安全生产管理。 第四条 卖方安全生产的职责、权利和义务 1.卖方负责己方运输车辆、设备、材料、人员等进入施工现场前的安全生产工作，并为此承担全部的安全生产责任和义务； 2.卖方应提供安全性能合格的产品； 3.卖方应对派遣到买方施工现场的司机、技术人员等进行安全生产教育培训； 4.卖方运输车辆进入施工现场时，卖方应按照业主和买方有关安全生产的规定办理入场手续； 5.卖方应认真贯彻国家安全生产方针、政策，严格执行安全生产有关法律法规，遵守业主、买方的安全生产规章制度。 6.卖方的运输车辆、设备、材料、人员进入施工现场后，应服从和配合买方的安全生产管理，并对违反买方安全管理规定承担相应的责任。 7.卖方负责对进入卖方生产区域的买方设备监制、检测、检验人员等进行安全生产管理，并为其提供劳动防护用品。 第五条 事故原因分析和责任追究的约定 1.卖方运输车辆、设备、材料、人员等进入施工现场前和卖方运输车辆、人员等离开施工现场后造成的人身伤害、环境污染、物品损坏等，完全由卖方负责处理； 2.卖方运输车辆、设备、材料、人员等进入施工现场后，因卖方责任造成的人身伤害、环境污染、物品损坏等，所产生的责任和经济损失由卖方承担，卖方应按照国家有关规定处理和报告； 3.卖方运输车辆、设备、材料、人员等进入施工现场后，因买方责任造成的人身伤害、环境污染、物品损坏等，所产生的责任和经济损失由买方承担，买方应按照国家相关规定处理和报告。 4.卖方运输车辆、设备、材料、人员等进入施工现场后，因项目相关方责任导致卖方人员、物品的损害，买方应配合卖方处理相关事项。 5.买方设备监制、检测、检验人员等进入卖方生产区域后，因买方责任导致的卖方人员、物品的损害，所产生的责任和经济损失由买方承担；因卖方责任导致的买方人员、物品的损害，所产生的责任和经济损失由卖方承担。 6.因对方的原因对己方造成的损失，买卖双方可追究对方的责任。 第六条 本协议执行过程中，如发生争议，双方应通过友好协商解决，协商不成时，在买方所在地的长沙仲裁委员会仲裁。 第七条 买卖双方必须严格执行本协议，本协议作为买卖双方采购合同的附件，与合同同时签订并具有同等法律效力。 第八条 本协议有效期限：自合同签订之日起至设备质量保证期到期止。 第九条 本协议经双方法定代表人或委托代理人签字盖章后生效。 第十条 本协议一式贰份，买卖双方各执壹份。 买方（印章）： 卖方（印章）： 湖南中冶长天节能环保技术有限公司 法定代表人(签字)： 法定代表人(签字)： 或委托代理人(签字)： 或委托代理人(签字)： 年 月 日 年 月 日 合 同 双 方 买方：湖南中冶长天节能环保 开户银行：浦发银行长沙东塘支行 技术有限公司 （印章） 帐 号：66050155200002468 法定代表人： 单位地址：长沙市岳麓区节庆路7号 委托代理人： 电 话：0731—82760794 传 真：0731—82760649 联 系 人： 电子邮箱：23932814@qq.com 卖方：襄阳五二五泵业 开户银行： 中国工商银行股份有 有限公司 限公司襄阳万达广场支行 （印章） 帐 号：1804002209026012223 单位地址：湖北省襄阳市高新区新光路2号 委托代理人： 电 话：0710-3566525 传 真：0710-3560788 联 系 人： 邮 箱：songgd@525pump.com 湖南中冶长天节能环保技术有限公司增值税专用发票开具格式： 名 称：湖南中冶长天节能环保技术有限公司 纳税人识别号：914301005849395200 地址、 电话：长沙高新开发区麓松路480号 0731-82760997 开户行及帐号：浦发银行长沙东塘支行66050155200002468 合同签订时间： 2024年10月 合同签订地点：长沙 订 货 合 同 根据招标评标优选结果，湖南中冶长天节能环保技术有限公司（以下简称“买方”）与中标单位襄阳五二五泵业有限公司（以下简称“卖方”）双方经友好协商，同意按下述条款和条件签定本合同。 1 合同文件 下列合同文件是构成本合同不可分割的部分，与合同正文具有同等效力，其解释效力优先次序如下： 1.1 本合同文件及其附件； 1.2 技术协议； 1.3 厂商协调会会议纪要； 1.4 投标人提交的经过评议审查修改后的投标文件及附件； 1.5 招标文件（包括商务文件和技术文件）。 在合同执行过程中，如发生合同修改和补充所形成的“议定书”可视为合同的延伸，其解释效力优先于合同文件。 相同效力级别的文件存在冲突，以时间在后者为准。 2 合同范围和条件 本合同范围和条件应与上述合同文件规定的内容相一致。 3 供货范围和数量 卖方应当根据合同文件的要求完成本合同中规定产品的设计、制造、监制、交货；向买方交付产品相关资料和文件；提供符合合同文件规定的服务、培训等，该等技术服务包括但不限于：产品在安装期间派遣有丰富经验的技术人员指导安装，进行产品的指导调试，以及试生产期间的技术指导，派遣技术人员在现场处理、解决各类与产品有关的问题，直至产品投入正常运行，确保产品通过各项试验、试车和功能考核，满足买方的使用需求，质保期内质量问题的解决等。 3.1 最终供货一览表 3.2 本合同所提供的货物及数量应与上述合同文件规定的内容相一致。 3.3 本项目执行期内，如买方需向卖方补充订购供货一览表内某个型号的货物时，双方应按供货一览表内规定的单价签订订货合同。 3.5 卖方必须保证供货货物的完整性，必须是符合国家和行业有关现行有效标准及规范的全新合格产品。 3.6 卖方供货货物应是满足招标文件中各项指标的整台（套）货物，包括主机的辅机、附件、配套的产品、易损耗备品、图纸和资料、配件和安装、调试及运行中所需的专用工具、器具及仪器等，并提供其详细供应清单。 4 合同金额 根据上述合同文件要求，合同的总价为人民币 30430.00元（大写：叁万零肆佰叁拾元），不含税总价为人民币26929.2元，税额为人民币3500.8元。 4.1 如果因国家规定的增值税税率调整导致卖方开票税率调整时，合同的不含税总价保持不变，合同含税总价根据开票税率相应调整，调整后的合同含税总价=合同不含税总价*（1+增值税开票税率）。 4.2 合同的总价包括设备费（含13%的增值税）、资料费、包装费、保险费、必要的商检费、到买方指定地点的运杂费等。 4.3 合同的总价为最终中标价，并为闭口价，即合同的总价不再因税率变化外的任何因素作调整。 5 货款支付 5.1 支付行实际支付款项之日应视为合同款项的实际支付日。 5.2 合同签订生效后， 5.2卖方将全部货物按合同要求发至卖方现场并开具全额增值税发票后，买方在30天内支付合同总价的 70 %作为到货款,即人民币 贰万壹仟叁佰零壹 元整（大写）。 5.3 设备验收合格后2个月,买方在30天内支付设备合同总价的 30%，即人民币 玖仟壹佰贰拾玖 元整。 5.4 质量保证期按第十二章“保证与担保”条款来计算。在合同货物质量保证期满后30天内，买方向卖方结清余款，若有扣款赔偿情况依合同处理。 5.5 买方每次向卖方办理支付货款手续时，卖方应出具有效收据。 5.6 有下列情况之一时，买方有权全部或部分拒付卖方应收款项： （1）单据不全； （2）卖方未返还本合同，未交付《技术协议》要求的所有资料和设备图纸或者所提交资料、图纸尚未经买方确认。 （3）货物未经买方阶段验收合格； （4）货物包装不合格造成损坏或未按合同基本条件要求包装； （5）未经买方书面同意擅自迟延交货； （6）未经买方书面同意卖方擅自变更交货方式； （7）根据合同文件规定卖方有违约责任。 5.7 买方的付款中，包括银行现汇和承兑汇票。 买方有权对卖方的该合同专款的用途进行检查，保证资金的合理使用。 6 交货时间、地点及交货方式 6.1 交货时间、地点及交货方式按“最终供货一览表”中的规定执行，特殊情况在本合同文件附件中进一步明确。 6.2', 'meta_data': {'chunk': 1, 'chunk_size': 4984}, 'name': '04 渣浆泵备件采购合同'}], time=0.3025)], add_messages=None, reasoning_steps=None, reasoning_messages=None), created_at=1748565377)"
      ]
     },
     "execution_count": 121,
     "metadata": {},
     "output_type": "execute_result"
    }
   ],
   "source": [
    "agent.run(\"烧结机头合同采购了哪些设备\", markdown=True)"
   ]
  },
  {
   "cell_type": "code",
   "execution_count": 126,
   "id": "8084fe04",
   "metadata": {},
   "outputs": [
    {
     "data": {
      "text/html": [
       "<pre style=\"white-space:pre;overflow-x:auto;line-height:normal;font-family:Menlo,'DejaVu Sans Mono',consolas,'Courier New',monospace\"><span style=\"color: #000080; text-decoration-color: #000080\">INFO</span> Found <span style=\"color: #008080; text-decoration-color: #008080; font-weight: bold\">5</span> documents                                                                                             \n",
       "</pre>\n"
      ],
      "text/plain": [
       "\u001b[34mINFO\u001b[0m Found \u001b[1;36m5\u001b[0m documents                                                                                             \n"
      ]
     },
     "metadata": {},
     "output_type": "display_data"
    },
    {
     "name": "stdout",
     "output_type": "stream",
     "text": [
      "\n",
      "\n",
      "根据提供的参考资料，烧结机头相关合同采购的设备及供应商如下：\n",
      "\n",
      "### 1. **压滤机滤布**\n",
      "   - **合同编号**：AGJTH2024BJ-05  \n",
      "   - **供应商**：景津装备股份有限公司  \n",
      "   - **项目**：安阳钢铁烧结机头烟气脱硫脱硝系统制酸废水处理项目  \n",
      "   - **合同金额**：含税总价21,156元（人民币）  \n",
      "\n",
      "---\n",
      "\n",
      "### 2. **阀门**\n",
      "   - **合同编号**：AGJTH2024BJ-02（补充采购）、AGJTH2023BJ-02（首次采购）  \n",
      "   - **供应商**：东亚阀门科技集团有限公司、双恒阀门集团有限公司  \n",
      "   - **项目**：烧结机头灰资源化处置项目  \n",
      "   - **合同金额**：  \n",
      "     - 补充采购：16,520元（人民币）  \n",
      "     - 首次采购：29,550元（人民币）  \n",
      "\n",
      "---\n",
      "\n",
      "### 3. **循环泵备件**\n",
      "   - **合同编号**：AGJTH2023BJ-04  \n",
      "   - **供应商**：四川省自贡工业泵有限责任公司  \n",
      "   - **项目**：烧结机头灰资源化处置项目  \n",
      "   - **合同金额**：30,500元（人民币）  \n",
      "\n",
      "---\n",
      "\n",
      "### 4. **工艺渣浆泵及泵头机封**\n",
      "   - **合同编号**：AGJTH2024-04  \n",
      "   - **供应商**：襄阳五二五泵业有限公司  \n",
      "   - **项目**：烧结机头灰资源化处置项目  \n",
      "   - **合同金额**：30,430元（人民币）  \n",
      "\n",
      "---\n",
      "\n",
      "### 总结\n",
      "烧结机头合同采购的设备包括：  \n",
      "1. 压滤机滤布（景津装备）  \n",
      "2. 阀门（东亚阀门、双恒阀门）  \n",
      "3. 循环泵备件（自贡工业泵）  \n",
      "4. 工艺渣浆泵及泵头机封（襄阳五二五泵业）  \n",
      "\n",
      "这些设备均服务于安阳钢铁烧结机头灰资源化处置项目。"
     ]
    }
   ],
   "source": [
    "# Run agent and return the response as a stream\n",
    "response_stream: Iterator[RunResponse] = agent.run(\"烧结机头合同采购了哪些设备\", stream=True)\n",
    "for chunk in response_stream:\n",
    "    print(chunk.content,end=\"\", flush=True)"
   ]
  },
  {
   "cell_type": "code",
   "execution_count": 2,
   "id": "498bdf2e",
   "metadata": {},
   "outputs": [],
   "source": [
    "import lancedb"
   ]
  },
  {
   "cell_type": "code",
   "execution_count": 3,
   "id": "e8dfbf74",
   "metadata": {},
   "outputs": [
    {
     "name": "stdout",
     "output_type": "stream",
     "text": [
      "LanceDB connected at: e:\\PythonProject\\LLM-Explore\\src\\agent\\agno-usage\\knowledge\\tmp\\contact_vectors.lancedb\n"
     ]
    }
   ],
   "source": [
    "db_path = \"tmp/contact_vectors.lancedb\"\n",
    "# --- 1. 连接/创建 LanceDB 数据库 ---\n",
    "db = lancedb.connect(db_path)\n",
    "print(f\"LanceDB connected at: {db.uri}\")"
   ]
  },
  {
   "cell_type": "code",
   "execution_count": null,
   "id": "9672a52b",
   "metadata": {},
   "outputs": [
    {
     "name": "stdout",
     "output_type": "stream",
     "text": [
      "Error opening table 'contact_vectors': Table 'contact_vectors' was not found\n",
      "Available tables: []\n"
     ]
    },
    {
     "ename": "",
     "evalue": "",
     "output_type": "error",
     "traceback": [
      "\u001b[1;31mThe Kernel crashed while executing code in the current cell or a previous cell. \n",
      "\u001b[1;31mPlease review the code in the cell(s) to identify a possible cause of the failure. \n",
      "\u001b[1;31mClick <a href='https://aka.ms/vscodeJupyterKernelCrash'>here</a> for more info. \n",
      "\u001b[1;31mView Jupyter <a href='command:jupyter.viewOutput'>log</a> for further details."
     ]
    }
   ],
   "source": [
    "# --- 2. 打开表 ---\n",
    "table_name = \"contact_vectors\" # 你之前创建的表名\n",
    "try:\n",
    "    table = db.open_table(table_name)\n",
    "    print(f\"Successfully opened table: '{table.name}'\")\n",
    "    print(f\"Table schema: {table.schema}\")\n",
    "    print(f\"Number of rows in table: {len(table)}\")\n",
    "except Exception as e:\n",
    "    print(f\"Error opening table '{table_name}': {e}\")\n",
    "    print(f\"Available tables: {db.table_names()}\")\n",
    "    exit()"
   ]
  },
  {
   "cell_type": "code",
   "execution_count": null,
   "id": "334b06d4",
   "metadata": {},
   "outputs": [],
   "source": [
    "import json\n",
    "\n",
    "def read_and_decode_table(db, table_name):\n",
    "    table = db.open_table(table_name)\n",
    "    df = table.to_pandas()\n",
    "    \n",
    "    if 'payload' not in df.columns:\n",
    "        raise ValueError(\"DataFrame中缺少'payload'列\")\n",
    "    \n",
    "    # 解析payload字符串为字典\n",
    "    df['parsed_payload'] = df['payload'].apply(\n",
    "        lambda x: json.loads(x) if isinstance(x, str) else x\n",
    "    )\n",
    "    \n",
    "    # 直接提取已解码的字段值\n",
    "    df['name_cn'] = df['parsed_payload'].apply(\n",
    "        lambda x: x.get('name') if isinstance(x, dict) else None\n",
    "    )\n",
    "    \n",
    "    df['content_cn'] = df['parsed_payload'].apply(\n",
    "        lambda x: x.get('content') if isinstance(x, dict) else None\n",
    "    )\n",
    "    \n",
    "    # 可选：删除临时解析列\n",
    "    df = df.drop(columns=['parsed_payload'])\n",
    "    \n",
    "    return df"
   ]
  },
  {
   "cell_type": "code",
   "execution_count": 1,
   "id": "da43afca",
   "metadata": {},
   "outputs": [
    {
     "ename": "NameError",
     "evalue": "name 'read_and_decode_table' is not defined",
     "output_type": "error",
     "traceback": [
      "\u001b[31m---------------------------------------------------------------------------\u001b[39m",
      "\u001b[31mNameError\u001b[39m                                 Traceback (most recent call last)",
      "\u001b[36mCell\u001b[39m\u001b[36m \u001b[39m\u001b[32mIn[1]\u001b[39m\u001b[32m, line 1\u001b[39m\n\u001b[32m----> \u001b[39m\u001b[32m1\u001b[39m data = \u001b[43mread_and_decode_table\u001b[49m(db, table_name)\n\u001b[32m      2\u001b[39m data\n",
      "\u001b[31mNameError\u001b[39m: name 'read_and_decode_table' is not defined"
     ]
    }
   ],
   "source": [
    "data = read_and_decode_table(db, table_name)\n",
    "data"
   ]
  },
  {
   "cell_type": "code",
   "execution_count": null,
   "id": "66b5c443",
   "metadata": {},
   "outputs": [
    {
     "data": {
      "text/plain": [
       "'买方合同编号：AGJTH2023BJ-01 卖方合同编号： 订 货 合 同 项目名称：安阳钢铁集团有限责任公司 烧结机头灰资源化处置项目（运营） 子项名称：浆液泵泵头 买方：湖南中冶长天节能环保技术有限公司 卖方：襄阳五二五泵业有限公司 合同签订时期：2023年 8月 合同签订地点：湖南·长沙 廉洁协议 买方：湖南中冶长天节能环保技术有限公司 卖方：襄阳五二五泵业有限公司 根据党和国家有关法律法规的各项规定，为保持廉洁自律，倡导廉洁从业，有效遏制商业贿赂行为，防止在合同签订、履行中不廉洁行为的发生，经双方协商，订立本协议，相互约束。 第一条 买卖双方应当自觉遵守党和国家有关法律法规和有关廉洁自律的各项规定。 第二条 买方工作人员应当保持与卖方的正常工作和业务往来，不得接受卖方的礼金、有价证券和物品，不得在卖方报销任何应由私人支付的费用。 第三条 买方工作人员不得参加卖方的宴请和娱乐活动，不得违反廉洁从业的有关规定，不得接受任何形式的商业贿赂。 第四条 买方工作人员不得要求或接受卖方为其住房装修、婚丧嫁娶、家属和子女的工作安排及出国提供方便或任何形式的不当利益。 第五条 买方工作人员不得向卖方介绍家属或者亲友从事与本合同业务有关的经济活动。 第六条 卖方应当通过正常途径开展相关业务工作，不得向买方工作人员赠送礼金、有价证券和物品。 第七条 卖方不得为谋取私利擅自与买方工作人员私下商谈或者达成默契。 第八条 卖方不得以汇报工作、洽谈业务、签订经济合同为借口，邀请买方工作人员外出旅游、参加非正常交往的宴会、进入营业性娱乐场所。 第九条 卖方不得为买方单位和个人购置或提供通讯工具、交通工具、家具、办公用品等。 第十条 卖方如发现买方工作人员有违反上述协议者，应向买方领导或买方上级单位口头或书面举报（举报电话：中冶长天监察部 0731-82760729）。买方不得找任何借口对卖方进行报复。 第十一条 买方发现卖方有违反本协议或者采用前述不正当的手段对买方工作人员行贿或变相行贿，买方根据具体情节和造成的后果追究卖方合同标的或合同总金额1%-5%的违约金，由此给买方单位造成的损失均由卖方承担，卖方用不正当手段获取的非法所得由买方单位予以追缴，买方有权取消违反协议的卖方的投标资格或者单方面终止合同。情节严重的，列入黑名单，三年内不得进入长天市场。 第十二条 本协议作为合同附件，与该合同具有同等的法律效力。 买方（印章）： 卖方（印章）： 湖南中冶长天节能环保技术有限公司 襄阳五二五泵业有限公司 设备供应商安全管理协议书 为贯彻“安全第一，预防为主，综合治理”的方针，明确双方的安全责任，确保设备监制、检测、检验、备运输、卸车等过程人身和设备安全，实现安全生产目标，本着“双方平等、共同协商”的原则，并严格按照《中华人民共和国安全生产法》、《中华人民共和国建筑法》、《建设工程安全生产管理条例》、《安全生产许可证条例》以及现行有关安全生产法律、法规、标准，经双方协商一致签订本协议。 买方：湖南中冶长天节能环保技术有限公司 卖方： 襄阳五二五泵业有限公司 第一条 工程项目：安阳钢铁烧结机头灰资源化处置项目工程 第二条 交货地址： 安阳钢铁集团有限责任公司厂区内 第三条 买方安全生产管理职责、权利和义务 1.买方负责卖方运输车辆、设备、材料、人员进入施工现场后安全生产管理，为卖方人员提供劳动防护用品，并对卖方人员进行安全生产教育培训。 2.卖方运输车辆进入施工现场时，买方负责组织、协助卖方办理入场手续。 3.买方和卖方办理设备、材料交货、验收手续后，由买方负责设备、材料的管理工作。 4.买方有权对卖方的违章指挥、违章作业给予罚款或其他形式的处罚。买方有权对安全意识差、不服从买方现场安全生产管理的卖方人员责令退场。 5.买方不得要求卖方违反安全管理规定在施工现场进行设备倒运、装卸等，因买方原因导致的事故由买方承担责任。 6.买方设备监制、检测、检验人员等进入卖方生产区域应遵守卖方的安全生产规章制度，服从卖方的安全生产管理。 第四条 卖方安全生产的职责、权利和义务 1.卖方负责己方运输车辆、设备、材料、人员等进入施工现场前的安全生产工作，并为此承担全部的安全生产责任和义务； 2.卖方应提供安全性能合格的产品； 3.卖方应对派遣到买方施工现场的司机、技术人员等进行安全生产教育培训； 4.卖方运输车辆进入施工现场时，卖方应按照业主和买方有关安全生产的规定办理入场手续； 5.卖方应认真贯彻国家安全生产方针、政策，严格执行安全生产有关法律法规，遵守业主、买方的安全生产规章制度。 6.卖方的运输车辆、设备、材料、人员进入施工现场后，应服从和配合买方的安全生产管理，并对违反买方安全管理规定承担相应的责任。 7.卖方负责对进入卖方生产区域的买方设备监制、检测、检验人员等进行安全生产管理，并为其提供劳动防护用品。 第五条 事故原因分析和责任追究的约定 1.卖方运输车辆、设备、材料、人员等进入施工现场前和卖方运输车辆、人员等离开施工现场后造成的人身伤害、环境污染、物品损坏等，完全由卖方负责处理； 2.卖方运输车辆、设备、材料、人员等进入施工现场后，因卖方责任造成的人身伤害、环境污染、物品损坏等，所产生的责任和经济损失由卖方承担，卖方应按照国家有关规定处理和报告； 3.卖方运输车辆、设备、材料、人员等进入施工现场后，因买方责任造成的人身伤害、环境污染、物品损坏等，所产生的责任和经济损失由买方承担，买方应按照国家相关规定处理和报告。 4.卖方运输车辆、设备、材料、人员等进入施工现场后，因项目相关方责任导致卖方人员、物品的损害，买方应配合卖方处理相关事项。 5.买方设备监制、检测、检验人员等进入卖方生产区域后，因买方责任导致的卖方人员、物品的损害，所产生的责任和经济损失由买方承担；因卖方责任导致的买方人员、物品的损害，所产生的责任和经济损失由卖方承担。 6.因对方的原因对己方造成的损失，买卖双方可追究对方的责任。 第六条 本协议执行过程中，如发生争议，双方应通过友好协商解决，协商不成时，在买方所在地的长沙仲裁委员会仲裁。 第七条 买卖双方必须严格执行本协议，本协议作为买卖双方采购合同的附件，与合同同时签订并具有同等法律效力。 第八条 本协议有效期限：自合同签订之日起至设备质量保证期到期止。 第九条 本协议经双方法定代表人或委托代理人签字盖章后生效。 第十条 本协议一式贰份，买卖双方各执壹份。 买方（印章）： 卖方（印章）： 湖南中冶长天节能环保技术有限公司 襄阳五二五泵业有限公司 法定代表人(签字)： 法定代表人(签字)： 或委托代理人(签字)： 或委托代理人(签字)： 年 月 日 年 月 日 合 同 双 方 湖南中冶长天节能环保技术有限公司增值税专用发票开具格式： 名 称：湖南中冶长天节能环保技术有限公司 纳税人识别号：914301005849395200 地址、 电话：长沙高新开发区麓松路480号 0731-82760997 开户行及帐号：浦发银行长沙东塘支行66050155200002468 合同签订时间： 2023年 8月 合同签订地点：长沙 订 货 合 同 根据招标评标优选结果，湖南中冶长天节能环保技术公司（以下简称“买方”）与中标单位 襄阳五二五泵业有限公司 （以下简称“卖方”）双方经友好协商，同意按下述条款和条件签订本合同。 1 合同文件 下列合同文件是构成本合同不可分割的部分，与合同正文具有同等效力，其解释效力优先次序如下： 1.1 本合同文件及其附件； 1.2 技术协议、安全管理协议； 1.3 厂商协调会会议纪要； 1.4 投标人提交的经过评议审查修改后的投标文件及附件； 1.5 招标文件。 在合同执行过程中，如发生合同修改和补充所形成的“议定书”可视为合同的延伸，其解释效力优先于合同文件。 相同效力级别的文件存在冲突，以时间在后者为准。 2 合同范围和条件 本合同范围和条件应与上述合同文件规定的内容相一致。 3 供货范围和数量 卖方应当根据合同文件的要求完成本合同中规定产品的设计、制造、监制、交货；向买方交付产品相关资料和文件；提供符合合同文件规定的服务、培训等，该等技术服务包括但不限于：产品在安装期间派遣有丰富经验的技术人员指导安装，进行产品的指导调试，以及试生产期间的技术指导，派遣技术人员在现场处理、解决各类与产品有关的问题，直至产品投入正常运行，确保产品通过各项试验、试车和功能考核，满足买方的使用需求，质保期内质量问题的解决等。 3.1 最终供货一览表 3.2 本合同所提供的货物及数量应与上述合同文件规定的内容相一致。 3.3 本项目执行期内，如买方需向卖方补充订购供货一览表内某个型号的货物时，双方应按供货一览表内规定的单价签订订货合同。 3.5 卖方必须保证供货货物的完整性，必须是符合国家和行业有关现行有效标准及规范的全新合格产品。 3.6 卖方供货货物应是满足招标文件中各项指标的整台（套）货物，包括主机的辅机、附件、配套的产品、易损耗备品、图纸和资料、配件和安装、调试及运行中所需的专用工具、器具及仪器等，并提供其详细供应清单。 4 合同金额 根据上述合同文件要求，合同的总价为人民币100000元（大写：壹拾万元）。不含税总价为人民币88495.58 ，税额为人民币11504.42 。 4.1 如果因国家规定的增值税税率调整导致卖方开票税率调整时，合同的不含税总价保持不变，合同含税总价根据开票税率相应调整，调整后的合同含税总价=合同不含税总价*（1+增值税开票税率）。 4.2 合同的总价包括设备费（含13%的增值税）、资料费、包装费、保险费、必要的商检费、到买方指定地点的运杂费等。 4.3 合同的总价为最终中标价，并为闭口价，即合同的总价不再因税率变化外的任何因素作调整。 5 货款支付 5.1 支付行实际支付款项之日应视为合同款项的实际支付日。 5.2卖方将全部货物按合同要求发至卖方现场，买方在30天内支付合同总价的 70 %作为到货款,即人民币 柒万 元整（大写）。 5.3 设备验收合格后2个月,买方在30天内支付设备合同总价的 30%，即人民币 叁万 元整。 5.4 买方每次向卖方办理支付货款手续时，卖方应出具有效收据和等额的增值税发票 5.5 有下列情况之一时，买方有权全部或部分拒付卖方应收款项： （1）单据不全； （2）卖方未返还本合同，未交付《技术协议》要求的所有资料和设备图纸或者所提交资料、图纸尚未经买方确认。 （3）货物未经买方阶段验收合格； （4）货物包装不合格造成损坏或未按合同基本条件要求包装； （5）未经买方书面同意擅自迟延交货； （6）未经买方书面同意卖方擅自变更交货方式； （7）根据合同文件规定卖方有违约责任。 5.6 买方的付款中，包括银行现汇和电子银行承兑汇票。 买方有权对卖方的该合同专款的用途进行检查，保证资金的合理使用。 6 交货时间、地点及交货方式 6.1 交货时间、地点及交货方式按“最终供货一览表”中的规定执行，特殊情况在本合同文件附件中进一步明确。 6.2 本合同采取指定地点交货方式，卖方负责办理运输、保险和必要的商检费等，将货物运抵指定地点。有关运输、保险和必要的商检费等的一切费用由卖方承担，货物运抵指定地点的日期为交货日期。 6.3 卖方应在合同规定的交货期届满前45天以特快专递或传真形式将合同号、货物名称、数量、包装箱件数、总毛重、总体积、设备最大件的重量和设备最大体积（长×宽×高）、准确交货日期以及对货物在运输和仓储的特殊要求和注意事项通知买方。 6.4 货物运抵指定地点时，卖方应向买方提供下列文件资料： 特别注意： 发货前，以电子邮件方式将上述文件资料电子版发至买方，待买方确认后方可安排发货； 货物运抵指定地点时，卖方应向买方提供上述文件资料各贰份； 卖方必须以特快专递形式向买方提供上述文件资料肆份（含原件），以签收为准；如有遗失情况发生，卖方应无条件向买方补充提供 6.5'"
      ]
     },
     "execution_count": 107,
     "metadata": {},
     "output_type": "execute_result"
    }
   ],
   "source": [
    "data.iloc[0]['content_cn']"
   ]
  },
  {
   "cell_type": "code",
   "execution_count": 111,
   "id": "d9f3dd5c",
   "metadata": {},
   "outputs": [
    {
     "data": {
      "text/plain": [
       "4954"
      ]
     },
     "execution_count": 111,
     "metadata": {},
     "output_type": "execute_result"
    }
   ],
   "source": [
    "len(data.iloc[3]['content_cn'])"
   ]
  },
  {
   "cell_type": "code",
   "execution_count": null,
   "id": "47605f7c",
   "metadata": {},
   "outputs": [],
   "source": []
  }
 ],
 "metadata": {
  "kernelspec": {
   "display_name": "Python 3",
   "language": "python",
   "name": "python3"
  },
  "language_info": {
   "codemirror_mode": {
    "name": "ipython",
    "version": 3
   },
   "file_extension": ".py",
   "mimetype": "text/x-python",
   "name": "python",
   "nbconvert_exporter": "python",
   "pygments_lexer": "ipython3",
   "version": "3.13.2"
  }
 },
 "nbformat": 4,
 "nbformat_minor": 5
}
