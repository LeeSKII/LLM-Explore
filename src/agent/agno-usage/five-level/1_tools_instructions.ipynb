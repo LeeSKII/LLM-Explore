{
 "cells": [
  {
   "cell_type": "code",
   "execution_count": 2,
   "id": "bf7db72e",
   "metadata": {},
   "outputs": [],
   "source": [
    "from agno.agent import Agent\n",
    "from agno.models.openai.like import OpenAILike\n",
    "from agno.tools.reasoning import ReasoningTools\n",
    "from agno.tools import tool\n",
    "import random\n",
    "import logging\n",
    "\n",
    "# logging.basicConfig(format='%(asctime)s [%(levelname)s] %(name)s:%(filename)s:%(lineno)d - %(message)s',datefmt='%Y-%m-%d %H:%M:%S',level=logging.DEBUG) \n",
    "\n",
    "#------------------ settings ------------------\n",
    "import os\n",
    "from dotenv import load_dotenv\n",
    "load_dotenv()\n",
    "api_key=os.getenv(\"QWEN_API_KEY\")\n",
    "base_url=os.getenv(\"QWEN_API_BASE_URL\")\n",
    "local_base_url = 'http://192.168.0.166:8000/v1'\n",
    "local_model_name = 'Qwen3-235B'\n",
    "model_name = 'qwen-plus-latest'\n",
    "\n",
    "local_settings = {\n",
    "  'api_key' : '123',\n",
    "  'base_url' : local_base_url,\n",
    "  'id' : local_model_name\n",
    "}\n",
    "\n",
    "qwen_settings = {\n",
    "  'api_key' : api_key,\n",
    "  'base_url' : base_url,\n",
    "  'id' : model_name\n",
    "}\n",
    "\n",
    "settings = qwen_settings\n",
    "#------------------ settings ------------------"
   ]
  },
  {
   "cell_type": "code",
   "execution_count": 3,
   "id": "24e0a3da",
   "metadata": {},
   "outputs": [],
   "source": [
    "# 大多数情况下编写定义工具，通过tool decorator装饰器装饰\n",
    "# @tool(show_result=True, stop_after_tool_call=True)\n",
    "@tool()\n",
    "def get_weather(city:str)->str:\n",
    "    '''Get the weather of a city.'''\n",
    "    weather_condition = ['Sunny', 'Cloudy', 'Rainy', 'Snowy']\n",
    "    return random.choice(weather_condition)"
   ]
  },
  {
   "cell_type": "code",
   "execution_count": 4,
   "id": "927ca82d",
   "metadata": {},
   "outputs": [],
   "source": [
    "# reasoning tools 提供了think 和 analyze 两个tool，显式设置add_instructions=True，会在system_prompt中添加框架自带的这两个tools使用的instruction指令\n",
    "# 相当于教模型如何去reasoning\n",
    "# 如果再设置add_few_shot=True，则会在system_prompt中添加框架自带的few_shot_example到system_prompt中\n",
    "agent = Agent(model=OpenAILike(**settings),telemetry=False,tools=[get_weather,ReasoningTools(add_instructions=True,add_few_shot=True)],markdown=True,debug_mode=True)"
   ]
  },
  {
   "cell_type": "code",
   "execution_count": 5,
   "id": "1d2f1990",
   "metadata": {},
   "outputs": [
    {
     "data": {
      "text/html": [
       "<pre style=\"white-space:pre;overflow-x:auto;line-height:normal;font-family:Menlo,'DejaVu Sans Mono',consolas,'Courier New',monospace\"><span style=\"color: #008000; text-decoration-color: #008000\">DEBUG</span> ****** Agent ID: <span style=\"color: #ffff00; text-decoration-color: #ffff00\">3cb3106c-ed55-4b40-85f4-892f88831f37</span> ******                                                 \n",
       "</pre>\n"
      ],
      "text/plain": [
       "\u001b[32mDEBUG\u001b[0m ****** Agent ID: \u001b[93m3cb3106c-ed55-4b40-85f4-892f88831f37\u001b[0m ******                                                 \n"
      ]
     },
     "metadata": {},
     "output_type": "display_data"
    },
    {
     "data": {
      "text/html": [
       "<pre style=\"white-space:pre;overflow-x:auto;line-height:normal;font-family:Menlo,'DejaVu Sans Mono',consolas,'Courier New',monospace\"><span style=\"color: #008000; text-decoration-color: #008000\">DEBUG</span> ***** Session ID: <span style=\"color: #ffff00; text-decoration-color: #ffff00\">9c87d803-2000-459a-988e-39a5f0418b7f</span> *****                                                 \n",
       "</pre>\n"
      ],
      "text/plain": [
       "\u001b[32mDEBUG\u001b[0m ***** Session ID: \u001b[93m9c87d803-2000-459a-988e-39a5f0418b7f\u001b[0m *****                                                 \n"
      ]
     },
     "metadata": {},
     "output_type": "display_data"
    },
    {
     "data": {
      "text/html": [
       "<pre style=\"white-space:pre;overflow-x:auto;line-height:normal;font-family:Menlo,'DejaVu Sans Mono',consolas,'Courier New',monospace\"><span style=\"color: #008000; text-decoration-color: #008000\">DEBUG</span> Processing tools for model                                                                                   \n",
       "</pre>\n"
      ],
      "text/plain": [
       "\u001b[32mDEBUG\u001b[0m Processing tools for model                                                                                   \n"
      ]
     },
     "metadata": {},
     "output_type": "display_data"
    },
    {
     "data": {
      "text/html": [
       "<pre style=\"white-space:pre;overflow-x:auto;line-height:normal;font-family:Menlo,'DejaVu Sans Mono',consolas,'Courier New',monospace\"><span style=\"color: #008000; text-decoration-color: #008000\">DEBUG</span> Added tool get_weather                                                                                       \n",
       "</pre>\n"
      ],
      "text/plain": [
       "\u001b[32mDEBUG\u001b[0m Added tool get_weather                                                                                       \n"
      ]
     },
     "metadata": {},
     "output_type": "display_data"
    },
    {
     "data": {
      "text/html": [
       "<pre style=\"white-space:pre;overflow-x:auto;line-height:normal;font-family:Menlo,'DejaVu Sans Mono',consolas,'Courier New',monospace\"><span style=\"color: #008000; text-decoration-color: #008000\">DEBUG</span> Added tool think from reasoning_tools                                                                        \n",
       "</pre>\n"
      ],
      "text/plain": [
       "\u001b[32mDEBUG\u001b[0m Added tool think from reasoning_tools                                                                        \n"
      ]
     },
     "metadata": {},
     "output_type": "display_data"
    },
    {
     "data": {
      "text/html": [
       "<pre style=\"white-space:pre;overflow-x:auto;line-height:normal;font-family:Menlo,'DejaVu Sans Mono',consolas,'Courier New',monospace\"><span style=\"color: #008000; text-decoration-color: #008000\">DEBUG</span> Added tool analyze from reasoning_tools                                                                      \n",
       "</pre>\n"
      ],
      "text/plain": [
       "\u001b[32mDEBUG\u001b[0m Added tool analyze from reasoning_tools                                                                      \n"
      ]
     },
     "metadata": {},
     "output_type": "display_data"
    },
    {
     "data": {
      "text/html": [
       "<pre style=\"white-space:pre;overflow-x:auto;line-height:normal;font-family:Menlo,'DejaVu Sans Mono',consolas,'Courier New',monospace\"><span style=\"color: #008000; text-decoration-color: #008000\">DEBUG</span> ** Agent Run Start: <span style=\"color: #ffff00; text-decoration-color: #ffff00\">b951ee91-a3df-40e9-9ee5-cd7b7c641612</span> ***                                                 \n",
       "</pre>\n"
      ],
      "text/plain": [
       "\u001b[32mDEBUG\u001b[0m ** Agent Run Start: \u001b[93mb951ee91-a3df-40e9-9ee5-cd7b7c641612\u001b[0m ***                                                 \n"
      ]
     },
     "metadata": {},
     "output_type": "display_data"
    },
    {
     "data": {
      "text/html": [
       "<pre style=\"white-space:pre;overflow-x:auto;line-height:normal;font-family:Menlo,'DejaVu Sans Mono',consolas,'Courier New',monospace\"><span style=\"color: #008000; text-decoration-color: #008000\">DEBUG</span> ------------------ OpenAI Response Start -------------------                                                 \n",
       "</pre>\n"
      ],
      "text/plain": [
       "\u001b[32mDEBUG\u001b[0m ------------------ OpenAI Response Start -------------------                                                 \n"
      ]
     },
     "metadata": {},
     "output_type": "display_data"
    },
    {
     "data": {
      "text/html": [
       "<pre style=\"white-space:pre;overflow-x:auto;line-height:normal;font-family:Menlo,'DejaVu Sans Mono',consolas,'Courier New',monospace\"><span style=\"color: #008000; text-decoration-color: #008000\">DEBUG</span> ----------------- Model: qwen-plus-latest ------------------                                                 \n",
       "</pre>\n"
      ],
      "text/plain": [
       "\u001b[32mDEBUG\u001b[0m ----------------- Model: qwen-plus-latest ------------------                                                 \n"
      ]
     },
     "metadata": {},
     "output_type": "display_data"
    },
    {
     "data": {
      "text/html": [
       "<pre style=\"white-space:pre;overflow-x:auto;line-height:normal;font-family:Menlo,'DejaVu Sans Mono',consolas,'Courier New',monospace\"><span style=\"color: #008000; text-decoration-color: #008000\">DEBUG</span> ========================== system ==========================                                                 \n",
       "</pre>\n"
      ],
      "text/plain": [
       "\u001b[32mDEBUG\u001b[0m ========================== system ==========================                                                 \n"
      ]
     },
     "metadata": {},
     "output_type": "display_data"
    },
    {
     "data": {
      "text/html": [
       "<pre style=\"white-space:pre;overflow-x:auto;line-height:normal;font-family:Menlo,'DejaVu Sans Mono',consolas,'Courier New',monospace\"><span style=\"color: #008000; text-decoration-color: #008000\">DEBUG</span> <span style=\"font-weight: bold\">&lt;</span><span style=\"color: #ff00ff; text-decoration-color: #ff00ff; font-weight: bold\">additional_information</span><span style=\"color: #000000; text-decoration-color: #000000\">&gt;</span>                                                                                     \n",
       "      <span style=\"color: #000000; text-decoration-color: #000000\">- Use markdown to format your answers.</span>                                                                       \n",
       "      <span style=\"color: #000000; text-decoration-color: #000000\">&lt;</span><span style=\"color: #800080; text-decoration-color: #800080\">/</span><span style=\"color: #ff00ff; text-decoration-color: #ff00ff\">additional_information</span><span style=\"color: #000000; text-decoration-color: #000000\">&gt;</span>                                                                                    \n",
       "                                                                                                                   \n",
       "      <span style=\"color: #000000; text-decoration-color: #000000\">&lt;reasoning_instructions&gt;</span>                                                                                     \n",
       "      <span style=\"color: #000000; text-decoration-color: #000000\">You have access to the `think` and `analyze` tools to work through problems step-by-step and structure your </span> \n",
       "      <span style=\"color: #000000; text-decoration-color: #000000\">thought process. You must ALWAYS `think` before making tool calls or generating a response.</span>                  \n",
       "                                                                                                                   \n",
       "      <span style=\"color: #008080; text-decoration-color: #008080; font-weight: bold\">1</span><span style=\"color: #000000; text-decoration-color: #000000\">. **Think** </span><span style=\"color: #000000; text-decoration-color: #000000; font-weight: bold\">(</span><span style=\"color: #000000; text-decoration-color: #000000\">scratchpad</span><span style=\"color: #000000; text-decoration-color: #000000; font-weight: bold\">)</span><span style=\"color: #000000; text-decoration-color: #000000\">:</span>                                                                                   \n",
       "      <span style=\"color: #000000; text-decoration-color: #000000\">    - Purpose: Use the `think` tool as a scratchpad to break down complex problems, outline steps, and decide</span>\n",
       "      <span style=\"color: #000000; text-decoration-color: #000000\">on immediate actions within your reasoning flow. Use this to structure your internal monologue.</span>              \n",
       "      <span style=\"color: #000000; text-decoration-color: #000000\">    - Usage: Call `think` before making tool calls or generating a response. Explain your reasoning and </span>     \n",
       "      <span style=\"color: #000000; text-decoration-color: #000000\">specify the intended action </span><span style=\"color: #000000; text-decoration-color: #000000; font-weight: bold\">(</span><span style=\"color: #000000; text-decoration-color: #000000\">e.g., </span><span style=\"color: #008000; text-decoration-color: #008000\">\"make a tool call\"</span><span style=\"color: #000000; text-decoration-color: #000000\">, </span><span style=\"color: #008000; text-decoration-color: #008000\">\"perform calculation\"</span><span style=\"color: #000000; text-decoration-color: #000000\">, </span><span style=\"color: #008000; text-decoration-color: #008000\">\"ask clarifying question\"</span><span style=\"color: #000000; text-decoration-color: #000000; font-weight: bold\">)</span><span style=\"color: #000000; text-decoration-color: #000000\">.</span>    \n",
       "                                                                                                                   \n",
       "      <span style=\"color: #008080; text-decoration-color: #008080; font-weight: bold\">2</span><span style=\"color: #000000; text-decoration-color: #000000\">. **Analyze** </span><span style=\"color: #000000; text-decoration-color: #000000; font-weight: bold\">(</span><span style=\"color: #000000; text-decoration-color: #000000\">evaluation</span><span style=\"color: #000000; text-decoration-color: #000000; font-weight: bold\">)</span><span style=\"color: #000000; text-decoration-color: #000000\">:</span>                                                                                 \n",
       "      <span style=\"color: #000000; text-decoration-color: #000000\">    - Purpose: Evaluate the result of a think step or a set of tool calls. Assess if the result is expected, </span>\n",
       "      <span style=\"color: #000000; text-decoration-color: #000000\">sufficient, or requires further investigation.</span>                                                               \n",
       "      <span style=\"color: #000000; text-decoration-color: #000000\">    - Usage: Call `analyze` after a set of tool calls. Determine the `next_action` based on your analysis: </span>  \n",
       "      <span style=\"color: #000000; text-decoration-color: #000000\">`continue` </span><span style=\"color: #000000; text-decoration-color: #000000; font-weight: bold\">(</span><span style=\"color: #000000; text-decoration-color: #000000\">more reasoning needed</span><span style=\"color: #000000; text-decoration-color: #000000; font-weight: bold\">)</span><span style=\"color: #000000; text-decoration-color: #000000\">, `validate` </span><span style=\"color: #000000; text-decoration-color: #000000; font-weight: bold\">(</span><span style=\"color: #000000; text-decoration-color: #000000\">seek external confirmation/validation if possible</span><span style=\"color: #000000; text-decoration-color: #000000; font-weight: bold\">)</span><span style=\"color: #000000; text-decoration-color: #000000\">, or </span>      \n",
       "      <span style=\"color: #000000; text-decoration-color: #000000\">`final_answer` </span><span style=\"color: #000000; text-decoration-color: #000000; font-weight: bold\">(</span><span style=\"color: #000000; text-decoration-color: #000000\">ready to conclude</span><span style=\"color: #000000; text-decoration-color: #000000; font-weight: bold\">)</span><span style=\"color: #000000; text-decoration-color: #000000\">.</span>                                                                          \n",
       "      <span style=\"color: #000000; text-decoration-color: #000000\">    - Explain your reasoning highlighting whether the result is correct/sufficient.</span>                          \n",
       "                                                                                                                   \n",
       "      <span style=\"color: #000000; text-decoration-color: #000000\">## IMPORTANT GUIDELINES</span>                                                                                      \n",
       "      <span style=\"color: #000000; text-decoration-color: #000000\">- **Always Think First:** You MUST use the `think` tool before making tool calls or generating a response.</span>   \n",
       "      <span style=\"color: #000000; text-decoration-color: #000000\">- **Iterate to Solve:** Use the `think` and `analyze` tools iteratively to build a clear reasoning path. The </span>\n",
       "      <span style=\"color: #000000; text-decoration-color: #000000\">typical flow is `Think` -&gt; </span><span style=\"color: #000000; text-decoration-color: #000000; font-weight: bold\">[</span><span style=\"color: #000000; text-decoration-color: #000000\">`Tool Calls` if needed</span><span style=\"color: #000000; text-decoration-color: #000000; font-weight: bold\">]</span><span style=\"color: #000000; text-decoration-color: #000000\"> -&gt; </span><span style=\"color: #000000; text-decoration-color: #000000; font-weight: bold\">[</span><span style=\"color: #000000; text-decoration-color: #000000\">`Analyze` if needed</span><span style=\"color: #000000; text-decoration-color: #000000; font-weight: bold\">]</span><span style=\"color: #000000; text-decoration-color: #000000\"> -&gt; </span><span style=\"color: #808000; text-decoration-color: #808000\">...</span><span style=\"color: #000000; text-decoration-color: #000000\"> -&gt; `final_answer`. Repeat</span>\n",
       "      <span style=\"color: #000000; text-decoration-color: #000000\">this cycle until you reach a satisfactory conclusion.</span>                                                        \n",
       "      <span style=\"color: #000000; text-decoration-color: #000000\">- **Make multiple tool calls in parallel:** After a `think` step, you can make multiple tool calls in </span>       \n",
       "      <span style=\"color: #000000; text-decoration-color: #000000\">parallel.</span>                                                                                                    \n",
       "      <span style=\"color: #000000; text-decoration-color: #000000\">- **Keep Thoughts Internal:** The reasoning steps </span><span style=\"color: #000000; text-decoration-color: #000000; font-weight: bold\">(</span><span style=\"color: #000000; text-decoration-color: #000000\">thoughts and analyses</span><span style=\"color: #000000; text-decoration-color: #000000; font-weight: bold\">)</span><span style=\"color: #000000; text-decoration-color: #000000\"> are for your internal process only.</span>\n",
       "      <span style=\"color: #000000; text-decoration-color: #000000\">Do not share them directly with the user.</span>                                                                    \n",
       "      <span style=\"color: #000000; text-decoration-color: #000000\">- **Conclude Clearly:** When your analysis determines the `next_action` is `final_answer`, provide a concise </span>\n",
       "      <span style=\"color: #000000; text-decoration-color: #000000\">and accurate final answer to the user.</span>                                                                       \n",
       "                                                                                                                   \n",
       "      <span style=\"color: #000000; text-decoration-color: #000000\">Below are examples demonstrating how to use the `think` and `analyze` tools.</span>                                 \n",
       "                                                                                                                   \n",
       "      <span style=\"color: #000000; text-decoration-color: #000000\">### Examples</span>                                                                                                 \n",
       "                                                                                                                   \n",
       "      <span style=\"color: #000000; text-decoration-color: #000000\">**Example </span><span style=\"color: #008080; text-decoration-color: #008080; font-weight: bold\">1</span><span style=\"color: #000000; text-decoration-color: #000000\">: Simple Fact Retrieval**</span>                                                                         \n",
       "                                                                                                                   \n",
       "      <span style=\"color: #000000; text-decoration-color: #000000\">*User Request:* How many continents are there on Earth?</span>                                                      \n",
       "                                                                                                                   \n",
       "      <span style=\"color: #000000; text-decoration-color: #000000\">*Agent's Internal Process:*</span>                                                                                  \n",
       "                                                                                                                   \n",
       "      <span style=\"color: #000000; text-decoration-color: #000000\">```tool_call</span>                                                                                                 \n",
       "      <span style=\"color: #800080; text-decoration-color: #800080; font-weight: bold\">think</span><span style=\"color: #000000; text-decoration-color: #000000; font-weight: bold\">(</span>                                                                                                       \n",
       "      <span style=\"color: #000000; text-decoration-color: #000000\">  </span><span style=\"color: #808000; text-decoration-color: #808000\">title</span><span style=\"color: #000000; text-decoration-color: #000000\">=</span><span style=\"color: #008000; text-decoration-color: #008000\">\"Understand Request\"</span><span style=\"color: #000000; text-decoration-color: #000000\">,</span>                                                                                \n",
       "      <span style=\"color: #000000; text-decoration-color: #000000\">  </span><span style=\"color: #808000; text-decoration-color: #808000\">thought</span><span style=\"color: #000000; text-decoration-color: #000000\">=</span><span style=\"color: #008000; text-decoration-color: #008000\">\"The user wants to know the standard number of continents on Earth. This is a common piece of </span>     \n",
       "      <span style=\"color: #008000; text-decoration-color: #008000\">knowledge.\"</span><span style=\"color: #000000; text-decoration-color: #000000\">,</span>                                                                                                 \n",
       "      <span style=\"color: #000000; text-decoration-color: #000000\">  </span><span style=\"color: #808000; text-decoration-color: #808000\">action</span><span style=\"color: #000000; text-decoration-color: #000000\">=</span><span style=\"color: #008000; text-decoration-color: #008000\">\"Recall or verify the number of continents.\"</span><span style=\"color: #000000; text-decoration-color: #000000\">,</span>                                                       \n",
       "      <span style=\"color: #000000; text-decoration-color: #000000\">  </span><span style=\"color: #808000; text-decoration-color: #808000\">confidence</span><span style=\"color: #000000; text-decoration-color: #000000\">=</span><span style=\"color: #008080; text-decoration-color: #008080; font-weight: bold\">0.95</span>                                                                                            \n",
       "      <span style=\"color: #000000; text-decoration-color: #000000; font-weight: bold\">)</span>                                                                                                            \n",
       "      <span style=\"color: #000000; text-decoration-color: #000000\">```</span>                                                                                                          \n",
       "      <span style=\"color: #000000; text-decoration-color: #000000\">*--</span><span style=\"color: #000000; text-decoration-color: #000000; font-weight: bold\">(</span><span style=\"color: #000000; text-decoration-color: #000000\">Agent internally recalls the fact</span><span style=\"color: #000000; text-decoration-color: #000000; font-weight: bold\">)</span><span style=\"color: #000000; text-decoration-color: #000000\">--*</span>                                                                    \n",
       "      <span style=\"color: #000000; text-decoration-color: #000000\">```tool_call</span>                                                                                                 \n",
       "      <span style=\"color: #800080; text-decoration-color: #800080; font-weight: bold\">analyze</span><span style=\"color: #000000; text-decoration-color: #000000; font-weight: bold\">(</span>                                                                                                     \n",
       "      <span style=\"color: #000000; text-decoration-color: #000000\">  </span><span style=\"color: #808000; text-decoration-color: #808000\">title</span><span style=\"color: #000000; text-decoration-color: #000000\">=</span><span style=\"color: #008000; text-decoration-color: #008000\">\"Evaluate Fact\"</span><span style=\"color: #000000; text-decoration-color: #000000\">,</span>                                                                                     \n",
       "      <span style=\"color: #000000; text-decoration-color: #000000\">  </span><span style=\"color: #808000; text-decoration-color: #808000\">result</span><span style=\"color: #000000; text-decoration-color: #000000\">=</span><span style=\"color: #008000; text-decoration-color: #008000\">\"Standard geographical models list 7 continents: Africa, Antarctica, Asia, Australia, Europe, North </span>\n",
       "      <span style=\"color: #008000; text-decoration-color: #008000\">America, South America.\"</span><span style=\"color: #000000; text-decoration-color: #000000\">,</span>                                                                                    \n",
       "      <span style=\"color: #000000; text-decoration-color: #000000\">  </span><span style=\"color: #808000; text-decoration-color: #808000\">analysis</span><span style=\"color: #000000; text-decoration-color: #000000\">=</span><span style=\"color: #008000; text-decoration-color: #008000\">\"The recalled information directly answers the user's question accurately.\"</span><span style=\"color: #000000; text-decoration-color: #000000\">,</span>                      \n",
       "      <span style=\"color: #000000; text-decoration-color: #000000\">  </span><span style=\"color: #808000; text-decoration-color: #808000\">next_action</span><span style=\"color: #000000; text-decoration-color: #000000\">=</span><span style=\"color: #008000; text-decoration-color: #008000\">\"final_answer\"</span><span style=\"color: #000000; text-decoration-color: #000000\">,</span>                                                                                \n",
       "      <span style=\"color: #000000; text-decoration-color: #000000\">  </span><span style=\"color: #808000; text-decoration-color: #808000\">confidence</span><span style=\"color: #000000; text-decoration-color: #000000\">=</span><span style=\"color: #008080; text-decoration-color: #008080; font-weight: bold\">1.0</span>                                                                                             \n",
       "      <span style=\"color: #000000; text-decoration-color: #000000; font-weight: bold\">)</span>                                                                                                            \n",
       "      <span style=\"color: #000000; text-decoration-color: #000000\">```</span>                                                                                                          \n",
       "                                                                                                                   \n",
       "      <span style=\"color: #000000; text-decoration-color: #000000\">*Agent's Final Answer to User:*</span>                                                                              \n",
       "      <span style=\"color: #000000; text-decoration-color: #000000\">There are </span><span style=\"color: #008080; text-decoration-color: #008080; font-weight: bold\">7</span><span style=\"color: #000000; text-decoration-color: #000000\"> continents on Earth: Africa, Antarctica, Asia, Australia, Europe, North America, and South </span>      \n",
       "      <span style=\"color: #000000; text-decoration-color: #000000\">America.</span>                                                                                                     \n",
       "                                                                                                                   \n",
       "      <span style=\"color: #000000; text-decoration-color: #000000\">**Example </span><span style=\"color: #008080; text-decoration-color: #008080; font-weight: bold\">2</span><span style=\"color: #000000; text-decoration-color: #000000\">: Multi-Step Information Gathering**</span>                                                              \n",
       "                                                                                                                   \n",
       "      <span style=\"color: #000000; text-decoration-color: #000000\">*User Request:* What is the capital of France and its current population?</span>                                    \n",
       "                                                                                                                   \n",
       "      <span style=\"color: #000000; text-decoration-color: #000000\">*Agent's Internal Process:*</span>                                                                                  \n",
       "                                                                                                                   \n",
       "      <span style=\"color: #000000; text-decoration-color: #000000\">```tool_call</span>                                                                                                 \n",
       "      <span style=\"color: #800080; text-decoration-color: #800080; font-weight: bold\">think</span><span style=\"color: #000000; text-decoration-color: #000000; font-weight: bold\">(</span>                                                                                                       \n",
       "      <span style=\"color: #000000; text-decoration-color: #000000\">  </span><span style=\"color: #808000; text-decoration-color: #808000\">title</span><span style=\"color: #000000; text-decoration-color: #000000\">=</span><span style=\"color: #008000; text-decoration-color: #008000\">\"Plan Information Retrieval\"</span><span style=\"color: #000000; text-decoration-color: #000000\">,</span>                                                                        \n",
       "      <span style=\"color: #000000; text-decoration-color: #000000\">  </span><span style=\"color: #808000; text-decoration-color: #808000\">thought</span><span style=\"color: #000000; text-decoration-color: #000000\">=</span><span style=\"color: #008000; text-decoration-color: #008000\">\"The user needs two pieces of information: the capital of France and its current population. I </span>    \n",
       "      <span style=\"color: #008000; text-decoration-color: #008000\">should use external tools (like search) to find the most up-to-date and accurate information.\"</span><span style=\"color: #000000; text-decoration-color: #000000\">,</span>              \n",
       "      <span style=\"color: #000000; text-decoration-color: #000000\">  </span><span style=\"color: #808000; text-decoration-color: #808000\">action</span><span style=\"color: #000000; text-decoration-color: #000000\">=</span><span style=\"color: #008000; text-decoration-color: #008000\">\"First, search for the capital of France.\"</span><span style=\"color: #000000; text-decoration-color: #000000\">,</span>                                                         \n",
       "      <span style=\"color: #000000; text-decoration-color: #000000\">  </span><span style=\"color: #808000; text-decoration-color: #808000\">confidence</span><span style=\"color: #000000; text-decoration-color: #000000\">=</span><span style=\"color: #008080; text-decoration-color: #008080; font-weight: bold\">0.95</span>                                                                                            \n",
       "      <span style=\"color: #000000; text-decoration-color: #000000; font-weight: bold\">)</span>                                                                                                            \n",
       "      <span style=\"color: #000000; text-decoration-color: #000000\">```</span>                                                                                                          \n",
       "                                                                                                                   \n",
       "      <span style=\"color: #000000; text-decoration-color: #000000\">*Perform multiple tool calls in parallel*</span>                                                                    \n",
       "      <span style=\"color: #000000; text-decoration-color: #000000\">*--</span><span style=\"color: #000000; text-decoration-color: #000000; font-weight: bold\">(</span><span style=\"color: #000000; text-decoration-color: #000000\">Tool call </span><span style=\"color: #008080; text-decoration-color: #008080; font-weight: bold\">1</span><span style=\"color: #000000; text-decoration-color: #000000\">: </span><span style=\"color: #800080; text-decoration-color: #800080; font-weight: bold\">search</span><span style=\"color: #000000; text-decoration-color: #000000; font-weight: bold\">(</span><span style=\"color: #808000; text-decoration-color: #808000\">query</span><span style=\"color: #000000; text-decoration-color: #000000\">=</span><span style=\"color: #008000; text-decoration-color: #008000\">\"capital of France\"</span><span style=\"color: #000000; text-decoration-color: #000000; font-weight: bold\">))</span><span style=\"color: #000000; text-decoration-color: #000000\">--*</span>                                                       \n",
       "      <span style=\"color: #000000; text-decoration-color: #000000\">*--</span><span style=\"color: #000000; text-decoration-color: #000000; font-weight: bold\">(</span><span style=\"color: #000000; text-decoration-color: #000000\">Tool call </span><span style=\"color: #008080; text-decoration-color: #008080; font-weight: bold\">2</span><span style=\"color: #000000; text-decoration-color: #000000\">: </span><span style=\"color: #800080; text-decoration-color: #800080; font-weight: bold\">search</span><span style=\"color: #000000; text-decoration-color: #000000; font-weight: bold\">(</span><span style=\"color: #808000; text-decoration-color: #808000\">query</span><span style=\"color: #000000; text-decoration-color: #000000\">=</span><span style=\"color: #008000; text-decoration-color: #008000\">\"population of Paris current\"</span><span style=\"color: #000000; text-decoration-color: #000000; font-weight: bold\">))</span><span style=\"color: #000000; text-decoration-color: #000000\">--*</span>                                             \n",
       "      <span style=\"color: #000000; text-decoration-color: #000000\">*--</span><span style=\"color: #000000; text-decoration-color: #000000; font-weight: bold\">(</span><span style=\"color: #000000; text-decoration-color: #000000\">Tool Result </span><span style=\"color: #008080; text-decoration-color: #008080; font-weight: bold\">1</span><span style=\"color: #000000; text-decoration-color: #000000\">: </span><span style=\"color: #008000; text-decoration-color: #008000\">\"Paris\"</span><span style=\"color: #000000; text-decoration-color: #000000; font-weight: bold\">)</span><span style=\"color: #000000; text-decoration-color: #000000\">--*</span>                                                                               \n",
       "      <span style=\"color: #000000; text-decoration-color: #000000\">*--</span><span style=\"color: #000000; text-decoration-color: #000000; font-weight: bold\">(</span><span style=\"color: #000000; text-decoration-color: #000000\">Tool Result </span><span style=\"color: #008080; text-decoration-color: #008080; font-weight: bold\">2</span><span style=\"color: #000000; text-decoration-color: #000000\">: </span><span style=\"color: #008000; text-decoration-color: #008000\">\"Approximately 2.1 million (city proper, estimate for early 2024)\"</span><span style=\"color: #000000; text-decoration-color: #000000; font-weight: bold\">)</span><span style=\"color: #000000; text-decoration-color: #000000\">--*</span>                    \n",
       "                                                                                                                   \n",
       "      <span style=\"color: #000000; text-decoration-color: #000000\">```tool_call</span>                                                                                                 \n",
       "      <span style=\"color: #800080; text-decoration-color: #800080; font-weight: bold\">analyze</span><span style=\"color: #000000; text-decoration-color: #000000; font-weight: bold\">(</span>                                                                                                     \n",
       "      <span style=\"color: #000000; text-decoration-color: #000000\">  </span><span style=\"color: #808000; text-decoration-color: #808000\">title</span><span style=\"color: #000000; text-decoration-color: #000000\">=</span><span style=\"color: #008000; text-decoration-color: #008000\">\"Analyze Capital Search Result\"</span><span style=\"color: #000000; text-decoration-color: #000000\">,</span>                                                                     \n",
       "      <span style=\"color: #000000; text-decoration-color: #000000\">  </span><span style=\"color: #808000; text-decoration-color: #808000\">result</span><span style=\"color: #000000; text-decoration-color: #000000\">=</span><span style=\"color: #008000; text-decoration-color: #008000\">\"The search result indicates Paris is the capital of France.\"</span><span style=\"color: #000000; text-decoration-color: #000000\">,</span>                                      \n",
       "      <span style=\"color: #000000; text-decoration-color: #000000\">  </span><span style=\"color: #808000; text-decoration-color: #808000\">analysis</span><span style=\"color: #000000; text-decoration-color: #000000\">=</span><span style=\"color: #008000; text-decoration-color: #008000\">\"This provides the first piece of requested information. Now I need to find the population of </span>    \n",
       "      <span style=\"color: #008000; text-decoration-color: #008000\">Paris.\"</span><span style=\"color: #000000; text-decoration-color: #000000\">,</span>                                                                                                     \n",
       "      <span style=\"color: #000000; text-decoration-color: #000000\">  </span><span style=\"color: #808000; text-decoration-color: #808000\">next_action</span><span style=\"color: #000000; text-decoration-color: #000000\">=</span><span style=\"color: #008000; text-decoration-color: #008000\">\"continue\"</span><span style=\"color: #000000; text-decoration-color: #000000\">,</span>                                                                                    \n",
       "      <span style=\"color: #000000; text-decoration-color: #000000\">  </span><span style=\"color: #808000; text-decoration-color: #808000\">confidence</span><span style=\"color: #000000; text-decoration-color: #000000\">=</span><span style=\"color: #008080; text-decoration-color: #008080; font-weight: bold\">1.0</span>                                                                                             \n",
       "      <span style=\"color: #000000; text-decoration-color: #000000; font-weight: bold\">)</span>                                                                                                            \n",
       "      <span style=\"color: #000000; text-decoration-color: #000000\">```</span>                                                                                                          \n",
       "      <span style=\"color: #000000; text-decoration-color: #000000\">```tool_call</span>                                                                                                 \n",
       "      <span style=\"color: #800080; text-decoration-color: #800080; font-weight: bold\">analyze</span><span style=\"color: #000000; text-decoration-color: #000000; font-weight: bold\">(</span>                                                                                                     \n",
       "      <span style=\"color: #000000; text-decoration-color: #000000\">  </span><span style=\"color: #808000; text-decoration-color: #808000\">title</span><span style=\"color: #000000; text-decoration-color: #000000\">=</span><span style=\"color: #008000; text-decoration-color: #008000\">\"Analyze Population Search Result\"</span><span style=\"color: #000000; text-decoration-color: #000000\">,</span>                                                                  \n",
       "      <span style=\"color: #000000; text-decoration-color: #000000\">  </span><span style=\"color: #808000; text-decoration-color: #808000\">result</span><span style=\"color: #000000; text-decoration-color: #000000\">=</span><span style=\"color: #008000; text-decoration-color: #008000\">\"The search provided an estimated population figure for Paris.\"</span><span style=\"color: #000000; text-decoration-color: #000000\">,</span>                                    \n",
       "      <span style=\"color: #000000; text-decoration-color: #000000\">  </span><span style=\"color: #808000; text-decoration-color: #808000\">analysis</span><span style=\"color: #000000; text-decoration-color: #000000\">=</span><span style=\"color: #008000; text-decoration-color: #008000\">\"I now have both the capital and its estimated population. I can provide the final answer.\"</span><span style=\"color: #000000; text-decoration-color: #000000\">,</span>      \n",
       "      <span style=\"color: #000000; text-decoration-color: #000000\">  </span><span style=\"color: #808000; text-decoration-color: #808000\">next_action</span><span style=\"color: #000000; text-decoration-color: #000000\">=</span><span style=\"color: #008000; text-decoration-color: #008000\">\"final_answer\"</span><span style=\"color: #000000; text-decoration-color: #000000\">,</span>                                                                                \n",
       "      <span style=\"color: #000000; text-decoration-color: #000000\">  </span><span style=\"color: #808000; text-decoration-color: #808000\">confidence</span><span style=\"color: #000000; text-decoration-color: #000000\">=</span><span style=\"color: #008080; text-decoration-color: #008080; font-weight: bold\">0.9</span>                                                                                             \n",
       "      <span style=\"color: #000000; text-decoration-color: #000000; font-weight: bold\">)</span>                                                                                                            \n",
       "      <span style=\"color: #000000; text-decoration-color: #000000\">```</span>                                                                                                          \n",
       "                                                                                                                   \n",
       "      <span style=\"color: #000000; text-decoration-color: #000000\">*Agent's Final Answer to User:*</span>                                                                              \n",
       "      <span style=\"color: #000000; text-decoration-color: #000000\">The capital of France is Paris. Its estimated population </span><span style=\"color: #000000; text-decoration-color: #000000; font-weight: bold\">(</span><span style=\"color: #000000; text-decoration-color: #000000\">city proper</span><span style=\"color: #000000; text-decoration-color: #000000; font-weight: bold\">)</span><span style=\"color: #000000; text-decoration-color: #000000\"> is approximately </span><span style=\"color: #008080; text-decoration-color: #008080; font-weight: bold\">2.1</span><span style=\"color: #000000; text-decoration-color: #000000\"> million as of </span>   \n",
       "      <span style=\"color: #000000; text-decoration-color: #000000\">early </span><span style=\"color: #008080; text-decoration-color: #008080; font-weight: bold\">2024</span><span style=\"color: #000000; text-decoration-color: #000000\">.</span>                                                                                                  \n",
       "      <span style=\"color: #000000; text-decoration-color: #000000\">&lt;</span><span style=\"color: #800080; text-decoration-color: #800080\">/</span><span style=\"color: #ff00ff; text-decoration-color: #ff00ff\">reasoning_instructions</span><span style=\"font-weight: bold\">&gt;</span>                                                                                    \n",
       "</pre>\n"
      ],
      "text/plain": [
       "\u001b[32mDEBUG\u001b[0m \u001b[1m<\u001b[0m\u001b[1;95madditional_information\u001b[0m\u001b[39m>\u001b[0m                                                                                     \n",
       "      \u001b[39m- Use markdown to format your answers.\u001b[0m                                                                       \n",
       "      \u001b[39m<\u001b[0m\u001b[35m/\u001b[0m\u001b[95madditional_information\u001b[0m\u001b[39m>\u001b[0m                                                                                    \n",
       "                                                                                                                   \n",
       "      \u001b[39m<reasoning_instructions>\u001b[0m                                                                                     \n",
       "      \u001b[39mYou have access to the `think` and `analyze` tools to work through problems step-by-step and structure your \u001b[0m \n",
       "      \u001b[39mthought process. You must ALWAYS `think` before making tool calls or generating a response.\u001b[0m                  \n",
       "                                                                                                                   \n",
       "      \u001b[1;36m1\u001b[0m\u001b[39m. **Think** \u001b[0m\u001b[1;39m(\u001b[0m\u001b[39mscratchpad\u001b[0m\u001b[1;39m)\u001b[0m\u001b[39m:\u001b[0m                                                                                   \n",
       "      \u001b[39m    - Purpose: Use the `think` tool as a scratchpad to break down complex problems, outline steps, and decide\u001b[0m\n",
       "      \u001b[39mon immediate actions within your reasoning flow. Use this to structure your internal monologue.\u001b[0m              \n",
       "      \u001b[39m    - Usage: Call `think` before making tool calls or generating a response. Explain your reasoning and \u001b[0m     \n",
       "      \u001b[39mspecify the intended action \u001b[0m\u001b[1;39m(\u001b[0m\u001b[39me.g., \u001b[0m\u001b[32m\"make a tool call\"\u001b[0m\u001b[39m, \u001b[0m\u001b[32m\"perform calculation\"\u001b[0m\u001b[39m, \u001b[0m\u001b[32m\"ask clarifying question\"\u001b[0m\u001b[1;39m)\u001b[0m\u001b[39m.\u001b[0m    \n",
       "                                                                                                                   \n",
       "      \u001b[1;36m2\u001b[0m\u001b[39m. **Analyze** \u001b[0m\u001b[1;39m(\u001b[0m\u001b[39mevaluation\u001b[0m\u001b[1;39m)\u001b[0m\u001b[39m:\u001b[0m                                                                                 \n",
       "      \u001b[39m    - Purpose: Evaluate the result of a think step or a set of tool calls. Assess if the result is expected, \u001b[0m\n",
       "      \u001b[39msufficient, or requires further investigation.\u001b[0m                                                               \n",
       "      \u001b[39m    - Usage: Call `analyze` after a set of tool calls. Determine the `next_action` based on your analysis: \u001b[0m  \n",
       "      \u001b[39m`continue` \u001b[0m\u001b[1;39m(\u001b[0m\u001b[39mmore reasoning needed\u001b[0m\u001b[1;39m)\u001b[0m\u001b[39m, `validate` \u001b[0m\u001b[1;39m(\u001b[0m\u001b[39mseek external confirmation/validation if possible\u001b[0m\u001b[1;39m)\u001b[0m\u001b[39m, or \u001b[0m      \n",
       "      \u001b[39m`final_answer` \u001b[0m\u001b[1;39m(\u001b[0m\u001b[39mready to conclude\u001b[0m\u001b[1;39m)\u001b[0m\u001b[39m.\u001b[0m                                                                          \n",
       "      \u001b[39m    - Explain your reasoning highlighting whether the result is correct/sufficient.\u001b[0m                          \n",
       "                                                                                                                   \n",
       "      \u001b[39m## IMPORTANT GUIDELINES\u001b[0m                                                                                      \n",
       "      \u001b[39m- **Always Think First:** You MUST use the `think` tool before making tool calls or generating a response.\u001b[0m   \n",
       "      \u001b[39m- **Iterate to Solve:** Use the `think` and `analyze` tools iteratively to build a clear reasoning path. The \u001b[0m\n",
       "      \u001b[39mtypical flow is `Think` -> \u001b[0m\u001b[1;39m[\u001b[0m\u001b[39m`Tool Calls` if needed\u001b[0m\u001b[1;39m]\u001b[0m\u001b[39m -> \u001b[0m\u001b[1;39m[\u001b[0m\u001b[39m`Analyze` if needed\u001b[0m\u001b[1;39m]\u001b[0m\u001b[39m -> \u001b[0m\u001b[33m...\u001b[0m\u001b[39m -> `final_answer`. Repeat\u001b[0m\n",
       "      \u001b[39mthis cycle until you reach a satisfactory conclusion.\u001b[0m                                                        \n",
       "      \u001b[39m- **Make multiple tool calls in parallel:** After a `think` step, you can make multiple tool calls in \u001b[0m       \n",
       "      \u001b[39mparallel.\u001b[0m                                                                                                    \n",
       "      \u001b[39m- **Keep Thoughts Internal:** The reasoning steps \u001b[0m\u001b[1;39m(\u001b[0m\u001b[39mthoughts and analyses\u001b[0m\u001b[1;39m)\u001b[0m\u001b[39m are for your internal process only.\u001b[0m\n",
       "      \u001b[39mDo not share them directly with the user.\u001b[0m                                                                    \n",
       "      \u001b[39m- **Conclude Clearly:** When your analysis determines the `next_action` is `final_answer`, provide a concise \u001b[0m\n",
       "      \u001b[39mand accurate final answer to the user.\u001b[0m                                                                       \n",
       "                                                                                                                   \n",
       "      \u001b[39mBelow are examples demonstrating how to use the `think` and `analyze` tools.\u001b[0m                                 \n",
       "                                                                                                                   \n",
       "      \u001b[39m### Examples\u001b[0m                                                                                                 \n",
       "                                                                                                                   \n",
       "      \u001b[39m**Example \u001b[0m\u001b[1;36m1\u001b[0m\u001b[39m: Simple Fact Retrieval**\u001b[0m                                                                         \n",
       "                                                                                                                   \n",
       "      \u001b[39m*User Request:* How many continents are there on Earth?\u001b[0m                                                      \n",
       "                                                                                                                   \n",
       "      \u001b[39m*Agent's Internal Process:*\u001b[0m                                                                                  \n",
       "                                                                                                                   \n",
       "      \u001b[39m```tool_call\u001b[0m                                                                                                 \n",
       "      \u001b[1;35mthink\u001b[0m\u001b[1;39m(\u001b[0m                                                                                                       \n",
       "      \u001b[39m  \u001b[0m\u001b[33mtitle\u001b[0m\u001b[39m=\u001b[0m\u001b[32m\"Understand\u001b[0m\u001b[32m Request\"\u001b[0m\u001b[39m,\u001b[0m                                                                                \n",
       "      \u001b[39m  \u001b[0m\u001b[33mthought\u001b[0m\u001b[39m=\u001b[0m\u001b[32m\"The\u001b[0m\u001b[32m user wants to know the standard number of continents on Earth. This is a common piece of \u001b[0m     \n",
       "      \u001b[32mknowledge.\"\u001b[0m\u001b[39m,\u001b[0m                                                                                                 \n",
       "      \u001b[39m  \u001b[0m\u001b[33maction\u001b[0m\u001b[39m=\u001b[0m\u001b[32m\"Recall\u001b[0m\u001b[32m or verify the number of continents.\"\u001b[0m\u001b[39m,\u001b[0m                                                       \n",
       "      \u001b[39m  \u001b[0m\u001b[33mconfidence\u001b[0m\u001b[39m=\u001b[0m\u001b[1;36m0\u001b[0m\u001b[1;36m.95\u001b[0m                                                                                            \n",
       "      \u001b[1;39m)\u001b[0m                                                                                                            \n",
       "      \u001b[39m```\u001b[0m                                                                                                          \n",
       "      \u001b[39m*--\u001b[0m\u001b[1;39m(\u001b[0m\u001b[39mAgent internally recalls the fact\u001b[0m\u001b[1;39m)\u001b[0m\u001b[39m--*\u001b[0m                                                                    \n",
       "      \u001b[39m```tool_call\u001b[0m                                                                                                 \n",
       "      \u001b[1;35manalyze\u001b[0m\u001b[1;39m(\u001b[0m                                                                                                     \n",
       "      \u001b[39m  \u001b[0m\u001b[33mtitle\u001b[0m\u001b[39m=\u001b[0m\u001b[32m\"Evaluate\u001b[0m\u001b[32m Fact\"\u001b[0m\u001b[39m,\u001b[0m                                                                                     \n",
       "      \u001b[39m  \u001b[0m\u001b[33mresult\u001b[0m\u001b[39m=\u001b[0m\u001b[32m\"Standard\u001b[0m\u001b[32m geographical models list 7 continents: Africa, Antarctica, Asia, Australia, Europe, North \u001b[0m\n",
       "      \u001b[32mAmerica, South America.\"\u001b[0m\u001b[39m,\u001b[0m                                                                                    \n",
       "      \u001b[39m  \u001b[0m\u001b[33manalysis\u001b[0m\u001b[39m=\u001b[0m\u001b[32m\"The\u001b[0m\u001b[32m recalled information directly answers the user's question accurately.\"\u001b[0m\u001b[39m,\u001b[0m                      \n",
       "      \u001b[39m  \u001b[0m\u001b[33mnext_action\u001b[0m\u001b[39m=\u001b[0m\u001b[32m\"final_answer\"\u001b[0m\u001b[39m,\u001b[0m                                                                                \n",
       "      \u001b[39m  \u001b[0m\u001b[33mconfidence\u001b[0m\u001b[39m=\u001b[0m\u001b[1;36m1\u001b[0m\u001b[1;36m.0\u001b[0m                                                                                             \n",
       "      \u001b[1;39m)\u001b[0m                                                                                                            \n",
       "      \u001b[39m```\u001b[0m                                                                                                          \n",
       "                                                                                                                   \n",
       "      \u001b[39m*Agent's Final Answer to User:*\u001b[0m                                                                              \n",
       "      \u001b[39mThere are \u001b[0m\u001b[1;36m7\u001b[0m\u001b[39m continents on Earth: Africa, Antarctica, Asia, Australia, Europe, North America, and South \u001b[0m      \n",
       "      \u001b[39mAmerica.\u001b[0m                                                                                                     \n",
       "                                                                                                                   \n",
       "      \u001b[39m**Example \u001b[0m\u001b[1;36m2\u001b[0m\u001b[39m: Multi-Step Information Gathering**\u001b[0m                                                              \n",
       "                                                                                                                   \n",
       "      \u001b[39m*User Request:* What is the capital of France and its current population?\u001b[0m                                    \n",
       "                                                                                                                   \n",
       "      \u001b[39m*Agent's Internal Process:*\u001b[0m                                                                                  \n",
       "                                                                                                                   \n",
       "      \u001b[39m```tool_call\u001b[0m                                                                                                 \n",
       "      \u001b[1;35mthink\u001b[0m\u001b[1;39m(\u001b[0m                                                                                                       \n",
       "      \u001b[39m  \u001b[0m\u001b[33mtitle\u001b[0m\u001b[39m=\u001b[0m\u001b[32m\"Plan\u001b[0m\u001b[32m Information Retrieval\"\u001b[0m\u001b[39m,\u001b[0m                                                                        \n",
       "      \u001b[39m  \u001b[0m\u001b[33mthought\u001b[0m\u001b[39m=\u001b[0m\u001b[32m\"The\u001b[0m\u001b[32m user needs two pieces of information: the capital of France and its current population. I \u001b[0m    \n",
       "      \u001b[32mshould use external tools \u001b[0m\u001b[32m(\u001b[0m\u001b[32mlike search\u001b[0m\u001b[32m)\u001b[0m\u001b[32m to find the most up-to-date and accurate information.\"\u001b[0m\u001b[39m,\u001b[0m              \n",
       "      \u001b[39m  \u001b[0m\u001b[33maction\u001b[0m\u001b[39m=\u001b[0m\u001b[32m\"First\u001b[0m\u001b[32m, search for the capital of France.\"\u001b[0m\u001b[39m,\u001b[0m                                                         \n",
       "      \u001b[39m  \u001b[0m\u001b[33mconfidence\u001b[0m\u001b[39m=\u001b[0m\u001b[1;36m0\u001b[0m\u001b[1;36m.95\u001b[0m                                                                                            \n",
       "      \u001b[1;39m)\u001b[0m                                                                                                            \n",
       "      \u001b[39m```\u001b[0m                                                                                                          \n",
       "                                                                                                                   \n",
       "      \u001b[39m*Perform multiple tool calls in parallel*\u001b[0m                                                                    \n",
       "      \u001b[39m*--\u001b[0m\u001b[1;39m(\u001b[0m\u001b[39mTool call \u001b[0m\u001b[1;36m1\u001b[0m\u001b[39m: \u001b[0m\u001b[1;35msearch\u001b[0m\u001b[1;39m(\u001b[0m\u001b[33mquery\u001b[0m\u001b[39m=\u001b[0m\u001b[32m\"capital\u001b[0m\u001b[32m of France\"\u001b[0m\u001b[1;39m)\u001b[0m\u001b[1;39m)\u001b[0m\u001b[39m--*\u001b[0m                                                       \n",
       "      \u001b[39m*--\u001b[0m\u001b[1;39m(\u001b[0m\u001b[39mTool call \u001b[0m\u001b[1;36m2\u001b[0m\u001b[39m: \u001b[0m\u001b[1;35msearch\u001b[0m\u001b[1;39m(\u001b[0m\u001b[33mquery\u001b[0m\u001b[39m=\u001b[0m\u001b[32m\"population\u001b[0m\u001b[32m of Paris current\"\u001b[0m\u001b[1;39m)\u001b[0m\u001b[1;39m)\u001b[0m\u001b[39m--*\u001b[0m                                             \n",
       "      \u001b[39m*--\u001b[0m\u001b[1;39m(\u001b[0m\u001b[39mTool Result \u001b[0m\u001b[1;36m1\u001b[0m\u001b[39m: \u001b[0m\u001b[32m\"Paris\"\u001b[0m\u001b[1;39m)\u001b[0m\u001b[39m--*\u001b[0m                                                                               \n",
       "      \u001b[39m*--\u001b[0m\u001b[1;39m(\u001b[0m\u001b[39mTool Result \u001b[0m\u001b[1;36m2\u001b[0m\u001b[39m: \u001b[0m\u001b[32m\"Approximately 2.1 million \u001b[0m\u001b[32m(\u001b[0m\u001b[32mcity proper, estimate for early 2024\u001b[0m\u001b[32m)\u001b[0m\u001b[32m\"\u001b[0m\u001b[1;39m)\u001b[0m\u001b[39m--*\u001b[0m                    \n",
       "                                                                                                                   \n",
       "      \u001b[39m```tool_call\u001b[0m                                                                                                 \n",
       "      \u001b[1;35manalyze\u001b[0m\u001b[1;39m(\u001b[0m                                                                                                     \n",
       "      \u001b[39m  \u001b[0m\u001b[33mtitle\u001b[0m\u001b[39m=\u001b[0m\u001b[32m\"Analyze\u001b[0m\u001b[32m Capital Search Result\"\u001b[0m\u001b[39m,\u001b[0m                                                                     \n",
       "      \u001b[39m  \u001b[0m\u001b[33mresult\u001b[0m\u001b[39m=\u001b[0m\u001b[32m\"The\u001b[0m\u001b[32m search result indicates Paris is the capital of France.\"\u001b[0m\u001b[39m,\u001b[0m                                      \n",
       "      \u001b[39m  \u001b[0m\u001b[33manalysis\u001b[0m\u001b[39m=\u001b[0m\u001b[32m\"This\u001b[0m\u001b[32m provides the first piece of requested information. Now I need to find the population of \u001b[0m    \n",
       "      \u001b[32mParis.\"\u001b[0m\u001b[39m,\u001b[0m                                                                                                     \n",
       "      \u001b[39m  \u001b[0m\u001b[33mnext_action\u001b[0m\u001b[39m=\u001b[0m\u001b[32m\"continue\"\u001b[0m\u001b[39m,\u001b[0m                                                                                    \n",
       "      \u001b[39m  \u001b[0m\u001b[33mconfidence\u001b[0m\u001b[39m=\u001b[0m\u001b[1;36m1\u001b[0m\u001b[1;36m.0\u001b[0m                                                                                             \n",
       "      \u001b[1;39m)\u001b[0m                                                                                                            \n",
       "      \u001b[39m```\u001b[0m                                                                                                          \n",
       "      \u001b[39m```tool_call\u001b[0m                                                                                                 \n",
       "      \u001b[1;35manalyze\u001b[0m\u001b[1;39m(\u001b[0m                                                                                                     \n",
       "      \u001b[39m  \u001b[0m\u001b[33mtitle\u001b[0m\u001b[39m=\u001b[0m\u001b[32m\"Analyze\u001b[0m\u001b[32m Population Search Result\"\u001b[0m\u001b[39m,\u001b[0m                                                                  \n",
       "      \u001b[39m  \u001b[0m\u001b[33mresult\u001b[0m\u001b[39m=\u001b[0m\u001b[32m\"The\u001b[0m\u001b[32m search provided an estimated population figure for Paris.\"\u001b[0m\u001b[39m,\u001b[0m                                    \n",
       "      \u001b[39m  \u001b[0m\u001b[33manalysis\u001b[0m\u001b[39m=\u001b[0m\u001b[32m\"I\u001b[0m\u001b[32m now have both the capital and its estimated population. I can provide the final answer.\"\u001b[0m\u001b[39m,\u001b[0m      \n",
       "      \u001b[39m  \u001b[0m\u001b[33mnext_action\u001b[0m\u001b[39m=\u001b[0m\u001b[32m\"final_answer\"\u001b[0m\u001b[39m,\u001b[0m                                                                                \n",
       "      \u001b[39m  \u001b[0m\u001b[33mconfidence\u001b[0m\u001b[39m=\u001b[0m\u001b[1;36m0\u001b[0m\u001b[1;36m.9\u001b[0m                                                                                             \n",
       "      \u001b[1;39m)\u001b[0m                                                                                                            \n",
       "      \u001b[39m```\u001b[0m                                                                                                          \n",
       "                                                                                                                   \n",
       "      \u001b[39m*Agent's Final Answer to User:*\u001b[0m                                                                              \n",
       "      \u001b[39mThe capital of France is Paris. Its estimated population \u001b[0m\u001b[1;39m(\u001b[0m\u001b[39mcity proper\u001b[0m\u001b[1;39m)\u001b[0m\u001b[39m is approximately \u001b[0m\u001b[1;36m2.1\u001b[0m\u001b[39m million as of \u001b[0m   \n",
       "      \u001b[39mearly \u001b[0m\u001b[1;36m2024\u001b[0m\u001b[39m.\u001b[0m                                                                                                  \n",
       "      \u001b[39m<\u001b[0m\u001b[35m/\u001b[0m\u001b[95mreasoning_instructions\u001b[0m\u001b[1m>\u001b[0m                                                                                    \n"
      ]
     },
     "metadata": {},
     "output_type": "display_data"
    },
    {
     "data": {
      "text/html": [
       "<pre style=\"white-space:pre;overflow-x:auto;line-height:normal;font-family:Menlo,'DejaVu Sans Mono',consolas,'Courier New',monospace\"><span style=\"color: #008000; text-decoration-color: #008000\">DEBUG</span> =========================== user ===========================                                                 \n",
       "</pre>\n"
      ],
      "text/plain": [
       "\u001b[32mDEBUG\u001b[0m =========================== user ===========================                                                 \n"
      ]
     },
     "metadata": {},
     "output_type": "display_data"
    },
    {
     "data": {
      "text/html": [
       "<pre style=\"white-space:pre;overflow-x:auto;line-height:normal;font-family:Menlo,'DejaVu Sans Mono',consolas,'Courier New',monospace\"><span style=\"color: #008000; text-decoration-color: #008000\">DEBUG</span> 今天长沙适合什么活动                                                                                         \n",
       "</pre>\n"
      ],
      "text/plain": [
       "\u001b[32mDEBUG\u001b[0m 今天长沙适合什么活动                                                                                         \n"
      ]
     },
     "metadata": {},
     "output_type": "display_data"
    },
    {
     "data": {
      "text/html": [
       "<pre style=\"white-space:pre;overflow-x:auto;line-height:normal;font-family:Menlo,'DejaVu Sans Mono',consolas,'Courier New',monospace\"><span style=\"color: #008000; text-decoration-color: #008000\">DEBUG</span> ======================== assistant =========================                                                 \n",
       "</pre>\n"
      ],
      "text/plain": [
       "\u001b[32mDEBUG\u001b[0m ======================== assistant =========================                                                 \n"
      ]
     },
     "metadata": {},
     "output_type": "display_data"
    },
    {
     "data": {
      "text/html": [
       "<pre style=\"white-space:pre;overflow-x:auto;line-height:normal;font-family:Menlo,'DejaVu Sans Mono',consolas,'Courier New',monospace\"><span style=\"color: #008000; text-decoration-color: #008000\">DEBUG</span> Tool Calls:                                                                                                  \n",
       "        - ID: <span style=\"color: #008000; text-decoration-color: #008000\">'call_8f4c58b463fa4b9b9ac63c'</span>                                                                        \n",
       "          Name: <span style=\"color: #008000; text-decoration-color: #008000\">'think'</span>                                                                                            \n",
       "          Arguments: <span style=\"color: #008000; text-decoration-color: #008000\">'action: Determine the appropriate activity based on today'</span>s weather in Changsha., confidence:\n",
       "      <span style=\"color: #008080; text-decoration-color: #008080; font-weight: bold\">0.8</span>, thought: To suggest a suitable activity for today in Changsha, I need to first check the current weather\n",
       "      conditions there. Based on the weather result, I can then recommend an appropriate indoor or outdoor         \n",
       "      activity., title: Check Weather for Activity Planning'                                                       \n",
       "</pre>\n"
      ],
      "text/plain": [
       "\u001b[32mDEBUG\u001b[0m Tool Calls:                                                                                                  \n",
       "        - ID: \u001b[32m'call_8f4c58b463fa4b9b9ac63c'\u001b[0m                                                                        \n",
       "          Name: \u001b[32m'think'\u001b[0m                                                                                            \n",
       "          Arguments: \u001b[32m'action: Determine the appropriate activity based on today'\u001b[0ms weather in Changsha., confidence:\n",
       "      \u001b[1;36m0.8\u001b[0m, thought: To suggest a suitable activity for today in Changsha, I need to first check the current weather\n",
       "      conditions there. Based on the weather result, I can then recommend an appropriate indoor or outdoor         \n",
       "      activity., title: Check Weather for Activity Planning'                                                       \n"
      ]
     },
     "metadata": {},
     "output_type": "display_data"
    },
    {
     "data": {
      "text/html": [
       "<pre style=\"white-space:pre;overflow-x:auto;line-height:normal;font-family:Menlo,'DejaVu Sans Mono',consolas,'Courier New',monospace\"><span style=\"color: #008000; text-decoration-color: #008000\">DEBUG</span> ************************  METRICS  *************************                                                 \n",
       "</pre>\n"
      ],
      "text/plain": [
       "\u001b[32mDEBUG\u001b[0m ************************  METRICS  *************************                                                 \n"
      ]
     },
     "metadata": {},
     "output_type": "display_data"
    },
    {
     "data": {
      "text/html": [
       "<pre style=\"white-space:pre;overflow-x:auto;line-height:normal;font-family:Menlo,'DejaVu Sans Mono',consolas,'Courier New',monospace\"><span style=\"color: #008000; text-decoration-color: #008000\">DEBUG</span> * Tokens:                      <span style=\"color: #808000; text-decoration-color: #808000\">input</span>=<span style=\"color: #008080; text-decoration-color: #008080; font-weight: bold\">1595</span>, <span style=\"color: #808000; text-decoration-color: #808000\">output</span>=<span style=\"color: #008080; text-decoration-color: #008080; font-weight: bold\">91</span>, <span style=\"color: #808000; text-decoration-color: #808000\">total</span>=<span style=\"color: #008080; text-decoration-color: #008080; font-weight: bold\">1686</span>                                             \n",
       "</pre>\n"
      ],
      "text/plain": [
       "\u001b[32mDEBUG\u001b[0m * Tokens:                      \u001b[33minput\u001b[0m=\u001b[1;36m1595\u001b[0m, \u001b[33moutput\u001b[0m=\u001b[1;36m91\u001b[0m, \u001b[33mtotal\u001b[0m=\u001b[1;36m1686\u001b[0m                                             \n"
      ]
     },
     "metadata": {},
     "output_type": "display_data"
    },
    {
     "data": {
      "text/html": [
       "<pre style=\"white-space:pre;overflow-x:auto;line-height:normal;font-family:Menlo,'DejaVu Sans Mono',consolas,'Courier New',monospace\"><span style=\"color: #008000; text-decoration-color: #008000\">DEBUG</span> * Time:                        <span style=\"color: #008080; text-decoration-color: #008080; font-weight: bold\">6.</span>6315s                                                                       \n",
       "</pre>\n"
      ],
      "text/plain": [
       "\u001b[32mDEBUG\u001b[0m * Time:                        \u001b[1;36m6.\u001b[0m6315s                                                                       \n"
      ]
     },
     "metadata": {},
     "output_type": "display_data"
    },
    {
     "data": {
      "text/html": [
       "<pre style=\"white-space:pre;overflow-x:auto;line-height:normal;font-family:Menlo,'DejaVu Sans Mono',consolas,'Courier New',monospace\"><span style=\"color: #008000; text-decoration-color: #008000\">DEBUG</span> * Tokens per second:           <span style=\"color: #008080; text-decoration-color: #008080; font-weight: bold\">13.7223</span> tokens/s                                                              \n",
       "</pre>\n"
      ],
      "text/plain": [
       "\u001b[32mDEBUG\u001b[0m * Tokens per second:           \u001b[1;36m13.7223\u001b[0m tokens/s                                                              \n"
      ]
     },
     "metadata": {},
     "output_type": "display_data"
    },
    {
     "data": {
      "text/html": [
       "<pre style=\"white-space:pre;overflow-x:auto;line-height:normal;font-family:Menlo,'DejaVu Sans Mono',consolas,'Courier New',monospace\"><span style=\"color: #008000; text-decoration-color: #008000\">DEBUG</span> ************************  METRICS  *************************                                                 \n",
       "</pre>\n"
      ],
      "text/plain": [
       "\u001b[32mDEBUG\u001b[0m ************************  METRICS  *************************                                                 \n"
      ]
     },
     "metadata": {},
     "output_type": "display_data"
    },
    {
     "data": {
      "text/html": [
       "<pre style=\"white-space:pre;overflow-x:auto;line-height:normal;font-family:Menlo,'DejaVu Sans Mono',consolas,'Courier New',monospace\"><span style=\"color: #008000; text-decoration-color: #008000\">DEBUG</span> Running: <span style=\"color: #800080; text-decoration-color: #800080; font-weight: bold\">think</span><span style=\"font-weight: bold\">(</span><span style=\"color: #808000; text-decoration-color: #808000\">...</span><span style=\"font-weight: bold\">)</span>                                                                                          \n",
       "</pre>\n"
      ],
      "text/plain": [
       "\u001b[32mDEBUG\u001b[0m Running: \u001b[1;35mthink\u001b[0m\u001b[1m(\u001b[0m\u001b[33m...\u001b[0m\u001b[1m)\u001b[0m                                                                                          \n"
      ]
     },
     "metadata": {},
     "output_type": "display_data"
    },
    {
     "data": {
      "text/html": [
       "<pre style=\"white-space:pre;overflow-x:auto;line-height:normal;font-family:Menlo,'DejaVu Sans Mono',consolas,'Courier New',monospace\"><span style=\"color: #008000; text-decoration-color: #008000\">DEBUG</span> Thought about Check Weather for Activity Planning                                                            \n",
       "</pre>\n"
      ],
      "text/plain": [
       "\u001b[32mDEBUG\u001b[0m Thought about Check Weather for Activity Planning                                                            \n"
      ]
     },
     "metadata": {},
     "output_type": "display_data"
    },
    {
     "data": {
      "text/html": [
       "<pre style=\"white-space:pre;overflow-x:auto;line-height:normal;font-family:Menlo,'DejaVu Sans Mono',consolas,'Courier New',monospace\"><span style=\"color: #008000; text-decoration-color: #008000\">DEBUG</span> =========================== tool ===========================                                                 \n",
       "</pre>\n"
      ],
      "text/plain": [
       "\u001b[32mDEBUG\u001b[0m =========================== tool ===========================                                                 \n"
      ]
     },
     "metadata": {},
     "output_type": "display_data"
    },
    {
     "data": {
      "text/html": [
       "<pre style=\"white-space:pre;overflow-x:auto;line-height:normal;font-family:Menlo,'DejaVu Sans Mono',consolas,'Courier New',monospace\"><span style=\"color: #008000; text-decoration-color: #008000\">DEBUG</span> Tool call Id: call_8f4c58b463fa4b9b9ac63c                                                                    \n",
       "</pre>\n"
      ],
      "text/plain": [
       "\u001b[32mDEBUG\u001b[0m Tool call Id: call_8f4c58b463fa4b9b9ac63c                                                                    \n"
      ]
     },
     "metadata": {},
     "output_type": "display_data"
    },
    {
     "data": {
      "text/html": [
       "<pre style=\"white-space:pre;overflow-x:auto;line-height:normal;font-family:Menlo,'DejaVu Sans Mono',consolas,'Courier New',monospace\"><span style=\"color: #008000; text-decoration-color: #008000\">DEBUG</span> Step <span style=\"color: #008080; text-decoration-color: #008080; font-weight: bold\">1</span>:                                                                                                      \n",
       "      Title: Check Weather for Activity Planning                                                                   \n",
       "      Reasoning: To suggest a suitable activity for today in Changsha, I need to first check the current weather   \n",
       "      conditions there. Based on the weather result, I can then recommend an appropriate indoor or outdoor         \n",
       "      activity.                                                                                                    \n",
       "      Action: Determine the appropriate activity based on today's weather in Changsha.                             \n",
       "      Confidence: <span style=\"color: #008080; text-decoration-color: #008080; font-weight: bold\">0.8</span>                                                                                              \n",
       "</pre>\n"
      ],
      "text/plain": [
       "\u001b[32mDEBUG\u001b[0m Step \u001b[1;36m1\u001b[0m:                                                                                                      \n",
       "      Title: Check Weather for Activity Planning                                                                   \n",
       "      Reasoning: To suggest a suitable activity for today in Changsha, I need to first check the current weather   \n",
       "      conditions there. Based on the weather result, I can then recommend an appropriate indoor or outdoor         \n",
       "      activity.                                                                                                    \n",
       "      Action: Determine the appropriate activity based on today's weather in Changsha.                             \n",
       "      Confidence: \u001b[1;36m0.8\u001b[0m                                                                                              \n"
      ]
     },
     "metadata": {},
     "output_type": "display_data"
    },
    {
     "data": {
      "text/html": [
       "<pre style=\"white-space:pre;overflow-x:auto;line-height:normal;font-family:Menlo,'DejaVu Sans Mono',consolas,'Courier New',monospace\"><span style=\"color: #008000; text-decoration-color: #008000\">DEBUG</span> **********************  TOOL METRICS  **********************                                                 \n",
       "</pre>\n"
      ],
      "text/plain": [
       "\u001b[32mDEBUG\u001b[0m **********************  TOOL METRICS  **********************                                                 \n"
      ]
     },
     "metadata": {},
     "output_type": "display_data"
    },
    {
     "data": {
      "text/html": [
       "<pre style=\"white-space:pre;overflow-x:auto;line-height:normal;font-family:Menlo,'DejaVu Sans Mono',consolas,'Courier New',monospace\"><span style=\"color: #008000; text-decoration-color: #008000\">DEBUG</span> * Time:                        <span style=\"color: #008080; text-decoration-color: #008080; font-weight: bold\">0.</span>0259s                                                                       \n",
       "</pre>\n"
      ],
      "text/plain": [
       "\u001b[32mDEBUG\u001b[0m * Time:                        \u001b[1;36m0.\u001b[0m0259s                                                                       \n"
      ]
     },
     "metadata": {},
     "output_type": "display_data"
    },
    {
     "data": {
      "text/html": [
       "<pre style=\"white-space:pre;overflow-x:auto;line-height:normal;font-family:Menlo,'DejaVu Sans Mono',consolas,'Courier New',monospace\"><span style=\"color: #008000; text-decoration-color: #008000\">DEBUG</span> **********************  TOOL METRICS  **********************                                                 \n",
       "</pre>\n"
      ],
      "text/plain": [
       "\u001b[32mDEBUG\u001b[0m **********************  TOOL METRICS  **********************                                                 \n"
      ]
     },
     "metadata": {},
     "output_type": "display_data"
    },
    {
     "data": {
      "text/html": [
       "<pre style=\"white-space:pre;overflow-x:auto;line-height:normal;font-family:Menlo,'DejaVu Sans Mono',consolas,'Courier New',monospace\"><span style=\"color: #008000; text-decoration-color: #008000\">DEBUG</span> ======================== assistant =========================                                                 \n",
       "</pre>\n"
      ],
      "text/plain": [
       "\u001b[32mDEBUG\u001b[0m ======================== assistant =========================                                                 \n"
      ]
     },
     "metadata": {},
     "output_type": "display_data"
    },
    {
     "data": {
      "text/html": [
       "<pre style=\"white-space:pre;overflow-x:auto;line-height:normal;font-family:Menlo,'DejaVu Sans Mono',consolas,'Courier New',monospace\"><span style=\"color: #008000; text-decoration-color: #008000\">DEBUG</span> Tool Calls:                                                                                                  \n",
       "        - ID: <span style=\"color: #008000; text-decoration-color: #008000\">'call_f885dafcea7a4c78a235ae'</span>                                                                        \n",
       "          Name: <span style=\"color: #008000; text-decoration-color: #008000\">'get_weather'</span>                                                                                      \n",
       "          Arguments: <span style=\"color: #008000; text-decoration-color: #008000\">'city: 长沙'</span>                                                                                  \n",
       "</pre>\n"
      ],
      "text/plain": [
       "\u001b[32mDEBUG\u001b[0m Tool Calls:                                                                                                  \n",
       "        - ID: \u001b[32m'call_f885dafcea7a4c78a235ae'\u001b[0m                                                                        \n",
       "          Name: \u001b[32m'get_weather'\u001b[0m                                                                                      \n",
       "          Arguments: \u001b[32m'city: 长沙'\u001b[0m                                                                                  \n"
      ]
     },
     "metadata": {},
     "output_type": "display_data"
    },
    {
     "data": {
      "text/html": [
       "<pre style=\"white-space:pre;overflow-x:auto;line-height:normal;font-family:Menlo,'DejaVu Sans Mono',consolas,'Courier New',monospace\"><span style=\"color: #008000; text-decoration-color: #008000\">DEBUG</span> ************************  METRICS  *************************                                                 \n",
       "</pre>\n"
      ],
      "text/plain": [
       "\u001b[32mDEBUG\u001b[0m ************************  METRICS  *************************                                                 \n"
      ]
     },
     "metadata": {},
     "output_type": "display_data"
    },
    {
     "data": {
      "text/html": [
       "<pre style=\"white-space:pre;overflow-x:auto;line-height:normal;font-family:Menlo,'DejaVu Sans Mono',consolas,'Courier New',monospace\"><span style=\"color: #008000; text-decoration-color: #008000\">DEBUG</span> * Tokens:                      <span style=\"color: #808000; text-decoration-color: #808000\">input</span>=<span style=\"color: #008080; text-decoration-color: #008080; font-weight: bold\">1776</span>, <span style=\"color: #808000; text-decoration-color: #808000\">output</span>=<span style=\"color: #008080; text-decoration-color: #008080; font-weight: bold\">19</span>, <span style=\"color: #808000; text-decoration-color: #808000\">total</span>=<span style=\"color: #008080; text-decoration-color: #008080; font-weight: bold\">1795</span>                                             \n",
       "</pre>\n"
      ],
      "text/plain": [
       "\u001b[32mDEBUG\u001b[0m * Tokens:                      \u001b[33minput\u001b[0m=\u001b[1;36m1776\u001b[0m, \u001b[33moutput\u001b[0m=\u001b[1;36m19\u001b[0m, \u001b[33mtotal\u001b[0m=\u001b[1;36m1795\u001b[0m                                             \n"
      ]
     },
     "metadata": {},
     "output_type": "display_data"
    },
    {
     "data": {
      "text/html": [
       "<pre style=\"white-space:pre;overflow-x:auto;line-height:normal;font-family:Menlo,'DejaVu Sans Mono',consolas,'Courier New',monospace\"><span style=\"color: #008000; text-decoration-color: #008000\">DEBUG</span> * Time:                        <span style=\"color: #008080; text-decoration-color: #008080; font-weight: bold\">3.</span>1925s                                                                       \n",
       "</pre>\n"
      ],
      "text/plain": [
       "\u001b[32mDEBUG\u001b[0m * Time:                        \u001b[1;36m3.\u001b[0m1925s                                                                       \n"
      ]
     },
     "metadata": {},
     "output_type": "display_data"
    },
    {
     "data": {
      "text/html": [
       "<pre style=\"white-space:pre;overflow-x:auto;line-height:normal;font-family:Menlo,'DejaVu Sans Mono',consolas,'Courier New',monospace\"><span style=\"color: #008000; text-decoration-color: #008000\">DEBUG</span> * Tokens per second:           <span style=\"color: #008080; text-decoration-color: #008080; font-weight: bold\">5.9514</span> tokens/s                                                               \n",
       "</pre>\n"
      ],
      "text/plain": [
       "\u001b[32mDEBUG\u001b[0m * Tokens per second:           \u001b[1;36m5.9514\u001b[0m tokens/s                                                               \n"
      ]
     },
     "metadata": {},
     "output_type": "display_data"
    },
    {
     "data": {
      "text/html": [
       "<pre style=\"white-space:pre;overflow-x:auto;line-height:normal;font-family:Menlo,'DejaVu Sans Mono',consolas,'Courier New',monospace\"><span style=\"color: #008000; text-decoration-color: #008000\">DEBUG</span> ************************  METRICS  *************************                                                 \n",
       "</pre>\n"
      ],
      "text/plain": [
       "\u001b[32mDEBUG\u001b[0m ************************  METRICS  *************************                                                 \n"
      ]
     },
     "metadata": {},
     "output_type": "display_data"
    },
    {
     "data": {
      "text/html": [
       "<pre style=\"white-space:pre;overflow-x:auto;line-height:normal;font-family:Menlo,'DejaVu Sans Mono',consolas,'Courier New',monospace\"><span style=\"color: #008000; text-decoration-color: #008000\">DEBUG</span> Running: <span style=\"color: #800080; text-decoration-color: #800080; font-weight: bold\">get_weather</span><span style=\"font-weight: bold\">(</span><span style=\"color: #808000; text-decoration-color: #808000\">city</span>=<span style=\"color: #800080; text-decoration-color: #800080\">长沙</span><span style=\"font-weight: bold\">)</span>                                                                              \n",
       "</pre>\n"
      ],
      "text/plain": [
       "\u001b[32mDEBUG\u001b[0m Running: \u001b[1;35mget_weather\u001b[0m\u001b[1m(\u001b[0m\u001b[33mcity\u001b[0m=\u001b[35m长沙\u001b[0m\u001b[1m)\u001b[0m                                                                              \n"
      ]
     },
     "metadata": {},
     "output_type": "display_data"
    },
    {
     "data": {
      "text/html": [
       "<pre style=\"white-space:pre;overflow-x:auto;line-height:normal;font-family:Menlo,'DejaVu Sans Mono',consolas,'Courier New',monospace\"><span style=\"color: #008000; text-decoration-color: #008000\">DEBUG</span> =========================== tool ===========================                                                 \n",
       "</pre>\n"
      ],
      "text/plain": [
       "\u001b[32mDEBUG\u001b[0m =========================== tool ===========================                                                 \n"
      ]
     },
     "metadata": {},
     "output_type": "display_data"
    },
    {
     "data": {
      "text/html": [
       "<pre style=\"white-space:pre;overflow-x:auto;line-height:normal;font-family:Menlo,'DejaVu Sans Mono',consolas,'Courier New',monospace\"><span style=\"color: #008000; text-decoration-color: #008000\">DEBUG</span> Tool call Id: call_f885dafcea7a4c78a235ae                                                                    \n",
       "</pre>\n"
      ],
      "text/plain": [
       "\u001b[32mDEBUG\u001b[0m Tool call Id: call_f885dafcea7a4c78a235ae                                                                    \n"
      ]
     },
     "metadata": {},
     "output_type": "display_data"
    },
    {
     "data": {
      "text/html": [
       "<pre style=\"white-space:pre;overflow-x:auto;line-height:normal;font-family:Menlo,'DejaVu Sans Mono',consolas,'Courier New',monospace\"><span style=\"color: #008000; text-decoration-color: #008000\">DEBUG</span> Cloudy                                                                                                       \n",
       "</pre>\n"
      ],
      "text/plain": [
       "\u001b[32mDEBUG\u001b[0m Cloudy                                                                                                       \n"
      ]
     },
     "metadata": {},
     "output_type": "display_data"
    },
    {
     "data": {
      "text/html": [
       "<pre style=\"white-space:pre;overflow-x:auto;line-height:normal;font-family:Menlo,'DejaVu Sans Mono',consolas,'Courier New',monospace\"><span style=\"color: #008000; text-decoration-color: #008000\">DEBUG</span> **********************  TOOL METRICS  **********************                                                 \n",
       "</pre>\n"
      ],
      "text/plain": [
       "\u001b[32mDEBUG\u001b[0m **********************  TOOL METRICS  **********************                                                 \n"
      ]
     },
     "metadata": {},
     "output_type": "display_data"
    },
    {
     "data": {
      "text/html": [
       "<pre style=\"white-space:pre;overflow-x:auto;line-height:normal;font-family:Menlo,'DejaVu Sans Mono',consolas,'Courier New',monospace\"><span style=\"color: #008000; text-decoration-color: #008000\">DEBUG</span> * Time:                        <span style=\"color: #008080; text-decoration-color: #008080; font-weight: bold\">0.</span>0042s                                                                       \n",
       "</pre>\n"
      ],
      "text/plain": [
       "\u001b[32mDEBUG\u001b[0m * Time:                        \u001b[1;36m0.\u001b[0m0042s                                                                       \n"
      ]
     },
     "metadata": {},
     "output_type": "display_data"
    },
    {
     "data": {
      "text/html": [
       "<pre style=\"white-space:pre;overflow-x:auto;line-height:normal;font-family:Menlo,'DejaVu Sans Mono',consolas,'Courier New',monospace\"><span style=\"color: #008000; text-decoration-color: #008000\">DEBUG</span> **********************  TOOL METRICS  **********************                                                 \n",
       "</pre>\n"
      ],
      "text/plain": [
       "\u001b[32mDEBUG\u001b[0m **********************  TOOL METRICS  **********************                                                 \n"
      ]
     },
     "metadata": {},
     "output_type": "display_data"
    },
    {
     "data": {
      "text/html": [
       "<pre style=\"white-space:pre;overflow-x:auto;line-height:normal;font-family:Menlo,'DejaVu Sans Mono',consolas,'Courier New',monospace\"><span style=\"color: #008000; text-decoration-color: #008000\">DEBUG</span> ======================== assistant =========================                                                 \n",
       "</pre>\n"
      ],
      "text/plain": [
       "\u001b[32mDEBUG\u001b[0m ======================== assistant =========================                                                 \n"
      ]
     },
     "metadata": {},
     "output_type": "display_data"
    },
    {
     "data": {
      "text/html": [
       "<pre style=\"white-space:pre;overflow-x:auto;line-height:normal;font-family:Menlo,'DejaVu Sans Mono',consolas,'Courier New',monospace\"><span style=\"color: #008000; text-decoration-color: #008000\">DEBUG</span> Tool Calls:                                                                                                  \n",
       "        - ID: <span style=\"color: #008000; text-decoration-color: #008000\">'call_9e09495dc3a5409ca0edd1'</span>                                                                        \n",
       "          Name: <span style=\"color: #008000; text-decoration-color: #008000\">'think'</span>                                                                                            \n",
       "          Arguments: <span style=\"color: #008000; text-decoration-color: #008000\">'action: Recommend outdoor activities., confidence: 0.9, thought: Since the weather in </span>       \n",
       "      <span style=\"color: #008000; text-decoration-color: #008000\">Changsha is cloudy today, it is suitable for various outdoor activities such as visiting parks, taking a </span>    \n",
       "      <span style=\"color: #008000; text-decoration-color: #008000\">walk, or exploring scenic spots. I will now finalize and provide this recommendation., title: Suggest </span>       \n",
       "      <span style=\"color: #008000; text-decoration-color: #008000\">Suitable Activities'</span>                                                                                         \n",
       "</pre>\n"
      ],
      "text/plain": [
       "\u001b[32mDEBUG\u001b[0m Tool Calls:                                                                                                  \n",
       "        - ID: \u001b[32m'call_9e09495dc3a5409ca0edd1'\u001b[0m                                                                        \n",
       "          Name: \u001b[32m'think'\u001b[0m                                                                                            \n",
       "          Arguments: \u001b[32m'action: Recommend outdoor activities., confidence: 0.9, thought: Since the weather in \u001b[0m       \n",
       "      \u001b[32mChangsha is cloudy today, it is suitable for various outdoor activities such as visiting parks, taking a \u001b[0m    \n",
       "      \u001b[32mwalk, or exploring scenic spots. I will now finalize and provide this recommendation., title: Suggest \u001b[0m       \n",
       "      \u001b[32mSuitable Activities'\u001b[0m                                                                                         \n"
      ]
     },
     "metadata": {},
     "output_type": "display_data"
    },
    {
     "data": {
      "text/html": [
       "<pre style=\"white-space:pre;overflow-x:auto;line-height:normal;font-family:Menlo,'DejaVu Sans Mono',consolas,'Courier New',monospace\"><span style=\"color: #008000; text-decoration-color: #008000\">DEBUG</span> ************************  METRICS  *************************                                                 \n",
       "</pre>\n"
      ],
      "text/plain": [
       "\u001b[32mDEBUG\u001b[0m ************************  METRICS  *************************                                                 \n"
      ]
     },
     "metadata": {},
     "output_type": "display_data"
    },
    {
     "data": {
      "text/html": [
       "<pre style=\"white-space:pre;overflow-x:auto;line-height:normal;font-family:Menlo,'DejaVu Sans Mono',consolas,'Courier New',monospace\"><span style=\"color: #008000; text-decoration-color: #008000\">DEBUG</span> * Tokens:                      <span style=\"color: #808000; text-decoration-color: #808000\">input</span>=<span style=\"color: #008080; text-decoration-color: #008080; font-weight: bold\">1811</span>, <span style=\"color: #808000; text-decoration-color: #808000\">output</span>=<span style=\"color: #008080; text-decoration-color: #008080; font-weight: bold\">81</span>, <span style=\"color: #808000; text-decoration-color: #808000\">total</span>=<span style=\"color: #008080; text-decoration-color: #008080; font-weight: bold\">1892</span>                                             \n",
       "</pre>\n"
      ],
      "text/plain": [
       "\u001b[32mDEBUG\u001b[0m * Tokens:                      \u001b[33minput\u001b[0m=\u001b[1;36m1811\u001b[0m, \u001b[33moutput\u001b[0m=\u001b[1;36m81\u001b[0m, \u001b[33mtotal\u001b[0m=\u001b[1;36m1892\u001b[0m                                             \n"
      ]
     },
     "metadata": {},
     "output_type": "display_data"
    },
    {
     "data": {
      "text/html": [
       "<pre style=\"white-space:pre;overflow-x:auto;line-height:normal;font-family:Menlo,'DejaVu Sans Mono',consolas,'Courier New',monospace\"><span style=\"color: #008000; text-decoration-color: #008000\">DEBUG</span> * Time:                        <span style=\"color: #008080; text-decoration-color: #008080; font-weight: bold\">5.</span>1251s                                                                       \n",
       "</pre>\n"
      ],
      "text/plain": [
       "\u001b[32mDEBUG\u001b[0m * Time:                        \u001b[1;36m5.\u001b[0m1251s                                                                       \n"
      ]
     },
     "metadata": {},
     "output_type": "display_data"
    },
    {
     "data": {
      "text/html": [
       "<pre style=\"white-space:pre;overflow-x:auto;line-height:normal;font-family:Menlo,'DejaVu Sans Mono',consolas,'Courier New',monospace\"><span style=\"color: #008000; text-decoration-color: #008000\">DEBUG</span> * Tokens per second:           <span style=\"color: #008080; text-decoration-color: #008080; font-weight: bold\">15.8045</span> tokens/s                                                              \n",
       "</pre>\n"
      ],
      "text/plain": [
       "\u001b[32mDEBUG\u001b[0m * Tokens per second:           \u001b[1;36m15.8045\u001b[0m tokens/s                                                              \n"
      ]
     },
     "metadata": {},
     "output_type": "display_data"
    },
    {
     "data": {
      "text/html": [
       "<pre style=\"white-space:pre;overflow-x:auto;line-height:normal;font-family:Menlo,'DejaVu Sans Mono',consolas,'Courier New',monospace\"><span style=\"color: #008000; text-decoration-color: #008000\">DEBUG</span> ************************  METRICS  *************************                                                 \n",
       "</pre>\n"
      ],
      "text/plain": [
       "\u001b[32mDEBUG\u001b[0m ************************  METRICS  *************************                                                 \n"
      ]
     },
     "metadata": {},
     "output_type": "display_data"
    },
    {
     "data": {
      "text/html": [
       "<pre style=\"white-space:pre;overflow-x:auto;line-height:normal;font-family:Menlo,'DejaVu Sans Mono',consolas,'Courier New',monospace\"><span style=\"color: #008000; text-decoration-color: #008000\">DEBUG</span> Running: <span style=\"color: #800080; text-decoration-color: #800080; font-weight: bold\">think</span><span style=\"font-weight: bold\">(</span><span style=\"color: #808000; text-decoration-color: #808000\">...</span><span style=\"font-weight: bold\">)</span>                                                                                          \n",
       "</pre>\n"
      ],
      "text/plain": [
       "\u001b[32mDEBUG\u001b[0m Running: \u001b[1;35mthink\u001b[0m\u001b[1m(\u001b[0m\u001b[33m...\u001b[0m\u001b[1m)\u001b[0m                                                                                          \n"
      ]
     },
     "metadata": {},
     "output_type": "display_data"
    },
    {
     "data": {
      "text/html": [
       "<pre style=\"white-space:pre;overflow-x:auto;line-height:normal;font-family:Menlo,'DejaVu Sans Mono',consolas,'Courier New',monospace\"><span style=\"color: #008000; text-decoration-color: #008000\">DEBUG</span> Thought about Suggest Suitable Activities                                                                    \n",
       "</pre>\n"
      ],
      "text/plain": [
       "\u001b[32mDEBUG\u001b[0m Thought about Suggest Suitable Activities                                                                    \n"
      ]
     },
     "metadata": {},
     "output_type": "display_data"
    },
    {
     "data": {
      "text/html": [
       "<pre style=\"white-space:pre;overflow-x:auto;line-height:normal;font-family:Menlo,'DejaVu Sans Mono',consolas,'Courier New',monospace\"><span style=\"color: #008000; text-decoration-color: #008000\">DEBUG</span> =========================== tool ===========================                                                 \n",
       "</pre>\n"
      ],
      "text/plain": [
       "\u001b[32mDEBUG\u001b[0m =========================== tool ===========================                                                 \n"
      ]
     },
     "metadata": {},
     "output_type": "display_data"
    },
    {
     "data": {
      "text/html": [
       "<pre style=\"white-space:pre;overflow-x:auto;line-height:normal;font-family:Menlo,'DejaVu Sans Mono',consolas,'Courier New',monospace\"><span style=\"color: #008000; text-decoration-color: #008000\">DEBUG</span> Tool call Id: call_9e09495dc3a5409ca0edd1                                                                    \n",
       "</pre>\n"
      ],
      "text/plain": [
       "\u001b[32mDEBUG\u001b[0m Tool call Id: call_9e09495dc3a5409ca0edd1                                                                    \n"
      ]
     },
     "metadata": {},
     "output_type": "display_data"
    },
    {
     "data": {
      "text/html": [
       "<pre style=\"white-space:pre;overflow-x:auto;line-height:normal;font-family:Menlo,'DejaVu Sans Mono',consolas,'Courier New',monospace\"><span style=\"color: #008000; text-decoration-color: #008000\">DEBUG</span> Step <span style=\"color: #008080; text-decoration-color: #008080; font-weight: bold\">1</span>:                                                                                                      \n",
       "      Title: Check Weather for Activity Planning                                                                   \n",
       "      Reasoning: To suggest a suitable activity for today in Changsha, I need to first check the current weather   \n",
       "      conditions there. Based on the weather result, I can then recommend an appropriate indoor or outdoor         \n",
       "      activity.                                                                                                    \n",
       "      Action: Determine the appropriate activity based on today's weather in Changsha.                             \n",
       "      Confidence: <span style=\"color: #008080; text-decoration-color: #008080; font-weight: bold\">0.8</span>                                                                                              \n",
       "                                                                                                                   \n",
       "      Step <span style=\"color: #008080; text-decoration-color: #008080; font-weight: bold\">2</span>:                                                                                                      \n",
       "      Title: Suggest Suitable Activities                                                                           \n",
       "      Reasoning: Since the weather in Changsha is cloudy today, it is suitable for various outdoor activities such \n",
       "      as visiting parks, taking a walk, or exploring scenic spots. I will now finalize and provide this            \n",
       "      recommendation.                                                                                              \n",
       "      Action: Recommend outdoor activities.                                                                        \n",
       "      Confidence: <span style=\"color: #008080; text-decoration-color: #008080; font-weight: bold\">0.9</span>                                                                                              \n",
       "</pre>\n"
      ],
      "text/plain": [
       "\u001b[32mDEBUG\u001b[0m Step \u001b[1;36m1\u001b[0m:                                                                                                      \n",
       "      Title: Check Weather for Activity Planning                                                                   \n",
       "      Reasoning: To suggest a suitable activity for today in Changsha, I need to first check the current weather   \n",
       "      conditions there. Based on the weather result, I can then recommend an appropriate indoor or outdoor         \n",
       "      activity.                                                                                                    \n",
       "      Action: Determine the appropriate activity based on today's weather in Changsha.                             \n",
       "      Confidence: \u001b[1;36m0.8\u001b[0m                                                                                              \n",
       "                                                                                                                   \n",
       "      Step \u001b[1;36m2\u001b[0m:                                                                                                      \n",
       "      Title: Suggest Suitable Activities                                                                           \n",
       "      Reasoning: Since the weather in Changsha is cloudy today, it is suitable for various outdoor activities such \n",
       "      as visiting parks, taking a walk, or exploring scenic spots. I will now finalize and provide this            \n",
       "      recommendation.                                                                                              \n",
       "      Action: Recommend outdoor activities.                                                                        \n",
       "      Confidence: \u001b[1;36m0.9\u001b[0m                                                                                              \n"
      ]
     },
     "metadata": {},
     "output_type": "display_data"
    },
    {
     "data": {
      "text/html": [
       "<pre style=\"white-space:pre;overflow-x:auto;line-height:normal;font-family:Menlo,'DejaVu Sans Mono',consolas,'Courier New',monospace\"><span style=\"color: #008000; text-decoration-color: #008000\">DEBUG</span> **********************  TOOL METRICS  **********************                                                 \n",
       "</pre>\n"
      ],
      "text/plain": [
       "\u001b[32mDEBUG\u001b[0m **********************  TOOL METRICS  **********************                                                 \n"
      ]
     },
     "metadata": {},
     "output_type": "display_data"
    },
    {
     "data": {
      "text/html": [
       "<pre style=\"white-space:pre;overflow-x:auto;line-height:normal;font-family:Menlo,'DejaVu Sans Mono',consolas,'Courier New',monospace\"><span style=\"color: #008000; text-decoration-color: #008000\">DEBUG</span> * Time:                        <span style=\"color: #008080; text-decoration-color: #008080; font-weight: bold\">0.</span>0037s                                                                       \n",
       "</pre>\n"
      ],
      "text/plain": [
       "\u001b[32mDEBUG\u001b[0m * Time:                        \u001b[1;36m0.\u001b[0m0037s                                                                       \n"
      ]
     },
     "metadata": {},
     "output_type": "display_data"
    },
    {
     "data": {
      "text/html": [
       "<pre style=\"white-space:pre;overflow-x:auto;line-height:normal;font-family:Menlo,'DejaVu Sans Mono',consolas,'Courier New',monospace\"><span style=\"color: #008000; text-decoration-color: #008000\">DEBUG</span> **********************  TOOL METRICS  **********************                                                 \n",
       "</pre>\n"
      ],
      "text/plain": [
       "\u001b[32mDEBUG\u001b[0m **********************  TOOL METRICS  **********************                                                 \n"
      ]
     },
     "metadata": {},
     "output_type": "display_data"
    },
    {
     "data": {
      "text/html": [
       "<pre style=\"white-space:pre;overflow-x:auto;line-height:normal;font-family:Menlo,'DejaVu Sans Mono',consolas,'Courier New',monospace\"><span style=\"color: #008000; text-decoration-color: #008000\">DEBUG</span> ======================== assistant =========================                                                 \n",
       "</pre>\n"
      ],
      "text/plain": [
       "\u001b[32mDEBUG\u001b[0m ======================== assistant =========================                                                 \n"
      ]
     },
     "metadata": {},
     "output_type": "display_data"
    },
    {
     "data": {
      "text/html": [
       "<pre style=\"white-space:pre;overflow-x:auto;line-height:normal;font-family:Menlo,'DejaVu Sans Mono',consolas,'Courier New',monospace\"><span style=\"color: #008000; text-decoration-color: #008000\">DEBUG</span> Tool Calls:                                                                                                  \n",
       "        - ID: <span style=\"color: #008000; text-decoration-color: #008000\">'call_6976495fe11d47759e9476'</span>                                                                        \n",
       "          Name: <span style=\"color: #008000; text-decoration-color: #008000\">'analyze'</span>                                                                                          \n",
       "          Arguments: <span style=\"color: #008000; text-decoration-color: #008000\">'analysis: The cloudy weather in Changsha is ideal for outdoor activities, as it provides a </span>  \n",
       "      <span style=\"color: #008000; text-decoration-color: #008000\">comfortable environment without direct sunlight. Recommending parks or scenic spots aligns well with the </span>    \n",
       "      <span style=\"color: #008000; text-decoration-color: #008000\">conditions., confidence: 0.95, next_action: final_answer, result: Cloudy weather suggests comfortable </span>       \n",
       "      <span style=\"color: #008000; text-decoration-color: #008000\">conditions for outdoor activities like visiting parks or exploring scenic spots., title: Finalize </span>           \n",
       "      <span style=\"color: #008000; text-decoration-color: #008000\">Recommendation'</span>                                                                                              \n",
       "</pre>\n"
      ],
      "text/plain": [
       "\u001b[32mDEBUG\u001b[0m Tool Calls:                                                                                                  \n",
       "        - ID: \u001b[32m'call_6976495fe11d47759e9476'\u001b[0m                                                                        \n",
       "          Name: \u001b[32m'analyze'\u001b[0m                                                                                          \n",
       "          Arguments: \u001b[32m'analysis: The cloudy weather in Changsha is ideal for outdoor activities, as it provides a \u001b[0m  \n",
       "      \u001b[32mcomfortable environment without direct sunlight. Recommending parks or scenic spots aligns well with the \u001b[0m    \n",
       "      \u001b[32mconditions., confidence: 0.95, next_action: final_answer, result: Cloudy weather suggests comfortable \u001b[0m       \n",
       "      \u001b[32mconditions for outdoor activities like visiting parks or exploring scenic spots., title: Finalize \u001b[0m           \n",
       "      \u001b[32mRecommendation'\u001b[0m                                                                                              \n"
      ]
     },
     "metadata": {},
     "output_type": "display_data"
    },
    {
     "data": {
      "text/html": [
       "<pre style=\"white-space:pre;overflow-x:auto;line-height:normal;font-family:Menlo,'DejaVu Sans Mono',consolas,'Courier New',monospace\"><span style=\"color: #008000; text-decoration-color: #008000\">DEBUG</span> ************************  METRICS  *************************                                                 \n",
       "</pre>\n"
      ],
      "text/plain": [
       "\u001b[32mDEBUG\u001b[0m ************************  METRICS  *************************                                                 \n"
      ]
     },
     "metadata": {},
     "output_type": "display_data"
    },
    {
     "data": {
      "text/html": [
       "<pre style=\"white-space:pre;overflow-x:auto;line-height:normal;font-family:Menlo,'DejaVu Sans Mono',consolas,'Courier New',monospace\"><span style=\"color: #008000; text-decoration-color: #008000\">DEBUG</span> * Tokens:                      <span style=\"color: #808000; text-decoration-color: #808000\">input</span>=<span style=\"color: #008080; text-decoration-color: #008080; font-weight: bold\">2050</span>, <span style=\"color: #808000; text-decoration-color: #808000\">output</span>=<span style=\"color: #008080; text-decoration-color: #008080; font-weight: bold\">97</span>, <span style=\"color: #808000; text-decoration-color: #808000\">total</span>=<span style=\"color: #008080; text-decoration-color: #008080; font-weight: bold\">2147</span>                                             \n",
       "</pre>\n"
      ],
      "text/plain": [
       "\u001b[32mDEBUG\u001b[0m * Tokens:                      \u001b[33minput\u001b[0m=\u001b[1;36m2050\u001b[0m, \u001b[33moutput\u001b[0m=\u001b[1;36m97\u001b[0m, \u001b[33mtotal\u001b[0m=\u001b[1;36m2147\u001b[0m                                             \n"
      ]
     },
     "metadata": {},
     "output_type": "display_data"
    },
    {
     "data": {
      "text/html": [
       "<pre style=\"white-space:pre;overflow-x:auto;line-height:normal;font-family:Menlo,'DejaVu Sans Mono',consolas,'Courier New',monospace\"><span style=\"color: #008000; text-decoration-color: #008000\">DEBUG</span> * Time:                        <span style=\"color: #008080; text-decoration-color: #008080; font-weight: bold\">4.</span>9648s                                                                       \n",
       "</pre>\n"
      ],
      "text/plain": [
       "\u001b[32mDEBUG\u001b[0m * Time:                        \u001b[1;36m4.\u001b[0m9648s                                                                       \n"
      ]
     },
     "metadata": {},
     "output_type": "display_data"
    },
    {
     "data": {
      "text/html": [
       "<pre style=\"white-space:pre;overflow-x:auto;line-height:normal;font-family:Menlo,'DejaVu Sans Mono',consolas,'Courier New',monospace\"><span style=\"color: #008000; text-decoration-color: #008000\">DEBUG</span> * Tokens per second:           <span style=\"color: #008080; text-decoration-color: #008080; font-weight: bold\">19.5374</span> tokens/s                                                              \n",
       "</pre>\n"
      ],
      "text/plain": [
       "\u001b[32mDEBUG\u001b[0m * Tokens per second:           \u001b[1;36m19.5374\u001b[0m tokens/s                                                              \n"
      ]
     },
     "metadata": {},
     "output_type": "display_data"
    },
    {
     "data": {
      "text/html": [
       "<pre style=\"white-space:pre;overflow-x:auto;line-height:normal;font-family:Menlo,'DejaVu Sans Mono',consolas,'Courier New',monospace\"><span style=\"color: #008000; text-decoration-color: #008000\">DEBUG</span> ************************  METRICS  *************************                                                 \n",
       "</pre>\n"
      ],
      "text/plain": [
       "\u001b[32mDEBUG\u001b[0m ************************  METRICS  *************************                                                 \n"
      ]
     },
     "metadata": {},
     "output_type": "display_data"
    },
    {
     "data": {
      "text/html": [
       "<pre style=\"white-space:pre;overflow-x:auto;line-height:normal;font-family:Menlo,'DejaVu Sans Mono',consolas,'Courier New',monospace\"><span style=\"color: #008000; text-decoration-color: #008000\">DEBUG</span> Running: <span style=\"color: #800080; text-decoration-color: #800080; font-weight: bold\">analyze</span><span style=\"font-weight: bold\">(</span><span style=\"color: #808000; text-decoration-color: #808000\">...</span><span style=\"font-weight: bold\">)</span>                                                                                        \n",
       "</pre>\n"
      ],
      "text/plain": [
       "\u001b[32mDEBUG\u001b[0m Running: \u001b[1;35manalyze\u001b[0m\u001b[1m(\u001b[0m\u001b[33m...\u001b[0m\u001b[1m)\u001b[0m                                                                                        \n"
      ]
     },
     "metadata": {},
     "output_type": "display_data"
    },
    {
     "data": {
      "text/html": [
       "<pre style=\"white-space:pre;overflow-x:auto;line-height:normal;font-family:Menlo,'DejaVu Sans Mono',consolas,'Courier New',monospace\"><span style=\"color: #008000; text-decoration-color: #008000\">DEBUG</span> Analyzed Finalize Recommendation                                                                             \n",
       "</pre>\n"
      ],
      "text/plain": [
       "\u001b[32mDEBUG\u001b[0m Analyzed Finalize Recommendation                                                                             \n"
      ]
     },
     "metadata": {},
     "output_type": "display_data"
    },
    {
     "data": {
      "text/html": [
       "<pre style=\"white-space:pre;overflow-x:auto;line-height:normal;font-family:Menlo,'DejaVu Sans Mono',consolas,'Courier New',monospace\"><span style=\"color: #008000; text-decoration-color: #008000\">DEBUG</span> =========================== tool ===========================                                                 \n",
       "</pre>\n"
      ],
      "text/plain": [
       "\u001b[32mDEBUG\u001b[0m =========================== tool ===========================                                                 \n"
      ]
     },
     "metadata": {},
     "output_type": "display_data"
    },
    {
     "data": {
      "text/html": [
       "<pre style=\"white-space:pre;overflow-x:auto;line-height:normal;font-family:Menlo,'DejaVu Sans Mono',consolas,'Courier New',monospace\"><span style=\"color: #008000; text-decoration-color: #008000\">DEBUG</span> Tool call Id: call_6976495fe11d47759e9476                                                                    \n",
       "</pre>\n"
      ],
      "text/plain": [
       "\u001b[32mDEBUG\u001b[0m Tool call Id: call_6976495fe11d47759e9476                                                                    \n"
      ]
     },
     "metadata": {},
     "output_type": "display_data"
    },
    {
     "data": {
      "text/html": [
       "<pre style=\"white-space:pre;overflow-x:auto;line-height:normal;font-family:Menlo,'DejaVu Sans Mono',consolas,'Courier New',monospace\"><span style=\"color: #008000; text-decoration-color: #008000\">DEBUG</span> Step <span style=\"color: #008080; text-decoration-color: #008080; font-weight: bold\">1</span>:                                                                                                      \n",
       "      Title: Check Weather for Activity Planning                                                                   \n",
       "      Reasoning: To suggest a suitable activity for today in Changsha, I need to first check the current weather   \n",
       "      conditions there. Based on the weather result, I can then recommend an appropriate indoor or outdoor         \n",
       "      activity.                                                                                                    \n",
       "      Action: Determine the appropriate activity based on today's weather in Changsha.                             \n",
       "      Confidence: <span style=\"color: #008080; text-decoration-color: #008080; font-weight: bold\">0.8</span>                                                                                              \n",
       "                                                                                                                   \n",
       "      Step <span style=\"color: #008080; text-decoration-color: #008080; font-weight: bold\">2</span>:                                                                                                      \n",
       "      Title: Suggest Suitable Activities                                                                           \n",
       "      Reasoning: Since the weather in Changsha is cloudy today, it is suitable for various outdoor activities such \n",
       "      as visiting parks, taking a walk, or exploring scenic spots. I will now finalize and provide this            \n",
       "      recommendation.                                                                                              \n",
       "      Action: Recommend outdoor activities.                                                                        \n",
       "      Confidence: <span style=\"color: #008080; text-decoration-color: #008080; font-weight: bold\">0.9</span>                                                                                              \n",
       "                                                                                                                   \n",
       "      Step <span style=\"color: #008080; text-decoration-color: #008080; font-weight: bold\">3</span>:                                                                                                      \n",
       "      Title: Finalize Recommendation                                                                               \n",
       "      Reasoning: The cloudy weather in Changsha is ideal for outdoor activities, as it provides a comfortable      \n",
       "      environment without direct sunlight. Recommending parks or scenic spots aligns well with the conditions.     \n",
       "      Action: <span style=\"color: #800080; text-decoration-color: #800080; font-style: italic\">None</span>                                                                                                 \n",
       "      Confidence: <span style=\"color: #008080; text-decoration-color: #008080; font-weight: bold\">0.95</span>                                                                                             \n",
       "</pre>\n"
      ],
      "text/plain": [
       "\u001b[32mDEBUG\u001b[0m Step \u001b[1;36m1\u001b[0m:                                                                                                      \n",
       "      Title: Check Weather for Activity Planning                                                                   \n",
       "      Reasoning: To suggest a suitable activity for today in Changsha, I need to first check the current weather   \n",
       "      conditions there. Based on the weather result, I can then recommend an appropriate indoor or outdoor         \n",
       "      activity.                                                                                                    \n",
       "      Action: Determine the appropriate activity based on today's weather in Changsha.                             \n",
       "      Confidence: \u001b[1;36m0.8\u001b[0m                                                                                              \n",
       "                                                                                                                   \n",
       "      Step \u001b[1;36m2\u001b[0m:                                                                                                      \n",
       "      Title: Suggest Suitable Activities                                                                           \n",
       "      Reasoning: Since the weather in Changsha is cloudy today, it is suitable for various outdoor activities such \n",
       "      as visiting parks, taking a walk, or exploring scenic spots. I will now finalize and provide this            \n",
       "      recommendation.                                                                                              \n",
       "      Action: Recommend outdoor activities.                                                                        \n",
       "      Confidence: \u001b[1;36m0.9\u001b[0m                                                                                              \n",
       "                                                                                                                   \n",
       "      Step \u001b[1;36m3\u001b[0m:                                                                                                      \n",
       "      Title: Finalize Recommendation                                                                               \n",
       "      Reasoning: The cloudy weather in Changsha is ideal for outdoor activities, as it provides a comfortable      \n",
       "      environment without direct sunlight. Recommending parks or scenic spots aligns well with the conditions.     \n",
       "      Action: \u001b[3;35mNone\u001b[0m                                                                                                 \n",
       "      Confidence: \u001b[1;36m0.95\u001b[0m                                                                                             \n"
      ]
     },
     "metadata": {},
     "output_type": "display_data"
    },
    {
     "data": {
      "text/html": [
       "<pre style=\"white-space:pre;overflow-x:auto;line-height:normal;font-family:Menlo,'DejaVu Sans Mono',consolas,'Courier New',monospace\"><span style=\"color: #008000; text-decoration-color: #008000\">DEBUG</span> **********************  TOOL METRICS  **********************                                                 \n",
       "</pre>\n"
      ],
      "text/plain": [
       "\u001b[32mDEBUG\u001b[0m **********************  TOOL METRICS  **********************                                                 \n"
      ]
     },
     "metadata": {},
     "output_type": "display_data"
    },
    {
     "data": {
      "text/html": [
       "<pre style=\"white-space:pre;overflow-x:auto;line-height:normal;font-family:Menlo,'DejaVu Sans Mono',consolas,'Courier New',monospace\"><span style=\"color: #008000; text-decoration-color: #008000\">DEBUG</span> * Time:                        <span style=\"color: #008080; text-decoration-color: #008080; font-weight: bold\">0.</span>0060s                                                                       \n",
       "</pre>\n"
      ],
      "text/plain": [
       "\u001b[32mDEBUG\u001b[0m * Time:                        \u001b[1;36m0.\u001b[0m0060s                                                                       \n"
      ]
     },
     "metadata": {},
     "output_type": "display_data"
    },
    {
     "data": {
      "text/html": [
       "<pre style=\"white-space:pre;overflow-x:auto;line-height:normal;font-family:Menlo,'DejaVu Sans Mono',consolas,'Courier New',monospace\"><span style=\"color: #008000; text-decoration-color: #008000\">DEBUG</span> **********************  TOOL METRICS  **********************                                                 \n",
       "</pre>\n"
      ],
      "text/plain": [
       "\u001b[32mDEBUG\u001b[0m **********************  TOOL METRICS  **********************                                                 \n"
      ]
     },
     "metadata": {},
     "output_type": "display_data"
    },
    {
     "data": {
      "text/html": [
       "<pre style=\"white-space:pre;overflow-x:auto;line-height:normal;font-family:Menlo,'DejaVu Sans Mono',consolas,'Courier New',monospace\"><span style=\"color: #008000; text-decoration-color: #008000\">DEBUG</span> ======================== assistant =========================                                                 \n",
       "</pre>\n"
      ],
      "text/plain": [
       "\u001b[32mDEBUG\u001b[0m ======================== assistant =========================                                                 \n"
      ]
     },
     "metadata": {},
     "output_type": "display_data"
    },
    {
     "data": {
      "text/html": [
       "<pre style=\"white-space:pre;overflow-x:auto;line-height:normal;font-family:Menlo,'DejaVu Sans Mono',consolas,'Courier New',monospace\"><span style=\"color: #008000; text-decoration-color: #008000\">DEBUG</span> 今天长沙的天气适合进行户外活动，比如参观公园、散步或探索风景名胜。由于天气多云，阳光不强烈，这样的天气非常适 \n",
       "      合在自然环境中度过愉快的一天！                                                                               \n",
       "</pre>\n"
      ],
      "text/plain": [
       "\u001b[32mDEBUG\u001b[0m 今天长沙的天气适合进行户外活动，比如参观公园、散步或探索风景名胜。由于天气多云，阳光不强烈，这样的天气非常适 \n",
       "      合在自然环境中度过愉快的一天！                                                                               \n"
      ]
     },
     "metadata": {},
     "output_type": "display_data"
    },
    {
     "data": {
      "text/html": [
       "<pre style=\"white-space:pre;overflow-x:auto;line-height:normal;font-family:Menlo,'DejaVu Sans Mono',consolas,'Courier New',monospace\"><span style=\"color: #008000; text-decoration-color: #008000\">DEBUG</span> ************************  METRICS  *************************                                                 \n",
       "</pre>\n"
      ],
      "text/plain": [
       "\u001b[32mDEBUG\u001b[0m ************************  METRICS  *************************                                                 \n"
      ]
     },
     "metadata": {},
     "output_type": "display_data"
    },
    {
     "data": {
      "text/html": [
       "<pre style=\"white-space:pre;overflow-x:auto;line-height:normal;font-family:Menlo,'DejaVu Sans Mono',consolas,'Courier New',monospace\"><span style=\"color: #008000; text-decoration-color: #008000\">DEBUG</span> * Tokens:                      <span style=\"color: #808000; text-decoration-color: #808000\">input</span>=<span style=\"color: #008080; text-decoration-color: #008080; font-weight: bold\">2366</span>, <span style=\"color: #808000; text-decoration-color: #808000\">output</span>=<span style=\"color: #008080; text-decoration-color: #008080; font-weight: bold\">40</span>, <span style=\"color: #808000; text-decoration-color: #808000\">total</span>=<span style=\"color: #008080; text-decoration-color: #008080; font-weight: bold\">2406</span>                                             \n",
       "</pre>\n"
      ],
      "text/plain": [
       "\u001b[32mDEBUG\u001b[0m * Tokens:                      \u001b[33minput\u001b[0m=\u001b[1;36m2366\u001b[0m, \u001b[33moutput\u001b[0m=\u001b[1;36m40\u001b[0m, \u001b[33mtotal\u001b[0m=\u001b[1;36m2406\u001b[0m                                             \n"
      ]
     },
     "metadata": {},
     "output_type": "display_data"
    },
    {
     "data": {
      "text/html": [
       "<pre style=\"white-space:pre;overflow-x:auto;line-height:normal;font-family:Menlo,'DejaVu Sans Mono',consolas,'Courier New',monospace\"><span style=\"color: #008000; text-decoration-color: #008000\">DEBUG</span> * Time:                        <span style=\"color: #008080; text-decoration-color: #008080; font-weight: bold\">3.</span>6411s                                                                       \n",
       "</pre>\n"
      ],
      "text/plain": [
       "\u001b[32mDEBUG\u001b[0m * Time:                        \u001b[1;36m3.\u001b[0m6411s                                                                       \n"
      ]
     },
     "metadata": {},
     "output_type": "display_data"
    },
    {
     "data": {
      "text/html": [
       "<pre style=\"white-space:pre;overflow-x:auto;line-height:normal;font-family:Menlo,'DejaVu Sans Mono',consolas,'Courier New',monospace\"><span style=\"color: #008000; text-decoration-color: #008000\">DEBUG</span> * Tokens per second:           <span style=\"color: #008080; text-decoration-color: #008080; font-weight: bold\">10.9857</span> tokens/s                                                              \n",
       "</pre>\n"
      ],
      "text/plain": [
       "\u001b[32mDEBUG\u001b[0m * Tokens per second:           \u001b[1;36m10.9857\u001b[0m tokens/s                                                              \n"
      ]
     },
     "metadata": {},
     "output_type": "display_data"
    },
    {
     "data": {
      "text/html": [
       "<pre style=\"white-space:pre;overflow-x:auto;line-height:normal;font-family:Menlo,'DejaVu Sans Mono',consolas,'Courier New',monospace\"><span style=\"color: #008000; text-decoration-color: #008000\">DEBUG</span> ************************  METRICS  *************************                                                 \n",
       "</pre>\n"
      ],
      "text/plain": [
       "\u001b[32mDEBUG\u001b[0m ************************  METRICS  *************************                                                 \n"
      ]
     },
     "metadata": {},
     "output_type": "display_data"
    },
    {
     "data": {
      "text/html": [
       "<pre style=\"white-space:pre;overflow-x:auto;line-height:normal;font-family:Menlo,'DejaVu Sans Mono',consolas,'Courier New',monospace\"><span style=\"color: #008000; text-decoration-color: #008000\">DEBUG</span> ------------------- OpenAI Response End --------------------                                                 \n",
       "</pre>\n"
      ],
      "text/plain": [
       "\u001b[32mDEBUG\u001b[0m ------------------- OpenAI Response End --------------------                                                 \n"
      ]
     },
     "metadata": {},
     "output_type": "display_data"
    },
    {
     "data": {
      "text/html": [
       "<pre style=\"white-space:pre;overflow-x:auto;line-height:normal;font-family:Menlo,'DejaVu Sans Mono',consolas,'Courier New',monospace\"><span style=\"color: #008000; text-decoration-color: #008000\">DEBUG</span> Added RunResponse to Memory                                                                                  \n",
       "</pre>\n"
      ],
      "text/plain": [
       "\u001b[32mDEBUG\u001b[0m Added RunResponse to Memory                                                                                  \n"
      ]
     },
     "metadata": {},
     "output_type": "display_data"
    },
    {
     "data": {
      "text/html": [
       "<pre style=\"white-space:pre;overflow-x:auto;line-height:normal;font-family:Menlo,'DejaVu Sans Mono',consolas,'Courier New',monospace\"><span style=\"color: #008000; text-decoration-color: #008000\">DEBUG</span> *** Agent Run End: <span style=\"color: #ffff00; text-decoration-color: #ffff00\">b951ee91-a3df-40e9-9ee5-cd7b7c641612</span> ****                                                 \n",
       "</pre>\n"
      ],
      "text/plain": [
       "\u001b[32mDEBUG\u001b[0m *** Agent Run End: \u001b[93mb951ee91-a3df-40e9-9ee5-cd7b7c641612\u001b[0m ****                                                 \n"
      ]
     },
     "metadata": {},
     "output_type": "display_data"
    }
   ],
   "source": [
    "response = agent.run(message='今天长沙适合什么活动',stream_intermediate_steps=True)"
   ]
  },
  {
   "cell_type": "code",
   "execution_count": 24,
   "id": "6000a8a4",
   "metadata": {},
   "outputs": [
    {
     "data": {
      "text/plain": [
       "[Message(role='system', content='<additional_information>\\n- Use markdown to format your answers.\\n</additional_information>\\n\\n<reasoning_instructions>\\nYou have access to the `think` and `analyze` tools to work through problems step-by-step and structure your thought process. You must ALWAYS `think` before making tool calls or generating a response.\\n\\n1. **Think** (scratchpad):\\n    - Purpose: Use the `think` tool as a scratchpad to break down complex problems, outline steps, and decide on immediate actions within your reasoning flow. Use this to structure your internal monologue.\\n    - Usage: Call `think` before making tool calls or generating a response. Explain your reasoning and specify the intended action (e.g., \"make a tool call\", \"perform calculation\", \"ask clarifying question\").\\n\\n2. **Analyze** (evaluation):\\n    - Purpose: Evaluate the result of a think step or a set of tool calls. Assess if the result is expected, sufficient, or requires further investigation.\\n    - Usage: Call `analyze` after a set of tool calls. Determine the `next_action` based on your analysis: `continue` (more reasoning needed), `validate` (seek external confirmation/validation if possible), or `final_answer` (ready to conclude).\\n    - Explain your reasoning highlighting whether the result is correct/sufficient.\\n\\n## IMPORTANT GUIDELINES\\n- **Always Think First:** You MUST use the `think` tool before making tool calls or generating a response.\\n- **Iterate to Solve:** Use the `think` and `analyze` tools iteratively to build a clear reasoning path. The typical flow is `Think` -> [`Tool Calls` if needed] -> [`Analyze` if needed] -> ... -> `final_answer`. Repeat this cycle until you reach a satisfactory conclusion.\\n- **Make multiple tool calls in parallel:** After a `think` step, you can make multiple tool calls in parallel.\\n- **Keep Thoughts Internal:** The reasoning steps (thoughts and analyses) are for your internal process only. Do not share them directly with the user.\\n- **Conclude Clearly:** When your analysis determines the `next_action` is `final_answer`, provide a concise and accurate final answer to the user.\\n\\nBelow are examples demonstrating how to use the `think` and `analyze` tools.\\n\\n### Examples\\n\\n**Example 1: Simple Fact Retrieval**\\n\\n*User Request:* How many continents are there on Earth?\\n\\n*Agent\\'s Internal Process:*\\n\\n```tool_call\\nthink(\\n  title=\"Understand Request\",\\n  thought=\"The user wants to know the standard number of continents on Earth. This is a common piece of knowledge.\",\\n  action=\"Recall or verify the number of continents.\",\\n  confidence=0.95\\n)\\n```\\n*--(Agent internally recalls the fact)--*\\n```tool_call\\nanalyze(\\n  title=\"Evaluate Fact\",\\n  result=\"Standard geographical models list 7 continents: Africa, Antarctica, Asia, Australia, Europe, North America, South America.\",\\n  analysis=\"The recalled information directly answers the user\\'s question accurately.\",\\n  next_action=\"final_answer\",\\n  confidence=1.0\\n)\\n```\\n\\n*Agent\\'s Final Answer to User:*\\nThere are 7 continents on Earth: Africa, Antarctica, Asia, Australia, Europe, North America, and South America.\\n\\n**Example 2: Multi-Step Information Gathering**\\n\\n*User Request:* What is the capital of France and its current population?\\n\\n*Agent\\'s Internal Process:*\\n\\n```tool_call\\nthink(\\n  title=\"Plan Information Retrieval\",\\n  thought=\"The user needs two pieces of information: the capital of France and its current population. I should use external tools (like search) to find the most up-to-date and accurate information.\",\\n  action=\"First, search for the capital of France.\",\\n  confidence=0.95\\n)\\n```\\n\\n*Perform multiple tool calls in parallel*\\n*--(Tool call 1: search(query=\"capital of France\"))--*\\n*--(Tool call 2: search(query=\"population of Paris current\"))--*\\n*--(Tool Result 1: \"Paris\")--*\\n*--(Tool Result 2: \"Approximately 2.1 million (city proper, estimate for early 2024)\")--*\\n\\n```tool_call\\nanalyze(\\n  title=\"Analyze Capital Search Result\",\\n  result=\"The search result indicates Paris is the capital of France.\",\\n  analysis=\"This provides the first piece of requested information. Now I need to find the population of Paris.\",\\n  next_action=\"continue\",\\n  confidence=1.0\\n)\\n```\\n```tool_call\\nanalyze(\\n  title=\"Analyze Population Search Result\",\\n  result=\"The search provided an estimated population figure for Paris.\",\\n  analysis=\"I now have both the capital and its estimated population. I can provide the final answer.\",\\n  next_action=\"final_answer\",\\n  confidence=0.9\\n)\\n```\\n\\n*Agent\\'s Final Answer to User:*\\nThe capital of France is Paris. Its estimated population (city proper) is approximately 2.1 million as of early 2024.\\n</reasoning_instructions>', name=None, tool_call_id=None, tool_calls=None, audio=None, images=None, videos=None, files=None, audio_output=None, image_output=None, thinking=None, redacted_thinking=None, provider_data=None, citations=None, reasoning_content=None, tool_name=None, tool_args=None, tool_call_error=None, stop_after_tool_call=False, add_to_agent_memory=True, from_history=False, metrics=MessageMetrics(input_tokens=0, output_tokens=0, total_tokens=0, audio_tokens=0, input_audio_tokens=0, output_audio_tokens=0, cached_tokens=0, cache_write_tokens=0, reasoning_tokens=0, prompt_tokens=0, completion_tokens=0, prompt_tokens_details=None, completion_tokens_details=None, additional_metrics=None, time=None, time_to_first_token=None, timer=None), references=None, created_at=1748736336),\n",
       " Message(role='user', content='今天长沙适合什么活动', name=None, tool_call_id=None, tool_calls=None, audio=None, images=None, videos=None, files=None, audio_output=None, image_output=None, thinking=None, redacted_thinking=None, provider_data=None, citations=None, reasoning_content=None, tool_name=None, tool_args=None, tool_call_error=None, stop_after_tool_call=False, add_to_agent_memory=True, from_history=False, metrics=MessageMetrics(input_tokens=0, output_tokens=0, total_tokens=0, audio_tokens=0, input_audio_tokens=0, output_audio_tokens=0, cached_tokens=0, cache_write_tokens=0, reasoning_tokens=0, prompt_tokens=0, completion_tokens=0, prompt_tokens_details=None, completion_tokens_details=None, additional_metrics=None, time=None, time_to_first_token=None, timer=None), references=None, created_at=1748736336),\n",
       " Message(role='assistant', content='', name=None, tool_call_id=None, tool_calls=[{'id': 'call_6df3ee6c327b4cbbbc7474', 'function': {'arguments': '{\"action\": \"获取天气信息\", \"confidence\": 0.9, \"thought\": \"为了确定今天长沙适合什么活动，我需要了解当前的天气情况。这可以通过调用get_weather函数来实现。\", \"title\": \"获取长沙天气\"}', 'name': 'think'}, 'type': 'function', 'index': 0}], audio=None, images=None, videos=None, files=None, audio_output=None, image_output=None, thinking=None, redacted_thinking=None, provider_data=None, citations=None, reasoning_content=None, tool_name=None, tool_args=None, tool_call_error=None, stop_after_tool_call=False, add_to_agent_memory=True, from_history=False, metrics=MessageMetrics(input_tokens=1601, output_tokens=67, total_tokens=1668, audio_tokens=0, input_audio_tokens=0, output_audio_tokens=0, cached_tokens=0, cache_write_tokens=0, reasoning_tokens=0, prompt_tokens=1601, completion_tokens=67, prompt_tokens_details=None, completion_tokens_details=None, additional_metrics=None, time=3.4496834999881685, time_to_first_token=None, timer=<agno.utils.timer.Timer object at 0x000002B070A5FE90>), references=None, created_at=1748736336),\n",
       " Message(role='tool', content='Step 1:\\nTitle: 获取长沙天气\\nReasoning: 为了确定今天长沙适合什么活动，我需要了解当前的天气情况。这可以通过调用get_weather函数来实现。\\nAction: 获取天气信息\\nConfidence: 0.9', name=None, tool_call_id='call_6df3ee6c327b4cbbbc7474', tool_calls=None, audio=None, images=None, videos=None, files=None, audio_output=None, image_output=None, thinking=None, redacted_thinking=None, provider_data=None, citations=None, reasoning_content=None, tool_name='think', tool_args={'action': '获取天气信息', 'confidence': 0.9, 'thought': '为了确定今天长沙适合什么活动，我需要了解当前的天气情况。这可以通过调用get_weather函数来实现。', 'title': '获取长沙天气'}, tool_call_error=False, stop_after_tool_call=False, add_to_agent_memory=True, from_history=False, metrics=MessageMetrics(input_tokens=0, output_tokens=0, total_tokens=0, audio_tokens=0, input_audio_tokens=0, output_audio_tokens=0, cached_tokens=0, cache_write_tokens=0, reasoning_tokens=0, prompt_tokens=0, completion_tokens=0, prompt_tokens_details=None, completion_tokens_details=None, additional_metrics=None, time=0.011381300049833953, time_to_first_token=None, timer=None), references=None, created_at=1748736339),\n",
       " Message(role='assistant', content='', name=None, tool_call_id=None, tool_calls=[{'id': 'call_a7d5b305833a47acadd721', 'function': {'arguments': '{\"city\": \"长沙\"}', 'name': 'get_weather'}, 'type': 'function', 'index': 0}], audio=None, images=None, videos=None, files=None, audio_output=None, image_output=None, thinking=None, redacted_thinking=None, provider_data=None, citations=None, reasoning_content=None, tool_name=None, tool_args=None, tool_call_error=None, stop_after_tool_call=False, add_to_agent_memory=True, from_history=False, metrics=MessageMetrics(input_tokens=1735, output_tokens=19, total_tokens=1754, audio_tokens=0, input_audio_tokens=0, output_audio_tokens=0, cached_tokens=0, cache_write_tokens=0, reasoning_tokens=0, prompt_tokens=1735, completion_tokens=19, prompt_tokens_details=None, completion_tokens_details=None, additional_metrics=None, time=3.059412300004624, time_to_first_token=None, timer=<agno.utils.timer.Timer object at 0x000002B070968830>), references=None, created_at=1748736339),\n",
       " Message(role='tool', content='Sunny', name=None, tool_call_id='call_a7d5b305833a47acadd721', tool_calls=None, audio=None, images=None, videos=None, files=None, audio_output=None, image_output=None, thinking=None, redacted_thinking=None, provider_data=None, citations=None, reasoning_content=None, tool_name='get_weather', tool_args={'city': '长沙'}, tool_call_error=False, stop_after_tool_call=False, add_to_agent_memory=True, from_history=False, metrics=MessageMetrics(input_tokens=0, output_tokens=0, total_tokens=0, audio_tokens=0, input_audio_tokens=0, output_audio_tokens=0, cached_tokens=0, cache_write_tokens=0, reasoning_tokens=0, prompt_tokens=0, completion_tokens=0, prompt_tokens_details=None, completion_tokens_details=None, additional_metrics=None, time=0.00912519998382777, time_to_first_token=None, timer=None), references=None, created_at=1748736342),\n",
       " Message(role='assistant', content='', name=None, tool_call_id=None, tool_calls=[{'id': 'call_47b1d900b88248ceb2bd7b', 'function': {'arguments': '{\"action\": \"分析天气数据\", \"confidence\": 0.95, \"thought\": \"长沙今天的天气是晴天，这意味着户外活动是一个不错的选择。可能的活动包括公园散步、骑自行车或野餐。\", \"title\": \"解释天气数据\"}', 'name': 'think'}, 'type': 'function', 'index': 0}], audio=None, images=None, videos=None, files=None, audio_output=None, image_output=None, thinking=None, redacted_thinking=None, provider_data=None, citations=None, reasoning_content=None, tool_name=None, tool_args=None, tool_call_error=None, stop_after_tool_call=False, add_to_agent_memory=True, from_history=False, metrics=MessageMetrics(input_tokens=1770, output_tokens=69, total_tokens=1839, audio_tokens=0, input_audio_tokens=0, output_audio_tokens=0, cached_tokens=0, cache_write_tokens=0, reasoning_tokens=0, prompt_tokens=1770, completion_tokens=69, prompt_tokens_details=None, completion_tokens_details=None, additional_metrics=None, time=4.0929668000899255, time_to_first_token=None, timer=<agno.utils.timer.Timer object at 0x000002B072EF4560>), references=None, created_at=1748736342),\n",
       " Message(role='tool', content='Step 1:\\nTitle: 获取长沙天气\\nReasoning: 为了确定今天长沙适合什么活动，我需要了解当前的天气情况。这可以通过调用get_weather函数来实现。\\nAction: 获取天气信息\\nConfidence: 0.9\\n\\nStep 2:\\nTitle: 解释天气数据\\nReasoning: 长沙今天的天气是晴天，这意味着户外活动是一个不错的选择。可能的活动包括公园散步、骑自行车或野餐。\\nAction: 分析天气数据\\nConfidence: 0.95', name=None, tool_call_id='call_47b1d900b88248ceb2bd7b', tool_calls=None, audio=None, images=None, videos=None, files=None, audio_output=None, image_output=None, thinking=None, redacted_thinking=None, provider_data=None, citations=None, reasoning_content=None, tool_name='think', tool_args={'action': '分析天气数据', 'confidence': 0.95, 'thought': '长沙今天的天气是晴天，这意味着户外活动是一个不错的选择。可能的活动包括公园散步、骑自行车或野餐。', 'title': '解释天气数据'}, tool_call_error=False, stop_after_tool_call=False, add_to_agent_memory=True, from_history=False, metrics=MessageMetrics(input_tokens=0, output_tokens=0, total_tokens=0, audio_tokens=0, input_audio_tokens=0, output_audio_tokens=0, cached_tokens=0, cache_write_tokens=0, reasoning_tokens=0, prompt_tokens=0, completion_tokens=0, prompt_tokens_details=None, completion_tokens_details=None, additional_metrics=None, time=0.013142400071956217, time_to_first_token=None, timer=None), references=None, created_at=1748736347),\n",
       " Message(role='assistant', content='', name=None, tool_call_id=None, tool_calls=[{'id': 'call_b1f6723effda4a4b8ba5c0', 'function': {'arguments': '{\"analysis\": \"天气晴朗，适合户外活动。建议进行公园散步、骑自行车或野餐。\", \"confidence\": 0.95, \"next_action\": \"final_answer\", \"result\": \"长沙今天天气晴朗，适合户外活动。可能的活动包括公园散步、骑自行车或野餐。\", \"title\": \"最终建议\"}', 'name': 'analyze'}, 'type': 'function', 'index': 0}], audio=None, images=None, videos=None, files=None, audio_output=None, image_output=None, thinking=None, redacted_thinking=None, provider_data=None, citations=None, reasoning_content=None, tool_name=None, tool_args=None, tool_call_error=None, stop_after_tool_call=False, add_to_agent_memory=True, from_history=False, metrics=MessageMetrics(input_tokens=1966, output_tokens=88, total_tokens=2054, audio_tokens=0, input_audio_tokens=0, output_audio_tokens=0, cached_tokens=0, cache_write_tokens=0, reasoning_tokens=0, prompt_tokens=1966, completion_tokens=88, prompt_tokens_details=None, completion_tokens_details=None, additional_metrics=None, time=4.1995181000093, time_to_first_token=None, timer=<agno.utils.timer.Timer object at 0x000002B071C0AC30>), references=None, created_at=1748736347),\n",
       " Message(role='tool', content='Step 1:\\nTitle: 获取长沙天气\\nReasoning: 为了确定今天长沙适合什么活动，我需要了解当前的天气情况。这可以通过调用get_weather函数来实现。\\nAction: 获取天气信息\\nConfidence: 0.9\\n\\nStep 2:\\nTitle: 解释天气数据\\nReasoning: 长沙今天的天气是晴天，这意味着户外活动是一个不错的选择。可能的活动包括公园散步、骑自行车或野餐。\\nAction: 分析天气数据\\nConfidence: 0.95\\n\\nStep 3:\\nTitle: 最终建议\\nReasoning: 天气晴朗，适合户外活动。建议进行公园散步、骑自行车或野餐。\\nAction: None\\nConfidence: 0.95', name=None, tool_call_id='call_b1f6723effda4a4b8ba5c0', tool_calls=None, audio=None, images=None, videos=None, files=None, audio_output=None, image_output=None, thinking=None, redacted_thinking=None, provider_data=None, citations=None, reasoning_content=None, tool_name='analyze', tool_args={'analysis': '天气晴朗，适合户外活动。建议进行公园散步、骑自行车或野餐。', 'confidence': 0.95, 'next_action': 'final_answer', 'result': '长沙今天天气晴朗，适合户外活动。可能的活动包括公园散步、骑自行车或野餐。', 'title': '最终建议'}, tool_call_error=False, stop_after_tool_call=False, add_to_agent_memory=True, from_history=False, metrics=MessageMetrics(input_tokens=0, output_tokens=0, total_tokens=0, audio_tokens=0, input_audio_tokens=0, output_audio_tokens=0, cached_tokens=0, cache_write_tokens=0, reasoning_tokens=0, prompt_tokens=0, completion_tokens=0, prompt_tokens_details=None, completion_tokens_details=None, additional_metrics=None, time=0.025600000051781535, time_to_first_token=None, timer=None), references=None, created_at=1748736351),\n",
       " Message(role='assistant', content='长沙今天天气晴朗，非常适合户外活动。推荐的活动包括公园散步、骑自行车或野餐。', name=None, tool_call_id=None, tool_calls=None, audio=None, images=None, videos=None, files=None, audio_output=None, image_output=None, thinking=None, redacted_thinking=None, provider_data=None, citations=None, reasoning_content=None, tool_name=None, tool_args=None, tool_call_error=None, stop_after_tool_call=False, add_to_agent_memory=True, from_history=False, metrics=MessageMetrics(input_tokens=2228, output_tokens=23, total_tokens=2251, audio_tokens=0, input_audio_tokens=0, output_audio_tokens=0, cached_tokens=0, cache_write_tokens=0, reasoning_tokens=0, prompt_tokens=2228, completion_tokens=23, prompt_tokens_details=None, completion_tokens_details=None, additional_metrics=None, time=2.3861487000249326, time_to_first_token=None, timer=<agno.utils.timer.Timer object at 0x000002B071C08320>), references=None, created_at=1748736351)]"
      ]
     },
     "execution_count": 24,
     "metadata": {},
     "output_type": "execute_result"
    }
   ],
   "source": [
    "response.messages"
   ]
  },
  {
   "cell_type": "code",
   "execution_count": 25,
   "id": "f6113b7c",
   "metadata": {},
   "outputs": [
    {
     "data": {
      "text/plain": [
       "RunResponse(content='长沙今天天气晴朗，非常适合户外活动。推荐的活动包括公园散步、骑自行车或野餐。', content_type='str', thinking=None, reasoning_content='## 获取长沙天气\\n为了确定今天长沙适合什么活动，我需要了解当前的天气情况。这可以通过调用get_weather函数来实现。\\nAction: 获取天气信息\\nConfidence: 0.9\\n\\n## 解释天气数据\\n长沙今天的天气是晴天，这意味着户外活动是一个不错的选择。可能的活动包括公园散步、骑自行车或野餐。\\nAction: 分析天气数据\\nConfidence: 0.95\\n\\n## 最终建议\\nResult: 长沙今天天气晴朗，适合户外活动。可能的活动包括公园散步、骑自行车或野餐。\\n天气晴朗，适合户外活动。建议进行公园散步、骑自行车或野餐。\\nNext Action: final_answer\\nConfidence: 0.95\\n\\n', event='RunResponse', messages=[Message(role='system', content='<additional_information>\\n- Use markdown to format your answers.\\n</additional_information>\\n\\n<reasoning_instructions>\\nYou have access to the `think` and `analyze` tools to work through problems step-by-step and structure your thought process. You must ALWAYS `think` before making tool calls or generating a response.\\n\\n1. **Think** (scratchpad):\\n    - Purpose: Use the `think` tool as a scratchpad to break down complex problems, outline steps, and decide on immediate actions within your reasoning flow. Use this to structure your internal monologue.\\n    - Usage: Call `think` before making tool calls or generating a response. Explain your reasoning and specify the intended action (e.g., \"make a tool call\", \"perform calculation\", \"ask clarifying question\").\\n\\n2. **Analyze** (evaluation):\\n    - Purpose: Evaluate the result of a think step or a set of tool calls. Assess if the result is expected, sufficient, or requires further investigation.\\n    - Usage: Call `analyze` after a set of tool calls. Determine the `next_action` based on your analysis: `continue` (more reasoning needed), `validate` (seek external confirmation/validation if possible), or `final_answer` (ready to conclude).\\n    - Explain your reasoning highlighting whether the result is correct/sufficient.\\n\\n## IMPORTANT GUIDELINES\\n- **Always Think First:** You MUST use the `think` tool before making tool calls or generating a response.\\n- **Iterate to Solve:** Use the `think` and `analyze` tools iteratively to build a clear reasoning path. The typical flow is `Think` -> [`Tool Calls` if needed] -> [`Analyze` if needed] -> ... -> `final_answer`. Repeat this cycle until you reach a satisfactory conclusion.\\n- **Make multiple tool calls in parallel:** After a `think` step, you can make multiple tool calls in parallel.\\n- **Keep Thoughts Internal:** The reasoning steps (thoughts and analyses) are for your internal process only. Do not share them directly with the user.\\n- **Conclude Clearly:** When your analysis determines the `next_action` is `final_answer`, provide a concise and accurate final answer to the user.\\n\\nBelow are examples demonstrating how to use the `think` and `analyze` tools.\\n\\n### Examples\\n\\n**Example 1: Simple Fact Retrieval**\\n\\n*User Request:* How many continents are there on Earth?\\n\\n*Agent\\'s Internal Process:*\\n\\n```tool_call\\nthink(\\n  title=\"Understand Request\",\\n  thought=\"The user wants to know the standard number of continents on Earth. This is a common piece of knowledge.\",\\n  action=\"Recall or verify the number of continents.\",\\n  confidence=0.95\\n)\\n```\\n*--(Agent internally recalls the fact)--*\\n```tool_call\\nanalyze(\\n  title=\"Evaluate Fact\",\\n  result=\"Standard geographical models list 7 continents: Africa, Antarctica, Asia, Australia, Europe, North America, South America.\",\\n  analysis=\"The recalled information directly answers the user\\'s question accurately.\",\\n  next_action=\"final_answer\",\\n  confidence=1.0\\n)\\n```\\n\\n*Agent\\'s Final Answer to User:*\\nThere are 7 continents on Earth: Africa, Antarctica, Asia, Australia, Europe, North America, and South America.\\n\\n**Example 2: Multi-Step Information Gathering**\\n\\n*User Request:* What is the capital of France and its current population?\\n\\n*Agent\\'s Internal Process:*\\n\\n```tool_call\\nthink(\\n  title=\"Plan Information Retrieval\",\\n  thought=\"The user needs two pieces of information: the capital of France and its current population. I should use external tools (like search) to find the most up-to-date and accurate information.\",\\n  action=\"First, search for the capital of France.\",\\n  confidence=0.95\\n)\\n```\\n\\n*Perform multiple tool calls in parallel*\\n*--(Tool call 1: search(query=\"capital of France\"))--*\\n*--(Tool call 2: search(query=\"population of Paris current\"))--*\\n*--(Tool Result 1: \"Paris\")--*\\n*--(Tool Result 2: \"Approximately 2.1 million (city proper, estimate for early 2024)\")--*\\n\\n```tool_call\\nanalyze(\\n  title=\"Analyze Capital Search Result\",\\n  result=\"The search result indicates Paris is the capital of France.\",\\n  analysis=\"This provides the first piece of requested information. Now I need to find the population of Paris.\",\\n  next_action=\"continue\",\\n  confidence=1.0\\n)\\n```\\n```tool_call\\nanalyze(\\n  title=\"Analyze Population Search Result\",\\n  result=\"The search provided an estimated population figure for Paris.\",\\n  analysis=\"I now have both the capital and its estimated population. I can provide the final answer.\",\\n  next_action=\"final_answer\",\\n  confidence=0.9\\n)\\n```\\n\\n*Agent\\'s Final Answer to User:*\\nThe capital of France is Paris. Its estimated population (city proper) is approximately 2.1 million as of early 2024.\\n</reasoning_instructions>', name=None, tool_call_id=None, tool_calls=None, audio=None, images=None, videos=None, files=None, audio_output=None, image_output=None, thinking=None, redacted_thinking=None, provider_data=None, citations=None, reasoning_content=None, tool_name=None, tool_args=None, tool_call_error=None, stop_after_tool_call=False, add_to_agent_memory=True, from_history=False, metrics=MessageMetrics(input_tokens=0, output_tokens=0, total_tokens=0, audio_tokens=0, input_audio_tokens=0, output_audio_tokens=0, cached_tokens=0, cache_write_tokens=0, reasoning_tokens=0, prompt_tokens=0, completion_tokens=0, prompt_tokens_details=None, completion_tokens_details=None, additional_metrics=None, time=None, time_to_first_token=None, timer=None), references=None, created_at=1748736336), Message(role='user', content='今天长沙适合什么活动', name=None, tool_call_id=None, tool_calls=None, audio=None, images=None, videos=None, files=None, audio_output=None, image_output=None, thinking=None, redacted_thinking=None, provider_data=None, citations=None, reasoning_content=None, tool_name=None, tool_args=None, tool_call_error=None, stop_after_tool_call=False, add_to_agent_memory=True, from_history=False, metrics=MessageMetrics(input_tokens=0, output_tokens=0, total_tokens=0, audio_tokens=0, input_audio_tokens=0, output_audio_tokens=0, cached_tokens=0, cache_write_tokens=0, reasoning_tokens=0, prompt_tokens=0, completion_tokens=0, prompt_tokens_details=None, completion_tokens_details=None, additional_metrics=None, time=None, time_to_first_token=None, timer=None), references=None, created_at=1748736336), Message(role='assistant', content='', name=None, tool_call_id=None, tool_calls=[{'id': 'call_6df3ee6c327b4cbbbc7474', 'function': {'arguments': '{\"action\": \"获取天气信息\", \"confidence\": 0.9, \"thought\": \"为了确定今天长沙适合什么活动，我需要了解当前的天气情况。这可以通过调用get_weather函数来实现。\", \"title\": \"获取长沙天气\"}', 'name': 'think'}, 'type': 'function', 'index': 0}], audio=None, images=None, videos=None, files=None, audio_output=None, image_output=None, thinking=None, redacted_thinking=None, provider_data=None, citations=None, reasoning_content=None, tool_name=None, tool_args=None, tool_call_error=None, stop_after_tool_call=False, add_to_agent_memory=True, from_history=False, metrics=MessageMetrics(input_tokens=1601, output_tokens=67, total_tokens=1668, audio_tokens=0, input_audio_tokens=0, output_audio_tokens=0, cached_tokens=0, cache_write_tokens=0, reasoning_tokens=0, prompt_tokens=1601, completion_tokens=67, prompt_tokens_details=None, completion_tokens_details=None, additional_metrics=None, time=3.4496834999881685, time_to_first_token=None, timer=<agno.utils.timer.Timer object at 0x000002B070A5FE90>), references=None, created_at=1748736336), Message(role='tool', content='Step 1:\\nTitle: 获取长沙天气\\nReasoning: 为了确定今天长沙适合什么活动，我需要了解当前的天气情况。这可以通过调用get_weather函数来实现。\\nAction: 获取天气信息\\nConfidence: 0.9', name=None, tool_call_id='call_6df3ee6c327b4cbbbc7474', tool_calls=None, audio=None, images=None, videos=None, files=None, audio_output=None, image_output=None, thinking=None, redacted_thinking=None, provider_data=None, citations=None, reasoning_content=None, tool_name='think', tool_args={'action': '获取天气信息', 'confidence': 0.9, 'thought': '为了确定今天长沙适合什么活动，我需要了解当前的天气情况。这可以通过调用get_weather函数来实现。', 'title': '获取长沙天气'}, tool_call_error=False, stop_after_tool_call=False, add_to_agent_memory=True, from_history=False, metrics=MessageMetrics(input_tokens=0, output_tokens=0, total_tokens=0, audio_tokens=0, input_audio_tokens=0, output_audio_tokens=0, cached_tokens=0, cache_write_tokens=0, reasoning_tokens=0, prompt_tokens=0, completion_tokens=0, prompt_tokens_details=None, completion_tokens_details=None, additional_metrics=None, time=0.011381300049833953, time_to_first_token=None, timer=None), references=None, created_at=1748736339), Message(role='assistant', content='', name=None, tool_call_id=None, tool_calls=[{'id': 'call_a7d5b305833a47acadd721', 'function': {'arguments': '{\"city\": \"长沙\"}', 'name': 'get_weather'}, 'type': 'function', 'index': 0}], audio=None, images=None, videos=None, files=None, audio_output=None, image_output=None, thinking=None, redacted_thinking=None, provider_data=None, citations=None, reasoning_content=None, tool_name=None, tool_args=None, tool_call_error=None, stop_after_tool_call=False, add_to_agent_memory=True, from_history=False, metrics=MessageMetrics(input_tokens=1735, output_tokens=19, total_tokens=1754, audio_tokens=0, input_audio_tokens=0, output_audio_tokens=0, cached_tokens=0, cache_write_tokens=0, reasoning_tokens=0, prompt_tokens=1735, completion_tokens=19, prompt_tokens_details=None, completion_tokens_details=None, additional_metrics=None, time=3.059412300004624, time_to_first_token=None, timer=<agno.utils.timer.Timer object at 0x000002B070968830>), references=None, created_at=1748736339), Message(role='tool', content='Sunny', name=None, tool_call_id='call_a7d5b305833a47acadd721', tool_calls=None, audio=None, images=None, videos=None, files=None, audio_output=None, image_output=None, thinking=None, redacted_thinking=None, provider_data=None, citations=None, reasoning_content=None, tool_name='get_weather', tool_args={'city': '长沙'}, tool_call_error=False, stop_after_tool_call=False, add_to_agent_memory=True, from_history=False, metrics=MessageMetrics(input_tokens=0, output_tokens=0, total_tokens=0, audio_tokens=0, input_audio_tokens=0, output_audio_tokens=0, cached_tokens=0, cache_write_tokens=0, reasoning_tokens=0, prompt_tokens=0, completion_tokens=0, prompt_tokens_details=None, completion_tokens_details=None, additional_metrics=None, time=0.00912519998382777, time_to_first_token=None, timer=None), references=None, created_at=1748736342), Message(role='assistant', content='', name=None, tool_call_id=None, tool_calls=[{'id': 'call_47b1d900b88248ceb2bd7b', 'function': {'arguments': '{\"action\": \"分析天气数据\", \"confidence\": 0.95, \"thought\": \"长沙今天的天气是晴天，这意味着户外活动是一个不错的选择。可能的活动包括公园散步、骑自行车或野餐。\", \"title\": \"解释天气数据\"}', 'name': 'think'}, 'type': 'function', 'index': 0}], audio=None, images=None, videos=None, files=None, audio_output=None, image_output=None, thinking=None, redacted_thinking=None, provider_data=None, citations=None, reasoning_content=None, tool_name=None, tool_args=None, tool_call_error=None, stop_after_tool_call=False, add_to_agent_memory=True, from_history=False, metrics=MessageMetrics(input_tokens=1770, output_tokens=69, total_tokens=1839, audio_tokens=0, input_audio_tokens=0, output_audio_tokens=0, cached_tokens=0, cache_write_tokens=0, reasoning_tokens=0, prompt_tokens=1770, completion_tokens=69, prompt_tokens_details=None, completion_tokens_details=None, additional_metrics=None, time=4.0929668000899255, time_to_first_token=None, timer=<agno.utils.timer.Timer object at 0x000002B072EF4560>), references=None, created_at=1748736342), Message(role='tool', content='Step 1:\\nTitle: 获取长沙天气\\nReasoning: 为了确定今天长沙适合什么活动，我需要了解当前的天气情况。这可以通过调用get_weather函数来实现。\\nAction: 获取天气信息\\nConfidence: 0.9\\n\\nStep 2:\\nTitle: 解释天气数据\\nReasoning: 长沙今天的天气是晴天，这意味着户外活动是一个不错的选择。可能的活动包括公园散步、骑自行车或野餐。\\nAction: 分析天气数据\\nConfidence: 0.95', name=None, tool_call_id='call_47b1d900b88248ceb2bd7b', tool_calls=None, audio=None, images=None, videos=None, files=None, audio_output=None, image_output=None, thinking=None, redacted_thinking=None, provider_data=None, citations=None, reasoning_content=None, tool_name='think', tool_args={'action': '分析天气数据', 'confidence': 0.95, 'thought': '长沙今天的天气是晴天，这意味着户外活动是一个不错的选择。可能的活动包括公园散步、骑自行车或野餐。', 'title': '解释天气数据'}, tool_call_error=False, stop_after_tool_call=False, add_to_agent_memory=True, from_history=False, metrics=MessageMetrics(input_tokens=0, output_tokens=0, total_tokens=0, audio_tokens=0, input_audio_tokens=0, output_audio_tokens=0, cached_tokens=0, cache_write_tokens=0, reasoning_tokens=0, prompt_tokens=0, completion_tokens=0, prompt_tokens_details=None, completion_tokens_details=None, additional_metrics=None, time=0.013142400071956217, time_to_first_token=None, timer=None), references=None, created_at=1748736347), Message(role='assistant', content='', name=None, tool_call_id=None, tool_calls=[{'id': 'call_b1f6723effda4a4b8ba5c0', 'function': {'arguments': '{\"analysis\": \"天气晴朗，适合户外活动。建议进行公园散步、骑自行车或野餐。\", \"confidence\": 0.95, \"next_action\": \"final_answer\", \"result\": \"长沙今天天气晴朗，适合户外活动。可能的活动包括公园散步、骑自行车或野餐。\", \"title\": \"最终建议\"}', 'name': 'analyze'}, 'type': 'function', 'index': 0}], audio=None, images=None, videos=None, files=None, audio_output=None, image_output=None, thinking=None, redacted_thinking=None, provider_data=None, citations=None, reasoning_content=None, tool_name=None, tool_args=None, tool_call_error=None, stop_after_tool_call=False, add_to_agent_memory=True, from_history=False, metrics=MessageMetrics(input_tokens=1966, output_tokens=88, total_tokens=2054, audio_tokens=0, input_audio_tokens=0, output_audio_tokens=0, cached_tokens=0, cache_write_tokens=0, reasoning_tokens=0, prompt_tokens=1966, completion_tokens=88, prompt_tokens_details=None, completion_tokens_details=None, additional_metrics=None, time=4.1995181000093, time_to_first_token=None, timer=<agno.utils.timer.Timer object at 0x000002B071C0AC30>), references=None, created_at=1748736347), Message(role='tool', content='Step 1:\\nTitle: 获取长沙天气\\nReasoning: 为了确定今天长沙适合什么活动，我需要了解当前的天气情况。这可以通过调用get_weather函数来实现。\\nAction: 获取天气信息\\nConfidence: 0.9\\n\\nStep 2:\\nTitle: 解释天气数据\\nReasoning: 长沙今天的天气是晴天，这意味着户外活动是一个不错的选择。可能的活动包括公园散步、骑自行车或野餐。\\nAction: 分析天气数据\\nConfidence: 0.95\\n\\nStep 3:\\nTitle: 最终建议\\nReasoning: 天气晴朗，适合户外活动。建议进行公园散步、骑自行车或野餐。\\nAction: None\\nConfidence: 0.95', name=None, tool_call_id='call_b1f6723effda4a4b8ba5c0', tool_calls=None, audio=None, images=None, videos=None, files=None, audio_output=None, image_output=None, thinking=None, redacted_thinking=None, provider_data=None, citations=None, reasoning_content=None, tool_name='analyze', tool_args={'analysis': '天气晴朗，适合户外活动。建议进行公园散步、骑自行车或野餐。', 'confidence': 0.95, 'next_action': 'final_answer', 'result': '长沙今天天气晴朗，适合户外活动。可能的活动包括公园散步、骑自行车或野餐。', 'title': '最终建议'}, tool_call_error=False, stop_after_tool_call=False, add_to_agent_memory=True, from_history=False, metrics=MessageMetrics(input_tokens=0, output_tokens=0, total_tokens=0, audio_tokens=0, input_audio_tokens=0, output_audio_tokens=0, cached_tokens=0, cache_write_tokens=0, reasoning_tokens=0, prompt_tokens=0, completion_tokens=0, prompt_tokens_details=None, completion_tokens_details=None, additional_metrics=None, time=0.025600000051781535, time_to_first_token=None, timer=None), references=None, created_at=1748736351), Message(role='assistant', content='长沙今天天气晴朗，非常适合户外活动。推荐的活动包括公园散步、骑自行车或野餐。', name=None, tool_call_id=None, tool_calls=None, audio=None, images=None, videos=None, files=None, audio_output=None, image_output=None, thinking=None, redacted_thinking=None, provider_data=None, citations=None, reasoning_content=None, tool_name=None, tool_args=None, tool_call_error=None, stop_after_tool_call=False, add_to_agent_memory=True, from_history=False, metrics=MessageMetrics(input_tokens=2228, output_tokens=23, total_tokens=2251, audio_tokens=0, input_audio_tokens=0, output_audio_tokens=0, cached_tokens=0, cache_write_tokens=0, reasoning_tokens=0, prompt_tokens=2228, completion_tokens=23, prompt_tokens_details=None, completion_tokens_details=None, additional_metrics=None, time=2.3861487000249326, time_to_first_token=None, timer=<agno.utils.timer.Timer object at 0x000002B071C08320>), references=None, created_at=1748736351)], metrics={'input_tokens': [1601, 1735, 1770, 1966, 2228], 'output_tokens': [67, 19, 69, 88, 23], 'total_tokens': [1668, 1754, 1839, 2054, 2251], 'audio_tokens': [0, 0, 0, 0, 0], 'input_audio_tokens': [0, 0, 0, 0, 0], 'output_audio_tokens': [0, 0, 0, 0, 0], 'cached_tokens': [0, 0, 0, 0, 0], 'cache_write_tokens': [0, 0, 0, 0, 0], 'reasoning_tokens': [0, 0, 0, 0, 0], 'prompt_tokens': [1601, 1735, 1770, 1966, 2228], 'completion_tokens': [67, 19, 69, 88, 23], 'time': [3.4496834999881685, 3.059412300004624, 4.0929668000899255, 4.1995181000093, 2.3861487000249326]}, model='qwen-plus-latest', model_provider='OpenAI', run_id='139db747-8e61-4526-bb4a-5624debf0543', agent_id='fcdbb8eb-26b9-4a88-aedf-751dcc11c82b', session_id='baacec60-8e56-4a61-8a76-957cd0054173', workflow_id=None, tools=[ToolExecution(tool_call_id='call_6df3ee6c327b4cbbbc7474', tool_name='think', tool_args={'action': '获取天气信息', 'confidence': 0.9, 'thought': '为了确定今天长沙适合什么活动，我需要了解当前的天气情况。这可以通过调用get_weather函数来实现。', 'title': '获取长沙天气'}, tool_call_error=False, result='Step 1:\\nTitle: 获取长沙天气\\nReasoning: 为了确定今天长沙适合什么活动，我需要了解当前的天气情况。这可以通过调用get_weather函数来实现。\\nAction: 获取天气信息\\nConfidence: 0.9', metrics=MessageMetrics(input_tokens=0, output_tokens=0, total_tokens=0, audio_tokens=0, input_audio_tokens=0, output_audio_tokens=0, cached_tokens=0, cache_write_tokens=0, reasoning_tokens=0, prompt_tokens=0, completion_tokens=0, prompt_tokens_details=None, completion_tokens_details=None, additional_metrics=None, time=0.011381300049833953, time_to_first_token=None, timer=None), stop_after_tool_call=False, created_at=1748699776, requires_confirmation=None, confirmed=None, confirmation_note=None, requires_user_input=None, user_input_schema=None, external_execution_required=None), ToolExecution(tool_call_id='call_a7d5b305833a47acadd721', tool_name='get_weather', tool_args={'city': '长沙'}, tool_call_error=False, result='Sunny', metrics=MessageMetrics(input_tokens=0, output_tokens=0, total_tokens=0, audio_tokens=0, input_audio_tokens=0, output_audio_tokens=0, cached_tokens=0, cache_write_tokens=0, reasoning_tokens=0, prompt_tokens=0, completion_tokens=0, prompt_tokens_details=None, completion_tokens_details=None, additional_metrics=None, time=0.00912519998382777, time_to_first_token=None, timer=None), stop_after_tool_call=False, created_at=1748699776, requires_confirmation=None, confirmed=None, confirmation_note=None, requires_user_input=None, user_input_schema=None, external_execution_required=None), ToolExecution(tool_call_id='call_47b1d900b88248ceb2bd7b', tool_name='think', tool_args={'action': '分析天气数据', 'confidence': 0.95, 'thought': '长沙今天的天气是晴天，这意味着户外活动是一个不错的选择。可能的活动包括公园散步、骑自行车或野餐。', 'title': '解释天气数据'}, tool_call_error=False, result='Step 1:\\nTitle: 获取长沙天气\\nReasoning: 为了确定今天长沙适合什么活动，我需要了解当前的天气情况。这可以通过调用get_weather函数来实现。\\nAction: 获取天气信息\\nConfidence: 0.9\\n\\nStep 2:\\nTitle: 解释天气数据\\nReasoning: 长沙今天的天气是晴天，这意味着户外活动是一个不错的选择。可能的活动包括公园散步、骑自行车或野餐。\\nAction: 分析天气数据\\nConfidence: 0.95', metrics=MessageMetrics(input_tokens=0, output_tokens=0, total_tokens=0, audio_tokens=0, input_audio_tokens=0, output_audio_tokens=0, cached_tokens=0, cache_write_tokens=0, reasoning_tokens=0, prompt_tokens=0, completion_tokens=0, prompt_tokens_details=None, completion_tokens_details=None, additional_metrics=None, time=0.013142400071956217, time_to_first_token=None, timer=None), stop_after_tool_call=False, created_at=1748699776, requires_confirmation=None, confirmed=None, confirmation_note=None, requires_user_input=None, user_input_schema=None, external_execution_required=None), ToolExecution(tool_call_id='call_b1f6723effda4a4b8ba5c0', tool_name='analyze', tool_args={'analysis': '天气晴朗，适合户外活动。建议进行公园散步、骑自行车或野餐。', 'confidence': 0.95, 'next_action': 'final_answer', 'result': '长沙今天天气晴朗，适合户外活动。可能的活动包括公园散步、骑自行车或野餐。', 'title': '最终建议'}, tool_call_error=False, result='Step 1:\\nTitle: 获取长沙天气\\nReasoning: 为了确定今天长沙适合什么活动，我需要了解当前的天气情况。这可以通过调用get_weather函数来实现。\\nAction: 获取天气信息\\nConfidence: 0.9\\n\\nStep 2:\\nTitle: 解释天气数据\\nReasoning: 长沙今天的天气是晴天，这意味着户外活动是一个不错的选择。可能的活动包括公园散步、骑自行车或野餐。\\nAction: 分析天气数据\\nConfidence: 0.95\\n\\nStep 3:\\nTitle: 最终建议\\nReasoning: 天气晴朗，适合户外活动。建议进行公园散步、骑自行车或野餐。\\nAction: None\\nConfidence: 0.95', metrics=MessageMetrics(input_tokens=0, output_tokens=0, total_tokens=0, audio_tokens=0, input_audio_tokens=0, output_audio_tokens=0, cached_tokens=0, cache_write_tokens=0, reasoning_tokens=0, prompt_tokens=0, completion_tokens=0, prompt_tokens_details=None, completion_tokens_details=None, additional_metrics=None, time=0.025600000051781535, time_to_first_token=None, timer=None), stop_after_tool_call=False, created_at=1748699776, requires_confirmation=None, confirmed=None, confirmation_note=None, requires_user_input=None, user_input_schema=None, external_execution_required=None)], formatted_tool_calls=['think(action=获取天气信息, confidence=0.9, thought=为了确定今天长沙适合什么活动，我需要了解当前的天气情况。这可以通过调用get_weather函数来实现。, title=获取长沙天气)', 'get_weather(city=长沙)', 'think(action=分析天气数据, confidence=0.95, thought=长沙今天的天气是晴天，这意味着户外活动是一个不错的选择。可能的活动包括公园散步、骑自行车或野餐。, title=解释天气数据)', 'analyze(analysis=天气晴朗，适合户外活动。建议进行公园散步、骑自行车或野餐。, confidence=0.95, next_action=final_answer, result=长沙今天天气晴朗，适合户外活动。可能的活动包括公园散步、骑自行车或野餐。, title=最终建议)'], images=None, videos=None, audio=None, response_audio=None, citations=None, extra_data=RunResponseExtraData(references=None, add_messages=None, reasoning_steps=[ReasoningStep(title='获取长沙天气', action='获取天气信息', result=None, reasoning='为了确定今天长沙适合什么活动，我需要了解当前的天气情况。这可以通过调用get_weather函数来实现。', next_action=<NextAction.CONTINUE: 'continue'>, confidence=0.9), ReasoningStep(title='解释天气数据', action='分析天气数据', result=None, reasoning='长沙今天的天气是晴天，这意味着户外活动是一个不错的选择。可能的活动包括公园散步、骑自行车或野餐。', next_action=<NextAction.CONTINUE: 'continue'>, confidence=0.95), ReasoningStep(title='最终建议', action=None, result='长沙今天天气晴朗，适合户外活动。可能的活动包括公园散步、骑自行车或野餐。', reasoning='天气晴朗，适合户外活动。建议进行公园散步、骑自行车或野餐。', next_action=<NextAction.FINAL_ANSWER: 'final_answer'>, confidence=0.95)], reasoning_messages=None), created_at=1748699776)"
      ]
     },
     "execution_count": 25,
     "metadata": {},
     "output_type": "execute_result"
    }
   ],
   "source": [
    "response"
   ]
  },
  {
   "cell_type": "markdown",
   "id": "fd9a0f6e",
   "metadata": {},
   "source": [
    "## Output intermediate steps\n",
    "\n",
    "两种实现方式：\n",
    "\n",
    "1. 在Agent初始化的时候设置stream，stream_intermediate_steps为True，然后agent.run()会输出Iterator RunResponse对象，注意设置stream_intermediate_steps为True就必须设置stream为True，否则无法输出中间步骤。\n",
    "2. 在Agent.run(stream=True, stream_intermediate_steps=True)，这样可以输出中间步骤，同时IDE获得智能提示，输出对象自动会转化为Iterator RunResponse对象。\n"
   ]
  },
  {
   "cell_type": "markdown",
   "id": "7b39d1ab",
   "metadata": {},
   "source": [
    "### 方式一：设置Agent()对象属性，stream=True，stream_intermediate_steps=True"
   ]
  },
  {
   "cell_type": "code",
   "execution_count": 34,
   "id": "edadb64d",
   "metadata": {},
   "outputs": [],
   "source": [
    "agent = Agent(model=OpenAILike(**settings),tools=[get_weather,ReasoningTools(add_instructions=True)],stream=True,stream_intermediate_steps=True,telemetry=False)"
   ]
  },
  {
   "cell_type": "code",
   "execution_count": 35,
   "id": "874d4db7",
   "metadata": {},
   "outputs": [],
   "source": [
    "response = agent.run(message='今天长沙适合什么活动')"
   ]
  },
  {
   "cell_type": "code",
   "execution_count": 37,
   "id": "4a340ebb",
   "metadata": {},
   "outputs": [
    {
     "name": "stdout",
     "output_type": "stream",
     "text": [
      "RunResponse(content='Run started', content_type='str', thinking=None, reasoning_content=None, event='RunStarted', messages=None, metrics=None, model=None, model_provider=None, run_id='3d132083-9bd9-44a2-8967-32cfea12b868', agent_id='9649ea7c-8ffe-470c-8ad2-e9c6fb352883', session_id='6a25dac5-d85f-45cf-81d4-24092ff66428', workflow_id=None, tools=None, formatted_tool_calls=None, images=None, videos=None, audio=None, response_audio=None, citations=None, extra_data=None, created_at=1748737097)\n",
      "RunResponse(content=None, content_type='str', thinking=None, reasoning_content=None, event='ToolCallStarted', messages=None, metrics=None, model='qwen-plus-latest', model_provider=None, run_id='3d132083-9bd9-44a2-8967-32cfea12b868', agent_id='9649ea7c-8ffe-470c-8ad2-e9c6fb352883', session_id='6a25dac5-d85f-45cf-81d4-24092ff66428', workflow_id=None, tools=[ToolExecution(tool_call_id='call_1f686395793549cfbb7c7c', tool_name='think', tool_args={'title': '确定适合长沙今天的活动', 'thought': '我需要了解长沙今天的天气情况，以确定适合什么活动。', 'confidence': 0.8, 'action': '调用get_weather函数获取长沙的天气信息'}, tool_call_error=None, result=None, metrics=None, stop_after_tool_call=False, created_at=1748699776, requires_confirmation=None, confirmed=None, confirmation_note=None, requires_user_input=None, user_input_schema=None, external_execution_required=None)], formatted_tool_calls=None, images=None, videos=None, audio=None, response_audio=None, citations=None, extra_data=None, created_at=1748699776)\n",
      "RunResponse(content='Reasoning started', content_type='str', thinking=None, reasoning_content=None, event='ReasoningStarted', messages=None, metrics=None, model=None, model_provider=None, run_id='3d132083-9bd9-44a2-8967-32cfea12b868', agent_id='9649ea7c-8ffe-470c-8ad2-e9c6fb352883', session_id=None, workflow_id=None, tools=None, formatted_tool_calls=None, images=None, videos=None, audio=None, response_audio=None, citations=None, extra_data=None, created_at=1748737100)\n",
      "RunResponse(content=ReasoningStep(title='确定适合长沙今天的活动', action='调用get_weather函数获取长沙的天气信息', result=None, reasoning='我需要了解长沙今天的天气情况，以确定适合什么活动。', next_action=<NextAction.CONTINUE: 'continue'>, confidence=0.8), content_type='ReasoningStep', thinking=None, reasoning_content='## 确定适合长沙今天的活动\\n我需要了解长沙今天的天气情况，以确定适合什么活动。\\nAction: 调用get_weather函数获取长沙的天气信息\\nConfidence: 0.8\\n\\n', event='ReasoningStep', messages=None, metrics=None, model=None, model_provider=None, run_id='3d132083-9bd9-44a2-8967-32cfea12b868', agent_id='9649ea7c-8ffe-470c-8ad2-e9c6fb352883', session_id=None, workflow_id=None, tools=None, formatted_tool_calls=None, images=None, videos=None, audio=None, response_audio=None, citations=None, extra_data=None, created_at=1748737100)\n",
      "RunResponse(content=None, content_type='str', thinking=None, reasoning_content='## 确定适合长沙今天的活动\\n我需要了解长沙今天的天气情况，以确定适合什么活动。\\nAction: 调用get_weather函数获取长沙的天气信息\\nConfidence: 0.8\\n\\n', event='ToolCallCompleted', messages=None, metrics=None, model='qwen-plus-latest', model_provider=None, run_id='3d132083-9bd9-44a2-8967-32cfea12b868', agent_id='9649ea7c-8ffe-470c-8ad2-e9c6fb352883', session_id='6a25dac5-d85f-45cf-81d4-24092ff66428', workflow_id=None, tools=[ToolExecution(tool_call_id='call_1f686395793549cfbb7c7c', tool_name='think', tool_args={'title': '确定适合长沙今天的活动', 'thought': '我需要了解长沙今天的天气情况，以确定适合什么活动。', 'confidence': 0.8, 'action': '调用get_weather函数获取长沙的天气信息'}, tool_call_error=False, result='Step 1:\\nTitle: 确定适合长沙今天的活动\\nReasoning: 我需要了解长沙今天的天气情况，以确定适合什么活动。\\nAction: 调用get_weather函数获取长沙的天气信息\\nConfidence: 0.8', metrics=MessageMetrics(input_tokens=0, output_tokens=0, total_tokens=0, audio_tokens=0, input_audio_tokens=0, output_audio_tokens=0, cached_tokens=0, cache_write_tokens=0, reasoning_tokens=0, prompt_tokens=0, completion_tokens=0, prompt_tokens_details=None, completion_tokens_details=None, additional_metrics=None, time=0.002468300051987171, time_to_first_token=None, timer=None), stop_after_tool_call=False, created_at=1748699776, requires_confirmation=None, confirmed=None, confirmation_note=None, requires_user_input=None, user_input_schema=None, external_execution_required=None)], formatted_tool_calls=None, images=None, videos=None, audio=None, response_audio=None, citations=None, extra_data=RunResponseExtraData(references=None, add_messages=None, reasoning_steps=[ReasoningStep(title='确定适合长沙今天的活动', action='调用get_weather函数获取长沙的天气信息', result=None, reasoning='我需要了解长沙今天的天气情况，以确定适合什么活动。', next_action=<NextAction.CONTINUE: 'continue'>, confidence=0.8)], reasoning_messages=None), created_at=1748699776)\n",
      "RunResponse(content=None, content_type='str', thinking=None, reasoning_content='## 确定适合长沙今天的活动\\n我需要了解长沙今天的天气情况，以确定适合什么活动。\\nAction: 调用get_weather函数获取长沙的天气信息\\nConfidence: 0.8\\n\\n', event='ToolCallStarted', messages=None, metrics=None, model='qwen-plus-latest', model_provider=None, run_id='3d132083-9bd9-44a2-8967-32cfea12b868', agent_id='9649ea7c-8ffe-470c-8ad2-e9c6fb352883', session_id='6a25dac5-d85f-45cf-81d4-24092ff66428', workflow_id=None, tools=[ToolExecution(tool_call_id='call_1f686395793549cfbb7c7c', tool_name='think', tool_args={'title': '确定适合长沙今天的活动', 'thought': '我需要了解长沙今天的天气情况，以确定适合什么活动。', 'confidence': 0.8, 'action': '调用get_weather函数获取长沙的天气信息'}, tool_call_error=False, result='Step 1:\\nTitle: 确定适合长沙今天的活动\\nReasoning: 我需要了解长沙今天的天气情况，以确定适合什么活动。\\nAction: 调用get_weather函数获取长沙的天气信息\\nConfidence: 0.8', metrics=MessageMetrics(input_tokens=0, output_tokens=0, total_tokens=0, audio_tokens=0, input_audio_tokens=0, output_audio_tokens=0, cached_tokens=0, cache_write_tokens=0, reasoning_tokens=0, prompt_tokens=0, completion_tokens=0, prompt_tokens_details=None, completion_tokens_details=None, additional_metrics=None, time=0.002468300051987171, time_to_first_token=None, timer=None), stop_after_tool_call=False, created_at=1748699776, requires_confirmation=None, confirmed=None, confirmation_note=None, requires_user_input=None, user_input_schema=None, external_execution_required=None), ToolExecution(tool_call_id='call_e4919750bd0a48e8bc3768', tool_name='get_weather', tool_args={'city': '长沙'}, tool_call_error=None, result=None, metrics=None, stop_after_tool_call=False, created_at=1748699776, requires_confirmation=None, confirmed=None, confirmation_note=None, requires_user_input=None, user_input_schema=None, external_execution_required=None)], formatted_tool_calls=None, images=None, videos=None, audio=None, response_audio=None, citations=None, extra_data=RunResponseExtraData(references=None, add_messages=None, reasoning_steps=[ReasoningStep(title='确定适合长沙今天的活动', action='调用get_weather函数获取长沙的天气信息', result=None, reasoning='我需要了解长沙今天的天气情况，以确定适合什么活动。', next_action=<NextAction.CONTINUE: 'continue'>, confidence=0.8)], reasoning_messages=None), created_at=1748699776)\n",
      "RunResponse(content=None, content_type='str', thinking=None, reasoning_content='## 确定适合长沙今天的活动\\n我需要了解长沙今天的天气情况，以确定适合什么活动。\\nAction: 调用get_weather函数获取长沙的天气信息\\nConfidence: 0.8\\n\\n', event='ToolCallCompleted', messages=None, metrics=None, model='qwen-plus-latest', model_provider=None, run_id='3d132083-9bd9-44a2-8967-32cfea12b868', agent_id='9649ea7c-8ffe-470c-8ad2-e9c6fb352883', session_id='6a25dac5-d85f-45cf-81d4-24092ff66428', workflow_id=None, tools=[ToolExecution(tool_call_id='call_1f686395793549cfbb7c7c', tool_name='think', tool_args={'title': '确定适合长沙今天的活动', 'thought': '我需要了解长沙今天的天气情况，以确定适合什么活动。', 'confidence': 0.8, 'action': '调用get_weather函数获取长沙的天气信息'}, tool_call_error=False, result='Step 1:\\nTitle: 确定适合长沙今天的活动\\nReasoning: 我需要了解长沙今天的天气情况，以确定适合什么活动。\\nAction: 调用get_weather函数获取长沙的天气信息\\nConfidence: 0.8', metrics=MessageMetrics(input_tokens=0, output_tokens=0, total_tokens=0, audio_tokens=0, input_audio_tokens=0, output_audio_tokens=0, cached_tokens=0, cache_write_tokens=0, reasoning_tokens=0, prompt_tokens=0, completion_tokens=0, prompt_tokens_details=None, completion_tokens_details=None, additional_metrics=None, time=0.002468300051987171, time_to_first_token=None, timer=None), stop_after_tool_call=False, created_at=1748699776, requires_confirmation=None, confirmed=None, confirmation_note=None, requires_user_input=None, user_input_schema=None, external_execution_required=None), ToolExecution(tool_call_id='call_e4919750bd0a48e8bc3768', tool_name='get_weather', tool_args={'city': '长沙'}, tool_call_error=False, result='Sunny', metrics=MessageMetrics(input_tokens=0, output_tokens=0, total_tokens=0, audio_tokens=0, input_audio_tokens=0, output_audio_tokens=0, cached_tokens=0, cache_write_tokens=0, reasoning_tokens=0, prompt_tokens=0, completion_tokens=0, prompt_tokens_details=None, completion_tokens_details=None, additional_metrics=None, time=0.0017619000282138586, time_to_first_token=None, timer=None), stop_after_tool_call=False, created_at=1748699776, requires_confirmation=None, confirmed=None, confirmation_note=None, requires_user_input=None, user_input_schema=None, external_execution_required=None)], formatted_tool_calls=None, images=None, videos=None, audio=None, response_audio=None, citations=None, extra_data=RunResponseExtraData(references=None, add_messages=None, reasoning_steps=[ReasoningStep(title='确定适合长沙今天的活动', action='调用get_weather函数获取长沙的天气信息', result=None, reasoning='我需要了解长沙今天的天气情况，以确定适合什么活动。', next_action=<NextAction.CONTINUE: 'continue'>, confidence=0.8)], reasoning_messages=None), created_at=1748699776)\n",
      "RunResponse(content=None, content_type='str', thinking=None, reasoning_content='## 确定适合长沙今天的活动\\n我需要了解长沙今天的天气情况，以确定适合什么活动。\\nAction: 调用get_weather函数获取长沙的天气信息\\nConfidence: 0.8\\n\\n', event='ToolCallStarted', messages=None, metrics=None, model='qwen-plus-latest', model_provider=None, run_id='3d132083-9bd9-44a2-8967-32cfea12b868', agent_id='9649ea7c-8ffe-470c-8ad2-e9c6fb352883', session_id='6a25dac5-d85f-45cf-81d4-24092ff66428', workflow_id=None, tools=[ToolExecution(tool_call_id='call_1f686395793549cfbb7c7c', tool_name='think', tool_args={'title': '确定适合长沙今天的活动', 'thought': '我需要了解长沙今天的天气情况，以确定适合什么活动。', 'confidence': 0.8, 'action': '调用get_weather函数获取长沙的天气信息'}, tool_call_error=False, result='Step 1:\\nTitle: 确定适合长沙今天的活动\\nReasoning: 我需要了解长沙今天的天气情况，以确定适合什么活动。\\nAction: 调用get_weather函数获取长沙的天气信息\\nConfidence: 0.8', metrics=MessageMetrics(input_tokens=0, output_tokens=0, total_tokens=0, audio_tokens=0, input_audio_tokens=0, output_audio_tokens=0, cached_tokens=0, cache_write_tokens=0, reasoning_tokens=0, prompt_tokens=0, completion_tokens=0, prompt_tokens_details=None, completion_tokens_details=None, additional_metrics=None, time=0.002468300051987171, time_to_first_token=None, timer=None), stop_after_tool_call=False, created_at=1748699776, requires_confirmation=None, confirmed=None, confirmation_note=None, requires_user_input=None, user_input_schema=None, external_execution_required=None), ToolExecution(tool_call_id='call_e4919750bd0a48e8bc3768', tool_name='get_weather', tool_args={'city': '长沙'}, tool_call_error=False, result='Sunny', metrics=MessageMetrics(input_tokens=0, output_tokens=0, total_tokens=0, audio_tokens=0, input_audio_tokens=0, output_audio_tokens=0, cached_tokens=0, cache_write_tokens=0, reasoning_tokens=0, prompt_tokens=0, completion_tokens=0, prompt_tokens_details=None, completion_tokens_details=None, additional_metrics=None, time=0.0017619000282138586, time_to_first_token=None, timer=None), stop_after_tool_call=False, created_at=1748699776, requires_confirmation=None, confirmed=None, confirmation_note=None, requires_user_input=None, user_input_schema=None, external_execution_required=None), ToolExecution(tool_call_id='call_82043545ce48410591856c', tool_name='think', tool_args={'title': '根据天气确定活动', 'thought': '长沙今天天气晴朗，适合户外活动。例如：爬山、郊游或去公园野餐。', 'confidence': 0.9, 'action': '总结推荐活动'}, tool_call_error=None, result=None, metrics=None, stop_after_tool_call=False, created_at=1748699776, requires_confirmation=None, confirmed=None, confirmation_note=None, requires_user_input=None, user_input_schema=None, external_execution_required=None)], formatted_tool_calls=None, images=None, videos=None, audio=None, response_audio=None, citations=None, extra_data=RunResponseExtraData(references=None, add_messages=None, reasoning_steps=[ReasoningStep(title='确定适合长沙今天的活动', action='调用get_weather函数获取长沙的天气信息', result=None, reasoning='我需要了解长沙今天的天气情况，以确定适合什么活动。', next_action=<NextAction.CONTINUE: 'continue'>, confidence=0.8)], reasoning_messages=None), created_at=1748699776)\n",
      "RunResponse(content=ReasoningStep(title='根据天气确定活动', action='总结推荐活动', result=None, reasoning='长沙今天天气晴朗，适合户外活动。例如：爬山、郊游或去公园野餐。', next_action=<NextAction.CONTINUE: 'continue'>, confidence=0.9), content_type='ReasoningStep', thinking=None, reasoning_content='## 确定适合长沙今天的活动\\n我需要了解长沙今天的天气情况，以确定适合什么活动。\\nAction: 调用get_weather函数获取长沙的天气信息\\nConfidence: 0.8\\n\\n## 根据天气确定活动\\n长沙今天天气晴朗，适合户外活动。例如：爬山、郊游或去公园野餐。\\nAction: 总结推荐活动\\nConfidence: 0.9\\n\\n', event='ReasoningStep', messages=None, metrics=None, model=None, model_provider=None, run_id='3d132083-9bd9-44a2-8967-32cfea12b868', agent_id='9649ea7c-8ffe-470c-8ad2-e9c6fb352883', session_id=None, workflow_id=None, tools=None, formatted_tool_calls=None, images=None, videos=None, audio=None, response_audio=None, citations=None, extra_data=None, created_at=1748737107)\n",
      "RunResponse(content=None, content_type='str', thinking=None, reasoning_content='## 确定适合长沙今天的活动\\n我需要了解长沙今天的天气情况，以确定适合什么活动。\\nAction: 调用get_weather函数获取长沙的天气信息\\nConfidence: 0.8\\n\\n## 根据天气确定活动\\n长沙今天天气晴朗，适合户外活动。例如：爬山、郊游或去公园野餐。\\nAction: 总结推荐活动\\nConfidence: 0.9\\n\\n', event='ToolCallCompleted', messages=None, metrics=None, model='qwen-plus-latest', model_provider=None, run_id='3d132083-9bd9-44a2-8967-32cfea12b868', agent_id='9649ea7c-8ffe-470c-8ad2-e9c6fb352883', session_id='6a25dac5-d85f-45cf-81d4-24092ff66428', workflow_id=None, tools=[ToolExecution(tool_call_id='call_1f686395793549cfbb7c7c', tool_name='think', tool_args={'title': '确定适合长沙今天的活动', 'thought': '我需要了解长沙今天的天气情况，以确定适合什么活动。', 'confidence': 0.8, 'action': '调用get_weather函数获取长沙的天气信息'}, tool_call_error=False, result='Step 1:\\nTitle: 确定适合长沙今天的活动\\nReasoning: 我需要了解长沙今天的天气情况，以确定适合什么活动。\\nAction: 调用get_weather函数获取长沙的天气信息\\nConfidence: 0.8', metrics=MessageMetrics(input_tokens=0, output_tokens=0, total_tokens=0, audio_tokens=0, input_audio_tokens=0, output_audio_tokens=0, cached_tokens=0, cache_write_tokens=0, reasoning_tokens=0, prompt_tokens=0, completion_tokens=0, prompt_tokens_details=None, completion_tokens_details=None, additional_metrics=None, time=0.002468300051987171, time_to_first_token=None, timer=None), stop_after_tool_call=False, created_at=1748699776, requires_confirmation=None, confirmed=None, confirmation_note=None, requires_user_input=None, user_input_schema=None, external_execution_required=None), ToolExecution(tool_call_id='call_e4919750bd0a48e8bc3768', tool_name='get_weather', tool_args={'city': '长沙'}, tool_call_error=False, result='Sunny', metrics=MessageMetrics(input_tokens=0, output_tokens=0, total_tokens=0, audio_tokens=0, input_audio_tokens=0, output_audio_tokens=0, cached_tokens=0, cache_write_tokens=0, reasoning_tokens=0, prompt_tokens=0, completion_tokens=0, prompt_tokens_details=None, completion_tokens_details=None, additional_metrics=None, time=0.0017619000282138586, time_to_first_token=None, timer=None), stop_after_tool_call=False, created_at=1748699776, requires_confirmation=None, confirmed=None, confirmation_note=None, requires_user_input=None, user_input_schema=None, external_execution_required=None), ToolExecution(tool_call_id='call_82043545ce48410591856c', tool_name='think', tool_args={'title': '根据天气确定活动', 'thought': '长沙今天天气晴朗，适合户外活动。例如：爬山、郊游或去公园野餐。', 'confidence': 0.9, 'action': '总结推荐活动'}, tool_call_error=False, result='Step 1:\\nTitle: 确定适合长沙今天的活动\\nReasoning: 我需要了解长沙今天的天气情况，以确定适合什么活动。\\nAction: 调用get_weather函数获取长沙的天气信息\\nConfidence: 0.8\\n\\nStep 2:\\nTitle: 根据天气确定活动\\nReasoning: 长沙今天天气晴朗，适合户外活动。例如：爬山、郊游或去公园野餐。\\nAction: 总结推荐活动\\nConfidence: 0.9', metrics=MessageMetrics(input_tokens=0, output_tokens=0, total_tokens=0, audio_tokens=0, input_audio_tokens=0, output_audio_tokens=0, cached_tokens=0, cache_write_tokens=0, reasoning_tokens=0, prompt_tokens=0, completion_tokens=0, prompt_tokens_details=None, completion_tokens_details=None, additional_metrics=None, time=0.0024271999718621373, time_to_first_token=None, timer=None), stop_after_tool_call=False, created_at=1748699776, requires_confirmation=None, confirmed=None, confirmation_note=None, requires_user_input=None, user_input_schema=None, external_execution_required=None)], formatted_tool_calls=None, images=None, videos=None, audio=None, response_audio=None, citations=None, extra_data=RunResponseExtraData(references=None, add_messages=None, reasoning_steps=[ReasoningStep(title='确定适合长沙今天的活动', action='调用get_weather函数获取长沙的天气信息', result=None, reasoning='我需要了解长沙今天的天气情况，以确定适合什么活动。', next_action=<NextAction.CONTINUE: 'continue'>, confidence=0.8), ReasoningStep(title='根据天气确定活动', action='总结推荐活动', result=None, reasoning='长沙今天天气晴朗，适合户外活动。例如：爬山、郊游或去公园野餐。', next_action=<NextAction.CONTINUE: 'continue'>, confidence=0.9)], reasoning_messages=None), created_at=1748699776)\n",
      "RunResponse(content=None, content_type='str', thinking=None, reasoning_content='## 确定适合长沙今天的活动\\n我需要了解长沙今天的天气情况，以确定适合什么活动。\\nAction: 调用get_weather函数获取长沙的天气信息\\nConfidence: 0.8\\n\\n## 根据天气确定活动\\n长沙今天天气晴朗，适合户外活动。例如：爬山、郊游或去公园野餐。\\nAction: 总结推荐活动\\nConfidence: 0.9\\n\\n', event='ToolCallStarted', messages=None, metrics=None, model='qwen-plus-latest', model_provider=None, run_id='3d132083-9bd9-44a2-8967-32cfea12b868', agent_id='9649ea7c-8ffe-470c-8ad2-e9c6fb352883', session_id='6a25dac5-d85f-45cf-81d4-24092ff66428', workflow_id=None, tools=[ToolExecution(tool_call_id='call_1f686395793549cfbb7c7c', tool_name='think', tool_args={'title': '确定适合长沙今天的活动', 'thought': '我需要了解长沙今天的天气情况，以确定适合什么活动。', 'confidence': 0.8, 'action': '调用get_weather函数获取长沙的天气信息'}, tool_call_error=False, result='Step 1:\\nTitle: 确定适合长沙今天的活动\\nReasoning: 我需要了解长沙今天的天气情况，以确定适合什么活动。\\nAction: 调用get_weather函数获取长沙的天气信息\\nConfidence: 0.8', metrics=MessageMetrics(input_tokens=0, output_tokens=0, total_tokens=0, audio_tokens=0, input_audio_tokens=0, output_audio_tokens=0, cached_tokens=0, cache_write_tokens=0, reasoning_tokens=0, prompt_tokens=0, completion_tokens=0, prompt_tokens_details=None, completion_tokens_details=None, additional_metrics=None, time=0.002468300051987171, time_to_first_token=None, timer=None), stop_after_tool_call=False, created_at=1748699776, requires_confirmation=None, confirmed=None, confirmation_note=None, requires_user_input=None, user_input_schema=None, external_execution_required=None), ToolExecution(tool_call_id='call_e4919750bd0a48e8bc3768', tool_name='get_weather', tool_args={'city': '长沙'}, tool_call_error=False, result='Sunny', metrics=MessageMetrics(input_tokens=0, output_tokens=0, total_tokens=0, audio_tokens=0, input_audio_tokens=0, output_audio_tokens=0, cached_tokens=0, cache_write_tokens=0, reasoning_tokens=0, prompt_tokens=0, completion_tokens=0, prompt_tokens_details=None, completion_tokens_details=None, additional_metrics=None, time=0.0017619000282138586, time_to_first_token=None, timer=None), stop_after_tool_call=False, created_at=1748699776, requires_confirmation=None, confirmed=None, confirmation_note=None, requires_user_input=None, user_input_schema=None, external_execution_required=None), ToolExecution(tool_call_id='call_82043545ce48410591856c', tool_name='think', tool_args={'title': '根据天气确定活动', 'thought': '长沙今天天气晴朗，适合户外活动。例如：爬山、郊游或去公园野餐。', 'confidence': 0.9, 'action': '总结推荐活动'}, tool_call_error=False, result='Step 1:\\nTitle: 确定适合长沙今天的活动\\nReasoning: 我需要了解长沙今天的天气情况，以确定适合什么活动。\\nAction: 调用get_weather函数获取长沙的天气信息\\nConfidence: 0.8\\n\\nStep 2:\\nTitle: 根据天气确定活动\\nReasoning: 长沙今天天气晴朗，适合户外活动。例如：爬山、郊游或去公园野餐。\\nAction: 总结推荐活动\\nConfidence: 0.9', metrics=MessageMetrics(input_tokens=0, output_tokens=0, total_tokens=0, audio_tokens=0, input_audio_tokens=0, output_audio_tokens=0, cached_tokens=0, cache_write_tokens=0, reasoning_tokens=0, prompt_tokens=0, completion_tokens=0, prompt_tokens_details=None, completion_tokens_details=None, additional_metrics=None, time=0.0024271999718621373, time_to_first_token=None, timer=None), stop_after_tool_call=False, created_at=1748699776, requires_confirmation=None, confirmed=None, confirmation_note=None, requires_user_input=None, user_input_schema=None, external_execution_required=None), ToolExecution(tool_call_id='call_4767f57413f644a1815d84', tool_name='analyze', tool_args={'title': '推荐活动分析', 'result': '长沙今天天气晴朗，适合户外活动。例如：爬山、郊游或去公园野餐。', 'analysis': '根据天气情况，推荐的活动是合理的，并且有较高的置信度。可以给出最终答案。', 'confidence': 0.9, 'next_action': 'final_answer'}, tool_call_error=None, result=None, metrics=None, stop_after_tool_call=False, created_at=1748699776, requires_confirmation=None, confirmed=None, confirmation_note=None, requires_user_input=None, user_input_schema=None, external_execution_required=None)], formatted_tool_calls=None, images=None, videos=None, audio=None, response_audio=None, citations=None, extra_data=RunResponseExtraData(references=None, add_messages=None, reasoning_steps=[ReasoningStep(title='确定适合长沙今天的活动', action='调用get_weather函数获取长沙的天气信息', result=None, reasoning='我需要了解长沙今天的天气情况，以确定适合什么活动。', next_action=<NextAction.CONTINUE: 'continue'>, confidence=0.8), ReasoningStep(title='根据天气确定活动', action='总结推荐活动', result=None, reasoning='长沙今天天气晴朗，适合户外活动。例如：爬山、郊游或去公园野餐。', next_action=<NextAction.CONTINUE: 'continue'>, confidence=0.9)], reasoning_messages=None), created_at=1748699776)\n",
      "RunResponse(content=ReasoningStep(title='推荐活动分析', action=None, result='长沙今天天气晴朗，适合户外活动。例如：爬山、郊游或去公园野餐。', reasoning='根据天气情况，推荐的活动是合理的，并且有较高的置信度。可以给出最终答案。', next_action=<NextAction.FINAL_ANSWER: 'final_answer'>, confidence=0.9), content_type='ReasoningStep', thinking=None, reasoning_content='## 确定适合长沙今天的活动\\n我需要了解长沙今天的天气情况，以确定适合什么活动。\\nAction: 调用get_weather函数获取长沙的天气信息\\nConfidence: 0.8\\n\\n## 根据天气确定活动\\n长沙今天天气晴朗，适合户外活动。例如：爬山、郊游或去公园野餐。\\nAction: 总结推荐活动\\nConfidence: 0.9\\n\\n## 推荐活动分析\\nResult: 长沙今天天气晴朗，适合户外活动。例如：爬山、郊游或去公园野餐。\\n根据天气情况，推荐的活动是合理的，并且有较高的置信度。可以给出最终答案。\\nNext Action: final_answer\\nConfidence: 0.9\\n\\n', event='ReasoningStep', messages=None, metrics=None, model=None, model_provider=None, run_id='3d132083-9bd9-44a2-8967-32cfea12b868', agent_id='9649ea7c-8ffe-470c-8ad2-e9c6fb352883', session_id=None, workflow_id=None, tools=None, formatted_tool_calls=None, images=None, videos=None, audio=None, response_audio=None, citations=None, extra_data=None, created_at=1748737111)\n",
      "RunResponse(content=None, content_type='str', thinking=None, reasoning_content='## 确定适合长沙今天的活动\\n我需要了解长沙今天的天气情况，以确定适合什么活动。\\nAction: 调用get_weather函数获取长沙的天气信息\\nConfidence: 0.8\\n\\n## 根据天气确定活动\\n长沙今天天气晴朗，适合户外活动。例如：爬山、郊游或去公园野餐。\\nAction: 总结推荐活动\\nConfidence: 0.9\\n\\n## 推荐活动分析\\nResult: 长沙今天天气晴朗，适合户外活动。例如：爬山、郊游或去公园野餐。\\n根据天气情况，推荐的活动是合理的，并且有较高的置信度。可以给出最终答案。\\nNext Action: final_answer\\nConfidence: 0.9\\n\\n', event='ToolCallCompleted', messages=None, metrics=None, model='qwen-plus-latest', model_provider=None, run_id='3d132083-9bd9-44a2-8967-32cfea12b868', agent_id='9649ea7c-8ffe-470c-8ad2-e9c6fb352883', session_id='6a25dac5-d85f-45cf-81d4-24092ff66428', workflow_id=None, tools=[ToolExecution(tool_call_id='call_1f686395793549cfbb7c7c', tool_name='think', tool_args={'title': '确定适合长沙今天的活动', 'thought': '我需要了解长沙今天的天气情况，以确定适合什么活动。', 'confidence': 0.8, 'action': '调用get_weather函数获取长沙的天气信息'}, tool_call_error=False, result='Step 1:\\nTitle: 确定适合长沙今天的活动\\nReasoning: 我需要了解长沙今天的天气情况，以确定适合什么活动。\\nAction: 调用get_weather函数获取长沙的天气信息\\nConfidence: 0.8', metrics=MessageMetrics(input_tokens=0, output_tokens=0, total_tokens=0, audio_tokens=0, input_audio_tokens=0, output_audio_tokens=0, cached_tokens=0, cache_write_tokens=0, reasoning_tokens=0, prompt_tokens=0, completion_tokens=0, prompt_tokens_details=None, completion_tokens_details=None, additional_metrics=None, time=0.002468300051987171, time_to_first_token=None, timer=None), stop_after_tool_call=False, created_at=1748699776, requires_confirmation=None, confirmed=None, confirmation_note=None, requires_user_input=None, user_input_schema=None, external_execution_required=None), ToolExecution(tool_call_id='call_e4919750bd0a48e8bc3768', tool_name='get_weather', tool_args={'city': '长沙'}, tool_call_error=False, result='Sunny', metrics=MessageMetrics(input_tokens=0, output_tokens=0, total_tokens=0, audio_tokens=0, input_audio_tokens=0, output_audio_tokens=0, cached_tokens=0, cache_write_tokens=0, reasoning_tokens=0, prompt_tokens=0, completion_tokens=0, prompt_tokens_details=None, completion_tokens_details=None, additional_metrics=None, time=0.0017619000282138586, time_to_first_token=None, timer=None), stop_after_tool_call=False, created_at=1748699776, requires_confirmation=None, confirmed=None, confirmation_note=None, requires_user_input=None, user_input_schema=None, external_execution_required=None), ToolExecution(tool_call_id='call_82043545ce48410591856c', tool_name='think', tool_args={'title': '根据天气确定活动', 'thought': '长沙今天天气晴朗，适合户外活动。例如：爬山、郊游或去公园野餐。', 'confidence': 0.9, 'action': '总结推荐活动'}, tool_call_error=False, result='Step 1:\\nTitle: 确定适合长沙今天的活动\\nReasoning: 我需要了解长沙今天的天气情况，以确定适合什么活动。\\nAction: 调用get_weather函数获取长沙的天气信息\\nConfidence: 0.8\\n\\nStep 2:\\nTitle: 根据天气确定活动\\nReasoning: 长沙今天天气晴朗，适合户外活动。例如：爬山、郊游或去公园野餐。\\nAction: 总结推荐活动\\nConfidence: 0.9', metrics=MessageMetrics(input_tokens=0, output_tokens=0, total_tokens=0, audio_tokens=0, input_audio_tokens=0, output_audio_tokens=0, cached_tokens=0, cache_write_tokens=0, reasoning_tokens=0, prompt_tokens=0, completion_tokens=0, prompt_tokens_details=None, completion_tokens_details=None, additional_metrics=None, time=0.0024271999718621373, time_to_first_token=None, timer=None), stop_after_tool_call=False, created_at=1748699776, requires_confirmation=None, confirmed=None, confirmation_note=None, requires_user_input=None, user_input_schema=None, external_execution_required=None), ToolExecution(tool_call_id='call_4767f57413f644a1815d84', tool_name='analyze', tool_args={'title': '推荐活动分析', 'result': '长沙今天天气晴朗，适合户外活动。例如：爬山、郊游或去公园野餐。', 'analysis': '根据天气情况，推荐的活动是合理的，并且有较高的置信度。可以给出最终答案。', 'confidence': 0.9, 'next_action': 'final_answer'}, tool_call_error=False, result='Step 1:\\nTitle: 确定适合长沙今天的活动\\nReasoning: 我需要了解长沙今天的天气情况，以确定适合什么活动。\\nAction: 调用get_weather函数获取长沙的天气信息\\nConfidence: 0.8\\n\\nStep 2:\\nTitle: 根据天气确定活动\\nReasoning: 长沙今天天气晴朗，适合户外活动。例如：爬山、郊游或去公园野餐。\\nAction: 总结推荐活动\\nConfidence: 0.9\\n\\nStep 3:\\nTitle: 推荐活动分析\\nReasoning: 根据天气情况，推荐的活动是合理的，并且有较高的置信度。可以给出最终答案。\\nAction: None\\nConfidence: 0.9', metrics=MessageMetrics(input_tokens=0, output_tokens=0, total_tokens=0, audio_tokens=0, input_audio_tokens=0, output_audio_tokens=0, cached_tokens=0, cache_write_tokens=0, reasoning_tokens=0, prompt_tokens=0, completion_tokens=0, prompt_tokens_details=None, completion_tokens_details=None, additional_metrics=None, time=0.0006906000198796391, time_to_first_token=None, timer=None), stop_after_tool_call=False, created_at=1748699776, requires_confirmation=None, confirmed=None, confirmation_note=None, requires_user_input=None, user_input_schema=None, external_execution_required=None)], formatted_tool_calls=None, images=None, videos=None, audio=None, response_audio=None, citations=None, extra_data=RunResponseExtraData(references=None, add_messages=None, reasoning_steps=[ReasoningStep(title='确定适合长沙今天的活动', action='调用get_weather函数获取长沙的天气信息', result=None, reasoning='我需要了解长沙今天的天气情况，以确定适合什么活动。', next_action=<NextAction.CONTINUE: 'continue'>, confidence=0.8), ReasoningStep(title='根据天气确定活动', action='总结推荐活动', result=None, reasoning='长沙今天天气晴朗，适合户外活动。例如：爬山、郊游或去公园野餐。', next_action=<NextAction.CONTINUE: 'continue'>, confidence=0.9), ReasoningStep(title='推荐活动分析', action=None, result='长沙今天天气晴朗，适合户外活动。例如：爬山、郊游或去公园野餐。', reasoning='根据天气情况，推荐的活动是合理的，并且有较高的置信度。可以给出最终答案。', next_action=<NextAction.FINAL_ANSWER: 'final_answer'>, confidence=0.9)], reasoning_messages=None), created_at=1748699776)\n",
      "RunResponse(content='长沙', content_type='str', thinking=None, reasoning_content=None, event='RunResponse', messages=None, metrics=None, model=None, model_provider=None, run_id='3d132083-9bd9-44a2-8967-32cfea12b868', agent_id='9649ea7c-8ffe-470c-8ad2-e9c6fb352883', session_id='6a25dac5-d85f-45cf-81d4-24092ff66428', workflow_id=None, tools=None, formatted_tool_calls=None, images=None, videos=None, audio=None, response_audio=None, citations=None, extra_data=None, created_at=1748699776)\n",
      "RunResponse(content='今天', content_type='str', thinking=None, reasoning_content=None, event='RunResponse', messages=None, metrics=None, model=None, model_provider=None, run_id='3d132083-9bd9-44a2-8967-32cfea12b868', agent_id='9649ea7c-8ffe-470c-8ad2-e9c6fb352883', session_id='6a25dac5-d85f-45cf-81d4-24092ff66428', workflow_id=None, tools=None, formatted_tool_calls=None, images=None, videos=None, audio=None, response_audio=None, citations=None, extra_data=None, created_at=1748699776)\n",
      "RunResponse(content='天气', content_type='str', thinking=None, reasoning_content=None, event='RunResponse', messages=None, metrics=None, model=None, model_provider=None, run_id='3d132083-9bd9-44a2-8967-32cfea12b868', agent_id='9649ea7c-8ffe-470c-8ad2-e9c6fb352883', session_id='6a25dac5-d85f-45cf-81d4-24092ff66428', workflow_id=None, tools=None, formatted_tool_calls=None, images=None, videos=None, audio=None, response_audio=None, citations=None, extra_data=None, created_at=1748699776)\n",
      "RunResponse(content='晴', content_type='str', thinking=None, reasoning_content=None, event='RunResponse', messages=None, metrics=None, model=None, model_provider=None, run_id='3d132083-9bd9-44a2-8967-32cfea12b868', agent_id='9649ea7c-8ffe-470c-8ad2-e9c6fb352883', session_id='6a25dac5-d85f-45cf-81d4-24092ff66428', workflow_id=None, tools=None, formatted_tool_calls=None, images=None, videos=None, audio=None, response_audio=None, citations=None, extra_data=None, created_at=1748699776)\n",
      "RunResponse(content='朗，非常适合户外', content_type='str', thinking=None, reasoning_content=None, event='RunResponse', messages=None, metrics=None, model=None, model_provider=None, run_id='3d132083-9bd9-44a2-8967-32cfea12b868', agent_id='9649ea7c-8ffe-470c-8ad2-e9c6fb352883', session_id='6a25dac5-d85f-45cf-81d4-24092ff66428', workflow_id=None, tools=None, formatted_tool_calls=None, images=None, videos=None, audio=None, response_audio=None, citations=None, extra_data=None, created_at=1748699776)\n",
      "RunResponse(content='活动。推荐的', content_type='str', thinking=None, reasoning_content=None, event='RunResponse', messages=None, metrics=None, model=None, model_provider=None, run_id='3d132083-9bd9-44a2-8967-32cfea12b868', agent_id='9649ea7c-8ffe-470c-8ad2-e9c6fb352883', session_id='6a25dac5-d85f-45cf-81d4-24092ff66428', workflow_id=None, tools=None, formatted_tool_calls=None, images=None, videos=None, audio=None, response_audio=None, citations=None, extra_data=None, created_at=1748699776)\n",
      "RunResponse(content='活动包括爬山', content_type='str', thinking=None, reasoning_content=None, event='RunResponse', messages=None, metrics=None, model=None, model_provider=None, run_id='3d132083-9bd9-44a2-8967-32cfea12b868', agent_id='9649ea7c-8ffe-470c-8ad2-e9c6fb352883', session_id='6a25dac5-d85f-45cf-81d4-24092ff66428', workflow_id=None, tools=None, formatted_tool_calls=None, images=None, videos=None, audio=None, response_audio=None, citations=None, extra_data=None, created_at=1748699776)\n",
      "RunResponse(content='、郊游或者', content_type='str', thinking=None, reasoning_content=None, event='RunResponse', messages=None, metrics=None, model=None, model_provider=None, run_id='3d132083-9bd9-44a2-8967-32cfea12b868', agent_id='9649ea7c-8ffe-470c-8ad2-e9c6fb352883', session_id='6a25dac5-d85f-45cf-81d4-24092ff66428', workflow_id=None, tools=None, formatted_tool_calls=None, images=None, videos=None, audio=None, response_audio=None, citations=None, extra_data=None, created_at=1748699776)\n",
      "RunResponse(content='去公园野餐', content_type='str', thinking=None, reasoning_content=None, event='RunResponse', messages=None, metrics=None, model=None, model_provider=None, run_id='3d132083-9bd9-44a2-8967-32cfea12b868', agent_id='9649ea7c-8ffe-470c-8ad2-e9c6fb352883', session_id='6a25dac5-d85f-45cf-81d4-24092ff66428', workflow_id=None, tools=None, formatted_tool_calls=None, images=None, videos=None, audio=None, response_audio=None, citations=None, extra_data=None, created_at=1748699776)\n",
      "RunResponse(content='。希望您能', content_type='str', thinking=None, reasoning_content=None, event='RunResponse', messages=None, metrics=None, model=None, model_provider=None, run_id='3d132083-9bd9-44a2-8967-32cfea12b868', agent_id='9649ea7c-8ffe-470c-8ad2-e9c6fb352883', session_id='6a25dac5-d85f-45cf-81d4-24092ff66428', workflow_id=None, tools=None, formatted_tool_calls=None, images=None, videos=None, audio=None, response_audio=None, citations=None, extra_data=None, created_at=1748699776)\n",
      "RunResponse(content='享受美好的一天！', content_type='str', thinking=None, reasoning_content=None, event='RunResponse', messages=None, metrics=None, model=None, model_provider=None, run_id='3d132083-9bd9-44a2-8967-32cfea12b868', agent_id='9649ea7c-8ffe-470c-8ad2-e9c6fb352883', session_id='6a25dac5-d85f-45cf-81d4-24092ff66428', workflow_id=None, tools=None, formatted_tool_calls=None, images=None, videos=None, audio=None, response_audio=None, citations=None, extra_data=None, created_at=1748699776)\n",
      "RunResponse(content='', content_type='str', thinking=None, reasoning_content=None, event='RunResponse', messages=None, metrics=None, model=None, model_provider=None, run_id='3d132083-9bd9-44a2-8967-32cfea12b868', agent_id='9649ea7c-8ffe-470c-8ad2-e9c6fb352883', session_id='6a25dac5-d85f-45cf-81d4-24092ff66428', workflow_id=None, tools=None, formatted_tool_calls=None, images=None, videos=None, audio=None, response_audio=None, citations=None, extra_data=None, created_at=1748699776)\n",
      "RunResponse(content=ReasoningSteps(reasoning_steps=[ReasoningStep(title='确定适合长沙今天的活动', action='调用get_weather函数获取长沙的天气信息', result=None, reasoning='我需要了解长沙今天的天气情况，以确定适合什么活动。', next_action=<NextAction.CONTINUE: 'continue'>, confidence=0.8), ReasoningStep(title='根据天气确定活动', action='总结推荐活动', result=None, reasoning='长沙今天天气晴朗，适合户外活动。例如：爬山、郊游或去公园野餐。', next_action=<NextAction.CONTINUE: 'continue'>, confidence=0.9), ReasoningStep(title='推荐活动分析', action=None, result='长沙今天天气晴朗，适合户外活动。例如：爬山、郊游或去公园野餐。', reasoning='根据天气情况，推荐的活动是合理的，并且有较高的置信度。可以给出最终答案。', next_action=<NextAction.FINAL_ANSWER: 'final_answer'>, confidence=0.9)]), content_type='ModelMetaclass', thinking=None, reasoning_content=None, event='ReasoningCompleted', messages=None, metrics=None, model=None, model_provider=None, run_id='3d132083-9bd9-44a2-8967-32cfea12b868', agent_id='9649ea7c-8ffe-470c-8ad2-e9c6fb352883', session_id=None, workflow_id=None, tools=None, formatted_tool_calls=None, images=None, videos=None, audio=None, response_audio=None, citations=None, extra_data=None, created_at=1748737114)\n",
      "RunResponse(content='Memory updated', content_type='str', thinking=None, reasoning_content=None, event='UpdatingMemory', messages=None, metrics=None, model=None, model_provider=None, run_id='3d132083-9bd9-44a2-8967-32cfea12b868', agent_id='9649ea7c-8ffe-470c-8ad2-e9c6fb352883', session_id='6a25dac5-d85f-45cf-81d4-24092ff66428', workflow_id=None, tools=None, formatted_tool_calls=None, images=None, videos=None, audio=None, response_audio=None, citations=None, extra_data=None, created_at=1748737114)\n",
      "RunResponse(content='长沙今天天气晴朗，非常适合户外活动。推荐的活动包括爬山、郊游或者去公园野餐。希望您能享受美好的一天！', content_type='str', thinking=None, reasoning_content='## 确定适合长沙今天的活动\\n我需要了解长沙今天的天气情况，以确定适合什么活动。\\nAction: 调用get_weather函数获取长沙的天气信息\\nConfidence: 0.8\\n\\n## 根据天气确定活动\\n长沙今天天气晴朗，适合户外活动。例如：爬山、郊游或去公园野餐。\\nAction: 总结推荐活动\\nConfidence: 0.9\\n\\n## 推荐活动分析\\nResult: 长沙今天天气晴朗，适合户外活动。例如：爬山、郊游或去公园野餐。\\n根据天气情况，推荐的活动是合理的，并且有较高的置信度。可以给出最终答案。\\nNext Action: final_answer\\nConfidence: 0.9\\n\\n', event='RunCompleted', messages=[Message(role='system', content='<reasoning_instructions>\\nYou have access to the `think` and `analyze` tools to work through problems step-by-step and structure your thought process. You must ALWAYS `think` before making tool calls or generating a response.\\n\\n1. **Think** (scratchpad):\\n    - Purpose: Use the `think` tool as a scratchpad to break down complex problems, outline steps, and decide on immediate actions within your reasoning flow. Use this to structure your internal monologue.\\n    - Usage: Call `think` before making tool calls or generating a response. Explain your reasoning and specify the intended action (e.g., \"make a tool call\", \"perform calculation\", \"ask clarifying question\").\\n\\n2. **Analyze** (evaluation):\\n    - Purpose: Evaluate the result of a think step or a set of tool calls. Assess if the result is expected, sufficient, or requires further investigation.\\n    - Usage: Call `analyze` after a set of tool calls. Determine the `next_action` based on your analysis: `continue` (more reasoning needed), `validate` (seek external confirmation/validation if possible), or `final_answer` (ready to conclude).\\n    - Explain your reasoning highlighting whether the result is correct/sufficient.\\n\\n## IMPORTANT GUIDELINES\\n- **Always Think First:** You MUST use the `think` tool before making tool calls or generating a response.\\n- **Iterate to Solve:** Use the `think` and `analyze` tools iteratively to build a clear reasoning path. The typical flow is `Think` -> [`Tool Calls` if needed] -> [`Analyze` if needed] -> ... -> `final_answer`. Repeat this cycle until you reach a satisfactory conclusion.\\n- **Make multiple tool calls in parallel:** After a `think` step, you can make multiple tool calls in parallel.\\n- **Keep Thoughts Internal:** The reasoning steps (thoughts and analyses) are for your internal process only. Do not share them directly with the user.\\n- **Conclude Clearly:** When your analysis determines the `next_action` is `final_answer`, provide a concise and accurate final answer to the user.\\n</reasoning_instructions>', name=None, tool_call_id=None, tool_calls=None, audio=None, images=None, videos=None, files=None, audio_output=None, image_output=None, thinking=None, redacted_thinking=None, provider_data=None, citations=None, reasoning_content=None, tool_name=None, tool_args=None, tool_call_error=None, stop_after_tool_call=False, add_to_agent_memory=True, from_history=False, metrics=MessageMetrics(input_tokens=0, output_tokens=0, total_tokens=0, audio_tokens=0, input_audio_tokens=0, output_audio_tokens=0, cached_tokens=0, cache_write_tokens=0, reasoning_tokens=0, prompt_tokens=0, completion_tokens=0, prompt_tokens_details=None, completion_tokens_details=None, additional_metrics=None, time=None, time_to_first_token=None, timer=None), references=None, created_at=1748736912), Message(role='user', content='今天长沙适合什么活动', name=None, tool_call_id=None, tool_calls=None, audio=None, images=None, videos=None, files=None, audio_output=None, image_output=None, thinking=None, redacted_thinking=None, provider_data=None, citations=None, reasoning_content=None, tool_name=None, tool_args=None, tool_call_error=None, stop_after_tool_call=False, add_to_agent_memory=True, from_history=False, metrics=MessageMetrics(input_tokens=0, output_tokens=0, total_tokens=0, audio_tokens=0, input_audio_tokens=0, output_audio_tokens=0, cached_tokens=0, cache_write_tokens=0, reasoning_tokens=0, prompt_tokens=0, completion_tokens=0, prompt_tokens_details=None, completion_tokens_details=None, additional_metrics=None, time=None, time_to_first_token=None, timer=None), references=None, created_at=1748736912), Message(role='assistant', content=None, name=None, tool_call_id=None, tool_calls=[{'id': 'call_1f686395793549cfbb7c7c', 'type': 'function', 'function': {'name': 'think', 'arguments': '{\"title\": \"确定适合长沙今天的活动\", \"thought\": \"我需要了解长沙今天的天气情况，以确定适合什么活动。\", \"confidence\": 0.8, \"action\": \"调用get_weather函数获取长沙的天气信息\"}'}}], audio=None, images=None, videos=None, files=None, audio_output=None, image_output=None, thinking=None, redacted_thinking=None, provider_data=None, citations=None, reasoning_content=None, tool_name=None, tool_args=None, tool_call_error=None, stop_after_tool_call=False, add_to_agent_memory=True, from_history=False, metrics=MessageMetrics(input_tokens=993, output_tokens=64, total_tokens=1057, audio_tokens=0, input_audio_tokens=0, output_audio_tokens=0, cached_tokens=0, cache_write_tokens=0, reasoning_tokens=0, prompt_tokens=993, completion_tokens=64, prompt_tokens_details=None, completion_tokens_details=None, additional_metrics=None, time=3.8295771999983117, time_to_first_token=2.4883640999905765, timer=<agno.utils.timer.Timer object at 0x000002B071C5A0C0>), references=None, created_at=1748737097), Message(role='tool', content='Step 1:\\nTitle: 确定适合长沙今天的活动\\nReasoning: 我需要了解长沙今天的天气情况，以确定适合什么活动。\\nAction: 调用get_weather函数获取长沙的天气信息\\nConfidence: 0.8', name=None, tool_call_id='call_1f686395793549cfbb7c7c', tool_calls=None, audio=None, images=None, videos=None, files=None, audio_output=None, image_output=None, thinking=None, redacted_thinking=None, provider_data=None, citations=None, reasoning_content=None, tool_name='think', tool_args={'title': '确定适合长沙今天的活动', 'thought': '我需要了解长沙今天的天气情况，以确定适合什么活动。', 'confidence': 0.8, 'action': '调用get_weather函数获取长沙的天气信息'}, tool_call_error=False, stop_after_tool_call=False, add_to_agent_memory=True, from_history=False, metrics=MessageMetrics(input_tokens=0, output_tokens=0, total_tokens=0, audio_tokens=0, input_audio_tokens=0, output_audio_tokens=0, cached_tokens=0, cache_write_tokens=0, reasoning_tokens=0, prompt_tokens=0, completion_tokens=0, prompt_tokens_details=None, completion_tokens_details=None, additional_metrics=None, time=0.002468300051987171, time_to_first_token=None, timer=None), references=None, created_at=1748737100), Message(role='assistant', content=None, name=None, tool_call_id=None, tool_calls=[{'id': 'call_e4919750bd0a48e8bc3768', 'type': 'function', 'function': {'name': 'get_weather', 'arguments': '{\"city\": \"长沙\"}'}}], audio=None, images=None, videos=None, files=None, audio_output=None, image_output=None, thinking=None, redacted_thinking=None, provider_data=None, citations=None, reasoning_content=None, tool_name=None, tool_args=None, tool_call_error=None, stop_after_tool_call=False, add_to_agent_memory=True, from_history=False, metrics=MessageMetrics(input_tokens=1126, output_tokens=19, total_tokens=1145, audio_tokens=0, input_audio_tokens=0, output_audio_tokens=0, cached_tokens=0, cache_write_tokens=0, reasoning_tokens=0, prompt_tokens=1126, completion_tokens=19, prompt_tokens_details=None, completion_tokens_details=None, additional_metrics=None, time=2.531774100032635, time_to_first_token=2.32429699995555, timer=<agno.utils.timer.Timer object at 0x000002B070A37BC0>), references=None, created_at=1748737100), Message(role='tool', content='Sunny', name=None, tool_call_id='call_e4919750bd0a48e8bc3768', tool_calls=None, audio=None, images=None, videos=None, files=None, audio_output=None, image_output=None, thinking=None, redacted_thinking=None, provider_data=None, citations=None, reasoning_content=None, tool_name='get_weather', tool_args={'city': '长沙'}, tool_call_error=False, stop_after_tool_call=False, add_to_agent_memory=True, from_history=False, metrics=MessageMetrics(input_tokens=0, output_tokens=0, total_tokens=0, audio_tokens=0, input_audio_tokens=0, output_audio_tokens=0, cached_tokens=0, cache_write_tokens=0, reasoning_tokens=0, prompt_tokens=0, completion_tokens=0, prompt_tokens_details=None, completion_tokens_details=None, additional_metrics=None, time=0.0017619000282138586, time_to_first_token=None, timer=None), references=None, created_at=1748737103), Message(role='assistant', content=None, name=None, tool_call_id=None, tool_calls=[{'id': 'call_82043545ce48410591856c', 'type': 'function', 'function': {'name': 'think', 'arguments': '{\"title\": \"根据天气确定活动\", \"thought\": \"长沙今天天气晴朗，适合户外活动。例如：爬山、郊游或去公园野餐。\", \"confidence\": 0.9, \"action\": \"总结推荐活动\"}'}}], audio=None, images=None, videos=None, files=None, audio_output=None, image_output=None, thinking=None, redacted_thinking=None, provider_data=None, citations=None, reasoning_content=None, tool_name=None, tool_args=None, tool_call_error=None, stop_after_tool_call=False, add_to_agent_memory=True, from_history=False, metrics=MessageMetrics(input_tokens=1161, output_tokens=65, total_tokens=1226, audio_tokens=0, input_audio_tokens=0, output_audio_tokens=0, cached_tokens=0, cache_write_tokens=0, reasoning_tokens=0, prompt_tokens=1161, completion_tokens=65, prompt_tokens_details=None, completion_tokens_details=None, additional_metrics=None, time=3.9499992000637576, time_to_first_token=2.325504600070417, timer=<agno.utils.timer.Timer object at 0x000002B070A353D0>), references=None, created_at=1748737103), Message(role='tool', content='Step 1:\\nTitle: 确定适合长沙今天的活动\\nReasoning: 我需要了解长沙今天的天气情况，以确定适合什么活动。\\nAction: 调用get_weather函数获取长沙的天气信息\\nConfidence: 0.8\\n\\nStep 2:\\nTitle: 根据天气确定活动\\nReasoning: 长沙今天天气晴朗，适合户外活动。例如：爬山、郊游或去公园野餐。\\nAction: 总结推荐活动\\nConfidence: 0.9', name=None, tool_call_id='call_82043545ce48410591856c', tool_calls=None, audio=None, images=None, videos=None, files=None, audio_output=None, image_output=None, thinking=None, redacted_thinking=None, provider_data=None, citations=None, reasoning_content=None, tool_name='think', tool_args={'title': '根据天气确定活动', 'thought': '长沙今天天气晴朗，适合户外活动。例如：爬山、郊游或去公园野餐。', 'confidence': 0.9, 'action': '总结推荐活动'}, tool_call_error=False, stop_after_tool_call=False, add_to_agent_memory=True, from_history=False, metrics=MessageMetrics(input_tokens=0, output_tokens=0, total_tokens=0, audio_tokens=0, input_audio_tokens=0, output_audio_tokens=0, cached_tokens=0, cache_write_tokens=0, reasoning_tokens=0, prompt_tokens=0, completion_tokens=0, prompt_tokens_details=None, completion_tokens_details=None, additional_metrics=None, time=0.0024271999718621373, time_to_first_token=None, timer=None), references=None, created_at=1748737107), Message(role='assistant', content=None, name=None, tool_call_id=None, tool_calls=[{'id': 'call_4767f57413f644a1815d84', 'type': 'function', 'function': {'name': 'analyze', 'arguments': '{\"title\": \"推荐活动分析\", \"result\": \"长沙今天天气晴朗，适合户外活动。例如：爬山、郊游或去公园野餐。\", \"analysis\": \"根据天气情况，推荐的活动是合理的，并且有较高的置信度。可以给出最终答案。\", \"confidence\": 0.9, \"next_action\": \"final_answer\"}'}}], audio=None, images=None, videos=None, files=None, audio_output=None, image_output=None, thinking=None, redacted_thinking=None, provider_data=None, citations=None, reasoning_content=None, tool_name=None, tool_args=None, tool_call_error=None, stop_after_tool_call=False, add_to_agent_memory=True, from_history=False, metrics=MessageMetrics(input_tokens=1353, output_tokens=91, total_tokens=1444, audio_tokens=0, input_audio_tokens=0, output_audio_tokens=0, cached_tokens=0, cache_write_tokens=0, reasoning_tokens=0, prompt_tokens=1353, completion_tokens=91, prompt_tokens_details=None, completion_tokens_details=None, additional_metrics=None, time=4.535993100027554, time_to_first_token=2.647741400054656, timer=<agno.utils.timer.Timer object at 0x000002B070A35A30>), references=None, created_at=1748737107), Message(role='tool', content='Step 1:\\nTitle: 确定适合长沙今天的活动\\nReasoning: 我需要了解长沙今天的天气情况，以确定适合什么活动。\\nAction: 调用get_weather函数获取长沙的天气信息\\nConfidence: 0.8\\n\\nStep 2:\\nTitle: 根据天气确定活动\\nReasoning: 长沙今天天气晴朗，适合户外活动。例如：爬山、郊游或去公园野餐。\\nAction: 总结推荐活动\\nConfidence: 0.9\\n\\nStep 3:\\nTitle: 推荐活动分析\\nReasoning: 根据天气情况，推荐的活动是合理的，并且有较高的置信度。可以给出最终答案。\\nAction: None\\nConfidence: 0.9', name=None, tool_call_id='call_4767f57413f644a1815d84', tool_calls=None, audio=None, images=None, videos=None, files=None, audio_output=None, image_output=None, thinking=None, redacted_thinking=None, provider_data=None, citations=None, reasoning_content=None, tool_name='analyze', tool_args={'title': '推荐活动分析', 'result': '长沙今天天气晴朗，适合户外活动。例如：爬山、郊游或去公园野餐。', 'analysis': '根据天气情况，推荐的活动是合理的，并且有较高的置信度。可以给出最终答案。', 'confidence': 0.9, 'next_action': 'final_answer'}, tool_call_error=False, stop_after_tool_call=False, add_to_agent_memory=True, from_history=False, metrics=MessageMetrics(input_tokens=0, output_tokens=0, total_tokens=0, audio_tokens=0, input_audio_tokens=0, output_audio_tokens=0, cached_tokens=0, cache_write_tokens=0, reasoning_tokens=0, prompt_tokens=0, completion_tokens=0, prompt_tokens_details=None, completion_tokens_details=None, additional_metrics=None, time=0.0006906000198796391, time_to_first_token=None, timer=None), references=None, created_at=1748737111), Message(role='assistant', content='长沙今天天气晴朗，非常适合户外活动。推荐的活动包括爬山、郊游或者去公园野餐。希望您能享受美好的一天！', name=None, tool_call_id=None, tool_calls=None, audio=None, images=None, videos=None, files=None, audio_output=None, image_output=None, thinking=None, redacted_thinking=None, provider_data=None, citations=None, reasoning_content=None, tool_name=None, tool_args=None, tool_call_error=None, stop_after_tool_call=False, add_to_agent_memory=True, from_history=False, metrics=MessageMetrics(input_tokens=1622, output_tokens=32, total_tokens=1654, audio_tokens=0, input_audio_tokens=0, output_audio_tokens=0, cached_tokens=0, cache_write_tokens=0, reasoning_tokens=0, prompt_tokens=1622, completion_tokens=32, prompt_tokens_details=None, completion_tokens_details=None, additional_metrics=None, time=3.049585400032811, time_to_first_token=2.2641778000397608, timer=<agno.utils.timer.Timer object at 0x000002B072F753D0>), references=None, created_at=1748737111)], metrics=None, model='qwen-plus-latest', model_provider=None, run_id='3d132083-9bd9-44a2-8967-32cfea12b868', agent_id='9649ea7c-8ffe-470c-8ad2-e9c6fb352883', session_id='6a25dac5-d85f-45cf-81d4-24092ff66428', workflow_id=None, tools=[ToolExecution(tool_call_id='call_1f686395793549cfbb7c7c', tool_name='think', tool_args={'title': '确定适合长沙今天的活动', 'thought': '我需要了解长沙今天的天气情况，以确定适合什么活动。', 'confidence': 0.8, 'action': '调用get_weather函数获取长沙的天气信息'}, tool_call_error=False, result='Step 1:\\nTitle: 确定适合长沙今天的活动\\nReasoning: 我需要了解长沙今天的天气情况，以确定适合什么活动。\\nAction: 调用get_weather函数获取长沙的天气信息\\nConfidence: 0.8', metrics=MessageMetrics(input_tokens=0, output_tokens=0, total_tokens=0, audio_tokens=0, input_audio_tokens=0, output_audio_tokens=0, cached_tokens=0, cache_write_tokens=0, reasoning_tokens=0, prompt_tokens=0, completion_tokens=0, prompt_tokens_details=None, completion_tokens_details=None, additional_metrics=None, time=0.002468300051987171, time_to_first_token=None, timer=None), stop_after_tool_call=False, created_at=1748699776, requires_confirmation=None, confirmed=None, confirmation_note=None, requires_user_input=None, user_input_schema=None, external_execution_required=None), ToolExecution(tool_call_id='call_e4919750bd0a48e8bc3768', tool_name='get_weather', tool_args={'city': '长沙'}, tool_call_error=False, result='Sunny', metrics=MessageMetrics(input_tokens=0, output_tokens=0, total_tokens=0, audio_tokens=0, input_audio_tokens=0, output_audio_tokens=0, cached_tokens=0, cache_write_tokens=0, reasoning_tokens=0, prompt_tokens=0, completion_tokens=0, prompt_tokens_details=None, completion_tokens_details=None, additional_metrics=None, time=0.0017619000282138586, time_to_first_token=None, timer=None), stop_after_tool_call=False, created_at=1748699776, requires_confirmation=None, confirmed=None, confirmation_note=None, requires_user_input=None, user_input_schema=None, external_execution_required=None), ToolExecution(tool_call_id='call_82043545ce48410591856c', tool_name='think', tool_args={'title': '根据天气确定活动', 'thought': '长沙今天天气晴朗，适合户外活动。例如：爬山、郊游或去公园野餐。', 'confidence': 0.9, 'action': '总结推荐活动'}, tool_call_error=False, result='Step 1:\\nTitle: 确定适合长沙今天的活动\\nReasoning: 我需要了解长沙今天的天气情况，以确定适合什么活动。\\nAction: 调用get_weather函数获取长沙的天气信息\\nConfidence: 0.8\\n\\nStep 2:\\nTitle: 根据天气确定活动\\nReasoning: 长沙今天天气晴朗，适合户外活动。例如：爬山、郊游或去公园野餐。\\nAction: 总结推荐活动\\nConfidence: 0.9', metrics=MessageMetrics(input_tokens=0, output_tokens=0, total_tokens=0, audio_tokens=0, input_audio_tokens=0, output_audio_tokens=0, cached_tokens=0, cache_write_tokens=0, reasoning_tokens=0, prompt_tokens=0, completion_tokens=0, prompt_tokens_details=None, completion_tokens_details=None, additional_metrics=None, time=0.0024271999718621373, time_to_first_token=None, timer=None), stop_after_tool_call=False, created_at=1748699776, requires_confirmation=None, confirmed=None, confirmation_note=None, requires_user_input=None, user_input_schema=None, external_execution_required=None), ToolExecution(tool_call_id='call_4767f57413f644a1815d84', tool_name='analyze', tool_args={'title': '推荐活动分析', 'result': '长沙今天天气晴朗，适合户外活动。例如：爬山、郊游或去公园野餐。', 'analysis': '根据天气情况，推荐的活动是合理的，并且有较高的置信度。可以给出最终答案。', 'confidence': 0.9, 'next_action': 'final_answer'}, tool_call_error=False, result='Step 1:\\nTitle: 确定适合长沙今天的活动\\nReasoning: 我需要了解长沙今天的天气情况，以确定适合什么活动。\\nAction: 调用get_weather函数获取长沙的天气信息\\nConfidence: 0.8\\n\\nStep 2:\\nTitle: 根据天气确定活动\\nReasoning: 长沙今天天气晴朗，适合户外活动。例如：爬山、郊游或去公园野餐。\\nAction: 总结推荐活动\\nConfidence: 0.9\\n\\nStep 3:\\nTitle: 推荐活动分析\\nReasoning: 根据天气情况，推荐的活动是合理的，并且有较高的置信度。可以给出最终答案。\\nAction: None\\nConfidence: 0.9', metrics=MessageMetrics(input_tokens=0, output_tokens=0, total_tokens=0, audio_tokens=0, input_audio_tokens=0, output_audio_tokens=0, cached_tokens=0, cache_write_tokens=0, reasoning_tokens=0, prompt_tokens=0, completion_tokens=0, prompt_tokens_details=None, completion_tokens_details=None, additional_metrics=None, time=0.0006906000198796391, time_to_first_token=None, timer=None), stop_after_tool_call=False, created_at=1748699776, requires_confirmation=None, confirmed=None, confirmation_note=None, requires_user_input=None, user_input_schema=None, external_execution_required=None)], formatted_tool_calls=None, images=None, videos=None, audio=None, response_audio=None, citations=None, extra_data=RunResponseExtraData(references=None, add_messages=None, reasoning_steps=[ReasoningStep(title='确定适合长沙今天的活动', action='调用get_weather函数获取长沙的天气信息', result=None, reasoning='我需要了解长沙今天的天气情况，以确定适合什么活动。', next_action=<NextAction.CONTINUE: 'continue'>, confidence=0.8), ReasoningStep(title='根据天气确定活动', action='总结推荐活动', result=None, reasoning='长沙今天天气晴朗，适合户外活动。例如：爬山、郊游或去公园野餐。', next_action=<NextAction.CONTINUE: 'continue'>, confidence=0.9), ReasoningStep(title='推荐活动分析', action=None, result='长沙今天天气晴朗，适合户外活动。例如：爬山、郊游或去公园野餐。', reasoning='根据天气情况，推荐的活动是合理的，并且有较高的置信度。可以给出最终答案。', next_action=<NextAction.FINAL_ANSWER: 'final_answer'>, confidence=0.9)], reasoning_messages=[Message(role='assistant', content='## 确定适合长沙今天的活动\\n我需要了解长沙今天的天气情况，以确定适合什么活动。\\nAction: 调用get_weather函数获取长沙的天气信息\\nConfidence: 0.8\\n\\n## 根据天气确定活动\\n长沙今天天气晴朗，适合户外活动。例如：爬山、郊游或去公园野餐。\\nAction: 总结推荐活动\\nConfidence: 0.9\\n\\n## 推荐活动分析\\nResult: 长沙今天天气晴朗，适合户外活动。例如：爬山、郊游或去公园野餐。\\n根据天气情况，推荐的活动是合理的，并且有较高的置信度。可以给出最终答案。\\nNext Action: final_answer\\nConfidence: 0.9\\n\\n', name=None, tool_call_id=None, tool_calls=None, audio=None, images=None, videos=None, files=None, audio_output=None, image_output=None, thinking=None, redacted_thinking=None, provider_data=None, citations=None, reasoning_content=None, tool_name=None, tool_args=None, tool_call_error=None, stop_after_tool_call=False, add_to_agent_memory=True, from_history=False, metrics=MessageMetrics(input_tokens=0, output_tokens=0, total_tokens=0, audio_tokens=0, input_audio_tokens=0, output_audio_tokens=0, cached_tokens=0, cache_write_tokens=0, reasoning_tokens=0, prompt_tokens=0, completion_tokens=0, prompt_tokens_details=None, completion_tokens_details=None, additional_metrics=None, time=0.005586100043728948, time_to_first_token=None, timer=None), references=None, created_at=1748737114)]), created_at=1748737114)\n"
     ]
    }
   ],
   "source": [
    "for chunk in response:\n",
    "    print(chunk)"
   ]
  },
  {
   "cell_type": "markdown",
   "id": "699ccd57",
   "metadata": {},
   "source": [
    "### 方式二：设置Agent.run()参数，stream=True，stream_intermediate_steps=True"
   ]
  },
  {
   "cell_type": "code",
   "execution_count": 19,
   "id": "8bbbfc86",
   "metadata": {},
   "outputs": [],
   "source": [
    "# reasoning tools 提供了think 和 analyze 两个tool，显式设置add_instructions=True，会在system_prompt中添加框架自带的这两个tools使用的instruction指令\n",
    "# 相当于教模型如何去reasoning\n",
    "# 如果再设置add_few_shot=True，则会在system_prompt中添加框架自带的few_shot_example到system_prompt中\n",
    "agent = Agent(model=OpenAILike(**settings),telemetry=False,tools=[get_weather,ReasoningTools(add_instructions=True,add_few_shot=True)],markdown=True,add_history_to_messages=True,debug_mode=False)"
   ]
  },
  {
   "cell_type": "code",
   "execution_count": 1,
   "id": "a7cf0f94",
   "metadata": {},
   "outputs": [
    {
     "ename": "NameError",
     "evalue": "name 'agent' is not defined",
     "output_type": "error",
     "traceback": [
      "\u001b[31m---------------------------------------------------------------------------\u001b[39m",
      "\u001b[31mNameError\u001b[39m                                 Traceback (most recent call last)",
      "\u001b[36mCell\u001b[39m\u001b[36m \u001b[39m\u001b[32mIn[1]\u001b[39m\u001b[32m, line 3\u001b[39m\n\u001b[32m      1\u001b[39m \u001b[38;5;28;01mfrom\u001b[39;00m\u001b[38;5;250m \u001b[39m\u001b[34;01magno\u001b[39;00m\u001b[34;01m.\u001b[39;00m\u001b[34;01mrun\u001b[39;00m\u001b[34;01m.\u001b[39;00m\u001b[34;01mresponse\u001b[39;00m\u001b[38;5;250m \u001b[39m\u001b[38;5;28;01mimport\u001b[39;00m RunEvent\n\u001b[32m----> \u001b[39m\u001b[32m3\u001b[39m response_iter = \u001b[43magent\u001b[49m.run(message=\u001b[33m'\u001b[39m\u001b[33m今天长沙适合什么活动\u001b[39m\u001b[33m'\u001b[39m,stream=\u001b[38;5;28;01mTrue\u001b[39;00m,stream_intermediate_steps=\u001b[38;5;28;01mTrue\u001b[39;00m)\n\u001b[32m      4\u001b[39m \u001b[38;5;28;01mfor\u001b[39;00m single_response \u001b[38;5;129;01min\u001b[39;00m response_iter:\n\u001b[32m      5\u001b[39m     \u001b[38;5;28;01mif\u001b[39;00m single_response.event == RunEvent.run_started:\n",
      "\u001b[31mNameError\u001b[39m: name 'agent' is not defined"
     ]
    }
   ],
   "source": [
    "from agno.run.response import RunEvent\n",
    "\n",
    "response_iter = agent.run(message='今天长沙适合什么活动',stream=True,stream_intermediate_steps=True)\n",
    "for single_response in response_iter:\n",
    "    if single_response.event == RunEvent.run_started:\n",
    "        print('run started')\n",
    "    elif single_response.event == RunEvent.run_response:\n",
    "        print(single_response.content,end='',flush=True)\n",
    "    else:\n",
    "        print(f'event: {single_response.event}', single_response)"
   ]
  },
  {
   "cell_type": "code",
   "execution_count": 21,
   "id": "14ca6857",
   "metadata": {},
   "outputs": [
    {
     "data": {
      "text/plain": [
       "[Message(role='system', content='<additional_information>\\n- Use markdown to format your answers.\\n</additional_information>\\n\\n<reasoning_instructions>\\nYou have access to the `think` and `analyze` tools to work through problems step-by-step and structure your thought process. You must ALWAYS `think` before making tool calls or generating a response.\\n\\n1. **Think** (scratchpad):\\n    - Purpose: Use the `think` tool as a scratchpad to break down complex problems, outline steps, and decide on immediate actions within your reasoning flow. Use this to structure your internal monologue.\\n    - Usage: Call `think` before making tool calls or generating a response. Explain your reasoning and specify the intended action (e.g., \"make a tool call\", \"perform calculation\", \"ask clarifying question\").\\n\\n2. **Analyze** (evaluation):\\n    - Purpose: Evaluate the result of a think step or a set of tool calls. Assess if the result is expected, sufficient, or requires further investigation.\\n    - Usage: Call `analyze` after a set of tool calls. Determine the `next_action` based on your analysis: `continue` (more reasoning needed), `validate` (seek external confirmation/validation if possible), or `final_answer` (ready to conclude).\\n    - Explain your reasoning highlighting whether the result is correct/sufficient.\\n\\n## IMPORTANT GUIDELINES\\n- **Always Think First:** You MUST use the `think` tool before making tool calls or generating a response.\\n- **Iterate to Solve:** Use the `think` and `analyze` tools iteratively to build a clear reasoning path. The typical flow is `Think` -> [`Tool Calls` if needed] -> [`Analyze` if needed] -> ... -> `final_answer`. Repeat this cycle until you reach a satisfactory conclusion.\\n- **Make multiple tool calls in parallel:** After a `think` step, you can make multiple tool calls in parallel.\\n- **Keep Thoughts Internal:** The reasoning steps (thoughts and analyses) are for your internal process only. Do not share them directly with the user.\\n- **Conclude Clearly:** When your analysis determines the `next_action` is `final_answer`, provide a concise and accurate final answer to the user.\\n\\nBelow are examples demonstrating how to use the `think` and `analyze` tools.\\n\\n### Examples\\n\\n**Example 1: Simple Fact Retrieval**\\n\\n*User Request:* How many continents are there on Earth?\\n\\n*Agent\\'s Internal Process:*\\n\\n```tool_call\\nthink(\\n  title=\"Understand Request\",\\n  thought=\"The user wants to know the standard number of continents on Earth. This is a common piece of knowledge.\",\\n  action=\"Recall or verify the number of continents.\",\\n  confidence=0.95\\n)\\n```\\n*--(Agent internally recalls the fact)--*\\n```tool_call\\nanalyze(\\n  title=\"Evaluate Fact\",\\n  result=\"Standard geographical models list 7 continents: Africa, Antarctica, Asia, Australia, Europe, North America, South America.\",\\n  analysis=\"The recalled information directly answers the user\\'s question accurately.\",\\n  next_action=\"final_answer\",\\n  confidence=1.0\\n)\\n```\\n\\n*Agent\\'s Final Answer to User:*\\nThere are 7 continents on Earth: Africa, Antarctica, Asia, Australia, Europe, North America, and South America.\\n\\n**Example 2: Multi-Step Information Gathering**\\n\\n*User Request:* What is the capital of France and its current population?\\n\\n*Agent\\'s Internal Process:*\\n\\n```tool_call\\nthink(\\n  title=\"Plan Information Retrieval\",\\n  thought=\"The user needs two pieces of information: the capital of France and its current population. I should use external tools (like search) to find the most up-to-date and accurate information.\",\\n  action=\"First, search for the capital of France.\",\\n  confidence=0.95\\n)\\n```\\n\\n*Perform multiple tool calls in parallel*\\n*--(Tool call 1: search(query=\"capital of France\"))--*\\n*--(Tool call 2: search(query=\"population of Paris current\"))--*\\n*--(Tool Result 1: \"Paris\")--*\\n*--(Tool Result 2: \"Approximately 2.1 million (city proper, estimate for early 2024)\")--*\\n\\n```tool_call\\nanalyze(\\n  title=\"Analyze Capital Search Result\",\\n  result=\"The search result indicates Paris is the capital of France.\",\\n  analysis=\"This provides the first piece of requested information. Now I need to find the population of Paris.\",\\n  next_action=\"continue\",\\n  confidence=1.0\\n)\\n```\\n```tool_call\\nanalyze(\\n  title=\"Analyze Population Search Result\",\\n  result=\"The search provided an estimated population figure for Paris.\",\\n  analysis=\"I now have both the capital and its estimated population. I can provide the final answer.\",\\n  next_action=\"final_answer\",\\n  confidence=0.9\\n)\\n```\\n\\n*Agent\\'s Final Answer to User:*\\nThe capital of France is Paris. Its estimated population (city proper) is approximately 2.1 million as of early 2024.\\n</reasoning_instructions>', name=None, tool_call_id=None, tool_calls=None, audio=None, images=None, videos=None, files=None, audio_output=None, image_output=None, thinking=None, redacted_thinking=None, provider_data=None, citations=None, reasoning_content=None, tool_name=None, tool_args=None, tool_call_error=None, stop_after_tool_call=False, add_to_agent_memory=True, from_history=False, metrics=MessageMetrics(input_tokens=0, output_tokens=0, total_tokens=0, audio_tokens=0, input_audio_tokens=0, output_audio_tokens=0, cached_tokens=0, cache_write_tokens=0, reasoning_tokens=0, prompt_tokens=0, completion_tokens=0, prompt_tokens_details=None, completion_tokens_details=None, additional_metrics=None, time=None, time_to_first_token=None, timer=None), references=None, created_at=1748735671),\n",
       " Message(role='user', content='今天长沙适合什么活动', name=None, tool_call_id=None, tool_calls=None, audio=None, images=None, videos=None, files=None, audio_output=None, image_output=None, thinking=None, redacted_thinking=None, provider_data=None, citations=None, reasoning_content=None, tool_name=None, tool_args=None, tool_call_error=None, stop_after_tool_call=False, add_to_agent_memory=True, from_history=True, metrics=MessageMetrics(input_tokens=0, output_tokens=0, total_tokens=0, audio_tokens=0, input_audio_tokens=0, output_audio_tokens=0, cached_tokens=0, cache_write_tokens=0, reasoning_tokens=0, prompt_tokens=0, completion_tokens=0, prompt_tokens_details=None, completion_tokens_details=None, additional_metrics=None, time=None, time_to_first_token=None, timer=None), references=None, created_at=1748735648),\n",
       " Message(role='assistant', content=None, name=None, tool_call_id=None, tool_calls=[{'id': 'call_ae42029708a44e70ae5130', 'type': 'function', 'function': {'name': 'think', 'arguments': '{\"title\": \"获取长沙天气信息\", \"thought\": \"为了确定今天在长沙适合什么活动，首先需要获取长沙的天气情况。这将有助于建议合适的室内或室外活动。\", \"action\": \"调用get_weather函数来获取长沙的天气信息。\", \"confidence\": 0.9}'}}], audio=None, images=None, videos=None, files=None, audio_output=None, image_output=None, thinking=None, redacted_thinking=None, provider_data=None, citations=None, reasoning_content=None, tool_name=None, tool_args=None, tool_call_error=None, stop_after_tool_call=False, add_to_agent_memory=True, from_history=True, metrics=MessageMetrics(input_tokens=1601, output_tokens=78, total_tokens=1679, audio_tokens=0, input_audio_tokens=0, output_audio_tokens=0, cached_tokens=0, cache_write_tokens=0, reasoning_tokens=0, prompt_tokens=1601, completion_tokens=78, prompt_tokens_details=None, completion_tokens_details=None, additional_metrics=None, time=3.5496050000656396, time_to_first_token=2.0630276000592858, timer=<agno.utils.timer.Timer object at 0x000002B072EF4860>), references=None, created_at=1748735648),\n",
       " Message(role='tool', content='Step 1:\\nTitle: 获取长沙天气信息\\nReasoning: 为了确定今天在长沙适合什么活动，首先需要获取长沙的天气情况。这将有助于建议合适的室内或室外活动。\\nAction: 调用get_weather函数来获取长沙的天气信息。\\nConfidence: 0.9', name=None, tool_call_id='call_ae42029708a44e70ae5130', tool_calls=None, audio=None, images=None, videos=None, files=None, audio_output=None, image_output=None, thinking=None, redacted_thinking=None, provider_data=None, citations=None, reasoning_content=None, tool_name='think', tool_args={'title': '获取长沙天气信息', 'thought': '为了确定今天在长沙适合什么活动，首先需要获取长沙的天气情况。这将有助于建议合适的室内或室外活动。', 'action': '调用get_weather函数来获取长沙的天气信息。', 'confidence': 0.9}, tool_call_error=False, stop_after_tool_call=False, add_to_agent_memory=True, from_history=True, metrics=MessageMetrics(input_tokens=0, output_tokens=0, total_tokens=0, audio_tokens=0, input_audio_tokens=0, output_audio_tokens=0, cached_tokens=0, cache_write_tokens=0, reasoning_tokens=0, prompt_tokens=0, completion_tokens=0, prompt_tokens_details=None, completion_tokens_details=None, additional_metrics=None, time=0.004484400036744773, time_to_first_token=None, timer=None), references=None, created_at=1748735652),\n",
       " Message(role='assistant', content=None, name=None, tool_call_id=None, tool_calls=[{'id': 'call_df67417e54ef479f971d6b', 'type': 'function', 'function': {'name': 'get_weather', 'arguments': '{\"city\": \"长沙\"}'}}], audio=None, images=None, videos=None, files=None, audio_output=None, image_output=None, thinking=None, redacted_thinking=None, provider_data=None, citations=None, reasoning_content=None, tool_name=None, tool_args=None, tool_call_error=None, stop_after_tool_call=False, add_to_agent_memory=True, from_history=True, metrics=MessageMetrics(input_tokens=1758, output_tokens=19, total_tokens=1777, audio_tokens=0, input_audio_tokens=0, output_audio_tokens=0, cached_tokens=0, cache_write_tokens=0, reasoning_tokens=0, prompt_tokens=1758, completion_tokens=19, prompt_tokens_details=None, completion_tokens_details=None, additional_metrics=None, time=3.1580554000101984, time_to_first_token=3.0109968000324443, timer=<agno.utils.timer.Timer object at 0x000002B072EF4F80>), references=None, created_at=1748735652),\n",
       " Message(role='tool', content='Sunny', name=None, tool_call_id='call_df67417e54ef479f971d6b', tool_calls=None, audio=None, images=None, videos=None, files=None, audio_output=None, image_output=None, thinking=None, redacted_thinking=None, provider_data=None, citations=None, reasoning_content=None, tool_name='get_weather', tool_args={'city': '长沙'}, tool_call_error=False, stop_after_tool_call=False, add_to_agent_memory=True, from_history=True, metrics=MessageMetrics(input_tokens=0, output_tokens=0, total_tokens=0, audio_tokens=0, input_audio_tokens=0, output_audio_tokens=0, cached_tokens=0, cache_write_tokens=0, reasoning_tokens=0, prompt_tokens=0, completion_tokens=0, prompt_tokens_details=None, completion_tokens_details=None, additional_metrics=None, time=0.0035493000177666545, time_to_first_token=None, timer=None), references=None, created_at=1748735655),\n",
       " Message(role='assistant', content=None, name=None, tool_call_id=None, tool_calls=[{'id': 'call_9cb2fc3f720f451cbc1f9d', 'type': 'function', 'function': {'name': 'think', 'arguments': '{\"title\": \"分析天气并建议活动\", \"thought\": \"长沙今天晴朗，这意味着适合进行户外活动。可以建议如公园散步、骑行或者野餐等阳光下的活动。\", \"action\": \"根据晴朗的天气情况提出户外活动的建议。\", \"confidence\": 0.95}'}}], audio=None, images=None, videos=None, files=None, audio_output=None, image_output=None, thinking=None, redacted_thinking=None, provider_data=None, citations=None, reasoning_content=None, tool_name=None, tool_args=None, tool_call_error=None, stop_after_tool_call=False, add_to_agent_memory=True, from_history=True, metrics=MessageMetrics(input_tokens=1793, output_tokens=79, total_tokens=1872, audio_tokens=0, input_audio_tokens=0, output_audio_tokens=0, cached_tokens=0, cache_write_tokens=0, reasoning_tokens=0, prompt_tokens=1793, completion_tokens=79, prompt_tokens_details=None, completion_tokens_details=None, additional_metrics=None, time=4.061064100009389, time_to_first_token=2.491020099958405, timer=<agno.utils.timer.Timer object at 0x000002B072EF5B80>), references=None, created_at=1748735655),\n",
       " Message(role='tool', content='Step 1:\\nTitle: 获取长沙天气信息\\nReasoning: 为了确定今天在长沙适合什么活动，首先需要获取长沙的天气情况。这将有助于建议合适的室内或室外活动。\\nAction: 调用get_weather函数来获取长沙的天气信息。\\nConfidence: 0.9\\n\\nStep 2:\\nTitle: 分析天气并建议活动\\nReasoning: 长沙今天晴朗，这意味着适合进行户外活动。可以建议如公园散步、骑行或者野餐等阳光下的活动。\\nAction: 根据晴朗的天气情况提出户外活动的建议。\\nConfidence: 0.95', name=None, tool_call_id='call_9cb2fc3f720f451cbc1f9d', tool_calls=None, audio=None, images=None, videos=None, files=None, audio_output=None, image_output=None, thinking=None, redacted_thinking=None, provider_data=None, citations=None, reasoning_content=None, tool_name='think', tool_args={'title': '分析天气并建议活动', 'thought': '长沙今天晴朗，这意味着适合进行户外活动。可以建议如公园散步、骑行或者野餐等阳光下的活动。', 'action': '根据晴朗的天气情况提出户外活动的建议。', 'confidence': 0.95}, tool_call_error=False, stop_after_tool_call=False, add_to_agent_memory=True, from_history=True, metrics=MessageMetrics(input_tokens=0, output_tokens=0, total_tokens=0, audio_tokens=0, input_audio_tokens=0, output_audio_tokens=0, cached_tokens=0, cache_write_tokens=0, reasoning_tokens=0, prompt_tokens=0, completion_tokens=0, prompt_tokens_details=None, completion_tokens_details=None, additional_metrics=None, time=0.0033406999427825212, time_to_first_token=None, timer=None), references=None, created_at=1748735659),\n",
       " Message(role='assistant', content=None, name=None, tool_call_id=None, tool_calls=[{'id': 'call_68b5ef65e952478ebae9cb', 'type': 'function', 'function': {'name': 'analyze', 'arguments': '{\"title\": \"评估活动建议\", \"result\": \"长沙今天的天气晴朗，适合户外活动。建议包括公园散步、骑行或野餐。\", \"analysis\": \"根据获取的天气信息和提出的活动建议，这些建议是合适的且符合当前天气条件。\", \"next_action\": \"final_answer\", \"confidence\": 1.0}'}}], audio=None, images=None, videos=None, files=None, audio_output=None, image_output=None, thinking=None, redacted_thinking=None, provider_data=None, citations=None, reasoning_content=None, tool_name=None, tool_args=None, tool_call_error=None, stop_after_tool_call=False, add_to_agent_memory=True, from_history=True, metrics=MessageMetrics(input_tokens=2021, output_tokens=88, total_tokens=2109, audio_tokens=0, input_audio_tokens=0, output_audio_tokens=0, cached_tokens=0, cache_write_tokens=0, reasoning_tokens=0, prompt_tokens=2021, completion_tokens=88, prompt_tokens_details=None, completion_tokens_details=None, additional_metrics=None, time=4.916846000007354, time_to_first_token=3.074140000040643, timer=<agno.utils.timer.Timer object at 0x000002B072EF5FD0>), references=None, created_at=1748735659),\n",
       " Message(role='tool', content='Step 1:\\nTitle: 获取长沙天气信息\\nReasoning: 为了确定今天在长沙适合什么活动，首先需要获取长沙的天气情况。这将有助于建议合适的室内或室外活动。\\nAction: 调用get_weather函数来获取长沙的天气信息。\\nConfidence: 0.9\\n\\nStep 2:\\nTitle: 分析天气并建议活动\\nReasoning: 长沙今天晴朗，这意味着适合进行户外活动。可以建议如公园散步、骑行或者野餐等阳光下的活动。\\nAction: 根据晴朗的天气情况提出户外活动的建议。\\nConfidence: 0.95\\n\\nStep 3:\\nTitle: 评估活动建议\\nReasoning: 根据获取的天气信息和提出的活动建议，这些建议是合适的且符合当前天气条件。\\nAction: None\\nConfidence: 1.0', name=None, tool_call_id='call_68b5ef65e952478ebae9cb', tool_calls=None, audio=None, images=None, videos=None, files=None, audio_output=None, image_output=None, thinking=None, redacted_thinking=None, provider_data=None, citations=None, reasoning_content=None, tool_name='analyze', tool_args={'title': '评估活动建议', 'result': '长沙今天的天气晴朗，适合户外活动。建议包括公园散步、骑行或野餐。', 'analysis': '根据获取的天气信息和提出的活动建议，这些建议是合适的且符合当前天气条件。', 'next_action': 'final_answer', 'confidence': 1.0}, tool_call_error=False, stop_after_tool_call=False, add_to_agent_memory=True, from_history=True, metrics=MessageMetrics(input_tokens=0, output_tokens=0, total_tokens=0, audio_tokens=0, input_audio_tokens=0, output_audio_tokens=0, cached_tokens=0, cache_write_tokens=0, reasoning_tokens=0, prompt_tokens=0, completion_tokens=0, prompt_tokens_details=None, completion_tokens_details=None, additional_metrics=None, time=0.003491099923849106, time_to_first_token=None, timer=None), references=None, created_at=1748735664),\n",
       " Message(role='assistant', content='今天长沙的天气晴朗，非常适合进行户外活动。以下是一些推荐：\\n\\n- **公园散步或慢跑**：可以去岳麓山、橘子洲头等景点享受阳光。\\n- **骑行**：沿着湘江风光带骑行是个不错的选择。\\n- **野餐**：带上一些食物和朋友或家人在户外享受美好的一天。\\n- **参观露天景点**：例如天心阁、湖南省植物园等。\\n\\n如果需要更具体的建议，可以根据你的兴趣进一步规划！', name=None, tool_call_id=None, tool_calls=None, audio=None, images=None, videos=None, files=None, audio_output=None, image_output=None, thinking=None, redacted_thinking=None, provider_data=None, citations=None, reasoning_content=None, tool_name=None, tool_args=None, tool_call_error=None, stop_after_tool_call=False, add_to_agent_memory=True, from_history=True, metrics=MessageMetrics(input_tokens=2308, output_tokens=104, total_tokens=2412, audio_tokens=0, input_audio_tokens=0, output_audio_tokens=0, cached_tokens=0, cache_write_tokens=0, reasoning_tokens=0, prompt_tokens=2308, completion_tokens=104, prompt_tokens_details=None, completion_tokens_details=None, additional_metrics=None, time=4.221623399993405, time_to_first_token=2.0217879000119865, timer=<agno.utils.timer.Timer object at 0x000002B072EF6ED0>), references=None, created_at=1748735664)]"
      ]
     },
     "execution_count": 21,
     "metadata": {},
     "output_type": "execute_result"
    }
   ],
   "source": [
    "agent.get_run_messages(session_id=agent.session_id).messages"
   ]
  },
  {
   "cell_type": "code",
   "execution_count": null,
   "id": "09381ec5",
   "metadata": {},
   "outputs": [],
   "source": []
  }
 ],
 "metadata": {
  "kernelspec": {
   "display_name": ".venv",
   "language": "python",
   "name": "python3"
  },
  "language_info": {
   "codemirror_mode": {
    "name": "ipython",
    "version": 3
   },
   "file_extension": ".py",
   "mimetype": "text/x-python",
   "name": "python",
   "nbconvert_exporter": "python",
   "pygments_lexer": "ipython3",
   "version": "3.12.8"
  }
 },
 "nbformat": 4,
 "nbformat_minor": 5
}
