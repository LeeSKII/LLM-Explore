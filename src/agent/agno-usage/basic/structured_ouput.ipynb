{
 "cells": [
  {
   "cell_type": "code",
   "execution_count": 3,
   "id": "4d4048fe",
   "metadata": {},
   "outputs": [],
   "source": [
    "import os\n",
    "from dotenv import load_dotenv\n",
    "from agno.agent import Agent, RunResponse\n",
    "from agno.models.openai.like import OpenAILike\n",
    "\n",
    "load_dotenv()\n",
    "api_key=os.getenv(\"QWEN_API_KEY\")\n",
    "base_url=os.getenv(\"QWEN_API_BASE_URL\")\n",
    "local_base_url = 'http://192.168.0.166:8000/v1'\n",
    "local_model_name = 'Qwen3-235B'\n",
    "model_name = 'qwen-plus-latest'\n",
    "\n",
    "local_settings = {\n",
    "  'api_key' : '123',\n",
    "  'base_url' : local_base_url,\n",
    "  'id' : local_model_name\n",
    "}\n",
    "\n",
    "qwen_settings = {\n",
    "  'api_key' : api_key,\n",
    "  'base_url' : base_url,\n",
    "  'id' : model_name\n",
    "}\n",
    "\n",
    "settings = qwen_settings"
   ]
  },
  {
   "cell_type": "code",
   "execution_count": 4,
   "id": "9984afc6",
   "metadata": {},
   "outputs": [],
   "source": [
    "from pydantic import BaseModel,Field\n",
    "\n",
    "class Classification(BaseModel):\n",
    "    sentiment:str = Field(description=\"The sentiment of the text.\")\n",
    "    aggressiveness: int = Field(\n",
    "        description=\"How aggressive the text is on a scale from 1 to 10\"\n",
    "    )\n",
    "    language: str = Field(description=\"The language the text is written in\")\n",
    "    "
   ]
  },
  {
   "cell_type": "code",
   "execution_count": 16,
   "id": "c8df5616",
   "metadata": {},
   "outputs": [],
   "source": [
    "# Agent that uses JSON mode\n",
    "json_mode_agent = Agent(\n",
    "    model=OpenAILike(**settings),\n",
    "    # description=\"You write movie scripts.\",\n",
    "    response_model=Classification,\n",
    "    use_json_mode=True,\n",
    ")"
   ]
  },
  {
   "cell_type": "code",
   "execution_count": 17,
   "id": "af8e4a36",
   "metadata": {},
   "outputs": [],
   "source": [
    "inp = \"Estoy increiblemente contento de haberte conocido! Creo que seremos muy buenos amigos!\"\n",
    "response = json_mode_agent.run(inp)"
   ]
  },
  {
   "cell_type": "code",
   "execution_count": 18,
   "id": "ae17a3cb",
   "metadata": {},
   "outputs": [
    {
     "data": {
      "text/plain": [
       "Classification(sentiment='positive', aggressiveness=1, language='Spanish')"
      ]
     },
     "execution_count": 18,
     "metadata": {},
     "output_type": "execute_result"
    }
   ],
   "source": [
    "response.content"
   ]
  },
  {
   "cell_type": "code",
   "execution_count": 19,
   "id": "8711979b",
   "metadata": {},
   "outputs": [
    {
     "data": {
      "text/plain": [
       "[Message(role='system', content='Provide your output as a JSON containing the following fields:\\n<json_fields>\\n[\"sentiment\", \"aggressiveness\", \"language\"]\\n</json_fields>\\n\\nHere are the properties for each field:\\n<json_field_properties>\\n{\\n  \"sentiment\": {\\n    \"description\": \"The sentiment of the text.\",\\n    \"type\": \"string\"\\n  },\\n  \"aggressiveness\": {\\n    \"description\": \"How aggressive the text is on a scale from 1 to 10\",\\n    \"type\": \"integer\"\\n  },\\n  \"language\": {\\n    \"description\": \"The language the text is written in\",\\n    \"type\": \"string\"\\n  }\\n}\\n</json_field_properties>\\nStart your response with `{` and end it with `}`.\\nYour output will be passed to json.loads() to convert it to a Python object.\\nMake sure it only contains valid JSON.', name=None, tool_call_id=None, tool_calls=None, audio=None, images=None, videos=None, files=None, audio_output=None, image_output=None, thinking=None, redacted_thinking=None, provider_data=None, citations=None, reasoning_content=None, tool_name=None, tool_args=None, tool_call_error=None, stop_after_tool_call=False, add_to_agent_memory=True, from_history=False, metrics=MessageMetrics(input_tokens=0, output_tokens=0, total_tokens=0, audio_tokens=0, input_audio_tokens=0, output_audio_tokens=0, cached_tokens=0, cache_write_tokens=0, reasoning_tokens=0, prompt_tokens=0, completion_tokens=0, prompt_tokens_details=None, completion_tokens_details=None, additional_metrics=None, time=None, time_to_first_token=None, timer=None), references=None, created_at=1749980413),\n",
       " Message(role='user', content='Estoy increiblemente contento de haberte conocido! Creo que seremos muy buenos amigos!', name=None, tool_call_id=None, tool_calls=None, audio=None, images=None, videos=None, files=None, audio_output=None, image_output=None, thinking=None, redacted_thinking=None, provider_data=None, citations=None, reasoning_content=None, tool_name=None, tool_args=None, tool_call_error=None, stop_after_tool_call=False, add_to_agent_memory=True, from_history=False, metrics=MessageMetrics(input_tokens=0, output_tokens=0, total_tokens=0, audio_tokens=0, input_audio_tokens=0, output_audio_tokens=0, cached_tokens=0, cache_write_tokens=0, reasoning_tokens=0, prompt_tokens=0, completion_tokens=0, prompt_tokens_details=None, completion_tokens_details=None, additional_metrics=None, time=None, time_to_first_token=None, timer=None), references=None, created_at=1749980413),\n",
       " Message(role='assistant', content='{\\n  \"sentiment\": \"positive\",\\n  \"aggressiveness\": 1,\\n  \"language\": \"Spanish\"\\n}', name=None, tool_call_id=None, tool_calls=None, audio=None, images=None, videos=None, files=None, audio_output=None, image_output=None, thinking=None, redacted_thinking=None, provider_data=None, citations=None, reasoning_content=None, tool_name=None, tool_args=None, tool_call_error=None, stop_after_tool_call=False, add_to_agent_memory=True, from_history=False, metrics=MessageMetrics(input_tokens=222, output_tokens=26, total_tokens=248, audio_tokens=0, input_audio_tokens=0, output_audio_tokens=0, cached_tokens=0, cache_write_tokens=0, reasoning_tokens=0, prompt_tokens=222, completion_tokens=26, prompt_tokens_details=None, completion_tokens_details=None, additional_metrics=None, time=3.32940009999993, time_to_first_token=None, timer=<agno.utils.timer.Timer object at 0x000002006D74AD80>), references=None, created_at=1749980413)]"
      ]
     },
     "execution_count": 19,
     "metadata": {},
     "output_type": "execute_result"
    }
   ],
   "source": [
    "response.messages"
   ]
  },
  {
   "cell_type": "code",
   "execution_count": null,
   "id": "6c8eb31c",
   "metadata": {},
   "outputs": [],
   "source": [
    "# Agent that uses structured outputs\n",
    "structured_output_agent = Agent(\n",
    "    model=OpenAILike(**settings),\n",
    "    # description=\"Agent that uses structured outputs with json\",\n",
    "    response_model=Classification,\n",
    ")"
   ]
  },
  {
   "cell_type": "code",
   "execution_count": 20,
   "id": "667d1ac7",
   "metadata": {},
   "outputs": [
    {
     "data": {
      "text/html": [
       "<pre style=\"white-space:pre;overflow-x:auto;line-height:normal;font-family:Menlo,'DejaVu Sans Mono',consolas,'Courier New',monospace\"><span style=\"color: #808000; text-decoration-color: #808000\">WARNING </span> Failed to parse cleaned JSON: <span style=\"color: #008080; text-decoration-color: #008080; font-weight: bold\">2</span> validation errors for Classification                                      \n",
       "         aggressiveness                                                                                            \n",
       "           Field required <span style=\"font-weight: bold\">[</span><span style=\"color: #808000; text-decoration-color: #808000\">type</span>=<span style=\"color: #800080; text-decoration-color: #800080\">missing</span>, <span style=\"color: #808000; text-decoration-color: #808000\">input_value</span>=<span style=\"font-weight: bold\">{</span><span style=\"color: #008000; text-decoration-color: #008000\">'sentiment'</span>: <span style=\"color: #008000; text-decoration-color: #008000\">'positivo'</span>,<span style=\"color: #808000; text-decoration-color: #808000\">...</span>y esperanza de amistad'<span style=\"font-weight: bold\">}</span>,         \n",
       "         <span style=\"color: #808000; text-decoration-color: #808000\">input_type</span>=<span style=\"color: #800080; text-decoration-color: #800080\">dict</span><span style=\"font-weight: bold\">]</span>                                                                                          \n",
       "             For further information visit <span style=\"color: #0000ff; text-decoration-color: #0000ff; text-decoration: underline\">https://errors.pydantic.dev/2.11/v/missing</span>                              \n",
       "         language                                                                                                  \n",
       "           Field required <span style=\"font-weight: bold\">[</span><span style=\"color: #808000; text-decoration-color: #808000\">type</span>=<span style=\"color: #800080; text-decoration-color: #800080\">missing</span>, <span style=\"color: #808000; text-decoration-color: #808000\">input_value</span>=<span style=\"font-weight: bold\">{</span><span style=\"color: #008000; text-decoration-color: #008000\">'sentiment'</span>: <span style=\"color: #008000; text-decoration-color: #008000\">'positivo'</span>,<span style=\"color: #808000; text-decoration-color: #808000\">...</span>y esperanza de amistad'<span style=\"font-weight: bold\">}</span>,         \n",
       "         <span style=\"color: #808000; text-decoration-color: #808000\">input_type</span>=<span style=\"color: #800080; text-decoration-color: #800080\">dict</span><span style=\"font-weight: bold\">]</span>                                                                                          \n",
       "             For further information visit <span style=\"color: #0000ff; text-decoration-color: #0000ff; text-decoration: underline\">https://errors.pydantic.dev/2.11/v/missing</span>                              \n",
       "</pre>\n"
      ],
      "text/plain": [
       "\u001b[33mWARNING \u001b[0m Failed to parse cleaned JSON: \u001b[1;36m2\u001b[0m validation errors for Classification                                      \n",
       "         aggressiveness                                                                                            \n",
       "           Field required \u001b[1m[\u001b[0m\u001b[33mtype\u001b[0m=\u001b[35mmissing\u001b[0m, \u001b[33minput_value\u001b[0m=\u001b[1m{\u001b[0m\u001b[32m'sentiment'\u001b[0m: \u001b[32m'positivo'\u001b[0m,\u001b[33m...\u001b[0my esperanza de amistad'\u001b[1m}\u001b[0m,         \n",
       "         \u001b[33minput_type\u001b[0m=\u001b[35mdict\u001b[0m\u001b[1m]\u001b[0m                                                                                          \n",
       "             For further information visit \u001b[4;94mhttps://errors.pydantic.dev/2.11/v/missing\u001b[0m                              \n",
       "         language                                                                                                  \n",
       "           Field required \u001b[1m[\u001b[0m\u001b[33mtype\u001b[0m=\u001b[35mmissing\u001b[0m, \u001b[33minput_value\u001b[0m=\u001b[1m{\u001b[0m\u001b[32m'sentiment'\u001b[0m: \u001b[32m'positivo'\u001b[0m,\u001b[33m...\u001b[0my esperanza de amistad'\u001b[1m}\u001b[0m,         \n",
       "         \u001b[33minput_type\u001b[0m=\u001b[35mdict\u001b[0m\u001b[1m]\u001b[0m                                                                                          \n",
       "             For further information visit \u001b[4;94mhttps://errors.pydantic.dev/2.11/v/missing\u001b[0m                              \n"
      ]
     },
     "metadata": {},
     "output_type": "display_data"
    },
    {
     "data": {
      "text/html": [
       "<pre style=\"white-space:pre;overflow-x:auto;line-height:normal;font-family:Menlo,'DejaVu Sans Mono',consolas,'Courier New',monospace\"><span style=\"color: #808000; text-decoration-color: #808000\">WARNING </span> Failed to parse as Python dict: <span style=\"color: #008080; text-decoration-color: #008080; font-weight: bold\">2</span> validation errors for Classification                                    \n",
       "         aggressiveness                                                                                            \n",
       "           Field required <span style=\"font-weight: bold\">[</span><span style=\"color: #808000; text-decoration-color: #808000\">type</span>=<span style=\"color: #800080; text-decoration-color: #800080\">missing</span>, <span style=\"color: #808000; text-decoration-color: #808000\">input_value</span>=<span style=\"font-weight: bold\">{</span><span style=\"color: #008000; text-decoration-color: #008000\">'sentiment'</span>: <span style=\"color: #008000; text-decoration-color: #008000\">'positivo'</span>,<span style=\"color: #808000; text-decoration-color: #808000\">...</span>y esperanza de amistad'<span style=\"font-weight: bold\">}</span>,         \n",
       "         <span style=\"color: #808000; text-decoration-color: #808000\">input_type</span>=<span style=\"color: #800080; text-decoration-color: #800080\">dict</span><span style=\"font-weight: bold\">]</span>                                                                                          \n",
       "             For further information visit <span style=\"color: #0000ff; text-decoration-color: #0000ff; text-decoration: underline\">https://errors.pydantic.dev/2.11/v/missing</span>                              \n",
       "         language                                                                                                  \n",
       "           Field required <span style=\"font-weight: bold\">[</span><span style=\"color: #808000; text-decoration-color: #808000\">type</span>=<span style=\"color: #800080; text-decoration-color: #800080\">missing</span>, <span style=\"color: #808000; text-decoration-color: #808000\">input_value</span>=<span style=\"font-weight: bold\">{</span><span style=\"color: #008000; text-decoration-color: #008000\">'sentiment'</span>: <span style=\"color: #008000; text-decoration-color: #008000\">'positivo'</span>,<span style=\"color: #808000; text-decoration-color: #808000\">...</span>y esperanza de amistad'<span style=\"font-weight: bold\">}</span>,         \n",
       "         <span style=\"color: #808000; text-decoration-color: #808000\">input_type</span>=<span style=\"color: #800080; text-decoration-color: #800080\">dict</span><span style=\"font-weight: bold\">]</span>                                                                                          \n",
       "             For further information visit <span style=\"color: #0000ff; text-decoration-color: #0000ff; text-decoration: underline\">https://errors.pydantic.dev/2.11/v/missing</span>                              \n",
       "</pre>\n"
      ],
      "text/plain": [
       "\u001b[33mWARNING \u001b[0m Failed to parse as Python dict: \u001b[1;36m2\u001b[0m validation errors for Classification                                    \n",
       "         aggressiveness                                                                                            \n",
       "           Field required \u001b[1m[\u001b[0m\u001b[33mtype\u001b[0m=\u001b[35mmissing\u001b[0m, \u001b[33minput_value\u001b[0m=\u001b[1m{\u001b[0m\u001b[32m'sentiment'\u001b[0m: \u001b[32m'positivo'\u001b[0m,\u001b[33m...\u001b[0my esperanza de amistad'\u001b[1m}\u001b[0m,         \n",
       "         \u001b[33minput_type\u001b[0m=\u001b[35mdict\u001b[0m\u001b[1m]\u001b[0m                                                                                          \n",
       "             For further information visit \u001b[4;94mhttps://errors.pydantic.dev/2.11/v/missing\u001b[0m                              \n",
       "         language                                                                                                  \n",
       "           Field required \u001b[1m[\u001b[0m\u001b[33mtype\u001b[0m=\u001b[35mmissing\u001b[0m, \u001b[33minput_value\u001b[0m=\u001b[1m{\u001b[0m\u001b[32m'sentiment'\u001b[0m: \u001b[32m'positivo'\u001b[0m,\u001b[33m...\u001b[0my esperanza de amistad'\u001b[1m}\u001b[0m,         \n",
       "         \u001b[33minput_type\u001b[0m=\u001b[35mdict\u001b[0m\u001b[1m]\u001b[0m                                                                                          \n",
       "             For further information visit \u001b[4;94mhttps://errors.pydantic.dev/2.11/v/missing\u001b[0m                              \n"
      ]
     },
     "metadata": {},
     "output_type": "display_data"
    },
    {
     "data": {
      "text/html": [
       "<pre style=\"white-space:pre;overflow-x:auto;line-height:normal;font-family:Menlo,'DejaVu Sans Mono',consolas,'Courier New',monospace\"><span style=\"color: #808000; text-decoration-color: #808000\">WARNING </span> Failed to convert response to response_model                                                              \n",
       "</pre>\n"
      ],
      "text/plain": [
       "\u001b[33mWARNING \u001b[0m Failed to convert response to response_model                                                              \n"
      ]
     },
     "metadata": {},
     "output_type": "display_data"
    }
   ],
   "source": [
    "inp = \"\"\"Extract the desired information from the following passage.\n",
    "\n",
    "Only extract the properties mentioned in json.\n",
    "\n",
    "Passage: Estoy increiblemente contento de haberte conocido! Creo que seremos muy buenos amigos!\"\"\"\n",
    "response = structured_output_agent.run(inp)"
   ]
  },
  {
   "cell_type": "code",
   "execution_count": 15,
   "id": "a4472eff",
   "metadata": {},
   "outputs": [
    {
     "data": {
      "text/plain": [
       "[Message(role='system', content='Agent that uses structured outputs with json', name=None, tool_call_id=None, tool_calls=None, audio=None, images=None, videos=None, files=None, audio_output=None, image_output=None, thinking=None, redacted_thinking=None, provider_data=None, citations=None, reasoning_content=None, tool_name=None, tool_args=None, tool_call_error=None, stop_after_tool_call=False, add_to_agent_memory=True, from_history=False, metrics=MessageMetrics(input_tokens=0, output_tokens=0, total_tokens=0, audio_tokens=0, input_audio_tokens=0, output_audio_tokens=0, cached_tokens=0, cache_write_tokens=0, reasoning_tokens=0, prompt_tokens=0, completion_tokens=0, prompt_tokens_details=None, completion_tokens_details=None, additional_metrics=None, time=None, time_to_first_token=None, timer=None), references=None, created_at=1749980117),\n",
       " Message(role='user', content='Estoy increiblemente contento de haberte conocido! Creo que seremos muy buenos amigos!', name=None, tool_call_id=None, tool_calls=None, audio=None, images=None, videos=None, files=None, audio_output=None, image_output=None, thinking=None, redacted_thinking=None, provider_data=None, citations=None, reasoning_content=None, tool_name=None, tool_args=None, tool_call_error=None, stop_after_tool_call=False, add_to_agent_memory=True, from_history=False, metrics=MessageMetrics(input_tokens=0, output_tokens=0, total_tokens=0, audio_tokens=0, input_audio_tokens=0, output_audio_tokens=0, cached_tokens=0, cache_write_tokens=0, reasoning_tokens=0, prompt_tokens=0, completion_tokens=0, prompt_tokens_details=None, completion_tokens_details=None, additional_metrics=None, time=None, time_to_first_token=None, timer=None), references=None, created_at=1749980117),\n",
       " Message(role='assistant', content='{\"response\": \"¡Hola! Gracias por tu amable mensaje. Estoy aquí para ayudarte en lo que necesites. ¿En qué puedo ayudarte hoy?\"}', name=None, tool_call_id=None, tool_calls=None, audio=None, images=None, videos=None, files=None, audio_output=None, image_output=None, thinking=None, redacted_thinking=None, provider_data=None, citations=None, reasoning_content=None, tool_name=None, tool_args=None, tool_call_error=None, stop_after_tool_call=False, add_to_agent_memory=True, from_history=False, metrics=MessageMetrics(input_tokens=50, output_tokens=36, total_tokens=86, audio_tokens=0, input_audio_tokens=0, output_audio_tokens=0, cached_tokens=0, cache_write_tokens=0, reasoning_tokens=0, prompt_tokens=50, completion_tokens=36, prompt_tokens_details=None, completion_tokens_details=None, additional_metrics=None, time=4.300323800000115, time_to_first_token=None, timer=<agno.utils.timer.Timer object at 0x000002006DC0ED80>), references=None, created_at=1749980117)]"
      ]
     },
     "execution_count": 15,
     "metadata": {},
     "output_type": "execute_result"
    }
   ],
   "source": [
    "response.messages"
   ]
  },
  {
   "cell_type": "code",
   "execution_count": null,
   "id": "b84cc563",
   "metadata": {},
   "outputs": [],
   "source": []
  }
 ],
 "metadata": {
  "kernelspec": {
   "display_name": ".venv",
   "language": "python",
   "name": "python3"
  },
  "language_info": {
   "codemirror_mode": {
    "name": "ipython",
    "version": 3
   },
   "file_extension": ".py",
   "mimetype": "text/x-python",
   "name": "python",
   "nbconvert_exporter": "python",
   "pygments_lexer": "ipython3",
   "version": "3.12.8"
  }
 },
 "nbformat": 4,
 "nbformat_minor": 5
}
