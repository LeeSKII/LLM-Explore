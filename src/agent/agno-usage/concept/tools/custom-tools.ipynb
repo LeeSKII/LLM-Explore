{
 "cells": [
  {
   "cell_type": "code",
   "execution_count": 5,
   "id": "890f7c7c",
   "metadata": {},
   "outputs": [],
   "source": [
    "from agno.agent import Agent\n",
    "from agno.models.openai.like import OpenAILike\n",
    "from agno.tools.reasoning import ReasoningTools\n",
    "from agno.tools import tool\n",
    "from agno.tools.yfinance import YFinanceTools\n",
    "import random\n",
    "import logging\n",
    "\n",
    "# logging.basicConfig(format='%(asctime)s [%(levelname)s] %(name)s:%(filename)s:%(lineno)d - %(message)s',datefmt='%Y-%m-%d %H:%M:%S',level=logging.DEBUG) \n",
    "\n",
    "#------------------ settings ------------------\n",
    "import os\n",
    "from dotenv import load_dotenv\n",
    "load_dotenv()\n",
    "api_key=os.getenv(\"QWEN_API_KEY\")\n",
    "base_url=os.getenv(\"QWEN_API_BASE_URL\")\n",
    "local_base_url = 'http://192.168.0.166:8000/v1'\n",
    "local_model_name = 'Qwen3-235B'\n",
    "model_name = 'qwen-plus-latest'\n",
    "\n",
    "local_settings = {\n",
    "  'api_key' : '123',\n",
    "  'base_url' : local_base_url,\n",
    "  'id' : local_model_name\n",
    "}\n",
    "\n",
    "qwen_settings = {\n",
    "  'api_key' : api_key,\n",
    "  'base_url' : base_url,\n",
    "  'id' : model_name\n",
    "}\n",
    "\n",
    "settings = qwen_settings\n",
    "#------------------ settings ------------------"
   ]
  },
  {
   "cell_type": "markdown",
   "id": "98946ced",
   "metadata": {},
   "source": [
    "## 1. Most common custom tool write by yourself"
   ]
  },
  {
   "cell_type": "code",
   "execution_count": 32,
   "id": "e1a0fd7d",
   "metadata": {},
   "outputs": [],
   "source": [
    "@tool(show_result=True)\n",
    "def get_weather_by_city(city:str)->str:\n",
    "    '''\n",
    "    Get the weather of a city.\n",
    "    \n",
    "    Args:\n",
    "        city (str): The name of the city.\n",
    "        \n",
    "    Returns:\n",
    "        str: The weather of the city.\n",
    "    '''\n",
    "    weather_choice = [\"Sunny\", \"Cloudy\", \"Rainy\"]\n",
    "    return random.choice(weather_choice)"
   ]
  },
  {
   "cell_type": "markdown",
   "id": "a9403b1e",
   "metadata": {},
   "source": [
    "### Parameters meanings:\n",
    "\n",
    "- `show_tool_calls` in `Agent` Class: only used in `run_response` method.\n",
    "- `show_result` in decorator `@tool(show_result=True)` maybe used in `run_response` method."
   ]
  },
  {
   "cell_type": "code",
   "execution_count": 33,
   "id": "f3a3b724",
   "metadata": {},
   "outputs": [],
   "source": [
    "agent = Agent(\n",
    "    model=OpenAILike(**settings),\n",
    "    tools=[get_weather_by_city],\n",
    "    description=\"You are an helpful assistant.\",\n",
    "    instructions=[\"Reply concisely.\"],\n",
    "    debug_mode=False,\n",
    "    telemetry=False,\n",
    ")"
   ]
  },
  {
   "cell_type": "code",
   "execution_count": 34,
   "id": "c829e73a",
   "metadata": {},
   "outputs": [],
   "source": [
    "response = agent.run(message='What is the weather of changsha today?')"
   ]
  },
  {
   "cell_type": "code",
   "execution_count": 35,
   "id": "c5012fbe",
   "metadata": {},
   "outputs": [
    {
     "data": {
      "text/plain": [
       "'RainyThe weather in Changsha today is rainy.'"
      ]
     },
     "execution_count": 35,
     "metadata": {},
     "output_type": "execute_result"
    }
   ],
   "source": [
    "response.content"
   ]
  },
  {
   "cell_type": "code",
   "execution_count": 36,
   "id": "35761e18",
   "metadata": {},
   "outputs": [
    {
     "data": {
      "text/plain": [
       "[Message(role='system', content='You are an helpful assistant.\\n<instructions>\\nReply concisely.\\n</instructions>', name=None, tool_call_id=None, tool_calls=None, audio=None, images=None, videos=None, files=None, audio_output=None, image_output=None, thinking=None, redacted_thinking=None, provider_data=None, citations=None, reasoning_content=None, tool_name=None, tool_args=None, tool_call_error=None, stop_after_tool_call=False, add_to_agent_memory=True, from_history=False, metrics=MessageMetrics(input_tokens=0, output_tokens=0, total_tokens=0, audio_tokens=0, input_audio_tokens=0, output_audio_tokens=0, cached_tokens=0, cache_write_tokens=0, reasoning_tokens=0, prompt_tokens=0, completion_tokens=0, prompt_tokens_details=None, completion_tokens_details=None, additional_metrics=None, time=None, time_to_first_token=None, timer=None), references=None, created_at=1748852346),\n",
       " Message(role='user', content='What is the weather of changsha today?', name=None, tool_call_id=None, tool_calls=None, audio=None, images=None, videos=None, files=None, audio_output=None, image_output=None, thinking=None, redacted_thinking=None, provider_data=None, citations=None, reasoning_content=None, tool_name=None, tool_args=None, tool_call_error=None, stop_after_tool_call=False, add_to_agent_memory=True, from_history=False, metrics=MessageMetrics(input_tokens=0, output_tokens=0, total_tokens=0, audio_tokens=0, input_audio_tokens=0, output_audio_tokens=0, cached_tokens=0, cache_write_tokens=0, reasoning_tokens=0, prompt_tokens=0, completion_tokens=0, prompt_tokens_details=None, completion_tokens_details=None, additional_metrics=None, time=None, time_to_first_token=None, timer=None), references=None, created_at=1748852346),\n",
       " Message(role='assistant', content='', name=None, tool_call_id=None, tool_calls=[{'id': 'call_1f84d029edb64f0abf095d', 'function': {'arguments': '{\"city\": \"changsha\"}', 'name': 'get_weather_by_city'}, 'type': 'function', 'index': 0}], audio=None, images=None, videos=None, files=None, audio_output=None, image_output=None, thinking=None, redacted_thinking=None, provider_data=None, citations=None, reasoning_content=None, tool_name=None, tool_args=None, tool_call_error=None, stop_after_tool_call=False, add_to_agent_memory=True, from_history=False, metrics=MessageMetrics(input_tokens=190, output_tokens=22, total_tokens=212, audio_tokens=0, input_audio_tokens=0, output_audio_tokens=0, cached_tokens=0, cache_write_tokens=0, reasoning_tokens=0, prompt_tokens=190, completion_tokens=22, prompt_tokens_details=None, completion_tokens_details=None, additional_metrics=None, time=2.8386077999603003, time_to_first_token=None, timer=<agno.utils.timer.Timer object at 0x000001A456F156A0>), references=None, created_at=1748852346),\n",
       " Message(role='tool', content='Rainy', name=None, tool_call_id='call_1f84d029edb64f0abf095d', tool_calls=None, audio=None, images=None, videos=None, files=None, audio_output=None, image_output=None, thinking=None, redacted_thinking=None, provider_data=None, citations=None, reasoning_content=None, tool_name='get_weather_by_city', tool_args={'city': 'changsha'}, tool_call_error=False, stop_after_tool_call=False, add_to_agent_memory=True, from_history=False, metrics=MessageMetrics(input_tokens=0, output_tokens=0, total_tokens=0, audio_tokens=0, input_audio_tokens=0, output_audio_tokens=0, cached_tokens=0, cache_write_tokens=0, reasoning_tokens=0, prompt_tokens=0, completion_tokens=0, prompt_tokens_details=None, completion_tokens_details=None, additional_metrics=None, time=0.0007511000148952007, time_to_first_token=None, timer=None), references=None, created_at=1748852349),\n",
       " Message(role='assistant', content='The weather in Changsha today is rainy.', name=None, tool_call_id=None, tool_calls=None, audio=None, images=None, videos=None, files=None, audio_output=None, image_output=None, thinking=None, redacted_thinking=None, provider_data=None, citations=None, reasoning_content=None, tool_name=None, tool_args=None, tool_call_error=None, stop_after_tool_call=False, add_to_agent_memory=True, from_history=False, metrics=MessageMetrics(input_tokens=228, output_tokens=9, total_tokens=237, audio_tokens=0, input_audio_tokens=0, output_audio_tokens=0, cached_tokens=0, cache_write_tokens=0, reasoning_tokens=0, prompt_tokens=228, completion_tokens=9, prompt_tokens_details=None, completion_tokens_details=None, additional_metrics=None, time=2.2597632000688463, time_to_first_token=None, timer=<agno.utils.timer.Timer object at 0x000001A456E15BB0>), references=None, created_at=1748852349)]"
      ]
     },
     "execution_count": 36,
     "metadata": {},
     "output_type": "execute_result"
    }
   ],
   "source": [
    "response.messages"
   ]
  },
  {
   "cell_type": "code",
   "execution_count": 37,
   "id": "e8ff0ad4",
   "metadata": {},
   "outputs": [
    {
     "name": "stdout",
     "output_type": "stream",
     "text": [
      "ToolCallStarted RunResponse(content=None, content_type='str', thinking=None, reasoning_content=None, event='ToolCallStarted', messages=None, metrics=None, model='qwen-plus-latest', model_provider=None, run_id='9da74c46-e016-439d-b480-1c96ea83e7e4', agent_id='746b0a8c-384e-4734-abba-6e6fc690bdd5', session_id='b0567dfb-4182-4c88-a531-fe85d2458402', workflow_id=None, tools=[ToolExecution(tool_call_id='call_06b2df0bab2344228371e7', tool_name='get_weather_by_city', tool_args={'city': 'changsha'}, tool_call_error=None, result=None, metrics=None, stop_after_tool_call=False, created_at=1748739810, requires_confirmation=None, confirmed=None, confirmation_note=None, requires_user_input=None, user_input_schema=None, external_execution_required=None)], formatted_tool_calls=None, images=None, videos=None, audio=None, response_audio=None, citations=None, extra_data=None, created_at=1748739810)\n",
      "RunResponse RunResponse(content='Cloudy', content_type='str', thinking=None, reasoning_content=None, event='RunResponse', messages=None, metrics=None, model=None, model_provider=None, run_id='9da74c46-e016-439d-b480-1c96ea83e7e4', agent_id='746b0a8c-384e-4734-abba-6e6fc690bdd5', session_id='b0567dfb-4182-4c88-a531-fe85d2458402', workflow_id=None, tools=None, formatted_tool_calls=None, images=None, videos=None, audio=None, response_audio=None, citations=None, extra_data=None, created_at=1748739810)\n",
      "ToolCallCompleted RunResponse(content='Cloudy', content_type='str', thinking=None, reasoning_content=None, event='ToolCallCompleted', messages=None, metrics=None, model='qwen-plus-latest', model_provider=None, run_id='9da74c46-e016-439d-b480-1c96ea83e7e4', agent_id='746b0a8c-384e-4734-abba-6e6fc690bdd5', session_id='b0567dfb-4182-4c88-a531-fe85d2458402', workflow_id=None, tools=[ToolExecution(tool_call_id='call_06b2df0bab2344228371e7', tool_name='get_weather_by_city', tool_args={'city': 'changsha'}, tool_call_error=False, result='Cloudy', metrics=MessageMetrics(input_tokens=0, output_tokens=0, total_tokens=0, audio_tokens=0, input_audio_tokens=0, output_audio_tokens=0, cached_tokens=0, cache_write_tokens=0, reasoning_tokens=0, prompt_tokens=0, completion_tokens=0, prompt_tokens_details=None, completion_tokens_details=None, additional_metrics=None, time=0.0008741999045014381, time_to_first_token=None, timer=None), stop_after_tool_call=False, created_at=1748739810, requires_confirmation=None, confirmed=None, confirmation_note=None, requires_user_input=None, user_input_schema=None, external_execution_required=None)], formatted_tool_calls=None, images=None, videos=None, audio=None, response_audio=None, citations=None, extra_data=None, created_at=1748739810)\n",
      "RunResponse RunResponse(content='The', content_type='str', thinking=None, reasoning_content=None, event='RunResponse', messages=None, metrics=None, model=None, model_provider=None, run_id='9da74c46-e016-439d-b480-1c96ea83e7e4', agent_id='746b0a8c-384e-4734-abba-6e6fc690bdd5', session_id='b0567dfb-4182-4c88-a531-fe85d2458402', workflow_id=None, tools=None, formatted_tool_calls=None, images=None, videos=None, audio=None, response_audio=None, citations=None, extra_data=None, created_at=1748739810)\n",
      "RunResponse RunResponse(content=' weather', content_type='str', thinking=None, reasoning_content=None, event='RunResponse', messages=None, metrics=None, model=None, model_provider=None, run_id='9da74c46-e016-439d-b480-1c96ea83e7e4', agent_id='746b0a8c-384e-4734-abba-6e6fc690bdd5', session_id='b0567dfb-4182-4c88-a531-fe85d2458402', workflow_id=None, tools=None, formatted_tool_calls=None, images=None, videos=None, audio=None, response_audio=None, citations=None, extra_data=None, created_at=1748739810)\n",
      "RunResponse RunResponse(content=' in', content_type='str', thinking=None, reasoning_content=None, event='RunResponse', messages=None, metrics=None, model=None, model_provider=None, run_id='9da74c46-e016-439d-b480-1c96ea83e7e4', agent_id='746b0a8c-384e-4734-abba-6e6fc690bdd5', session_id='b0567dfb-4182-4c88-a531-fe85d2458402', workflow_id=None, tools=None, formatted_tool_calls=None, images=None, videos=None, audio=None, response_audio=None, citations=None, extra_data=None, created_at=1748739810)\n",
      "RunResponse RunResponse(content=' Chang', content_type='str', thinking=None, reasoning_content=None, event='RunResponse', messages=None, metrics=None, model=None, model_provider=None, run_id='9da74c46-e016-439d-b480-1c96ea83e7e4', agent_id='746b0a8c-384e-4734-abba-6e6fc690bdd5', session_id='b0567dfb-4182-4c88-a531-fe85d2458402', workflow_id=None, tools=None, formatted_tool_calls=None, images=None, videos=None, audio=None, response_audio=None, citations=None, extra_data=None, created_at=1748739810)\n",
      "RunResponse RunResponse(content='sha today is cloudy', content_type='str', thinking=None, reasoning_content=None, event='RunResponse', messages=None, metrics=None, model=None, model_provider=None, run_id='9da74c46-e016-439d-b480-1c96ea83e7e4', agent_id='746b0a8c-384e-4734-abba-6e6fc690bdd5', session_id='b0567dfb-4182-4c88-a531-fe85d2458402', workflow_id=None, tools=None, formatted_tool_calls=None, images=None, videos=None, audio=None, response_audio=None, citations=None, extra_data=None, created_at=1748739810)\n",
      "RunResponse RunResponse(content='.', content_type='str', thinking=None, reasoning_content=None, event='RunResponse', messages=None, metrics=None, model=None, model_provider=None, run_id='9da74c46-e016-439d-b480-1c96ea83e7e4', agent_id='746b0a8c-384e-4734-abba-6e6fc690bdd5', session_id='b0567dfb-4182-4c88-a531-fe85d2458402', workflow_id=None, tools=None, formatted_tool_calls=None, images=None, videos=None, audio=None, response_audio=None, citations=None, extra_data=None, created_at=1748739810)\n",
      "RunResponse RunResponse(content='', content_type='str', thinking=None, reasoning_content=None, event='RunResponse', messages=None, metrics=None, model=None, model_provider=None, run_id='9da74c46-e016-439d-b480-1c96ea83e7e4', agent_id='746b0a8c-384e-4734-abba-6e6fc690bdd5', session_id='b0567dfb-4182-4c88-a531-fe85d2458402', workflow_id=None, tools=None, formatted_tool_calls=None, images=None, videos=None, audio=None, response_audio=None, citations=None, extra_data=None, created_at=1748739810)\n"
     ]
    }
   ],
   "source": [
    "Response_iter = agent.run(message='What is the weather of changsha today?',stream=True)\n",
    "for response in Response_iter:\n",
    "    print(response.event,response)"
   ]
  },
  {
   "cell_type": "markdown",
   "id": "a7f5e3ef",
   "metadata": {},
   "source": [
    "## 2. Toolkit Class\n",
    "\n",
    "- through some parameters provided by `Toolkit` Class such as `stop_after_tool_call_tools=[\"google_search\"]` to control the behavior of the Agent."
   ]
  },
  {
   "cell_type": "code",
   "execution_count": null,
   "id": "5cd1806f",
   "metadata": {},
   "outputs": [],
   "source": [
    "from agno.tools.googlesearch import GoogleSearchTools\n",
    "\n",
    "# agent = Agent(model=OpenAILike(**settings),tools=[GoogleSearchTools(stop_after_tool_call_tools=[\"google_search\"],)],telemetry=False)\n",
    "agent = Agent(model=OpenAILike(**settings),tools=[GoogleSearchTools()],telemetry=False)"
   ]
  },
  {
   "cell_type": "code",
   "execution_count": 45,
   "id": "22d99c4a",
   "metadata": {},
   "outputs": [],
   "source": [
    "response = agent.run('Is Elon Musk still in government has a position?')"
   ]
  },
  {
   "cell_type": "code",
   "execution_count": 46,
   "id": "9bca7d1c",
   "metadata": {},
   "outputs": [
    {
     "data": {
      "text/plain": [
       "''"
      ]
     },
     "execution_count": 46,
     "metadata": {},
     "output_type": "execute_result"
    }
   ],
   "source": [
    "response.content"
   ]
  },
  {
   "cell_type": "code",
   "execution_count": 47,
   "id": "ca248099",
   "metadata": {},
   "outputs": [
    {
     "data": {
      "text/plain": [
       "[Message(role='user', content='Is Elon Musk still in government has a position?', name=None, tool_call_id=None, tool_calls=None, audio=None, images=None, videos=None, files=None, audio_output=None, image_output=None, thinking=None, redacted_thinking=None, provider_data=None, citations=None, reasoning_content=None, tool_name=None, tool_args=None, tool_call_error=None, stop_after_tool_call=False, add_to_agent_memory=True, from_history=False, metrics=MessageMetrics(input_tokens=0, output_tokens=0, total_tokens=0, audio_tokens=0, input_audio_tokens=0, output_audio_tokens=0, cached_tokens=0, cache_write_tokens=0, reasoning_tokens=0, prompt_tokens=0, completion_tokens=0, prompt_tokens_details=None, completion_tokens_details=None, additional_metrics=None, time=None, time_to_first_token=None, timer=None), references=None, created_at=1748853299),\n",
       " Message(role='assistant', content='', name=None, tool_call_id=None, tool_calls=[{'id': 'call_52c5a4cf558e4ac3b2bb7f', 'function': {'arguments': '{\"language\": \"en\", \"max_results\": 5, \"query\": \"Elon Musk current government position\"}', 'name': 'google_search'}, 'type': 'function', 'index': 0}], audio=None, images=None, videos=None, files=None, audio_output=None, image_output=None, thinking=None, redacted_thinking=None, provider_data=None, citations=None, reasoning_content=None, tool_name=None, tool_args=None, tool_call_error=None, stop_after_tool_call=False, add_to_agent_memory=True, from_history=False, metrics=MessageMetrics(input_tokens=233, output_tokens=37, total_tokens=270, audio_tokens=0, input_audio_tokens=0, output_audio_tokens=0, cached_tokens=0, cache_write_tokens=0, reasoning_tokens=0, prompt_tokens=233, completion_tokens=37, prompt_tokens_details=None, completion_tokens_details=None, additional_metrics=None, time=4.5041288998909295, time_to_first_token=None, timer=<agno.utils.timer.Timer object at 0x000001A458067AD0>), references=None, created_at=1748853299),\n",
       " Message(role='tool', content='[\\n  {\\n    \"title\": \"  Elon Musk steps down from government role, remains advisor  \",\\n    \"url\": \"https://www.kcra.com/article/elon-musk-steps-down-government-role-remains-advisor/64931191\",\\n    \"description\": \" Elon Musk steps down from government role, remains advisor \"\\n  },\\n  {\\n    \"title\": \"Musk is a special government employee. What is that? - NPR\",\\n    \"url\": \"https://www.npr.org/2025/02/13/nx-s1-5293124/special-government-employee-trump-musk-doge\",\\n    \"description\": \" Feb 13, 2025  \\\\u00b7  Musk now helms the Department of Government Efficiency, or DOGE, a White House team tasked with cutting federal spending. The unit has\\\\u00a0... \"\\n  },\\n  {\\n    \"title\": \"What is Doge and why is Musk leaving? - BBC\",\\n    \"url\": \"https://www.bbc.com/news/articles/c23vkd57471o\",\\n    \"description\": \" 2 days ago  \\\\u00b7  Tesla boss Elon Musk has left the Trump administration and his role in Doge, the body tasked with reducing US government spending and\\\\u00a0... \"\\n  },\\n  {\\n    \"title\": \"Elon Musk to step away from White House, Trump administration\",\\n    \"url\": \"https://www.youtube.com/watch?v=1SyYrrtYoa8\",\\n    \"description\": \" 2 days ago  \\\\u00b7  (ASSOCIATED PRESS) President Donald Trump bid farewell to Elon Musk in the Oval Office on Friday, providing a cordial conclusion to a\\\\u00a0... \"\\n  },\\n  {\\n    \"title\": \"What\\'s Elon Musk\\'s position in government? The DOGE leader\\'s role\",\\n    \"url\": \"https://www.commercialappeal.com/story/news/2025/02/07/elon-musk-position-us-government/78328968007/\",\\n    \"description\": \" Feb 7, 2025  \\\\u00b7  Musk leads the Department of Government Efficiency whose goal is to find and remove excess or wasteful spending in federal programs. \"\\n  }\\n]', name=None, tool_call_id='call_52c5a4cf558e4ac3b2bb7f', tool_calls=None, audio=None, images=None, videos=None, files=None, audio_output=None, image_output=None, thinking=None, redacted_thinking=None, provider_data=None, citations=None, reasoning_content=None, tool_name='google_search', tool_args={'language': 'en', 'max_results': 5, 'query': 'Elon Musk current government position'}, tool_call_error=False, stop_after_tool_call=True, add_to_agent_memory=True, from_history=False, metrics=MessageMetrics(input_tokens=0, output_tokens=0, total_tokens=0, audio_tokens=0, input_audio_tokens=0, output_audio_tokens=0, cached_tokens=0, cache_write_tokens=0, reasoning_tokens=0, prompt_tokens=0, completion_tokens=0, prompt_tokens_details=None, completion_tokens_details=None, additional_metrics=None, time=0.7783440998755395, time_to_first_token=None, timer=None), references=None, created_at=1748853304)]"
      ]
     },
     "execution_count": 47,
     "metadata": {},
     "output_type": "execute_result"
    }
   ],
   "source": [
    "response.messages"
   ]
  },
  {
   "cell_type": "markdown",
   "id": "97ef8958",
   "metadata": {},
   "source": [
    "## 3. Write your own custom tools\n",
    "\n",
    "1. use `tool` decorator to create a custom tool function\n",
    "2. "
   ]
  },
  {
   "cell_type": "code",
   "execution_count": null,
   "id": "d0161a20",
   "metadata": {},
   "outputs": [],
   "source": []
  }
 ],
 "metadata": {
  "kernelspec": {
   "display_name": "Python 3",
   "language": "python",
   "name": "python3"
  },
  "language_info": {
   "codemirror_mode": {
    "name": "ipython",
    "version": 3
   },
   "file_extension": ".py",
   "mimetype": "text/x-python",
   "name": "python",
   "nbconvert_exporter": "python",
   "pygments_lexer": "ipython3",
   "version": "3.12.4"
  }
 },
 "nbformat": 4,
 "nbformat_minor": 5
}
