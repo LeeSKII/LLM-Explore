{
 "cells": [
  {
   "cell_type": "code",
   "execution_count": null,
   "id": "890f7c7c",
   "metadata": {},
   "outputs": [],
   "source": [
    "from agno.agent import Agent\n",
    "from agno.models.openai.like import OpenAILike\n",
    "from agno.tools.reasoning import ReasoningTools\n",
    "from agno.tools import tool\n",
    "from agno.tools.yfinance import YFinanceTools\n",
    "import logging\n",
    "\n",
    "# logging.basicConfig(format='%(asctime)s [%(levelname)s] %(name)s:%(filename)s:%(lineno)d - %(message)s',datefmt='%Y-%m-%d %H:%M:%S',level=logging.DEBUG) \n",
    "\n",
    "#------------------ settings ------------------\n",
    "import os\n",
    "from dotenv import load_dotenv\n",
    "load_dotenv()\n",
    "api_key=os.getenv(\"QWEN_API_KEY\")\n",
    "base_url=os.getenv(\"QWEN_API_BASE_URL\")\n",
    "local_base_url = 'http://192.168.0.166:8000/v1'\n",
    "local_model_name = 'Qwen3-235B'\n",
    "model_name = 'qwen-plus-latest'\n",
    "\n",
    "local_settings = {\n",
    "  'api_key' : '123',\n",
    "  'base_url' : local_base_url,\n",
    "  'id' : local_model_name\n",
    "}\n",
    "\n",
    "qwen_settings = {\n",
    "  'api_key' : api_key,\n",
    "  'base_url' : base_url,\n",
    "  'id' : model_name\n",
    "}\n",
    "\n",
    "settings = qwen_settings\n",
    "#------------------ settings ------------------"
   ]
  },
  {
   "cell_type": "code",
   "execution_count": 4,
   "id": "f3a3b724",
   "metadata": {},
   "outputs": [],
   "source": [
    "agent = Agent(\n",
    "    model=OpenAILike(**settings),\n",
    "    tools=[YFinanceTools(stock_price=True, analyst_recommendations=True, stock_fundamentals=True)],\n",
    "    show_tool_calls=True,\n",
    "    description=\"You are an investment analyst that researches stock prices, analyst recommendations, and stock fundamentals.\",\n",
    "    instructions=[\"Format your response using markdown and use tables to display data where possible.\"],\n",
    ")"
   ]
  },
  {
   "cell_type": "code",
   "execution_count": null,
   "id": "c829e73a",
   "metadata": {},
   "outputs": [],
   "source": []
  }
 ],
 "metadata": {
  "kernelspec": {
   "display_name": "Python 3",
   "language": "python",
   "name": "python3"
  },
  "language_info": {
   "codemirror_mode": {
    "name": "ipython",
    "version": 3
   },
   "file_extension": ".py",
   "mimetype": "text/x-python",
   "name": "python",
   "nbconvert_exporter": "python",
   "pygments_lexer": "ipython3",
   "version": "3.12.4"
  }
 },
 "nbformat": 4,
 "nbformat_minor": 5
}
