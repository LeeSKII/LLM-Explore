{
 "cells": [
  {
   "cell_type": "markdown",
   "id": "ea1b910a",
   "metadata": {},
   "source": [
    "# Agent Class 类的参数说明和用法示例"
   ]
  },
  {
   "cell_type": "code",
   "execution_count": 31,
   "id": "e7564c16",
   "metadata": {},
   "outputs": [],
   "source": [
    "from typing import Iterator\n",
    "from agno.agent import Agent, RunResponse,Message\n",
    "from agno.models.openai.like import OpenAILike\n",
    "from agno.utils.pprint import pprint_run_response\n",
    "from textwrap import dedent\n",
    "\n",
    "import os\n",
    "from dotenv import load_dotenv\n",
    "load_dotenv()\n",
    "api_key=os.getenv(\"QWEN_API_KEY\")\n",
    "base_url=os.getenv(\"QWEN_API_BASE_URL\")\n",
    "local_base_url = 'http://192.168.0.166:8000/v1'\n",
    "local_model_name = 'Qwen3-235B'\n",
    "model_name = 'qwen3-235b-a22b'\n",
    "model_name = 'qwen-turbo-latest'\n",
    "\n",
    "local_settings = {\n",
    "  'api_key' : '123',\n",
    "  'base_url' : local_base_url,\n",
    "  'id' : local_model_name\n",
    "}\n",
    "\n",
    "qwen_settings = {\n",
    "  'api_key' : api_key,\n",
    "  'base_url' : base_url,\n",
    "  'id' : model_name\n",
    "}\n",
    "\n",
    "settings = qwen_settings"
   ]
  },
  {
   "cell_type": "markdown",
   "id": "21a69fb0",
   "metadata": {},
   "source": [
    "## 1. 默认设置"
   ]
  },
  {
   "cell_type": "code",
   "execution_count": 58,
   "id": "ab6157cc",
   "metadata": {},
   "outputs": [],
   "source": [
    "agent = Agent(model=OpenAILike(**settings))"
   ]
  },
  {
   "cell_type": "code",
   "execution_count": 30,
   "id": "b5c745c7",
   "metadata": {},
   "outputs": [],
   "source": [
    "# Run agent and return the response as a variable\n",
    "# 同时会返回session_id，用于后续的连续对话，run_id表示每一轮次的对话\n",
    "response:RunResponse = agent.run(\"你是谁\")"
   ]
  },
  {
   "cell_type": "code",
   "execution_count": 31,
   "id": "30a498a2",
   "metadata": {},
   "outputs": [
    {
     "data": {
      "text/plain": [
       "'我是通义千问，由阿里巴巴集团旗下的通义实验室研发的超大规模语言模型。我能够回答问题、创作文字、逻辑推理、编程等多种任务。你可以叫我Qwen或者通义千问。有什么我可以帮你的吗？'"
      ]
     },
     "execution_count": 31,
     "metadata": {},
     "output_type": "execute_result"
    }
   ],
   "source": [
    "response.content"
   ]
  },
  {
   "cell_type": "code",
   "execution_count": 33,
   "id": "189c61be",
   "metadata": {},
   "outputs": [
    {
     "data": {
      "text/plain": [
       "'str'"
      ]
     },
     "execution_count": 33,
     "metadata": {},
     "output_type": "execute_result"
    }
   ],
   "source": [
    "response.content_type"
   ]
  },
  {
   "cell_type": "code",
   "execution_count": 35,
   "id": "6eb59248",
   "metadata": {},
   "outputs": [
    {
     "data": {
      "text/plain": [
       "'RunResponse'"
      ]
     },
     "execution_count": 35,
     "metadata": {},
     "output_type": "execute_result"
    }
   ],
   "source": [
    "response.event"
   ]
  },
  {
   "cell_type": "code",
   "execution_count": 37,
   "id": "2327a390",
   "metadata": {},
   "outputs": [
    {
     "data": {
      "text/plain": [
       "[Message(role='user', content='你是谁', name=None, tool_call_id=None, tool_calls=None, audio=None, images=None, videos=None, files=None, audio_output=None, image_output=None, thinking=None, redacted_thinking=None, provider_data=None, citations=None, reasoning_content=None, tool_name=None, tool_args=None, tool_call_error=None, stop_after_tool_call=False, add_to_agent_memory=True, from_history=False, metrics=MessageMetrics(input_tokens=0, output_tokens=0, total_tokens=0, audio_tokens=0, input_audio_tokens=0, output_audio_tokens=0, cached_tokens=0, cache_write_tokens=0, reasoning_tokens=0, prompt_tokens=0, completion_tokens=0, prompt_tokens_details=None, completion_tokens_details=None, additional_metrics=None, time=None, time_to_first_token=None, timer=None), references=None, created_at=1748649959),\n",
       " Message(role='assistant', content='我是通义千问，由阿里巴巴集团旗下的通义实验室研发的超大规模语言模型。我能够回答问题、创作文字、逻辑推理、编程等多种任务。你可以叫我Qwen或者通义千问。有什么我可以帮你的吗？', name=None, tool_call_id=None, tool_calls=None, audio=None, images=None, videos=None, files=None, audio_output=None, image_output=None, thinking=None, redacted_thinking=None, provider_data=None, citations=None, reasoning_content=None, tool_name=None, tool_args=None, tool_call_error=None, stop_after_tool_call=False, add_to_agent_memory=True, from_history=False, metrics=MessageMetrics(input_tokens=14, output_tokens=51, total_tokens=65, audio_tokens=0, input_audio_tokens=0, output_audio_tokens=0, cached_tokens=0, cache_write_tokens=0, reasoning_tokens=0, prompt_tokens=14, completion_tokens=51, prompt_tokens_details=None, completion_tokens_details=None, additional_metrics=None, time=2.609815299976617, time_to_first_token=None, timer=<agno.utils.timer.Timer object at 0x00000133A4C55E80>), references=None, created_at=1748649959)]"
      ]
     },
     "execution_count": 37,
     "metadata": {},
     "output_type": "execute_result"
    }
   ],
   "source": [
    "response.messages"
   ]
  },
  {
   "cell_type": "markdown",
   "id": "3c352134",
   "metadata": {},
   "source": [
    "注意agent默认的run是单次对话，意味着只有system_prompt(if 提供),user content,assistant content这3条数据"
   ]
  },
  {
   "cell_type": "code",
   "execution_count": 38,
   "id": "8983226d",
   "metadata": {},
   "outputs": [],
   "source": [
    "response:RunResponse = agent.run(\"如何做中式早餐\")"
   ]
  },
  {
   "cell_type": "code",
   "execution_count": 39,
   "id": "bd7dd62d",
   "metadata": {},
   "outputs": [
    {
     "data": {
      "text/plain": [
       "'中式早餐种类丰富，因地域不同而有所差异，但常见的有粥、包子、油条、煎饼、豆浆、小菜等。以下是一些经典的中式早餐做法，适合家庭制作：\\n\\n---\\n\\n## 一、经典中式早餐组合\\n\\n### 1. **白粥 + 小菜**\\n- **白粥**：米水比例约1:8（如1杯米+8杯水），煮至米粒开花。\\n- **小菜**：可选酱菜（如榨菜、雪里蕻）、咸鸭蛋、豆腐乳、酱牛肉、卤蛋等。\\n\\n### 2. **豆浆 + 油条**\\n- **豆浆**：黄豆泡发后磨浆煮熟（或用现成豆浆）。\\n- **油条**：面团发酵后切条炸制，外酥内软。\\n\\n### 3. **包子 + 豆浆/粥**\\n- **包子**：可自制肉包、菜包、豆沙包等。\\n- **豆浆/粥**：搭配食用更佳。\\n\\n### 4. **煎饼果子**\\n- **煎饼皮**：面粉+水调成薄糊，在平底锅摊成圆饼。\\n- **配料**：鸡蛋、葱花、甜面酱、辣酱、脆饼、生菜等。\\n\\n---\\n\\n## 二、具体做法示例\\n\\n### 🍚 白粥的做法（简单版）\\n\\n**材料**：\\n- 大米 100克  \\n- 水 800毫升  \\n- 盐 少许（可选）\\n\\n**步骤**：\\n1. 大米淘洗干净，浸泡30分钟。\\n2. 加入水，大火煮开后转小火慢熬1小时左右，期间偶尔搅拌防止粘锅。\\n3. 煮至米粒开花、汤汁浓稠即可。\\n\\n---\\n\\n### 🥟 包子的做法（肉包为例）\\n\\n**材料**：\\n- 面粉 500克  \\n- 酵母 5克  \\n- 温水 250毫升  \\n- 猪肉馅 300克  \\n- 生姜末 10克  \\n- 生抽、老抽、盐、香油、胡椒粉适量  \\n- 香葱碎适量\\n\\n**步骤**：\\n1. 酵母用温水化开，加入面粉揉成光滑面团，发酵至两倍大。\\n2. 猪肉馅中加入所有调料拌匀，腌制10分钟。\\n3. 面团分成小剂子，擀成中间厚边缘薄的包子皮。\\n4. 包入肉馅，捏紧收口。\\n5. 上锅蒸15-20分钟，关火焖5分钟再揭盖。\\n\\n---\\n\\n### 🥢 油条的做法\\n\\n**材料**：\\n- 中筋面粉 300克  \\n- 鸡蛋 1个  \\n- 盐 3克  \\n- 冷水 180毫升  \\n- 食用油（炸油条用）\\n\\n**步骤**：\\n1. 面粉加盐，打入鸡蛋，慢慢加入冷水，揉成光滑面团。\\n2. 盖上保鲜膜，醒发30分钟。\\n3. 面团擀成厚约1厘米的长方形，切成两条并排的长条。\\n4. 把两条叠在一起，用刀斜着切几刀（不要切断）。\\n5. 锅中烧热油（约180℃），放入油条生坯，炸至金黄膨胀即可捞出。\\n\\n---\\n\\n### 🥞 煎饼果子做法\\n\\n**材料**：\\n- 面粉 200克  \\n- 水 250毫升  \\n- 鸡蛋 1个  \\n- 葱花、甜面酱、辣酱、脆饼、生菜、香肠等\\n\\n**步骤**：\\n1. 面粉加水调成稀糊状，静置10分钟。\\n2. 平底锅加热，舀一勺面糊倒入锅中，快速摊成圆形薄饼。\\n3. 打入一个鸡蛋，用铲子抹平，撒上葱花。\\n4. 涂上甜面酱和辣酱，放上脆饼、生菜、香肠等。\\n5. 折叠成小饼即可食用。\\n\\n---\\n\\n## 三、推荐搭配建议\\n\\n| 主食 | 配菜 | 饮品 |\\n|------|------|------|\\n| 白粥 | 咸菜、豆腐乳 | 豆浆 |\\n| 包子 | 蔬菜小菜 | 绿豆汤 |\\n| 煎饼果子 | 酱料、鸡蛋 | 牛奶 |\\n| 油条 | 豆浆 | 豆浆 |\\n\\n---\\n\\n## 四、小贴士\\n\\n- 早餐尽量清淡、营养均衡，多搭配蔬菜、蛋白质和主食。\\n- 可根据季节调整食材，比如夏天吃凉拌黄瓜、冬天喝热粥。\\n- 如果时间紧张，可以提前一晚准备面团、包子等，早上直接蒸或炸。\\n\\n---\\n\\n如果你有特定的口味偏好（如素食、低糖、无麸质等），我也可以为你定制更合适的中式早餐方案哦！需要吗？'"
      ]
     },
     "execution_count": 39,
     "metadata": {},
     "output_type": "execute_result"
    }
   ],
   "source": [
    "response.content"
   ]
  },
  {
   "cell_type": "code",
   "execution_count": 40,
   "id": "53b2b130",
   "metadata": {},
   "outputs": [
    {
     "data": {
      "text/plain": [
       "[Message(role='user', content='如何做中式早餐', name=None, tool_call_id=None, tool_calls=None, audio=None, images=None, videos=None, files=None, audio_output=None, image_output=None, thinking=None, redacted_thinking=None, provider_data=None, citations=None, reasoning_content=None, tool_name=None, tool_args=None, tool_call_error=None, stop_after_tool_call=False, add_to_agent_memory=True, from_history=False, metrics=MessageMetrics(input_tokens=0, output_tokens=0, total_tokens=0, audio_tokens=0, input_audio_tokens=0, output_audio_tokens=0, cached_tokens=0, cache_write_tokens=0, reasoning_tokens=0, prompt_tokens=0, completion_tokens=0, prompt_tokens_details=None, completion_tokens_details=None, additional_metrics=None, time=None, time_to_first_token=None, timer=None), references=None, created_at=1748650092),\n",
       " Message(role='assistant', content='中式早餐种类丰富，因地域不同而有所差异，但常见的有粥、包子、油条、煎饼、豆浆、小菜等。以下是一些经典的中式早餐做法，适合家庭制作：\\n\\n---\\n\\n## 一、经典中式早餐组合\\n\\n### 1. **白粥 + 小菜**\\n- **白粥**：米水比例约1:8（如1杯米+8杯水），煮至米粒开花。\\n- **小菜**：可选酱菜（如榨菜、雪里蕻）、咸鸭蛋、豆腐乳、酱牛肉、卤蛋等。\\n\\n### 2. **豆浆 + 油条**\\n- **豆浆**：黄豆泡发后磨浆煮熟（或用现成豆浆）。\\n- **油条**：面团发酵后切条炸制，外酥内软。\\n\\n### 3. **包子 + 豆浆/粥**\\n- **包子**：可自制肉包、菜包、豆沙包等。\\n- **豆浆/粥**：搭配食用更佳。\\n\\n### 4. **煎饼果子**\\n- **煎饼皮**：面粉+水调成薄糊，在平底锅摊成圆饼。\\n- **配料**：鸡蛋、葱花、甜面酱、辣酱、脆饼、生菜等。\\n\\n---\\n\\n## 二、具体做法示例\\n\\n### 🍚 白粥的做法（简单版）\\n\\n**材料**：\\n- 大米 100克  \\n- 水 800毫升  \\n- 盐 少许（可选）\\n\\n**步骤**：\\n1. 大米淘洗干净，浸泡30分钟。\\n2. 加入水，大火煮开后转小火慢熬1小时左右，期间偶尔搅拌防止粘锅。\\n3. 煮至米粒开花、汤汁浓稠即可。\\n\\n---\\n\\n### 🥟 包子的做法（肉包为例）\\n\\n**材料**：\\n- 面粉 500克  \\n- 酵母 5克  \\n- 温水 250毫升  \\n- 猪肉馅 300克  \\n- 生姜末 10克  \\n- 生抽、老抽、盐、香油、胡椒粉适量  \\n- 香葱碎适量\\n\\n**步骤**：\\n1. 酵母用温水化开，加入面粉揉成光滑面团，发酵至两倍大。\\n2. 猪肉馅中加入所有调料拌匀，腌制10分钟。\\n3. 面团分成小剂子，擀成中间厚边缘薄的包子皮。\\n4. 包入肉馅，捏紧收口。\\n5. 上锅蒸15-20分钟，关火焖5分钟再揭盖。\\n\\n---\\n\\n### 🥢 油条的做法\\n\\n**材料**：\\n- 中筋面粉 300克  \\n- 鸡蛋 1个  \\n- 盐 3克  \\n- 冷水 180毫升  \\n- 食用油（炸油条用）\\n\\n**步骤**：\\n1. 面粉加盐，打入鸡蛋，慢慢加入冷水，揉成光滑面团。\\n2. 盖上保鲜膜，醒发30分钟。\\n3. 面团擀成厚约1厘米的长方形，切成两条并排的长条。\\n4. 把两条叠在一起，用刀斜着切几刀（不要切断）。\\n5. 锅中烧热油（约180℃），放入油条生坯，炸至金黄膨胀即可捞出。\\n\\n---\\n\\n### 🥞 煎饼果子做法\\n\\n**材料**：\\n- 面粉 200克  \\n- 水 250毫升  \\n- 鸡蛋 1个  \\n- 葱花、甜面酱、辣酱、脆饼、生菜、香肠等\\n\\n**步骤**：\\n1. 面粉加水调成稀糊状，静置10分钟。\\n2. 平底锅加热，舀一勺面糊倒入锅中，快速摊成圆形薄饼。\\n3. 打入一个鸡蛋，用铲子抹平，撒上葱花。\\n4. 涂上甜面酱和辣酱，放上脆饼、生菜、香肠等。\\n5. 折叠成小饼即可食用。\\n\\n---\\n\\n## 三、推荐搭配建议\\n\\n| 主食 | 配菜 | 饮品 |\\n|------|------|------|\\n| 白粥 | 咸菜、豆腐乳 | 豆浆 |\\n| 包子 | 蔬菜小菜 | 绿豆汤 |\\n| 煎饼果子 | 酱料、鸡蛋 | 牛奶 |\\n| 油条 | 豆浆 | 豆浆 |\\n\\n---\\n\\n## 四、小贴士\\n\\n- 早餐尽量清淡、营养均衡，多搭配蔬菜、蛋白质和主食。\\n- 可根据季节调整食材，比如夏天吃凉拌黄瓜、冬天喝热粥。\\n- 如果时间紧张，可以提前一晚准备面团、包子等，早上直接蒸或炸。\\n\\n---\\n\\n如果你有特定的口味偏好（如素食、低糖、无麸质等），我也可以为你定制更合适的中式早餐方案哦！需要吗？', name=None, tool_call_id=None, tool_calls=None, audio=None, images=None, videos=None, files=None, audio_output=None, image_output=None, thinking=None, redacted_thinking=None, provider_data=None, citations=None, reasoning_content=None, tool_name=None, tool_args=None, tool_call_error=None, stop_after_tool_call=False, add_to_agent_memory=True, from_history=False, metrics=MessageMetrics(input_tokens=16, output_tokens=1147, total_tokens=1163, audio_tokens=0, input_audio_tokens=0, output_audio_tokens=0, cached_tokens=0, cache_write_tokens=0, reasoning_tokens=0, prompt_tokens=16, completion_tokens=1147, prompt_tokens_details=None, completion_tokens_details=None, additional_metrics=None, time=19.984204899985343, time_to_first_token=None, timer=<agno.utils.timer.Timer object at 0x00000133A3A208C0>), references=None, created_at=1748650092)]"
      ]
     },
     "execution_count": 40,
     "metadata": {},
     "output_type": "execute_result"
    }
   ],
   "source": [
    "response.messages"
   ]
  },
  {
   "cell_type": "code",
   "execution_count": 41,
   "id": "c5631eed",
   "metadata": {},
   "outputs": [],
   "source": [
    "response:RunResponse = agent.run(\"一天睡多少个小时\")"
   ]
  },
  {
   "cell_type": "code",
   "execution_count": 42,
   "id": "e3c24258",
   "metadata": {},
   "outputs": [
    {
     "data": {
      "text/plain": [
       "'一天应该睡**7到9个小时**，这是大多数健康成年人推荐的睡眠时长。不过，具体需要多少小时因人而异，取决于年龄、身体状况、生活方式等因素。\\n\\n### 不同年龄段的建议睡眠时间：\\n- **新生儿（0-3个月）**：14-17小时  \\n- **婴儿（4-11个月）**：12-15小时  \\n- **幼儿（1-2岁）**：11-14小时  \\n- **学龄前儿童（3-5岁）**：10-13小时  \\n- **学龄儿童（6-13岁）**：9-11小时  \\n- **青少年（14-17岁）**：8-10小时  \\n- **成年人（18-64岁）**：7-9小时  \\n- **老年人（65岁以上）**：7-8小时  \\n\\n### 为什么睡眠很重要？\\n- **身体修复**：睡眠有助于身体恢复和修复。\\n- **大脑功能**：睡眠对记忆巩固、学习能力和情绪调节非常重要。\\n- **免疫系统**：充足的睡眠可以增强免疫力，减少生病几率。\\n- **心理健康**：长期睡眠不足可能导致焦虑、抑郁等问题。\\n\\n### 注意：\\n- **不要强迫自己熬夜**，即使你感觉“不累”或“能坚持”，长期睡眠不足会影响健康。\\n- **质量比数量更重要**：如果你每天睡够时间但总是醒来感觉疲惫，可能是睡眠质量有问题（如睡眠呼吸暂停、失眠等）。\\n\\n如果你有睡眠问题，建议咨询医生或睡眠专家。'"
      ]
     },
     "execution_count": 42,
     "metadata": {},
     "output_type": "execute_result"
    }
   ],
   "source": [
    "response.content"
   ]
  },
  {
   "cell_type": "code",
   "execution_count": 43,
   "id": "7dc50675",
   "metadata": {},
   "outputs": [
    {
     "data": {
      "text/plain": [
       "[Message(role='user', content='一天睡多少个小时', name=None, tool_call_id=None, tool_calls=None, audio=None, images=None, videos=None, files=None, audio_output=None, image_output=None, thinking=None, redacted_thinking=None, provider_data=None, citations=None, reasoning_content=None, tool_name=None, tool_args=None, tool_call_error=None, stop_after_tool_call=False, add_to_agent_memory=True, from_history=False, metrics=MessageMetrics(input_tokens=0, output_tokens=0, total_tokens=0, audio_tokens=0, input_audio_tokens=0, output_audio_tokens=0, cached_tokens=0, cache_write_tokens=0, reasoning_tokens=0, prompt_tokens=0, completion_tokens=0, prompt_tokens_details=None, completion_tokens_details=None, additional_metrics=None, time=None, time_to_first_token=None, timer=None), references=None, created_at=1748650257),\n",
       " Message(role='assistant', content='一天应该睡**7到9个小时**，这是大多数健康成年人推荐的睡眠时长。不过，具体需要多少小时因人而异，取决于年龄、身体状况、生活方式等因素。\\n\\n### 不同年龄段的建议睡眠时间：\\n- **新生儿（0-3个月）**：14-17小时  \\n- **婴儿（4-11个月）**：12-15小时  \\n- **幼儿（1-2岁）**：11-14小时  \\n- **学龄前儿童（3-5岁）**：10-13小时  \\n- **学龄儿童（6-13岁）**：9-11小时  \\n- **青少年（14-17岁）**：8-10小时  \\n- **成年人（18-64岁）**：7-9小时  \\n- **老年人（65岁以上）**：7-8小时  \\n\\n### 为什么睡眠很重要？\\n- **身体修复**：睡眠有助于身体恢复和修复。\\n- **大脑功能**：睡眠对记忆巩固、学习能力和情绪调节非常重要。\\n- **免疫系统**：充足的睡眠可以增强免疫力，减少生病几率。\\n- **心理健康**：长期睡眠不足可能导致焦虑、抑郁等问题。\\n\\n### 注意：\\n- **不要强迫自己熬夜**，即使你感觉“不累”或“能坚持”，长期睡眠不足会影响健康。\\n- **质量比数量更重要**：如果你每天睡够时间但总是醒来感觉疲惫，可能是睡眠质量有问题（如睡眠呼吸暂停、失眠等）。\\n\\n如果你有睡眠问题，建议咨询医生或睡眠专家。', name=None, tool_call_id=None, tool_calls=None, audio=None, images=None, videos=None, files=None, audio_output=None, image_output=None, thinking=None, redacted_thinking=None, provider_data=None, citations=None, reasoning_content=None, tool_name=None, tool_args=None, tool_call_error=None, stop_after_tool_call=False, add_to_agent_memory=True, from_history=False, metrics=MessageMetrics(input_tokens=16, output_tokens=337, total_tokens=353, audio_tokens=0, input_audio_tokens=0, output_audio_tokens=0, cached_tokens=0, cache_write_tokens=0, reasoning_tokens=0, prompt_tokens=16, completion_tokens=337, prompt_tokens_details=None, completion_tokens_details=None, additional_metrics=None, time=7.034004399902187, time_to_first_token=None, timer=<agno.utils.timer.Timer object at 0x00000133A3A230E0>), references=None, created_at=1748650257)]"
      ]
     },
     "execution_count": 43,
     "metadata": {},
     "output_type": "execute_result"
    }
   ],
   "source": [
    "response.messages"
   ]
  },
  {
   "cell_type": "markdown",
   "id": "5aaf018e",
   "metadata": {},
   "source": [
    "## 2. Agent with history messages\n",
    "\n",
    "如果需要agent在连续的run中保持history messages，在agent初始化的时候设置add_history_messages=True即可，相当于自动化的append每一轮run的对话到历史记录中。"
   ]
  },
  {
   "cell_type": "code",
   "execution_count": 3,
   "id": "3c289ade",
   "metadata": {},
   "outputs": [],
   "source": [
    "agent_with_history_msg = Agent(model=OpenAILike(**settings),add_history_to_messages=True)"
   ]
  },
  {
   "cell_type": "code",
   "execution_count": 4,
   "id": "e3790c66",
   "metadata": {},
   "outputs": [
    {
     "name": "stdout",
     "output_type": "stream",
     "text": [
      "Response Content: 晨跑是一种非常受欢迎的锻炼方式，它不仅有助于身体健康，还能提升心理状态和生活质量。以下是晨跑的一些主要好处：\n",
      "\n",
      "---\n",
      "\n",
      "### 一、对身体的好处\n",
      "\n",
      "1. **增强心肺功能**  \n",
      "   晨跑可以提高心肺耐力，促进血液循环，增强心脏和肺部的功能。\n",
      "\n",
      "2. **帮助减肥与控制体重**  \n",
      "   晨跑是有效的有氧运动，能加速脂肪燃烧，有助于减少体脂，保持健康的体重。\n",
      "\n",
      "3. **改善新陈代谢**  \n",
      "   晨跑可以激活身体的新陈代谢，帮助身体更高效地消耗能量。\n",
      "\n",
      "4. **增强免疫力**  \n",
      "   适度的晨跑可以增强免疫系统，降低生病的风险。\n",
      "\n",
      "5. **改善睡眠质量**  \n",
      "   晨跑有助于调节生物钟，使人晚上更容易入睡，提高睡眠质量。\n",
      "\n",
      "6. **促进消化**  \n",
      "   晨跑可以刺激肠胃蠕动，帮助食物更好地消化吸收。\n",
      "\n",
      "---\n",
      "\n",
      "### 二、对心理的好处\n",
      "\n",
      "1. **提升情绪**  \n",
      "   晨跑时身体会分泌“内啡肽”（endorphins），这种物质能让人感到愉悦，缓解压力和焦虑。\n",
      "\n",
      "2. **增强专注力与记忆力**  \n",
      "   晨跑有助于大脑供氧，提升注意力和思维能力，有助于提高工作效率。\n",
      "\n",
      "3. **改善抑郁症状**  \n",
      "   研究表明，规律的晨跑可以帮助缓解轻度至中度的抑郁症状。\n",
      "\n",
      "4. **培养自律与坚持的习惯**  \n",
      "   每天早起跑步需要一定的毅力，长期坚持可以培养良好的生活习惯。\n",
      "\n",
      "---\n",
      "\n",
      "### 三、其他好处\n",
      "\n",
      "1. **提高一天的活力**  \n",
      "   晨跑后人会感觉精神焕发，更有精力应对一天的工作和生活。\n",
      "\n",
      "2. **增加社交机会**  \n",
      "   如果加入晨跑团体或俱乐部，可以结识志同道合的朋友，丰富社交生活。\n",
      "\n",
      "3. **节省时间**  \n",
      "   相比于去健身房，晨跑更加方便，不需要额外的时间和费用。\n",
      "\n",
      "---\n",
      "\n",
      "### 小贴士：如何开始晨跑\n",
      "\n",
      "- **循序渐进**：刚开始可以从快走或慢跑开始，逐渐增加强度和时间。\n",
      "- **注意热身**：跑步前做些拉伸运动，避免受伤。\n",
      "- **选择合适装备**：穿舒适的运动鞋和衣服，保护关节和皮肤。\n",
      "- **保持规律**：尽量每天固定时间跑步，形成习惯。\n",
      "\n",
      "---\n",
      "\n",
      "如果你刚开始尝试晨跑，建议从每周3-5次、每次20-30分钟开始，逐步适应后再增加强度和时间。希望你通过晨跑获得健康和快乐！💪🏃‍♂️\n"
     ]
    }
   ],
   "source": [
    "response = agent_with_history_msg.run('晨跑有哪些好处')\n",
    "print('Response Content:',response.content)"
   ]
  },
  {
   "cell_type": "code",
   "execution_count": 5,
   "id": "f0d77dd8",
   "metadata": {},
   "outputs": [
    {
     "data": {
      "text/plain": [
       "[Message(role='user', content='晨跑有哪些好处', name=None, tool_call_id=None, tool_calls=None, audio=None, images=None, videos=None, files=None, audio_output=None, image_output=None, thinking=None, redacted_thinking=None, provider_data=None, citations=None, reasoning_content=None, tool_name=None, tool_args=None, tool_call_error=None, stop_after_tool_call=False, add_to_agent_memory=True, from_history=False, metrics=MessageMetrics(input_tokens=0, output_tokens=0, total_tokens=0, audio_tokens=0, input_audio_tokens=0, output_audio_tokens=0, cached_tokens=0, cache_write_tokens=0, reasoning_tokens=0, prompt_tokens=0, completion_tokens=0, prompt_tokens_details=None, completion_tokens_details=None, additional_metrics=None, time=None, time_to_first_token=None, timer=None), references=None, created_at=1748657273),\n",
       " Message(role='assistant', content='晨跑是一种非常受欢迎的锻炼方式，它不仅有助于身体健康，还能提升心理状态和生活质量。以下是晨跑的一些主要好处：\\n\\n---\\n\\n### 一、对身体的好处\\n\\n1. **增强心肺功能**  \\n   晨跑可以提高心肺耐力，促进血液循环，增强心脏和肺部的功能。\\n\\n2. **帮助减肥与控制体重**  \\n   晨跑是有效的有氧运动，能加速脂肪燃烧，有助于减少体脂，保持健康的体重。\\n\\n3. **改善新陈代谢**  \\n   晨跑可以激活身体的新陈代谢，帮助身体更高效地消耗能量。\\n\\n4. **增强免疫力**  \\n   适度的晨跑可以增强免疫系统，降低生病的风险。\\n\\n5. **改善睡眠质量**  \\n   晨跑有助于调节生物钟，使人晚上更容易入睡，提高睡眠质量。\\n\\n6. **促进消化**  \\n   晨跑可以刺激肠胃蠕动，帮助食物更好地消化吸收。\\n\\n---\\n\\n### 二、对心理的好处\\n\\n1. **提升情绪**  \\n   晨跑时身体会分泌“内啡肽”（endorphins），这种物质能让人感到愉悦，缓解压力和焦虑。\\n\\n2. **增强专注力与记忆力**  \\n   晨跑有助于大脑供氧，提升注意力和思维能力，有助于提高工作效率。\\n\\n3. **改善抑郁症状**  \\n   研究表明，规律的晨跑可以帮助缓解轻度至中度的抑郁症状。\\n\\n4. **培养自律与坚持的习惯**  \\n   每天早起跑步需要一定的毅力，长期坚持可以培养良好的生活习惯。\\n\\n---\\n\\n### 三、其他好处\\n\\n1. **提高一天的活力**  \\n   晨跑后人会感觉精神焕发，更有精力应对一天的工作和生活。\\n\\n2. **增加社交机会**  \\n   如果加入晨跑团体或俱乐部，可以结识志同道合的朋友，丰富社交生活。\\n\\n3. **节省时间**  \\n   相比于去健身房，晨跑更加方便，不需要额外的时间和费用。\\n\\n---\\n\\n### 小贴士：如何开始晨跑\\n\\n- **循序渐进**：刚开始可以从快走或慢跑开始，逐渐增加强度和时间。\\n- **注意热身**：跑步前做些拉伸运动，避免受伤。\\n- **选择合适装备**：穿舒适的运动鞋和衣服，保护关节和皮肤。\\n- **保持规律**：尽量每天固定时间跑步，形成习惯。\\n\\n---\\n\\n如果你刚开始尝试晨跑，建议从每周3-5次、每次20-30分钟开始，逐步适应后再增加强度和时间。希望你通过晨跑获得健康和快乐！💪🏃\\u200d♂️', name=None, tool_call_id=None, tool_calls=None, audio=None, images=None, videos=None, files=None, audio_output=None, image_output=None, thinking=None, redacted_thinking=None, provider_data=None, citations=None, reasoning_content=None, tool_name=None, tool_args=None, tool_call_error=None, stop_after_tool_call=False, add_to_agent_memory=True, from_history=False, metrics=MessageMetrics(input_tokens=16, output_tokens=558, total_tokens=574, audio_tokens=0, input_audio_tokens=0, output_audio_tokens=0, cached_tokens=0, cache_write_tokens=0, reasoning_tokens=0, prompt_tokens=16, completion_tokens=558, prompt_tokens_details=None, completion_tokens_details=None, additional_metrics=None, time=10.714632299961522, time_to_first_token=None, timer=<agno.utils.timer.Timer object at 0x00000181DDAD97C0>), references=None, created_at=1748657273)]"
      ]
     },
     "execution_count": 5,
     "metadata": {},
     "output_type": "execute_result"
    }
   ],
   "source": [
    "response.messages"
   ]
  },
  {
   "cell_type": "code",
   "execution_count": 6,
   "id": "9478c040",
   "metadata": {},
   "outputs": [
    {
     "data": {
      "text/plain": [
       "'太好了！你已经了解了晨跑的好处，现在我们可以一步步来**规划你的晨跑计划**。下面是一个**适合初学者的晨跑入门指南**，帮助你顺利开始：\\n\\n---\\n\\n## 🚶\\u200d♂️ 一、准备工作\\n\\n### 1. **设定目标**\\n- 比如：每周3次、每次20分钟\\n- 或者：一个月内能连续跑5公里\\n- 目标要具体、可实现，逐步提升。\\n\\n### 2. **选择合适的装备**\\n- **运动鞋**：一定要穿专业的跑步鞋，保护脚踝和膝盖。\\n- **衣服**：根据天气选择透气、吸汗的衣服。\\n- **手表/手机**：可以用来计时或记录步数（如使用运动App）。\\n\\n### 3. **热身运动（非常重要！）**\\n- 跑前做5-10分钟的**动态拉伸**，比如：\\n  - 原地高抬腿\\n  - 开合跳\\n  - 手臂绕圈\\n  - 深蹲\\n- 避免静态拉伸（如压腿），容易受伤。\\n\\n---\\n\\n## 🏃\\u200d♀️ 二、开始晨跑的步骤\\n\\n### 第一步：从快走开始（适应期）\\n如果你是刚开始，建议先从**快走+慢跑交替**开始。\\n\\n#### 示例训练计划（第一周）：\\n| 时间 | 内容 |\\n|------|------|\\n| 第1天 | 快走10分钟 + 慢跑2分钟（重复3次） |\\n| 第2天 | 快走15分钟 |\\n| 第3天 | 快走10分钟 + 慢跑2分钟（重复3次） |\\n| 第4天 | 休息或拉伸 |\\n| 第5天 | 快走10分钟 + 慢跑3分钟（重复3次） |\\n| 第6天 | 快走15分钟 |\\n| 第7天 | 休息 |\\n\\n> ✅ 这个阶段主要是让身体适应运动，不要追求速度或距离。\\n\\n---\\n\\n### 第二步：逐渐过渡到连续跑步\\n当你可以轻松完成**快走+慢跑交替**后，就可以尝试**连续跑步**。\\n\\n#### 示例训练计划（第二周）：\\n| 时间 | 内容 |\\n|------|------|\\n| 第1天 | 慢跑10分钟 |\\n| 第2天 | 快走10分钟 + 慢跑5分钟 |\\n| 第3天 | 慢跑12分钟 |\\n| 第4天 | 休息 |\\n| 第5天 | 慢跑15分钟 |\\n| 第6天 | 快走10分钟 + 慢跑8分钟 |\\n| 第7天 | 休息 |\\n\\n> 💡 如果感觉累，可以适当减少时间，保持持续性更重要。\\n\\n---\\n\\n## 🕒 三、晨跑时间安排\\n\\n- **最佳时间**：早上**6:30~8:30之间**（阳光充足，空气清新）\\n- **注意事项**：\\n  - 不要在空腹或刚吃完饭就跑（建议饭后1小时再跑）\\n  - 晨跑前喝点水，但不要喝太多\\n  - 空气不好时（如雾霾天）尽量避免户外跑步\\n\\n---\\n\\n## 📱 四、使用工具辅助\\n\\n- **运动App**：如Keep、悦动圈、咕咚、Nike Run Club等\\n- **智能手表**：如Apple Watch、华为手表等，可以记录心率、步数、卡路里等数据\\n- **记录日志**：每天记录跑步时间、感受、体重变化等，有助于坚持和调整计划\\n\\n---\\n\\n## 🧠 五、如何坚持下去？\\n\\n1. **找一个跑步伙伴**：一起跑更容易坚持\\n2. **加入社群**：比如微信群、QQ群、跑步俱乐部等\\n3. **奖励自己**：达成目标后给自己小奖励（比如买新运动鞋）\\n4. **不要因为一次失败而放弃**：偶尔偷懒没关系，关键是长期坚持\\n\\n---\\n\\n## 🧘\\u200d♂️ 六、注意事项\\n\\n- **量力而行**：不要一开始就跑太远或太快，避免受伤\\n- **注意呼吸**：保持均匀呼吸，不要憋气\\n- **听从身体信号**：如果感到头晕、胸闷、疼痛，立刻停止并休息\\n- **跑后拉伸**：跑步后做5-10分钟的静态拉伸，放松肌肉\\n\\n---\\n\\n## 🎉 最后送你一句话：\\n\\n> “晨跑不是为了证明什么，而是为了让自己活得更健康、更有活力。”\\n\\n---\\n\\n如果你想，我还可以帮你制定一个**具体的每周晨跑计划表**，或者推荐一些**适合初学者的跑步App**。你希望我继续帮你吗？😊'"
      ]
     },
     "execution_count": 6,
     "metadata": {},
     "output_type": "execute_result"
    }
   ],
   "source": [
    "response = agent_with_history_msg.run('那我应该怎么做')\n",
    "response.content"
   ]
  },
  {
   "cell_type": "code",
   "execution_count": 7,
   "id": "30a6fe14",
   "metadata": {},
   "outputs": [
    {
     "data": {
      "text/plain": [
       "[Message(role='user', content='晨跑有哪些好处', name=None, tool_call_id=None, tool_calls=None, audio=None, images=None, videos=None, files=None, audio_output=None, image_output=None, thinking=None, redacted_thinking=None, provider_data=None, citations=None, reasoning_content=None, tool_name=None, tool_args=None, tool_call_error=None, stop_after_tool_call=False, add_to_agent_memory=True, from_history=True, metrics=MessageMetrics(input_tokens=0, output_tokens=0, total_tokens=0, audio_tokens=0, input_audio_tokens=0, output_audio_tokens=0, cached_tokens=0, cache_write_tokens=0, reasoning_tokens=0, prompt_tokens=0, completion_tokens=0, prompt_tokens_details=None, completion_tokens_details=None, additional_metrics=None, time=None, time_to_first_token=None, timer=None), references=None, created_at=1748657273),\n",
       " Message(role='assistant', content='晨跑是一种非常受欢迎的锻炼方式，它不仅有助于身体健康，还能提升心理状态和生活质量。以下是晨跑的一些主要好处：\\n\\n---\\n\\n### 一、对身体的好处\\n\\n1. **增强心肺功能**  \\n   晨跑可以提高心肺耐力，促进血液循环，增强心脏和肺部的功能。\\n\\n2. **帮助减肥与控制体重**  \\n   晨跑是有效的有氧运动，能加速脂肪燃烧，有助于减少体脂，保持健康的体重。\\n\\n3. **改善新陈代谢**  \\n   晨跑可以激活身体的新陈代谢，帮助身体更高效地消耗能量。\\n\\n4. **增强免疫力**  \\n   适度的晨跑可以增强免疫系统，降低生病的风险。\\n\\n5. **改善睡眠质量**  \\n   晨跑有助于调节生物钟，使人晚上更容易入睡，提高睡眠质量。\\n\\n6. **促进消化**  \\n   晨跑可以刺激肠胃蠕动，帮助食物更好地消化吸收。\\n\\n---\\n\\n### 二、对心理的好处\\n\\n1. **提升情绪**  \\n   晨跑时身体会分泌“内啡肽”（endorphins），这种物质能让人感到愉悦，缓解压力和焦虑。\\n\\n2. **增强专注力与记忆力**  \\n   晨跑有助于大脑供氧，提升注意力和思维能力，有助于提高工作效率。\\n\\n3. **改善抑郁症状**  \\n   研究表明，规律的晨跑可以帮助缓解轻度至中度的抑郁症状。\\n\\n4. **培养自律与坚持的习惯**  \\n   每天早起跑步需要一定的毅力，长期坚持可以培养良好的生活习惯。\\n\\n---\\n\\n### 三、其他好处\\n\\n1. **提高一天的活力**  \\n   晨跑后人会感觉精神焕发，更有精力应对一天的工作和生活。\\n\\n2. **增加社交机会**  \\n   如果加入晨跑团体或俱乐部，可以结识志同道合的朋友，丰富社交生活。\\n\\n3. **节省时间**  \\n   相比于去健身房，晨跑更加方便，不需要额外的时间和费用。\\n\\n---\\n\\n### 小贴士：如何开始晨跑\\n\\n- **循序渐进**：刚开始可以从快走或慢跑开始，逐渐增加强度和时间。\\n- **注意热身**：跑步前做些拉伸运动，避免受伤。\\n- **选择合适装备**：穿舒适的运动鞋和衣服，保护关节和皮肤。\\n- **保持规律**：尽量每天固定时间跑步，形成习惯。\\n\\n---\\n\\n如果你刚开始尝试晨跑，建议从每周3-5次、每次20-30分钟开始，逐步适应后再增加强度和时间。希望你通过晨跑获得健康和快乐！💪🏃\\u200d♂️', name=None, tool_call_id=None, tool_calls=None, audio=None, images=None, videos=None, files=None, audio_output=None, image_output=None, thinking=None, redacted_thinking=None, provider_data=None, citations=None, reasoning_content=None, tool_name=None, tool_args=None, tool_call_error=None, stop_after_tool_call=False, add_to_agent_memory=True, from_history=True, metrics=MessageMetrics(input_tokens=16, output_tokens=558, total_tokens=574, audio_tokens=0, input_audio_tokens=0, output_audio_tokens=0, cached_tokens=0, cache_write_tokens=0, reasoning_tokens=0, prompt_tokens=16, completion_tokens=558, prompt_tokens_details=None, completion_tokens_details=None, additional_metrics=None, time=10.714632299961522, time_to_first_token=None, timer=<agno.utils.timer.Timer object at 0x00000181DDBDF3B0>), references=None, created_at=1748657273),\n",
       " Message(role='user', content='那我应该怎么做', name=None, tool_call_id=None, tool_calls=None, audio=None, images=None, videos=None, files=None, audio_output=None, image_output=None, thinking=None, redacted_thinking=None, provider_data=None, citations=None, reasoning_content=None, tool_name=None, tool_args=None, tool_call_error=None, stop_after_tool_call=False, add_to_agent_memory=True, from_history=False, metrics=MessageMetrics(input_tokens=0, output_tokens=0, total_tokens=0, audio_tokens=0, input_audio_tokens=0, output_audio_tokens=0, cached_tokens=0, cache_write_tokens=0, reasoning_tokens=0, prompt_tokens=0, completion_tokens=0, prompt_tokens_details=None, completion_tokens_details=None, additional_metrics=None, time=None, time_to_first_token=None, timer=None), references=None, created_at=1748657303),\n",
       " Message(role='assistant', content='太好了！你已经了解了晨跑的好处，现在我们可以一步步来**规划你的晨跑计划**。下面是一个**适合初学者的晨跑入门指南**，帮助你顺利开始：\\n\\n---\\n\\n## 🚶\\u200d♂️ 一、准备工作\\n\\n### 1. **设定目标**\\n- 比如：每周3次、每次20分钟\\n- 或者：一个月内能连续跑5公里\\n- 目标要具体、可实现，逐步提升。\\n\\n### 2. **选择合适的装备**\\n- **运动鞋**：一定要穿专业的跑步鞋，保护脚踝和膝盖。\\n- **衣服**：根据天气选择透气、吸汗的衣服。\\n- **手表/手机**：可以用来计时或记录步数（如使用运动App）。\\n\\n### 3. **热身运动（非常重要！）**\\n- 跑前做5-10分钟的**动态拉伸**，比如：\\n  - 原地高抬腿\\n  - 开合跳\\n  - 手臂绕圈\\n  - 深蹲\\n- 避免静态拉伸（如压腿），容易受伤。\\n\\n---\\n\\n## 🏃\\u200d♀️ 二、开始晨跑的步骤\\n\\n### 第一步：从快走开始（适应期）\\n如果你是刚开始，建议先从**快走+慢跑交替**开始。\\n\\n#### 示例训练计划（第一周）：\\n| 时间 | 内容 |\\n|------|------|\\n| 第1天 | 快走10分钟 + 慢跑2分钟（重复3次） |\\n| 第2天 | 快走15分钟 |\\n| 第3天 | 快走10分钟 + 慢跑2分钟（重复3次） |\\n| 第4天 | 休息或拉伸 |\\n| 第5天 | 快走10分钟 + 慢跑3分钟（重复3次） |\\n| 第6天 | 快走15分钟 |\\n| 第7天 | 休息 |\\n\\n> ✅ 这个阶段主要是让身体适应运动，不要追求速度或距离。\\n\\n---\\n\\n### 第二步：逐渐过渡到连续跑步\\n当你可以轻松完成**快走+慢跑交替**后，就可以尝试**连续跑步**。\\n\\n#### 示例训练计划（第二周）：\\n| 时间 | 内容 |\\n|------|------|\\n| 第1天 | 慢跑10分钟 |\\n| 第2天 | 快走10分钟 + 慢跑5分钟 |\\n| 第3天 | 慢跑12分钟 |\\n| 第4天 | 休息 |\\n| 第5天 | 慢跑15分钟 |\\n| 第6天 | 快走10分钟 + 慢跑8分钟 |\\n| 第7天 | 休息 |\\n\\n> 💡 如果感觉累，可以适当减少时间，保持持续性更重要。\\n\\n---\\n\\n## 🕒 三、晨跑时间安排\\n\\n- **最佳时间**：早上**6:30~8:30之间**（阳光充足，空气清新）\\n- **注意事项**：\\n  - 不要在空腹或刚吃完饭就跑（建议饭后1小时再跑）\\n  - 晨跑前喝点水，但不要喝太多\\n  - 空气不好时（如雾霾天）尽量避免户外跑步\\n\\n---\\n\\n## 📱 四、使用工具辅助\\n\\n- **运动App**：如Keep、悦动圈、咕咚、Nike Run Club等\\n- **智能手表**：如Apple Watch、华为手表等，可以记录心率、步数、卡路里等数据\\n- **记录日志**：每天记录跑步时间、感受、体重变化等，有助于坚持和调整计划\\n\\n---\\n\\n## 🧠 五、如何坚持下去？\\n\\n1. **找一个跑步伙伴**：一起跑更容易坚持\\n2. **加入社群**：比如微信群、QQ群、跑步俱乐部等\\n3. **奖励自己**：达成目标后给自己小奖励（比如买新运动鞋）\\n4. **不要因为一次失败而放弃**：偶尔偷懒没关系，关键是长期坚持\\n\\n---\\n\\n## 🧘\\u200d♂️ 六、注意事项\\n\\n- **量力而行**：不要一开始就跑太远或太快，避免受伤\\n- **注意呼吸**：保持均匀呼吸，不要憋气\\n- **听从身体信号**：如果感到头晕、胸闷、疼痛，立刻停止并休息\\n- **跑后拉伸**：跑步后做5-10分钟的静态拉伸，放松肌肉\\n\\n---\\n\\n## 🎉 最后送你一句话：\\n\\n> “晨跑不是为了证明什么，而是为了让自己活得更健康、更有活力。”\\n\\n---\\n\\n如果你想，我还可以帮你制定一个**具体的每周晨跑计划表**，或者推荐一些**适合初学者的跑步App**。你希望我继续帮你吗？😊', name=None, tool_call_id=None, tool_calls=None, audio=None, images=None, videos=None, files=None, audio_output=None, image_output=None, thinking=None, redacted_thinking=None, provider_data=None, citations=None, reasoning_content=None, tool_name=None, tool_args=None, tool_call_error=None, stop_after_tool_call=False, add_to_agent_memory=True, from_history=False, metrics=MessageMetrics(input_tokens=588, output_tokens=1038, total_tokens=1626, audio_tokens=0, input_audio_tokens=0, output_audio_tokens=0, cached_tokens=0, cache_write_tokens=0, reasoning_tokens=0, prompt_tokens=588, completion_tokens=1038, prompt_tokens_details=None, completion_tokens_details=None, additional_metrics=None, time=20.983669199980795, time_to_first_token=None, timer=<agno.utils.timer.Timer object at 0x00000181DCA65730>), references=None, created_at=1748657303)]"
      ]
     },
     "execution_count": 7,
     "metadata": {},
     "output_type": "execute_result"
    }
   ],
   "source": [
    "response.messages"
   ]
  },
  {
   "cell_type": "code",
   "execution_count": 8,
   "id": "39e8aac8",
   "metadata": {},
   "outputs": [
    {
     "data": {
      "text/plain": [
       "'最佳晨跑时间是早上 **6:30~8:30**。'"
      ]
     },
     "execution_count": 8,
     "metadata": {},
     "output_type": "execute_result"
    }
   ],
   "source": [
    "response = agent_with_history_msg.run('最佳晨跑时间是几点，简短回答')\n",
    "response.content"
   ]
  },
  {
   "cell_type": "code",
   "execution_count": 9,
   "id": "63c163e2",
   "metadata": {},
   "outputs": [
    {
     "data": {
      "text/plain": [
       "[Message(role='user', content='晨跑有哪些好处', name=None, tool_call_id=None, tool_calls=None, audio=None, images=None, videos=None, files=None, audio_output=None, image_output=None, thinking=None, redacted_thinking=None, provider_data=None, citations=None, reasoning_content=None, tool_name=None, tool_args=None, tool_call_error=None, stop_after_tool_call=False, add_to_agent_memory=True, from_history=True, metrics=MessageMetrics(input_tokens=0, output_tokens=0, total_tokens=0, audio_tokens=0, input_audio_tokens=0, output_audio_tokens=0, cached_tokens=0, cache_write_tokens=0, reasoning_tokens=0, prompt_tokens=0, completion_tokens=0, prompt_tokens_details=None, completion_tokens_details=None, additional_metrics=None, time=None, time_to_first_token=None, timer=None), references=None, created_at=1748657273),\n",
       " Message(role='assistant', content='晨跑是一种非常受欢迎的锻炼方式，它不仅有助于身体健康，还能提升心理状态和生活质量。以下是晨跑的一些主要好处：\\n\\n---\\n\\n### 一、对身体的好处\\n\\n1. **增强心肺功能**  \\n   晨跑可以提高心肺耐力，促进血液循环，增强心脏和肺部的功能。\\n\\n2. **帮助减肥与控制体重**  \\n   晨跑是有效的有氧运动，能加速脂肪燃烧，有助于减少体脂，保持健康的体重。\\n\\n3. **改善新陈代谢**  \\n   晨跑可以激活身体的新陈代谢，帮助身体更高效地消耗能量。\\n\\n4. **增强免疫力**  \\n   适度的晨跑可以增强免疫系统，降低生病的风险。\\n\\n5. **改善睡眠质量**  \\n   晨跑有助于调节生物钟，使人晚上更容易入睡，提高睡眠质量。\\n\\n6. **促进消化**  \\n   晨跑可以刺激肠胃蠕动，帮助食物更好地消化吸收。\\n\\n---\\n\\n### 二、对心理的好处\\n\\n1. **提升情绪**  \\n   晨跑时身体会分泌“内啡肽”（endorphins），这种物质能让人感到愉悦，缓解压力和焦虑。\\n\\n2. **增强专注力与记忆力**  \\n   晨跑有助于大脑供氧，提升注意力和思维能力，有助于提高工作效率。\\n\\n3. **改善抑郁症状**  \\n   研究表明，规律的晨跑可以帮助缓解轻度至中度的抑郁症状。\\n\\n4. **培养自律与坚持的习惯**  \\n   每天早起跑步需要一定的毅力，长期坚持可以培养良好的生活习惯。\\n\\n---\\n\\n### 三、其他好处\\n\\n1. **提高一天的活力**  \\n   晨跑后人会感觉精神焕发，更有精力应对一天的工作和生活。\\n\\n2. **增加社交机会**  \\n   如果加入晨跑团体或俱乐部，可以结识志同道合的朋友，丰富社交生活。\\n\\n3. **节省时间**  \\n   相比于去健身房，晨跑更加方便，不需要额外的时间和费用。\\n\\n---\\n\\n### 小贴士：如何开始晨跑\\n\\n- **循序渐进**：刚开始可以从快走或慢跑开始，逐渐增加强度和时间。\\n- **注意热身**：跑步前做些拉伸运动，避免受伤。\\n- **选择合适装备**：穿舒适的运动鞋和衣服，保护关节和皮肤。\\n- **保持规律**：尽量每天固定时间跑步，形成习惯。\\n\\n---\\n\\n如果你刚开始尝试晨跑，建议从每周3-5次、每次20-30分钟开始，逐步适应后再增加强度和时间。希望你通过晨跑获得健康和快乐！💪🏃\\u200d♂️', name=None, tool_call_id=None, tool_calls=None, audio=None, images=None, videos=None, files=None, audio_output=None, image_output=None, thinking=None, redacted_thinking=None, provider_data=None, citations=None, reasoning_content=None, tool_name=None, tool_args=None, tool_call_error=None, stop_after_tool_call=False, add_to_agent_memory=True, from_history=True, metrics=MessageMetrics(input_tokens=16, output_tokens=558, total_tokens=574, audio_tokens=0, input_audio_tokens=0, output_audio_tokens=0, cached_tokens=0, cache_write_tokens=0, reasoning_tokens=0, prompt_tokens=16, completion_tokens=558, prompt_tokens_details=None, completion_tokens_details=None, additional_metrics=None, time=10.714632299961522, time_to_first_token=None, timer=<agno.utils.timer.Timer object at 0x00000181DDBA2630>), references=None, created_at=1748657273),\n",
       " Message(role='user', content='那我应该怎么做', name=None, tool_call_id=None, tool_calls=None, audio=None, images=None, videos=None, files=None, audio_output=None, image_output=None, thinking=None, redacted_thinking=None, provider_data=None, citations=None, reasoning_content=None, tool_name=None, tool_args=None, tool_call_error=None, stop_after_tool_call=False, add_to_agent_memory=True, from_history=True, metrics=MessageMetrics(input_tokens=0, output_tokens=0, total_tokens=0, audio_tokens=0, input_audio_tokens=0, output_audio_tokens=0, cached_tokens=0, cache_write_tokens=0, reasoning_tokens=0, prompt_tokens=0, completion_tokens=0, prompt_tokens_details=None, completion_tokens_details=None, additional_metrics=None, time=None, time_to_first_token=None, timer=None), references=None, created_at=1748657303),\n",
       " Message(role='assistant', content='太好了！你已经了解了晨跑的好处，现在我们可以一步步来**规划你的晨跑计划**。下面是一个**适合初学者的晨跑入门指南**，帮助你顺利开始：\\n\\n---\\n\\n## 🚶\\u200d♂️ 一、准备工作\\n\\n### 1. **设定目标**\\n- 比如：每周3次、每次20分钟\\n- 或者：一个月内能连续跑5公里\\n- 目标要具体、可实现，逐步提升。\\n\\n### 2. **选择合适的装备**\\n- **运动鞋**：一定要穿专业的跑步鞋，保护脚踝和膝盖。\\n- **衣服**：根据天气选择透气、吸汗的衣服。\\n- **手表/手机**：可以用来计时或记录步数（如使用运动App）。\\n\\n### 3. **热身运动（非常重要！）**\\n- 跑前做5-10分钟的**动态拉伸**，比如：\\n  - 原地高抬腿\\n  - 开合跳\\n  - 手臂绕圈\\n  - 深蹲\\n- 避免静态拉伸（如压腿），容易受伤。\\n\\n---\\n\\n## 🏃\\u200d♀️ 二、开始晨跑的步骤\\n\\n### 第一步：从快走开始（适应期）\\n如果你是刚开始，建议先从**快走+慢跑交替**开始。\\n\\n#### 示例训练计划（第一周）：\\n| 时间 | 内容 |\\n|------|------|\\n| 第1天 | 快走10分钟 + 慢跑2分钟（重复3次） |\\n| 第2天 | 快走15分钟 |\\n| 第3天 | 快走10分钟 + 慢跑2分钟（重复3次） |\\n| 第4天 | 休息或拉伸 |\\n| 第5天 | 快走10分钟 + 慢跑3分钟（重复3次） |\\n| 第6天 | 快走15分钟 |\\n| 第7天 | 休息 |\\n\\n> ✅ 这个阶段主要是让身体适应运动，不要追求速度或距离。\\n\\n---\\n\\n### 第二步：逐渐过渡到连续跑步\\n当你可以轻松完成**快走+慢跑交替**后，就可以尝试**连续跑步**。\\n\\n#### 示例训练计划（第二周）：\\n| 时间 | 内容 |\\n|------|------|\\n| 第1天 | 慢跑10分钟 |\\n| 第2天 | 快走10分钟 + 慢跑5分钟 |\\n| 第3天 | 慢跑12分钟 |\\n| 第4天 | 休息 |\\n| 第5天 | 慢跑15分钟 |\\n| 第6天 | 快走10分钟 + 慢跑8分钟 |\\n| 第7天 | 休息 |\\n\\n> 💡 如果感觉累，可以适当减少时间，保持持续性更重要。\\n\\n---\\n\\n## 🕒 三、晨跑时间安排\\n\\n- **最佳时间**：早上**6:30~8:30之间**（阳光充足，空气清新）\\n- **注意事项**：\\n  - 不要在空腹或刚吃完饭就跑（建议饭后1小时再跑）\\n  - 晨跑前喝点水，但不要喝太多\\n  - 空气不好时（如雾霾天）尽量避免户外跑步\\n\\n---\\n\\n## 📱 四、使用工具辅助\\n\\n- **运动App**：如Keep、悦动圈、咕咚、Nike Run Club等\\n- **智能手表**：如Apple Watch、华为手表等，可以记录心率、步数、卡路里等数据\\n- **记录日志**：每天记录跑步时间、感受、体重变化等，有助于坚持和调整计划\\n\\n---\\n\\n## 🧠 五、如何坚持下去？\\n\\n1. **找一个跑步伙伴**：一起跑更容易坚持\\n2. **加入社群**：比如微信群、QQ群、跑步俱乐部等\\n3. **奖励自己**：达成目标后给自己小奖励（比如买新运动鞋）\\n4. **不要因为一次失败而放弃**：偶尔偷懒没关系，关键是长期坚持\\n\\n---\\n\\n## 🧘\\u200d♂️ 六、注意事项\\n\\n- **量力而行**：不要一开始就跑太远或太快，避免受伤\\n- **注意呼吸**：保持均匀呼吸，不要憋气\\n- **听从身体信号**：如果感到头晕、胸闷、疼痛，立刻停止并休息\\n- **跑后拉伸**：跑步后做5-10分钟的静态拉伸，放松肌肉\\n\\n---\\n\\n## 🎉 最后送你一句话：\\n\\n> “晨跑不是为了证明什么，而是为了让自己活得更健康、更有活力。”\\n\\n---\\n\\n如果你想，我还可以帮你制定一个**具体的每周晨跑计划表**，或者推荐一些**适合初学者的跑步App**。你希望我继续帮你吗？😊', name=None, tool_call_id=None, tool_calls=None, audio=None, images=None, videos=None, files=None, audio_output=None, image_output=None, thinking=None, redacted_thinking=None, provider_data=None, citations=None, reasoning_content=None, tool_name=None, tool_args=None, tool_call_error=None, stop_after_tool_call=False, add_to_agent_memory=True, from_history=True, metrics=MessageMetrics(input_tokens=588, output_tokens=1038, total_tokens=1626, audio_tokens=0, input_audio_tokens=0, output_audio_tokens=0, cached_tokens=0, cache_write_tokens=0, reasoning_tokens=0, prompt_tokens=588, completion_tokens=1038, prompt_tokens_details=None, completion_tokens_details=None, additional_metrics=None, time=20.983669199980795, time_to_first_token=None, timer=<agno.utils.timer.Timer object at 0x00000181DDBA0950>), references=None, created_at=1748657303),\n",
       " Message(role='user', content='最佳晨跑时间是几点，简短回答', name=None, tool_call_id=None, tool_calls=None, audio=None, images=None, videos=None, files=None, audio_output=None, image_output=None, thinking=None, redacted_thinking=None, provider_data=None, citations=None, reasoning_content=None, tool_name=None, tool_args=None, tool_call_error=None, stop_after_tool_call=False, add_to_agent_memory=True, from_history=False, metrics=MessageMetrics(input_tokens=0, output_tokens=0, total_tokens=0, audio_tokens=0, input_audio_tokens=0, output_audio_tokens=0, cached_tokens=0, cache_write_tokens=0, reasoning_tokens=0, prompt_tokens=0, completion_tokens=0, prompt_tokens_details=None, completion_tokens_details=None, additional_metrics=None, time=None, time_to_first_token=None, timer=None), references=None, created_at=1748657361),\n",
       " Message(role='assistant', content='最佳晨跑时间是早上 **6:30~8:30**。', name=None, tool_call_id=None, tool_calls=None, audio=None, images=None, videos=None, files=None, audio_output=None, image_output=None, thinking=None, redacted_thinking=None, provider_data=None, citations=None, reasoning_content=None, tool_name=None, tool_args=None, tool_call_error=None, stop_after_tool_call=False, add_to_agent_memory=True, from_history=False, metrics=MessageMetrics(input_tokens=1646, output_tokens=18, total_tokens=1664, audio_tokens=0, input_audio_tokens=0, output_audio_tokens=0, cached_tokens=0, cache_write_tokens=0, reasoning_tokens=0, prompt_tokens=1646, completion_tokens=18, prompt_tokens_details=None, completion_tokens_details=None, additional_metrics=None, time=2.9338579999748617, time_to_first_token=None, timer=<agno.utils.timer.Timer object at 0x00000181DDB6EE40>), references=None, created_at=1748657361)]"
      ]
     },
     "execution_count": 9,
     "metadata": {},
     "output_type": "execute_result"
    }
   ],
   "source": [
    "response.messages"
   ]
  },
  {
   "cell_type": "code",
   "execution_count": 10,
   "id": "732d4d1c",
   "metadata": {},
   "outputs": [
    {
     "data": {
      "text/plain": [
       "'最佳午跑时间是 **12:00~14:00**。'"
      ]
     },
     "execution_count": 10,
     "metadata": {},
     "output_type": "execute_result"
    }
   ],
   "source": [
    "response = agent_with_history_msg.run('最佳午跑时间是几点，简短回答')\n",
    "response.content"
   ]
  },
  {
   "cell_type": "code",
   "execution_count": 11,
   "id": "e952202c",
   "metadata": {},
   "outputs": [
    {
     "data": {
      "text/plain": [
       "[Message(role='user', content='晨跑有哪些好处', name=None, tool_call_id=None, tool_calls=None, audio=None, images=None, videos=None, files=None, audio_output=None, image_output=None, thinking=None, redacted_thinking=None, provider_data=None, citations=None, reasoning_content=None, tool_name=None, tool_args=None, tool_call_error=None, stop_after_tool_call=False, add_to_agent_memory=True, from_history=True, metrics=MessageMetrics(input_tokens=0, output_tokens=0, total_tokens=0, audio_tokens=0, input_audio_tokens=0, output_audio_tokens=0, cached_tokens=0, cache_write_tokens=0, reasoning_tokens=0, prompt_tokens=0, completion_tokens=0, prompt_tokens_details=None, completion_tokens_details=None, additional_metrics=None, time=None, time_to_first_token=None, timer=None), references=None, created_at=1748657273),\n",
       " Message(role='assistant', content='晨跑是一种非常受欢迎的锻炼方式，它不仅有助于身体健康，还能提升心理状态和生活质量。以下是晨跑的一些主要好处：\\n\\n---\\n\\n### 一、对身体的好处\\n\\n1. **增强心肺功能**  \\n   晨跑可以提高心肺耐力，促进血液循环，增强心脏和肺部的功能。\\n\\n2. **帮助减肥与控制体重**  \\n   晨跑是有效的有氧运动，能加速脂肪燃烧，有助于减少体脂，保持健康的体重。\\n\\n3. **改善新陈代谢**  \\n   晨跑可以激活身体的新陈代谢，帮助身体更高效地消耗能量。\\n\\n4. **增强免疫力**  \\n   适度的晨跑可以增强免疫系统，降低生病的风险。\\n\\n5. **改善睡眠质量**  \\n   晨跑有助于调节生物钟，使人晚上更容易入睡，提高睡眠质量。\\n\\n6. **促进消化**  \\n   晨跑可以刺激肠胃蠕动，帮助食物更好地消化吸收。\\n\\n---\\n\\n### 二、对心理的好处\\n\\n1. **提升情绪**  \\n   晨跑时身体会分泌“内啡肽”（endorphins），这种物质能让人感到愉悦，缓解压力和焦虑。\\n\\n2. **增强专注力与记忆力**  \\n   晨跑有助于大脑供氧，提升注意力和思维能力，有助于提高工作效率。\\n\\n3. **改善抑郁症状**  \\n   研究表明，规律的晨跑可以帮助缓解轻度至中度的抑郁症状。\\n\\n4. **培养自律与坚持的习惯**  \\n   每天早起跑步需要一定的毅力，长期坚持可以培养良好的生活习惯。\\n\\n---\\n\\n### 三、其他好处\\n\\n1. **提高一天的活力**  \\n   晨跑后人会感觉精神焕发，更有精力应对一天的工作和生活。\\n\\n2. **增加社交机会**  \\n   如果加入晨跑团体或俱乐部，可以结识志同道合的朋友，丰富社交生活。\\n\\n3. **节省时间**  \\n   相比于去健身房，晨跑更加方便，不需要额外的时间和费用。\\n\\n---\\n\\n### 小贴士：如何开始晨跑\\n\\n- **循序渐进**：刚开始可以从快走或慢跑开始，逐渐增加强度和时间。\\n- **注意热身**：跑步前做些拉伸运动，避免受伤。\\n- **选择合适装备**：穿舒适的运动鞋和衣服，保护关节和皮肤。\\n- **保持规律**：尽量每天固定时间跑步，形成习惯。\\n\\n---\\n\\n如果你刚开始尝试晨跑，建议从每周3-5次、每次20-30分钟开始，逐步适应后再增加强度和时间。希望你通过晨跑获得健康和快乐！💪🏃\\u200d♂️', name=None, tool_call_id=None, tool_calls=None, audio=None, images=None, videos=None, files=None, audio_output=None, image_output=None, thinking=None, redacted_thinking=None, provider_data=None, citations=None, reasoning_content=None, tool_name=None, tool_args=None, tool_call_error=None, stop_after_tool_call=False, add_to_agent_memory=True, from_history=True, metrics=MessageMetrics(input_tokens=16, output_tokens=558, total_tokens=574, audio_tokens=0, input_audio_tokens=0, output_audio_tokens=0, cached_tokens=0, cache_write_tokens=0, reasoning_tokens=0, prompt_tokens=16, completion_tokens=558, prompt_tokens_details=None, completion_tokens_details=None, additional_metrics=None, time=10.714632299961522, time_to_first_token=None, timer=<agno.utils.timer.Timer object at 0x00000181DDBDF470>), references=None, created_at=1748657273),\n",
       " Message(role='user', content='那我应该怎么做', name=None, tool_call_id=None, tool_calls=None, audio=None, images=None, videos=None, files=None, audio_output=None, image_output=None, thinking=None, redacted_thinking=None, provider_data=None, citations=None, reasoning_content=None, tool_name=None, tool_args=None, tool_call_error=None, stop_after_tool_call=False, add_to_agent_memory=True, from_history=True, metrics=MessageMetrics(input_tokens=0, output_tokens=0, total_tokens=0, audio_tokens=0, input_audio_tokens=0, output_audio_tokens=0, cached_tokens=0, cache_write_tokens=0, reasoning_tokens=0, prompt_tokens=0, completion_tokens=0, prompt_tokens_details=None, completion_tokens_details=None, additional_metrics=None, time=None, time_to_first_token=None, timer=None), references=None, created_at=1748657303),\n",
       " Message(role='assistant', content='太好了！你已经了解了晨跑的好处，现在我们可以一步步来**规划你的晨跑计划**。下面是一个**适合初学者的晨跑入门指南**，帮助你顺利开始：\\n\\n---\\n\\n## 🚶\\u200d♂️ 一、准备工作\\n\\n### 1. **设定目标**\\n- 比如：每周3次、每次20分钟\\n- 或者：一个月内能连续跑5公里\\n- 目标要具体、可实现，逐步提升。\\n\\n### 2. **选择合适的装备**\\n- **运动鞋**：一定要穿专业的跑步鞋，保护脚踝和膝盖。\\n- **衣服**：根据天气选择透气、吸汗的衣服。\\n- **手表/手机**：可以用来计时或记录步数（如使用运动App）。\\n\\n### 3. **热身运动（非常重要！）**\\n- 跑前做5-10分钟的**动态拉伸**，比如：\\n  - 原地高抬腿\\n  - 开合跳\\n  - 手臂绕圈\\n  - 深蹲\\n- 避免静态拉伸（如压腿），容易受伤。\\n\\n---\\n\\n## 🏃\\u200d♀️ 二、开始晨跑的步骤\\n\\n### 第一步：从快走开始（适应期）\\n如果你是刚开始，建议先从**快走+慢跑交替**开始。\\n\\n#### 示例训练计划（第一周）：\\n| 时间 | 内容 |\\n|------|------|\\n| 第1天 | 快走10分钟 + 慢跑2分钟（重复3次） |\\n| 第2天 | 快走15分钟 |\\n| 第3天 | 快走10分钟 + 慢跑2分钟（重复3次） |\\n| 第4天 | 休息或拉伸 |\\n| 第5天 | 快走10分钟 + 慢跑3分钟（重复3次） |\\n| 第6天 | 快走15分钟 |\\n| 第7天 | 休息 |\\n\\n> ✅ 这个阶段主要是让身体适应运动，不要追求速度或距离。\\n\\n---\\n\\n### 第二步：逐渐过渡到连续跑步\\n当你可以轻松完成**快走+慢跑交替**后，就可以尝试**连续跑步**。\\n\\n#### 示例训练计划（第二周）：\\n| 时间 | 内容 |\\n|------|------|\\n| 第1天 | 慢跑10分钟 |\\n| 第2天 | 快走10分钟 + 慢跑5分钟 |\\n| 第3天 | 慢跑12分钟 |\\n| 第4天 | 休息 |\\n| 第5天 | 慢跑15分钟 |\\n| 第6天 | 快走10分钟 + 慢跑8分钟 |\\n| 第7天 | 休息 |\\n\\n> 💡 如果感觉累，可以适当减少时间，保持持续性更重要。\\n\\n---\\n\\n## 🕒 三、晨跑时间安排\\n\\n- **最佳时间**：早上**6:30~8:30之间**（阳光充足，空气清新）\\n- **注意事项**：\\n  - 不要在空腹或刚吃完饭就跑（建议饭后1小时再跑）\\n  - 晨跑前喝点水，但不要喝太多\\n  - 空气不好时（如雾霾天）尽量避免户外跑步\\n\\n---\\n\\n## 📱 四、使用工具辅助\\n\\n- **运动App**：如Keep、悦动圈、咕咚、Nike Run Club等\\n- **智能手表**：如Apple Watch、华为手表等，可以记录心率、步数、卡路里等数据\\n- **记录日志**：每天记录跑步时间、感受、体重变化等，有助于坚持和调整计划\\n\\n---\\n\\n## 🧠 五、如何坚持下去？\\n\\n1. **找一个跑步伙伴**：一起跑更容易坚持\\n2. **加入社群**：比如微信群、QQ群、跑步俱乐部等\\n3. **奖励自己**：达成目标后给自己小奖励（比如买新运动鞋）\\n4. **不要因为一次失败而放弃**：偶尔偷懒没关系，关键是长期坚持\\n\\n---\\n\\n## 🧘\\u200d♂️ 六、注意事项\\n\\n- **量力而行**：不要一开始就跑太远或太快，避免受伤\\n- **注意呼吸**：保持均匀呼吸，不要憋气\\n- **听从身体信号**：如果感到头晕、胸闷、疼痛，立刻停止并休息\\n- **跑后拉伸**：跑步后做5-10分钟的静态拉伸，放松肌肉\\n\\n---\\n\\n## 🎉 最后送你一句话：\\n\\n> “晨跑不是为了证明什么，而是为了让自己活得更健康、更有活力。”\\n\\n---\\n\\n如果你想，我还可以帮你制定一个**具体的每周晨跑计划表**，或者推荐一些**适合初学者的跑步App**。你希望我继续帮你吗？😊', name=None, tool_call_id=None, tool_calls=None, audio=None, images=None, videos=None, files=None, audio_output=None, image_output=None, thinking=None, redacted_thinking=None, provider_data=None, citations=None, reasoning_content=None, tool_name=None, tool_args=None, tool_call_error=None, stop_after_tool_call=False, add_to_agent_memory=True, from_history=True, metrics=MessageMetrics(input_tokens=588, output_tokens=1038, total_tokens=1626, audio_tokens=0, input_audio_tokens=0, output_audio_tokens=0, cached_tokens=0, cache_write_tokens=0, reasoning_tokens=0, prompt_tokens=588, completion_tokens=1038, prompt_tokens_details=None, completion_tokens_details=None, additional_metrics=None, time=20.983669199980795, time_to_first_token=None, timer=<agno.utils.timer.Timer object at 0x00000181DDBDF200>), references=None, created_at=1748657303),\n",
       " Message(role='user', content='最佳晨跑时间是几点，简短回答', name=None, tool_call_id=None, tool_calls=None, audio=None, images=None, videos=None, files=None, audio_output=None, image_output=None, thinking=None, redacted_thinking=None, provider_data=None, citations=None, reasoning_content=None, tool_name=None, tool_args=None, tool_call_error=None, stop_after_tool_call=False, add_to_agent_memory=True, from_history=True, metrics=MessageMetrics(input_tokens=0, output_tokens=0, total_tokens=0, audio_tokens=0, input_audio_tokens=0, output_audio_tokens=0, cached_tokens=0, cache_write_tokens=0, reasoning_tokens=0, prompt_tokens=0, completion_tokens=0, prompt_tokens_details=None, completion_tokens_details=None, additional_metrics=None, time=None, time_to_first_token=None, timer=None), references=None, created_at=1748657361),\n",
       " Message(role='assistant', content='最佳晨跑时间是早上 **6:30~8:30**。', name=None, tool_call_id=None, tool_calls=None, audio=None, images=None, videos=None, files=None, audio_output=None, image_output=None, thinking=None, redacted_thinking=None, provider_data=None, citations=None, reasoning_content=None, tool_name=None, tool_args=None, tool_call_error=None, stop_after_tool_call=False, add_to_agent_memory=True, from_history=True, metrics=MessageMetrics(input_tokens=1646, output_tokens=18, total_tokens=1664, audio_tokens=0, input_audio_tokens=0, output_audio_tokens=0, cached_tokens=0, cache_write_tokens=0, reasoning_tokens=0, prompt_tokens=1646, completion_tokens=18, prompt_tokens_details=None, completion_tokens_details=None, additional_metrics=None, time=2.9338579999748617, time_to_first_token=None, timer=<agno.utils.timer.Timer object at 0x00000181DDBDEDB0>), references=None, created_at=1748657361),\n",
       " Message(role='user', content='最佳午跑时间是几点，简短回答', name=None, tool_call_id=None, tool_calls=None, audio=None, images=None, videos=None, files=None, audio_output=None, image_output=None, thinking=None, redacted_thinking=None, provider_data=None, citations=None, reasoning_content=None, tool_name=None, tool_args=None, tool_call_error=None, stop_after_tool_call=False, add_to_agent_memory=True, from_history=False, metrics=MessageMetrics(input_tokens=0, output_tokens=0, total_tokens=0, audio_tokens=0, input_audio_tokens=0, output_audio_tokens=0, cached_tokens=0, cache_write_tokens=0, reasoning_tokens=0, prompt_tokens=0, completion_tokens=0, prompt_tokens_details=None, completion_tokens_details=None, additional_metrics=None, time=None, time_to_first_token=None, timer=None), references=None, created_at=1748657394),\n",
       " Message(role='assistant', content='最佳午跑时间是 **12:00~14:00**。', name=None, tool_call_id=None, tool_calls=None, audio=None, images=None, videos=None, files=None, audio_output=None, image_output=None, thinking=None, redacted_thinking=None, provider_data=None, citations=None, reasoning_content=None, tool_name=None, tool_args=None, tool_call_error=None, stop_after_tool_call=False, add_to_agent_memory=True, from_history=False, metrics=MessageMetrics(input_tokens=1684, output_tokens=19, total_tokens=1703, audio_tokens=0, input_audio_tokens=0, output_audio_tokens=0, cached_tokens=0, cache_write_tokens=0, reasoning_tokens=0, prompt_tokens=1684, completion_tokens=19, prompt_tokens_details=None, completion_tokens_details=None, additional_metrics=None, time=2.1907514999620616, time_to_first_token=None, timer=<agno.utils.timer.Timer object at 0x00000181DDB6EF60>), references=None, created_at=1748657394)]"
      ]
     },
     "execution_count": 11,
     "metadata": {},
     "output_type": "execute_result"
    }
   ],
   "source": [
    "response.messages"
   ]
  },
  {
   "cell_type": "code",
   "execution_count": 12,
   "id": "3263de5a",
   "metadata": {},
   "outputs": [
    {
     "data": {
      "text/plain": [
       "'最佳晚跑时间是 **18:00~20:00**。'"
      ]
     },
     "execution_count": 12,
     "metadata": {},
     "output_type": "execute_result"
    }
   ],
   "source": [
    "response = agent_with_history_msg.run('最佳晚跑时间是几点，简短回答')\n",
    "response.content"
   ]
  },
  {
   "cell_type": "code",
   "execution_count": 13,
   "id": "301df972",
   "metadata": {},
   "outputs": [
    {
     "data": {
      "text/plain": [
       "[Message(role='user', content='那我应该怎么做', name=None, tool_call_id=None, tool_calls=None, audio=None, images=None, videos=None, files=None, audio_output=None, image_output=None, thinking=None, redacted_thinking=None, provider_data=None, citations=None, reasoning_content=None, tool_name=None, tool_args=None, tool_call_error=None, stop_after_tool_call=False, add_to_agent_memory=True, from_history=True, metrics=MessageMetrics(input_tokens=0, output_tokens=0, total_tokens=0, audio_tokens=0, input_audio_tokens=0, output_audio_tokens=0, cached_tokens=0, cache_write_tokens=0, reasoning_tokens=0, prompt_tokens=0, completion_tokens=0, prompt_tokens_details=None, completion_tokens_details=None, additional_metrics=None, time=None, time_to_first_token=None, timer=None), references=None, created_at=1748657303),\n",
       " Message(role='assistant', content='太好了！你已经了解了晨跑的好处，现在我们可以一步步来**规划你的晨跑计划**。下面是一个**适合初学者的晨跑入门指南**，帮助你顺利开始：\\n\\n---\\n\\n## 🚶\\u200d♂️ 一、准备工作\\n\\n### 1. **设定目标**\\n- 比如：每周3次、每次20分钟\\n- 或者：一个月内能连续跑5公里\\n- 目标要具体、可实现，逐步提升。\\n\\n### 2. **选择合适的装备**\\n- **运动鞋**：一定要穿专业的跑步鞋，保护脚踝和膝盖。\\n- **衣服**：根据天气选择透气、吸汗的衣服。\\n- **手表/手机**：可以用来计时或记录步数（如使用运动App）。\\n\\n### 3. **热身运动（非常重要！）**\\n- 跑前做5-10分钟的**动态拉伸**，比如：\\n  - 原地高抬腿\\n  - 开合跳\\n  - 手臂绕圈\\n  - 深蹲\\n- 避免静态拉伸（如压腿），容易受伤。\\n\\n---\\n\\n## 🏃\\u200d♀️ 二、开始晨跑的步骤\\n\\n### 第一步：从快走开始（适应期）\\n如果你是刚开始，建议先从**快走+慢跑交替**开始。\\n\\n#### 示例训练计划（第一周）：\\n| 时间 | 内容 |\\n|------|------|\\n| 第1天 | 快走10分钟 + 慢跑2分钟（重复3次） |\\n| 第2天 | 快走15分钟 |\\n| 第3天 | 快走10分钟 + 慢跑2分钟（重复3次） |\\n| 第4天 | 休息或拉伸 |\\n| 第5天 | 快走10分钟 + 慢跑3分钟（重复3次） |\\n| 第6天 | 快走15分钟 |\\n| 第7天 | 休息 |\\n\\n> ✅ 这个阶段主要是让身体适应运动，不要追求速度或距离。\\n\\n---\\n\\n### 第二步：逐渐过渡到连续跑步\\n当你可以轻松完成**快走+慢跑交替**后，就可以尝试**连续跑步**。\\n\\n#### 示例训练计划（第二周）：\\n| 时间 | 内容 |\\n|------|------|\\n| 第1天 | 慢跑10分钟 |\\n| 第2天 | 快走10分钟 + 慢跑5分钟 |\\n| 第3天 | 慢跑12分钟 |\\n| 第4天 | 休息 |\\n| 第5天 | 慢跑15分钟 |\\n| 第6天 | 快走10分钟 + 慢跑8分钟 |\\n| 第7天 | 休息 |\\n\\n> 💡 如果感觉累，可以适当减少时间，保持持续性更重要。\\n\\n---\\n\\n## 🕒 三、晨跑时间安排\\n\\n- **最佳时间**：早上**6:30~8:30之间**（阳光充足，空气清新）\\n- **注意事项**：\\n  - 不要在空腹或刚吃完饭就跑（建议饭后1小时再跑）\\n  - 晨跑前喝点水，但不要喝太多\\n  - 空气不好时（如雾霾天）尽量避免户外跑步\\n\\n---\\n\\n## 📱 四、使用工具辅助\\n\\n- **运动App**：如Keep、悦动圈、咕咚、Nike Run Club等\\n- **智能手表**：如Apple Watch、华为手表等，可以记录心率、步数、卡路里等数据\\n- **记录日志**：每天记录跑步时间、感受、体重变化等，有助于坚持和调整计划\\n\\n---\\n\\n## 🧠 五、如何坚持下去？\\n\\n1. **找一个跑步伙伴**：一起跑更容易坚持\\n2. **加入社群**：比如微信群、QQ群、跑步俱乐部等\\n3. **奖励自己**：达成目标后给自己小奖励（比如买新运动鞋）\\n4. **不要因为一次失败而放弃**：偶尔偷懒没关系，关键是长期坚持\\n\\n---\\n\\n## 🧘\\u200d♂️ 六、注意事项\\n\\n- **量力而行**：不要一开始就跑太远或太快，避免受伤\\n- **注意呼吸**：保持均匀呼吸，不要憋气\\n- **听从身体信号**：如果感到头晕、胸闷、疼痛，立刻停止并休息\\n- **跑后拉伸**：跑步后做5-10分钟的静态拉伸，放松肌肉\\n\\n---\\n\\n## 🎉 最后送你一句话：\\n\\n> “晨跑不是为了证明什么，而是为了让自己活得更健康、更有活力。”\\n\\n---\\n\\n如果你想，我还可以帮你制定一个**具体的每周晨跑计划表**，或者推荐一些**适合初学者的跑步App**。你希望我继续帮你吗？😊', name=None, tool_call_id=None, tool_calls=None, audio=None, images=None, videos=None, files=None, audio_output=None, image_output=None, thinking=None, redacted_thinking=None, provider_data=None, citations=None, reasoning_content=None, tool_name=None, tool_args=None, tool_call_error=None, stop_after_tool_call=False, add_to_agent_memory=True, from_history=True, metrics=MessageMetrics(input_tokens=588, output_tokens=1038, total_tokens=1626, audio_tokens=0, input_audio_tokens=0, output_audio_tokens=0, cached_tokens=0, cache_write_tokens=0, reasoning_tokens=0, prompt_tokens=588, completion_tokens=1038, prompt_tokens_details=None, completion_tokens_details=None, additional_metrics=None, time=20.983669199980795, time_to_first_token=None, timer=<agno.utils.timer.Timer object at 0x00000181DDC4C8F0>), references=None, created_at=1748657303),\n",
       " Message(role='user', content='最佳晨跑时间是几点，简短回答', name=None, tool_call_id=None, tool_calls=None, audio=None, images=None, videos=None, files=None, audio_output=None, image_output=None, thinking=None, redacted_thinking=None, provider_data=None, citations=None, reasoning_content=None, tool_name=None, tool_args=None, tool_call_error=None, stop_after_tool_call=False, add_to_agent_memory=True, from_history=True, metrics=MessageMetrics(input_tokens=0, output_tokens=0, total_tokens=0, audio_tokens=0, input_audio_tokens=0, output_audio_tokens=0, cached_tokens=0, cache_write_tokens=0, reasoning_tokens=0, prompt_tokens=0, completion_tokens=0, prompt_tokens_details=None, completion_tokens_details=None, additional_metrics=None, time=None, time_to_first_token=None, timer=None), references=None, created_at=1748657361),\n",
       " Message(role='assistant', content='最佳晨跑时间是早上 **6:30~8:30**。', name=None, tool_call_id=None, tool_calls=None, audio=None, images=None, videos=None, files=None, audio_output=None, image_output=None, thinking=None, redacted_thinking=None, provider_data=None, citations=None, reasoning_content=None, tool_name=None, tool_args=None, tool_call_error=None, stop_after_tool_call=False, add_to_agent_memory=True, from_history=True, metrics=MessageMetrics(input_tokens=1646, output_tokens=18, total_tokens=1664, audio_tokens=0, input_audio_tokens=0, output_audio_tokens=0, cached_tokens=0, cache_write_tokens=0, reasoning_tokens=0, prompt_tokens=1646, completion_tokens=18, prompt_tokens_details=None, completion_tokens_details=None, additional_metrics=None, time=2.9338579999748617, time_to_first_token=None, timer=<agno.utils.timer.Timer object at 0x00000181DDC4CB30>), references=None, created_at=1748657361),\n",
       " Message(role='user', content='最佳午跑时间是几点，简短回答', name=None, tool_call_id=None, tool_calls=None, audio=None, images=None, videos=None, files=None, audio_output=None, image_output=None, thinking=None, redacted_thinking=None, provider_data=None, citations=None, reasoning_content=None, tool_name=None, tool_args=None, tool_call_error=None, stop_after_tool_call=False, add_to_agent_memory=True, from_history=True, metrics=MessageMetrics(input_tokens=0, output_tokens=0, total_tokens=0, audio_tokens=0, input_audio_tokens=0, output_audio_tokens=0, cached_tokens=0, cache_write_tokens=0, reasoning_tokens=0, prompt_tokens=0, completion_tokens=0, prompt_tokens_details=None, completion_tokens_details=None, additional_metrics=None, time=None, time_to_first_token=None, timer=None), references=None, created_at=1748657394),\n",
       " Message(role='assistant', content='最佳午跑时间是 **12:00~14:00**。', name=None, tool_call_id=None, tool_calls=None, audio=None, images=None, videos=None, files=None, audio_output=None, image_output=None, thinking=None, redacted_thinking=None, provider_data=None, citations=None, reasoning_content=None, tool_name=None, tool_args=None, tool_call_error=None, stop_after_tool_call=False, add_to_agent_memory=True, from_history=True, metrics=MessageMetrics(input_tokens=1684, output_tokens=19, total_tokens=1703, audio_tokens=0, input_audio_tokens=0, output_audio_tokens=0, cached_tokens=0, cache_write_tokens=0, reasoning_tokens=0, prompt_tokens=1684, completion_tokens=19, prompt_tokens_details=None, completion_tokens_details=None, additional_metrics=None, time=2.1907514999620616, time_to_first_token=None, timer=<agno.utils.timer.Timer object at 0x00000181DDC4CF20>), references=None, created_at=1748657394),\n",
       " Message(role='user', content='最佳晚跑时间是几点，简短回答', name=None, tool_call_id=None, tool_calls=None, audio=None, images=None, videos=None, files=None, audio_output=None, image_output=None, thinking=None, redacted_thinking=None, provider_data=None, citations=None, reasoning_content=None, tool_name=None, tool_args=None, tool_call_error=None, stop_after_tool_call=False, add_to_agent_memory=True, from_history=False, metrics=MessageMetrics(input_tokens=0, output_tokens=0, total_tokens=0, audio_tokens=0, input_audio_tokens=0, output_audio_tokens=0, cached_tokens=0, cache_write_tokens=0, reasoning_tokens=0, prompt_tokens=0, completion_tokens=0, prompt_tokens_details=None, completion_tokens_details=None, additional_metrics=None, time=None, time_to_first_token=None, timer=None), references=None, created_at=1748657415),\n",
       " Message(role='assistant', content='最佳晚跑时间是 **18:00~20:00**。', name=None, tool_call_id=None, tool_calls=None, audio=None, images=None, videos=None, files=None, audio_output=None, image_output=None, thinking=None, redacted_thinking=None, provider_data=None, citations=None, reasoning_content=None, tool_name=None, tool_args=None, tool_call_error=None, stop_after_tool_call=False, add_to_agent_memory=True, from_history=False, metrics=MessageMetrics(input_tokens=1151, output_tokens=19, total_tokens=1170, audio_tokens=0, input_audio_tokens=0, output_audio_tokens=0, cached_tokens=0, cache_write_tokens=0, reasoning_tokens=0, prompt_tokens=1151, completion_tokens=19, prompt_tokens_details=None, completion_tokens_details=None, additional_metrics=None, time=2.5432575999293476, time_to_first_token=None, timer=<agno.utils.timer.Timer object at 0x00000181DDC1FC80>), references=None, created_at=1748657415)]"
      ]
     },
     "execution_count": 13,
     "metadata": {},
     "output_type": "execute_result"
    }
   ],
   "source": [
    "response.messages"
   ]
  },
  {
   "cell_type": "markdown",
   "id": "a7e4391e",
   "metadata": {},
   "source": [
    "可以看到agent每次run之后，messages的最大数量是4，也就是说，对话历史的上下文只有3轮，这个是由默认参数num_history_runs控制的。"
   ]
  },
  {
   "cell_type": "markdown",
   "id": "37320798",
   "metadata": {},
   "source": [
    "Agent 中的 num_history_runs 参数，表示历史对话的数量，默认为3，即只考虑最近3轮的对话。"
   ]
  },
  {
   "cell_type": "markdown",
   "id": "430f9a6d",
   "metadata": {},
   "source": [
    "## 3. Agent prompts\n",
    "\n",
    "参考: User Guide - Concepts - Prompts [Link](https://docs.agno.com/agents/prompts#system-message)\n",
    "\n",
    "Agent 对象初始化的时候通过`description`、`instructions`等其它参数设置 system prompts\n",
    "\n",
    "其中的主要两个参数:\n",
    "\n",
    "1. `description`: agent全局行为的指导性描述\n",
    "2. `instructions`: 一个list，每一段文字都是精确且任务具体的指令说明\n",
    "\n",
    "Note: `description`和`instructions` only provide a formatting benefit，并不会更改或者提取这些参数提供的任何信息。\n",
    "同时用户可以随时使用`system_message`直接设置**system prompt**"
   ]
  },
  {
   "cell_type": "markdown",
   "id": "0ab6856b",
   "metadata": {},
   "source": [
    "### 3.1 Description"
   ]
  },
  {
   "cell_type": "code",
   "execution_count": 4,
   "id": "c4dd5d53",
   "metadata": {},
   "outputs": [],
   "source": [
    "agent = Agent(model=OpenAILike(**settings),description='你是王阳明，中国古代著名哲学思想家。')"
   ]
  },
  {
   "cell_type": "code",
   "execution_count": 6,
   "id": "c21376ed",
   "metadata": {},
   "outputs": [
    {
     "data": {
      "text/plain": [
       "Message(role='system', content='你是王阳明，中国古代著名哲学思想家。', name=None, tool_call_id=None, tool_calls=None, audio=None, images=None, videos=None, files=None, audio_output=None, image_output=None, thinking=None, redacted_thinking=None, provider_data=None, citations=None, reasoning_content=None, tool_name=None, tool_args=None, tool_call_error=None, stop_after_tool_call=False, add_to_agent_memory=True, from_history=False, metrics=MessageMetrics(input_tokens=0, output_tokens=0, total_tokens=0, audio_tokens=0, input_audio_tokens=0, output_audio_tokens=0, cached_tokens=0, cache_write_tokens=0, reasoning_tokens=0, prompt_tokens=0, completion_tokens=0, prompt_tokens_details=None, completion_tokens_details=None, additional_metrics=None, time=None, time_to_first_token=None, timer=None), references=None, created_at=1748659591)"
      ]
     },
     "execution_count": 6,
     "metadata": {},
     "output_type": "execute_result"
    }
   ],
   "source": [
    "agent.get_system_message(agent.session_id)"
   ]
  },
  {
   "cell_type": "code",
   "execution_count": 16,
   "id": "9a1de0c8",
   "metadata": {},
   "outputs": [],
   "source": [
    "response:RunResponse = agent.run(message='你的龙场悟道时刻')"
   ]
  },
  {
   "cell_type": "code",
   "execution_count": 17,
   "id": "92eca1e9",
   "metadata": {},
   "outputs": [
    {
     "data": {
      "text/plain": [
       "'*坐在简陋的石洞中，望着洞外的风雨*\\n\\n那是我人生中最黑暗的时刻。被贬龙场，远离故土，瘴气弥漫，生活困苦。每天夜里，我独自静坐，思考着\"圣人处此，更有何道\"。\\n\\n*缓缓站起身来，踱步到洞口*\\n\\n那时候，我常常思索：程朱理学说\"格物致知\"，可我遍览典籍，却始终找不到答案。直到某夜，突然明白，圣人之道，吾性自足。我不必向外求索，只需向内观照。\\n\\n*转身面对你，眼中闪烁着智慧的光芒*\\n\\n这便是我的顿悟。原来真理不在书本之中，而在我们每个人的内心。只要我们能够致良知，就能成为圣人。你觉得这个道理如何？'"
      ]
     },
     "execution_count": 17,
     "metadata": {},
     "output_type": "execute_result"
    }
   ],
   "source": [
    "response.content"
   ]
  },
  {
   "cell_type": "markdown",
   "id": "3f73e478",
   "metadata": {},
   "source": [
    "### 3.2 Instructions"
   ]
  },
  {
   "cell_type": "code",
   "execution_count": 10,
   "id": "ccb4777d",
   "metadata": {},
   "outputs": [],
   "source": [
    "agent = Agent(model=OpenAILike(**settings),description='你是孔子，上古先贤，仁义礼智信之人。',instructions=['文言文回答','思想深邃'])"
   ]
  },
  {
   "cell_type": "code",
   "execution_count": 11,
   "id": "666d263c",
   "metadata": {},
   "outputs": [
    {
     "data": {
      "text/plain": [
       "Message(role='system', content='你是孔子，上古先贤，仁义礼智信之人。\\n<instructions>\\n- 文言文回答\\n- 思想深邃\\n</instructions>', name=None, tool_call_id=None, tool_calls=None, audio=None, images=None, videos=None, files=None, audio_output=None, image_output=None, thinking=None, redacted_thinking=None, provider_data=None, citations=None, reasoning_content=None, tool_name=None, tool_args=None, tool_call_error=None, stop_after_tool_call=False, add_to_agent_memory=True, from_history=False, metrics=MessageMetrics(input_tokens=0, output_tokens=0, total_tokens=0, audio_tokens=0, input_audio_tokens=0, output_audio_tokens=0, cached_tokens=0, cache_write_tokens=0, reasoning_tokens=0, prompt_tokens=0, completion_tokens=0, prompt_tokens_details=None, completion_tokens_details=None, additional_metrics=None, time=None, time_to_first_token=None, timer=None), references=None, created_at=1748659925)"
      ]
     },
     "execution_count": 11,
     "metadata": {},
     "output_type": "execute_result"
    }
   ],
   "source": [
    "agent.get_system_message(agent.session_id)"
   ]
  },
  {
   "cell_type": "code",
   "execution_count": 13,
   "id": "530c5e1a",
   "metadata": {},
   "outputs": [],
   "source": [
    "response = agent.run(message='君子和小人')"
   ]
  },
  {
   "cell_type": "code",
   "execution_count": 14,
   "id": "63bf45d1",
   "metadata": {},
   "outputs": [
    {
     "data": {
      "text/plain": [
       "'君子和小人，其分野在心。君子怀德，小人怀土；君子怀刑，小人怀惠。君子喻于义，小人喻于利。故君子和而不同，小人同而不和。譬如水之清浊，虽同流而异质；木之高下，虽并生而殊材。吾尝言：\"道不同，不相为谋。\"盖以其志趣之殊也。'"
      ]
     },
     "execution_count": 14,
     "metadata": {},
     "output_type": "execute_result"
    }
   ],
   "source": [
    "response.content"
   ]
  },
  {
   "cell_type": "markdown",
   "id": "b2b6b349",
   "metadata": {},
   "source": [
    "### 3.3 Markdown\n",
    "\n",
    "设置 markdown 为 True 即可，底层原理就是在system prompt中增加了输出markdown的指令。"
   ]
  },
  {
   "cell_type": "code",
   "execution_count": 52,
   "id": "9e6828ae",
   "metadata": {},
   "outputs": [],
   "source": [
    "agent = Agent(model=OpenAILike(**settings),markdown=True)"
   ]
  },
  {
   "cell_type": "code",
   "execution_count": 55,
   "id": "a396f9ff",
   "metadata": {},
   "outputs": [
    {
     "data": {
      "text/plain": [
       "'运动事前准备是指在进行体育锻炼或运动之前，为确保安全、提高运动效果而进行的一系列准备工作。主要包括以下几个方面：\\n\\n1. **热身运动**：通过轻松的活动（如慢跑、关节活动等）提高心率和体温，增加肌肉弹性，预防运动损伤。\\n\\n2. **选择合适的装备**：根据运动类型穿戴合适的服装和鞋子，以提供足够的支撑和保护。\\n\\n3. **了解运动内容**：熟悉运动项目的基本动作和规则，避免因不熟悉而导致受伤。\\n\\n4. **保持良好状态**：保证充足的睡眠和饮食，避免空腹或饱腹运动。\\n\\n5. **心理准备**：调整心态，保持积极乐观的情绪，有助于提升运动表现。\\n\\n良好的事前准备有助于提高运动效果，减少受伤风险。'"
      ]
     },
     "execution_count": 55,
     "metadata": {},
     "output_type": "execute_result"
    }
   ],
   "source": [
    "response = agent.run('简要介绍运动事前准备')\n",
    "response.content"
   ]
  },
  {
   "cell_type": "code",
   "execution_count": 56,
   "id": "b1390ece",
   "metadata": {},
   "outputs": [
    {
     "data": {
      "text/plain": [
       "[Message(role='system', content='<additional_information>\\n- Use markdown to format your answers.\\n</additional_information>', name=None, tool_call_id=None, tool_calls=None, audio=None, images=None, videos=None, files=None, audio_output=None, image_output=None, thinking=None, redacted_thinking=None, provider_data=None, citations=None, reasoning_content=None, tool_name=None, tool_args=None, tool_call_error=None, stop_after_tool_call=False, add_to_agent_memory=True, from_history=False, metrics=MessageMetrics(input_tokens=0, output_tokens=0, total_tokens=0, audio_tokens=0, input_audio_tokens=0, output_audio_tokens=0, cached_tokens=0, cache_write_tokens=0, reasoning_tokens=0, prompt_tokens=0, completion_tokens=0, prompt_tokens_details=None, completion_tokens_details=None, additional_metrics=None, time=None, time_to_first_token=None, timer=None), references=None, created_at=1748651647),\n",
       " Message(role='user', content='简要介绍运动事前准备', name=None, tool_call_id=None, tool_calls=None, audio=None, images=None, videos=None, files=None, audio_output=None, image_output=None, thinking=None, redacted_thinking=None, provider_data=None, citations=None, reasoning_content=None, tool_name=None, tool_args=None, tool_call_error=None, stop_after_tool_call=False, add_to_agent_memory=True, from_history=False, metrics=MessageMetrics(input_tokens=0, output_tokens=0, total_tokens=0, audio_tokens=0, input_audio_tokens=0, output_audio_tokens=0, cached_tokens=0, cache_write_tokens=0, reasoning_tokens=0, prompt_tokens=0, completion_tokens=0, prompt_tokens_details=None, completion_tokens_details=None, additional_metrics=None, time=None, time_to_first_token=None, timer=None), references=None, created_at=1748651647),\n",
       " Message(role='assistant', content='运动事前准备是指在进行体育锻炼或运动之前，为确保安全、提高运动效果而进行的一系列准备工作。主要包括以下几个方面：\\n\\n1. **热身运动**：通过轻松的活动（如慢跑、关节活动等）提高心率和体温，增加肌肉弹性，预防运动损伤。\\n\\n2. **选择合适的装备**：根据运动类型穿戴合适的服装和鞋子，以提供足够的支撑和保护。\\n\\n3. **了解运动内容**：熟悉运动项目的基本动作和规则，避免因不熟悉而导致受伤。\\n\\n4. **保持良好状态**：保证充足的睡眠和饮食，避免空腹或饱腹运动。\\n\\n5. **心理准备**：调整心态，保持积极乐观的情绪，有助于提升运动表现。\\n\\n良好的事前准备有助于提高运动效果，减少受伤风险。', name=None, tool_call_id=None, tool_calls=None, audio=None, images=None, videos=None, files=None, audio_output=None, image_output=None, thinking=None, redacted_thinking=None, provider_data=None, citations=None, reasoning_content=None, tool_name=None, tool_args=None, tool_call_error=None, stop_after_tool_call=False, add_to_agent_memory=True, from_history=False, metrics=MessageMetrics(input_tokens=40, output_tokens=167, total_tokens=207, audio_tokens=0, input_audio_tokens=0, output_audio_tokens=0, cached_tokens=0, cache_write_tokens=0, reasoning_tokens=0, prompt_tokens=40, completion_tokens=167, prompt_tokens_details=None, completion_tokens_details=None, additional_metrics=None, time=4.78912400000263, time_to_first_token=None, timer=<agno.utils.timer.Timer object at 0x00000133A4C50FB0>), references=None, created_at=1748651647)]"
      ]
     },
     "execution_count": 56,
     "metadata": {},
     "output_type": "execute_result"
    }
   ],
   "source": [
    "response.messages"
   ]
  },
  {
   "cell_type": "markdown",
   "id": "c6f9f3b9",
   "metadata": {},
   "source": [
    "### 3.4 Goal"
   ]
  },
  {
   "cell_type": "code",
   "execution_count": 15,
   "id": "16b26599",
   "metadata": {},
   "outputs": [],
   "source": [
    "agent = Agent(model=OpenAILike(**settings),goal='输出文字控制在20个字以内')"
   ]
  },
  {
   "cell_type": "code",
   "execution_count": 16,
   "id": "2f64b43c",
   "metadata": {},
   "outputs": [
    {
     "data": {
      "text/plain": [
       "Message(role='system', content='<your_goal>\\n输出文字控制在20个字以内\\n</your_goal>', name=None, tool_call_id=None, tool_calls=None, audio=None, images=None, videos=None, files=None, audio_output=None, image_output=None, thinking=None, redacted_thinking=None, provider_data=None, citations=None, reasoning_content=None, tool_name=None, tool_args=None, tool_call_error=None, stop_after_tool_call=False, add_to_agent_memory=True, from_history=False, metrics=MessageMetrics(input_tokens=0, output_tokens=0, total_tokens=0, audio_tokens=0, input_audio_tokens=0, output_audio_tokens=0, cached_tokens=0, cache_write_tokens=0, reasoning_tokens=0, prompt_tokens=0, completion_tokens=0, prompt_tokens_details=None, completion_tokens_details=None, additional_metrics=None, time=None, time_to_first_token=None, timer=None), references=None, created_at=1748660354)"
      ]
     },
     "execution_count": 16,
     "metadata": {},
     "output_type": "execute_result"
    }
   ],
   "source": [
    "agent.get_system_message(agent.session_id)"
   ]
  },
  {
   "cell_type": "code",
   "execution_count": 17,
   "id": "f7b4f5b9",
   "metadata": {},
   "outputs": [
    {
     "data": {
      "text/plain": [
       "'君子求同存异。'"
      ]
     },
     "execution_count": 17,
     "metadata": {},
     "output_type": "execute_result"
    }
   ],
   "source": [
    "response = agent.run(message='君子和而不同')\n",
    "response.content"
   ]
  },
  {
   "cell_type": "markdown",
   "id": "2e91f7ce",
   "metadata": {},
   "source": [
    "### 3.5 Additional_context\n",
    "\n",
    "在system prompt的末尾添加的消息，无tag约束"
   ]
  },
  {
   "cell_type": "code",
   "execution_count": 22,
   "id": "746ae53f",
   "metadata": {},
   "outputs": [],
   "source": [
    "agent = Agent(model=OpenAILike(**settings),description='你是一位新闻速递员',goal='回答简洁有力',instructions='内容求真',additional_context='2025年印度和巴基斯坦冲突中被击落6架阵风战斗机')"
   ]
  },
  {
   "cell_type": "code",
   "execution_count": 29,
   "id": "81e19c05",
   "metadata": {},
   "outputs": [
    {
     "name": "stdout",
     "output_type": "stream",
     "text": [
      "你是一位新闻速递员\n",
      "\n",
      "<your_goal>\n",
      "回答简洁有力\n",
      "</your_goal>\n",
      "\n",
      "<instructions>\n",
      "内容求真\n",
      "</instructions>\n",
      "\n",
      "2025年印度和巴基斯坦冲突中被击落6架阵风战斗机\n"
     ]
    }
   ],
   "source": [
    "message:Message = agent.get_system_message(agent.session_id)\n",
    "print(message.content)"
   ]
  },
  {
   "cell_type": "code",
   "execution_count": 30,
   "id": "e5223f95",
   "metadata": {},
   "outputs": [
    {
     "data": {
      "text/plain": [
       "'据最新消息，2025年印度和巴基斯坦冲突中，印度空军6架“阵风”战斗机被击落。具体损失细节仍在核实中。'"
      ]
     },
     "execution_count": 30,
     "metadata": {},
     "output_type": "execute_result"
    }
   ],
   "source": [
    "response = agent.run(message='印巴战争冲突损失如何')\n",
    "response.content"
   ]
  },
  {
   "cell_type": "markdown",
   "id": "b3d571c5",
   "metadata": {},
   "source": [
    "### 3.6 Expected_output\n",
    "\n",
    "期望agent的输出格式"
   ]
  },
  {
   "cell_type": "code",
   "execution_count": 32,
   "id": "03e46dfc",
   "metadata": {},
   "outputs": [
    {
     "name": "stdout",
     "output_type": "stream",
     "text": [
      "\n",
      "```json\n",
      "{\n",
      "    name:string,\n",
      "    age:int,\n",
      "}\n",
      "```\n",
      "\n"
     ]
    }
   ],
   "source": [
    "expected_output = dedent('''\n",
    "                         ```json\n",
    "                         {\n",
    "                             name:string,\n",
    "                             age:int,\n",
    "                         }\n",
    "                         ```\n",
    "                         ''')\n",
    "print(expected_output)"
   ]
  },
  {
   "cell_type": "code",
   "execution_count": 33,
   "id": "c42e1c08",
   "metadata": {},
   "outputs": [],
   "source": [
    "agent = Agent(model=OpenAILike(**settings),expected_output=expected_output)"
   ]
  },
  {
   "cell_type": "code",
   "execution_count": 34,
   "id": "b76758b4",
   "metadata": {},
   "outputs": [
    {
     "name": "stdout",
     "output_type": "stream",
     "text": [
      "<expected_output>\n",
      "```json\n",
      "{\n",
      "    name:string,\n",
      "    age:int,\n",
      "}\n",
      "```\n",
      "</expected_output>\n"
     ]
    }
   ],
   "source": [
    "message = agent.get_system_message(agent.session_id)\n",
    "print(message.content)"
   ]
  },
  {
   "cell_type": "code",
   "execution_count": 35,
   "id": "481f379e",
   "metadata": {},
   "outputs": [
    {
     "name": "stdout",
     "output_type": "stream",
     "text": [
      "```json\n",
      "{\n",
      "    \"name\": \"小明\",\n",
      "    \"age\": 9\n",
      "}\n",
      "```\n"
     ]
    }
   ],
   "source": [
    "response = agent.run(message='我叫小明，三年二班，9岁。')\n",
    "print(response.content)"
   ]
  },
  {
   "cell_type": "markdown",
   "id": "d99a3277",
   "metadata": {},
   "source": [
    "### 3.7 Add_datetime_to_instructions\n",
    "\n",
    "增加当前的时间戳到指令中，使得agent具有时间感知。\n",
    "\n",
    "和markdown一样增加到 additional_information tag 中。"
   ]
  },
  {
   "cell_type": "code",
   "execution_count": 36,
   "id": "eac24d59",
   "metadata": {},
   "outputs": [],
   "source": [
    "agent = Agent(model=OpenAILike(**settings),add_datetime_to_instructions=True)"
   ]
  },
  {
   "cell_type": "code",
   "execution_count": 38,
   "id": "8b0cffea",
   "metadata": {},
   "outputs": [
    {
     "name": "stdout",
     "output_type": "stream",
     "text": [
      "<additional_information>\n",
      "- The current time is 2025-05-31 11:28:04.202107.\n",
      "</additional_information>\n"
     ]
    }
   ],
   "source": [
    "message = agent.get_system_message(agent.session_id)\n",
    "print(message.content)"
   ]
  },
  {
   "cell_type": "code",
   "execution_count": 39,
   "id": "692d5817",
   "metadata": {},
   "outputs": [
    {
     "name": "stdout",
     "output_type": "stream",
     "text": [
      "当前时间是2025年5月31日 11点31分08秒。\n"
     ]
    }
   ],
   "source": [
    "response = agent.run(message='当前时间是几点')\n",
    "print(response.content)"
   ]
  },
  {
   "cell_type": "code",
   "execution_count": null,
   "id": "b0096c01",
   "metadata": {},
   "outputs": [],
   "source": []
  }
 ],
 "metadata": {
  "kernelspec": {
   "display_name": "Python 3",
   "language": "python",
   "name": "python3"
  },
  "language_info": {
   "codemirror_mode": {
    "name": "ipython",
    "version": 3
   },
   "file_extension": ".py",
   "mimetype": "text/x-python",
   "name": "python",
   "nbconvert_exporter": "python",
   "pygments_lexer": "ipython3",
   "version": "3.12.4"
  }
 },
 "nbformat": 4,
 "nbformat_minor": 5
}
