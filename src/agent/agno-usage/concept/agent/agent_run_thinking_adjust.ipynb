{
 "cells": [
  {
   "cell_type": "code",
   "execution_count": null,
   "id": "e7564c16",
   "metadata": {},
   "outputs": [
    {
     "data": {
      "text/plain": [
       "RunResponse(content='\\n\\n我是通义千问，阿里巴巴集团旗下的超大规模语言模型。我可以帮助你回答问题、创作文字、编程、表达观点等，支持多种语言，包括但不限于中文、英文、德语、法语、西班牙语等。如果你有任何问题或需要帮助，随时告诉我！', content_type='str', thinking=None, reasoning_content=None, event='RunResponse', messages=[Message(role='user', content='你是谁', name=None, tool_call_id=None, tool_calls=None, audio=None, images=None, videos=None, files=None, audio_output=None, image_output=None, thinking=None, redacted_thinking=None, provider_data=None, citations=None, reasoning_content=None, tool_name=None, tool_args=None, tool_call_error=None, stop_after_tool_call=False, add_to_agent_memory=True, from_history=False, metrics=MessageMetrics(input_tokens=0, output_tokens=0, total_tokens=0, audio_tokens=0, input_audio_tokens=0, output_audio_tokens=0, cached_tokens=0, cache_write_tokens=0, reasoning_tokens=0, prompt_tokens=0, completion_tokens=0, prompt_tokens_details=None, completion_tokens_details=None, additional_metrics=None, time=None, time_to_first_token=None, timer=None), references=None, created_at=1748495221), Message(role='assistant', content='\\n\\n我是通义千问，阿里巴巴集团旗下的超大规模语言模型。我可以帮助你回答问题、创作文字、编程、表达观点等，支持多种语言，包括但不限于中文、英文、德语、法语、西班牙语等。如果你有任何问题或需要帮助，随时告诉我！', name=None, tool_call_id=None, tool_calls=None, audio=None, images=None, videos=None, files=None, audio_output=None, image_output=None, thinking=None, redacted_thinking=None, provider_data=None, citations=None, reasoning_content='\\n好的，用户问“你是谁”。我需要根据之前的设定来回答。首先，我应该介绍自己的名字，然后说明我是通义千问系列中的一个版本。接下来，要简要说明我的功能，比如回答问题、创作文字、编程等。还要提到我的语言支持，包括中英文和其他多种语言。同时，要保持口语化，避免使用复杂术语。注意不要提到训练数据或具体的训练时间，而是用“大量文本”来概括。最后，邀请用户提问，保持友好和开放的态度。检查是否有遗漏的重要信息，比如多语言支持和具体能力，确保回答简洁但全面。现在组织语言，确保自然流畅。\\n', tool_name=None, tool_args=None, tool_call_error=None, stop_after_tool_call=False, add_to_agent_memory=True, from_history=False, metrics=MessageMetrics(input_tokens=10, output_tokens=203, total_tokens=213, audio_tokens=0, input_audio_tokens=0, output_audio_tokens=0, cached_tokens=0, cache_write_tokens=0, reasoning_tokens=0, prompt_tokens=10, completion_tokens=203, prompt_tokens_details=None, completion_tokens_details=None, additional_metrics=None, time=4.61744970001746, time_to_first_token=None, timer=<agno.utils.timer.Timer object at 0x0000025133D69A30>), references=None, created_at=1748495221)], metrics={'input_tokens': [10], 'output_tokens': [203], 'total_tokens': [213], 'audio_tokens': [0], 'input_audio_tokens': [0], 'output_audio_tokens': [0], 'cached_tokens': [0], 'cache_write_tokens': [0], 'reasoning_tokens': [0], 'prompt_tokens': [10], 'completion_tokens': [203], 'time': [4.61744970001746]}, model='Qwen3-235B', model_provider='OpenAI', run_id='0144623f-bc77-4070-8974-3458f5f63703', agent_id='e3460fb1-dd02-4bed-bd08-8945a069dced', session_id='6d522657-486f-461c-a9e1-53bce6efc4b9', workflow_id=None, tools=[], formatted_tool_calls=None, images=None, videos=None, audio=None, response_audio=None, citations=None, extra_data=None, created_at=1748494572)"
      ]
     },
     "execution_count": 14,
     "metadata": {},
     "output_type": "execute_result"
    }
   ],
   "source": [
    "from typing import Iterator\n",
    "from agno.agent import Agent, RunResponse\n",
    "from agno.models.openai.like import OpenAILike\n",
    "from agno.utils.pprint import pprint_run_response\n",
    "\n",
    "import os\n",
    "from dotenv import load_dotenv\n",
    "load_dotenv()\n",
    "api_key=os.getenv(\"QWEN_API_KEY\")\n",
    "base_url=os.getenv(\"QWEN_API_BASE_URL\")\n",
    "local_base_url = 'http://192.168.0.166:8000/v1'\n",
    "local_model_name = 'Qwen3-235B'\n",
    "model_name = 'qwen3-235b-a22b'\n",
    "\n",
    "local_settings = {\n",
    "  'api_key' : '123',\n",
    "  'base_url' : local_base_url,\n",
    "  'id' : local_model_name\n",
    "}\n",
    "\n",
    "qwen_settings = {\n",
    "  'api_key' : api_key,\n",
    "  'base_url' : base_url,\n",
    "  'id' : model_name\n",
    "}\n",
    "\n",
    "settings = local_settings\n",
    "\n",
    "# 百炼的接口不需要chat_template_kwargs字段，直接enable_thinking即可\n",
    "\n",
    "agent = Agent(model=OpenAILike(**settings,request_params={'extra_body':{\n",
    "        \"top_k\": 20, \n",
    "        \"chat_template_kwargs\": {\"enable_thinking\": True},\n",
    "    },}))\n",
    "\n",
    "\n",
    "# Run agent and return the response as a variable\n",
    "# 同时会返回session_id，用于后续的连续对话，run_id表示每一轮次的对话\n",
    "agent.run(\"你是谁\")"
   ]
  },
  {
   "cell_type": "code",
   "execution_count": null,
   "id": "7b6a089e",
   "metadata": {},
   "outputs": [
    {
     "name": "stdout",
     "output_type": "stream",
     "text": [
      "\n",
      "\n",
      "**\"The Guardian's Roar\"**  \n",
      "Mufasa’s golden eyes snapped open at dawn, the savanna stretching amber beneath his paws. A cub’s playful growl echoed—his pride, safe for now. Then came the *crunch* of a branch, the scent of diesel. Poacher. Net launcher aimed at his cubs. Mufasa’s muscles coiled. With a thunderous bellow, he lunged, mane billowing like fire. The man stumbled, fleeing into the thorns. The cubs nuzzled him, their tiny roars blending with his fading growl. Dawn held its breath—then peace settled, brief as a heartbeat.  \n",
      "\n",
      "(Exactly five seconds, timed at average reading pace.)"
     ]
    }
   ],
   "source": [
    "# Run agent and return the response as a stream\n",
    "response_stream: Iterator[RunResponse] = agent.run(\"Tell me a 5 second short story about a lion\", stream=True)\n",
    "for chunk in response_stream:\n",
    "    print(chunk.content,end=\"\", flush=True)"
   ]
  },
  {
   "cell_type": "code",
   "execution_count": 9,
   "id": "fae0ee01",
   "metadata": {},
   "outputs": [
    {
     "name": "stdout",
     "output_type": "stream",
     "text": [
      "Run started\n",
      "\n",
      "**In the golden savanna,** a young lion cub *pads* through tall grass, driven by a distant cry. He finds a baby antelope tangled in vines. With a nudge of his strong paws, he frees it. As flames lick the horizon, they sprint together toward safety—**predator and prey,** united by courage.  \n",
      "\n",
      "(Reads in ~5 seconds. A tale of instinct defied by compassion.)Memory updated\n",
      "\n",
      "**In the golden savanna,** a young lion cub *pads* through tall grass, driven by a distant cry. He finds a baby antelope tangled in vines. With a nudge of his strong paws, he frees it. As flames lick the horizon, they sprint together toward safety—**predator and prey,** united by courage.  \n",
      "\n",
      "(Reads in ~5 seconds. A tale of instinct defied by compassion.)"
     ]
    }
   ],
   "source": [
    "# Run agent and return the response as a stream\n",
    "response_stream: Iterator[RunResponse] = agent.run(\"Tell me a 5 second short story about a lion\", stream=True,stream_intermediate_steps=True)\n",
    "for chunk in response_stream:\n",
    "    print(chunk.content,end=\"\", flush=True)"
   ]
  },
  {
   "cell_type": "code",
   "execution_count": 1,
   "id": "e3790c66",
   "metadata": {},
   "outputs": [
    {
     "name": "stdout",
     "output_type": "stream",
     "text": [
      "今天是:2025-06-20,提取网页中七天内发布的新闻标题和链接,不要遗漏任何新闻，如果没有7天内的新闻,请返回空collections对象,请按格式输出。\n"
     ]
    }
   ],
   "source": [
    "import time\n",
    "current_date = time.strftime(\"%Y-%m-%d\", time.localtime())\n",
    "print(f\"今天是:{current_date},提取网页中七天内发布的新闻标题和链接,不要遗漏任何新闻，如果没有7天内的新闻,请返回空collections对象,请按格式输出。\")"
   ]
  },
  {
   "cell_type": "code",
   "execution_count": null,
   "id": "0c3f6f8c",
   "metadata": {},
   "outputs": [],
   "source": []
  }
 ],
 "metadata": {
  "kernelspec": {
   "display_name": "Python 3",
   "language": "python",
   "name": "python3"
  },
  "language_info": {
   "codemirror_mode": {
    "name": "ipython",
    "version": 3
   },
   "file_extension": ".py",
   "mimetype": "text/x-python",
   "name": "python",
   "nbconvert_exporter": "python",
   "pygments_lexer": "ipython3",
   "version": "3.13.2"
  }
 },
 "nbformat": 4,
 "nbformat_minor": 5
}
