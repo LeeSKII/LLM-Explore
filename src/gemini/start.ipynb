{
 "cells": [
  {
   "cell_type": "code",
   "execution_count": 1,
   "metadata": {},
   "outputs": [
    {
     "data": {
      "text/plain": [
       "True"
      ]
     },
     "execution_count": 1,
     "metadata": {},
     "output_type": "execute_result"
    }
   ],
   "source": [
    "import os\n",
    "from dotenv import load_dotenv\n",
    "\n",
    "load_dotenv()"
   ]
  },
  {
   "cell_type": "code",
   "execution_count": 2,
   "metadata": {},
   "outputs": [],
   "source": [
    "genai_key = os.getenv('GOOGLE_API_KEY')"
   ]
  },
  {
   "cell_type": "code",
   "execution_count": null,
   "metadata": {},
   "outputs": [
    {
     "name": "stdout",
     "output_type": "stream",
     "text": [
      "```json\n",
      "{\n",
      "  \"youtuber\": \"IShowSpeed\",\n",
      "  \"name\": \"Darren Watkins Jr.\",\n",
      "  \"known_for\": \"High-energy gaming streams, particularly focusing on FIFA and NBA 2K. Known for his over-the-top reactions, often involving screaming, breaking things, and outrageous behavior.\",\n",
      "  \"controversies\": [\n",
      "    \"Has faced controversy for making sexist, racist, and other offensive comments on stream, leading to bans from various platforms including Twitch and YouTube (temporary).\",\n",
      "    \"His on-screen antics are often interpreted as either comedic entertainment or problematic behavior, sparking ongoing debate.\"\n",
      "  ],\n",
      "  \"style\": \"Extremely energetic, loud, and often unpredictable. Employs a lot of slang and internet memes. His content relies heavily on shock value and humor.\",\n",
      "  \"popularity\": \"Despite (or perhaps because of) his controversies, IShowSpeed is extremely popular, particularly among younger audiences. His YouTube channel has millions of subscribers.\",\n",
      "  \"recent_updates\": \"Continues to create content on YouTube. His behaviour on streams has been moderated to some extent after the previous bans. Frequently collaborates with other large creators.\",\n",
      "  \"note\": \"It's important to be aware of the potentially offensive nature of his content before watching. Viewer discretion is advised.\"\n",
      "}\n",
      "```\n",
      "\n",
      "```json\n",
      "{\n",
      "  \"youtuber\": \"IShowSpeed\",\n",
      "  \"name\": \"达伦·沃特金斯二世\",\n",
      "  \"known_for\": \"高能量的游戏直播，尤其专注于FIFA和NBA 2K。以其夸张的反应而闻名，经常包括尖叫、破坏东西和出格的行为。\",\n",
      "  \"controversies\": [\n",
      "    \"曾因在直播中发表性别歧视、种族歧视和其他冒犯性言论而面临争议，导致被多个平台（包括Twitch和YouTube，临时性的）封禁。\",\n",
      "    \"他在屏幕上的滑稽动作通常被解释为喜剧娱乐或有问题行为，引发了持续的争论。\"\n",
      "  ],\n",
      "  \"style\": \"极其精力充沛、大声喧哗且经常难以预测。 使用大量的俚语和网络迷因。他的内容严重依赖于冲击价值和幽默。\",\n",
      "  \"popularity\": \"尽管（或者可能正是因为）他的争议，IShowSpeed 非常受欢迎，尤其是在年轻观众中。他的 YouTube 频道拥有数百万订阅者。\",\n",
      "  \"recent_updates\": \"继续在 YouTube 上创作内容。 在之前的禁令之后，他在直播中的行为在一定程度上得到了缓和。经常与其他大型创作者合作。\",\n",
      "  \"note\": \"在观看之前，重要的是要知道他的内容可能具有冒犯性。建议观众自行决定是否观看。\"\n",
      "}\n",
      "```\n",
      "\n"
     ]
    }
   ],
   "source": [
    "from google import genai\n",
    "\n",
    "client = genai.Client(api_key=genai_key)\n",
    "\n",
    "response = client.models.generate_content(\n",
    "    model=\"gemini-2.0-flash\",\n",
    "    contents=\"tell me the truth of ai agents\",\n",
    ")\n",
    "\n",
    "print(response.text)"
   ]
  },
  {
   "cell_type": "code",
   "execution_count": 4,
   "metadata": {},
   "outputs": [
    {
     "name": "stdout",
     "output_type": "stream",
     "text": [
      "```json\n",
      "[\n",
      "  {\n",
      "    \"recipe_name\": \"Chocolate Chip Cookies\",\n",
      "    \"ingredients\": [\n",
      "      \"2 1/4 cups all-purpose flour\",\n",
      "      \"1 teaspoon baking soda\",\n",
      "      \"1 teaspoon salt\",\n",
      "      \"1 cup (2 sticks) unsalted butter, softened\",\n",
      "      \"3/4 cup granulated sugar\",\n",
      "      \"3/4 cup packed brown sugar\",\n",
      "      \"1 teaspoon vanilla extract\",\n",
      "      \"2 large eggs\",\n",
      "      \"2 cups chocolate chips\"\n",
      "    ]\n",
      "  },\n",
      "  {\n",
      "    \"recipe_name\": \"Peanut Butter Cookies\",\n",
      "    \"ingredients\": [\n",
      "      \"1 cup peanut butter\",\n",
      "      \"1 cup granulated sugar\",\n",
      "      \"1 cup packed brown sugar\",\n",
      "      \"1 teaspoon vanilla extract\",\n",
      "      \"2 large eggs\",\n",
      "      \"1 1/4 cups all-purpose flour\",\n",
      "      \"1 teaspoon baking soda\",\n",
      "      \"1/2 teaspoon salt\"\n",
      "    ]\n",
      "  },\n",
      "  {\n",
      "    \"recipe_name\": \"Oatmeal Raisin Cookies\",\n",
      "    \"ingredients\": [\n",
      "      \"1 cup (2 sticks) unsalted butter, softened\",\n",
      "      \"3/4 cup packed brown sugar\",\n",
      "      \"1/2 cup granulated sugar\",\n",
      "      \"2 large eggs\",\n",
      "      \"1 teaspoon vanilla extract\",\n",
      "      \"1 1/2 cups all-purpose flour\",\n",
      "      \"1 teaspoon baking soda\",\n",
      "      \"1 teaspoon ground cinnamon\",\n",
      "      \"1/2 teaspoon salt\",\n",
      "      \"3 cups rolled oats\",\n",
      "      \"1 cup raisins\"\n",
      "    ]\n",
      "  },\n",
      "    {\n",
      "    \"recipe_name\": \"Sugar Cookies\",\n",
      "    \"ingredients\": [\n",
      "      \"1 1/2 cups (3 sticks) unsalted butter, softened\",\n",
      "      \"2 cups granulated sugar\",\n",
      "      \"4 large eggs\",\n",
      "      \"1 teaspoon vanilla extract\",\n",
      "      \"5 cups all-purpose flour\",\n",
      "      \"2 teaspoons baking powder\",\n",
      "      \"1 teaspoon salt\"\n",
      "    ]\n",
      "  }\n",
      "]\n",
      "```\n"
     ]
    }
   ],
   "source": [
    "from google import genai\n",
    "\n",
    "prompt = \"\"\"List a few popular cookie recipes in JSON format.\n",
    "\n",
    "Use this JSON schema:\n",
    "\n",
    "Recipe = {'recipe_name': str, 'ingredients': list[str]}\n",
    "Return: list[Recipe]\"\"\"\n",
    "\n",
    "client = genai.Client(api_key=genai_key)\n",
    "response = client.models.generate_content(\n",
    "    model='gemini-2.0-flash',\n",
    "    contents=prompt,\n",
    ")\n",
    "\n",
    "# Use the response as a JSON string.\n",
    "print(response.text)"
   ]
  },
  {
   "cell_type": "code",
   "execution_count": 5,
   "metadata": {},
   "outputs": [
    {
     "name": "stdout",
     "output_type": "stream",
     "text": [
      "[\n",
      "  {\n",
      "    \"recipe_name\": \"Chocolate Chip Cookies\",\n",
      "    \"ingredients\": [\n",
      "      \"1 cup (2 sticks) unsalted butter, softened\",\n",
      "      \"3/4 cup granulated sugar\",\n",
      "      \"3/4 cup packed brown sugar\",\n",
      "      \"1 teaspoon vanilla extract\",\n",
      "      \"2 large eggs\",\n",
      "      \"2 1/4 cups all-purpose flour\",\n",
      "      \"1 teaspoon baking soda\",\n",
      "      \"1 teaspoon salt\",\n",
      "      \"2 cups chocolate chips\"\n",
      "    ]\n",
      "  },\n",
      "  {\n",
      "    \"recipe_name\": \"Peanut Butter Cookies\",\n",
      "    \"ingredients\": [\n",
      "      \"1 cup (2 sticks) unsalted butter, softened\",\n",
      "      \"1 cup granulated sugar\",\n",
      "      \"1 cup packed brown sugar\",\n",
      "      \"1 cup creamy peanut butter\",\n",
      "      \"2 large eggs\",\n",
      "      \"1 teaspoon vanilla extract\",\n",
      "      \"2 1/2 cups all-purpose flour\",\n",
      "      \"1 teaspoon baking soda\",\n",
      "      \"1/2 teaspoon salt\"\n",
      "    ]\n",
      "  },\n",
      "  {\n",
      "    \"recipe_name\": \"Sugar Cookies\",\n",
      "    \"ingredients\": [\n",
      "      \"1 1/2 cups (3 sticks) unsalted butter, softened\",\n",
      "      \"2 cups granulated sugar\",\n",
      "      \"4 large eggs\",\n",
      "      \"1 teaspoon vanilla extract\",\n",
      "      \"5 cups all-purpose flour\",\n",
      "      \"2 teaspoons baking powder\",\n",
      "      \"1 teaspoon salt\"\n",
      "    ]\n",
      "  }\n",
      "]\n"
     ]
    }
   ],
   "source": [
    "from google import genai\n",
    "from pydantic import BaseModel\n",
    "\n",
    "\n",
    "class Recipe(BaseModel):\n",
    "  recipe_name: str\n",
    "  ingredients: list[str]\n",
    "\n",
    "\n",
    "client = genai.Client(api_key=genai_key)\n",
    "response = client.models.generate_content(\n",
    "    model='gemini-2.0-flash',\n",
    "    contents='List a few popular cookie recipes. Be sure to include the amounts of ingredients.',\n",
    "    config={\n",
    "        'response_mime_type': 'application/json',\n",
    "        'response_schema': list[Recipe],\n",
    "    },\n",
    ")\n",
    "# Use the response as a JSON string.\n",
    "print(response.text)\n",
    "\n",
    "# Use instantiated objects.\n",
    "my_recipes: list[Recipe] = response.parsed"
   ]
  },
  {
   "cell_type": "code",
   "execution_count": null,
   "metadata": {},
   "outputs": [],
   "source": []
  }
 ],
 "metadata": {
  "kernelspec": {
   "display_name": "Python 3",
   "language": "python",
   "name": "python3"
  },
  "language_info": {
   "codemirror_mode": {
    "name": "ipython",
    "version": 3
   },
   "file_extension": ".py",
   "mimetype": "text/x-python",
   "name": "python",
   "nbconvert_exporter": "python",
   "pygments_lexer": "ipython3",
   "version": "3.12.4"
  }
 },
 "nbformat": 4,
 "nbformat_minor": 2
}
