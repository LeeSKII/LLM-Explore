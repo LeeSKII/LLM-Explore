{
 "cells": [
  {
   "cell_type": "code",
   "execution_count": 2,
   "metadata": {},
   "outputs": [
    {
     "data": {
      "text/plain": [
       "True"
      ]
     },
     "execution_count": 2,
     "metadata": {},
     "output_type": "execute_result"
    }
   ],
   "source": [
    "import os\n",
    "from dotenv import load_dotenv\n",
    "\n",
    "load_dotenv()"
   ]
  },
  {
   "cell_type": "code",
   "execution_count": 3,
   "metadata": {},
   "outputs": [],
   "source": [
    "genai_key = os.getenv('GOOGLE_API_KEY')"
   ]
  },
  {
   "cell_type": "code",
   "execution_count": 4,
   "metadata": {},
   "outputs": [],
   "source": [
    "model_name = \"gemini-2.0-flash\""
   ]
  },
  {
   "cell_type": "code",
   "execution_count": 6,
   "metadata": {},
   "outputs": [],
   "source": [
    "model_name = \"gemini-2.5-flash-preview-05-20\""
   ]
  },
  {
   "cell_type": "code",
   "execution_count": 5,
   "metadata": {},
   "outputs": [
    {
     "ename": "ImportError",
     "evalue": "cannot import name 'genai' from 'google' (unknown location)",
     "output_type": "error",
     "traceback": [
      "\u001b[31m---------------------------------------------------------------------------\u001b[39m",
      "\u001b[31mImportError\u001b[39m                               Traceback (most recent call last)",
      "\u001b[36mCell\u001b[39m\u001b[36m \u001b[39m\u001b[32mIn[5]\u001b[39m\u001b[32m, line 1\u001b[39m\n\u001b[32m----> \u001b[39m\u001b[32m1\u001b[39m \u001b[38;5;28;01mfrom\u001b[39;00m\u001b[38;5;250m \u001b[39m\u001b[34;01mgoogle\u001b[39;00m\u001b[38;5;250m \u001b[39m\u001b[38;5;28;01mimport\u001b[39;00m genai\n\u001b[32m      3\u001b[39m client = genai.Client(api_key=genai_key)\n\u001b[32m      5\u001b[39m response = client.models.generate_content(\n\u001b[32m      6\u001b[39m     model=model_name,\n\u001b[32m      7\u001b[39m     contents=\u001b[33m\"\u001b[39m\u001b[33mtell me the truth of ai agents\u001b[39m\u001b[33m\"\u001b[39m,\n\u001b[32m      8\u001b[39m )\n",
      "\u001b[31mImportError\u001b[39m: cannot import name 'genai' from 'google' (unknown location)"
     ]
    }
   ],
   "source": [
    "from google import genai\n",
    "\n",
    "client = genai.Client(api_key=genai_key)\n",
    "\n",
    "response = client.models.generate_content(\n",
    "    model=model_name,\n",
    "    contents=\"tell me the truth of ai agents\",\n",
    ")\n",
    "\n",
    "print(response.text)"
   ]
  },
  {
   "cell_type": "code",
   "execution_count": null,
   "metadata": {},
   "outputs": [],
   "source": [
    "model_name = \"gemini-2.5-pro-exp-03-25\""
   ]
  },
  {
   "cell_type": "code",
   "execution_count": null,
   "metadata": {},
   "outputs": [
    {
     "name": "stdout",
     "output_type": "stream",
     "text": [
      "Okay, let's break down how Artificial Intelligence (AI) works in a way that's easy to understand.\n",
      "\n",
      "Think of AI as trying to get computers to **mimic human-like intelligence**. This could mean learning, problem-solving, understanding language, recognizing objects, making decisions, and more.\n",
      "\n",
      "At its core, AI isn't magic. It relies heavily on **data** and **algorithms**.\n",
      "\n",
      "Here's a breakdown of the key concepts:\n",
      "\n",
      "1.  **The Goal: Simulate Intelligence:** The aim is to create systems that can perform tasks that typically require human intelligence.\n",
      "\n",
      "2.  **The Fuel: Data:** AI systems need vast amounts of data to learn from. Think of it like a student needing textbooks and examples to learn a subject. The more relevant and high-quality data an AI has, the better it generally performs. This data can be anything: images, text, numbers, sounds, videos, etc.\n",
      "\n",
      "3.  **The Engine: Algorithms:** Algorithms are sets of rules or instructions that the computer follows. In AI, these algorithms are designed to enable the system to *learn* from the data, rather than just follow pre-programmed instructions for every single scenario.\n",
      "\n",
      "4.  **The Key Technique: Machine Learning (ML):** This is the most common approach to achieving AI today. Instead of explicitly programming rules for every possible situation, ML algorithms allow computers to **learn patterns and relationships directly from the data**.\n",
      "    *   **How ML Works (Simplified):**\n",
      "        *   You feed the algorithm lots of examples (the data).\n",
      "        *   The algorithm tries to find patterns, correlations, or structures within that data.\n",
      "        *   It builds a **model** based on these patterns. A model is like a compressed representation of the knowledge learned from the data.\n",
      "        *   You can then give this trained model *new*, unseen data, and it will make predictions, classifications, or decisions based on what it learned.\n",
      "    *   **Example:** To build an AI that recognizes cat pictures:\n",
      "        *   **Data:** Feed it thousands of pictures labeled \"cat\" and thousands labeled \"not cat.\"\n",
      "        *   **Algorithm:** Use a machine learning algorithm designed for image classification.\n",
      "        *   **Training:** The algorithm analyzes the pixels, shapes, and textures in the labeled images to learn what features typically define a \"cat.\"\n",
      "        *   **Model:** It creates a model that represents the \"catness\" patterns it found.\n",
      "        *   **Prediction:** Show it a new picture, and the model uses its learned patterns to predict whether it's a cat or not.\n",
      "\n",
      "5.  **A Deeper Dive: Deep Learning (DL):** This is a *subset* of Machine Learning that uses **Artificial Neural Networks (ANNs)** with many layers (hence \"deep\").\n",
      "    *   **Neural Networks:** Inspired by the structure of the human brain, ANNs consist of interconnected nodes or \"neurons\" organized in layers.\n",
      "    *   **How DL Works:** Data passes through these layers. Each layer extracts progressively more complex features from the data. For example, in image recognition, the first layers might detect simple edges, the next layers might combine edges to detect shapes, and deeper layers might combine shapes to recognize objects like eyes or noses, eventually leading to recognizing a face or a cat.\n",
      "    *   **Why DL is Powerful:** It's particularly good at finding very complex patterns in large datasets, especially unstructured data like images, sound, and natural language text. This is behind many recent AI breakthroughs (e.g., advanced voice assistants, image generation, sophisticated language translation).\n",
      "\n",
      "**The General Process (Putting it Together):**\n",
      "\n",
      "1.  **Data Collection & Preparation:** Gather relevant data and clean/format it so the AI can use it.\n",
      "2.  **Choose an Algorithm/Model:** Select the right type of ML/DL algorithm for the task.\n",
      "3.  **Training:** Feed the data to the algorithm to build the model. This involves repeatedly adjusting the model's internal parameters to minimize errors in its predictions on the training data. This step requires significant computing power.\n",
      "4.  **Evaluation:** Test the trained model on *new* data (data it hasn't seen before) to see how well it performs.\n",
      "5.  **Deployment:** If the model performs well, deploy it for its intended use (e.g., in an app, a self-driving car, a recommendation system).\n",
      "6.  **Iteration:** Continuously monitor performance and retrain/update the model with new data to improve it or adapt to changes.\n",
      "\n",
      "**In Simple Terms:**\n",
      "\n",
      "AI learns from examples (data) using sophisticated instructions (algorithms), often by finding complex patterns (especially with deep learning), to create a system (model) that can make predictions or decisions about new situations.\n",
      "\n",
      "It's less about creating a \"thinking\" machine in the human sense and more about building incredibly powerful pattern-recognition and prediction engines based on data."
     ]
    }
   ],
   "source": [
    "client = genai.Client(api_key=genai_key)\n",
    "\n",
    "response = client.models.generate_content_stream(\n",
    "    model=model_name,\n",
    "    contents=[\"Explain how AI works\"]\n",
    ")\n",
    "for chunk in response:\n",
    "    print(chunk.text, end=\"\")"
   ]
  },
  {
   "cell_type": "code",
   "execution_count": null,
   "metadata": {},
   "outputs": [
    {
     "name": "stdout",
     "output_type": "stream",
     "text": [
      "今天长沙的天气是晴朗，气温比较高。最高气温预计在35摄氏度左右，所以出门要注意防晒补水，尽量避免在中午时段进行户外活动。\n",
      "\n",
      "更详细的天气信息，例如湿度、风力等，建议您查看专业的实时天气预报网站或APP，例如中国天气网、墨迹天气等。\n",
      "\n",
      "根据长沙今天晴朗高温的天气，您需要准备以下物品：\n",
      "\n",
      "*   **防晒霜：** 选择SPF30或更高，PA+++或以上的防晒霜，并在出门前20-30分钟涂抹，之后每2小时补涂一次。\n",
      "*   **遮阳伞或帽子：** 有效遮挡阳光，保护皮肤。\n",
      "*   **太阳镜：** 保护眼睛免受紫外线伤害。\n",
      "*   **充足的水：** 高温容易脱水，随时补充水分。建议携带保温杯，装满凉白开或者淡盐水。\n",
      "*   **轻便透气的衣物：** 选择浅色、宽松、透气的棉麻或速干材质的衣服，有助于散热。\n",
      "*   **湿巾或纸巾：** 方便擦汗，保持清洁。\n",
      "*   **风扇（可选）：** 如果您容易感到闷热，可以携带一个小型风扇。\n",
      "\n",
      "**提醒：**\n",
      "\n",
      "*   尽量避免在中午12点到下午3点之间出门，这是气温最高的时段。\n",
      "*   如果必须在户外活动，尽量选择阴凉处。\n",
      "*   注意身体状况，如果感到头晕、恶心等不适，立即停止活动，到阴凉处休息并补充水分。\n",
      "\n",
      "role - user: 长沙今天的天气如何？\n",
      "role - model: 今天长沙的天气是晴朗，气温比较高。最高气温预计在35摄氏度左右，所以出门要注意防晒补水，尽量避免在中午时段进行户外活动。\n",
      "\n",
      "更详细的天气信息，例如湿度、风力等，建议您查看专业的实时天气预报网站或APP，例如中国天气网、墨迹天气等。\n",
      "\n",
      "role - user: 我需要准备什么？\n",
      "role - model: 根据长沙今天晴朗高温的天气，您需要准备以下物品：\n",
      "\n",
      "*   **防晒霜：** 选择SPF30或更高，PA+++或以上的防晒霜，并在出门前20-30分钟涂抹，之后每2小时补涂一次。\n",
      "*   **遮阳伞或帽子：** 有效遮挡阳光，保护皮肤。\n",
      "*   **太阳镜：** 保护眼睛免受紫外线伤害。\n",
      "*   **充足的水：** 高温容易脱水，随时补充水分。建议携带保温杯，装满凉白开或者淡盐水。\n",
      "*   **轻便透气的衣物：** 选择浅色、宽松、透气的棉麻或速干材质的衣服，有助于散热。\n",
      "*   **湿巾或纸巾：** 方便擦汗，保持清洁。\n",
      "*   **风扇（可选）：** 如果您容易感到闷热，可以携带一个小型风扇。\n",
      "\n",
      "**提醒：**\n",
      "\n",
      "*   尽量避免在中午12点到下午3点之间出门，这是气温最高的时段。\n",
      "*   如果必须在户外活动，尽量选择阴凉处。\n",
      "*   注意身体状况，如果感到头晕、恶心等不适，立即停止活动，到阴凉处休息并补充水分。\n",
      "\n"
     ]
    },
    {
     "ename": "",
     "evalue": "",
     "output_type": "error",
     "traceback": [
      "\u001b[1;31mThe Kernel crashed while executing code in the current cell or a previous cell. \n",
      "\u001b[1;31mPlease review the code in the cell(s) to identify a possible cause of the failure. \n",
      "\u001b[1;31mClick <a href='https://aka.ms/vscodeJupyterKernelCrash'>here</a> for more info. \n",
      "\u001b[1;31mView Jupyter <a href='command:jupyter.viewOutput'>log</a> for further details."
     ]
    }
   ],
   "source": [
    "from google import genai\n",
    "\n",
    "client = genai.Client(api_key=genai_key)\n",
    "chat = client.chats.create(model=\"gemini-2.0-flash\")\n",
    "\n",
    "response = chat.send_message(\"长沙今天的天气如何？\")\n",
    "print(response.text)\n",
    "\n",
    "response = chat.send_message(\"我需要准备什么？\")\n",
    "print(response.text)\n",
    "\n",
    "for message in chat.get_history():\n",
    "    print(f'role - {message.role}',end=\": \")\n",
    "    print(message.parts[0].text)"
   ]
  },
  {
   "cell_type": "code",
   "execution_count": 4,
   "metadata": {},
   "outputs": [
    {
     "name": "stdout",
     "output_type": "stream",
     "text": [
      "```json\n",
      "[\n",
      "  {\n",
      "    \"recipe_name\": \"Chocolate Chip Cookies\",\n",
      "    \"ingredients\": [\n",
      "      \"2 1/4 cups all-purpose flour\",\n",
      "      \"1 teaspoon baking soda\",\n",
      "      \"1 teaspoon salt\",\n",
      "      \"1 cup (2 sticks) unsalted butter, softened\",\n",
      "      \"3/4 cup granulated sugar\",\n",
      "      \"3/4 cup packed brown sugar\",\n",
      "      \"1 teaspoon vanilla extract\",\n",
      "      \"2 large eggs\",\n",
      "      \"2 cups chocolate chips\"\n",
      "    ]\n",
      "  },\n",
      "  {\n",
      "    \"recipe_name\": \"Peanut Butter Cookies\",\n",
      "    \"ingredients\": [\n",
      "      \"1 cup peanut butter\",\n",
      "      \"1 cup granulated sugar\",\n",
      "      \"1 cup packed brown sugar\",\n",
      "      \"1 teaspoon vanilla extract\",\n",
      "      \"2 large eggs\",\n",
      "      \"1 1/4 cups all-purpose flour\",\n",
      "      \"1 teaspoon baking soda\",\n",
      "      \"1/2 teaspoon salt\"\n",
      "    ]\n",
      "  },\n",
      "  {\n",
      "    \"recipe_name\": \"Oatmeal Raisin Cookies\",\n",
      "    \"ingredients\": [\n",
      "      \"1 cup (2 sticks) unsalted butter, softened\",\n",
      "      \"3/4 cup packed brown sugar\",\n",
      "      \"1/2 cup granulated sugar\",\n",
      "      \"2 large eggs\",\n",
      "      \"1 teaspoon vanilla extract\",\n",
      "      \"1 1/2 cups all-purpose flour\",\n",
      "      \"1 teaspoon baking soda\",\n",
      "      \"1 teaspoon ground cinnamon\",\n",
      "      \"1/2 teaspoon salt\",\n",
      "      \"3 cups rolled oats\",\n",
      "      \"1 cup raisins\"\n",
      "    ]\n",
      "  },\n",
      "    {\n",
      "    \"recipe_name\": \"Sugar Cookies\",\n",
      "    \"ingredients\": [\n",
      "      \"1 1/2 cups (3 sticks) unsalted butter, softened\",\n",
      "      \"2 cups granulated sugar\",\n",
      "      \"4 large eggs\",\n",
      "      \"1 teaspoon vanilla extract\",\n",
      "      \"5 cups all-purpose flour\",\n",
      "      \"2 teaspoons baking powder\",\n",
      "      \"1 teaspoon salt\"\n",
      "    ]\n",
      "  }\n",
      "]\n",
      "```\n"
     ]
    }
   ],
   "source": [
    "from google import genai\n",
    "\n",
    "prompt = \"\"\"List a few popular cookie recipes in JSON format.\n",
    "\n",
    "Use this JSON schema:\n",
    "\n",
    "Recipe = {'recipe_name': str, 'ingredients': list[str]}\n",
    "Return: list[Recipe]\"\"\"\n",
    "\n",
    "client = genai.Client(api_key=genai_key)\n",
    "response = client.models.generate_content(\n",
    "    model='gemini-2.0-flash',\n",
    "    contents=prompt,\n",
    ")\n",
    "\n",
    "# Use the response as a JSON string.\n",
    "print(response.text)"
   ]
  },
  {
   "cell_type": "code",
   "execution_count": 5,
   "metadata": {},
   "outputs": [
    {
     "name": "stdout",
     "output_type": "stream",
     "text": [
      "[\n",
      "  {\n",
      "    \"recipe_name\": \"Chocolate Chip Cookies\",\n",
      "    \"ingredients\": [\n",
      "      \"1 cup (2 sticks) unsalted butter, softened\",\n",
      "      \"3/4 cup granulated sugar\",\n",
      "      \"3/4 cup packed brown sugar\",\n",
      "      \"1 teaspoon vanilla extract\",\n",
      "      \"2 large eggs\",\n",
      "      \"2 1/4 cups all-purpose flour\",\n",
      "      \"1 teaspoon baking soda\",\n",
      "      \"1 teaspoon salt\",\n",
      "      \"2 cups chocolate chips\"\n",
      "    ]\n",
      "  },\n",
      "  {\n",
      "    \"recipe_name\": \"Peanut Butter Cookies\",\n",
      "    \"ingredients\": [\n",
      "      \"1 cup (2 sticks) unsalted butter, softened\",\n",
      "      \"1 cup granulated sugar\",\n",
      "      \"1 cup packed brown sugar\",\n",
      "      \"1 cup creamy peanut butter\",\n",
      "      \"2 large eggs\",\n",
      "      \"1 teaspoon vanilla extract\",\n",
      "      \"2 1/2 cups all-purpose flour\",\n",
      "      \"1 teaspoon baking soda\",\n",
      "      \"1/2 teaspoon salt\"\n",
      "    ]\n",
      "  },\n",
      "  {\n",
      "    \"recipe_name\": \"Sugar Cookies\",\n",
      "    \"ingredients\": [\n",
      "      \"1 1/2 cups (3 sticks) unsalted butter, softened\",\n",
      "      \"2 cups granulated sugar\",\n",
      "      \"4 large eggs\",\n",
      "      \"1 teaspoon vanilla extract\",\n",
      "      \"5 cups all-purpose flour\",\n",
      "      \"2 teaspoons baking powder\",\n",
      "      \"1 teaspoon salt\"\n",
      "    ]\n",
      "  }\n",
      "]\n"
     ]
    }
   ],
   "source": [
    "from google import genai\n",
    "from pydantic import BaseModel\n",
    "\n",
    "\n",
    "class Recipe(BaseModel):\n",
    "  recipe_name: str\n",
    "  ingredients: list[str]\n",
    "\n",
    "\n",
    "client = genai.Client(api_key=genai_key)\n",
    "response = client.models.generate_content(\n",
    "    model='gemini-2.0-flash',\n",
    "    contents='List a few popular cookie recipes. Be sure to include the amounts of ingredients.',\n",
    "    config={\n",
    "        'response_mime_type': 'application/json',\n",
    "        'response_schema': list[Recipe],\n",
    "    },\n",
    ")\n",
    "# Use the response as a JSON string.\n",
    "print(response.text)\n",
    "\n",
    "# Use instantiated objects.\n",
    "my_recipes: list[Recipe] = response.parsed"
   ]
  },
  {
   "cell_type": "code",
   "execution_count": null,
   "metadata": {},
   "outputs": [],
   "source": []
  }
 ],
 "metadata": {
  "kernelspec": {
   "display_name": "Python 3",
   "language": "python",
   "name": "python3"
  },
  "language_info": {
   "codemirror_mode": {
    "name": "ipython",
    "version": 3
   },
   "file_extension": ".py",
   "mimetype": "text/x-python",
   "name": "python",
   "nbconvert_exporter": "python",
   "pygments_lexer": "ipython3",
   "version": "3.13.2"
  }
 },
 "nbformat": 4,
 "nbformat_minor": 2
}
