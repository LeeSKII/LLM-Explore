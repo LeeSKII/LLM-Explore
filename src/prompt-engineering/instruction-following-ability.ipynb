{
 "cells": [
  {
   "cell_type": "code",
   "execution_count": 24,
   "id": "b384e314",
   "metadata": {},
   "outputs": [
    {
     "data": {
      "text/plain": [
       "True"
      ]
     },
     "execution_count": 24,
     "metadata": {},
     "output_type": "execute_result"
    }
   ],
   "source": [
    "import json\n",
    "from pydantic import BaseModel\n",
    "import os\n",
    "from litellm import completion\n",
    "from dotenv import load_dotenv\n",
    "import re\n",
    "load_dotenv()"
   ]
  },
  {
   "cell_type": "code",
   "execution_count": 7,
   "id": "4ffce8bd",
   "metadata": {},
   "outputs": [
    {
     "name": "stdout",
     "output_type": "stream",
     "text": [
      "{'properties': {'id': {'title': 'Id', 'type': 'integer'}, 'name': {'default': 'John Doe', 'title': 'Name', 'type': 'string'}, 'age': {'anyOf': [{'type': 'integer'}, {'type': 'null'}], 'default': None, 'title': 'Age'}}, 'required': ['id'], 'title': 'User', 'type': 'object'}\n"
     ]
    }
   ],
   "source": [
    "class User(BaseModel):\n",
    "    id: int\n",
    "    name: str = \"John Doe\"\n",
    "    age: int | None = None\n",
    "\n",
    "response_model = User\n",
    "# 生成 JSON Schema\n",
    "schema = User.model_json_schema()\n",
    "print(schema)"
   ]
  },
  {
   "cell_type": "code",
   "execution_count": 10,
   "id": "c9e4f738",
   "metadata": {},
   "outputs": [],
   "source": [
    "content = '''\n",
    "小红今年5岁，学号32\n",
    "'''"
   ]
  },
  {
   "cell_type": "code",
   "execution_count": 15,
   "id": "6007224f",
   "metadata": {},
   "outputs": [],
   "source": [
    "system_prompt = f'''\n",
    "As a genius expert, your task is to understand the content and provide\n",
    "the parsed objects in json that match the following json_schema:\\n\n",
    "\n",
    "{json.dumps(response_model.model_json_schema(), indent=2, ensure_ascii=False)}\n",
    "\n",
    "Make sure to return an instance of the JSON, not the schema itself.Return the correct JSON response within a markdown ```json codeblock. not the JSON_SCHEMA.\n",
    "'''"
   ]
  },
  {
   "cell_type": "code",
   "execution_count": 9,
   "id": "d8cf6356",
   "metadata": {},
   "outputs": [
    {
     "data": {
      "text/plain": [
       "'\\nAs a genius expert, your task is to understand the content and provide\\nthe parsed objects in json that match the following json_schema:\\n\\n\\n{\\n  \"properties\": {\\n    \"id\": {\\n      \"title\": \"Id\",\\n      \"type\": \"integer\"\\n    },\\n    \"name\": {\\n      \"default\": \"John Doe\",\\n      \"title\": \"Name\",\\n      \"type\": \"string\"\\n    },\\n    \"age\": {\\n      \"anyOf\": [\\n        {\\n          \"type\": \"integer\"\\n        },\\n        {\\n          \"type\": \"null\"\\n        }\\n      ],\\n      \"default\": null,\\n      \"title\": \"Age\"\\n    }\\n  },\\n  \"required\": [\\n    \"id\"\\n  ],\\n  \"title\": \"User\",\\n  \"type\": \"object\"\\n}\\n\\nMake sure to return an instance of the JSON, not the schema itself\\n'"
      ]
     },
     "execution_count": 9,
     "metadata": {},
     "output_type": "execute_result"
    }
   ],
   "source": [
    "system_prompt"
   ]
  },
  {
   "cell_type": "code",
   "execution_count": 13,
   "id": "186457e7",
   "metadata": {},
   "outputs": [],
   "source": [
    "api_key = os.getenv(\"QWEN_API_KEY\")\n",
    "base_url = os.getenv(\"QWEN_API_BASE_URL\")"
   ]
  },
  {
   "cell_type": "code",
   "execution_count": 14,
   "id": "4e34f8cd",
   "metadata": {},
   "outputs": [],
   "source": [
    "MODEL_NAME = 'openai/qwen-turbo-latest'"
   ]
  },
  {
   "cell_type": "code",
   "execution_count": 17,
   "id": "3f962207",
   "metadata": {},
   "outputs": [],
   "source": [
    "MODEL_NAME = 'openai/qwen3-8b'"
   ]
  },
  {
   "cell_type": "code",
   "execution_count": null,
   "id": "f923215e",
   "metadata": {},
   "outputs": [
    {
     "name": "stdout",
     "output_type": "stream",
     "text": [
      "\n",
      "====================思考过程====================\n",
      "\n",
      "好的，我现在需要处理用户的输入，把信息转换成符合给定JSON Schema的格式。用户提供的信息是“小红今年5岁，学号32”。首先，我要解析这句话，提取出各个字段的值。\n",
      "\n",
      "首先，用户提到了“小红”，这应该是名字，对应JSON中的name字段。根据schema，name的默认值是John Doe，但这里显然需要替换成“小红”。接下来是年龄，用户说“5岁”，所以age应该是5，类型是整数。然后是学号32，但schema里并没有学号这个字段，所以可能需要忽略掉。不过，我需要再仔细检查一下schema的结构，确保没有遗漏。\n",
      "\n",
      "看一下schema的properties，里面有id、name、age三个字段。其中id是必填的，类型是整数。用户提到的学号32可能对应id，因为学号通常是一个唯一的标识符，类似于id。所以这里的学号32应该映射到id字段，即id:32。而name是小红，age是5。这样三个字段都符合schema的要求。\n",
      "\n",
      "再检查一下是否所有必填字段都存在。required里只有id，所以只要id存在就行。其他字段如name和age虽然不是必填，但用户提供了信息，应该填上。年龄的schema允许整数或null，默认是null，但这里用户明确给出了5岁，所以age应该是5。\n",
      "\n",
      "确认没有问题后，就可以构造JSON对象了：id是32，name是小红，age是5。这样就符合用户提供的schema要求了。学号虽然没有在schema里出现，但根据上下文推测它对应id，所以正确。\n",
      "====================回复部分====================\n",
      "\n",
      "```json\n",
      "{\n",
      "  \"id\": 32,\n",
      "  \"name\": \"小红\",\n",
      "  \"age\": 5\n",
      "}\n",
      "```"
     ]
    }
   ],
   "source": [
    "from numpy import full\n",
    "\n",
    "\n",
    "stream = completion(\n",
    "    model=MODEL_NAME, \n",
    "    messages=[{'role':'assistant','content':system_prompt},{\"role\": \"user\", \"content\": content}],\n",
    "    max_retries= 3,\n",
    "    temperature=0.2,\n",
    "    api_key=api_key,\n",
    "    base_url=base_url,\n",
    "    stream=True,\n",
    ")\n",
    "\n",
    "reasoning_content = ''\n",
    "answer_content = ''\n",
    "is_answering = False  # 是否进入回复阶段\n",
    "\n",
    "print(\"\\n\" + \"=\" * 20 + \"思考过程\" + \"=\" * 20 + \"\\n\")\n",
    "if stream:\n",
    "    response = \"\"\n",
    "    for chunk in stream:\n",
    "        delta = chunk.choices[0].delta\n",
    "        # 收集思考内容\n",
    "        if hasattr(delta, \"reasoning_content\") and delta.reasoning_content is not None:\n",
    "                if not is_answering:\n",
    "                    print(delta.reasoning_content, end=\"\", flush=True)\n",
    "                reasoning_content += delta.reasoning_content\n",
    "        # 收到content，开始进行回复\n",
    "        if hasattr(delta, \"content\") and delta.content:\n",
    "            if not is_answering:\n",
    "                print(\"\\n\" + \"=\" * 20 + \"回复部分\" + \"=\" * 20 + \"\\n\")\n",
    "                is_answering = True\n",
    "            print(delta.content, end=\"\", flush=True)\n",
    "            answer_content += delta.content      \n",
    "            "
   ]
  },
  {
   "cell_type": "code",
   "execution_count": 25,
   "id": "723d061c",
   "metadata": {},
   "outputs": [],
   "source": [
    "# Regex patterns for JSON extraction\n",
    "_JSON_CODEBLOCK_PATTERN = re.compile(r\"```(?:json)?\\s*(.*?)\\s*```\", re.DOTALL)\n",
    "_JSON_PATTERN = re.compile(r\"({[\\s\\S]*})\")"
   ]
  },
  {
   "cell_type": "code",
   "execution_count": 26,
   "id": "79619fa6",
   "metadata": {},
   "outputs": [],
   "source": [
    "def extract_json_from_codeblock(content: str) -> str:\n",
    "    \"\"\"\n",
    "    Extract JSON from a string that may contain markdown code blocks or plain JSON.\n",
    "\n",
    "    This optimized version uses regex patterns to extract JSON more efficiently.\n",
    "\n",
    "    Args:\n",
    "        content: The string that may contain JSON\n",
    "\n",
    "    Returns:\n",
    "        The extracted JSON string\n",
    "    \"\"\"\n",
    "    # First try to find JSON in code blocks\n",
    "    match = _JSON_CODEBLOCK_PATTERN.search(content)\n",
    "    if match:\n",
    "        json_content = match.group(1).strip()\n",
    "    else:\n",
    "        # Look for JSON objects with the pattern { ... }\n",
    "        match = _JSON_PATTERN.search(content)\n",
    "        if match:\n",
    "            json_content = match.group(1)\n",
    "        else:\n",
    "            # Fallback to the old method if regex doesn't find anything\n",
    "            first_paren = content.find(\"{\")\n",
    "            last_paren = content.rfind(\"}\")\n",
    "            if first_paren != -1 and last_paren != -1:\n",
    "                json_content = content[first_paren : last_paren + 1]\n",
    "            else:\n",
    "                json_content = content  # Return as is if no JSON-like content found\n",
    "\n",
    "    return json_content\n"
   ]
  },
  {
   "cell_type": "code",
   "execution_count": 27,
   "id": "07d0a9c5",
   "metadata": {},
   "outputs": [
    {
     "data": {
      "text/plain": [
       "'{\\n  \"id\": 32,\\n  \"name\": \"小红\",\\n  \"age\": 5\\n}'"
      ]
     },
     "execution_count": 27,
     "metadata": {},
     "output_type": "execute_result"
    }
   ],
   "source": [
    "extract_json_from_codeblock(answer_content)"
   ]
  },
  {
   "cell_type": "code",
   "execution_count": null,
   "id": "f07c2e81",
   "metadata": {},
   "outputs": [],
   "source": []
  }
 ],
 "metadata": {
  "kernelspec": {
   "display_name": "Python 3",
   "language": "python",
   "name": "python3"
  },
  "language_info": {
   "codemirror_mode": {
    "name": "ipython",
    "version": 3
   },
   "file_extension": ".py",
   "mimetype": "text/x-python",
   "name": "python",
   "nbconvert_exporter": "python",
   "pygments_lexer": "ipython3",
   "version": "3.13.2"
  }
 },
 "nbformat": 4,
 "nbformat_minor": 5
}
