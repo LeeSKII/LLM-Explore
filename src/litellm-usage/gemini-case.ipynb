{
 "cells": [
  {
   "cell_type": "code",
   "execution_count": 2,
   "id": "042ae976",
   "metadata": {},
   "outputs": [
    {
     "name": "stdout",
     "output_type": "stream",
     "text": [
      "好的，我来介绍一下我自己：\n",
      "\n",
      "我是一个大型语言模型，也称为对话式人工智能或聊天机器人，由 Google 训练。\n",
      "\n",
      "我的主要能力和特点包括：\n",
      "\n",
      "*   **生成文本：** 我可以生成各种类型的文本，例如文章、故事、诗歌、代码、剧本、音乐作品、电子邮件、信件等。\n",
      "*   **回答问题：** 我可以尝试以信息丰富且全面的方式回答你的问题，即使问题是开放式的、具有挑战性的或奇怪的。\n",
      "*   **翻译语言：** 我可以将文本从一种语言翻译成另一种语言。\n",
      "*   **总结文本：** 我可以总结文章或文档的要点。\n",
      "*   **生成不同创意文本格式：** 我会尽力满足你所有的要求。\n",
      "*   **遵循你的指示并周到地完成你的请求。**\n",
      "\n",
      "我的知识来源于海量的文本数据，这些数据使我能够学习和理解语言、信息和概念。 我不断学习新的信息并改进我的能力。\n",
      "\n",
      "**简而言之，我是一个旨在帮助用户完成各种任务的 AI 工具。**\n",
      "\n",
      "为了更好地帮助你，请告诉我你需要我做什么？ 我能回答你的问题吗？ 帮你写什么东西？ 还是你想了解更多关于我的信息？\n"
     ]
    }
   ],
   "source": [
    "import os\n",
    "from litellm import completion\n",
    "\n",
    "api_key = os.getenv(\"GEMINI_API_KEY\")\n",
    "stream = completion(\n",
    "    model=\"gemini/gemini-2.0-flash\", \n",
    "    messages=[{\"role\": \"user\", \"content\": \"请介绍一下你自己\"}],\n",
    "    max_retries= 3,\n",
    "    api_key=api_key,\n",
    "    stream=True,\n",
    ")\n",
    "\n",
    "if stream:\n",
    "    response = \"\"\n",
    "    for chunk in stream:\n",
    "        if chunk.choices[0].delta.content is not None:\n",
    "            response += chunk.choices[0].delta.content\n",
    "            print(chunk.choices[0].delta.content, end=\"\")"
   ]
  },
  {
   "cell_type": "code",
   "execution_count": null,
   "id": "73ff04fc",
   "metadata": {},
   "outputs": [],
   "source": []
  }
 ],
 "metadata": {
  "kernelspec": {
   "display_name": "Python 3",
   "language": "python",
   "name": "python3"
  },
  "language_info": {
   "codemirror_mode": {
    "name": "ipython",
    "version": 3
   },
   "file_extension": ".py",
   "mimetype": "text/x-python",
   "name": "python",
   "nbconvert_exporter": "python",
   "pygments_lexer": "ipython3",
   "version": "3.13.2"
  }
 },
 "nbformat": 4,
 "nbformat_minor": 5
}
