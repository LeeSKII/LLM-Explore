{
 "cells": [
  {
   "cell_type": "markdown",
   "id": "15222b3a",
   "metadata": {},
   "source": [
    "## 展示基于litellm的openai-compatible模型的使用方法\n",
    "\n",
    "使用模型包括deepseek,qwen,gemini\n",
    "\n",
    "包括其中的推理类和非推理模型"
   ]
  },
  {
   "cell_type": "code",
   "execution_count": 2,
   "id": "d61f7489",
   "metadata": {},
   "outputs": [
    {
     "data": {
      "text/plain": [
       "True"
      ]
     },
     "execution_count": 2,
     "metadata": {},
     "output_type": "execute_result"
    }
   ],
   "source": [
    "import os\n",
    "from litellm import completion\n",
    "from dotenv import load_dotenv\n",
    "\n",
    "load_dotenv()"
   ]
  },
  {
   "cell_type": "code",
   "execution_count": 5,
   "id": "05c9a653",
   "metadata": {},
   "outputs": [],
   "source": [
    "api_key = os.getenv(\"QWEN_API_KEY\")\n",
    "base_url = os.getenv(\"QWEN_API_BASE_URL\")"
   ]
  },
  {
   "cell_type": "code",
   "execution_count": 20,
   "id": "ca48f4a9",
   "metadata": {},
   "outputs": [],
   "source": [
    "api_key = os.getenv(\"DEEPSEEK_API_KEY\")\n",
    "base_url = os.getenv(\"DEEPSEEK_API_BASE_URL\")"
   ]
  },
  {
   "cell_type": "code",
   "execution_count": 29,
   "id": "e85d98e5",
   "metadata": {},
   "outputs": [],
   "source": [
    "api_key = os.getenv(\"GEMINI_API_KEY\")\n",
    "base_url = os.getenv('GEMINI_API_BASE_URL')"
   ]
  },
  {
   "cell_type": "code",
   "execution_count": 17,
   "id": "421b78c7",
   "metadata": {},
   "outputs": [],
   "source": [
    "MODEL_NAME = 'openai/qwen-turbo-latest'"
   ]
  },
  {
   "cell_type": "code",
   "execution_count": 8,
   "id": "781a8ea7",
   "metadata": {},
   "outputs": [],
   "source": [
    "MODEL_NAME = 'openai/qwen-plus-latest'"
   ]
  },
  {
   "cell_type": "code",
   "execution_count": 10,
   "id": "6e9d648f",
   "metadata": {},
   "outputs": [],
   "source": [
    "MODEL_NAME = 'openai/qwen3-235b-a22b'"
   ]
  },
  {
   "cell_type": "code",
   "execution_count": 21,
   "id": "149c5152",
   "metadata": {},
   "outputs": [],
   "source": [
    "MODEL_NAME = 'openai/deepseek-chat'"
   ]
  },
  {
   "cell_type": "code",
   "execution_count": 23,
   "id": "02efe8b7",
   "metadata": {},
   "outputs": [],
   "source": [
    "MODEL_NAME = 'openai/deepseek-reasoner'"
   ]
  },
  {
   "cell_type": "code",
   "execution_count": 26,
   "id": "e3febe10",
   "metadata": {},
   "outputs": [],
   "source": [
    "MODEL_NAME = 'gemini/gemini-2.0-flash'"
   ]
  },
  {
   "cell_type": "code",
   "execution_count": 30,
   "id": "a2ed7581",
   "metadata": {},
   "outputs": [
    {
     "name": "stdout",
     "output_type": "stream",
     "text": [
      "\n",
      "====================思考过程====================\n",
      "\n",
      "\n",
      "====================回复部分====================\n",
      "\n",
      "生命的意义是一个古老而复杂的问题，几千年来哲学家、神学家、科学家和普通人都在苦苦思索。 并没有一个单一的、普遍接受的答案，因为生命的意义对每个人来说都可能有所不同。\n",
      "\n",
      "以下是一些关于生命意义的常见视角和思考方向：\n",
      "\n",
      "**1. 存在主义视角：**\n",
      "\n",
      "*   **强调个人自由和责任：** 存在主义认为生命本身并没有预先设定的意义，我们需要自己创造意义。 每个人都有自由选择自己的价值观和目标，并承担相应的责任。\n",
      "*   **关注个人经验和选择：** 存在主义鼓励人们深入思考自己的存在，面对生命的荒谬和不确定性，做出真实的选择。\n",
      "*   **拥抱焦虑和不确定性：** 存在主义认为焦虑是生命的自然组成部分，我们需要拥抱这种不确定性，而不是试图逃避。\n",
      "\n",
      "**2. 虚无主义视角：**\n",
      "\n",
      "*   **认为生命没有内在意义或价值：** 虚无主义者相信，宇宙是无情的、冷漠的，人类的存在是偶然的，没有目的或意义。\n",
      "*   **拒绝一切道德和价值观：** 虚无主义可能会导致对传统价值观的否定，甚至是对生命的绝望。\n",
      "\n",
      "**3. 目标和成就视角：**\n",
      "\n",
      "*   **通过追求目标和成就来定义意义：** 这种观点认为，通过设定目标，努力奋斗，并最终取得成就，可以赋予生命意义。\n",
      "*   **强调成功、影响力和社会贡献：** 这种意义可能来自于职业生涯的成功、对社会的贡献、创造性的成就，或者其他任何能让自己感到有价值的事情。\n",
      "\n",
      "**4. 关系和连接视角：**\n",
      "\n",
      "*   **通过与他人建立联系来找到意义：** 这种观点认为，人际关系，如亲情、友情、爱情，以及社区联系，可以赋予生命深刻的意义。\n",
      "*   **强调爱、同情和奉献：** 通过爱他人，关心他人，并为他人付出，可以感受到生命的意义。\n",
      "\n",
      "**5. 体验和享受视角：**\n",
      "\n",
      "*   **通过体验美好和享受生活来找到意义：** 这种观点认为，生命在于体验，包括快乐、幸福、美丽、创造力、好奇心和感官享受。\n",
      "*   **强调当下，珍惜每一刻：** 这种意义可能来自于旅游、艺术、美食、自然、音乐，或者任何能让自己感到快乐和满足的事情。\n",
      "\n",
      "**6. 精神和宗教视角：**\n",
      "\n",
      "*   **通过与更高的力量或信仰体系连接来找到意义：** 宗教信仰通常会提供关于生命起源、目的和最终命运的答案。\n",
      "*   **强调服务、奉献和超越自我：** 这种意义可能来自于对神的敬拜、对教义的遵循、对社区的服务，以及对永生的追求。\n",
      "\n",
      "**7. 科学视角：**\n",
      "\n",
      "*   **从进化和生物学的角度解释生命：** 科学解释生命的起源和发展，强调基因的传递和物种的延续。\n",
      "*   **关注生存和繁衍：** 从科学的角度来看，生命的意义可能在于生存、繁衍和适应环境。\n",
      "\n",
      "**一些补充思考：**\n",
      "\n",
      "*   **生命的意义可以是主观的：**  每个人都可以根据自己的价值观、信仰和经历来定义自己的生命的意义。\n",
      "*   **生命的意义可能会随着时间而改变：**  随着年龄的增长和经历的积累，我们对生命的意义可能会有不同的理解。\n",
      "*   **重要的是去寻找意义，而不是找到一个唯一的答案：**  寻找生命的意义本身就是一个有意义的过程。\n",
      "*   **不要害怕提问，不断探索：**  生命的意义是一个持续的探索过程，需要我们不断地思考、学习和体验。\n",
      "\n",
      "最终，生命的意义掌握在你自己手中。  重要的是找到对你来说真正有意义的东西，并为之努力奋斗。 这可能需要一段时间的自我反省和探索，但这是一个值得的旅程。\n",
      "\n",
      "希望这些信息能帮助你思考生命的意义。  请记住，没有绝对的答案，重要的是找到对你而言有意义的答案。\n"
     ]
    }
   ],
   "source": [
    "stream = completion(\n",
    "    model=MODEL_NAME, \n",
    "    messages=[{\"role\": \"user\", \"content\": \"请解释下生命的意义\"}],\n",
    "    max_retries= 3,\n",
    "    api_key=api_key,\n",
    "    base_url=base_url,\n",
    "    stream=True,\n",
    ")\n",
    "\n",
    "reasoning_content = ''\n",
    "answer_content = ''\n",
    "is_answering = False  # 是否进入回复阶段\n",
    "\n",
    "print(\"\\n\" + \"=\" * 20 + \"思考过程\" + \"=\" * 20 + \"\\n\")\n",
    "if stream:\n",
    "    response = \"\"\n",
    "    for chunk in stream:\n",
    "        delta = chunk.choices[0].delta\n",
    "        # 收集思考内容\n",
    "        if hasattr(delta, \"reasoning_content\") and delta.reasoning_content is not None:\n",
    "                if not is_answering:\n",
    "                    print(delta.reasoning_content, end=\"\", flush=True)\n",
    "                reasoning_content += delta.reasoning_content\n",
    "        # 收到content，开始进行回复\n",
    "        if hasattr(delta, \"content\") and delta.content:\n",
    "            if not is_answering:\n",
    "                print(\"\\n\" + \"=\" * 20 + \"回复部分\" + \"=\" * 20 + \"\\n\")\n",
    "                is_answering = True\n",
    "            print(delta.content, end=\"\", flush=True)\n",
    "            answer_content += delta.content      \n",
    "            "
   ]
  },
  {
   "cell_type": "code",
   "execution_count": null,
   "id": "f39e4b77",
   "metadata": {},
   "outputs": [],
   "source": []
  }
 ],
 "metadata": {
  "kernelspec": {
   "display_name": "Python 3",
   "language": "python",
   "name": "python3"
  },
  "language_info": {
   "codemirror_mode": {
    "name": "ipython",
    "version": 3
   },
   "file_extension": ".py",
   "mimetype": "text/x-python",
   "name": "python",
   "nbconvert_exporter": "python",
   "pygments_lexer": "ipython3",
   "version": "3.13.2"
  }
 },
 "nbformat": 4,
 "nbformat_minor": 5
}
