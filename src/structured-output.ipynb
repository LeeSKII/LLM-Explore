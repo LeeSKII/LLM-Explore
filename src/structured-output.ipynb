{
 "cells": [
  {
   "cell_type": "code",
   "execution_count": 37,
   "metadata": {},
   "outputs": [
    {
     "data": {
      "text/plain": [
       "True"
      ]
     },
     "execution_count": 37,
     "metadata": {},
     "output_type": "execute_result"
    }
   ],
   "source": [
    "import os\n",
    "from dotenv import load_dotenv\n",
    "\n",
    "load_dotenv()"
   ]
  },
  {
   "cell_type": "code",
   "execution_count": 3,
   "metadata": {},
   "outputs": [],
   "source": [
    "api_key = os.getenv(\"API_KEY\")\n",
    "base_url = os.getenv(\"API_BASE_URL\")"
   ]
  },
  {
   "cell_type": "code",
   "execution_count": 31,
   "metadata": {},
   "outputs": [],
   "source": [
    "from typing import List\n",
    "from openai import OpenAI\n",
    "\n",
    "def chat_with_llm(message:List):\n",
    "    client = OpenAI(\n",
    "        base_url=base_url,\n",
    "        api_key=api_key,\n",
    "    )\n",
    "    try:\n",
    "        completion = client.chat.completions.create(\n",
    "            model=\"google/gemini-2.5-pro-exp-03-25:free\",\n",
    "            messages=message\n",
    "        )\n",
    "        return completion.choices[0].message.content\n",
    "    except Exception as e:\n",
    "        return f'Error: {e}'"
   ]
  },
  {
   "cell_type": "code",
   "execution_count": 29,
   "metadata": {},
   "outputs": [],
   "source": [
    "message = [{'role': \"system\", \"content\": '请告知你的所有能力'}, {'role': \"user\", \"content\": '输出一段json数据，显示你最喜欢的电影，键：name,showtime'}]"
   ]
  },
  {
   "cell_type": "code",
   "execution_count": 44,
   "metadata": {},
   "outputs": [
    {
     "name": "stdout",
     "output_type": "stream",
     "text": [
      "好的，我可以为您生成一个符合要求的 JSON 示例。\n",
      "\n",
      "但请注意，作为一个大型语言模型，我没有个人喜好，所以无法拥有“最喜欢”的电影。同样，我也无法获取实时的电影放映时间（showtime）。\n",
      "\n",
      "因此，以下提供的 JSON 数据是一个**示例**，用以展示格式，并非代表我的真实偏好或实际的放映信息：\n",
      "\n",
      "```json\n",
      "{\n",
      "  \"name\": \"示例电影 (Example Movie)\",\n",
      "  \"showtime\": \"不适用 (Not Applicable)\"\n",
      "}\n",
      "```\n",
      "\n",
      "如果您想了解某部具体电影的信息或当前的放映时间，建议您查询相关的电影数据库或票务平台。\n"
     ]
    }
   ],
   "source": [
    "result = chat_with_llm(message)\n",
    "print(result)"
   ]
  },
  {
   "cell_type": "code",
   "execution_count": null,
   "metadata": {},
   "outputs": [
    {
     "name": "stdout",
     "output_type": "stream",
     "text": [
      "This is a landscape photograph centered on a wooden boardwalk.\n",
      "\n",
      "1.  **Foreground/Center:** A straight wooden boardwalk path begins at the bottom edge of the frame and leads directly away from the viewer towards the horizon. The wooden planks are weathered and arranged crosswise, with wooden railings or edges running along both sides.\n",
      "2.  **Midground:** The boardwalk is surrounded on both sides by tall, dense, vibrant green grass, suggesting a meadow, field, or marshland. The grass is lush and appears well-lit by sunlight.\n",
      "3.  **Background:** In the distance, beyond the grassy expanse, there is a line of green trees and bushes forming the horizon under the sky.\n",
      "4.  **Sky:** The upper half of the image is dominated by a bright blue sky filled with scattered, wispy white clouds. The lighting suggests it might be daytime, possibly late afternoon or early morning, given the warm tones and the appearance of the clouds and sky.\n",
      "\n",
      "The overall impression is one of a peaceful, natural scene, inviting the viewer to walk along the path through the open landscape. The composition uses the boardwalk as a strong leading line, drawing the eye into the distance.\n"
     ]
    }
   ],
   "source": [
    "\n",
    "\n",
    "client = OpenAI(\n",
    "  base_url=base_url,\n",
    "  api_key=api_key,\n",
    ")\n",
    "\n",
    "completion = client.chat.completions.create(\n",
    "  extra_body={},\n",
    "  model=\"google/gemini-2.5-pro-exp-03-25:free\",\n",
    "  messages=[\n",
    "    {\n",
    "      \"role\": \"user\",\n",
    "      \"content\": [\n",
    "        {\n",
    "          \"type\": \"text\",\n",
    "          \"text\": \"What is in this image?\"\n",
    "        },\n",
    "        {\n",
    "          \"type\": \"image_url\",\n",
    "          \"image_url\": {\n",
    "            \"url\": \"https://upload.wikimedia.org/wikipedia/commons/thumb/d/dd/Gfp-wisconsin-madison-the-nature-boardwalk.jpg/2560px-Gfp-wisconsin-madison-the-nature-boardwalk.jpg\"\n",
    "          }\n",
    "        }\n",
    "      ]\n",
    "    }\n",
    "  ]\n",
    ")\n",
    "print(completion.choices[0].message.content)"
   ]
  },
  {
   "cell_type": "code",
   "execution_count": 41,
   "metadata": {},
   "outputs": [],
   "source": [
    "genai_key = os.getenv('GOOGLE_API_KEY')"
   ]
  },
  {
   "cell_type": "code",
   "execution_count": 47,
   "metadata": {},
   "outputs": [
    {
     "name": "stdout",
     "output_type": "stream",
     "text": [
      "Using AI to learn English is a fantastic way to improve your language skills! There are many resources and tools available, and the best approach will depend on your learning style, current English level, and goals. Here's a breakdown of how you can use AI to learn English effectively:\n",
      "\n",
      "**1. Understanding the Types of AI Tools Available**\n",
      "\n",
      "*   **Language Learning Apps with AI Features:** These are likely the most comprehensive and beginner-friendly option.\n",
      "    *   **Examples:** Duolingo, Babbel, Elsa Speak, Mondly, Linguee, Cake, and Memrise (some features).\n",
      "    *   **How they use AI:**\n",
      "        *   **Personalized Learning Paths:** Adapting to your progress and focusing on areas where you need improvement.\n",
      "        *   **Speech Recognition:** Evaluating your pronunciation and providing feedback.\n",
      "        *   **Chatbots:** Engaging in simulated conversations to practice your speaking skills.\n",
      "        *   **AI Tutors:** Offering grammar explanations and personalized lessons.\n",
      "        *   **Adaptive Quizzes:** Adjusting the difficulty based on your performance.\n",
      "        *   **Vocabulary Reinforcement:** Spaced repetition to help you remember new words.\n",
      "\n",
      "*   **AI-Powered Language Tutors/Platforms:** These platforms often focus on personalized tutoring and more advanced learning.\n",
      "    *   **Examples:** Cambly, Preply, italki (with AI features).\n",
      "    *   **How they use AI:**\n",
      "        *   **Matching you with appropriate tutors.**\n",
      "        *   **Providing feedback on grammar, vocabulary, and pronunciation.**\n",
      "        *   **Analyzing your speaking to identify areas for improvement.**\n",
      "        *   **Generating exercises and lesson plans tailored to your needs.**\n",
      "\n",
      "*   **AI Chatbots:** Useful for practicing conversation and asking quick questions.\n",
      "    *   **Examples:** ChatGPT, Google Bard, Bing AI.\n",
      "    *   **How to use them:**\n",
      "        *   **Ask questions about grammar and vocabulary.**\n",
      "        *   **Practice writing by asking the chatbot to correct your text.**\n",
      "        *   **Engage in role-playing scenarios to practice speaking.**\n",
      "        *   **Ask for explanations of idioms and slang.**\n",
      "        *   **Translate words and phrases.**\n",
      "\n",
      "*   **AI-Powered Translation Tools:** Essential for understanding complex texts and checking your own writing.\n",
      "    *   **Examples:** Google Translate, DeepL.\n",
      "    *   **How to use them:**\n",
      "        *   **Translate articles, books, and websites.**\n",
      "        *   **Check your writing for errors and improve clarity.**\n",
      "        *   **Compare different translations to understand nuances in meaning.**\n",
      "        *   **Translate audio and video content.**\n",
      "        *   **Use for quick look-ups of unfamiliar words.**\n",
      "\n",
      "*   **AI-Based Vocabulary Builders:** Focus on expanding your vocabulary using personalized learning techniques.\n",
      "    *   **Examples:** Vocabulary.com, Memrise (vocabulary decks).\n",
      "    *   **How they use AI:**\n",
      "        *   **Adaptive learning that adjusts the difficulty based on your current vocabulary knowledge.**\n",
      "        *   **Spaced repetition algorithms to optimize vocabulary retention.**\n",
      "        *   **Personalized word lists based on your interests and needs.**\n",
      "        *   **Contextual definitions and examples to help you understand how to use words correctly.**\n",
      "\n",
      "**2.  How to Use Specific Tools Effectively**\n",
      "\n",
      "*   **Language Learning Apps (Duolingo, Babbel, etc.):**\n",
      "    *   **Start with the basics:** Don't skip the early lessons, even if you think they're easy. They build a strong foundation.\n",
      "    *   **Be consistent:** Aim for daily practice, even if it's just for 15-20 minutes.\n",
      "    *   **Focus on all skills:** Pay attention to reading, writing, listening, and speaking exercises.\n",
      "    *   **Take advantage of the AI features:** Use the speech recognition, chatbots, and personalized learning paths to your advantage.\n",
      "    *   **Review regularly:** Don't just learn new material; revisit old lessons to reinforce your knowledge.\n",
      "    *   **Don't rely on just one app:** Supplement your learning with other resources, such as books, movies, and podcasts.\n",
      "\n",
      "*   **AI Chatbots (ChatGPT, Google Bard, Bing AI):**\n",
      "    *   **Be specific with your questions:** The more detail you provide, the better the chatbot can understand your needs.\n",
      "    *   **Use it to practice writing:** Ask the chatbot to correct your text and provide feedback on grammar and style.\n",
      "    *   **Engage in role-playing scenarios:** Practice your speaking skills by having the chatbot play the role of a customer, a friend, or a colleague.\n",
      "    *   **Ask for explanations of complex grammar concepts:** The chatbot can provide clear and concise explanations.\n",
      "    *   **Don't blindly trust the chatbot:** Always double-check the information it provides, especially when it comes to grammar rules.\n",
      "    *   **Experiment with different prompts:** Try different ways of asking the same question to see how the chatbot responds.  For example, instead of just saying \"explain the past perfect,\" try \"explain the past perfect tense in a way that a beginner can understand, and give me some examples.\"\n",
      "\n",
      "*   **AI-Powered Translation Tools (Google Translate, DeepL):**\n",
      "    *   **Use them to understand complex texts:** Translate articles, books, and websites to get a better understanding of the content.\n",
      "    *   **Check your writing for errors:** Translate your own writing into English to see if it sounds natural and grammatically correct.\n",
      "    *   **Compare different translations:** Use multiple translation tools to compare the results and identify the most accurate translation.\n",
      "    *   **Be aware of the limitations:** Translation tools are not perfect and can sometimes produce inaccurate or nonsensical results.\n",
      "    *   **Use them as a starting point:** Don't rely solely on translation tools; use them as a starting point and then refine the translation yourself.\n",
      "\n",
      "*   **Vocabulary Builders (Vocabulary.com, Memrise):**\n",
      "    *   **Start with a vocabulary test:** Assess your current vocabulary knowledge to identify areas where you need to improve.\n",
      "    *   **Create personalized word lists:** Add words that you encounter in your reading, listening, and speaking.\n",
      "    *   **Use spaced repetition:** Review words at increasing intervals to help you remember them long-term.\n",
      "    *   **Learn words in context:** Understand how words are used in different sentences and situations.\n",
      "    *   **Use mnemonics:** Create memory aids to help you remember the meanings of words.\n",
      "    *   **Make it a habit:** Set aside time each day to learn new vocabulary words.\n",
      "\n",
      "**3.  General Tips for Learning English with AI:**\n",
      "\n",
      "*   **Set realistic goals:** Don't try to learn everything at once. Focus on small, achievable goals.\n",
      "*   **Be patient:** Learning a new language takes time and effort. Don't get discouraged if you don't see results immediately.\n",
      "*   **Find a learning method that works for you:** Experiment with different AI tools and techniques to find what you enjoy and what helps you learn best.\n",
      "*   **Don't be afraid to make mistakes:** Mistakes are a natural part of the learning process. Learn from your mistakes and keep practicing.\n",
      "*   **Practice regularly:** The more you practice, the better you'll become.\n",
      "*   **Immerse yourself in the language:** Watch English movies and TV shows, listen to English music, and read English books.\n",
      "*   **Find a language partner:** Practice speaking English with a native speaker or another learner.\n",
      "*   **Combine AI with other learning methods:** Use AI tools to supplement your learning, but don't rely on them exclusively.\n",
      "*   **Stay motivated:** Find ways to stay motivated and engaged in the learning process.\n",
      "\n",
      "**Example Learning Plan:**\n",
      "\n",
      "1.  **Assessment:** Take a placement test on an app like Duolingo or Babbel to determine your current English level.\n",
      "2.  **Core Learning:** Use Duolingo or Babbel for 30 minutes each day, focusing on all skill areas (reading, writing, listening, speaking).\n",
      "3.  **Speaking Practice:** Use an AI chatbot (ChatGPT, Google Bard) for 15 minutes each day to practice conversation.  Ask it to correct your grammar.\n",
      "4.  **Vocabulary Building:** Use Vocabulary.com or Memrise (English decks) for 15 minutes each day.\n",
      "5.  **Immersion:** Watch one episode of an English TV show with subtitles each day.  Try to pause and repeat phrases.\n",
      "6.  **Review:** Once a week, review the material you've learned during the past week.\n",
      "\n",
      "**Important Considerations:**\n",
      "\n",
      "*   **Cost:** Some AI tools are free, while others require a subscription. Consider your budget when choosing tools.\n",
      "*   **Privacy:** Be aware of the privacy policies of the AI tools you use.\n",
      "*   **Accuracy:** AI is not perfect. Double-check the information provided by AI tools, especially when it comes to grammar rules.\n",
      "*   **Human interaction:**  While AI is helpful, it's still important to interact with humans to improve your communication skills.  Consider finding a language partner or tutor.\n",
      "\n",
      "By combining AI tools with traditional learning methods and consistent practice, you can significantly improve your English skills. Good luck!\n",
      "\n"
     ]
    }
   ],
   "source": [
    "from google import genai\n",
    "\n",
    "client = genai.Client(api_key=genai_key)\n",
    "\n",
    "response = client.models.generate_content(\n",
    "    model=\"gemini-2.0-flash\",\n",
    "    contents=\"tell me how to use ai learn english\",\n",
    ")\n",
    "\n",
    "print(response.text)"
   ]
  },
  {
   "cell_type": "code",
   "execution_count": null,
   "metadata": {},
   "outputs": [],
   "source": []
  }
 ],
 "metadata": {
  "kernelspec": {
   "display_name": "Python 3",
   "language": "python",
   "name": "python3"
  },
  "language_info": {
   "codemirror_mode": {
    "name": "ipython",
    "version": 3
   },
   "file_extension": ".py",
   "mimetype": "text/x-python",
   "name": "python",
   "nbconvert_exporter": "python",
   "pygments_lexer": "ipython3",
   "version": "3.12.4"
  }
 },
 "nbformat": 4,
 "nbformat_minor": 2
}
