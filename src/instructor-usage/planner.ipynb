{
 "cells": [
  {
   "cell_type": "code",
   "execution_count": 8,
   "id": "59662c20",
   "metadata": {},
   "outputs": [],
   "source": [
    "import os\n",
    "from litellm import completion\n",
    "import instructor\n",
    "from pydantic import BaseModel\n",
    "from typing import List"
   ]
  },
  {
   "cell_type": "code",
   "execution_count": 9,
   "id": "d0b98514",
   "metadata": {},
   "outputs": [],
   "source": [
    "from unittest.mock import Base\n",
    "\n",
    "\n",
    "class Task(BaseModel):\n",
    "    name: str\n",
    "    description: str\n",
    "\n",
    "class Todo(BaseModel):\n",
    "    tasks: List[Task]\n",
    "    \n",
    "class User(BaseModel):\n",
    "    name: str\n",
    "    age: int"
   ]
  },
  {
   "cell_type": "code",
   "execution_count": 10,
   "id": "5ea7a25d",
   "metadata": {},
   "outputs": [],
   "source": [
    "client = instructor.from_litellm(completion)"
   ]
  },
  {
   "cell_type": "code",
   "execution_count": 18,
   "id": "8ec4371b",
   "metadata": {},
   "outputs": [],
   "source": [
    "api_key = os.getenv(\"GEMINI_API_KEY\")"
   ]
  },
  {
   "cell_type": "code",
   "execution_count": 15,
   "id": "de66e4ff",
   "metadata": {},
   "outputs": [],
   "source": [
    "MODEL_LIST=[\"gemini-2.0-flash\", \"gemini-2.0-flash-lite\", \"gemini-1.5-pro\", \"gemini-1.5-flash\",\"gemini-1.5-flash-8b\"]\n",
    "MODEL_NAME = f\"gemini/{MODEL_LIST[4]}\""
   ]
  },
  {
   "cell_type": "code",
   "execution_count": 13,
   "id": "d1f47f3b",
   "metadata": {},
   "outputs": [],
   "source": [
    "api_key = os.getenv(\"DEEPSEEK_API_KEY\")\n",
    "MODEL_NAME = 'deepseek/deepseek-reasoner'"
   ]
  },
  {
   "cell_type": "code",
   "execution_count": 16,
   "id": "b02d4d92",
   "metadata": {},
   "outputs": [
    {
     "name": "stdout",
     "output_type": "stream",
     "text": [
      "\n",
      "\u001b[1;31mProvider List: https://docs.litellm.ai/docs/providers\u001b[0m\n",
      "\n",
      "name='长沙旅游计划' description='5月份长沙旅游计划'\n"
     ]
    }
   ],
   "source": [
    "plan = client.chat.completions.create(\n",
    "    model=MODEL_NAME, \n",
    "    messages=[{\"role\": \"user\", \"content\": \"帮我列一份5月份长沙的旅游计划\"}],\n",
    "    response_model=Task,\n",
    "    max_retries= 3,\n",
    ")\n",
    "\n",
    "print(plan)"
   ]
  },
  {
   "cell_type": "code",
   "execution_count": 20,
   "id": "f8170326",
   "metadata": {},
   "outputs": [
    {
     "name": "stdout",
     "output_type": "stream",
     "text": [
      "\n",
      "\u001b[1;31mProvider List: https://docs.litellm.ai/docs/providers\u001b[0m\n",
      "\n",
      "\n",
      "\u001b[1;31mGive Feedback / Get Help: https://github.com/BerriAI/litellm/issues/new\u001b[0m\n",
      "LiteLLM.Info: If you need to debug this error, use `litellm._turn_on_debug()'.\n",
      "\n",
      "\n",
      "\u001b[1;31mProvider List: https://docs.litellm.ai/docs/providers\u001b[0m\n",
      "\n",
      "\n",
      "\u001b[1;31mProvider List: https://docs.litellm.ai/docs/providers\u001b[0m\n",
      "\n",
      "user:name='jack' age=32\n",
      "completion:ModelResponse(id='chatcmpl-a74b2d9b-7af0-4365-bca7-a39bc4e7f406', created=1747653590, model='gemini-1.5-flash-8b', object='chat.completion', system_fingerprint=None, choices=[Choices(finish_reason='stop', index=0, message=Message(content=None, role='assistant', tool_calls=[ChatCompletionMessageToolCall(index=0, function=Function(arguments='{\"age\": 32, \"name\": \"jack\"}', name='User'), id='call_da89e2a8-fb10-440a-82c8-9eda6e76c9ff', type='function')], function_call=None, provider_specific_fields=None))], usage=Usage(completion_tokens=5, prompt_tokens=28, total_tokens=33, completion_tokens_details=CompletionTokensDetailsWrapper(accepted_prediction_tokens=None, audio_tokens=0, reasoning_tokens=0, rejected_prediction_tokens=None, text_tokens=None), prompt_tokens_details=PromptTokensDetailsWrapper(audio_tokens=0, cached_tokens=0, text_tokens=None, image_tokens=None)), vertex_ai_grounding_metadata=[], vertex_ai_safety_results=[[{'category': 'HARM_CATEGORY_HATE_SPEECH', 'probability': 'NEGLIGIBLE'}, {'category': 'HARM_CATEGORY_DANGEROUS_CONTENT', 'probability': 'NEGLIGIBLE'}, {'category': 'HARM_CATEGORY_HARASSMENT', 'probability': 'NEGLIGIBLE'}, {'category': 'HARM_CATEGORY_SEXUALLY_EXPLICIT', 'probability': 'NEGLIGIBLE'}]], vertex_ai_citation_metadata=[])\n"
     ]
    }
   ],
   "source": [
    "user,completion = client.chat.completions.create_with_completion(\n",
    "    model=MODEL_NAME, \n",
    "    messages=[{\"role\": \"user\", \"content\": \"jack已经32岁了\"}],\n",
    "    response_model=User,\n",
    "    max_retries= 3,\n",
    "    api_key=api_key,\n",
    ")\n",
    "\n",
    "print(f'user:{user}')\n",
    "print(f'completion:{completion}')"
   ]
  },
  {
   "cell_type": "markdown",
   "id": "adc01190",
   "metadata": {},
   "source": [
    "#### 使用不支持function calling和json output的模型，例如deepseek-r1，使用md_json mode，本质就是提示词工程约束"
   ]
  },
  {
   "cell_type": "code",
   "execution_count": null,
   "id": "6602dd42",
   "metadata": {},
   "outputs": [],
   "source": [
    "client = instructor.from_litellm(completion,mode=instructor.Mode.MD_JSON)"
   ]
  },
  {
   "cell_type": "code",
   "execution_count": null,
   "id": "10ab5a1b",
   "metadata": {},
   "outputs": [],
   "source": []
  }
 ],
 "metadata": {
  "kernelspec": {
   "display_name": "Python 3",
   "language": "python",
   "name": "python3"
  },
  "language_info": {
   "codemirror_mode": {
    "name": "ipython",
    "version": 3
   },
   "file_extension": ".py",
   "mimetype": "text/x-python",
   "name": "python",
   "nbconvert_exporter": "python",
   "pygments_lexer": "ipython3",
   "version": "3.12.4"
  }
 },
 "nbformat": 4,
 "nbformat_minor": 5
}
