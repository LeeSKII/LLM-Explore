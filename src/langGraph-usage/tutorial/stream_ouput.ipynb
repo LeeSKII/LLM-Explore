{
 "cells": [
  {
   "cell_type": "code",
   "execution_count": 11,
   "id": "80e8ada3",
   "metadata": {},
   "outputs": [],
   "source": [
    "from typing_extensions import TypedDict\n",
    "from langgraph.graph import StateGraph,START,END\n",
    "from langgraph.graph.message import add_messages\n",
    "from langchain_core.messages import HumanMessage\n",
    "from typing import Annotated"
   ]
  },
  {
   "cell_type": "code",
   "execution_count": 6,
   "id": "24cc2985",
   "metadata": {},
   "outputs": [],
   "source": [
    "import os\n",
    "from dotenv import load_dotenv\n",
    "from langchain_openai import ChatOpenAI\n",
    "\n",
    "load_dotenv()\n",
    "\n",
    "api_key = os.getenv(\"QWEN_API_KEY\")\n",
    "base_url = os.getenv(\"QWEN_API_BASE_URL\")\n",
    "\n",
    "llm = ChatOpenAI(model=\"qwen-plus-latest\",api_key=api_key,base_url=base_url,temperature=0.01)"
   ]
  },
  {
   "cell_type": "code",
   "execution_count": 7,
   "id": "b4312dc6",
   "metadata": {},
   "outputs": [],
   "source": [
    "class OverallState(TypedDict):\n",
    "    messages: Annotated[list,add_messages]\n",
    "    result: str"
   ]
  },
  {
   "cell_type": "code",
   "execution_count": 9,
   "id": "3e4b711d",
   "metadata": {},
   "outputs": [],
   "source": [
    "async def node1(state:OverallState)->OverallState:\n",
    "    response = await llm.ainvoke(state[\"messages\"])\n",
    "    return {\"messages\":[response]}"
   ]
  },
  {
   "cell_type": "code",
   "execution_count": 10,
   "id": "1ae01747",
   "metadata": {},
   "outputs": [],
   "source": [
    "graph_builder = StateGraph(OverallState)\n",
    "\n",
    "graph_builder.add_node(\"node1\",node1)\n",
    "\n",
    "graph_builder.add_edge(START, \"node1\")\n",
    "graph_builder.add_edge(\"node1\",END)\n",
    "\n",
    "graph = graph_builder.compile()"
   ]
  },
  {
   "cell_type": "code",
   "execution_count": 12,
   "id": "87b6218e",
   "metadata": {},
   "outputs": [],
   "source": [
    "result = await graph.ainvoke({'messages':[HumanMessage('who are you?')]})"
   ]
  },
  {
   "cell_type": "code",
   "execution_count": 13,
   "id": "e8f58246",
   "metadata": {},
   "outputs": [
    {
     "data": {
      "text/plain": [
       "{'messages': [HumanMessage(content='who are you?', additional_kwargs={}, response_metadata={}, id='1e5012ab-90c7-4df6-801f-a53d68884007'),\n",
       "  AIMessage(content='I am a large-scale language model independently developed by the Tongyi Lab under Alibaba Group. My name is Qwen. I am capable of answering questions, creating text such as stories, official documents, emails, scripts, and more. I can also perform logical reasoning, coding, express opinions, play games, and assist with various other tasks. How can I help you today?', additional_kwargs={'refusal': None}, response_metadata={'token_usage': {'completion_tokens': 76, 'prompt_tokens': 16, 'total_tokens': 92, 'completion_tokens_details': None, 'prompt_tokens_details': None}, 'model_name': 'qwen-plus-latest', 'system_fingerprint': None, 'id': 'chatcmpl-78874fc1-84f6-9d11-9557-adf677806b43', 'service_tier': None, 'finish_reason': 'stop', 'logprobs': None}, id='run--f11f2c17-c256-45d2-8120-b39dc3ff0dfb-0', usage_metadata={'input_tokens': 16, 'output_tokens': 76, 'total_tokens': 92, 'input_token_details': {}, 'output_token_details': {}})]}"
      ]
     },
     "execution_count": 13,
     "metadata": {},
     "output_type": "execute_result"
    }
   ],
   "source": [
    "result"
   ]
  },
  {
   "cell_type": "code",
   "execution_count": 17,
   "id": "76f5b8ff",
   "metadata": {},
   "outputs": [
    {
     "name": "stdout",
     "output_type": "stream",
     "text": [
      "{'node1': {'messages': [AIMessage(content='I am a large-scale language model independently developed by the Tongyi Lab under Alibaba Group. My name is Qwen. I am capable of answering questions, creating text such as stories, official documents, emails, scripts, and more. I can also perform logical reasoning, coding, express opinions, play games, and handle various other tasks. If you have any questions or need assistance, feel free to ask me anytime!', additional_kwargs={'refusal': None}, response_metadata={'token_usage': {'completion_tokens': 84, 'prompt_tokens': 16, 'total_tokens': 100, 'completion_tokens_details': None, 'prompt_tokens_details': None}, 'model_name': 'qwen-plus-latest', 'system_fingerprint': None, 'id': 'chatcmpl-33c2688b-c54e-93be-ad27-cb96fc387cd8', 'service_tier': None, 'finish_reason': 'stop', 'logprobs': None}, id='run--1be5f643-041b-4620-a29c-2d3d3bd4f5f4-0', usage_metadata={'input_tokens': 16, 'output_tokens': 84, 'total_tokens': 100, 'input_token_details': {}, 'output_token_details': {}})]}}\n"
     ]
    }
   ],
   "source": [
    "# default stream_mode is updates\n",
    "async for chunk in graph.astream({'messages':[HumanMessage('who are you?')]}, stream_mode=\"updates\"):\n",
    "    print(chunk)"
   ]
  },
  {
   "cell_type": "code",
   "execution_count": 19,
   "id": "ed52a746",
   "metadata": {},
   "outputs": [
    {
     "name": "stdout",
     "output_type": "stream",
     "text": [
      "{'messages': [HumanMessage(content='who are you?', additional_kwargs={}, response_metadata={}, id='293ccf77-ae58-4b05-aac4-27158d9d5e45')]}\n",
      "{'messages': [HumanMessage(content='who are you?', additional_kwargs={}, response_metadata={}, id='293ccf77-ae58-4b05-aac4-27158d9d5e45'), AIMessage(content='I am a large-scale language model independently developed by the Tongyi Lab under Alibaba Group. My name is Qwen. I am capable of answering questions, creating text such as stories, official documents, emails, scripts, and more. I can also perform logical reasoning, coding, express opinions, play games, and so on. I support multiple languages, including Chinese, English, German, French, Spanish, Portuguese, Italian, Dutch, Russian, Czech, Polish, Arabic, Persian, Hebrew, Turkish, Japanese, Korean, and many others. If you have any questions or need assistance, feel free to let me know anytime!', additional_kwargs={'refusal': None}, response_metadata={'token_usage': {'completion_tokens': 127, 'prompt_tokens': 16, 'total_tokens': 143, 'completion_tokens_details': None, 'prompt_tokens_details': None}, 'model_name': 'qwen-plus-latest', 'system_fingerprint': None, 'id': 'chatcmpl-0d16624c-d499-9b43-9ddb-fe3912af9f21', 'service_tier': None, 'finish_reason': 'stop', 'logprobs': None}, id='run--a2ca8336-6ba6-4751-87ad-61fe6c7b55ce-0', usage_metadata={'input_tokens': 16, 'output_tokens': 127, 'total_tokens': 143, 'input_token_details': {}, 'output_token_details': {}})]}\n"
     ]
    }
   ],
   "source": [
    "async for chunk in graph.astream({'messages':[HumanMessage('who are you?')]}, stream_mode=\"values\"):\n",
    "    print(chunk)"
   ]
  },
  {
   "cell_type": "code",
   "execution_count": 20,
   "id": "823a9719",
   "metadata": {},
   "outputs": [
    {
     "name": "stdout",
     "output_type": "stream",
     "text": [
      "(AIMessageChunk(content='', additional_kwargs={}, response_metadata={}, id='run--cb669bfb-8c06-4b64-b132-cdcfc887a876'), {'langgraph_step': 1, 'langgraph_node': 'node1', 'langgraph_triggers': ('branch:to:node1',), 'langgraph_path': ('__pregel_pull', 'node1'), 'langgraph_checkpoint_ns': 'node1:9a2a84ba-8750-e0fd-ca60-cd5765562534', 'checkpoint_ns': 'node1:9a2a84ba-8750-e0fd-ca60-cd5765562534', 'ls_provider': 'openai', 'ls_model_name': 'qwen-plus-latest', 'ls_model_type': 'chat', 'ls_temperature': 0.01})\n",
      "(AIMessageChunk(content='I', additional_kwargs={}, response_metadata={}, id='run--cb669bfb-8c06-4b64-b132-cdcfc887a876'), {'langgraph_step': 1, 'langgraph_node': 'node1', 'langgraph_triggers': ('branch:to:node1',), 'langgraph_path': ('__pregel_pull', 'node1'), 'langgraph_checkpoint_ns': 'node1:9a2a84ba-8750-e0fd-ca60-cd5765562534', 'checkpoint_ns': 'node1:9a2a84ba-8750-e0fd-ca60-cd5765562534', 'ls_provider': 'openai', 'ls_model_name': 'qwen-plus-latest', 'ls_model_type': 'chat', 'ls_temperature': 0.01})\n",
      "(AIMessageChunk(content=' am', additional_kwargs={}, response_metadata={}, id='run--cb669bfb-8c06-4b64-b132-cdcfc887a876'), {'langgraph_step': 1, 'langgraph_node': 'node1', 'langgraph_triggers': ('branch:to:node1',), 'langgraph_path': ('__pregel_pull', 'node1'), 'langgraph_checkpoint_ns': 'node1:9a2a84ba-8750-e0fd-ca60-cd5765562534', 'checkpoint_ns': 'node1:9a2a84ba-8750-e0fd-ca60-cd5765562534', 'ls_provider': 'openai', 'ls_model_name': 'qwen-plus-latest', 'ls_model_type': 'chat', 'ls_temperature': 0.01})\n",
      "(AIMessageChunk(content=' a', additional_kwargs={}, response_metadata={}, id='run--cb669bfb-8c06-4b64-b132-cdcfc887a876'), {'langgraph_step': 1, 'langgraph_node': 'node1', 'langgraph_triggers': ('branch:to:node1',), 'langgraph_path': ('__pregel_pull', 'node1'), 'langgraph_checkpoint_ns': 'node1:9a2a84ba-8750-e0fd-ca60-cd5765562534', 'checkpoint_ns': 'node1:9a2a84ba-8750-e0fd-ca60-cd5765562534', 'ls_provider': 'openai', 'ls_model_name': 'qwen-plus-latest', 'ls_model_type': 'chat', 'ls_temperature': 0.01})\n",
      "(AIMessageChunk(content=' large', additional_kwargs={}, response_metadata={}, id='run--cb669bfb-8c06-4b64-b132-cdcfc887a876'), {'langgraph_step': 1, 'langgraph_node': 'node1', 'langgraph_triggers': ('branch:to:node1',), 'langgraph_path': ('__pregel_pull', 'node1'), 'langgraph_checkpoint_ns': 'node1:9a2a84ba-8750-e0fd-ca60-cd5765562534', 'checkpoint_ns': 'node1:9a2a84ba-8750-e0fd-ca60-cd5765562534', 'ls_provider': 'openai', 'ls_model_name': 'qwen-plus-latest', 'ls_model_type': 'chat', 'ls_temperature': 0.01})\n",
      "(AIMessageChunk(content='-scale language model independently', additional_kwargs={}, response_metadata={}, id='run--cb669bfb-8c06-4b64-b132-cdcfc887a876'), {'langgraph_step': 1, 'langgraph_node': 'node1', 'langgraph_triggers': ('branch:to:node1',), 'langgraph_path': ('__pregel_pull', 'node1'), 'langgraph_checkpoint_ns': 'node1:9a2a84ba-8750-e0fd-ca60-cd5765562534', 'checkpoint_ns': 'node1:9a2a84ba-8750-e0fd-ca60-cd5765562534', 'ls_provider': 'openai', 'ls_model_name': 'qwen-plus-latest', 'ls_model_type': 'chat', 'ls_temperature': 0.01})\n",
      "(AIMessageChunk(content=' developed by the Tong', additional_kwargs={}, response_metadata={}, id='run--cb669bfb-8c06-4b64-b132-cdcfc887a876'), {'langgraph_step': 1, 'langgraph_node': 'node1', 'langgraph_triggers': ('branch:to:node1',), 'langgraph_path': ('__pregel_pull', 'node1'), 'langgraph_checkpoint_ns': 'node1:9a2a84ba-8750-e0fd-ca60-cd5765562534', 'checkpoint_ns': 'node1:9a2a84ba-8750-e0fd-ca60-cd5765562534', 'ls_provider': 'openai', 'ls_model_name': 'qwen-plus-latest', 'ls_model_type': 'chat', 'ls_temperature': 0.01})\n",
      "(AIMessageChunk(content='yi Lab under Alibaba', additional_kwargs={}, response_metadata={}, id='run--cb669bfb-8c06-4b64-b132-cdcfc887a876'), {'langgraph_step': 1, 'langgraph_node': 'node1', 'langgraph_triggers': ('branch:to:node1',), 'langgraph_path': ('__pregel_pull', 'node1'), 'langgraph_checkpoint_ns': 'node1:9a2a84ba-8750-e0fd-ca60-cd5765562534', 'checkpoint_ns': 'node1:9a2a84ba-8750-e0fd-ca60-cd5765562534', 'ls_provider': 'openai', 'ls_model_name': 'qwen-plus-latest', 'ls_model_type': 'chat', 'ls_temperature': 0.01})\n",
      "(AIMessageChunk(content=' Group. My name', additional_kwargs={}, response_metadata={}, id='run--cb669bfb-8c06-4b64-b132-cdcfc887a876'), {'langgraph_step': 1, 'langgraph_node': 'node1', 'langgraph_triggers': ('branch:to:node1',), 'langgraph_path': ('__pregel_pull', 'node1'), 'langgraph_checkpoint_ns': 'node1:9a2a84ba-8750-e0fd-ca60-cd5765562534', 'checkpoint_ns': 'node1:9a2a84ba-8750-e0fd-ca60-cd5765562534', 'ls_provider': 'openai', 'ls_model_name': 'qwen-plus-latest', 'ls_model_type': 'chat', 'ls_temperature': 0.01})\n",
      "(AIMessageChunk(content=' is Qwen.', additional_kwargs={}, response_metadata={}, id='run--cb669bfb-8c06-4b64-b132-cdcfc887a876'), {'langgraph_step': 1, 'langgraph_node': 'node1', 'langgraph_triggers': ('branch:to:node1',), 'langgraph_path': ('__pregel_pull', 'node1'), 'langgraph_checkpoint_ns': 'node1:9a2a84ba-8750-e0fd-ca60-cd5765562534', 'checkpoint_ns': 'node1:9a2a84ba-8750-e0fd-ca60-cd5765562534', 'ls_provider': 'openai', 'ls_model_name': 'qwen-plus-latest', 'ls_model_type': 'chat', 'ls_temperature': 0.01})\n",
      "(AIMessageChunk(content=' I am capable of', additional_kwargs={}, response_metadata={}, id='run--cb669bfb-8c06-4b64-b132-cdcfc887a876'), {'langgraph_step': 1, 'langgraph_node': 'node1', 'langgraph_triggers': ('branch:to:node1',), 'langgraph_path': ('__pregel_pull', 'node1'), 'langgraph_checkpoint_ns': 'node1:9a2a84ba-8750-e0fd-ca60-cd5765562534', 'checkpoint_ns': 'node1:9a2a84ba-8750-e0fd-ca60-cd5765562534', 'ls_provider': 'openai', 'ls_model_name': 'qwen-plus-latest', 'ls_model_type': 'chat', 'ls_temperature': 0.01})\n",
      "(AIMessageChunk(content=' answering questions, creating', additional_kwargs={}, response_metadata={}, id='run--cb669bfb-8c06-4b64-b132-cdcfc887a876'), {'langgraph_step': 1, 'langgraph_node': 'node1', 'langgraph_triggers': ('branch:to:node1',), 'langgraph_path': ('__pregel_pull', 'node1'), 'langgraph_checkpoint_ns': 'node1:9a2a84ba-8750-e0fd-ca60-cd5765562534', 'checkpoint_ns': 'node1:9a2a84ba-8750-e0fd-ca60-cd5765562534', 'ls_provider': 'openai', 'ls_model_name': 'qwen-plus-latest', 'ls_model_type': 'chat', 'ls_temperature': 0.01})\n",
      "(AIMessageChunk(content=' text such as stories', additional_kwargs={}, response_metadata={}, id='run--cb669bfb-8c06-4b64-b132-cdcfc887a876'), {'langgraph_step': 1, 'langgraph_node': 'node1', 'langgraph_triggers': ('branch:to:node1',), 'langgraph_path': ('__pregel_pull', 'node1'), 'langgraph_checkpoint_ns': 'node1:9a2a84ba-8750-e0fd-ca60-cd5765562534', 'checkpoint_ns': 'node1:9a2a84ba-8750-e0fd-ca60-cd5765562534', 'ls_provider': 'openai', 'ls_model_name': 'qwen-plus-latest', 'ls_model_type': 'chat', 'ls_temperature': 0.01})\n",
      "(AIMessageChunk(content=', official documents,', additional_kwargs={}, response_metadata={}, id='run--cb669bfb-8c06-4b64-b132-cdcfc887a876'), {'langgraph_step': 1, 'langgraph_node': 'node1', 'langgraph_triggers': ('branch:to:node1',), 'langgraph_path': ('__pregel_pull', 'node1'), 'langgraph_checkpoint_ns': 'node1:9a2a84ba-8750-e0fd-ca60-cd5765562534', 'checkpoint_ns': 'node1:9a2a84ba-8750-e0fd-ca60-cd5765562534', 'ls_provider': 'openai', 'ls_model_name': 'qwen-plus-latest', 'ls_model_type': 'chat', 'ls_temperature': 0.01})\n",
      "(AIMessageChunk(content=' emails, scripts,', additional_kwargs={}, response_metadata={}, id='run--cb669bfb-8c06-4b64-b132-cdcfc887a876'), {'langgraph_step': 1, 'langgraph_node': 'node1', 'langgraph_triggers': ('branch:to:node1',), 'langgraph_path': ('__pregel_pull', 'node1'), 'langgraph_checkpoint_ns': 'node1:9a2a84ba-8750-e0fd-ca60-cd5765562534', 'checkpoint_ns': 'node1:9a2a84ba-8750-e0fd-ca60-cd5765562534', 'ls_provider': 'openai', 'ls_model_name': 'qwen-plus-latest', 'ls_model_type': 'chat', 'ls_temperature': 0.01})\n",
      "(AIMessageChunk(content=' and more. I', additional_kwargs={}, response_metadata={}, id='run--cb669bfb-8c06-4b64-b132-cdcfc887a876'), {'langgraph_step': 1, 'langgraph_node': 'node1', 'langgraph_triggers': ('branch:to:node1',), 'langgraph_path': ('__pregel_pull', 'node1'), 'langgraph_checkpoint_ns': 'node1:9a2a84ba-8750-e0fd-ca60-cd5765562534', 'checkpoint_ns': 'node1:9a2a84ba-8750-e0fd-ca60-cd5765562534', 'ls_provider': 'openai', 'ls_model_name': 'qwen-plus-latest', 'ls_model_type': 'chat', 'ls_temperature': 0.01})\n",
      "(AIMessageChunk(content=' can also perform logical', additional_kwargs={}, response_metadata={}, id='run--cb669bfb-8c06-4b64-b132-cdcfc887a876'), {'langgraph_step': 1, 'langgraph_node': 'node1', 'langgraph_triggers': ('branch:to:node1',), 'langgraph_path': ('__pregel_pull', 'node1'), 'langgraph_checkpoint_ns': 'node1:9a2a84ba-8750-e0fd-ca60-cd5765562534', 'checkpoint_ns': 'node1:9a2a84ba-8750-e0fd-ca60-cd5765562534', 'ls_provider': 'openai', 'ls_model_name': 'qwen-plus-latest', 'ls_model_type': 'chat', 'ls_temperature': 0.01})\n",
      "(AIMessageChunk(content=' reasoning, coding,', additional_kwargs={}, response_metadata={}, id='run--cb669bfb-8c06-4b64-b132-cdcfc887a876'), {'langgraph_step': 1, 'langgraph_node': 'node1', 'langgraph_triggers': ('branch:to:node1',), 'langgraph_path': ('__pregel_pull', 'node1'), 'langgraph_checkpoint_ns': 'node1:9a2a84ba-8750-e0fd-ca60-cd5765562534', 'checkpoint_ns': 'node1:9a2a84ba-8750-e0fd-ca60-cd5765562534', 'ls_provider': 'openai', 'ls_model_name': 'qwen-plus-latest', 'ls_model_type': 'chat', 'ls_temperature': 0.01})\n",
      "(AIMessageChunk(content=' express opinions, play', additional_kwargs={}, response_metadata={}, id='run--cb669bfb-8c06-4b64-b132-cdcfc887a876'), {'langgraph_step': 1, 'langgraph_node': 'node1', 'langgraph_triggers': ('branch:to:node1',), 'langgraph_path': ('__pregel_pull', 'node1'), 'langgraph_checkpoint_ns': 'node1:9a2a84ba-8750-e0fd-ca60-cd5765562534', 'checkpoint_ns': 'node1:9a2a84ba-8750-e0fd-ca60-cd5765562534', 'ls_provider': 'openai', 'ls_model_name': 'qwen-plus-latest', 'ls_model_type': 'chat', 'ls_temperature': 0.01})\n",
      "(AIMessageChunk(content=' games, and so', additional_kwargs={}, response_metadata={}, id='run--cb669bfb-8c06-4b64-b132-cdcfc887a876'), {'langgraph_step': 1, 'langgraph_node': 'node1', 'langgraph_triggers': ('branch:to:node1',), 'langgraph_path': ('__pregel_pull', 'node1'), 'langgraph_checkpoint_ns': 'node1:9a2a84ba-8750-e0fd-ca60-cd5765562534', 'checkpoint_ns': 'node1:9a2a84ba-8750-e0fd-ca60-cd5765562534', 'ls_provider': 'openai', 'ls_model_name': 'qwen-plus-latest', 'ls_model_type': 'chat', 'ls_temperature': 0.01})\n",
      "(AIMessageChunk(content=' on. I support', additional_kwargs={}, response_metadata={}, id='run--cb669bfb-8c06-4b64-b132-cdcfc887a876'), {'langgraph_step': 1, 'langgraph_node': 'node1', 'langgraph_triggers': ('branch:to:node1',), 'langgraph_path': ('__pregel_pull', 'node1'), 'langgraph_checkpoint_ns': 'node1:9a2a84ba-8750-e0fd-ca60-cd5765562534', 'checkpoint_ns': 'node1:9a2a84ba-8750-e0fd-ca60-cd5765562534', 'ls_provider': 'openai', 'ls_model_name': 'qwen-plus-latest', 'ls_model_type': 'chat', 'ls_temperature': 0.01})\n",
      "(AIMessageChunk(content=' multiple languages, including', additional_kwargs={}, response_metadata={}, id='run--cb669bfb-8c06-4b64-b132-cdcfc887a876'), {'langgraph_step': 1, 'langgraph_node': 'node1', 'langgraph_triggers': ('branch:to:node1',), 'langgraph_path': ('__pregel_pull', 'node1'), 'langgraph_checkpoint_ns': 'node1:9a2a84ba-8750-e0fd-ca60-cd5765562534', 'checkpoint_ns': 'node1:9a2a84ba-8750-e0fd-ca60-cd5765562534', 'ls_provider': 'openai', 'ls_model_name': 'qwen-plus-latest', 'ls_model_type': 'chat', 'ls_temperature': 0.01})\n",
      "(AIMessageChunk(content=' Chinese, English,', additional_kwargs={}, response_metadata={}, id='run--cb669bfb-8c06-4b64-b132-cdcfc887a876'), {'langgraph_step': 1, 'langgraph_node': 'node1', 'langgraph_triggers': ('branch:to:node1',), 'langgraph_path': ('__pregel_pull', 'node1'), 'langgraph_checkpoint_ns': 'node1:9a2a84ba-8750-e0fd-ca60-cd5765562534', 'checkpoint_ns': 'node1:9a2a84ba-8750-e0fd-ca60-cd5765562534', 'ls_provider': 'openai', 'ls_model_name': 'qwen-plus-latest', 'ls_model_type': 'chat', 'ls_temperature': 0.01})\n",
      "(AIMessageChunk(content=' German, French,', additional_kwargs={}, response_metadata={}, id='run--cb669bfb-8c06-4b64-b132-cdcfc887a876'), {'langgraph_step': 1, 'langgraph_node': 'node1', 'langgraph_triggers': ('branch:to:node1',), 'langgraph_path': ('__pregel_pull', 'node1'), 'langgraph_checkpoint_ns': 'node1:9a2a84ba-8750-e0fd-ca60-cd5765562534', 'checkpoint_ns': 'node1:9a2a84ba-8750-e0fd-ca60-cd5765562534', 'ls_provider': 'openai', 'ls_model_name': 'qwen-plus-latest', 'ls_model_type': 'chat', 'ls_temperature': 0.01})\n",
      "(AIMessageChunk(content=' Spanish, Portuguese,', additional_kwargs={}, response_metadata={}, id='run--cb669bfb-8c06-4b64-b132-cdcfc887a876'), {'langgraph_step': 1, 'langgraph_node': 'node1', 'langgraph_triggers': ('branch:to:node1',), 'langgraph_path': ('__pregel_pull', 'node1'), 'langgraph_checkpoint_ns': 'node1:9a2a84ba-8750-e0fd-ca60-cd5765562534', 'checkpoint_ns': 'node1:9a2a84ba-8750-e0fd-ca60-cd5765562534', 'ls_provider': 'openai', 'ls_model_name': 'qwen-plus-latest', 'ls_model_type': 'chat', 'ls_temperature': 0.01})\n",
      "(AIMessageChunk(content=' Italian, Dutch,', additional_kwargs={}, response_metadata={}, id='run--cb669bfb-8c06-4b64-b132-cdcfc887a876'), {'langgraph_step': 1, 'langgraph_node': 'node1', 'langgraph_triggers': ('branch:to:node1',), 'langgraph_path': ('__pregel_pull', 'node1'), 'langgraph_checkpoint_ns': 'node1:9a2a84ba-8750-e0fd-ca60-cd5765562534', 'checkpoint_ns': 'node1:9a2a84ba-8750-e0fd-ca60-cd5765562534', 'ls_provider': 'openai', 'ls_model_name': 'qwen-plus-latest', 'ls_model_type': 'chat', 'ls_temperature': 0.01})\n",
      "(AIMessageChunk(content=' Russian, Czech,', additional_kwargs={}, response_metadata={}, id='run--cb669bfb-8c06-4b64-b132-cdcfc887a876'), {'langgraph_step': 1, 'langgraph_node': 'node1', 'langgraph_triggers': ('branch:to:node1',), 'langgraph_path': ('__pregel_pull', 'node1'), 'langgraph_checkpoint_ns': 'node1:9a2a84ba-8750-e0fd-ca60-cd5765562534', 'checkpoint_ns': 'node1:9a2a84ba-8750-e0fd-ca60-cd5765562534', 'ls_provider': 'openai', 'ls_model_name': 'qwen-plus-latest', 'ls_model_type': 'chat', 'ls_temperature': 0.01})\n",
      "(AIMessageChunk(content=' Polish, Arabic,', additional_kwargs={}, response_metadata={}, id='run--cb669bfb-8c06-4b64-b132-cdcfc887a876'), {'langgraph_step': 1, 'langgraph_node': 'node1', 'langgraph_triggers': ('branch:to:node1',), 'langgraph_path': ('__pregel_pull', 'node1'), 'langgraph_checkpoint_ns': 'node1:9a2a84ba-8750-e0fd-ca60-cd5765562534', 'checkpoint_ns': 'node1:9a2a84ba-8750-e0fd-ca60-cd5765562534', 'ls_provider': 'openai', 'ls_model_name': 'qwen-plus-latest', 'ls_model_type': 'chat', 'ls_temperature': 0.01})\n",
      "(AIMessageChunk(content=' Persian, Hebrew,', additional_kwargs={}, response_metadata={}, id='run--cb669bfb-8c06-4b64-b132-cdcfc887a876'), {'langgraph_step': 1, 'langgraph_node': 'node1', 'langgraph_triggers': ('branch:to:node1',), 'langgraph_path': ('__pregel_pull', 'node1'), 'langgraph_checkpoint_ns': 'node1:9a2a84ba-8750-e0fd-ca60-cd5765562534', 'checkpoint_ns': 'node1:9a2a84ba-8750-e0fd-ca60-cd5765562534', 'ls_provider': 'openai', 'ls_model_name': 'qwen-plus-latest', 'ls_model_type': 'chat', 'ls_temperature': 0.01})\n",
      "(AIMessageChunk(content=' Turkish, Japanese,', additional_kwargs={}, response_metadata={}, id='run--cb669bfb-8c06-4b64-b132-cdcfc887a876'), {'langgraph_step': 1, 'langgraph_node': 'node1', 'langgraph_triggers': ('branch:to:node1',), 'langgraph_path': ('__pregel_pull', 'node1'), 'langgraph_checkpoint_ns': 'node1:9a2a84ba-8750-e0fd-ca60-cd5765562534', 'checkpoint_ns': 'node1:9a2a84ba-8750-e0fd-ca60-cd5765562534', 'ls_provider': 'openai', 'ls_model_name': 'qwen-plus-latest', 'ls_model_type': 'chat', 'ls_temperature': 0.01})\n",
      "(AIMessageChunk(content=' Korean, and many', additional_kwargs={}, response_metadata={}, id='run--cb669bfb-8c06-4b64-b132-cdcfc887a876'), {'langgraph_step': 1, 'langgraph_node': 'node1', 'langgraph_triggers': ('branch:to:node1',), 'langgraph_path': ('__pregel_pull', 'node1'), 'langgraph_checkpoint_ns': 'node1:9a2a84ba-8750-e0fd-ca60-cd5765562534', 'checkpoint_ns': 'node1:9a2a84ba-8750-e0fd-ca60-cd5765562534', 'ls_provider': 'openai', 'ls_model_name': 'qwen-plus-latest', 'ls_model_type': 'chat', 'ls_temperature': 0.01})\n",
      "(AIMessageChunk(content=' others. If you', additional_kwargs={}, response_metadata={}, id='run--cb669bfb-8c06-4b64-b132-cdcfc887a876'), {'langgraph_step': 1, 'langgraph_node': 'node1', 'langgraph_triggers': ('branch:to:node1',), 'langgraph_path': ('__pregel_pull', 'node1'), 'langgraph_checkpoint_ns': 'node1:9a2a84ba-8750-e0fd-ca60-cd5765562534', 'checkpoint_ns': 'node1:9a2a84ba-8750-e0fd-ca60-cd5765562534', 'ls_provider': 'openai', 'ls_model_name': 'qwen-plus-latest', 'ls_model_type': 'chat', 'ls_temperature': 0.01})\n",
      "(AIMessageChunk(content=' have any questions or', additional_kwargs={}, response_metadata={}, id='run--cb669bfb-8c06-4b64-b132-cdcfc887a876'), {'langgraph_step': 1, 'langgraph_node': 'node1', 'langgraph_triggers': ('branch:to:node1',), 'langgraph_path': ('__pregel_pull', 'node1'), 'langgraph_checkpoint_ns': 'node1:9a2a84ba-8750-e0fd-ca60-cd5765562534', 'checkpoint_ns': 'node1:9a2a84ba-8750-e0fd-ca60-cd5765562534', 'ls_provider': 'openai', 'ls_model_name': 'qwen-plus-latest', 'ls_model_type': 'chat', 'ls_temperature': 0.01})\n",
      "(AIMessageChunk(content=' need assistance, feel', additional_kwargs={}, response_metadata={}, id='run--cb669bfb-8c06-4b64-b132-cdcfc887a876'), {'langgraph_step': 1, 'langgraph_node': 'node1', 'langgraph_triggers': ('branch:to:node1',), 'langgraph_path': ('__pregel_pull', 'node1'), 'langgraph_checkpoint_ns': 'node1:9a2a84ba-8750-e0fd-ca60-cd5765562534', 'checkpoint_ns': 'node1:9a2a84ba-8750-e0fd-ca60-cd5765562534', 'ls_provider': 'openai', 'ls_model_name': 'qwen-plus-latest', 'ls_model_type': 'chat', 'ls_temperature': 0.01})\n",
      "(AIMessageChunk(content=' free to ask me', additional_kwargs={}, response_metadata={}, id='run--cb669bfb-8c06-4b64-b132-cdcfc887a876'), {'langgraph_step': 1, 'langgraph_node': 'node1', 'langgraph_triggers': ('branch:to:node1',), 'langgraph_path': ('__pregel_pull', 'node1'), 'langgraph_checkpoint_ns': 'node1:9a2a84ba-8750-e0fd-ca60-cd5765562534', 'checkpoint_ns': 'node1:9a2a84ba-8750-e0fd-ca60-cd5765562534', 'ls_provider': 'openai', 'ls_model_name': 'qwen-plus-latest', 'ls_model_type': 'chat', 'ls_temperature': 0.01})\n",
      "(AIMessageChunk(content=' anytime!', additional_kwargs={}, response_metadata={}, id='run--cb669bfb-8c06-4b64-b132-cdcfc887a876'), {'langgraph_step': 1, 'langgraph_node': 'node1', 'langgraph_triggers': ('branch:to:node1',), 'langgraph_path': ('__pregel_pull', 'node1'), 'langgraph_checkpoint_ns': 'node1:9a2a84ba-8750-e0fd-ca60-cd5765562534', 'checkpoint_ns': 'node1:9a2a84ba-8750-e0fd-ca60-cd5765562534', 'ls_provider': 'openai', 'ls_model_name': 'qwen-plus-latest', 'ls_model_type': 'chat', 'ls_temperature': 0.01})\n",
      "(AIMessageChunk(content='', additional_kwargs={}, response_metadata={'finish_reason': 'stop', 'model_name': 'qwen-plus-latest'}, id='run--cb669bfb-8c06-4b64-b132-cdcfc887a876'), {'langgraph_step': 1, 'langgraph_node': 'node1', 'langgraph_triggers': ('branch:to:node1',), 'langgraph_path': ('__pregel_pull', 'node1'), 'langgraph_checkpoint_ns': 'node1:9a2a84ba-8750-e0fd-ca60-cd5765562534', 'checkpoint_ns': 'node1:9a2a84ba-8750-e0fd-ca60-cd5765562534', 'ls_provider': 'openai', 'ls_model_name': 'qwen-plus-latest', 'ls_model_type': 'chat', 'ls_temperature': 0.01})\n"
     ]
    }
   ],
   "source": [
    "async for chunk in graph.astream({'messages':[HumanMessage('who are you?')]}, stream_mode=\"messages\"):\n",
    "    print(chunk)"
   ]
  },
  {
   "cell_type": "code",
   "execution_count": null,
   "id": "09c780e6",
   "metadata": {},
   "outputs": [],
   "source": []
  }
 ],
 "metadata": {
  "kernelspec": {
   "display_name": ".venv",
   "language": "python",
   "name": "python3"
  },
  "language_info": {
   "codemirror_mode": {
    "name": "ipython",
    "version": 3
   },
   "file_extension": ".py",
   "mimetype": "text/x-python",
   "name": "python",
   "nbconvert_exporter": "python",
   "pygments_lexer": "ipython3",
   "version": "3.12.8"
  }
 },
 "nbformat": 4,
 "nbformat_minor": 5
}
