{
 "cells": [
  {
   "cell_type": "code",
   "execution_count": 3,
   "id": "80e8ada3",
   "metadata": {},
   "outputs": [],
   "source": [
    "from typing_extensions import TypedDict\n",
    "from langgraph.graph import StateGraph,START,END"
   ]
  },
  {
   "cell_type": "code",
   "execution_count": 6,
   "id": "b4312dc6",
   "metadata": {},
   "outputs": [],
   "source": [
    "class OverallState(TypedDict):\n",
    "    user_name: str\n",
    "    user_age:int\n",
    "    user_score:float\n",
    "    user_grade:str\n",
    "\n",
    "class InputState(TypedDict):\n",
    "    user_name: str\n",
    "    user_age:int\n",
    "    \n",
    "class OutputState(TypedDict):\n",
    "    user_name: str\n",
    "    user_score:float\n",
    "    user_grade:str\n",
    "    \n",
    "class PrivateState(TypedDict):\n",
    "    user_id:str"
   ]
  },
  {
   "cell_type": "code",
   "execution_count": 8,
   "id": "3e4b711d",
   "metadata": {},
   "outputs": [],
   "source": [
    "def node1(state:InputState)->OverallState:\n",
    "    return {\"user_grade\":100}\n",
    "\n",
    "def node2(state:OverallState)->PrivateState:\n",
    "    return {\"user_id\":12345}\n",
    "\n",
    "def node3(state:PrivateState)->OutputState:\n",
    "    return {\"user_name\":\"John Doe\"}"
   ]
  },
  {
   "cell_type": "code",
   "execution_count": 9,
   "id": "1ae01747",
   "metadata": {},
   "outputs": [],
   "source": [
    "graph_builder = StateGraph(OverallState,input=InputState,output=OutputState)\n",
    "\n",
    "graph_builder.add_node(\"node1\",node1)\n",
    "graph_builder.add_node(\"node2\",node2)\n",
    "graph_builder.add_node(\"node3\",node3)\n",
    "\n",
    "graph_builder.add_edge(START, \"node1\")\n",
    "graph_builder.add_edge(\"node1\",\"node2\")\n",
    "graph_builder.add_edge(\"node2\",\"node3\")\n",
    "graph_builder.add_edge(\"node3\",END)\n",
    "\n",
    "graph = graph_builder.compile()"
   ]
  },
  {
   "cell_type": "code",
   "execution_count": 10,
   "id": "87b6218e",
   "metadata": {},
   "outputs": [],
   "source": [
    "result = graph.invoke({'user_name':'lee'})"
   ]
  },
  {
   "cell_type": "code",
   "execution_count": 11,
   "id": "e8f58246",
   "metadata": {},
   "outputs": [
    {
     "data": {
      "text/plain": [
       "{'user_name': 'John Doe', 'user_grade': 100}"
      ]
     },
     "execution_count": 11,
     "metadata": {},
     "output_type": "execute_result"
    }
   ],
   "source": [
    "result"
   ]
  },
  {
   "cell_type": "code",
   "execution_count": 17,
   "id": "76f5b8ff",
   "metadata": {},
   "outputs": [
    {
     "name": "stdout",
     "output_type": "stream",
     "text": [
      "{'node1': {'user_grade': 100}}\n",
      "{'node2': {'user_id': 12345}}\n",
      "{'node3': {'user_name': 'John Doe'}}\n"
     ]
    }
   ],
   "source": [
    "# default stream_mode is updates\n",
    "for chunk in graph.stream({'user_name':'lee'}, stream_mode=\"updates\"):\n",
    "    print(chunk)"
   ]
  },
  {
   "cell_type": "code",
   "execution_count": 19,
   "id": "ed52a746",
   "metadata": {},
   "outputs": [
    {
     "name": "stdout",
     "output_type": "stream",
     "text": [
      "{'user_name': 'lee'}\n",
      "{'user_name': 'lee', 'user_grade': 100}\n",
      "{'user_name': 'lee', 'user_grade': 100, 'user_id': 12345}\n",
      "{'user_name': 'John Doe', 'user_grade': 100, 'user_id': 12345}\n"
     ]
    }
   ],
   "source": [
    "for chunk in graph.stream({'user_name':'lee'}, stream_mode=\"values\"):\n",
    "    print(chunk)"
   ]
  },
  {
   "cell_type": "code",
   "execution_count": null,
   "id": "823a9719",
   "metadata": {},
   "outputs": [],
   "source": []
  }
 ],
 "metadata": {
  "kernelspec": {
   "display_name": ".venv",
   "language": "python",
   "name": "python3"
  },
  "language_info": {
   "codemirror_mode": {
    "name": "ipython",
    "version": 3
   },
   "file_extension": ".py",
   "mimetype": "text/x-python",
   "name": "python",
   "nbconvert_exporter": "python",
   "pygments_lexer": "ipython3",
   "version": "3.12.8"
  }
 },
 "nbformat": 4,
 "nbformat_minor": 5
}
