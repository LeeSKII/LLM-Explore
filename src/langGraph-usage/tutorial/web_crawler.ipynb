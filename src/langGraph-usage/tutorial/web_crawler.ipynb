{
 "cells": [
  {
   "cell_type": "code",
   "execution_count": 47,
   "id": "f8307875",
   "metadata": {},
   "outputs": [],
   "source": [
    "from typing_extensions import TypedDict\n",
    "from langgraph.graph import StateGraph,START,END\n",
    "from langgraph.graph.message import add_messages\n",
    "from langchain_core.messages import HumanMessage\n",
    "from typing import Annotated\n",
    "import json\n",
    "import httpx\n",
    "from tavily import TavilyClient\n",
    "import asyncio"
   ]
  },
  {
   "cell_type": "code",
   "execution_count": 48,
   "id": "91844d7f",
   "metadata": {},
   "outputs": [],
   "source": [
    "import os\n",
    "from dotenv import load_dotenv\n",
    "from langchain_openai import ChatOpenAI\n",
    "\n",
    "load_dotenv()\n",
    "\n",
    "api_key = os.getenv(\"QWEN_API_KEY\")\n",
    "base_url = os.getenv(\"QWEN_API_BASE_URL\")\n",
    "tavily_key = os.getenv(\"TAVILY_API_KEY\")\n",
    "\n",
    "llm = ChatOpenAI(model=\"qwen-plus-latest\",api_key=api_key,base_url=base_url,temperature=0.01)\n",
    "tavily_client = TavilyClient(api_key=tavily_key)"
   ]
  },
  {
   "cell_type": "code",
   "execution_count": 49,
   "id": "549b7404",
   "metadata": {},
   "outputs": [],
   "source": [
    "class OverallState(TypedDict):\n",
    "    url: str\n",
    "    result: str\n",
    "    status: str"
   ]
  },
  {
   "cell_type": "code",
   "execution_count": 65,
   "id": "fef05fa5",
   "metadata": {},
   "outputs": [],
   "source": [
    "async def tavily_node(state:OverallState):\n",
    "    response = await asyncio.to_thread(tavily_client.extract, state['url'])\n",
    "    # response = tavily_client.extract(state['url'])\n",
    "    return {\"result\":response['results'][0]['raw_content']}\n",
    "\n",
    "async def jina_node(state:OverallState):\n",
    "    async with httpx.AsyncClient() as client:\n",
    "        response = await client.get(f\"https://r.jina.ai/{state['url']}\",timeout=30)\n",
    "    if response.status_code!= 200:\n",
    "        return {\"status\":\"error\"}\n",
    "    else:\n",
    "        return {\"result\":response.text}\n",
    "    # response = httpx.get(f\"https://r.jina.ai/{state['url']}\")\n",
    "    # return {\"result\":response.text}"
   ]
  },
  {
   "cell_type": "code",
   "execution_count": 56,
   "id": "0cd5233f",
   "metadata": {},
   "outputs": [],
   "source": [
    "response = httpx.get('https://r.jina.ai/https://www.chinaisa.org.cn/gxportal/xfgl/portal/content.html?articleId=d7745de7d63aa5bc4cf180587e940458550ac2e4d84cc844fd3aba2349f0f29b&columnId=c42511ce3f868a515b49668dd250290c80d4dc8930c7e455d0e6e14b8033eae2')"
   ]
  },
  {
   "cell_type": "code",
   "execution_count": 57,
   "id": "273d6b44",
   "metadata": {},
   "outputs": [
    {
     "data": {
      "text/plain": [
       "\"Title: 专家解读：加强碳足迹核算标准供给，促进产业绿色低碳转型升级－中国钢铁工业协会\\n\\nURL Source: https://www.chinaisa.org.cn/gxportal/xfgl/portal/content.html?articleId=d7745de7d63aa5bc4cf180587e940458550ac2e4d84cc844fd3aba2349f0f29b&columnId=c42511ce3f868a515b49668dd250290c80d4dc8930c7e455d0e6e14b8033eae2\\n\\nPublished Time: Tue, 14 Nov 2023 06:24:44 GMT\\n\\nMarkdown Content:\\n专家解读：加强碳足迹核算标准供给，促进产业绿色低碳转型升级－中国钢铁工业协会\\n\\n===============\\n\\n[![Image 1: logo](https://www.chinaisa.org.cn/gxportal/xfgl/portal/img/logo.jpg)](https://www.chinaisa.org.cn/gxportal/xfgl/portal/index.html)\\n\\n[](javascript:serach();)\\n\\n[![Image 2](https://www.chinaisa.org.cn/gxportal/xfgl/portal/img/icon-user-ind.jpg) 会员登录](https://www.chinaisa.org.cn/gxportal/login.html)[![Image 3](https://www.chinaisa.org.cn/gxportal/xfgl/portal/img/icon-email-ind.jpg) 秘书长信箱](mailto:mszxx@chinaisa.org.cn)[En](http://english.chinaisa.org.cn/do/index.jsp)[钢协邮箱登录](http://mail.chinaisa.org.cn/login_chinaisa.jsp)\\n\\n*   [首页](https://www.chinaisa.org.cn/gxportal/xfgl/portal/index.html)\\n*   [钢铁协会](https://www.chinaisa.org.cn/gxportal/xfgl/portal/leaderPhoto.html)\\n    \\n\\n[会长](javascript:;) [赵民革](javascript:openLayHtml('zhaominge');) [党委书记、执行会长](javascript:;) [何文波](javascript:openLayHtml('hewenbo');) [副会长](javascript:;) \\n        *   [胡望明](javascript:openLayHtml('huwangming');)\\n        *   [谭成旭](javascript:openLayHtml('tanchengxu');)\\n        *   [姚 林](javascript:openLayHtml('yaolin');)\\n        *   [于 勇](javascript:openLayHtml('yuyong');)\\n        *   [沈 彬](javascript:openLayHtml('shenbin');)\\n        *   [钱 刚](javascript:openLayHtml('qiangang');)\\n        *   [李建宇](javascript:openLayHtml('lijianyu');)\\n        *   [张宝才](javascript:openLayHtml('zhangbaocai');)\\n        *   [孟繁英](javascript:openLayHtml('mengfanying');)\\n        *   [杨 维](javascript:openLayHtml('yangwei');)\\n        *   [薄学斌](javascript:openLayHtml('boxuebin');)\\n        *   [丁立国](javascript:openLayHtml('dingliguo');)\\n        *   [陈建光](javascript:openLayHtml('chenjianguang');)\\n        *   [刘安栋](javascript:openLayHtml('liuandong');)\\n        *   [张少明](javascript:openLayHtml('zhangshaoming');)\\n        *   [张志祥](javascript:openLayHtml('zhangzhixiang');)\\n        *   [黄一新](javascript:openLayHtml('huangyixin');)\\n        *   [何天仁](javascript:openLayHtml('hetianren');)\\n        *   [程子建](javascript:openLayHtml('chengzijian');)\\n        *   [姜 维](javascript:openLayHtml('jiangwei');)\\n        *   [屈秀丽](javascript:openLayHtml('quxiuli');)\\n        *   [夏 农](javascript:openLayHtml('xianong');)\\n        *   [骆铁军](javascript:openLayHtml('luotiejun');)\\n        *   [唐祖君](javascript:openLayHtml('tangzujun');)\\n        *   [王颖生](javascript:openLayHtml('wangyingsheng');)\\n\\n[党委副书记、秘书长（新闻发言人）](javascript:;)\\n\\n[姜 维](javascript:openLayHtml('jiangwei');)\\n\\n[党委常委、纪委书记](javascript:;)\\n\\n[陈洪飞](javascript:openLayHtml('chenhongfei');)\\n\\n[副秘书长/副总工程师](javascript:;)\\n\\n        *   [石洪卫](javascript:openLayHtml('shihongwei');)\\n        *   [苏长永](javascript:openLayHtml('suchangyong');)\\n        *   [陈玉千](javascript:openLayHtml('chenyuqian');)\\n        *   [黄 导（副总工程师）](javascript:openLayHtml('huangdao');)\\n        *   [冯 超](javascript:openLayHtml('fengchao');)\\n        \\n\\n        *   [张龙强](javascript:openLayHtml('zhanglongqiang');)\\n        *   姜晓东\\n        *   [赵金奎](javascript:openLayHtml('zhaojinkui');)\\n\\n[钢协机关](https://www.chinaisa.org.cn/gxportal/xfgl/portal/list.html?columnId=6ff2c50afda0758b549d5596a85ca8ca52ea281e36df038dcdcb93123c4e7480)\\n\\n        *   [综合部（财务资产部）](https://www.chinaisa.org.cn/gxportal/xfgl/portal/content.html?articleId=ecd74cacc0660a72e14de2f24492b58c3aa515234c4dc56c67ac2877cefa2915&columnId=6ff2c50afda0758b549d5596a85ca8ca52ea281e36df038dcdcb93123c4e7480)\\n        *   [信息统计部](https://www.chinaisa.org.cn/gxportal/xfgl/portal/content.html?articleId=8e79f9fee505ea393fb6ee45978bdf4ef1dd50e69c08948f3e21774880b2e67b&columnId=6ff2c50afda0758b549d5596a85ca8ca52ea281e36df038dcdcb93123c4e7480)\\n        *   [市场调研部](https://www.chinaisa.org.cn/gxportal/xfgl/portal/content.html?articleId=d58a6489576251af0bcaf32e8601aafc2d0fa60c84d6966cee2ba9a4ef6f19bf&columnId=6ff2c50afda0758b549d5596a85ca8ca52ea281e36df038dcdcb93123c4e7480)\\n        *   [产业运行部](https://www.chinaisa.org.cn/gxportal/xfgl/portal/content.html?articleId=2658337a4e427bb3084aa18f26bc3330f61f521ba2a6fc0b2ed1cf495b055782&columnId=6ff2c50afda0758b549d5596a85ca8ca52ea281e36df038dcdcb93123c4e7480)\\n        \\n\\n        *   [科技环保部](https://www.chinaisa.org.cn/gxportal/xfgl/portal/content.html?articleId=0958a6291a64ad35acacd2a65151100a3b4de92fad450996a14f2b21071d5bf1&columnId=6ff2c50afda0758b549d5596a85ca8ca52ea281e36df038dcdcb93123c4e7480)\\n        *   [规划发展部](https://www.chinaisa.org.cn/gxportal/xfgl/portal/content.html?articleId=308f2c33df2df2e0ba41470edcde37185376ae9dcbd9270a45b579812011a04c&columnId=6ff2c50afda0758b549d5596a85ca8ca52ea281e36df038dcdcb93123c4e7480)\\n        *   [组织人事部（党委办公室）](https://www.chinaisa.org.cn/gxportal/xfgl/portal/content.html?articleId=b40e6cb7ad78b475e4ab60e2c0f46e50ecfadb454bcdc2176e894be674b74cc1&columnId=6ff2c50afda0758b549d5596a85ca8ca52ea281e36df038dcdcb93123c4e7480)\\n        \\n\\n        *   [国际合作部](https://www.chinaisa.org.cn/gxportal/xfgl/portal/content.html?articleId=b3026075ccf8ca8f07f2dd9564fd24444646b5d2e4644b739049ee224b282139&columnId=6ff2c50afda0758b549d5596a85ca8ca52ea281e36df038dcdcb93123c4e7480)\\n        *   [纪委办公室](https://www.chinaisa.org.cn/gxportal/xfgl/portal/content.html?articleId=8741336c4a7383c461e903a588a4c590f7dac099dc8504c38e92a2636af009ba&columnId=6ff2c50afda0758b549d5596a85ca8ca52ea281e36df038dcdcb93123c4e7480)\\n        *   [矿石原料部](https://www.chinaisa.org.cn/gxportal/xfgl/portal/content.html?articleId=987ebffc8f623ca55aef6c0d3fe02c77782d29df5fa534c63dae53cf0af44ea5&columnId=6ff2c50afda0758b549d5596a85ca8ca52ea281e36df038dcdcb93123c4e7480)\\n\\n[钢协简介](https://www.chinaisa.org.cn/gxportal/xfgl/portal/content.html?articleId=c03844f1c02892ad8000bc8c9e87e988d5075928257543881208d9b59fa53d44&columnId=78f1362d802c4baae68c16d0fb2a467573795c0149acd0ca3f0acec972bd7b1f)[钢协章程](https://www.chinaisa.org.cn/gxportal/xfgl/portal/list.html?columnId=0227750914a0f2a722c5b71b220e0aa19ceb0ee2cd7a7e325a35f6591cdbf66a)[钢协文化](https://www.chinaisa.org.cn/gxportal/xfgl/portal/content.html?articleId=1c9abd9daec79f2a43e68fab77291ed704422ac81f26157e85b870bf0057adee&columnId=0c646f990a648f6a04df0b038df82b7b31b25b0d4de93ef347cdfcd475c62b48)\\n\\n    ![Image 4](https://www.chinaisa.org.cn/gxportal/xfgl/portal/img/border-s-menu.png)\\n\\n*   [钢协会员](https://www.chinaisa.org.cn/gxportal/xfgl/portal/list.html?columnId=ef4bceeabe5b155f260f0c7b041d774e1dce2dbfa0fb5c9841f1392ce221b258)\\n    [会长单位](https://www.chinaisa.org.cn/gxportal/xfgl/portal/list.html?columnId=8ae4ab42f512dd8dbf17b228aba79c473f54073edb8588b9cfd5e368828b9d2f) [副会长单位](https://www.chinaisa.org.cn/gxportal/xfgl/portal/list.html?columnId=106c88033775a2488348cd35b236deaffca6fdfcdb73c6d42fe8c601cdc0373d) [常务理事](https://www.chinaisa.org.cn/gxportal/xfgl/portal/list.html?columnId=a53406ef1ce91337857a827d0807509af45b1479c0ce2a211f7eff0de3256d0f) [理事单位](https://www.chinaisa.org.cn/gxportal/xfgl/portal/list.html?columnId=a830e91bef6b2ca05ca237c53e698b44618b48327a411fb21b719517800c17f7) [团体会员](https://www.chinaisa.org.cn/gxportal/xfgl/portal/list.html?columnId=b4e3620ae0d50dc84f60d8ba3c75a2f0d7473f7aa7ef0b480472fc221624f180) [个人会员](https://www.chinaisa.org.cn/gxportal/xfgl/portal/list.html?columnId=fe3dc4a4d95af40d1b2065db293e94127448de432c2af96b721a4cd052721764) [入会指引](https://www.chinaisa.org.cn/gxportal/xfgl/portal/list.html?columnId=0e9486b16fd79331de0e92e8c2c3968519b20df5fa5ed6dd3f450654ce9b9d82)   \\n\\n*   [专题报道](https://www.chinaisa.org.cn/gxportal/xfgl/portal/list.html?columnId=50e7242bfd78b4395f3338df7699a0ff8847b886c4c3a55bd7c102a2cfe32fe9)\\n    [钢协理事会](https://www.chinaisa.org.cn/gxportal/xfgl/portal/list.html?columnId=40c6404418699f0f8cb4e513013bb110ef250c782f0959852601e7c75e1afcd8) [新闻发布会](https://www.chinaisa.org.cn/gxportal/xfgl/portal/list.html?columnId=11ea370f565c6c141b1a4dac60aa00c4331bd442382a5dd476a5e73e001b773c) [劳模表彰](https://www.chinaisa.org.cn/gxportal/xfgl/portal/list.html?columnId=907e4ae217bf9c981a132051572103f9c87cccb7f00caf5a1770078829e6bcb3) [技能竞赛](https://www.chinaisa.org.cn/gxportal/xfgl/portal/list.html?columnId=563c15270a691e3c7cb9cd9ba457c5af392eb4630fa833fc1a55c8e2afbc28a9)   \\n\\n*   [成果奖励](https://www.chinaisa.org.cn/gxportal/xfgl/portal/list.html?columnId=a6c30053b66356b4d77fbf6668bda69f7e782b2ae08a21d5db171d50a504bd40)\\n    [冶金科技奖](https://www.chinaisa.org.cn/gxportal/xfgl/portal/list.html?columnId=50fe0c63f657ee48e49cb13fe7f7c5502046acdb05e2ee8a317f907af4191683) [管理创新成果](https://www.chinaisa.org.cn/gxportal/xfgl/portal/list.html?columnId=b5607d3b73c2c3a3b069a97b9dbfd59af64aea27bafd5eb87ba44d1b07a33b66) [环境友好企业](https://www.chinaisa.org.cn/gxportal/xfgl/portal/list.html?columnId=4475c8e21374d063a22f95939a2909837e78fab1832dc97bf64f09fa01c0c5f7) [市场开拓奖](https://www.chinaisa.org.cn/gxportal/xfgl/portal/list.html?columnId=169e34d7b29e3deaf4d4496da594d3bbde2eb0a40f7244b54dbfb9cc89a37296) [质量金杯奖](https://www.chinaisa.org.cn/gxportal/xfgl/portal/list.html?columnId=68029784be6d9a7bf9cb8cace5b8a5ce5d2d871e9a0cbcbf84eeae0ea2746311)   \\n\\n*   [节能减排](https://www.chinaisa.org.cn/gxportal/xfgl/portal/list.html?columnId=08895f1681c198fdf297ab38e33e1f428f6ccf2add382f3844a52e410f10e5a0)\\n    [先进节能环保技术](https://www.chinaisa.org.cn/gxportal/xfgl/portal/list.html?columnId=6e639343a517fd08e5860fba581d41940da523753956ada973b6952fc05ef94f) [极致能效标杆公示](https://www.chinaisa.org.cn/gxportal/xfgl/portal/list.html?columnId=2420135096a40fc435da7a4794bff023eccf49b91e2a463f24beece82092cae2) [超低排放改造公示](https://www.chinaisa.org.cn/gxportal/xfgl/portal/list.html?columnId=50d99531d5dee68346653ca9548f308764ad38410a091e662834a5ed66770174)   \\n\\n*   [国际交流](https://www.chinaisa.org.cn/gxportal/xfgl/portal/list.html?columnId=4753eef81b4019369d4751413d852ab9027944b84c612b5a08614e046d169e81)\\n    [外事动态](https://www.chinaisa.org.cn/gxportal/xfgl/portal/list.html?columnId=aa590ec6f835136a9ce8c9f3d0c3b194beb6b78037466ab40bb4aacc32adfcc9) [国际会展](https://www.chinaisa.org.cn/gxportal/xfgl/portal/list.html?columnId=05ac1f2971bc375d25c9112e399f9c3cbb237809684ebc5b0ca4a68a1fcb971c)   \\n\\n*   [政策法规](https://www.chinaisa.org.cn/gxportal/xfgl/portal/list.html?columnId=63a69eb0087f1984c0b269a1541905f19a56e117d56b3f51dfae0e6c1d436533)\\n    [政策法规](https://www.chinaisa.org.cn/gxportal/xfgl/portal/list.html?columnId=a214b2e71c3c79fa4a36ff382ee5f822b9603634626f7e320f91ed696b3666f2) [贸易规则](https://www.chinaisa.org.cn/gxportal/xfgl/portal/list.html?columnId=5988b2380d04d3efde8cc247377d19530c17904ec0b5decdd00f9b3e026e3715)   \\n\\n*   [分会园地](https://www.chinaisa.org.cn/gxportal/xfgl/portal/list.html?columnId=d059d6751dcaae94e31a795072267f7959c35d012eebb9858b3ede2990e82ea9)\\n    [法律分会](https://www.chinaisa.org.cn/gxportal/xfgl/portal/list.html?columnId=96000647f18ea78fa134a3932563e7d27c68d0482de498f179b44846234567a9) [设备分会](https://www.chinaisa.org.cn/gxportal/xfgl/portal/list.html?columnId=c8e1e3f52406115c2c03928271bbe883c0875b7c9f2f67492395685a62a1a2d8) [绿化分会](https://www.chinaisa.org.cn/gxportal/xfgl/portal/list.html?columnId=ad55a0fbc1a44e94fb60e21b98cf967aca17ecf1450bdfb3699468fe8235103b) [不锈钢分会](https://www.chinaisa.org.cn/gxportal/xfgl/portal/content.html?articleId=d7745de7d63aa5bc4cf180587e940458550ac2e4d84cc844fd3aba2349f0f29b&columnId=c42511ce3f868a515b49668dd250290c80d4dc8930c7e455d0e6e14b8033eae2#) [钒业分会](https://www.chinaisa.org.cn/gxportal/xfgl/portal/list.html?columnId=d0d8aaf750bb8494f7fcd96245f8e0df99fc264651fd2dc4547d733ca02ef856)   \\n\\n*   [钢铁EPD平台](https://www.cisa-epd.com/)\\n*   [低碳平台](https://steel.org.cn/)\\n\\n[首页](https://www.chinaisa.org.cn/gxportal/xfgl/portal/index.html)>[要闻](https://www.chinaisa.org.cn/gxportal/xfgl/portal/list.html?columnId=c42511ce3f868a515b49668dd250290c80d4dc8930c7e455d0e6e14b8033eae2)>正文\\n\\n专家解读：加强碳足迹核算标准供给，促进产业绿色低碳转型升级\\n文章来源：\\u200b工业和信息化部 日期：2025-07-04 浏览 197 次\\n\\n近日，为深化工业和信息化绿色低碳标准化工作，工业和信息化部印发实施《关于深入推进工业和信息化绿色低碳标准化工作的实施方案》（以下简称《实施方案》）。《实施方案》明确提出，以市场需求迫切、减排贡献突出、供应链带动作用明显的工业产品为重点，加强碳足迹核算标准供给，稳步有序扩大覆盖产品范围。\\n\\n**一、加强碳足迹核算标准供给具有重要意义**\\n\\n标准是经济活动和社会发展的技术支撑，是国家基础性制度的重要方面。产品碳足迹标准体系的日趋健全，将为我国实现从能耗双控向碳排放双控的战略转型提供基础制度保障。该体系能够引导各行业企业实施产品碳足迹核算实践，有效促进碳足迹管理等环节的标准化进程，显著提升全流程碳数据监测与质量管控水平，为构建企业碳排放和产品碳足迹管理体系奠定基础。《实施方案》中提出“以市场需求迫切、减排贡献突出、供应链带动作用明显的工业产品为重点，积极推进重点工业产品碳足迹核算规则标准制定”，凸显了加强碳足迹核算标准供给对构建能耗双控制度的积极应对和支撑作用。\\n\\n碳足迹核算标准体系是促进相关行业绿色低碳转型、助力实现碳达峰碳中和目标的重要抓手。《实施方案》在重点产品遴选机制设计中确立“稳步有序扩大覆盖产品范围，条件成熟的可直接制定国家标准或行业标准。对实施基础好的团体标准采信为行业标准或国家标准”的递进式建设路径，满足了当前重点领域碳足迹标准供给需求和促进绿色贸易的现实需要。\\n\\n**二、碳足迹核算标准建设应用成效初显**\\n\\n近年来，国家有关部门积极出台政策文件，建立健全产品碳足迹核算标准体系。2024年12月，工业和信息化部印发《重点工业产品碳足迹核算规则标准编制指南》，强化工作目标、规范制定范围、明确工作程序、细化编制要求，为企业、机构开展工业产品碳足迹核算标准的研究制定提供统一规范的规则标准。为加快组织制定工业产品碳足迹核算规则标准，积极打造多方参与的碳足迹工作格局，工业和信息化部会同生态环境部、国家发展改革委、市场监管总局于2025年1月、6月先后印发《工业产品碳足迹核算规则团体标准推荐清单（第一批）》《工业产品碳足迹核算规则团体标准推荐清单（第二批）》，发布钢铁、焦炭、水泥、乙烯、复合肥料、预拌混凝土、锂离子电池、手机、基站设备等38项团体标准推荐清单，覆盖钢铁、有色、石化、化工、建材、新能源汽车、轻工、电子等行业。\\n\\n产品碳足迹核算标准建设为本地化碳足迹因子研究工作提供标准化数据支撑，显著提高产品碳排放数据可信水平。我国碳排放因子数据库建设还处在起步阶段，相关碳排放因子数据缺乏统一数据标准与共享机制，数据透明度和可信度普遍较低。产品碳足迹核算标准建设为开展工业产品碳足迹因子数据库建设工作提供了方法引领。\\n\\n截至目前，相关高校院所及龙头企业已建设工业领域及原材料、装备制造、光伏等重点行业低碳公共服务平台，利用数字技术加速碳足迹核算标准推广应用。由中国工业互联网研究院牵头建设的工业数字化碳管理公共服务平台汇聚碳排放因子10000余条，围绕电线电缆、电气装备、化工等领域接入设备3.47万台，为企业在线提供组织碳排放核算、产品碳足迹核算等服务11400余次。\\n\\n**三、加强产品碳足迹标准研究与应用，深度挖掘产业链节能降碳潜力，引导行业绿色低碳发展**\\n\\n（一）科学有序扩展实施范畴。建议依据碳减排贡献度、市场需求、产业链协同效应等核心要素，分批次、有重点地推进产品碳足迹核算标准体系建设。优先推进基础能源、原材料及重点外贸产品碳足迹核算标准的研制工作，积极应对绿色贸易壁垒，逐步扩大标准覆盖的产品品类范围。\\n\\n（二）持续推进标准体系建设。在核算通则国家标准框架下，加快研制兼具实践指导性和行业适配性的核算规则实施细则。通过构建覆盖全面、指标统一的标准体系，为工业领域碳足迹核算工作提供清晰可靠的技术遵循，为碳减排工作规范化、科学化开展提供基础支撑。健全完善碳足迹核算标准体系架构，分行业、分领域编制标准建设图谱，实施重点标准研制任务清单化管理，构建系统化、精准化的标准动态更新机制，有序引导标准体系的迭代更新与完善升级。\\n\\n（三）协同推动标准市场化应用。支持各级标准化机构及相关单位运用数字化、智能化技术手段拓展标准信息发布平台，面向社会免费开放碳足迹核算标准文本资源。扩展产品碳足迹标准地区应用及认证，加强数字化碳管理地区平台建设及地区碳排放因子库建设，增强碳足迹核算能力，深度挖掘产业节能降碳潜力，科学引导企业实现绿色低碳发展转型升级。\\n\\n[国家发展和改革委员会](https://www.ndrc.gov.cn/)|[工业和信息化部](https://www.miit.gov.cn/)|[商务部](http://www.mofcom.gov.cn/)|[国务院国有资产监督管理委员会](http://www.sasac.gov.cn/)|[国家统计局](http://www.stats.gov.cn/)\\n\\n[中国冶金网](https://www.metal.net.cn/)|[钢铁科技发展网](http://www.steelsidc.org.cn/)|[中国钢铁标准网](https://www.cmsi.org.cn/)|[中国钢铁新闻网](http://www.csteelnews.com/)|[中国联合钢铁网](https://www.custeel.com/)|[中智招聘网](https://zhaopin.ciic.com.cn/)|[国聘网](https://www.iguopin.com/)\\n\\n地址：北京市东四西大街46号 邮政编码：100711 联系电话：010-65133322-1348(办公室)/2115(网站)/1140(机房)\\n\\n技术支持：上海宝信软件股份有限公司 版权所有：中国钢铁工业协会[京ICP备15011807号-2](https://beian.miit.gov.cn/)[京公网安备11040102700019号](https://www.beian.gov.cn/portal/registerSystemInfo?recordcode=11040102700019)\\n\\n![Image 5](https://www.chinaisa.org.cn/gxportal/xfgl/portal/img/icon-code-ind.jpg)\\n钢铁协会公众号\\n\""
      ]
     },
     "execution_count": 57,
     "metadata": {},
     "output_type": "execute_result"
    }
   ],
   "source": [
    "response.text"
   ]
  },
  {
   "cell_type": "code",
   "execution_count": 66,
   "id": "3baf7e2e",
   "metadata": {},
   "outputs": [
    {
     "data": {
      "image/png": "[encoded data removed]",
      "text/plain": [
       "<langgraph.graph.state.CompiledStateGraph object at 0x000001F8DC279550>"
      ]
     },
     "execution_count": 66,
     "metadata": {},
     "output_type": "execute_result"
    }
   ],
   "source": [
    "graph_builder = StateGraph(OverallState)\n",
    "\n",
    "graph_builder.add_node(\"jina_node\",jina_node)\n",
    "graph_builder.add_edge(START,\"jina_node\")\n",
    "graph_builder.add_edge(\"jina_node\",END)\n",
    "\n",
    "graph = graph_builder.compile()\n",
    "graph"
   ]
  },
  {
   "cell_type": "code",
   "execution_count": 71,
   "id": "e3d37f7a",
   "metadata": {},
   "outputs": [],
   "source": [
    "result = await graph.ainvoke({\"url\": \"https://finance.eastmoney.com/a/202507033447776215.html\"})"
   ]
  },
  {
   "cell_type": "code",
   "execution_count": null,
   "id": "a3150b70",
   "metadata": {},
   "outputs": [],
   "source": [
    "print(result['result'])"
   ]
  },
  {
   "cell_type": "code",
   "execution_count": null,
   "id": "358a3faa",
   "metadata": {},
   "outputs": [],
   "source": []
  },
  {
   "cell_type": "code",
   "execution_count": null,
   "id": "abd45848",
   "metadata": {},
   "outputs": [],
   "source": []
  }
 ],
 "metadata": {
  "kernelspec": {
   "display_name": ".venv",
   "language": "python",
   "name": "python3"
  },
  "language_info": {
   "codemirror_mode": {
    "name": "ipython",
    "version": 3
   },
   "file_extension": ".py",
   "mimetype": "text/x-python",
   "name": "python",
   "nbconvert_exporter": "python",
   "pygments_lexer": "ipython3",
   "version": "3.12.8"
  }
 },
 "nbformat": 4,
 "nbformat_minor": 5
}
