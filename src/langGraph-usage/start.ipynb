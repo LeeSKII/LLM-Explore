{
 "cells": [
  {
   "cell_type": "code",
   "execution_count": 1,
   "id": "9396b5f4",
   "metadata": {},
   "outputs": [],
   "source": [
    "import os\n",
    "from dotenv import load_dotenv\n",
    "from langchain.chat_models import init_chat_model\n",
    "\n",
    "load_dotenv()\n",
    "\n",
    "api_key = os.getenv(\"QWEN_API_KEY\")\n",
    "base_url = os.getenv(\"QWEN_API_BASE_URL\")"
   ]
  },
  {
   "cell_type": "code",
   "execution_count": 3,
   "id": "6a97868c",
   "metadata": {},
   "outputs": [],
   "source": [
    "from langchain.chat_models import init_chat_model\n",
    "\n",
    "model = init_chat_model(model='qwen-plus-latest',api_key = api_key,base_url=base_url,model_provider='openai')"
   ]
  },
  {
   "cell_type": "code",
   "execution_count": 4,
   "id": "42e3157c",
   "metadata": {},
   "outputs": [],
   "source": [
    "def get_weather(city: str) -> str:  \n",
    "    \"\"\"Get weather for a given city.\"\"\"\n",
    "    return f\"It's always sunny in {city}!\""
   ]
  },
  {
   "cell_type": "code",
   "execution_count": 5,
   "id": "0f969158",
   "metadata": {},
   "outputs": [],
   "source": [
    "from langgraph.prebuilt import create_react_agent\n",
    "\n",
    "agent = create_react_agent(\n",
    "    model=model,  \n",
    "    tools=[get_weather],  \n",
    "    prompt=\"You are a helpful assistant\"  \n",
    ")"
   ]
  },
  {
   "cell_type": "code",
   "execution_count": 6,
   "id": "5131aaf3",
   "metadata": {},
   "outputs": [
    {
     "data": {
      "text/plain": [
       "{'messages': [HumanMessage(content='what is the weather in sf', additional_kwargs={}, response_metadata={}, id='65b93150-a41a-4fd8-b210-363841e604e6'),\n",
       "  AIMessage(content='', additional_kwargs={'tool_calls': [{'id': 'call_775301c17b294a76b9b242', 'function': {'arguments': '{\"city\": \"sf\"}', 'name': 'get_weather'}, 'type': 'function', 'index': 0}], 'refusal': None}, response_metadata={'token_usage': {'completion_tokens': 19, 'prompt_tokens': 162, 'total_tokens': 181, 'completion_tokens_details': None, 'prompt_tokens_details': None}, 'model_name': 'qwen-plus-latest', 'system_fingerprint': None, 'id': 'chatcmpl-049ccdd9-de64-9ecb-91d6-cc0b71ffa00c', 'service_tier': None, 'finish_reason': 'tool_calls', 'logprobs': None}, id='run--bb5b70f7-088c-488a-9c6b-849cbfd47035-0', tool_calls=[{'name': 'get_weather', 'args': {'city': 'sf'}, 'id': 'call_775301c17b294a76b9b242', 'type': 'tool_call'}], usage_metadata={'input_tokens': 162, 'output_tokens': 19, 'total_tokens': 181, 'input_token_details': {}, 'output_token_details': {}}),\n",
       "  ToolMessage(content=\"It's always sunny in sf!\", name='get_weather', id='33fc9fbf-abea-4165-8da1-4c67b6c9ea35', tool_call_id='call_775301c17b294a76b9b242'),\n",
       "  AIMessage(content='The weather in SF is always sunny! 😊', additional_kwargs={'refusal': None}, response_metadata={'token_usage': {'completion_tokens': 10, 'prompt_tokens': 201, 'total_tokens': 211, 'completion_tokens_details': None, 'prompt_tokens_details': None}, 'model_name': 'qwen-plus-latest', 'system_fingerprint': None, 'id': 'chatcmpl-121c4901-19e7-901b-8237-d9cafccfd144', 'service_tier': None, 'finish_reason': 'stop', 'logprobs': None}, id='run--75f53842-e6d6-4be4-93f2-5f973da369b0-0', usage_metadata={'input_tokens': 201, 'output_tokens': 10, 'total_tokens': 211, 'input_token_details': {}, 'output_token_details': {}})]}"
      ]
     },
     "execution_count": 6,
     "metadata": {},
     "output_type": "execute_result"
    }
   ],
   "source": [
    "agent.invoke(\n",
    "    {\"messages\": [{\"role\": \"user\", \"content\": \"what is the weather in sf\"}]}\n",
    ")"
   ]
  },
  {
   "cell_type": "code",
   "execution_count": null,
   "id": "4c0c0a10",
   "metadata": {},
   "outputs": [],
   "source": []
  }
 ],
 "metadata": {
  "kernelspec": {
   "display_name": ".venv",
   "language": "python",
   "name": "python3"
  },
  "language_info": {
   "codemirror_mode": {
    "name": "ipython",
    "version": 3
   },
   "file_extension": ".py",
   "mimetype": "text/x-python",
   "name": "python",
   "nbconvert_exporter": "python",
   "pygments_lexer": "ipython3",
   "version": "3.12.8"
  }
 },
 "nbformat": 4,
 "nbformat_minor": 5
}
