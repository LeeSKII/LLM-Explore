{
 "cells": [
  {
   "cell_type": "code",
   "execution_count": 2,
   "id": "f81b5da9",
   "metadata": {},
   "outputs": [],
   "source": [
    "from typing import Annotated\n",
    "\n",
    "from typing_extensions import TypedDict\n",
    "\n",
    "from langgraph.graph import StateGraph,START,END\n",
    "from langgraph.graph.message import add_messages\n",
    "from langchain_openai import ChatOpenAI\n",
    "import os\n",
    "from dotenv import load_dotenv\n",
    "load_dotenv()\n",
    "\n",
    "import json\n",
    "import httpx\n",
    "\n",
    "#------------------ settings ------------------\n",
    "api_key=os.getenv(\"DEEPSEEK_API_KEY\")\n",
    "base_url=os.getenv(\"DEEPSEEK_API_BASE_URL\")\n",
    "local_base_url = 'http://192.168.0.166:8000/v1'\n",
    "local_model_name = 'Qwen3-235B'\n",
    "model_name = 'deepseek-reasoner'\n",
    "\n",
    "local_settings = {\n",
    "  'api_key' : '123',\n",
    "  'base_url' : local_base_url,\n",
    "  'id' : local_model_name\n",
    "}\n",
    "\n",
    "online_settings = {\n",
    "  'api_key' : api_key,\n",
    "  'base_url' : base_url,\n",
    "  'id' : model_name\n",
    "}\n",
    "\n",
    "settings = local_settings\n",
    "#------------------ settings ------------------"
   ]
  },
  {
   "cell_type": "code",
   "execution_count": 4,
   "id": "beb1adea",
   "metadata": {},
   "outputs": [],
   "source": [
    "llm = ChatOpenAI(model=settings['id'],api_key=settings['api_key'],base_url=settings['base_url'],temperature=0.01)"
   ]
  },
  {
   "cell_type": "code",
   "execution_count": 45,
   "id": "80f464ec",
   "metadata": {},
   "outputs": [],
   "source": [
    "standard_prompt = \"\"\"# 提取标准名称和标准号的提示词\n",
    "\n",
    "## 任务描述\n",
    "你是一位专业的文档分析师，负责从用户提供的中文文章或文本中提取标准名称和标准号，并以给定的json schema格式输出。目标是准确识别所有提到的标准（包括国家标准、法规、行业标准等），提取其名称（不含引号）和编号（或发布/施行日期），并确保输出清晰、格式统一，适配structure_output模式。\n",
    "\n",
    "## 规则\n",
    "请按照以下步骤处理用户提供的中文文本，并生成结构化输出：\n",
    "\n",
    "1. **输入接收**：接收用户提供的中文文章或文本片段。\n",
    "2. **提取过程**：\n",
    "   - 扫描文本，识别所有提到的国家标准、行业标准、规范、法律或法规。\n",
    "   - 提取每个标准的名称（去除原文中的引号，如《》）和标准号（如 GB50406-2007）或发布/施行日期（如 2015年1月1日起施行）。\n",
    "   - 如果标准号和日期同时存在，优先提取标准号；如果仅有日期，则记录日期。\n",
    "   - 忽略非标准相关的文本，确保只提取明确的标准信息。\n",
    "3. **输出格式**：\n",
    "   - 单个标准Standard对象包含的字段如下：\n",
    "     - **标准名称**：标准的完整名称，不含引号（如 中华人民共和国环境保护法）。\n",
    "     - **标准号/日期**：标准编号（如 GB50406-2007）或发布/施行日期（如 2015年1月1日起施行）。如果没有编号，留空，示例:\"\"。\n",
    "   - 如果文本中没有标准信息，返回对象的standards字段为空列表[]\n",
    "   - 最终输出的StandardList包含了一个standards字段，数据类型为List[Standard]。\n",
    "   - 输出适配structure_output模式，确保表格格式清晰，字段规范。\n",
    "   - Finally output, provide a list of standards in JSON format, wrapped in a 'standards' field as specified in the schema.\n",
    "4. **约束**：\n",
    "   - 仅提取明确的标准化文件名称和编号/日期，排除非标准化的描述。\n",
    "   - 标准名称不含原文中的引号（如《》），直接提取核心名称。\n",
    "   - 如果标准号或日期格式不一致（如括号内日期或无括号），统一提取并记录原文格式。\n",
    "   - 所有输出均使用中文，表格格式清晰，易于阅读。\n",
    "   - 如果标准名称或编号不完整（如缺少编号），编号字段留空：\"\"。\n",
    "5. 仔细审查文档，严格禁止遗漏任何可能出现的标准信息。```\"\"\""
   ]
  },
  {
   "cell_type": "code",
   "execution_count": 5,
   "id": "4b7a8e68",
   "metadata": {},
   "outputs": [
    {
     "data": {
      "text/plain": [
       "AIMessage(content='\\n\\nHello! How can I assist you today?', additional_kwargs={'refusal': None}, response_metadata={'token_usage': {'completion_tokens': 95, 'prompt_tokens': 9, 'total_tokens': 104, 'completion_tokens_details': None, 'prompt_tokens_details': None}, 'model_name': 'Qwen3-235B', 'system_fingerprint': None, 'id': 'chatcmpl-e93a0d29b31441c4a97f3f380b48c79c', 'finish_reason': 'stop', 'logprobs': None}, id='run-ac0d3529-0677-497d-b124-f9c0542d1a89-0', usage_metadata={'input_tokens': 9, 'output_tokens': 95, 'total_tokens': 104, 'input_token_details': {}, 'output_token_details': {}})"
      ]
     },
     "execution_count": 5,
     "metadata": {},
     "output_type": "execute_result"
    }
   ],
   "source": [
    "llm.invoke('hi')"
   ]
  },
  {
   "cell_type": "code",
   "execution_count": 46,
   "id": "abd58fa9",
   "metadata": {},
   "outputs": [
    {
     "name": "stdout",
     "output_type": "stream",
     "text": [
      "{'properties': {'name': {'description': '标准|法规名称', 'title': 'Name', 'type': 'string'}, 'code': {'description': '标准|法规 编号|日期', 'title': 'Code', 'type': 'string'}}, 'required': ['name', 'code'], 'title': 'Standard', 'type': 'object'}\n"
     ]
    }
   ],
   "source": [
    "from pydantic import BaseModel, Field\n",
    "from typing import List\n",
    "\n",
    "# 定义 Pydantic 模型\n",
    "class Standard(BaseModel):\n",
    "    name: str = Field(description=\"标准|法规名称\")\n",
    "    code: str = Field(description=\"标准|法规 编号|日期\")\n",
    "\n",
    "# 定义包含 Standard 列表的 Pydantic 模型\n",
    "class StandardList(BaseModel):\n",
    "    standards: List[Standard] = Field(description=\"List of standards\")\n",
    "\n",
    "# 提取 JSON Schema\n",
    "schema = Standard.model_json_schema()\n",
    "print(schema)"
   ]
  },
  {
   "cell_type": "code",
   "execution_count": null,
   "id": "90ea9ddd",
   "metadata": {},
   "outputs": [
    {
     "name": "stdout",
     "output_type": "stream",
     "text": [
      "Format Instructions:\n",
      " The output should be formatted as a JSON instance that conforms to the JSON schema below.\n",
      "\n",
      "As an example, for the schema {\"properties\": {\"foo\": {\"title\": \"Foo\", \"description\": \"a list of strings\", \"type\": \"array\", \"items\": {\"type\": \"string\"}}}, \"required\": [\"foo\"]}\n",
      "the object {\"foo\": [\"bar\", \"baz\"]} is a well-formatted instance of the schema. The object {\"properties\": {\"foo\": [\"bar\", \"baz\"]}} is not well-formatted.\n",
      "\n",
      "Here is the output schema:\n",
      "```\n",
      "{\"$defs\": {\"Standard\": {\"properties\": {\"name\": {\"description\": \"标准|法规名称\", \"title\": \"Name\", \"type\": \"string\"}, \"code\": {\"description\": \"标准|法规 编号|日期\", \"title\": \"Code\", \"type\": \"string\"}}, \"required\": [\"name\", \"code\"], \"title\": \"Standard\", \"type\": \"object\"}}, \"properties\": {\"standards\": {\"description\": \"List of standards\", \"items\": {\"$ref\": \"#/$defs/Standard\"}, \"title\": \"Standards\", \"type\": \"array\"}}, \"required\": [\"standards\"]}\n",
      "```\n"
     ]
    }
   ],
   "source": [
    "from langchain.output_parsers import PydanticOutputParser\n",
    "from langchain.prompts import PromptTemplate\n",
    "\n",
    "# 初始化 PydanticOutputParser\n",
    "parser = PydanticOutputParser(pydantic_object=StandardList)\n",
    "\n",
    "# 获取 JSON Schema 的格式化指令\n",
    "format_instructions = parser.get_format_instructions()\n",
    "print(\"Format Instructions:\\n\", format_instructions)"
   ]
  },
  {
   "cell_type": "code",
   "execution_count": 48,
   "id": "7bf984ba",
   "metadata": {},
   "outputs": [],
   "source": [
    "# 定义 PromptTemplate\n",
    "prompt = PromptTemplate(\n",
    "    template=standard_prompt+\"\\n{format_instructions}\\n{query}\\n\",\n",
    "    input_variables=[\"query\"],\n",
    "    partial_variables={\"format_instructions\": format_instructions},\n",
    ")"
   ]
  },
  {
   "cell_type": "code",
   "execution_count": 49,
   "id": "ff78530d",
   "metadata": {},
   "outputs": [],
   "source": [
    "chain = prompt | llm | parser"
   ]
  },
  {
   "cell_type": "code",
   "execution_count": 50,
   "id": "f89e267d",
   "metadata": {},
   "outputs": [
    {
     "name": "stderr",
     "output_type": "stream",
     "text": [
      "<>:1: SyntaxWarning: invalid escape sequence '\\T'\n",
      "<>:1: SyntaxWarning: invalid escape sequence '\\T'\n",
      "C:\\Users\\11798\\AppData\\Local\\Temp\\ipykernel_41260\\2781049100.py:1: SyntaxWarning: invalid escape sequence '\\T'\n",
      "  input_data='''设计原则\n"
     ]
    }
   ],
   "source": [
    "input_data='''设计原则\n",
    "烟气净化系统采取全烟气净化，不设计烟气旁路系统，以“先进技术、配置合理、造价及运行费用经济、装置实用性强”为原则，采用成熟可靠的技术装备和控制系统。整个系统的设计基本原则为：\n",
    "1）以最新环保标准为准绳，面向未来，采用最佳解决方案；使烟气中的SO2，NOx，二噁英、粉尘等排放限值要优于环保部发布的“关于发布《钢铁烧结、球团工业大气污染物排放标准》等20项国家污染物排放标准修改单的公告（征求意见稿）”中烧结新标准要求，达到超净排放要求。\n",
    "2）烟气净化工艺遵循技术成熟、设备先进运行稳定、操作维护方便、自动化程度较高、无二次污染原则；\n",
    "3）在工艺合理、安全可靠、流程顺畅的前提下，降低运行费用，节省投资、方便施工；\n",
    "4）装置能快速投入运行，适应风量及SO2、NOX负荷波动能力强；\n",
    "5）烟气净化装置尽可能按现有设备状况及场地条件进行布置，力求工艺流程和设施布置合理、操作安全、简便，尽量减小项目实施时对现有单元生产的影响；\n",
    "6）严格执行国家、地方及企业的有关环保、安全卫生、节能、工程设计统一技术规定等有关标准、规范。\n",
    "7）执行的设计规范：\n",
    "《中华人民共和国环境保护法》（2015年1月1日起施行）\n",
    "《建设项目环境保护管理条例》（1998年11月29日发布施行）\n",
    "《钢铁工业环境保护设计规范》（GB50406-2007）\n",
    "《钢铁烧结、球团工业大气污染物排放标准》（GB28662-2012）\n",
    "《建筑地基基础设计规范》（GB50007-2011）\n",
    "《建筑结构荷载规范》 \n",
    "《混凝土结构设计规范》\n",
    "《钢结构设计规范》（GB50017-2003）\n",
    "《砌体结构设计规范》（GB50003-2011）。\n",
    "《建筑抗震设计规范》（GB50011-2010）。\n",
    "《建筑工程抗震设防分类标准》（GB50223－2008）。\n",
    "《动力机器基础设计规范》（GB50040-96）。\n",
    "《烟囱设计规范》（GB50051-2013）。\n",
    "《建筑桩基技术规范》（\n",
    "《岩土工程勘察规范》GB 50021-2001 （2009年版）。\n",
    "《通用用电设备配电设计规范》   GB50055-2011\n",
    "《建筑物防雷设计规范》    \n",
    "《建筑设计防火规范》       GB50016-2014 \n",
    "《3～110KV高压配电装置设计规范》   GB50060-2008\n",
    "《供配电系统设计规范》     GB50052-2009\n",
    "《低压配电设计规范》       GB50054-2011\n",
    "《20kV及以下变电所设计规程》GB50053-2013\n",
    "《电力装置的继电保护和自动装置设计规范》  GB\\T50062-2008\n",
    "《工业企业噪声控制设计规范》(GB/T 50087-2013)\n",
    "《工业企业总平面设计规范》\n",
    "《工业企业设计卫生标准》（GBZ1-2010）\n",
    "《工业企业煤气安全规程》 (GB6222-2005)\n",
    "《起重机械安全规程》（GB6067.1-2010）\n",
    "《工作场所有害因素职业接触限值第一部分：化学有害因素》（GBZ2.1-2007）\n",
    "《工作场所有害因素职业接触限值第二部分：物理因素》（GBZ2.2-2007）\n",
    "《建筑采光设计标准》(GB50033-2013）\n",
    "《建筑照明设计标准》(GB50034-2013）\n",
    "执行以及国家现行的其它规范、规程、规定。'''"
   ]
  },
  {
   "cell_type": "code",
   "execution_count": 51,
   "id": "c133db8b",
   "metadata": {},
   "outputs": [
    {
     "name": "stdout",
     "output_type": "stream",
     "text": [
      "Structured Output:\n",
      " standards=[Standard(name='中华人民共和国环境保护法', code='2015年1月1日起施行'), Standard(name='建设项目环境保护管理条例', code='1998年11月29日发布施行'), Standard(name='钢铁工业环境保护设计规范', code='GB50406-2007'), Standard(name='钢铁烧结、球团工业大气污染物排放标准', code='GB28662-2012'), Standard(name='建筑地基基础设计规范', code='GB50007-2011'), Standard(name='建筑结构荷载规范', code=''), Standard(name='混凝土结构设计规范', code=''), Standard(name='钢结构设计规范', code='GB50017-2003'), Standard(name='砌体结构设计规范', code='GB50003-2011'), Standard(name='建筑抗震设计规范', code='GB50011-2010'), Standard(name='建筑工程抗震设防分类标准', code='GB50223－2008'), Standard(name='动力机器基础设计规范', code='GB50040-96'), Standard(name='烟囱设计规范', code='GB50051-2013'), Standard(name='建筑桩基技术规范', code=''), Standard(name='岩土工程勘察规范', code='GB 50021-2001 （2009年版）'), Standard(name='通用用电设备配电设计规范', code='GB50055-2011'), Standard(name='建筑物防雷设计规范', code=''), Standard(name='建筑设计防火规范', code='GB50016-2014'), Standard(name='3～110KV高压配电装置设计规范', code='GB50060-2008'), Standard(name='供配电系统设计规范', code='GB50052-2009'), Standard(name='低压配电设计规范', code='GB50054-2011'), Standard(name='20kV及以下变电所设计规程', code='GB50053-2013'), Standard(name='电力装置的继电保护和自动装置设计规范', code='GB\\\\T50062-2008'), Standard(name='工业企业噪声控制设计规范', code='GB/T 50087-2013'), Standard(name='工业企业总平面设计规范', code=''), Standard(name='工业企业设计卫生标准', code='GBZ1-2010'), Standard(name='工业企业煤气安全规程', code='GB6222-2005'), Standard(name='起重机械安全规程', code='GB6067.1-2010'), Standard(name='工作场所有害因素职业接触限值第一部分：化学有害因素', code='GBZ2.1-2007'), Standard(name='工作场所有害因素职业接触限值第二部分：物理因素', code='GBZ2.2-2007'), Standard(name='建筑采光设计标准', code='GB50033-2013'), Standard(name='建筑照明设计标准', code='GB50034-2013')]\n"
     ]
    }
   ],
   "source": [
    "result = chain.invoke({\"query\": input_data})\n",
    "print(\"Structured Output:\\n\", result)"
   ]
  },
  {
   "cell_type": "code",
   "execution_count": 52,
   "id": "7977a75e",
   "metadata": {},
   "outputs": [
    {
     "data": {
      "text/plain": [
       "[Standard(name='中华人民共和国环境保护法', code='2015年1月1日起施行'),\n",
       " Standard(name='建设项目环境保护管理条例', code='1998年11月29日发布施行'),\n",
       " Standard(name='钢铁工业环境保护设计规范', code='GB50406-2007'),\n",
       " Standard(name='钢铁烧结、球团工业大气污染物排放标准', code='GB28662-2012'),\n",
       " Standard(name='建筑地基基础设计规范', code='GB50007-2011'),\n",
       " Standard(name='建筑结构荷载规范', code=''),\n",
       " Standard(name='混凝土结构设计规范', code=''),\n",
       " Standard(name='钢结构设计规范', code='GB50017-2003'),\n",
       " Standard(name='砌体结构设计规范', code='GB50003-2011'),\n",
       " Standard(name='建筑抗震设计规范', code='GB50011-2010'),\n",
       " Standard(name='建筑工程抗震设防分类标准', code='GB50223－2008'),\n",
       " Standard(name='动力机器基础设计规范', code='GB50040-96'),\n",
       " Standard(name='烟囱设计规范', code='GB50051-2013'),\n",
       " Standard(name='建筑桩基技术规范', code=''),\n",
       " Standard(name='岩土工程勘察规范', code='GB 50021-2001 （2009年版）'),\n",
       " Standard(name='通用用电设备配电设计规范', code='GB50055-2011'),\n",
       " Standard(name='建筑物防雷设计规范', code=''),\n",
       " Standard(name='建筑设计防火规范', code='GB50016-2014'),\n",
       " Standard(name='3～110KV高压配电装置设计规范', code='GB50060-2008'),\n",
       " Standard(name='供配电系统设计规范', code='GB50052-2009'),\n",
       " Standard(name='低压配电设计规范', code='GB50054-2011'),\n",
       " Standard(name='20kV及以下变电所设计规程', code='GB50053-2013'),\n",
       " Standard(name='电力装置的继电保护和自动装置设计规范', code='GB\\\\T50062-2008'),\n",
       " Standard(name='工业企业噪声控制设计规范', code='GB/T 50087-2013'),\n",
       " Standard(name='工业企业总平面设计规范', code=''),\n",
       " Standard(name='工业企业设计卫生标准', code='GBZ1-2010'),\n",
       " Standard(name='工业企业煤气安全规程', code='GB6222-2005'),\n",
       " Standard(name='起重机械安全规程', code='GB6067.1-2010'),\n",
       " Standard(name='工作场所有害因素职业接触限值第一部分：化学有害因素', code='GBZ2.1-2007'),\n",
       " Standard(name='工作场所有害因素职业接触限值第二部分：物理因素', code='GBZ2.2-2007'),\n",
       " Standard(name='建筑采光设计标准', code='GB50033-2013'),\n",
       " Standard(name='建筑照明设计标准', code='GB50034-2013')]"
      ]
     },
     "execution_count": 52,
     "metadata": {},
     "output_type": "execute_result"
    }
   ],
   "source": [
    "result.standards"
   ]
  },
  {
   "cell_type": "code",
   "execution_count": 54,
   "id": "358a786a",
   "metadata": {},
   "outputs": [],
   "source": [
    "standard_check_prompt = \"\"\"你是一个专业的标准检测分析助手，任务是识别提供的国家标准（GB）和行业标准（如JB、QB等）是否过期以及有效，根据提供的标准号、标准名称，并验证标准名称与标准号是否匹配。以下是具体要求：\n",
    "输入内容：接收包含标准号（如GB 12345-2018、JB/T 7890-2015等）、标准名称以及可能的发布日期文本。\n",
    "识别过期标准：\n",
    "检查标准号，结合你所知道的标准状态或有效性信息，判断标准是否过期。\n",
    "识别标准号和名称：\n",
    "识别标准号（如GB 12345-2018、JB/T 7890-2015）。\n",
    "识别标准名称（如《家用电器安全标准》、《机械设备技术规范》）。\n",
    "确保标准号与名称一一对应，避免混淆。\n",
    "验证名称与标号匹配：\n",
    "检查标准号与标准名称是否逻辑一致（例如，GB 12345-2018是否对应《家用电器安全标准》）。\n",
    "如果发现标准号与名称不匹配（如GB 12345-2018对应《食品卫生标准》），标记为不匹配并说明可能的原因（如录入错误或标准号更新）。\n",
    "你每次都会接收到一对标准号和名称，需要对其进行验证。\n",
    "输出格式：\n",
    "以清晰的结构化形式输出结果，包含以下内容：\n",
    "标准号\n",
    "标准名称\n",
    "状态（有效/废止/待实施/无法判断）\n",
    "名称与标号是否匹配（是/否）\n",
    "原因（判断的依据和理由）\"\"\""
   ]
  },
  {
   "cell_type": "code",
   "execution_count": 55,
   "id": "96ba0e12",
   "metadata": {},
   "outputs": [],
   "source": [
    "from enum import Enum\n",
    "\n",
    "# 定义状态枚举\n",
    "class StatusEnum(str, Enum):\n",
    "    VALID = \"有效\"\n",
    "    INVALID = \"废止\"\n",
    "    PENDING = \"待实施\"\n",
    "    UNKNOWN=\"无法判断\"\n",
    "\n",
    "class StandardCheck(BaseModel):\n",
    "    name: str = Field(description=\"标准|法规名称\")\n",
    "    code: str = Field(description=\"标准|法规 编号|日期\")\n",
    "    status: StatusEnum = Field(description=\"状态，枚举值：有效、废止、待实施、无法判断\")\n",
    "    isMatch: bool = Field(description=\"标准号与名称是否匹配\")\n",
    "    reason: str = Field(description=\"原因\")"
   ]
  },
  {
   "cell_type": "code",
   "execution_count": 56,
   "id": "7f10fa05",
   "metadata": {},
   "outputs": [
    {
     "name": "stdout",
     "output_type": "stream",
     "text": [
      "Format Instructions:\n",
      " The output should be formatted as a JSON instance that conforms to the JSON schema below.\n",
      "\n",
      "As an example, for the schema {\"properties\": {\"foo\": {\"title\": \"Foo\", \"description\": \"a list of strings\", \"type\": \"array\", \"items\": {\"type\": \"string\"}}}, \"required\": [\"foo\"]}\n",
      "the object {\"foo\": [\"bar\", \"baz\"]} is a well-formatted instance of the schema. The object {\"properties\": {\"foo\": [\"bar\", \"baz\"]}} is not well-formatted.\n",
      "\n",
      "Here is the output schema:\n",
      "```\n",
      "{\"$defs\": {\"StatusEnum\": {\"enum\": [\"有效\", \"废止\", \"待实施\", \"无法判断\"], \"title\": \"StatusEnum\", \"type\": \"string\"}}, \"properties\": {\"name\": {\"description\": \"标准|法规名称\", \"title\": \"Name\", \"type\": \"string\"}, \"code\": {\"description\": \"标准|法规 编号|日期\", \"title\": \"Code\", \"type\": \"string\"}, \"status\": {\"$ref\": \"#/$defs/StatusEnum\", \"description\": \"状态，枚举值：有效、废止、待实施、无法判断\"}, \"isMatch\": {\"description\": \"标准号与名称是否匹配\", \"title\": \"Ismatch\", \"type\": \"boolean\"}, \"reason\": {\"description\": \"原因\", \"title\": \"Reason\", \"type\": \"string\"}}, \"required\": [\"name\", \"code\", \"status\", \"isMatch\", \"reason\"]}\n",
      "```\n"
     ]
    }
   ],
   "source": [
    "# 初始化 PydanticOutputParser\n",
    "parser = PydanticOutputParser(pydantic_object=StandardCheck)\n",
    "\n",
    "# 获取 JSON Schema 的格式化指令\n",
    "format_instructions = parser.get_format_instructions()\n",
    "print(\"Format Instructions:\\n\", format_instructions)"
   ]
  },
  {
   "cell_type": "code",
   "execution_count": 57,
   "id": "9fef445c",
   "metadata": {},
   "outputs": [],
   "source": [
    "# 定义 PromptTemplate\n",
    "prompt = PromptTemplate(\n",
    "    template=standard_check_prompt+\"\\n{format_instructions}\\n{query}\\n\",\n",
    "    input_variables=[\"query\"],\n",
    "    partial_variables={\"format_instructions\": format_instructions},\n",
    ")"
   ]
  },
  {
   "cell_type": "code",
   "execution_count": 58,
   "id": "69a6648f",
   "metadata": {},
   "outputs": [],
   "source": [
    "chain = prompt | llm | parser"
   ]
  },
  {
   "cell_type": "code",
   "execution_count": 67,
   "id": "663bd73e",
   "metadata": {},
   "outputs": [],
   "source": [
    "input_data='name:中华人民共和国环境保护法，code:2015年1月1日起施行'"
   ]
  },
  {
   "cell_type": "code",
   "execution_count": 68,
   "id": "2ba6345c",
   "metadata": {},
   "outputs": [
    {
     "name": "stdout",
     "output_type": "stream",
     "text": [
      "Structured Output:\n",
      " name='中华人民共和国环境保护法' code='2015年1月1日起施行' status=<StatusEnum.UNKNOWN: '无法判断'> isMatch=False reason='code字段未提供标准号（如GB/T 1234-2015），无法验证有效性；名称与标号不匹配可能因录入错误或字段用途混淆'\n"
     ]
    }
   ],
   "source": [
    "result = chain.invoke({\"query\": input_data})\n",
    "print(\"Structured Output:\\n\", result)"
   ]
  },
  {
   "cell_type": "code",
   "execution_count": null,
   "id": "07da7127",
   "metadata": {},
   "outputs": [],
   "source": []
  }
 ],
 "metadata": {
  "kernelspec": {
   "display_name": "Python 3",
   "language": "python",
   "name": "python3"
  },
  "language_info": {
   "codemirror_mode": {
    "name": "ipython",
    "version": 3
   },
   "file_extension": ".py",
   "mimetype": "text/x-python",
   "name": "python",
   "nbconvert_exporter": "python",
   "pygments_lexer": "ipython3",
   "version": "3.13.2"
  }
 },
 "nbformat": 4,
 "nbformat_minor": 5
}
