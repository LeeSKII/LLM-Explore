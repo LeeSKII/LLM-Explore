{
 "cells": [
  {
   "cell_type": "code",
   "execution_count": 71,
   "id": "f81b5da9",
   "metadata": {},
   "outputs": [],
   "source": [
    "from typing import Annotated\n",
    "\n",
    "from typing_extensions import TypedDict\n",
    "\n",
    "from langgraph.graph import StateGraph,START,END\n",
    "from langgraph.graph.message import add_messages\n",
    "from langchain_openai import ChatOpenAI\n",
    "import os\n",
    "from dotenv import load_dotenv\n",
    "load_dotenv()\n",
    "\n",
    "import json\n",
    "import httpx\n",
    "\n",
    "#------------------ settings ------------------\n",
    "api_key=os.getenv(\"DEEPSEEK_API_KEY\")\n",
    "base_url=os.getenv(\"DEEPSEEK_API_BASE_URL\")\n",
    "local_base_url = 'http://192.168.0.166:8000/v1'\n",
    "local_model_name = 'Qwen3-235B'\n",
    "model_name = 'deepseek-reasoner'\n",
    "\n",
    "local_settings = {\n",
    "  'api_key' : '123',\n",
    "  'base_url' : local_base_url,\n",
    "  'id' : local_model_name\n",
    "}\n",
    "\n",
    "online_settings = {\n",
    "  'api_key' : api_key,\n",
    "  'base_url' : base_url,\n",
    "  'id' : model_name\n",
    "}\n",
    "\n",
    "settings = local_settings\n",
    "#------------------ settings ------------------"
   ]
  },
  {
   "cell_type": "code",
   "execution_count": 4,
   "id": "beb1adea",
   "metadata": {},
   "outputs": [],
   "source": [
    "llm = ChatOpenAI(model=settings['id'],api_key=settings['api_key'],base_url=settings['base_url'],temperature=0.01)"
   ]
  },
  {
   "cell_type": "code",
   "execution_count": 45,
   "id": "80f464ec",
   "metadata": {},
   "outputs": [],
   "source": [
    "standard_prompt = \"\"\"# 提取标准名称和标准号的提示词\n",
    "\n",
    "## 任务描述\n",
    "你是一位专业的文档分析师，负责从用户提供的中文文章或文本中提取标准名称和标准号，并以给定的json schema格式输出。目标是准确识别所有提到的标准（包括国家标准、法规、行业标准等），提取其名称（不含引号）和编号（或发布/施行日期），并确保输出清晰、格式统一，适配structure_output模式。\n",
    "\n",
    "## 规则\n",
    "请按照以下步骤处理用户提供的中文文本，并生成结构化输出：\n",
    "\n",
    "1. **输入接收**：接收用户提供的中文文章或文本片段。\n",
    "2. **提取过程**：\n",
    "   - 扫描文本，识别所有提到的国家标准、行业标准、规范、法律或法规。\n",
    "   - 提取每个标准的名称（去除原文中的引号，如《》）和标准号（如 GB50406-2007）或发布/施行日期（如 2015年1月1日起施行）。\n",
    "   - 如果标准号和日期同时存在，优先提取标准号；如果仅有日期，则记录日期。\n",
    "   - 忽略非标准相关的文本，确保只提取明确的标准信息。\n",
    "3. **输出格式**：\n",
    "   - 单个标准Standard对象包含的字段如下：\n",
    "     - **标准名称**：标准的完整名称，不含引号（如 中华人民共和国环境保护法）。\n",
    "     - **标准号/日期**：标准编号（如 GB50406-2007）或发布/施行日期（如 2015年1月1日起施行）。如果没有编号，留空，示例:\"\"。\n",
    "   - 如果文本中没有标准信息，返回对象的standards字段为空列表[]\n",
    "   - 最终输出的StandardList包含了一个standards字段，数据类型为List[Standard]。\n",
    "   - 输出适配structure_output模式，确保表格格式清晰，字段规范。\n",
    "   - Finally output, provide a list of standards in JSON format, wrapped in a 'standards' field as specified in the schema.\n",
    "4. **约束**：\n",
    "   - 仅提取明确的标准化文件名称和编号/日期，排除非标准化的描述。\n",
    "   - 标准名称不含原文中的引号（如《》），直接提取核心名称。\n",
    "   - 如果标准号或日期格式不一致（如括号内日期或无括号），统一提取并记录原文格式。\n",
    "   - 所有输出均使用中文，表格格式清晰，易于阅读。\n",
    "   - 如果标准名称或编号不完整（如缺少编号），编号字段留空：\"\"。\n",
    "5. 仔细审查文档，严格禁止遗漏任何可能出现的标准信息。```\"\"\""
   ]
  },
  {
   "cell_type": "code",
   "execution_count": 5,
   "id": "4b7a8e68",
   "metadata": {},
   "outputs": [
    {
     "data": {
      "text/plain": [
       "AIMessage(content='\\n\\nHello! How can I assist you today?', additional_kwargs={'refusal': None}, response_metadata={'token_usage': {'completion_tokens': 95, 'prompt_tokens': 9, 'total_tokens': 104, 'completion_tokens_details': None, 'prompt_tokens_details': None}, 'model_name': 'Qwen3-235B', 'system_fingerprint': None, 'id': 'chatcmpl-e93a0d29b31441c4a97f3f380b48c79c', 'finish_reason': 'stop', 'logprobs': None}, id='run-ac0d3529-0677-497d-b124-f9c0542d1a89-0', usage_metadata={'input_tokens': 9, 'output_tokens': 95, 'total_tokens': 104, 'input_token_details': {}, 'output_token_details': {}})"
      ]
     },
     "execution_count": 5,
     "metadata": {},
     "output_type": "execute_result"
    }
   ],
   "source": [
    "llm.invoke('hi')"
   ]
  },
  {
   "cell_type": "code",
   "execution_count": 46,
   "id": "abd58fa9",
   "metadata": {},
   "outputs": [
    {
     "name": "stdout",
     "output_type": "stream",
     "text": [
      "{'properties': {'name': {'description': '标准|法规名称', 'title': 'Name', 'type': 'string'}, 'code': {'description': '标准|法规 编号|日期', 'title': 'Code', 'type': 'string'}}, 'required': ['name', 'code'], 'title': 'Standard', 'type': 'object'}\n"
     ]
    }
   ],
   "source": [
    "from pydantic import BaseModel, Field\n",
    "from typing import List\n",
    "\n",
    "# 定义 Pydantic 模型\n",
    "class Standard(BaseModel):\n",
    "    name: str = Field(description=\"标准|法规名称\")\n",
    "    code: str = Field(description=\"标准|法规 编号|日期\")\n",
    "\n",
    "# 定义包含 Standard 列表的 Pydantic 模型\n",
    "class StandardList(BaseModel):\n",
    "    standards: List[Standard] = Field(description=\"List of standards\")\n",
    "\n",
    "# 提取 JSON Schema\n",
    "schema = Standard.model_json_schema()\n",
    "print(schema)"
   ]
  },
  {
   "cell_type": "code",
   "execution_count": null,
   "id": "90ea9ddd",
   "metadata": {},
   "outputs": [
    {
     "name": "stdout",
     "output_type": "stream",
     "text": [
      "Format Instructions:\n",
      " The output should be formatted as a JSON instance that conforms to the JSON schema below.\n",
      "\n",
      "As an example, for the schema {\"properties\": {\"foo\": {\"title\": \"Foo\", \"description\": \"a list of strings\", \"type\": \"array\", \"items\": {\"type\": \"string\"}}}, \"required\": [\"foo\"]}\n",
      "the object {\"foo\": [\"bar\", \"baz\"]} is a well-formatted instance of the schema. The object {\"properties\": {\"foo\": [\"bar\", \"baz\"]}} is not well-formatted.\n",
      "\n",
      "Here is the output schema:\n",
      "```\n",
      "{\"$defs\": {\"Standard\": {\"properties\": {\"name\": {\"description\": \"标准|法规名称\", \"title\": \"Name\", \"type\": \"string\"}, \"code\": {\"description\": \"标准|法规 编号|日期\", \"title\": \"Code\", \"type\": \"string\"}}, \"required\": [\"name\", \"code\"], \"title\": \"Standard\", \"type\": \"object\"}}, \"properties\": {\"standards\": {\"description\": \"List of standards\", \"items\": {\"$ref\": \"#/$defs/Standard\"}, \"title\": \"Standards\", \"type\": \"array\"}}, \"required\": [\"standards\"]}\n",
      "```\n"
     ]
    }
   ],
   "source": [
    "from langchain.output_parsers import PydanticOutputParser\n",
    "from langchain.prompts import PromptTemplate\n",
    "\n",
    "# 初始化 PydanticOutputParser\n",
    "parser = PydanticOutputParser(pydantic_object=StandardList)\n",
    "\n",
    "# 获取 JSON Schema 的格式化指令\n",
    "format_instructions = parser.get_format_instructions()\n",
    "print(\"Format Instructions:\\n\", format_instructions)"
   ]
  },
  {
   "cell_type": "code",
   "execution_count": 48,
   "id": "7bf984ba",
   "metadata": {},
   "outputs": [],
   "source": [
    "# 定义 PromptTemplate\n",
    "prompt = PromptTemplate(\n",
    "    template=standard_prompt+\"\\n{format_instructions}\\n{query}\\n\",\n",
    "    input_variables=[\"query\"],\n",
    "    partial_variables={\"format_instructions\": format_instructions},\n",
    ")"
   ]
  },
  {
   "cell_type": "code",
   "execution_count": 49,
   "id": "ff78530d",
   "metadata": {},
   "outputs": [],
   "source": [
    "chain = prompt | llm | parser"
   ]
  },
  {
   "cell_type": "code",
   "execution_count": 50,
   "id": "f89e267d",
   "metadata": {},
   "outputs": [
    {
     "name": "stderr",
     "output_type": "stream",
     "text": [
      "<>:1: SyntaxWarning: invalid escape sequence '\\T'\n",
      "<>:1: SyntaxWarning: invalid escape sequence '\\T'\n",
      "C:\\Users\\11798\\AppData\\Local\\Temp\\ipykernel_41260\\2781049100.py:1: SyntaxWarning: invalid escape sequence '\\T'\n",
      "  input_data='''设计原则\n"
     ]
    }
   ],
   "source": [
    "input_data='''设计原则\n",
    "烟气净化系统采取全烟气净化，不设计烟气旁路系统，以“先进技术、配置合理、造价及运行费用经济、装置实用性强”为原则，采用成熟可靠的技术装备和控制系统。整个系统的设计基本原则为：\n",
    "1）以最新环保标准为准绳，面向未来，采用最佳解决方案；使烟气中的SO2，NOx，二噁英、粉尘等排放限值要优于环保部发布的“关于发布《钢铁烧结、球团工业大气污染物排放标准》等20项国家污染物排放标准修改单的公告（征求意见稿）”中烧结新标准要求，达到超净排放要求。\n",
    "2）烟气净化工艺遵循技术成熟、设备先进运行稳定、操作维护方便、自动化程度较高、无二次污染原则；\n",
    "3）在工艺合理、安全可靠、流程顺畅的前提下，降低运行费用，节省投资、方便施工；\n",
    "4）装置能快速投入运行，适应风量及SO2、NOX负荷波动能力强；\n",
    "5）烟气净化装置尽可能按现有设备状况及场地条件进行布置，力求工艺流程和设施布置合理、操作安全、简便，尽量减小项目实施时对现有单元生产的影响；\n",
    "6）严格执行国家、地方及企业的有关环保、安全卫生、节能、工程设计统一技术规定等有关标准、规范。\n",
    "7）执行的设计规范：\n",
    "《中华人民共和国环境保护法》（2015年1月1日起施行）\n",
    "《建设项目环境保护管理条例》（1998年11月29日发布施行）\n",
    "《钢铁工业环境保护设计规范》（GB50406-2007）\n",
    "《钢铁烧结、球团工业大气污染物排放标准》（GB28662-2012）\n",
    "《建筑地基基础设计规范》（GB50007-2011）\n",
    "《建筑结构荷载规范》 \n",
    "《混凝土结构设计规范》\n",
    "《钢结构设计规范》（GB50017-2003）\n",
    "《砌体结构设计规范》（GB50003-2011）。\n",
    "《建筑抗震设计规范》（GB50011-2010）。\n",
    "《建筑工程抗震设防分类标准》（GB50223－2008）。\n",
    "《动力机器基础设计规范》（GB50040-96）。\n",
    "《烟囱设计规范》（GB50051-2013）。\n",
    "《建筑桩基技术规范》（\n",
    "《岩土工程勘察规范》GB 50021-2001 （2009年版）。\n",
    "《通用用电设备配电设计规范》   GB50055-2011\n",
    "《建筑物防雷设计规范》    \n",
    "《建筑设计防火规范》       GB50016-2014 \n",
    "《3～110KV高压配电装置设计规范》   GB50060-2008\n",
    "《供配电系统设计规范》     GB50052-2009\n",
    "《低压配电设计规范》       GB50054-2011\n",
    "《20kV及以下变电所设计规程》GB50053-2013\n",
    "《电力装置的继电保护和自动装置设计规范》  GB\\T50062-2008\n",
    "《工业企业噪声控制设计规范》(GB/T 50087-2013)\n",
    "《工业企业总平面设计规范》\n",
    "《工业企业设计卫生标准》（GBZ1-2010）\n",
    "《工业企业煤气安全规程》 (GB6222-2005)\n",
    "《起重机械安全规程》（GB6067.1-2010）\n",
    "《工作场所有害因素职业接触限值第一部分：化学有害因素》（GBZ2.1-2007）\n",
    "《工作场所有害因素职业接触限值第二部分：物理因素》（GBZ2.2-2007）\n",
    "《建筑采光设计标准》(GB50033-2013）\n",
    "《建筑照明设计标准》(GB50034-2013）\n",
    "执行以及国家现行的其它规范、规程、规定。'''"
   ]
  },
  {
   "cell_type": "code",
   "execution_count": 51,
   "id": "c133db8b",
   "metadata": {},
   "outputs": [
    {
     "name": "stdout",
     "output_type": "stream",
     "text": [
      "Structured Output:\n",
      " standards=[Standard(name='中华人民共和国环境保护法', code='2015年1月1日起施行'), Standard(name='建设项目环境保护管理条例', code='1998年11月29日发布施行'), Standard(name='钢铁工业环境保护设计规范', code='GB50406-2007'), Standard(name='钢铁烧结、球团工业大气污染物排放标准', code='GB28662-2012'), Standard(name='建筑地基基础设计规范', code='GB50007-2011'), Standard(name='建筑结构荷载规范', code=''), Standard(name='混凝土结构设计规范', code=''), Standard(name='钢结构设计规范', code='GB50017-2003'), Standard(name='砌体结构设计规范', code='GB50003-2011'), Standard(name='建筑抗震设计规范', code='GB50011-2010'), Standard(name='建筑工程抗震设防分类标准', code='GB50223－2008'), Standard(name='动力机器基础设计规范', code='GB50040-96'), Standard(name='烟囱设计规范', code='GB50051-2013'), Standard(name='建筑桩基技术规范', code=''), Standard(name='岩土工程勘察规范', code='GB 50021-2001 （2009年版）'), Standard(name='通用用电设备配电设计规范', code='GB50055-2011'), Standard(name='建筑物防雷设计规范', code=''), Standard(name='建筑设计防火规范', code='GB50016-2014'), Standard(name='3～110KV高压配电装置设计规范', code='GB50060-2008'), Standard(name='供配电系统设计规范', code='GB50052-2009'), Standard(name='低压配电设计规范', code='GB50054-2011'), Standard(name='20kV及以下变电所设计规程', code='GB50053-2013'), Standard(name='电力装置的继电保护和自动装置设计规范', code='GB\\\\T50062-2008'), Standard(name='工业企业噪声控制设计规范', code='GB/T 50087-2013'), Standard(name='工业企业总平面设计规范', code=''), Standard(name='工业企业设计卫生标准', code='GBZ1-2010'), Standard(name='工业企业煤气安全规程', code='GB6222-2005'), Standard(name='起重机械安全规程', code='GB6067.1-2010'), Standard(name='工作场所有害因素职业接触限值第一部分：化学有害因素', code='GBZ2.1-2007'), Standard(name='工作场所有害因素职业接触限值第二部分：物理因素', code='GBZ2.2-2007'), Standard(name='建筑采光设计标准', code='GB50033-2013'), Standard(name='建筑照明设计标准', code='GB50034-2013')]\n"
     ]
    }
   ],
   "source": [
    "result = chain.invoke({\"query\": input_data})\n",
    "print(\"Structured Output:\\n\", result)"
   ]
  },
  {
   "cell_type": "code",
   "execution_count": 52,
   "id": "7977a75e",
   "metadata": {},
   "outputs": [
    {
     "data": {
      "text/plain": [
       "[Standard(name='中华人民共和国环境保护法', code='2015年1月1日起施行'),\n",
       " Standard(name='建设项目环境保护管理条例', code='1998年11月29日发布施行'),\n",
       " Standard(name='钢铁工业环境保护设计规范', code='GB50406-2007'),\n",
       " Standard(name='钢铁烧结、球团工业大气污染物排放标准', code='GB28662-2012'),\n",
       " Standard(name='建筑地基基础设计规范', code='GB50007-2011'),\n",
       " Standard(name='建筑结构荷载规范', code=''),\n",
       " Standard(name='混凝土结构设计规范', code=''),\n",
       " Standard(name='钢结构设计规范', code='GB50017-2003'),\n",
       " Standard(name='砌体结构设计规范', code='GB50003-2011'),\n",
       " Standard(name='建筑抗震设计规范', code='GB50011-2010'),\n",
       " Standard(name='建筑工程抗震设防分类标准', code='GB50223－2008'),\n",
       " Standard(name='动力机器基础设计规范', code='GB50040-96'),\n",
       " Standard(name='烟囱设计规范', code='GB50051-2013'),\n",
       " Standard(name='建筑桩基技术规范', code=''),\n",
       " Standard(name='岩土工程勘察规范', code='GB 50021-2001 （2009年版）'),\n",
       " Standard(name='通用用电设备配电设计规范', code='GB50055-2011'),\n",
       " Standard(name='建筑物防雷设计规范', code=''),\n",
       " Standard(name='建筑设计防火规范', code='GB50016-2014'),\n",
       " Standard(name='3～110KV高压配电装置设计规范', code='GB50060-2008'),\n",
       " Standard(name='供配电系统设计规范', code='GB50052-2009'),\n",
       " Standard(name='低压配电设计规范', code='GB50054-2011'),\n",
       " Standard(name='20kV及以下变电所设计规程', code='GB50053-2013'),\n",
       " Standard(name='电力装置的继电保护和自动装置设计规范', code='GB\\\\T50062-2008'),\n",
       " Standard(name='工业企业噪声控制设计规范', code='GB/T 50087-2013'),\n",
       " Standard(name='工业企业总平面设计规范', code=''),\n",
       " Standard(name='工业企业设计卫生标准', code='GBZ1-2010'),\n",
       " Standard(name='工业企业煤气安全规程', code='GB6222-2005'),\n",
       " Standard(name='起重机械安全规程', code='GB6067.1-2010'),\n",
       " Standard(name='工作场所有害因素职业接触限值第一部分：化学有害因素', code='GBZ2.1-2007'),\n",
       " Standard(name='工作场所有害因素职业接触限值第二部分：物理因素', code='GBZ2.2-2007'),\n",
       " Standard(name='建筑采光设计标准', code='GB50033-2013'),\n",
       " Standard(name='建筑照明设计标准', code='GB50034-2013')]"
      ]
     },
     "execution_count": 52,
     "metadata": {},
     "output_type": "execute_result"
    }
   ],
   "source": [
    "result.standards"
   ]
  },
  {
   "cell_type": "code",
   "execution_count": 54,
   "id": "358a786a",
   "metadata": {},
   "outputs": [],
   "source": [
    "standard_check_prompt = \"\"\"你是一个专业的标准检测分析助手，任务是识别提供的国家标准（GB）和行业标准（如JB、QB等）是否过期以及有效，根据提供的标准号、标准名称，并验证标准名称与标准号是否匹配。以下是具体要求：\n",
    "输入内容：接收包含标准号（如GB 12345-2018、JB/T 7890-2015等）、标准名称以及可能的发布日期文本。\n",
    "识别过期标准：\n",
    "检查标准号，结合你所知道的标准状态或有效性信息，判断标准是否过期。\n",
    "识别标准号和名称：\n",
    "识别标准号（如GB 12345-2018、JB/T 7890-2015）。\n",
    "识别标准名称（如《家用电器安全标准》、《机械设备技术规范》）。\n",
    "确保标准号与名称一一对应，避免混淆。\n",
    "验证名称与标号匹配：\n",
    "检查标准号与标准名称是否逻辑一致（例如，GB 12345-2018是否对应《家用电器安全标准》）。\n",
    "如果发现标准号与名称不匹配（如GB 12345-2018对应《食品卫生标准》），标记为不匹配并说明可能的原因（如录入错误或标准号更新）。\n",
    "你每次都会接收到一对标准号和名称，需要对其进行验证。\n",
    "输出格式：\n",
    "以清晰的结构化形式输出结果，包含以下内容：\n",
    "标准号\n",
    "标准名称\n",
    "状态（有效/废止/待实施/无法判断）\n",
    "名称与标号是否匹配（是/否）\n",
    "原因（判断的依据和理由）\"\"\""
   ]
  },
  {
   "cell_type": "code",
   "execution_count": 55,
   "id": "96ba0e12",
   "metadata": {},
   "outputs": [],
   "source": [
    "from enum import Enum\n",
    "\n",
    "# 定义状态枚举\n",
    "class StatusEnum(str, Enum):\n",
    "    VALID = \"有效\"\n",
    "    INVALID = \"废止\"\n",
    "    PENDING = \"待实施\"\n",
    "    UNKNOWN=\"无法判断\"\n",
    "\n",
    "class StandardCheck(BaseModel):\n",
    "    name: str = Field(description=\"标准|法规名称\")\n",
    "    code: str = Field(description=\"标准|法规 编号|日期\")\n",
    "    status: StatusEnum = Field(description=\"状态，枚举值：有效、废止、待实施、无法判断\")\n",
    "    isMatch: bool = Field(description=\"标准号与名称是否匹配\")\n",
    "    reason: str = Field(description=\"原因\")"
   ]
  },
  {
   "cell_type": "code",
   "execution_count": 56,
   "id": "7f10fa05",
   "metadata": {},
   "outputs": [
    {
     "name": "stdout",
     "output_type": "stream",
     "text": [
      "Format Instructions:\n",
      " The output should be formatted as a JSON instance that conforms to the JSON schema below.\n",
      "\n",
      "As an example, for the schema {\"properties\": {\"foo\": {\"title\": \"Foo\", \"description\": \"a list of strings\", \"type\": \"array\", \"items\": {\"type\": \"string\"}}}, \"required\": [\"foo\"]}\n",
      "the object {\"foo\": [\"bar\", \"baz\"]} is a well-formatted instance of the schema. The object {\"properties\": {\"foo\": [\"bar\", \"baz\"]}} is not well-formatted.\n",
      "\n",
      "Here is the output schema:\n",
      "```\n",
      "{\"$defs\": {\"StatusEnum\": {\"enum\": [\"有效\", \"废止\", \"待实施\", \"无法判断\"], \"title\": \"StatusEnum\", \"type\": \"string\"}}, \"properties\": {\"name\": {\"description\": \"标准|法规名称\", \"title\": \"Name\", \"type\": \"string\"}, \"code\": {\"description\": \"标准|法规 编号|日期\", \"title\": \"Code\", \"type\": \"string\"}, \"status\": {\"$ref\": \"#/$defs/StatusEnum\", \"description\": \"状态，枚举值：有效、废止、待实施、无法判断\"}, \"isMatch\": {\"description\": \"标准号与名称是否匹配\", \"title\": \"Ismatch\", \"type\": \"boolean\"}, \"reason\": {\"description\": \"原因\", \"title\": \"Reason\", \"type\": \"string\"}}, \"required\": [\"name\", \"code\", \"status\", \"isMatch\", \"reason\"]}\n",
      "```\n"
     ]
    }
   ],
   "source": [
    "# 初始化 PydanticOutputParser\n",
    "parser = PydanticOutputParser(pydantic_object=StandardCheck)\n",
    "\n",
    "# 获取 JSON Schema 的格式化指令\n",
    "format_instructions = parser.get_format_instructions()\n",
    "print(\"Format Instructions:\\n\", format_instructions)"
   ]
  },
  {
   "cell_type": "code",
   "execution_count": 57,
   "id": "9fef445c",
   "metadata": {},
   "outputs": [],
   "source": [
    "# 定义 PromptTemplate\n",
    "prompt = PromptTemplate(\n",
    "    template=standard_check_prompt+\"\\n{format_instructions}\\n{query}\\n\",\n",
    "    input_variables=[\"query\"],\n",
    "    partial_variables={\"format_instructions\": format_instructions},\n",
    ")"
   ]
  },
  {
   "cell_type": "code",
   "execution_count": 58,
   "id": "69a6648f",
   "metadata": {},
   "outputs": [],
   "source": [
    "chain = prompt | llm | parser"
   ]
  },
  {
   "cell_type": "code",
   "execution_count": 67,
   "id": "663bd73e",
   "metadata": {},
   "outputs": [],
   "source": [
    "input_data='name:中华人民共和国环境保护法，code:2015年1月1日起施行'"
   ]
  },
  {
   "cell_type": "code",
   "execution_count": 68,
   "id": "2ba6345c",
   "metadata": {},
   "outputs": [
    {
     "name": "stdout",
     "output_type": "stream",
     "text": [
      "Structured Output:\n",
      " name='中华人民共和国环境保护法' code='2015年1月1日起施行' status=<StatusEnum.UNKNOWN: '无法判断'> isMatch=False reason='code字段未提供标准号（如GB/T 1234-2015），无法验证有效性；名称与标号不匹配可能因录入错误或字段用途混淆'\n"
     ]
    }
   ],
   "source": [
    "result = chain.invoke({\"query\": input_data})\n",
    "print(\"Structured Output:\\n\", result)"
   ]
  },
  {
   "cell_type": "markdown",
   "id": "a4458a9d",
   "metadata": {},
   "source": [
    "### langgraph strandard check"
   ]
  },
  {
   "cell_type": "code",
   "execution_count": 84,
   "id": "07da7127",
   "metadata": {},
   "outputs": [],
   "source": [
    "import asyncio\n",
    "from langchain_openai import ChatOpenAI\n",
    "from langchain_core.prompts import PromptTemplate\n",
    "from langchain.output_parsers import PydanticOutputParser\n",
    "from pydantic import BaseModel, Field\n",
    "from typing import List\n",
    "from enum import Enum\n",
    "from langgraph.graph import StateGraph, END\n",
    "from typing import TypedDict, List\n",
    "\n",
    "# Initialize the LLM\n",
    "llm = ChatOpenAI(\n",
    "    model=settings[\"id\"],\n",
    "    api_key=settings[\"api_key\"],\n",
    "    base_url=settings[\"base_url\"],\n",
    "    temperature=0.01\n",
    ")\n",
    "\n",
    "# Define Pydantic Models\n",
    "class Standard(BaseModel):\n",
    "    name: str = Field(description=\"标准|法规名称\")\n",
    "    code: str = Field(description=\"标准|法规 编号|日期\")\n",
    "\n",
    "class StandardList(BaseModel):\n",
    "    standards: List[Standard] = Field(description=\"List of standards\")\n",
    "\n",
    "class StatusEnum(str, Enum):\n",
    "    VALID = \"有效\"\n",
    "    INVALID = \"废止\"\n",
    "    PENDING = \"待实施\"\n",
    "    UNKNOWN = \"无法判断\"\n",
    "\n",
    "class StandardCheck(BaseModel):\n",
    "    name: str = Field(description=\"标准|法规名称\")\n",
    "    code: str = Field(description=\"标准|法规 编号|日期\")\n",
    "    status: StatusEnum = Field(description=\"状态，枚举值：有效、废止、待实施、无法判断\")\n",
    "    isMatch: bool = Field(description=\"标准号与名称是否匹配\")\n",
    "    reason: str = Field(description=\"原因\")\n",
    "\n",
    "# Define the Graph State\n",
    "class GraphState(TypedDict):\n",
    "    input_text: str\n",
    "    extracted_standards: StandardList\n",
    "    check_results: List[StandardCheck]\n",
    "\n",
    "# Define Prompts\n",
    "standard_prompt = \"\"\"no_think,# 提取标准名称和标准号的提示词\n",
    "\n",
    "## 任务描述\n",
    "你是一位专业的文档分析师，负责从用户提供的中文文章或文本中提取标准名称和标准号，并以给定的json schema格式输出。目标是准确识别所有提到的标准（包括国家标准、法规、行业标准等），提取其名称（不含引号）和编号（或发布/施行日期），并确保输出清晰、格式统一，适配structure_output模式。\n",
    "\n",
    "## 规则\n",
    "请按照以下步骤处理用户提供的中文文本，并生成结构化输出：\n",
    "\n",
    "1. **输入接收**：接收用户提供的中文文章或文本片段。\n",
    "2. **提取过程**：\n",
    "   - 扫描文本，识别所有提到的国家标准、行业标准、规范、法律或法规。\n",
    "   - 提取每个标准的名称（去除原文中的引号，如《》）和标准号（如 GB50406-2007）或发布/施行日期（如 2015年1月1日起施行）。\n",
    "   - 如果标准号和日期同时存在，优先提取标准号；如果仅有日期，则记录日期。\n",
    "   - 忽略非标准相关的文本，确保只提取明确的标准信息。\n",
    "3. **输出格式**：\n",
    "   - 单个标准Standard对象包含的字段如下：\n",
    "     - **标准名称**：标准的完整名称，不含引号（如 中华人民共和国环境保护法）。\n",
    "     - **标准号/日期**：标准编号（如 GB50406-2007）或发布/施行日期（如 2015年1月1日起施行）。如果没有编号，留空，示例:\"\"。\n",
    "   - 如果文本中没有标准信息，返回对象的standards字段为空列表[]\n",
    "   - 最终输出的StandardList包含了一个standards字段，数据类型为List[Standard]。\n",
    "   - 输出适配structure_output模式，确保表格格式清晰，字段规范。\n",
    "   - Finally output, provide a list of standards in JSON format, wrapped in a 'standards' field as specified in the schema.\n",
    "4. **约束**：\n",
    "   - 仅提取明确的标准化文件名称和编号/日期，排除非标准化的描述。\n",
    "   - 标准名称不含原文中的引号（如《》），直接提取核心名称。\n",
    "   - 如果标准号或日期格式不一致（如括号内日期或无括号），统一提取并记录原文格式。\n",
    "   - 所有输出均使用中文，表格格式清晰，易于阅读。\n",
    "   - 如果标准名称或编号不完整（如缺少编号），编号字段留空：\"\"。\n",
    "5. 仔细审查文档，严格禁止遗漏任何可能出现的标准信息。\n",
    "{format_instructions}\n",
    "{query}\n",
    "\"\"\"\n",
    "\n",
    "standard_check_prompt = \"\"\"no_think,你是一个专业的标准检测分析助手，任务是识别提供的国家标准（GB）和行业标准（如JB、QB等）是否过期以及有效，根据提供的标准号、标准名称，并验证标准名称与标准号是否匹配。以下是具体要求：\n",
    "输入内容：接收包含标准号（如GB 12345-2018、JB/T 7890-2015等）、标准名称以及可能的发布日期文本。\n",
    "识别过期标准：\n",
    "检查标准号，结合你所知道的标准状态或有效性信息，判断标准是否过期。\n",
    "识别标准号和名称：\n",
    "识别标准号（如GB 12345-2018、JB/T 7890-2015）。\n",
    "识别标准名称（如《家用电器安全标准》、《机械设备技术规范》）。\n",
    "确保标准号与名称一一对应，避免混淆。\n",
    "验证名称与标号匹配：\n",
    "检查标准号与标准名称是否逻辑一致（例如，GB 12345-2018是否对应《家用电器安全标准》）。\n",
    "如果发现标准号与名称不匹配（如GB 12345-2018对应《食品卫生标准》），标记为不匹配并说明可能的原因（如录入错误或标准号更新）。\n",
    "你每次都会接收到一对标准号和名称，需要对其进行验证。\n",
    "输出格式：\n",
    "以清晰的结构化形式输出结果，包含以下内容：\n",
    "标准号\n",
    "标准名称\n",
    "状态（有效/废止/待实施/无法判断）\n",
    "名称与标号是否匹配（是/否）\n",
    "原因（判断的依据和理由）\n",
    "{format_instructions}\n",
    "{query}\n",
    "\"\"\"\n",
    "\n",
    "# Initialize Parsers\n",
    "extract_parser = PydanticOutputParser(pydantic_object=StandardList)\n",
    "check_parser = PydanticOutputParser(pydantic_object=StandardCheck)\n",
    "\n",
    "# Define PromptTemplates\n",
    "extract_prompt = PromptTemplate(\n",
    "    template=standard_prompt,\n",
    "    input_variables=[\"query\"],\n",
    "    partial_variables={\"format_instructions\": extract_parser.get_format_instructions()},\n",
    ")\n",
    "\n",
    "check_prompt = PromptTemplate(\n",
    "    template=standard_check_prompt,\n",
    "    input_variables=[\"query\"],\n",
    "    partial_variables={\"format_instructions\": check_parser.get_format_instructions()},\n",
    ")\n",
    "\n",
    "# Define Async Node Functions\n",
    "async def extract_standards(state: GraphState) -> GraphState:\n",
    "    \"\"\"Extract standards from input text asynchronously.\"\"\"\n",
    "    input_text = state[\"input_text\"]\n",
    "    chain = extract_prompt | llm | extract_parser\n",
    "    result = await chain.ainvoke({\"query\": input_text})\n",
    "    return {\"extracted_standards\": result, \"check_results\": state.get(\"check_results\", [])}\n",
    "\n",
    "async def check_single_standard(standard, chain, semaphore):\n",
    "    \"\"\"Check a single standard with semaphore to limit concurrency.\"\"\"\n",
    "    async with semaphore:\n",
    "        query = f\"name:{standard.name},code:{standard.code}\"\n",
    "        result = await chain.ainvoke({\"query\": query})\n",
    "        return result\n",
    "\n",
    "async def check_standards_async(standards, chain):\n",
    "    \"\"\"Process standards concurrently with a maximum concurrency of 5.\"\"\"\n",
    "    semaphore = asyncio.Semaphore(5)  # Limit to 5 concurrent tasks\n",
    "    tasks = [\n",
    "        check_single_standard(standard, chain, semaphore)\n",
    "        for standard in standards\n",
    "    ]\n",
    "    results = await asyncio.gather(*tasks, return_exceptions=True)\n",
    "    return [result for result in results if not isinstance(result, Exception)]\n",
    "\n",
    "async def check_standards(state: GraphState) -> GraphState:\n",
    "    \"\"\"Check each extracted standard for validity and matching with max concurrency of 5.\"\"\"\n",
    "    standards = state[\"extracted_standards\"].standards\n",
    "    chain = check_prompt | llm | check_parser\n",
    "    check_results = await check_standards_async(standards, chain)\n",
    "    return {\"check_results\": check_results}\n",
    "\n",
    "# Define the Workflow\n",
    "workflow = StateGraph(GraphState)\n",
    "\n",
    "# Add async nodes\n",
    "workflow.add_node(\"extract_standards\", extract_standards)\n",
    "workflow.add_node(\"check_standards\", check_standards)\n",
    "\n",
    "# Define edges\n",
    "workflow.add_edge(\"extract_standards\", \"check_standards\")\n",
    "workflow.add_edge(\"check_standards\", END)\n",
    "\n",
    "# Set entry point\n",
    "workflow.set_entry_point(\"extract_standards\")\n",
    "\n",
    "# Compile the graph for async execution\n",
    "graph = workflow.compile()\n",
    "\n",
    "# Example Input\n",
    "input_data = '''8.1.1 工程概况\n",
    "工程为陕西龙门钢铁有限责任公司265㎡烧结烟气综合治理提升改造工程。建筑工程子项共9个，依次为：废水处理车间，循环水站，脱硫电气楼，制酸变电所、活性炭卸料系统、制酸系统、供氨系统、环境除尘系统及活性炭粉气力输送系统、CEMS分析小屋。\n",
    "8.1.2 设计要求\n",
    "本工程生产火灾危险性分类按照相关规范确定。本工程建筑物耐火等级按照相关规范确定。在建筑设计中，采用符合国家规范的安全、统一、适用地区特点的建筑形式及节点构造，设计优先采用国家标准图集。\n",
    "8.1.3 平面及柱网位置\n",
    "在满足工艺主体布置及要求的前提下，尽可能做到采光良好，自然通风，合理布置柱网，尽量柱距统一。\n",
    "8.1.4 设计标高\n",
    "建筑物所注标高均为建筑面层完成后标高，相对标高±0.000相当于绝对标高见总图设计。建筑室内外高差暂定为300mm。\n",
    "所有建（构）筑物均遵循<<建筑模数协调标准>>（GB/T 50002-2013）及<<厂房建筑模数协调标准>>（GB/T 50006-2010）进行设计。\n",
    "8.1.5 围护结构\n",
    "韩城地区属典型的温带大陆性季风气候，年平均气温13.7℃，冬季平均气温-2.0℃，夏季平均气温26.9℃。考虑本工程地处非严寒地带，各建筑物在满足工艺及使用要求的前提下，活性炭卸料系统采用彩色压型钢板围护，脱硫电气楼、制酸变电所、循环水站、废水处理车间、分析小屋围护结构外墙采用370mm厚烧结多孔砖，内墙采用240mm厚烧结多孔砖全封闭。制氨系统设1米围堰，其余操作平台全敞开，用钢栏杆围护。\n",
    "本工程各车间一般均为钢筋混凝土框架结构和钢框架结构。制氨系统、制酸系'''\n",
    "\n",
    "result = await graph.ainvoke({\"input_text\": input_data})"
   ]
  },
  {
   "cell_type": "code",
   "execution_count": 85,
   "id": "3b2f8c20",
   "metadata": {},
   "outputs": [
    {
     "data": {
      "text/plain": [
       "{'input_text': '8.1.1 工程概况\\n工程为陕西龙门钢铁有限责任公司265㎡烧结烟气综合治理提升改造工程。建筑工程子项共9个，依次为：废水处理车间，循环水站，脱硫电气楼，制酸变电所、活性炭卸料系统、制酸系统、供氨系统、环境除尘系统及活性炭粉气力输送系统、CEMS分析小屋。\\n8.1.2 设计要求\\n本工程生产火灾危险性分类按照相关规范确定。本工程建筑物耐火等级按照相关规范确定。在建筑设计中，采用符合国家规范的安全、统一、适用地区特点的建筑形式及节点构造，设计优先采用国家标准图集。\\n8.1.3 平面及柱网位置\\n在满足工艺主体布置及要求的前提下，尽可能做到采光良好，自然通风，合理布置柱网，尽量柱距统一。\\n8.1.4 设计标高\\n建筑物所注标高均为建筑面层完成后标高，相对标高±0.000相当于绝对标高见总图设计。建筑室内外高差暂定为300mm。\\n所有建（构）筑物均遵循<<建筑模数协调标准>>（GB/T 50002-2013）及<<厂房建筑模数协调标准>>（GB/T 50006-2010）进行设计。\\n8.1.5 围护结构\\n韩城地区属典型的温带大陆性季风气候，年平均气温13.7℃，冬季平均气温-2.0℃，夏季平均气温26.9℃。考虑本工程地处非严寒地带，各建筑物在满足工艺及使用要求的前提下，活性炭卸料系统采用彩色压型钢板围护，脱硫电气楼、制酸变电所、循环水站、废水处理车间、分析小屋围护结构外墙采用370mm厚烧结多孔砖，内墙采用240mm厚烧结多孔砖全封闭。制氨系统设1米围堰，其余操作平台全敞开，用钢栏杆围护。\\n本工程各车间一般均为钢筋混凝土框架结构和钢框架结构。制氨系统、制酸系',\n",
       " 'extracted_standards': StandardList(standards=[Standard(name='建筑模数协调标准', code='GB/T 50002-2013'), Standard(name='厂房建筑模数协调标准', code='GB/T 50006-2010')]),\n",
       " 'check_results': [StandardCheck(name='建筑模数协调标准', code='GB/T 50002-2013', status=<StatusEnum.VALID: '有效'>, isMatch=True, reason='标准号GB/T 50002-2013对应的标准名称为《建筑模数协调标准》，且该标准目前处于有效状态，未被废止或替代。')]}"
      ]
     },
     "execution_count": 85,
     "metadata": {},
     "output_type": "execute_result"
    }
   ],
   "source": [
    "result"
   ]
  },
  {
   "cell_type": "code",
   "execution_count": 101,
   "id": "a288f08c",
   "metadata": {},
   "outputs": [],
   "source": [
    "from tavily import TavilyClient\n",
    "tavily_api_key = os.getenv('TAVILY_API_KEY')\n",
    "tavily_client = TavilyClient(api_key=tavily_api_key)\n",
    "search_input=\"GB50051-2013国标规范当前是否有效\"\n",
    "response = tavily_client.search(search_input,search_depth='advanced',include_answer=True)"
   ]
  },
  {
   "cell_type": "code",
   "execution_count": 102,
   "id": "da6ac68c",
   "metadata": {},
   "outputs": [
    {
     "data": {
      "text/plain": [
       "{'query': 'GB50051-2013国标规范当前是否有效',\n",
       " 'follow_up_questions': None,\n",
       " 'answer': 'GB50051-2013 is no longer valid since 2021-10-01. Current standards include GB50051-2021. Always check the latest version for compliance.',\n",
       " 'images': [],\n",
       " 'results': [{'url': 'https://www.98tuji.com/2137.html',\n",
       "   'title': 'GB50051-2013：烟囱设计规范 - 国标图集',\n",
       "   'content': '编号GB50051-... · 资源类型国家标准 · 发布日期2012-12-25 · 实施日期2013-05-01 · 废止日期2021-10-01 · 入库日期2014-06-27 · 最近更新2024年03月02日.',\n",
       "   'score': 0.71687365,\n",
       "   'raw_content': None},\n",
       "  {'url': 'https://www.sohu.com/a/522547419_121123912',\n",
       "   'title': '钢结构、幕墙设计施工规范目录（更新至2022.2.5）_标准_建筑 - 搜狐',\n",
       "   'content': '《医药工业洁净厂房设计标准》GB50457-2019\\n\\n《涤纶化工厂设计标准》GB/T50508-2019\\n\\n《非织造布工厂设计规范》GB50514-2020\\n\\n《棉纶化工厂设计标准》GB/T50639-2019\\n\\n《机械工业厂房建筑设计规范》GB50681-2011\\n\\n《食品工业洁净用房建筑技术规范》GB50687-2011\\n\\n《机械工业厂房结构设计规范》GB50906-2013\\n\\n《门式刚架轻型房屋钢结构技术规范》GB51022-2015\\n\\n《有色金属工业厂房结构设计规范》GB51055-2014\\n\\n《机械工厂年时基数设计标准》GB/T51266-2017\\n\\n《门式刚架轻型房屋钢构件》JG144-2016\\n\\n《箱式钢结构集成模块建筑技术规程》T/CECS641-2019\\n\\n《角部连接装配式轻体板房屋技术标准》T/CECS708-2020\\n\\n《施工现场装配式轻钢结构活动板房技术规程》 DGJ32J54-2016（苏）\\n\\n5、多高层（钢砼组合）、高耸结构、装配式建筑\\n\\n《钢结构住宅主要构件尺寸指南》建设部公告2020年第178号\\n\\n《烟囱设计规范》GB50051-2013 [...] 《建筑采光设计标准》GB50033-2013\\n\\n《建筑结构可靠性设计统一标准》GB50068-2018\\n\\n《冷库设计标准》 GB50072-2021\\n\\n《民用建筑隔声设计规范》GB50118-2010\\n\\n《工程结构可靠性设计统一标准》GB50153-2008\\n\\n《数据中心设计规范》GB50174-2017\\n\\n《屋面工程技术规范》GB50345-2012\\n\\n《民用建筑设计统一标准》GB50352-2019\\n\\n《无缝钢管工程设计标准》GB/T50398-2018\\n\\n《型钢轧钢工程设计规范》GB50410-2014\\n\\n《航空发动机试车台设计标准》GB50454-2020\\n\\n《建筑工程分类标准》GB/T50841-2013\\n\\n《有色金属工程结构荷载规范》GB50959-2013\\n\\n《综合医院建筑设计规范》GB51039-2014\\n\\n《精神专科医院建筑设计规范》GB51058-2014\\n\\n《物流建筑设计规范》GB51157-2016\\n\\n_展开全文_\\n\\n《农业温室结构荷载规范》GB/T51183-2016\\n\\n《档案馆建筑设计规范》JGJ25-2010 [...] 《水运工程钢结构施工规范》 JTS203-2019\\n\\n《电除尘器钢结构设计规范》JB/T12127-2015\\n\\n《公路悬索桥、斜拉桥钢结构制造与安装工程质量检验评定标准》 T/CHTS10024-2020\\n\\n8、连接、焊接、施工、验收\\n\\n《焊缝符号表示法》GB/T324-2008\\n\\n《气焊、焊条电弧焊、气体保护焊和高能束焊的推荐坡口》GB/T985.1-2008\\n\\n《埋弧焊的推荐坡口》GB/T985.2-2008\\n\\n《钢结构工程施工质量验收标准》GB50205-2020\\n\\n《钢结构工程质量检验评定标准》GB50221-2001\\n\\n《钢结构焊接规范》GB50661-2011\\n\\n《钢结构焊接标准》 GB50661-202X（征求意见稿）\\n\\n《钢结构施工规范》 GB50755-2012\\n\\n《钢结构工程施工规范》 GB50755-202X（征求意见稿）\\n\\n《钢-混凝土组合结构施工规范》GB50901-2013\\n\\n《粮食钢板仓施工与质量验收规范》GB/T51239-2017\\n\\n《冷库施工及验收标准》GB51440-2021\\n\\n《建筑钢结构焊接技术规程》JGJ81-2002（作废）',\n",
       "   'score': 0.54710174,\n",
       "   'raw_content': None},\n",
       "  {'url': 'http://www.jianbiaoku.com/webarbs/book/263.shtml',\n",
       "   'title': '烟囱设计规范[附条文说明] GB50051-2013 建标库',\n",
       "   'content': '烟囱设计规范GB 50051-2013 · 1 总则 · 2 术语 · 3 基本规定 · 3.1 设计原则 · 3.2 设计规定 · 3.3 受热温度允许值 · 3.4 钢筋混凝土烟囱筒壁设计规定',\n",
       "   'score': 0.42993253,\n",
       "   'raw_content': None},\n",
       "  {'url': 'https://www.planning.org.cn/news/uploads/2019/09/5d79a6105eb1e_1568253456.pdf',\n",
       "   'title': '[PDF] 钢结构通用规范',\n",
       "   'content': '因覆冰引起的塔桅钢结构特别是输电线路事故每年多达数十次， 2008 年我国中部出现 了50 年一遇的特大覆冰灾害，造成10 多个省部分电力供应中断，灾后重建投资了100 多 亿。设计时充分考虑覆冰荷载的影响，可以最大限度地减少类似事故的发生。 本条采纳《高耸结构设计标准》GB50135-2006 第4.3.1 条有关内容。 5.4.4 绝大部分塔桅钢结构都是外露在大气中，需要有长效防腐机制，镀锌是目前通用的选 择。全寿命维护费用降低。在电力、广电、通信领域的塔桅钢结构一直采用热浸锌防腐，事 实证明，有着较理想的效果。 本条采纳《高耸结构设计标准》GB50135-201X 报批稿第5.1.5 条有关内容。 5.4.5 单圆钢管或单多边形钢管塔在通信领域和电力领域应用较广，应给出径厚比限值。单 管塔中钢管径厚比限值为400，但需局部稳定验算。 本条采纳 《高耸结构设计标准》 GB50135-201X 报批稿第5.6.2 条有关内容， 并参照 《烟 囱设计规范》GB50051-2013 的有关内容。 5.5.1 钢筒仓常用于建材、煤炭、冶金、化工、石化及粮食等行业中，其水平平面形状为圆 [...] 件发生变化，不再提供有效约束，造成上部结构变形及受力失稳，以至垮塌。此类破坏按照 《工程结构可靠性设计统一标准》GB50153-2008 的相关规定，这类破坏属于承载能力极限 状态范畴。 桥梁上部结构的约束边界条件是桥梁持久状况的基本条件， 国内外相关规范基本采用严 格控制边界条件的改变作为抗倾覆验算工况， 近年多座桥梁因此发生破坏或倾覆， 直接导致 重大事故。 桥梁在全生命周期内遇到的荷载是非常复杂的，计算难以完全覆盖（譬如超载、超大地 震等） ，而一些简单有效的构造措施往往可以起到重要的二道防线作用，避免灾难的发生。 本条与 《工程结构通用规范》 协调， 并参照 《公路桥涵通用设计规范》 JTG D60-2015 第 4.1.9 条， 《公路钢结构桥梁设计规范》JTG D64-2015 第4.2.2 条， 《钢-混凝土组合桥梁设计 规范》GB50917-2013 第4.5 节， 《AASHTO LRFD BRIDGE DESIGN SPECIFICATIONS》-2012 第5.5.4、5.6.2 条有关内容。 5.6.4 [...] 普通螺栓受拉连接应采用双螺帽或其他防止螺帽松动的有效措施。 4.6.4 由于建筑使用功能或其它因素，致使不能满足本规范的构造要求时，可以根据结构或 构件受力性能要求，通过计算分析调整构造措施。对于新型结构、构件、连接节点应通过 计算分析保证构造措施满足安全要求。 12 5 结构体系设计 5.1 门式刚架轻型房屋钢结构 5.1.1 门式刚架轻型房屋钢结构的跨度、高度、间距、屋面坡度等应合理确定，并应合理设 置纵向和横向温度区段，合理确定梁、柱的截面形式、尺寸及连接方式；当构件间采用高强 螺栓端板连接时，连接节点设计应包括连接螺栓设计、端板厚度确定以及节点域剪应力、连 接处腹板强度与节点刚度的验算。 5.1.2 门式刚架轻型房屋纵向应设置明确、可靠的传力体系。在每个温度区段或分期建设区 段，应设置合理的支撑系统，保证每个区段形成独立的稳定体系。 5.1.3 门式刚架可按平面结构分析内力；门式刚架应按弹性分析方法计算，当采用二阶弹性 分析时，应施加假想水平荷载。 5.1.4 门式刚架应对构件进行强度验算和平面内、平面外的稳定性验算；利用板件屈曲后强 度时应按有效宽度计算截面特性；',\n",
       "   'score': 0.33600467,\n",
       "   'raw_content': None},\n",
       "  {'url': 'https://zfcxjs.tj.gov.cn/ztzl_70/bzgf/xxbz/xxbzgfsj/202010/W020201029573138379516.pdf',\n",
       "   'title': '[PDF] 天津市民用建筑施工图设计审查要点',\n",
       "   'content': '《民用建筑电气设计规范》JGJ 16－2008 第8.10.14 条 D2.1.38 电缆桥架 布 线 要点 8.10.14 金属电缆桥架及其支架和引入或引出电缆的金属导管应可靠接地， 全长不应少于2 处与 接地保护导体(PE)相连。 D2.2 变电设备 编 号 项 目 设计审查依据及要点 依据 《20kV 及以下变电所设计规范》GB 50053-2013 第2.0.1 条 要点 2.0.1 变电所的所址应根据下列要求，经技术经济等因素综合分析和比较后确定： 5、不应设在有剧烈振动或高温的场所； 6、不宜设在多尘或有腐蚀性物质的场所，当无法远离时，不应设在污染源盛行风向的下风侧， 或应采取有效的防护措施； 7、不应设在厕所、浴室、厨房或或其他经常积水场所的正下方处，也不宜设在与上述场所相贴 邻的地方，当贴邻时，相邻的隔墙应做无渗漏、无结露的防水处理； 8、当与有爆炸或火灾危险的建筑物毗连时，变电所的所址应符合现行国家标准《爆炸和火灾危 险环境电力装置设计规范》GB50058 的有关规定。 9、不应设在地势低洼和可能积水的场所。 依据 《20kV 及以下变电所设计规范》GB [...] 项 目 设计审查依据及要点 依据 《疾病预防控制中心建筑技术规范》GB 50881－2013 第7.3.6 条 D6.5.37 房间通风 正负压的 控 制 要点 7.3.6 房间有严格正负压控制要求的空调通风系统，应设置通风系统启停次序的连锁控制装置。 依据 《疾病预防控制中心建筑技术规范》GB 50881－2013 第8.2.1 条 D6.5.38 疾控中心 负荷等级 要点 8.2.1 疾控中心的电力负荷分级除应满足现行国家标准《供配电系统设计规范》GB50052 的有关 规定外，尚应符合下列规定： 1 符合下列情况之一时，应视为一级负荷： 1） 三级及以上生物安全实验室用电； 2） 有大型仪器设备、具有洁净要求的实验室用电； 3） 保障三级及以上生物安全实验室、百级洁净室工作环境的用电； 4） 重要冷库用电； 5） 数据网络中心、通信中心、应急处理中心等场所的用电；上述用电场所的备用照明、疏散指 示照明等。 2 在一级负荷中，符合下列情况之一时，应视为一级负荷中特别重要负荷： 1） 数据网络中心、通信中心、应急处理中心的用电； 2） 必须连续运行的大型仪器设备的用电。 3 [...] 当自备发电机作为第二电源，且尚有第三电源为一级负荷中特别重要负荷供电时，以及当向 消防负荷、非消防一级负荷及一级负荷中特别重要负荷供电时，应以三者的计算负荷之和作为选用 自备发电机容量的依据。 依据 《民用建筑电气设计规范》JGJ 16－2008 第6.1.4、6.1.10、6.1.12 条 要点 6.1.4 设于地下层的柴油发电机组，其控制屏及其他电气设备宜选择防潮型产品。 6.1.10 柴油发电机组的自动化应符合下列规定： 1 机组与电力系统电源不应并网运行，并应设置可靠联锁。 6.1.12 柴油发电机房的照明、接地与通信应符合下列规定： 3 机房内的接地，宜采用共用接地； 4 燃油系统的设备与管道应采取防静电接地措施； 依据 《数据中心设计规范》GB50174-2017 第8.1.17 条 D2.1.13 发 电 机 要点 8.1.17 正常电源与备用电源之间的切换采用自动转换开关电器时，自动转换开关电器宜具备有 旁路功能，或采取其他措施，在自动转换开关电器检修或故障时，不应影响电源的切换。 依据 《供配电系统设计规范》GB50052－2009 第6.0.12 条',\n",
       "   'score': 0.2540696,\n",
       "   'raw_content': None}],\n",
       " 'response_time': 1.24}"
      ]
     },
     "execution_count": 102,
     "metadata": {},
     "output_type": "execute_result"
    }
   ],
   "source": [
    "response"
   ]
  },
  {
   "cell_type": "code",
   "execution_count": null,
   "id": "d666d58e",
   "metadata": {},
   "outputs": [],
   "source": []
  }
 ],
 "metadata": {
  "kernelspec": {
   "display_name": "Python 3",
   "language": "python",
   "name": "python3"
  },
  "language_info": {
   "codemirror_mode": {
    "name": "ipython",
    "version": 3
   },
   "file_extension": ".py",
   "mimetype": "text/x-python",
   "name": "python",
   "nbconvert_exporter": "python",
   "pygments_lexer": "ipython3",
   "version": "3.13.2"
  }
 },
 "nbformat": 4,
 "nbformat_minor": 5
}
