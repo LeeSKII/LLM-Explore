{
 "cells": [
  {
   "cell_type": "code",
   "execution_count": 11,
   "metadata": {},
   "outputs": [
    {
     "name": "stdout",
     "output_type": "stream",
     "text": [
      "[]\n"
     ]
    }
   ],
   "source": [
    "import requests\n",
    "def search_ddg(query):\n",
    "    url = \"https://api.duckduckgo.com/\"\n",
    "    params = {\"q\": query, \"format\": \"json\"}\n",
    "    response = requests.get(url, params=params)\n",
    "    return response.json()\n",
    "results = search_ddg(\"time\")\n",
    "print(results[\"RelatedTopics\"])"
   ]
  },
  {
   "cell_type": "code",
   "execution_count": 7,
   "metadata": {},
   "outputs": [
    {
     "data": {
      "text/plain": [
       "{'Abstract': '',\n",
       " 'AbstractSource': '',\n",
       " 'AbstractText': '',\n",
       " 'AbstractURL': '',\n",
       " 'Answer': '',\n",
       " 'AnswerType': '',\n",
       " 'Definition': '',\n",
       " 'DefinitionSource': '',\n",
       " 'DefinitionURL': '',\n",
       " 'Entity': '',\n",
       " 'Heading': '',\n",
       " 'Image': '',\n",
       " 'ImageHeight': '',\n",
       " 'ImageIsLogo': '',\n",
       " 'ImageWidth': '',\n",
       " 'Infobox': '',\n",
       " 'Redirect': '',\n",
       " 'RelatedTopics': [],\n",
       " 'Results': [],\n",
       " 'Type': '',\n",
       " 'meta': {'attribution': None,\n",
       "  'blockgroup': None,\n",
       "  'created_date': '2021-03-24',\n",
       "  'description': 'testing',\n",
       "  'designer': None,\n",
       "  'dev_date': '2021-03-24',\n",
       "  'dev_milestone': 'development',\n",
       "  'developer': [{'name': 'zt',\n",
       "    'type': 'duck.co',\n",
       "    'url': 'https://duck.co/user/zt'}],\n",
       "  'example_query': '',\n",
       "  'id': 'just_another_test',\n",
       "  'is_stackexchange': 0,\n",
       "  'js_callback_name': 'another_test',\n",
       "  'live_date': None,\n",
       "  'maintainer': {'github': ''},\n",
       "  'name': 'Just Another Test',\n",
       "  'perl_module': 'DDG::Lontail::AnotherTest',\n",
       "  'producer': None,\n",
       "  'production_state': 'offline',\n",
       "  'repo': 'fathead',\n",
       "  'signal_from': 'just_another_test',\n",
       "  'src_domain': 'how about there',\n",
       "  'src_id': None,\n",
       "  'src_name': 'hi there',\n",
       "  'src_options': {'directory': '',\n",
       "   'is_fanon': 0,\n",
       "   'is_mediawiki': 0,\n",
       "   'is_wikipedia': 0,\n",
       "   'language': '',\n",
       "   'min_abstract_length': None,\n",
       "   'skip_abstract': 0,\n",
       "   'skip_abstract_paren': 0,\n",
       "   'skip_icon': 0,\n",
       "   'skip_image_name': 0,\n",
       "   'skip_qr': '',\n",
       "   'src_info': '',\n",
       "   'src_skip': ''},\n",
       "  'src_url': 'Hello there',\n",
       "  'status': None,\n",
       "  'tab': 'is this source',\n",
       "  'topic': [],\n",
       "  'unsafe': None}}"
      ]
     },
     "execution_count": 7,
     "metadata": {},
     "output_type": "execute_result"
    }
   ],
   "source": [
    "results"
   ]
  },
  {
   "cell_type": "code",
   "execution_count": null,
   "metadata": {},
   "outputs": [],
   "source": []
  }
 ],
 "metadata": {
  "kernelspec": {
   "display_name": "Python 3",
   "language": "python",
   "name": "python3"
  },
  "language_info": {
   "codemirror_mode": {
    "name": "ipython",
    "version": 3
   },
   "file_extension": ".py",
   "mimetype": "text/x-python",
   "name": "python",
   "nbconvert_exporter": "python",
   "pygments_lexer": "ipython3",
   "version": "3.13.0"
  }
 },
 "nbformat": 4,
 "nbformat_minor": 2
}
