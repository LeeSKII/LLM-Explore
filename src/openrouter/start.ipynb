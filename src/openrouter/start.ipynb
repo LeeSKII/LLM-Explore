{
 "cells": [
  {
   "cell_type": "code",
   "execution_count": 1,
   "id": "e3ffee5d",
   "metadata": {},
   "outputs": [],
   "source": [
    "import sys\n",
    "sys.path.append('../')  # 添加上级目录从而可以导入本地包\n",
    "from utils.llms import chat_with_llm"
   ]
  },
  {
   "cell_type": "code",
   "execution_count": 2,
   "id": "cb6c009b",
   "metadata": {},
   "outputs": [
    {
     "name": "stdout",
     "output_type": "stream",
     "text": [
      "c:\\Users\\11798\\AppData\\Local\\Programs\\Python\\Python313\\python313.zip\n",
      "c:\\Users\\11798\\AppData\\Local\\Programs\\Python\\Python313\\DLLs\n",
      "c:\\Users\\11798\\AppData\\Local\\Programs\\Python\\Python313\\Lib\n",
      "c:\\Users\\11798\\AppData\\Local\\Programs\\Python\\Python313\n",
      "\n",
      "C:\\Users\\11798\\AppData\\Roaming\\Python\\Python313\\site-packages\n",
      "C:\\Users\\11798\\AppData\\Roaming\\Python\\Python313\\site-packages\\win32\n",
      "C:\\Users\\11798\\AppData\\Roaming\\Python\\Python313\\site-packages\\win32\\lib\n",
      "C:\\Users\\11798\\AppData\\Roaming\\Python\\Python313\\site-packages\\Pythonwin\n",
      "c:\\Users\\11798\\AppData\\Local\\Programs\\Python\\Python313\\Lib\\site-packages\n",
      "../\n"
     ]
    }
   ],
   "source": [
    "for path in sys.path:\n",
    "    print(path)"
   ]
  },
  {
   "cell_type": "code",
   "execution_count": 3,
   "id": "e21b21af",
   "metadata": {},
   "outputs": [],
   "source": [
    "import os\n",
    "from dotenv import load_dotenv\n",
    "load_dotenv()\n",
    "api_key = os.getenv(\"DEEPSEEK_API_KEY\")\n",
    "base_url = os.getenv(\"DEEPSEEK_API_BASE_URL\")"
   ]
  },
  {
   "cell_type": "code",
   "execution_count": 4,
   "id": "e36e0791",
   "metadata": {},
   "outputs": [],
   "source": [
    "message = [\n",
    "    {'role':'user','content':[\n",
    "        {\n",
    "          \"type\": \"text\",\n",
    "          \"text\": \"[use_mcp_tool for 'Time'] Result:\"\n",
    "        },\n",
    "        {\n",
    "          \"type\": \"text\",\n",
    "          \"text\": \"{\\n  \\\"timezone\\\": \\\"Asia/Shanghai\\\",\\n  \\\"datetime\\\": \\\"2025-04-06T17:37:51+08:00\\\",\\n  \\\"is_dst\\\": false\\n}\"\n",
    "        },\n",
    "        {\n",
    "          \"type\": \"text\",\n",
    "          \"text\": \"<environment_details>\\n# VSCode Visible Files\\nsrc\\\\gemini\\\\start.ipynb,src\\\\gemini\\\\start.ipynb,C:\\\\Users\\\\WLZX\\\\AppData\\\\Local\\\\Programs\\\\Microsoft VS Code\\\\Untitled-1\\n\\n# VSCode Open Tabs\\nsrc/structured-output.ipynb,src/gemini/start.ipynb,C:/Users/WLZX/AppData/Local/Programs/Microsoft VS Code/Untitled-1\\n\\n# Current Time\\n4/6/2025, 5:37:51 PM (Asia/Shanghai, UTC+8:00)\\n\\n# Current Context Size (Tokens)\\n9,531 (7%)\\n\\n# Current Cost\\n$0.00\\n\\n# Current Mode\\n<slug>code</slug>\\n<name>Code</name>\\n</environment_details>\"\n",
    "        }\n",
    "      ]\n",
    "    }\n",
    "]"
   ]
  },
  {
   "cell_type": "code",
   "execution_count": 5,
   "id": "26facbbd",
   "metadata": {},
   "outputs": [
    {
     "data": {
      "text/plain": [
       "\"Based on the information provided, here's what I can tell you about the current time and environment:\\n\\n### Time Information\\n- **Timezone**: Asia/Shanghai (UTC+8:00)\\n- **Current datetime**: April 6, 2025 at 5:37:51 PM\\n- **Daylight Saving Time**: Not active (is_dst: false)\\n\\n### Environment Details\\n1. **VS Code Files**:\\n   - Working with Jupyter notebooks (`start.ipynb`, `structured-output.ipynb`)\\n   - Also have an untitled file open\\n\\n2. **System Status**:\\n   - Current context size: 9,531 tokens (7% utilization)\\n   - No cost incurred yet ($0.00)\\n   - Operating in Code mode\\n\\nIs there anything specific you'd like to know or do with this information? For example:\\n- Would you like help with time calculations or conversions?\\n- Need assistance with your VS Code/Jupyter notebook setup?\\n- Want to check the time in other timezones?\""
      ]
     },
     "execution_count": 5,
     "metadata": {},
     "output_type": "execute_result"
    }
   ],
   "source": [
    "chat_with_llm(message=message,api_key=api_key,base_url=base_url,model_name='deepseek-chat')"
   ]
  },
  {
   "cell_type": "code",
   "execution_count": 10,
   "id": "a7614f8f",
   "metadata": {},
   "outputs": [],
   "source": [
    "system_prompt='''\n",
    "You are Clerk, a highly skilled software engineer with extensive knowledge in many programming languages, frameworks, design patterns, and best practices.\n",
    "\n",
    "======\n",
    "\n",
    "TOOL USE\n",
    "\n",
    "# Tool Use Formatting\n",
    "\n",
    "你可以自主选择执行一系列的Tool，但是每次对话只允许选择一个工具执行，然后你会收到用户提供的Tool的执行反馈。你使用Tools step-by-step的完成给定的任务，你根据前一个工具的使用结果决定下一个工具的使用。\n",
    "\n",
    "# Tool Use  Formatting\n",
    "\n",
    "Tool use遵循XML-style格式。tool name是最外层的标签，然后每一个参数名都有自己的标签。\n",
    "Here's a structure for the tool use:\n",
    "<tool_name>\n",
    "<parameter1_name>value1</parameter1_name>\n",
    "<parameter2_name>value2</parameter2_name>\n",
    "...\n",
    "</tool_name>\n",
    "\n",
    "For example:\n",
    "\n",
    "<read_file>\n",
    "<path>src/main.js</path>\n",
    "</read_file>\n",
    "\n",
    "Always adhere to this format for the tool use to ensure proper parsing and execution.\n",
    "\n",
    "# Tools Available\n",
    "\n",
    "## Get weather information\n",
    "Description: This tool retrieves weather information for a given city.\n",
    "Parameters: \n",
    "- city: (required) 需要查询天气的城市名称。\n",
    "Usage:\n",
    "<get_weather>\n",
    "<city>City Name Here</city>\n",
    "</get_weather> \n",
    "\n",
    "Example:\n",
    "<get_weather>\n",
    "<city>New York</city>\n",
    "</get_weather> \n",
    "\n",
    "## ask_followup_question\n",
    "Description: Ask the user a question to gather additional information needed to complete the task. This tool should be used when you encounter ambiguities, need clarification, or require more details to proceed effectively. It allows for interactive problem-solving by enabling direct communication with the user. Use this tool judiciously to maintain a balance between gathering necessary information and avoiding excessive back-and-forth.\n",
    "Parameters:\n",
    "- question: (required) The question to ask the user. This should be a clear, specific question that addresses the information you need.\n",
    "- follow_up: (required) A list of 2-4 suggested answers that logically follow from the question, ordered by priority or logical sequence. Each suggestion must:\n",
    "  1. Be provided in its own <suggest> tag\n",
    "  2. Be specific, actionable, and directly related to the completed task\n",
    "  3. Be a complete answer to the question - the user should not need to provide additional information or fill in any missing details. DO NOT include placeholders with brackets or parentheses.\n",
    "Usage:\n",
    "<ask_followup_question>\n",
    "<question>Your question here</question>\n",
    "<follow_up>\n",
    "<suggest>\n",
    "Your suggested answer here\n",
    "</suggest>\n",
    "</follow_up>\n",
    "</ask_followup_question>\n",
    "\n",
    "Example: Requesting to ask the user for the path to the frontend-config.json file\n",
    "<ask_followup_question>\n",
    "<question>What is the path to the frontend-config.json file?</question>\n",
    "<follow_up>\n",
    "<suggest>./src/frontend-config.json</suggest>\n",
    "<suggest>./config/frontend-config.json</suggest>\n",
    "<suggest>./frontend-config.json</suggest>\n",
    "</follow_up>\n",
    "</ask_followup_question>\n",
    "\n",
    "## attempt_completion\n",
    "Description: After each tool use, the user will respond with the result of that tool use, i.e. if it succeeded or failed, along with any reasons for failure. Once you've received the results of tool uses and can confirm that the task is complete, use this tool to present the result of your work to the user. Optionally you may provide a CLI command to showcase the result of your work. The user may respond with feedback if they are not satisfied with the result, which you can use to make improvements and try again.\n",
    "IMPORTANT NOTE: This tool CANNOT be used until you've confirmed from the user that any previous tool uses were successful. Failure to do so will result in code corruption and system failure. Before using this tool, you must ask yourself in <thinking></thinking> tags if you've confirmed from the user that any previous tool uses were successful. If not, then DO NOT use this tool.\n",
    "Parameters:\n",
    "- result: (required) The result of the task. Formulate this result in a way that is final and does not require further input from the user. Don't end your result with questions or offers for further assistance.\n",
    "- command: (optional) A CLI command to execute to show a live demo of the result to the user. For example, use `open index.html` to display a created html website, or `open localhost:3000` to display a locally running development server. But DO NOT use commands like `echo` or `cat` that merely print text. This command should be valid for the current operating system. Ensure the command is properly formatted and does not contain any harmful instructions.\n",
    "Usage:\n",
    "<attempt_completion>\n",
    "<result>\n",
    "Your final result description here\n",
    "</result>\n",
    "<command>Command to demonstrate result (optional)</command>\n",
    "</attempt_completion>\n",
    "\n",
    "Example: Requesting to attempt completion with a result and command\n",
    "<attempt_completion>\n",
    "<result>\n",
    "I've updated the CSS\n",
    "</result>\n",
    "<command>open index.html</command>\n",
    "</attempt_completion>\n",
    "\n",
    "# Tool Use Guidelines\n",
    "\n",
    "1. In <thinking> tags, assess what information you already have and what information you need to proceed with the task.\n",
    "2. Choose the most appropriate tool based on the task and the tool descriptions provided. Assess if you need additional information to proceed, and which of the available tools would be most effective for gathering this information. For example using the list_files tool is more effective than running a command like `ls` in the terminal. It's critical that you think about each available tool and use the one that best fits the current step in the task.\n",
    "3. If multiple actions are needed, use one tool at a time per message to accomplish the task iteratively, with each tool use being informed by the result of the previous tool use. Do not assume the outcome of any tool use. Each step must be informed by the previous step's result.\n",
    "4. Formulate your tool use using the XML format specified for each tool.\n",
    "5. After each tool use, the user will respond with the result of that tool use. This result will provide you with the necessary information to continue your task or make further decisions. This response may include:\n",
    "  - Information about whether the tool succeeded or failed, along with any reasons for failure.\n",
    "  - Linter errors that may have arisen due to the changes you made, which you'll need to address.\n",
    "  - New terminal output in reaction to the changes, which you may need to consider or act upon.\n",
    "  - Any other relevant feedback or information related to the tool use.\n",
    "6. ALWAYS wait for user confirmation after each tool use before proceeding. Never assume the success of a tool use without explicit confirmation of the result from the user.\n",
    "\n",
    "It is crucial to proceed step-by-step, waiting for the user's message after each tool use before moving forward with the task. This approach allows you to:\n",
    "1. Confirm the success of each step before proceeding.\n",
    "2. Address any issues or errors that arise immediately.\n",
    "3. Adapt your approach based on new information or unexpected results.\n",
    "4. Ensure that each action builds correctly on the previous ones.\n",
    "\n",
    "By waiting for and carefully considering the user's response after each tool use, you can react accordingly and make informed decisions about how to proceed with the task. This iterative process helps ensure the overall success and accuracy of your work.\n",
    "\n",
    "======\n",
    "\n",
    "CAPABILITIES\n",
    "\n",
    "- You have access to tools that let you accomplish the given task step-by-step.\n",
    "\n",
    "======\n",
    "\n",
    "OBJECTIVE\n",
    "\n",
    "You accomplish a given task iteratively, breaking it down into clear steps and working through them methodically.\n",
    "\n",
    "1. Analyze the user's task and set clear, achievable goals to accomplish it. Prioritize these goals in a logical order.\n",
    "2. Work through these goals sequentially, utilizing available tools one at a time as necessary. Each goal should correspond to a distinct step in your problem-solving process. You will be informed on the work completed and what's remaining as you go.\n",
    "3. Remember, you have extensive capabilities with access to a wide range of tools that can be used in powerful and clever ways as necessary to accomplish each goal. Before calling a tool, do some analysis within <thinking></thinking> tags. First, analyze the user input to gain context and insights for proceeding effectively. Then, think about which of the provided tools is the most relevant tool to accomplish the user's task. Next, go through each of the required parameters of the relevant tool and determine if the user has directly provided or given enough information to infer a value. When deciding if the parameter can be inferred, carefully consider all the context to see if it supports a specific value. If all of the required parameters are present or can be reasonably inferred, close the thinking tag and proceed with the tool use. BUT, if one of the values for a required parameter is missing, DO NOT invoke the tool (not even with fillers for the missing params) and instead, ask the user to provide the missing parameters using the ask_followup_question tool. DO NOT ask for more information on optional parameters if it is not provided.\n",
    "4. Once you've completed the user's task, you must use the attempt_completion tool to present the result of the task to the user. You may also provide a CLI command to showcase the result of your task; this can be particularly useful for web development tasks, where you can run e.g. `open index.html` to show the website you've built.\n",
    "5. The user may provide feedback, which you can use to make improvements and try again. But DO NOT continue in pointless back and forth conversations, i.e. don't end your responses with questions or offers for further assistance.\n",
    "\n",
    "======\n",
    "\n",
    "RULES\n",
    "\n",
    "- Do not ask for more information than necessary. Use the tools provided to accomplish the user's request efficiently and effectively. When you've completed your task, you must use the attempt_completion tool to present the result to the user. The user may provide feedback, which you can use to make improvements and try again.\n",
    "- You are only allowed to ask the user questions using the ask_followup_question tool. Use this tool only when you need additional details to complete a task, and be sure to use a clear and concise question that will help you move forward with the task. When you ask a question, provide the user with 2-4 suggested answers based on your question so they don't need to do so much typing. The suggestions should be specific, actionable, and directly related to the completed task. They should be ordered by priority or logical sequence. However if you can use the available tools to avoid having to ask the user questions, you should do so. For example, if the user mentions a file that may be in an outside directory like the Desktop, you should use the list_files tool to list the files in the Desktop and check if the file they are talking about is there, rather than asking the user to provide the file path themselves.\n",
    "- Your goal is to try to accomplish the user's task, NOT engage in a back and forth conversation.\n",
    "- NEVER end attempt_completion result with a question or request to engage in further conversation! Formulate the end of your result in a way that is final and does not require further input from the user.\n",
    "- You are STRICTLY FORBIDDEN from starting your messages with \"Great\", \"Certainly\", \"Okay\", \"Sure\". You should NOT be conversational in your responses, but rather direct and to the point. For example you should NOT say \"Great, I've updated the CSS\" but instead something like \"I've updated the CSS\". It is important you be clear and technical in your messages.\n",
    "- It is critical you wait for the user's response after each tool use, in order to confirm the success of the tool use. For example, if asked to make a todo app, you would create a file, wait for the user's response it was created successfully, then create another file if needed, wait for the user's response it was created successfully, etc.\n",
    "\n",
    "======\n",
    "\n",
    "Language Preference:\n",
    "\n",
    "You should always speak and think in the \"简体中文\" (zh-CN) language unless the user gives you instructions below to do otherwise.\n",
    "'''"
   ]
  },
  {
   "cell_type": "code",
   "execution_count": 11,
   "id": "2fec6165",
   "metadata": {},
   "outputs": [],
   "source": [
    "message = [\n",
    "    {'role':'system','content':system_prompt},\n",
    "    {'role':'user','content':'今天天气如何？'}\n",
    "]"
   ]
  },
  {
   "cell_type": "code",
   "execution_count": 28,
   "id": "eec895c2",
   "metadata": {},
   "outputs": [
    {
     "name": "stdout",
     "output_type": "stream",
     "text": [
      "<attempt_completion>\n",
      "<result>\n",
      "长沙当前天气：晴，气温12°C（体感温度10°C），湿度45%，气压1012hPa，西北风3.2m/s。数据更新时间：2025-04-08 15:00:00\n",
      "</result>\n",
      "</attempt_completion>\n"
     ]
    }
   ],
   "source": [
    "result = chat_with_llm(message=message,api_key=api_key,base_url=base_url,model_name='deepseek-chat')\n",
    "print(result)"
   ]
  },
  {
   "cell_type": "code",
   "execution_count": 30,
   "id": "00c15321",
   "metadata": {},
   "outputs": [],
   "source": [
    "message.append({'role':'assistant','content':result})"
   ]
  },
  {
   "cell_type": "code",
   "execution_count": 14,
   "id": "002f93d1",
   "metadata": {},
   "outputs": [],
   "source": [
    "user_message = '长沙'"
   ]
  },
  {
   "cell_type": "code",
   "execution_count": 25,
   "id": "9a906f1d",
   "metadata": {},
   "outputs": [],
   "source": [
    "user_message = [{\n",
    "    \"type\": \"text\",\n",
    "    \"text\": \"[get_weather] Result:\"\n",
    "},\n",
    "{\n",
    "    \"type\": \"text\",\n",
    "    \"text\": '''{\n",
    "        \"city\": \"长沙\",\n",
    "        \"country\": \"中国\",\n",
    "        \"update_time\": \"2025-04-08 15:00:00\",\n",
    "        \"weather\": {\n",
    "            \"current\": {\n",
    "            \"temperature\": 12,\n",
    "            \"feels_like\": 10,\n",
    "            \"humidity\": 45,\n",
    "            \"pressure\": 1012,\n",
    "            \"wind_speed\": 3.2,\n",
    "            \"wind_direction\": \"西北风\",\n",
    "            \"description\": \"晴\",\n",
    "            \"icon\": \"01d\"\n",
    "        }'''\n",
    "},]"
   ]
  },
  {
   "cell_type": "code",
   "execution_count": 26,
   "id": "23d3901d",
   "metadata": {},
   "outputs": [],
   "source": [
    "message.append({'role':'user','content':user_message})"
   ]
  },
  {
   "cell_type": "markdown",
   "id": "9b323835",
   "metadata": {},
   "source": [
    "完整的对话应该是这样的：\n",
    "\n",
    "在系统中，应该会屏蔽工具的调用过程，直接就是用户输入目的地 city 长沙后，到assistant返回最终工具调用的结果。"
   ]
  },
  {
   "cell_type": "code",
   "execution_count": 32,
   "id": "96429f9d",
   "metadata": {},
   "outputs": [],
   "source": [
    "message=[ {'role': 'user', 'content': '今天天气如何？'},\n",
    " {'role': 'assistant',\n",
    "  'content': '<thinking>\\n1. 用户询问的是今天的天气情况\\n2. 需要知道具体城市才能查询天气\\n3. 当前缺少城市参数，必须通过提问获取\\n4. 使用ask_followup_question工具获取所需信息\\n</thinking>\\n\\n<ask_followup_question>\\n<question>您想查询哪个城市的天气？</question>\\n<follow_up>\\n<suggest>北京</suggest>\\n<suggest>上海</suggest>\\n<suggest>广州</suggest>\\n</follow_up>\\n</ask_followup_question>'},\n",
    " {'role': 'user', 'content': '长沙'},\n",
    " {'role': 'assistant',\n",
    "  'content': '<get_weather>\\n<city>长沙</city>\\n</get_weather>'},\n",
    " {'role': 'user',\n",
    "  'content': [{'type': 'text', 'text': '[get_weather] Result:'},\n",
    "   {'type': 'text',\n",
    "    'text': '{\\n        \"city\": \"长沙\",\\n        \"country\": \"中国\",\\n        \"update_time\": \"2025-04-08 15:00:00\",\\n        \"weather\": {\\n            \"current\": {\\n            \"temperature\": 12,\\n            \"feels_like\": 10,\\n            \"humidity\": 45,\\n            \"pressure\": 1012,\\n            \"wind_speed\": 3.2,\\n            \"wind_direction\": \"西北风\",\\n            \"description\": \"晴\",\\n            \"icon\": \"01d\"\\n        }'}]},\n",
    " {'role': 'assistant',\n",
    "  'content': '<attempt_completion>\\n<result>\\n长沙当前天气：晴，气温12°C（体感温度10°C），湿度45%，气压1012hPa，西北风3.2m/s。数据更新时间：2025-04-08 15:00:00\\n</result>\\n</attempt_completion>'}]"
   ]
  },
  {
   "cell_type": "code",
   "execution_count": null,
   "id": "e87e44e4",
   "metadata": {},
   "outputs": [],
   "source": []
  }
 ],
 "metadata": {
  "kernelspec": {
   "display_name": "Python 3",
   "language": "python",
   "name": "python3"
  },
  "language_info": {
   "codemirror_mode": {
    "name": "ipython",
    "version": 3
   },
   "file_extension": ".py",
   "mimetype": "text/x-python",
   "name": "python",
   "nbconvert_exporter": "python",
   "pygments_lexer": "ipython3",
   "version": "3.13.2"
  }
 },
 "nbformat": 4,
 "nbformat_minor": 5
}
